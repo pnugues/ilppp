{
 "cells": [
  {
   "cell_type": "markdown",
   "metadata": {},
   "source": [
    "# Baseline part-of-speech tagger\n",
    "\n",
    "A baseline POS tagger that uses the most frequent part of speech to annotate the words\n",
    "\n",
    "Author: Pierre Nugues"
   ]
  },
  {
   "cell_type": "markdown",
   "metadata": {},
   "source": [
    "## Imports"
   ]
  },
  {
   "cell_type": "markdown",
   "metadata": {},
   "source": [
    "We import a CoNLL reader"
   ]
  },
  {
   "cell_type": "code",
   "execution_count": 1,
   "metadata": {},
   "outputs": [],
   "source": [
    "from conll_dictorizer import CoNLLDictorizer\n",
    "import regex as re\n",
    "from urllib.request import urlopen"
   ]
  },
  {
   "cell_type": "markdown",
   "metadata": {},
   "source": [
    "## Loading the corpus"
   ]
  },
  {
   "cell_type": "markdown",
   "metadata": {},
   "source": [
    "We load a corpus from Universal Dependencies: https://universaldependencies.org/"
   ]
  },
  {
   "cell_type": "markdown",
   "metadata": {},
   "source": [
    "### CONLL-U columns"
   ]
  },
  {
   "cell_type": "code",
   "execution_count": 2,
   "metadata": {},
   "outputs": [],
   "source": [
    "column_names = ['ID', 'FORM', 'LEMMA', 'UPOS', 'XPOS',\n",
    "                'FEATS', 'HEAD', 'DEPREL', 'HEAD', 'DEPS', 'MISC']\n",
    "\n",
    "column_names = list(map(str.lower, column_names))"
   ]
  },
  {
   "cell_type": "markdown",
   "metadata": {},
   "source": [
    "### The corpus"
   ]
  },
  {
   "cell_type": "code",
   "execution_count": 3,
   "metadata": {},
   "outputs": [],
   "source": [
    "lang = 'english'"
   ]
  },
  {
   "cell_type": "code",
   "execution_count": 4,
   "metadata": {},
   "outputs": [],
   "source": [
    "if lang == 'english':\n",
    "    url = 'https://raw.githubusercontent.com/UniversalDependencies/UD_English-EWT/master/'\n",
    "    train_file = url + 'en_ewt-ud-train.conllu'\n",
    "    dev_file = url + 'en_ewt-ud-dev.conllu'\n",
    "    test_file = url + 'en_ewt-ud-test.conllu'\n",
    "if lang == 'swedish':\n",
    "    url = 'https://raw.githubusercontent.com/UniversalDependencies/UD_Swedish-Talbanken/master/'\n",
    "    train_file = url + 'sv_talbanken-ud-train.conllu'\n",
    "    dev_file = url + 'sv_talbanken-ud-dev.conllu'\n",
    "    test_file = url + 'sv_talbanken-ud-test.conllu'\n",
    "if lang == 'french':    \n",
    "    url = 'https://raw.githubusercontent.com/UniversalDependencies/UD_French-GSD/master/'\n",
    "    train_file = url + 'fr_gsd-ud-train.conllu'\n",
    "    dev_file = url + 'fr_gsd-ud-dev.conllu'\n",
    "    test_file = url + 'fr_gsd-ud-test.conllu'\n",
    "if lang == 'persian':\n",
    "    url = 'https://raw.githubusercontent.com/UniversalDependencies/UD_Persian-PerDT/master/'\n",
    "    train_file = url + 'fa_perdt-ud-train.conllu'\n",
    "    dev_file = url + 'fa_perdt-ud-dev.conllu'\n",
    "    test_file = url + 'fa_perdt-ud-test.conllu'"
   ]
  },
  {
   "cell_type": "markdown",
   "metadata": {},
   "source": [
    "We load it from GitHub"
   ]
  },
  {
   "cell_type": "code",
   "execution_count": 5,
   "metadata": {},
   "outputs": [],
   "source": [
    "train_sentences = urlopen(train_file).read().decode('utf-8').strip()\n",
    "dev_sentences = urlopen(dev_file).read().decode('utf-8').strip()\n",
    "test_sentences = urlopen(test_file).read().decode('utf-8').strip()\n",
    "\n",
    "conll_dict = CoNLLDictorizer(column_names)\n",
    "train_dict = conll_dict.transform(train_sentences)\n",
    "dev_dict = conll_dict.transform(dev_sentences)\n",
    "test_dict = conll_dict.transform(test_sentences)"
   ]
  },
  {
   "cell_type": "markdown",
   "metadata": {},
   "source": [
    "### Looking at the corpus"
   ]
  },
  {
   "cell_type": "markdown",
   "metadata": {},
   "source": [
    "Printing some sentences"
   ]
  },
  {
   "cell_type": "code",
   "execution_count": 6,
   "metadata": {},
   "outputs": [
    {
     "name": "stdout",
     "output_type": "stream",
     "text": [
      "First sentence: [{'id': '1', 'form': 'Al', 'lemma': 'Al', 'upos': 'PROPN', 'xpos': 'NNP', 'feats': 'Number=Sing', 'head': '0:root', 'deprel': 'root', 'deps': 'SpaceAfter=No'}, {'id': '2', 'form': '-', 'lemma': '-', 'upos': 'PUNCT', 'xpos': 'HYPH', 'feats': '_', 'head': '1:punct', 'deprel': 'punct', 'deps': 'SpaceAfter=No'}, {'id': '3', 'form': 'Zaman', 'lemma': 'Zaman', 'upos': 'PROPN', 'xpos': 'NNP', 'feats': 'Number=Sing', 'head': '1:flat', 'deprel': 'flat', 'deps': '_'}, {'id': '4', 'form': ':', 'lemma': ':', 'upos': 'PUNCT', 'xpos': ':', 'feats': '_', 'head': '1:punct', 'deprel': 'punct', 'deps': '_'}, {'id': '5', 'form': 'American', 'lemma': 'American', 'upos': 'ADJ', 'xpos': 'JJ', 'feats': 'Degree=Pos', 'head': '6:amod', 'deprel': 'amod', 'deps': '_'}, {'id': '6', 'form': 'forces', 'lemma': 'force', 'upos': 'NOUN', 'xpos': 'NNS', 'feats': 'Number=Plur', 'head': '7:nsubj', 'deprel': 'nsubj', 'deps': '_'}, {'id': '7', 'form': 'killed', 'lemma': 'kill', 'upos': 'VERB', 'xpos': 'VBD', 'feats': 'Mood=Ind|Tense=Past|VerbForm=Fin', 'head': '1:parataxis', 'deprel': 'parataxis', 'deps': '_'}, {'id': '8', 'form': 'Shaikh', 'lemma': 'Shaikh', 'upos': 'PROPN', 'xpos': 'NNP', 'feats': 'Number=Sing', 'head': '7:obj', 'deprel': 'obj', 'deps': '_'}, {'id': '9', 'form': 'Abdullah', 'lemma': 'Abdullah', 'upos': 'PROPN', 'xpos': 'NNP', 'feats': 'Number=Sing', 'head': '8:flat', 'deprel': 'flat', 'deps': '_'}, {'id': '10', 'form': 'al', 'lemma': 'al', 'upos': 'PROPN', 'xpos': 'NNP', 'feats': 'Number=Sing', 'head': '8:flat', 'deprel': 'flat', 'deps': 'SpaceAfter=No'}, {'id': '11', 'form': '-', 'lemma': '-', 'upos': 'PUNCT', 'xpos': 'HYPH', 'feats': '_', 'head': '8:punct', 'deprel': 'punct', 'deps': 'SpaceAfter=No'}, {'id': '12', 'form': 'Ani', 'lemma': 'Ani', 'upos': 'PROPN', 'xpos': 'NNP', 'feats': 'Number=Sing', 'head': '8:flat', 'deprel': 'flat', 'deps': 'SpaceAfter=No'}, {'id': '13', 'form': ',', 'lemma': ',', 'upos': 'PUNCT', 'xpos': ',', 'feats': '_', 'head': '8:punct', 'deprel': 'punct', 'deps': '_'}, {'id': '14', 'form': 'the', 'lemma': 'the', 'upos': 'DET', 'xpos': 'DT', 'feats': 'Definite=Def|PronType=Art', 'head': '15:det', 'deprel': 'det', 'deps': '_'}, {'id': '15', 'form': 'preacher', 'lemma': 'preacher', 'upos': 'NOUN', 'xpos': 'NN', 'feats': 'Number=Sing', 'head': '8:appos', 'deprel': 'appos', 'deps': '_'}, {'id': '16', 'form': 'at', 'lemma': 'at', 'upos': 'ADP', 'xpos': 'IN', 'feats': '_', 'head': '18:case', 'deprel': 'case', 'deps': '_'}, {'id': '17', 'form': 'the', 'lemma': 'the', 'upos': 'DET', 'xpos': 'DT', 'feats': 'Definite=Def|PronType=Art', 'head': '18:det', 'deprel': 'det', 'deps': '_'}, {'id': '18', 'form': 'mosque', 'lemma': 'mosque', 'upos': 'NOUN', 'xpos': 'NN', 'feats': 'Number=Sing', 'head': '7:obl:at', 'deprel': 'obl', 'deps': '_'}, {'id': '19', 'form': 'in', 'lemma': 'in', 'upos': 'ADP', 'xpos': 'IN', 'feats': '_', 'head': '21:case', 'deprel': 'case', 'deps': '_'}, {'id': '20', 'form': 'the', 'lemma': 'the', 'upos': 'DET', 'xpos': 'DT', 'feats': 'Definite=Def|PronType=Art', 'head': '21:det', 'deprel': 'det', 'deps': '_'}, {'id': '21', 'form': 'town', 'lemma': 'town', 'upos': 'NOUN', 'xpos': 'NN', 'feats': 'Number=Sing', 'head': '18:nmod:in', 'deprel': 'nmod', 'deps': '_'}, {'id': '22', 'form': 'of', 'lemma': 'of', 'upos': 'ADP', 'xpos': 'IN', 'feats': '_', 'head': '23:case', 'deprel': 'case', 'deps': '_'}, {'id': '23', 'form': 'Qaim', 'lemma': 'Qaim', 'upos': 'PROPN', 'xpos': 'NNP', 'feats': 'Number=Sing', 'head': '21:nmod:of', 'deprel': 'nmod', 'deps': 'SpaceAfter=No'}, {'id': '24', 'form': ',', 'lemma': ',', 'upos': 'PUNCT', 'xpos': ',', 'feats': '_', 'head': '21:punct', 'deprel': 'punct', 'deps': '_'}, {'id': '25', 'form': 'near', 'lemma': 'near', 'upos': 'ADP', 'xpos': 'IN', 'feats': '_', 'head': '28:case', 'deprel': 'case', 'deps': '_'}, {'id': '26', 'form': 'the', 'lemma': 'the', 'upos': 'DET', 'xpos': 'DT', 'feats': 'Definite=Def|PronType=Art', 'head': '28:det', 'deprel': 'det', 'deps': '_'}, {'id': '27', 'form': 'Syrian', 'lemma': 'Syrian', 'upos': 'ADJ', 'xpos': 'JJ', 'feats': 'Degree=Pos', 'head': '28:amod', 'deprel': 'amod', 'deps': '_'}, {'id': '28', 'form': 'border', 'lemma': 'border', 'upos': 'NOUN', 'xpos': 'NN', 'feats': 'Number=Sing', 'head': '21:nmod:near', 'deprel': 'nmod', 'deps': 'SpaceAfter=No'}, {'id': '29', 'form': '.', 'lemma': '.', 'upos': 'PUNCT', 'xpos': '.', 'feats': '_', 'head': '1:punct', 'deprel': 'punct', 'deps': '_'}]\n",
      "First word: {'id': '1', 'form': 'Al', 'lemma': 'Al', 'upos': 'PROPN', 'xpos': 'NNP', 'feats': 'Number=Sing', 'head': '0:root', 'deprel': 'root', 'deps': 'SpaceAfter=No'}\n",
      "Type of the first word <class 'conll_dictorizer.Token'>\n",
      "Form of the first word Al\n",
      "Second sentence: [{'id': '1', 'form': '[', 'lemma': '[', 'upos': 'PUNCT', 'xpos': '-LRB-', 'feats': '_', 'head': '10:punct', 'deprel': 'punct', 'deps': 'SpaceAfter=No'}, {'id': '2', 'form': 'This', 'lemma': 'this', 'upos': 'DET', 'xpos': 'DT', 'feats': 'Number=Sing|PronType=Dem', 'head': '3:det', 'deprel': 'det', 'deps': '_'}, {'id': '3', 'form': 'killing', 'lemma': 'killing', 'upos': 'NOUN', 'xpos': 'NN', 'feats': 'Number=Sing', 'head': '10:nsubj', 'deprel': 'nsubj', 'deps': '_'}, {'id': '4', 'form': 'of', 'lemma': 'of', 'upos': 'ADP', 'xpos': 'IN', 'feats': '_', 'head': '7:case', 'deprel': 'case', 'deps': '_'}, {'id': '5', 'form': 'a', 'lemma': 'a', 'upos': 'DET', 'xpos': 'DT', 'feats': 'Definite=Ind|PronType=Art', 'head': '7:det', 'deprel': 'det', 'deps': '_'}, {'id': '6', 'form': 'respected', 'lemma': 'respected', 'upos': 'ADJ', 'xpos': 'JJ', 'feats': 'Degree=Pos', 'head': '7:amod', 'deprel': 'amod', 'deps': '_'}, {'id': '7', 'form': 'cleric', 'lemma': 'cleric', 'upos': 'NOUN', 'xpos': 'NN', 'feats': 'Number=Sing', 'head': '3:nmod:of', 'deprel': 'nmod', 'deps': '_'}, {'id': '8', 'form': 'will', 'lemma': 'will', 'upos': 'AUX', 'xpos': 'MD', 'feats': 'VerbForm=Fin', 'head': '10:aux', 'deprel': 'aux', 'deps': '_'}, {'id': '9', 'form': 'be', 'lemma': 'be', 'upos': 'AUX', 'xpos': 'VB', 'feats': 'VerbForm=Inf', 'head': '10:aux', 'deprel': 'aux', 'deps': '_'}, {'id': '10', 'form': 'causing', 'lemma': 'cause', 'upos': 'VERB', 'xpos': 'VBG', 'feats': 'VerbForm=Ger', 'head': '0:root', 'deprel': 'root', 'deps': '_'}, {'id': '11', 'form': 'us', 'lemma': 'we', 'upos': 'PRON', 'xpos': 'PRP', 'feats': 'Case=Acc|Number=Plur|Person=1|PronType=Prs', 'head': '10:iobj', 'deprel': 'iobj', 'deps': '_'}, {'id': '12', 'form': 'trouble', 'lemma': 'trouble', 'upos': 'NOUN', 'xpos': 'NN', 'feats': 'Number=Sing', 'head': '10:obj', 'deprel': 'obj', 'deps': '_'}, {'id': '13', 'form': 'for', 'lemma': 'for', 'upos': 'ADP', 'xpos': 'IN', 'feats': '_', 'head': '14:case', 'deprel': 'case', 'deps': '_'}, {'id': '14', 'form': 'years', 'lemma': 'year', 'upos': 'NOUN', 'xpos': 'NNS', 'feats': 'Number=Plur', 'head': '10:obl:for', 'deprel': 'obl', 'deps': '_'}, {'id': '15', 'form': 'to', 'lemma': 'to', 'upos': 'PART', 'xpos': 'TO', 'feats': '_', 'head': '16:mark', 'deprel': 'mark', 'deps': '_'}, {'id': '16', 'form': 'come', 'lemma': 'come', 'upos': 'VERB', 'xpos': 'VB', 'feats': 'VerbForm=Inf', 'head': '14:acl:to', 'deprel': 'acl', 'deps': 'SpaceAfter=No'}, {'id': '17', 'form': '.', 'lemma': '.', 'upos': 'PUNCT', 'xpos': '.', 'feats': '_', 'head': '10:punct', 'deprel': 'punct', 'deps': 'SpaceAfter=No'}, {'id': '18', 'form': ']', 'lemma': ']', 'upos': 'PUNCT', 'xpos': '-RRB-', 'feats': '_', 'head': '10:punct', 'deprel': 'punct', 'deps': '_'}]\n"
     ]
    }
   ],
   "source": [
    "print('First sentence:', train_dict[0])\n",
    "print('First word:', train_dict[0][0])\n",
    "print('Type of the first word', type(train_dict[0][0]))\n",
    "print('Form of the first word', train_dict[0][0]['form'])\n",
    "print('Second sentence:', train_dict[1])"
   ]
  },
  {
   "cell_type": "markdown",
   "metadata": {},
   "source": [
    "## Word/POS distribution functions"
   ]
  },
  {
   "cell_type": "markdown",
   "metadata": {},
   "source": [
    "We extract the word/POS statistics from the corpus. We proceed in two steps:\n",
    "1. We count the words\n",
    "2. We count the POS per word\n",
    "\n",
    "This corresponds to the two functions below"
   ]
  },
  {
   "cell_type": "code",
   "execution_count": 7,
   "metadata": {},
   "outputs": [],
   "source": [
    "def count_word(corpus, word_key='form'):\n",
    "    \"\"\"\n",
    "    Computes the word distribution\n",
    "    in a CoNLL file\n",
    "    :param corpus:\n",
    "    :return:\n",
    "    \"\"\"\n",
    "    word_cnt = {}\n",
    "    for sentence in corpus:\n",
    "        for row in sentence:\n",
    "            if row[word_key] in word_cnt:\n",
    "                word_cnt[row[word_key]] += 1\n",
    "            else:\n",
    "                word_cnt[row[word_key]] = 1\n",
    "    return word_cnt"
   ]
  },
  {
   "cell_type": "code",
   "execution_count": 8,
   "metadata": {},
   "outputs": [],
   "source": [
    "def distribution(corpus, word_key='form', pos_key='upos'):\n",
    "    \"\"\"\n",
    "    Computes the pos distribution by word\n",
    "    The result is stored in a dictionary\n",
    "    :param corpus:\n",
    "    :return:\n",
    "    \"\"\"\n",
    "    \n",
    "    word_cnt = count_word(corpus, word_key)\n",
    "    \n",
    "    # We compute the POS distribution by word\n",
    "    pos_dist = {key: {} for key in word_cnt.keys()}\n",
    "    for sentence in corpus:\n",
    "        for row in sentence:\n",
    "            distribution = pos_dist[row[word_key]]\n",
    "            if row[pos_key] in distribution:\n",
    "                distribution[row[pos_key]] += 1\n",
    "            else:\n",
    "                distribution[row[pos_key]] = 1\n",
    "    return pos_dist"
   ]
  },
  {
   "cell_type": "markdown",
   "metadata": {},
   "source": [
    "## The word/POS association"
   ]
  },
  {
   "cell_type": "markdown",
   "metadata": {},
   "source": [
    "Now we compute the word/POS association"
   ]
  },
  {
   "cell_type": "code",
   "execution_count": 9,
   "metadata": {},
   "outputs": [],
   "source": [
    "pos_dist = distribution(train_dict)"
   ]
  },
  {
   "cell_type": "code",
   "execution_count": 10,
   "metadata": {},
   "outputs": [
    {
     "name": "stdout",
     "output_type": "stream",
     "text": [
      "{'NOUN': 9, 'VERB': 26}\n"
     ]
    }
   ],
   "source": [
    "if lang == 'english':\n",
    "    print(pos_dist.get('move'))\n",
    "elif lang == 'swedish':\n",
    "    print(pos_dist.get('den'))\n",
    "elif lang == 'french':\n",
    "    print(pos_dist.get('le'))"
   ]
  },
  {
   "cell_type": "code",
   "execution_count": 11,
   "metadata": {},
   "outputs": [],
   "source": [
    "# We determine the best association\n",
    "word_pos = {}\n",
    "for word in pos_dist:\n",
    "    word_pos[word] = max(pos_dist[word], key=pos_dist[word].get)"
   ]
  },
  {
   "cell_type": "code",
   "execution_count": 12,
   "metadata": {},
   "outputs": [
    {
     "name": "stdout",
     "output_type": "stream",
     "text": [
      "VERB\n"
     ]
    }
   ],
   "source": [
    "if lang == 'english':\n",
    "    print(word_pos.get('move'))\n",
    "elif lang == 'swedish':   \n",
    "    print(word_pos.get('den'))\n",
    "elif lang == 'french':\n",
    "    print(word_pos.get('le'))"
   ]
  },
  {
   "cell_type": "markdown",
   "metadata": {},
   "source": [
    "## Unknown words"
   ]
  },
  {
   "cell_type": "markdown",
   "metadata": {},
   "source": [
    "In a text, we will certainly encounter unseen words. What is their most frequent part of speech? We use the development set to determine the POS distribution of these unseen words."
   ]
  },
  {
   "cell_type": "code",
   "execution_count": 13,
   "metadata": {},
   "outputs": [],
   "source": [
    "def unseen_words_pos_distribution(sentences, word_pos, word_key='form', pos_key='upos'):\n",
    "    unseen_words = {}\n",
    "    for sentence in sentences:\n",
    "        for word in sentence:\n",
    "            if not word[word_key] in word_pos:\n",
    "                if word[pos_key] in unseen_words:\n",
    "                    unseen_words[word[pos_key]] += 1\n",
    "                else:\n",
    "                    unseen_words[word[pos_key]] = 1\n",
    "    return unseen_words"
   ]
  },
  {
   "cell_type": "code",
   "execution_count": 14,
   "metadata": {},
   "outputs": [
    {
     "data": {
      "text/plain": [
       "{'NOUN': 621,\n",
       " 'PROPN': 737,\n",
       " 'ADJ': 189,\n",
       " 'X': 101,\n",
       " '_': 66,\n",
       " 'VERB': 207,\n",
       " 'ADV': 44,\n",
       " 'NUM': 109,\n",
       " 'INTJ': 19,\n",
       " 'ADP': 4,\n",
       " 'PRON': 8,\n",
       " 'SCONJ': 6,\n",
       " 'SYM': 9,\n",
       " 'PUNCT': 24,\n",
       " 'AUX': 5,\n",
       " 'DET': 3,\n",
       " 'CCONJ': 2}"
      ]
     },
     "execution_count": 14,
     "metadata": {},
     "output_type": "execute_result"
    }
   ],
   "source": [
    "unseen_dist = unseen_words_pos_distribution(dev_dict, word_pos)\n",
    "unseen_dist"
   ]
  },
  {
   "cell_type": "code",
   "execution_count": 15,
   "metadata": {},
   "outputs": [
    {
     "data": {
      "text/plain": [
       "'PROPN'"
      ]
     },
     "execution_count": 15,
     "metadata": {},
     "output_type": "execute_result"
    }
   ],
   "source": [
    "default_pos = max(unseen_dist, key=unseen_dist.get)\n",
    "default_pos"
   ]
  },
  {
   "cell_type": "markdown",
   "metadata": {},
   "source": [
    "## The prediction"
   ]
  },
  {
   "cell_type": "markdown",
   "metadata": {},
   "source": [
    "We use the best association to predict the part of speech. If the word is unseen, we assign a predefined POS. We add a key to the dictionaries for the predicted part of speech."
   ]
  },
  {
   "cell_type": "code",
   "execution_count": 16,
   "metadata": {},
   "outputs": [],
   "source": [
    "def predict(sentences, word_pos, word_key='form', ppos_key='ppos', default_pos='PROPN'):\n",
    "    for sentence in sentences:\n",
    "        for word in sentence:\n",
    "            if word[word_key] in word_pos:\n",
    "                word[ppos_key] = word_pos[word[word_key]]\n",
    "            else:\n",
    "                word[ppos_key] = default_pos\n",
    "    return sentences"
   ]
  },
  {
   "cell_type": "code",
   "execution_count": 17,
   "metadata": {},
   "outputs": [],
   "source": [
    "word_key = 'form'\n",
    "ppos_key = 'ppos'"
   ]
  },
  {
   "cell_type": "code",
   "execution_count": 18,
   "metadata": {},
   "outputs": [
    {
     "data": {
      "text/plain": [
       "[{'id': '1',\n",
       "  'form': 'What',\n",
       "  'lemma': 'what',\n",
       "  'upos': 'PRON',\n",
       "  'xpos': 'WP',\n",
       "  'feats': 'PronType=Int',\n",
       "  'head': '0:root',\n",
       "  'deprel': 'root',\n",
       "  'deps': '_',\n",
       "  'ppos': 'PRON'},\n",
       " {'id': '2',\n",
       "  'form': 'if',\n",
       "  'lemma': 'if',\n",
       "  'upos': 'SCONJ',\n",
       "  'xpos': 'IN',\n",
       "  'feats': '_',\n",
       "  'head': '4:mark',\n",
       "  'deprel': 'mark',\n",
       "  'deps': '_',\n",
       "  'ppos': 'SCONJ'},\n",
       " {'id': '3',\n",
       "  'form': 'Google',\n",
       "  'lemma': 'Google',\n",
       "  'upos': 'PROPN',\n",
       "  'xpos': 'NNP',\n",
       "  'feats': 'Number=Sing',\n",
       "  'head': '4:nsubj',\n",
       "  'deprel': 'nsubj',\n",
       "  'deps': '_',\n",
       "  'ppos': 'PROPN'},\n",
       " {'id': '4',\n",
       "  'form': 'Morphed',\n",
       "  'lemma': 'morph',\n",
       "  'upos': 'VERB',\n",
       "  'xpos': 'VBD',\n",
       "  'feats': 'Mood=Ind|Tense=Past|VerbForm=Fin',\n",
       "  'head': '1:advcl:if',\n",
       "  'deprel': 'advcl',\n",
       "  'deps': '_',\n",
       "  'ppos': 'PROPN'},\n",
       " {'id': '5',\n",
       "  'form': 'Into',\n",
       "  'lemma': 'into',\n",
       "  'upos': 'ADP',\n",
       "  'xpos': 'IN',\n",
       "  'feats': '_',\n",
       "  'head': '6:case',\n",
       "  'deprel': 'case',\n",
       "  'deps': '_',\n",
       "  'ppos': 'ADP'},\n",
       " {'id': '6',\n",
       "  'form': 'GoogleOS',\n",
       "  'lemma': 'GoogleOS',\n",
       "  'upos': 'PROPN',\n",
       "  'xpos': 'NNP',\n",
       "  'feats': 'Number=Sing',\n",
       "  'head': '4:obl:into',\n",
       "  'deprel': 'obl',\n",
       "  'deps': 'SpaceAfter=No',\n",
       "  'ppos': 'PROPN'},\n",
       " {'id': '7',\n",
       "  'form': '?',\n",
       "  'lemma': '?',\n",
       "  'upos': 'PUNCT',\n",
       "  'xpos': '.',\n",
       "  'feats': '_',\n",
       "  'head': '4:punct',\n",
       "  'deprel': 'punct',\n",
       "  'deps': '_',\n",
       "  'ppos': 'PUNCT'}]"
      ]
     },
     "execution_count": 18,
     "metadata": {},
     "output_type": "execute_result"
    }
   ],
   "source": [
    "test_annotated = predict(test_dict, word_pos, word_key=word_key, ppos_key=ppos_key, default_pos=default_pos)\n",
    "test_annotated[0]"
   ]
  },
  {
   "cell_type": "markdown",
   "metadata": {},
   "source": [
    "## Evaluation"
   ]
  },
  {
   "cell_type": "markdown",
   "metadata": {},
   "source": [
    "We carry out the evaluation by comparing the value of two keys: the truth and the prediction"
   ]
  },
  {
   "cell_type": "code",
   "execution_count": 19,
   "metadata": {},
   "outputs": [],
   "source": [
    "def evaluate(sentences, truth_key='upos', pred_key='ppos'):\n",
    "    \"\"\"\n",
    "    Computes the accuracy\n",
    "    :param sentences:\n",
    "    :param gold:\n",
    "    :param system:\n",
    "    :return:\n",
    "    \"\"\"\n",
    "    bad = 0\n",
    "    good = 0\n",
    "    for sentence in sentences:\n",
    "        for word in sentence:\n",
    "            if word[truth_key] == word[pred_key]:\n",
    "                good += 1\n",
    "            else:\n",
    "                bad += 1\n",
    "    return good, bad"
   ]
  },
  {
   "cell_type": "code",
   "execution_count": 20,
   "metadata": {},
   "outputs": [],
   "source": [
    "truth_key = 'upos'\n",
    "pred_key = ppos_key"
   ]
  },
  {
   "cell_type": "code",
   "execution_count": 21,
   "metadata": {},
   "outputs": [
    {
     "name": "stdout",
     "output_type": "stream",
     "text": [
      "Accuracy: 0.8602239245727755\n"
     ]
    }
   ],
   "source": [
    "good, bad = evaluate(test_annotated, truth_key=truth_key, pred_key=pred_key)\n",
    "print('Accuracy:', good / (good + bad))"
   ]
  }
 ],
 "metadata": {
  "kernelspec": {
   "display_name": "Python 3 (ipykernel)",
   "language": "python",
   "name": "python3"
  },
  "language_info": {
   "codemirror_mode": {
    "name": "ipython",
    "version": 3
   },
   "file_extension": ".py",
   "mimetype": "text/x-python",
   "name": "python",
   "nbconvert_exporter": "python",
   "pygments_lexer": "ipython3",
   "version": "3.8.11"
  }
 },
 "nbformat": 4,
 "nbformat_minor": 4
}
