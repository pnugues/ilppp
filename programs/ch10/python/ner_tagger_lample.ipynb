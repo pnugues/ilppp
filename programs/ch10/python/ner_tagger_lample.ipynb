{
 "cells": [
  {
   "cell_type": "markdown",
   "metadata": {},
   "source": [
    "# Named-Entity Recognition\n",
    "Implementation of a NER tagger following the paper _Neural Architectures for Named Entity Recognition_ from 2016 by Lample, Ballesteros, Subramanian, Kawakami, and Dyer.\n",
    "\n",
    "Author: Pierre Nugues"
   ]
  },
  {
   "cell_type": "markdown",
   "metadata": {},
   "source": [
    "## A note on the performance"
   ]
  },
  {
   "cell_type": "markdown",
   "metadata": {},
   "source": [
    "Lample et .al reported a F1 performance of 89.15 without CRF and 90.94 with CRF. A paper by Nils Reimers and Iryna Gurevych (2017), _Reporting Score Distributions Makes a Difference: Performance Study of LSTM-networks for Sequence Tagging_, shows that the median performance is slightly lower topping at 90.81. Lample et .al used skip-n-grams; we use Glove here.\n",
    "\n",
    "Guillaume Lample's implementation with Theano and Python 2 is available here: https://github.com/glample/tagger"
   ]
  },
  {
   "cell_type": "markdown",
   "metadata": {},
   "source": [
    "## Imports"
   ]
  },
  {
   "cell_type": "code",
   "execution_count": 1,
   "metadata": {},
   "outputs": [],
   "source": [
    "import regex as re\n",
    "import numpy as np\n",
    "import statistics\n",
    "import random\n",
    "import matplotlib.pyplot as plt\n",
    "from sklearn import base\n",
    "import tensorflow as tf\n",
    "from tensorflow.keras import Input\n",
    "from tensorflow.keras.models import Model, load_model\n",
    "from tensorflow.keras.layers import Embedding, Dense, Dropout, TimeDistributed, concatenate\n",
    "from tensorflow.keras.layers import LSTM, Bidirectional\n",
    "from tensorflow.keras.initializers import RandomUniform\n",
    "# from tf2crf import CRF, ModelWithCRFLoss\n",
    "from tensorflow.keras.callbacks import EarlyStopping\n",
    "from tensorflow.keras.preprocessing.sequence import pad_sequences\n",
    "from collections import Counter\n",
    "from tqdm import tqdm\n",
    "\n",
    "\n",
    "EPOCHS = 100\n",
    "CHAR_LSTM_UNITS = 25\n",
    "LSTM_UNITS = 100\n",
    "EMBEDDING_DIM = 100\n",
    "CHAR_EMBEDDING_DIM = 25\n",
    "RAND_INIT_RANGE = 0.05\n",
    "PROB_SUBST = 0.5\n",
    "BATCH_SIZE = 32\n",
    "PATIENCE = 30\n",
    "BINS = True\n",
    "LOWER = True    # Tells if the words will be lowercased or not. \n",
    "                # This should match the embeddings case. We do not lowercase the character input\n",
    "\n",
    "# Defaults\n",
    "MAX_SENT_LEN_TRAIN = 150\n",
    "MAX_SENT_LEN_DEV = 150\n",
    "MAX_SENT_LEN_TEST = 150\n",
    "MAX_WORD_LEN_TRAIN = 30\n",
    "MAX_WORD_LEN_DEV = 30\n",
    "MAX_WORD_LEN_TEST = 30\n",
    "\n",
    "COLAB = False"
   ]
  },
  {
   "cell_type": "markdown",
   "metadata": {},
   "source": [
    "## Collecting a Dataset"
   ]
  },
  {
   "cell_type": "markdown",
   "metadata": {},
   "source": [
    "1. We use the CoNLL dataset on named entity recognition. There were two conferences on it: <a href=\"https://www.clips.uantwerpen.be/conll2002/ner/\">CoNLL 2002</a> (Spanish and Dutch) and <a href=\"https://www.clips.uantwerpen.be/conll2003/ner/\">CoNLL 2003</a> (English and German). We work here work on the English dataset.\n",
    "3. The dataset comes in the form of three files: a training set, a development set, and a test set. <!--, named:\n",
    "    <tt>eng.train</tt>, <tt>eng.testa</tt> (validation), and <tt>eng.testb</tt> (test).-->"
   ]
  },
  {
   "cell_type": "code",
   "execution_count": 2,
   "metadata": {},
   "outputs": [],
   "source": [
    "if COLAB:\n",
    "    from google.colab import drive\n",
    "    drive.mount(\"/content/drive\")\n",
    "    EMBEDDING_DIR = '/content/drive/My Drive/Colab Notebooks/corpus/'\n",
    "    EMBEDDING_FILE = 'glove.6B.100d.txt'\n",
    "    BASE_DIR = '/content/drive/My Drive/Colab Notebooks/corpus/'\n",
    "    RESULTS_DIR = '/content/drive/My Drive/Colab Notebooks/'\n",
    "    MODELS_DIR = '/content/drive/My Drive/Colab Notebooks/'\n",
    "else:\n",
    "    EMBEDDING_DIR = '/Users/pierre/Documents/Cours/EDAN20/corpus/'\n",
    "    EMBEDDING_FILE = 'glove.6B.100d.txt'\n",
    "    BASE_DIR = '/Users/pierre/Projets/Corpora/CoNLL2003/'\n",
    "    RESULTS_DIR = '/Users/pierre/Documents/Cours/EDAN20/programs/ch10/python/results/'\n",
    "    MODELS_DIR = '/Users/pierre/Documents/Cours/EDAN20/programs/ch10/python/'"
   ]
  },
  {
   "cell_type": "markdown",
   "metadata": {},
   "source": [
    "## Reading the Corpus"
   ]
  },
  {
   "cell_type": "markdown",
   "metadata": {},
   "source": [
    "We read the corpus with the cells below. The functions will enable us to load the files in the form of a list of dictionaries."
   ]
  },
  {
   "cell_type": "code",
   "execution_count": 3,
   "metadata": {},
   "outputs": [],
   "source": [
    "def load_conll2003_en():\n",
    "    train_file = BASE_DIR + 'NER-data/eng.train'\n",
    "    dev_file = BASE_DIR + 'NER-data/eng.valid'\n",
    "    test_file = BASE_DIR + 'NER-data/eng.test'\n",
    "    column_names = ['form', 'ppos', 'pchunk', 'ner']\n",
    "    train_sentences = open(train_file, encoding='utf8').read().strip()\n",
    "    dev_sentences = open(dev_file, encoding='utf8').read().strip()\n",
    "    test_sentences = open(test_file, encoding='utf8').read().strip()\n",
    "    return train_sentences, dev_sentences, test_sentences, column_names"
   ]
  },
  {
   "cell_type": "code",
   "execution_count": 4,
   "metadata": {},
   "outputs": [
    {
     "data": {
      "text/plain": [
       "'-DOCSTART- -X- O O\\n\\nEU NNP I-NP I-ORG\\nrejects VBZ I-VP O\\nGerman JJ I-NP I-MISC\\ncall NN I-NP O\\nto TO '"
      ]
     },
     "execution_count": 4,
     "metadata": {},
     "output_type": "execute_result"
    }
   ],
   "source": [
    "train_sentences, dev_sentences, test_sentences, column_names = load_conll2003_en()\n",
    "train_sentences[:100]"
   ]
  },
  {
   "cell_type": "code",
   "execution_count": 5,
   "metadata": {},
   "outputs": [],
   "source": [
    "class Token(dict):\n",
    "    pass\n",
    "\n",
    "\n",
    "class CoNLLDictorizer(base.TransformerMixin):\n",
    "\n",
    "    def __init__(self, column_names, sent_sep='\\n\\n', col_sep=' +'):\n",
    "        self.column_names = column_names\n",
    "        self.sent_sep = sent_sep\n",
    "        self.col_sep = col_sep\n",
    "\n",
    "    def fit(self):\n",
    "        pass\n",
    "\n",
    "    def transform(self, corpus):\n",
    "        corpus = corpus.strip()\n",
    "        sentences = re.split(self.sent_sep, corpus)\n",
    "        return list(map(self._split_in_words, sentences))\n",
    "\n",
    "    def fit_transform(self, corpus):\n",
    "        return self.transform(corpus)\n",
    "\n",
    "    def _split_in_words(self, sentence):\n",
    "        rows = re.split('\\n', sentence)\n",
    "        return [Token(dict(zip(self.column_names,\n",
    "                               re.split(self.col_sep, row))))\n",
    "                for row in rows]"
   ]
  },
  {
   "cell_type": "code",
   "execution_count": 6,
   "metadata": {},
   "outputs": [],
   "source": [
    "conll_dict = CoNLLDictorizer(column_names, col_sep=' +')\n",
    "train_dict = conll_dict.transform(train_sentences)\n",
    "dev_dict = conll_dict.transform(dev_sentences)\n",
    "test_dict = conll_dict.transform(test_sentences)"
   ]
  },
  {
   "cell_type": "code",
   "execution_count": 7,
   "metadata": {},
   "outputs": [
    {
     "name": "stdout",
     "output_type": "stream",
     "text": [
      "[{'form': '-DOCSTART-', 'ppos': '-X-', 'pchunk': 'O', 'ner': 'O'}]\n",
      "{'form': 'EU', 'ppos': 'NNP', 'pchunk': 'I-NP', 'ner': 'I-ORG'}\n",
      "{'form': 'rejects', 'ppos': 'VBZ', 'pchunk': 'I-VP', 'ner': 'O'}\n",
      "{'form': 'German', 'ppos': 'JJ', 'pchunk': 'I-NP', 'ner': 'I-MISC'}\n",
      "{'form': 'call', 'ppos': 'NN', 'pchunk': 'I-NP', 'ner': 'O'}\n",
      "{'form': 'to', 'ppos': 'TO', 'pchunk': 'I-VP', 'ner': 'O'}\n",
      "{'form': 'boycott', 'ppos': 'VB', 'pchunk': 'I-VP', 'ner': 'O'}\n",
      "{'form': 'British', 'ppos': 'JJ', 'pchunk': 'I-NP', 'ner': 'I-MISC'}\n",
      "{'form': 'lamb', 'ppos': 'NN', 'pchunk': 'I-NP', 'ner': 'O'}\n",
      "{'form': '.', 'ppos': '.', 'pchunk': 'O', 'ner': 'O'}\n"
     ]
    }
   ],
   "source": [
    "print(train_dict[0])\n",
    "print('\\n'.join(map(str, train_dict[1])))"
   ]
  },
  {
   "cell_type": "markdown",
   "metadata": {},
   "source": [
    "## Evaluating the Models"
   ]
  },
  {
   "cell_type": "markdown",
   "metadata": {},
   "source": [
    "We will train the models with the training set and use the test set to evaluate them. For this, we will apply the `conlleval` script that will compute the harmonic mean of the precision and recall: F1. \n",
    "\n",
    "`conlleval` was written in Perl. Some people rewrote it in Python and we use the translation here. The line below installs it."
   ]
  },
  {
   "cell_type": "code",
   "execution_count": 8,
   "metadata": {},
   "outputs": [
    {
     "name": "stdout",
     "output_type": "stream",
     "text": [
      "Requirement already satisfied: conlleval in /Users/pierre/opt/anaconda3/lib/python3.8/site-packages (0.2)\n"
     ]
    }
   ],
   "source": [
    "!pip install conlleval\n",
    "import conlleval"
   ]
  },
  {
   "cell_type": "markdown",
   "metadata": {},
   "source": [
    "## Collecting the Embeddings"
   ]
  },
  {
   "cell_type": "markdown",
   "metadata": {},
   "source": [
    "We will represent the words with the GloVe embeddings:\n",
    "1. We download the GloVe embeddings 6B from <a href=\"https://nlp.stanford.edu/projects/glove/\">https://nlp.stanford.edu/projects/glove/</a> and keep the 100d vectors.\n",
    "2. We apply a function that reads GloVe embeddings and store them in a dictionary, where the keys will be the words and the values, the embeddings."
   ]
  },
  {
   "cell_type": "code",
   "execution_count": 9,
   "metadata": {},
   "outputs": [],
   "source": [
    "def read_embeddings(file):\n",
    "    \"\"\"\n",
    "    Return the embeddings in the from of a dictionary\n",
    "    :param file:\n",
    "    :return:\n",
    "    \"\"\"\n",
    "    embeddings = {}\n",
    "    glove = open(file, encoding='utf8')\n",
    "    for line in glove:\n",
    "        values = line.strip().split()\n",
    "        word = values[0]\n",
    "        vector = np.array(values[1:], dtype='float32')\n",
    "        embeddings[word] = vector\n",
    "    glove.close()\n",
    "    return embeddings"
   ]
  },
  {
   "cell_type": "code",
   "execution_count": 10,
   "metadata": {},
   "outputs": [
    {
     "name": "stdout",
     "output_type": "stream",
     "text": [
      "# words in embedding dictionary: 400000\n"
     ]
    }
   ],
   "source": [
    "# We read the embeddings\n",
    "embedding_file = EMBEDDING_DIR + EMBEDDING_FILE\n",
    "embeddings_dict = read_embeddings(embedding_file)\n",
    "embedded_words = sorted(list(embeddings_dict.keys()))\n",
    "print('# words in embedding dictionary:', len(embedded_words))"
   ]
  },
  {
   "cell_type": "code",
   "execution_count": 11,
   "metadata": {},
   "outputs": [
    {
     "data": {
      "text/plain": [
       "100"
      ]
     },
     "execution_count": 11,
     "metadata": {},
     "output_type": "execute_result"
    }
   ],
   "source": [
    "max([len(embeddings_dict[word]) for word in embeddings_dict.keys()])"
   ]
  },
  {
   "cell_type": "markdown",
   "metadata": {},
   "source": [
    "## Extracting the $\\mathbf{X}$ and $\\mathbf{Y}$ Lists of Symbols"
   ]
  },
  {
   "cell_type": "markdown",
   "metadata": {},
   "source": [
    "We use a `build_sequences(corpus_dict, key_x='form', key_y='ner', tolower=True)` function that for each sentence returns the $\\mathbf{x}$ and $\\mathbf{y}$ lists of symbols consisting of words and NER tags."
   ]
  },
  {
   "cell_type": "code",
   "execution_count": 12,
   "metadata": {},
   "outputs": [],
   "source": [
    "def build_sequences(corpus_dict, key_x='form', key_y='pos', tolower=True):\n",
    "    \"\"\"\n",
    "    Creates sequences from a list of dictionaries\n",
    "    :param corpus_dict:\n",
    "    :param key_x:\n",
    "    :param key_y:\n",
    "    :return:\n",
    "    \"\"\"\n",
    "    X = []\n",
    "    Y = []\n",
    "    for sentence in corpus_dict:\n",
    "        x = [word[key_x] for word in sentence]\n",
    "        y = [word[key_y] for word in sentence]\n",
    "        if tolower:\n",
    "            x = list(map(str.lower, x))\n",
    "        X += [x]\n",
    "        Y += [y]\n",
    "    return X, Y"
   ]
  },
  {
   "cell_type": "code",
   "execution_count": 13,
   "metadata": {},
   "outputs": [],
   "source": [
    "X_train_word_cat, Y_train_cat = build_sequences(train_dict, key_x='form', key_y='ner', tolower=False)\n",
    "X_dev_word_cat, Y_dev_cat = build_sequences(dev_dict, key_x='form', key_y='ner', tolower=False)\n",
    "X_test_word_cat, Y_test_cat = build_sequences(test_dict, key_x='form', key_y='ner', tolower=False)"
   ]
  },
  {
   "cell_type": "code",
   "execution_count": 14,
   "metadata": {},
   "outputs": [
    {
     "name": "stdout",
     "output_type": "stream",
     "text": [
      "First sentence, word input ['EU', 'rejects', 'German', 'call', 'to', 'boycott', 'British', 'lamb', '.']\n",
      "First sentence, NER output ['I-ORG', 'O', 'I-MISC', 'O', 'O', 'O', 'I-MISC', 'O', 'O']\n"
     ]
    }
   ],
   "source": [
    "print('First sentence, word input', X_train_word_cat[1])\n",
    "print('First sentence, NER output', Y_train_cat[1])"
   ]
  },
  {
   "cell_type": "markdown",
   "metadata": {},
   "source": [
    "## Extracting the $\\mathbf{X}$ Symbols"
   ]
  },
  {
   "cell_type": "markdown",
   "metadata": {},
   "source": [
    "### Vocabulary from CoNLL"
   ]
  },
  {
   "cell_type": "code",
   "execution_count": 15,
   "metadata": {},
   "outputs": [],
   "source": [
    "# We collect the words in their original case from the three sets\n",
    "vocabulary_words_train = tuple([word\n",
    "                          for sentence in X_train_word_cat\n",
    "                          for word in sentence])\n",
    "vocabulary_words_dev = tuple([word\n",
    "                        for sentence in X_dev_word_cat\n",
    "                        for word in sentence])\n",
    "vocabulary_words_test = tuple([word\n",
    "                         for sentence in X_test_word_cat\n",
    "                         for word in sentence])"
   ]
  },
  {
   "cell_type": "code",
   "execution_count": 16,
   "metadata": {},
   "outputs": [
    {
     "name": "stdout",
     "output_type": "stream",
     "text": [
      "#words: 23624\n"
     ]
    }
   ],
   "source": [
    "# We extract the unique words in their original case\n",
    "#vocabulary_words_conll = list(vocabulary_words_train)\n",
    "vocabulary_words_conll = tuple(sorted(list(set(vocabulary_words_train))))\n",
    "print('#words:', len(vocabulary_words_conll))"
   ]
  },
  {
   "cell_type": "markdown",
   "metadata": {},
   "source": [
    "### Singletons"
   ]
  },
  {
   "cell_type": "markdown",
   "metadata": {},
   "source": [
    "Lample et al. use the singletons to train the embeddings of the unknown word symbol. We extract them here."
   ]
  },
  {
   "cell_type": "code",
   "execution_count": 17,
   "metadata": {},
   "outputs": [
    {
     "data": {
      "text/plain": [
       "10060"
      ]
     },
     "execution_count": 17,
     "metadata": {},
     "output_type": "execute_result"
    }
   ],
   "source": [
    "# We extract the singletons\n",
    "if LOWER:\n",
    "    counts = Counter(map(str.lower, list(vocabulary_words_train)))\n",
    "else:\n",
    "    counts= Counter(vocabulary_words_train)\n",
    "singletons = [k for k, v in counts.items() if counts[k] == 1]\n",
    "len(singletons)"
   ]
  },
  {
   "cell_type": "markdown",
   "metadata": {},
   "source": [
    "### Characters from CoNLL"
   ]
  },
  {
   "cell_type": "code",
   "execution_count": 18,
   "metadata": {},
   "outputs": [],
   "source": [
    "# We collect all the unique characters in their original case\n",
    "chars = set(''.join(vocabulary_words_conll))\n",
    "chars = tuple(sorted(list(chars)))"
   ]
  },
  {
   "cell_type": "code",
   "execution_count": 19,
   "metadata": {},
   "outputs": [
    {
     "name": "stdout",
     "output_type": "stream",
     "text": [
      "#chars: 84\n"
     ]
    }
   ],
   "source": [
    "NB_CHARS = len(chars)\n",
    "print('#chars:', NB_CHARS)"
   ]
  },
  {
   "cell_type": "markdown",
   "metadata": {},
   "source": [
    "### Stats on the the word lengths"
   ]
  },
  {
   "cell_type": "markdown",
   "metadata": {},
   "source": [
    "Maximal length of a word, mean, and reasonable upperbound of a word length. Not used in the rest of the program."
   ]
  },
  {
   "cell_type": "code",
   "execution_count": 20,
   "metadata": {},
   "outputs": [
    {
     "name": "stdout",
     "output_type": "stream",
     "text": [
      "Word maximal length 61\n"
     ]
    }
   ],
   "source": [
    "MAX_WORD_LEN = max([len(word) for word in vocabulary_words_conll])\n",
    "print('Word maximal length', MAX_WORD_LEN)"
   ]
  },
  {
   "cell_type": "code",
   "execution_count": 21,
   "metadata": {},
   "outputs": [
    {
     "data": {
      "text/plain": [
       "6.832839485269218"
      ]
     },
     "execution_count": 21,
     "metadata": {},
     "output_type": "execute_result"
    }
   ],
   "source": [
    "statistics.mean([len(word) for word in vocabulary_words_conll])"
   ]
  },
  {
   "cell_type": "code",
   "execution_count": 22,
   "metadata": {},
   "outputs": [
    {
     "data": {
      "text/plain": [
       "15.080759869694724"
      ]
     },
     "execution_count": 22,
     "metadata": {},
     "output_type": "execute_result"
    }
   ],
   "source": [
    "statistics.mean([len(word) for word in vocabulary_words_conll]) + 3 * statistics.stdev(\n",
    "    [len(word) for word in vocabulary_words_conll])"
   ]
  },
  {
   "cell_type": "markdown",
   "metadata": {},
   "source": [
    "### Vocabulary from CoNLL and the Embeddings"
   ]
  },
  {
   "cell_type": "markdown",
   "metadata": {},
   "source": [
    "We create a vocabulary of all the words observed in the training set and the words in the pretrained embeddings. We merge the list of unique CoNLL words with the words in the embedding file and we sort them. We store the vocabulary in `vocabulary_words`."
   ]
  },
  {
   "cell_type": "markdown",
   "metadata": {},
   "source": [
    "We align the case the CoNLL words with the embeddings"
   ]
  },
  {
   "cell_type": "code",
   "execution_count": 23,
   "metadata": {},
   "outputs": [
    {
     "name": "stdout",
     "output_type": "stream",
     "text": [
      "# unique (possibly lowercased) words in the CoNLL vocabulary: 21010\n"
     ]
    }
   ],
   "source": [
    "if LOWER:\n",
    "    vocabulary_words = set(map(str.lower, vocabulary_words_conll))\n",
    "else:\n",
    "    vocabulary_words = set(vocabulary_words_conll)\n",
    "print('# unique (possibly lowercased) words in the CoNLL vocabulary:',\n",
    "      len(vocabulary_words))"
   ]
  },
  {
   "cell_type": "code",
   "execution_count": 24,
   "metadata": {},
   "outputs": [],
   "source": [
    "# Adding vocabulary of embedded words\n",
    "vocabulary_words = tuple(sorted(list(set(embedded_words + list(vocabulary_words)))))"
   ]
  },
  {
   "cell_type": "code",
   "execution_count": 25,
   "metadata": {},
   "outputs": [
    {
     "name": "stdout",
     "output_type": "stream",
     "text": [
      "# words in the vocabulary: embeddings and CoNLL corpus: 402595\n"
     ]
    }
   ],
   "source": [
    "print('# words in the vocabulary: embeddings and CoNLL corpus:', len(vocabulary_words))"
   ]
  },
  {
   "cell_type": "markdown",
   "metadata": {},
   "source": [
    "## Extracting the $\\mathbf{Y}$ Symbols"
   ]
  },
  {
   "cell_type": "code",
   "execution_count": 26,
   "metadata": {},
   "outputs": [
    {
     "name": "stdout",
     "output_type": "stream",
     "text": [
      "8 named entity tags: ('B-LOC', 'B-MISC', 'B-ORG', 'I-LOC', 'I-MISC', 'I-ORG', 'I-PER', 'O')\n"
     ]
    }
   ],
   "source": [
    "ner = tuple(sorted(set([ner\n",
    "                  for sentence in Y_train_cat\n",
    "                  for ner in sentence])))\n",
    "NB_CLASSES = len(ner)\n",
    "print(NB_CLASSES, 'named entity tags:', ner)"
   ]
  },
  {
   "cell_type": "markdown",
   "metadata": {},
   "source": [
    "## Characters, Words, and NER Indices"
   ]
  },
  {
   "cell_type": "markdown",
   "metadata": {},
   "source": [
    "We create the indices `word2idx`, `ner2idx` and inverted indices `idx2word`, `idx2ner` for the words and the NER. We use index 0 for the padding symbol and 1 for unknown words."
   ]
  },
  {
   "cell_type": "code",
   "execution_count": 27,
   "metadata": {},
   "outputs": [],
   "source": [
    "# We create the indexes\n",
    "# For the words and chars, we start at two to make provision for\n",
    "# the padding symbol 0 in RNN and LSTMs and unknown words/chars, 1\n",
    "# We do not need it for the outpout\n",
    "idx2char = dict(enumerate(chars, start=2))\n",
    "idx2word = dict(enumerate(vocabulary_words, start=2))\n",
    "idx2ner = dict(enumerate(ner, start=0))\n",
    "char2idx = {v: k for k, v in idx2char.items()}\n",
    "word2idx = {v: k for k, v in idx2word.items()}\n",
    "ner2idx = {v: k for k, v in idx2ner.items()}"
   ]
  },
  {
   "cell_type": "code",
   "execution_count": 28,
   "metadata": {},
   "outputs": [
    {
     "name": "stdout",
     "output_type": "stream",
     "text": [
      "char index: [('!', 2), ('\"', 3), ('$', 4), ('%', 5), ('&', 6), (\"'\", 7), ('(', 8), (')', 9), ('*', 10), ('+', 11)]\n",
      "word index: [('!', 2), ('!!', 3), ('!!!', 4), ('!!!!', 5), ('!!!!!', 6), ('!?', 7), ('!?!', 8), ('\"', 9), ('#', 10), ('##', 11)]\n",
      "NER index: [('B-LOC', 0), ('B-MISC', 1), ('B-ORG', 2), ('I-LOC', 3), ('I-MISC', 4), ('I-ORG', 5), ('I-PER', 6), ('O', 7)]\n"
     ]
    }
   ],
   "source": [
    "print('char index:', list(char2idx.items())[:10])\n",
    "print('word index:', list(word2idx.items())[:10])\n",
    "print('NER index:', list(ner2idx.items()))"
   ]
  },
  {
   "cell_type": "markdown",
   "metadata": {},
   "source": [
    "## Creating the $\\mathbf{X}$ and $\\mathbf{Y}$ Sequences"
   ]
  },
  {
   "cell_type": "markdown",
   "metadata": {},
   "source": [
    "We now create the input and output sequences with numerical indices. First, we convert the $\\mathbf{X}$ and $\\mathbf{Y}$ lists of symbols in lists of numbers using the indices we created"
   ]
  },
  {
   "cell_type": "markdown",
   "metadata": {},
   "source": [
    "### The Chararacters"
   ]
  },
  {
   "cell_type": "code",
   "execution_count": 29,
   "metadata": {},
   "outputs": [],
   "source": [
    "def to_char_index(X, idx, UKN_IDX=1):\n",
    "    \"\"\"\n",
    "    Convert the word lists (or POS lists) to char indexes\n",
    "    :param X: List of word (or POS) lists\n",
    "    :param idx: char to number dictionary\n",
    "    :return: A list of x, where x is a list of char lists\n",
    "    \"\"\"\n",
    "    X_idx = []\n",
    "    for xl in X:\n",
    "        # We map the unknown symbols to one\n",
    "        x_idx = [list(map(lambda x: idx.get(x, UKN_IDX), list(x))) for x in xl]\n",
    "        X_idx += [x_idx]\n",
    "    return X_idx"
   ]
  },
  {
   "cell_type": "code",
   "execution_count": 30,
   "metadata": {},
   "outputs": [],
   "source": [
    "# We create the parallel sequences of indexes for the chars in their original case\n",
    "X_train_char_idx = to_char_index(X_train_word_cat, char2idx)\n",
    "X_dev_char_idx = to_char_index(X_dev_word_cat, char2idx)\n",
    "X_test_char_idx = to_char_index(X_test_word_cat, char2idx)"
   ]
  },
  {
   "cell_type": "code",
   "execution_count": 31,
   "metadata": {},
   "outputs": [
    {
     "data": {
      "text/plain": [
       "[['-DOCSTART-'],\n",
       " ['EU', 'rejects', 'German', 'call', 'to', 'boycott', 'British', 'lamb', '.']]"
      ]
     },
     "execution_count": 31,
     "metadata": {},
     "output_type": "execute_result"
    }
   ],
   "source": [
    "X_train_word_cat[:2]"
   ]
  },
  {
   "cell_type": "code",
   "execution_count": 32,
   "metadata": {},
   "outputs": [
    {
     "data": {
      "text/plain": [
       "[[[13, 34, 45, 33, 49, 50, 31, 48, 50, 13]],\n",
       " [[35, 51],\n",
       "  [77, 64, 69, 64, 62, 79, 78],\n",
       "  [37, 64, 77, 72, 60, 73],\n",
       "  [62, 60, 71, 71],\n",
       "  [79, 74],\n",
       "  [61, 74, 84, 62, 74, 79, 79],\n",
       "  [32, 77, 68, 79, 68, 78, 67],\n",
       "  [71, 60, 72, 61],\n",
       "  [14]]]"
      ]
     },
     "execution_count": 32,
     "metadata": {},
     "output_type": "execute_result"
    }
   ],
   "source": [
    "X_train_char_idx[:2]"
   ]
  },
  {
   "cell_type": "markdown",
   "metadata": {},
   "source": [
    "### The Words"
   ]
  },
  {
   "cell_type": "code",
   "execution_count": 33,
   "metadata": {},
   "outputs": [],
   "source": [
    "# We set the words in lower case.\n",
    "if LOWER:\n",
    "    X_train_word_cat = [[x.lower() for x in x_vect] for x_vect in X_train_word_cat]\n",
    "    X_dev_word_cat = [[x.lower() for x in x_vect] for x_vect in X_dev_word_cat]\n",
    "    X_test_word_cat = [[x.lower() for x in x_vect] for x_vect in X_test_word_cat]"
   ]
  },
  {
   "cell_type": "code",
   "execution_count": 34,
   "metadata": {},
   "outputs": [
    {
     "data": {
      "text/plain": [
       "['eu', 'rejects', 'german', 'call', 'to', 'boycott', 'british', 'lamb', '.']"
      ]
     },
     "execution_count": 34,
     "metadata": {},
     "output_type": "execute_result"
    }
   ],
   "source": [
    "X_train_word_cat[1]"
   ]
  },
  {
   "cell_type": "code",
   "execution_count": 35,
   "metadata": {},
   "outputs": [],
   "source": [
    "def to_index(X, idx, UKN_IDX=1):\n",
    "    \"\"\"\n",
    "    Convert the word lists (or POS lists) to indexes\n",
    "    :param X: List of word (or POS) lists\n",
    "    :param idx: word to number dictionary\n",
    "    :return:\n",
    "    \"\"\"\n",
    "    X_idx = []\n",
    "    for x in X:\n",
    "        # We map the unknown symbols to one\n",
    "        x_idx = list(map(lambda x: idx.get(x, UKN_IDX), x))\n",
    "        X_idx += [x_idx]\n",
    "    return X_idx"
   ]
  },
  {
   "cell_type": "code",
   "execution_count": 36,
   "metadata": {},
   "outputs": [],
   "source": [
    "# We create the parallel sequences of indexes for the words\n",
    "# Train\n",
    "X_train_word_idx = to_index(X_train_word_cat, word2idx)\n",
    "# Dev\n",
    "X_dev_word_idx = to_index(X_dev_word_cat, word2idx)\n",
    "# Test\n",
    "X_test_word_idx = to_index(X_test_word_cat, word2idx)"
   ]
  },
  {
   "cell_type": "code",
   "execution_count": 37,
   "metadata": {},
   "outputs": [
    {
     "name": "stdout",
     "output_type": "stream",
     "text": [
      "Train. Word indices: [[935], [142143, 307143, 161836, 91321, 363368, 83766, 85852, 218260, 936]]\n",
      "Dev. Word indices: [[935], [113351, 679, 221875, 354360, 275584, 63471, 364505, 49150, 192163, 381011, 936]]\n",
      "Test. Word indices: [[935], [338644, 679, 197600, 162137, 229067, 390518, 517, 100680, 190291, 350949, 120818, 936]]\n"
     ]
    }
   ],
   "source": [
    "print('Train. Word indices:', X_train_word_idx[:2])\n",
    "print('Dev. Word indices:', X_dev_word_idx[:2])\n",
    "print('Test. Word indices:', X_test_word_idx[:2])"
   ]
  },
  {
   "cell_type": "markdown",
   "metadata": {},
   "source": [
    "### The NER Tags"
   ]
  },
  {
   "cell_type": "code",
   "execution_count": 38,
   "metadata": {},
   "outputs": [],
   "source": [
    "# Train\n",
    "Y_train_idx = to_index(Y_train_cat, ner2idx)\n",
    "# Dev\n",
    "Y_dev_idx = to_index(Y_dev_cat, ner2idx)\n",
    "# Test\n",
    "Y_test_idx = to_index(Y_test_cat, ner2idx)"
   ]
  },
  {
   "cell_type": "code",
   "execution_count": 39,
   "metadata": {},
   "outputs": [
    {
     "name": "stdout",
     "output_type": "stream",
     "text": [
      "Train. NER indices: [[7], [5, 7, 4, 7, 7, 7, 4, 7, 7]]\n",
      "Dev. NER indices: [[7], [7, 7, 5, 7, 7, 7, 7, 7, 7, 7, 7]]\n",
      "Test. NER indices: [[7], [7, 7, 3, 7, 7, 7, 7, 6, 7, 7, 7, 7]]\n"
     ]
    }
   ],
   "source": [
    "print('Train. NER indices:', Y_train_idx[:2])\n",
    "print('Dev. NER indices:', Y_dev_idx[:2])\n",
    "print('Test. NER indices:', Y_test_idx[:2])"
   ]
  },
  {
   "cell_type": "markdown",
   "metadata": {},
   "source": [
    "## Padding"
   ]
  },
  {
   "cell_type": "markdown",
   "metadata": {},
   "source": [
    "### Characters"
   ]
  },
  {
   "cell_type": "markdown",
   "metadata": {},
   "source": [
    "We first pad the characters of a word to have a a length of `MAX_WORD_LEN`. We compute it for each set."
   ]
  },
  {
   "cell_type": "code",
   "execution_count": 40,
   "metadata": {},
   "outputs": [],
   "source": [
    "MAX_WORD_LEN_TRAIN = max([len(word)  for sentence in X_train_char_idx for word in sentence])\n",
    "MAX_WORD_LEN_DEV = max([len(word)  for sentence in X_dev_char_idx for word in sentence])\n",
    "MAX_WORD_LEN_TEST = max([len(word)  for sentence in X_test_char_idx for word in sentence])"
   ]
  },
  {
   "cell_type": "code",
   "execution_count": 41,
   "metadata": {},
   "outputs": [],
   "source": [
    "X_train_char_idx = list(map(lambda x: pad_sequences(x, maxlen=MAX_WORD_LEN_TRAIN, padding='post'),\n",
    "                            X_train_char_idx))\n",
    "X_dev_char_idx = list(map(lambda x: pad_sequences(x, maxlen=MAX_WORD_LEN_DEV, padding='post'),\n",
    "                          X_dev_char_idx))\n",
    "X_test_char_idx = list(map(lambda x: pad_sequences(x, maxlen=MAX_WORD_LEN_TEST, padding='post'),\n",
    "                           X_test_char_idx))"
   ]
  },
  {
   "cell_type": "code",
   "execution_count": 42,
   "metadata": {},
   "outputs": [
    {
     "data": {
      "text/plain": [
       "[array([[13, 34, 45, 33, 49, 50, 31, 48, 50, 13,  0,  0,  0,  0,  0,  0,\n",
       "          0,  0,  0,  0,  0,  0,  0,  0,  0,  0,  0,  0,  0,  0,  0,  0,\n",
       "          0,  0,  0,  0,  0,  0,  0,  0,  0,  0,  0,  0,  0,  0,  0,  0,\n",
       "          0,  0,  0,  0,  0,  0,  0,  0,  0,  0,  0,  0,  0]], dtype=int32),\n",
       " array([[35, 51,  0,  0,  0,  0,  0,  0,  0,  0,  0,  0,  0,  0,  0,  0,\n",
       "          0,  0,  0,  0,  0,  0,  0,  0,  0,  0,  0,  0,  0,  0,  0,  0,\n",
       "          0,  0,  0,  0,  0,  0,  0,  0,  0,  0,  0,  0,  0,  0,  0,  0,\n",
       "          0,  0,  0,  0,  0,  0,  0,  0,  0,  0,  0,  0,  0],\n",
       "        [77, 64, 69, 64, 62, 79, 78,  0,  0,  0,  0,  0,  0,  0,  0,  0,\n",
       "          0,  0,  0,  0,  0,  0,  0,  0,  0,  0,  0,  0,  0,  0,  0,  0,\n",
       "          0,  0,  0,  0,  0,  0,  0,  0,  0,  0,  0,  0,  0,  0,  0,  0,\n",
       "          0,  0,  0,  0,  0,  0,  0,  0,  0,  0,  0,  0,  0],\n",
       "        [37, 64, 77, 72, 60, 73,  0,  0,  0,  0,  0,  0,  0,  0,  0,  0,\n",
       "          0,  0,  0,  0,  0,  0,  0,  0,  0,  0,  0,  0,  0,  0,  0,  0,\n",
       "          0,  0,  0,  0,  0,  0,  0,  0,  0,  0,  0,  0,  0,  0,  0,  0,\n",
       "          0,  0,  0,  0,  0,  0,  0,  0,  0,  0,  0,  0,  0],\n",
       "        [62, 60, 71, 71,  0,  0,  0,  0,  0,  0,  0,  0,  0,  0,  0,  0,\n",
       "          0,  0,  0,  0,  0,  0,  0,  0,  0,  0,  0,  0,  0,  0,  0,  0,\n",
       "          0,  0,  0,  0,  0,  0,  0,  0,  0,  0,  0,  0,  0,  0,  0,  0,\n",
       "          0,  0,  0,  0,  0,  0,  0,  0,  0,  0,  0,  0,  0],\n",
       "        [79, 74,  0,  0,  0,  0,  0,  0,  0,  0,  0,  0,  0,  0,  0,  0,\n",
       "          0,  0,  0,  0,  0,  0,  0,  0,  0,  0,  0,  0,  0,  0,  0,  0,\n",
       "          0,  0,  0,  0,  0,  0,  0,  0,  0,  0,  0,  0,  0,  0,  0,  0,\n",
       "          0,  0,  0,  0,  0,  0,  0,  0,  0,  0,  0,  0,  0],\n",
       "        [61, 74, 84, 62, 74, 79, 79,  0,  0,  0,  0,  0,  0,  0,  0,  0,\n",
       "          0,  0,  0,  0,  0,  0,  0,  0,  0,  0,  0,  0,  0,  0,  0,  0,\n",
       "          0,  0,  0,  0,  0,  0,  0,  0,  0,  0,  0,  0,  0,  0,  0,  0,\n",
       "          0,  0,  0,  0,  0,  0,  0,  0,  0,  0,  0,  0,  0],\n",
       "        [32, 77, 68, 79, 68, 78, 67,  0,  0,  0,  0,  0,  0,  0,  0,  0,\n",
       "          0,  0,  0,  0,  0,  0,  0,  0,  0,  0,  0,  0,  0,  0,  0,  0,\n",
       "          0,  0,  0,  0,  0,  0,  0,  0,  0,  0,  0,  0,  0,  0,  0,  0,\n",
       "          0,  0,  0,  0,  0,  0,  0,  0,  0,  0,  0,  0,  0],\n",
       "        [71, 60, 72, 61,  0,  0,  0,  0,  0,  0,  0,  0,  0,  0,  0,  0,\n",
       "          0,  0,  0,  0,  0,  0,  0,  0,  0,  0,  0,  0,  0,  0,  0,  0,\n",
       "          0,  0,  0,  0,  0,  0,  0,  0,  0,  0,  0,  0,  0,  0,  0,  0,\n",
       "          0,  0,  0,  0,  0,  0,  0,  0,  0,  0,  0,  0,  0],\n",
       "        [14,  0,  0,  0,  0,  0,  0,  0,  0,  0,  0,  0,  0,  0,  0,  0,\n",
       "          0,  0,  0,  0,  0,  0,  0,  0,  0,  0,  0,  0,  0,  0,  0,  0,\n",
       "          0,  0,  0,  0,  0,  0,  0,  0,  0,  0,  0,  0,  0,  0,  0,  0,\n",
       "          0,  0,  0,  0,  0,  0,  0,  0,  0,  0,  0,  0,  0]], dtype=int32)]"
      ]
     },
     "execution_count": 42,
     "metadata": {},
     "output_type": "execute_result"
    }
   ],
   "source": [
    "X_train_char_idx[:2]"
   ]
  },
  {
   "cell_type": "markdown",
   "metadata": {},
   "source": [
    "We then pad the lists of lists of characters to have a length of `MAX_SENT_LEN_TRAIN`. We determine it for each set."
   ]
  },
  {
   "cell_type": "code",
   "execution_count": 43,
   "metadata": {},
   "outputs": [],
   "source": [
    "MAX_SENT_LEN_TRAIN = max(map(len, X_train_word_idx))\n",
    "MAX_SENT_LEN_DEV = max(map(len, X_dev_word_idx))\n",
    "MAX_SENT_LEN_TEST = max(map(len, X_test_word_idx))"
   ]
  },
  {
   "cell_type": "code",
   "execution_count": 44,
   "metadata": {},
   "outputs": [],
   "source": [
    "#X_train_char_idx = pad_sequences(X_train_char_idx, maxlen=MAX_SENT_LEN_TRAIN, padding='post')\n",
    "X_dev_char_idx = pad_sequences(X_dev_char_idx, maxlen=MAX_SENT_LEN_DEV, padding='post')\n",
    "X_test_char_idx = pad_sequences(X_test_char_idx, maxlen=MAX_SENT_LEN_TEST, padding='post')"
   ]
  },
  {
   "cell_type": "code",
   "execution_count": 45,
   "metadata": {},
   "outputs": [
    {
     "data": {
      "text/plain": [
       "[array([[13, 34, 45, 33, 49, 50, 31, 48, 50, 13,  0,  0,  0,  0,  0,  0,\n",
       "          0,  0,  0,  0,  0,  0,  0,  0,  0,  0,  0,  0,  0,  0,  0,  0,\n",
       "          0,  0,  0,  0,  0,  0,  0,  0,  0,  0,  0,  0,  0,  0,  0,  0,\n",
       "          0,  0,  0,  0,  0,  0,  0,  0,  0,  0,  0,  0,  0]], dtype=int32),\n",
       " array([[35, 51,  0,  0,  0,  0,  0,  0,  0,  0,  0,  0,  0,  0,  0,  0,\n",
       "          0,  0,  0,  0,  0,  0,  0,  0,  0,  0,  0,  0,  0,  0,  0,  0,\n",
       "          0,  0,  0,  0,  0,  0,  0,  0,  0,  0,  0,  0,  0,  0,  0,  0,\n",
       "          0,  0,  0,  0,  0,  0,  0,  0,  0,  0,  0,  0,  0],\n",
       "        [77, 64, 69, 64, 62, 79, 78,  0,  0,  0,  0,  0,  0,  0,  0,  0,\n",
       "          0,  0,  0,  0,  0,  0,  0,  0,  0,  0,  0,  0,  0,  0,  0,  0,\n",
       "          0,  0,  0,  0,  0,  0,  0,  0,  0,  0,  0,  0,  0,  0,  0,  0,\n",
       "          0,  0,  0,  0,  0,  0,  0,  0,  0,  0,  0,  0,  0],\n",
       "        [37, 64, 77, 72, 60, 73,  0,  0,  0,  0,  0,  0,  0,  0,  0,  0,\n",
       "          0,  0,  0,  0,  0,  0,  0,  0,  0,  0,  0,  0,  0,  0,  0,  0,\n",
       "          0,  0,  0,  0,  0,  0,  0,  0,  0,  0,  0,  0,  0,  0,  0,  0,\n",
       "          0,  0,  0,  0,  0,  0,  0,  0,  0,  0,  0,  0,  0],\n",
       "        [62, 60, 71, 71,  0,  0,  0,  0,  0,  0,  0,  0,  0,  0,  0,  0,\n",
       "          0,  0,  0,  0,  0,  0,  0,  0,  0,  0,  0,  0,  0,  0,  0,  0,\n",
       "          0,  0,  0,  0,  0,  0,  0,  0,  0,  0,  0,  0,  0,  0,  0,  0,\n",
       "          0,  0,  0,  0,  0,  0,  0,  0,  0,  0,  0,  0,  0],\n",
       "        [79, 74,  0,  0,  0,  0,  0,  0,  0,  0,  0,  0,  0,  0,  0,  0,\n",
       "          0,  0,  0,  0,  0,  0,  0,  0,  0,  0,  0,  0,  0,  0,  0,  0,\n",
       "          0,  0,  0,  0,  0,  0,  0,  0,  0,  0,  0,  0,  0,  0,  0,  0,\n",
       "          0,  0,  0,  0,  0,  0,  0,  0,  0,  0,  0,  0,  0],\n",
       "        [61, 74, 84, 62, 74, 79, 79,  0,  0,  0,  0,  0,  0,  0,  0,  0,\n",
       "          0,  0,  0,  0,  0,  0,  0,  0,  0,  0,  0,  0,  0,  0,  0,  0,\n",
       "          0,  0,  0,  0,  0,  0,  0,  0,  0,  0,  0,  0,  0,  0,  0,  0,\n",
       "          0,  0,  0,  0,  0,  0,  0,  0,  0,  0,  0,  0,  0],\n",
       "        [32, 77, 68, 79, 68, 78, 67,  0,  0,  0,  0,  0,  0,  0,  0,  0,\n",
       "          0,  0,  0,  0,  0,  0,  0,  0,  0,  0,  0,  0,  0,  0,  0,  0,\n",
       "          0,  0,  0,  0,  0,  0,  0,  0,  0,  0,  0,  0,  0,  0,  0,  0,\n",
       "          0,  0,  0,  0,  0,  0,  0,  0,  0,  0,  0,  0,  0],\n",
       "        [71, 60, 72, 61,  0,  0,  0,  0,  0,  0,  0,  0,  0,  0,  0,  0,\n",
       "          0,  0,  0,  0,  0,  0,  0,  0,  0,  0,  0,  0,  0,  0,  0,  0,\n",
       "          0,  0,  0,  0,  0,  0,  0,  0,  0,  0,  0,  0,  0,  0,  0,  0,\n",
       "          0,  0,  0,  0,  0,  0,  0,  0,  0,  0,  0,  0,  0],\n",
       "        [14,  0,  0,  0,  0,  0,  0,  0,  0,  0,  0,  0,  0,  0,  0,  0,\n",
       "          0,  0,  0,  0,  0,  0,  0,  0,  0,  0,  0,  0,  0,  0,  0,  0,\n",
       "          0,  0,  0,  0,  0,  0,  0,  0,  0,  0,  0,  0,  0,  0,  0,  0,\n",
       "          0,  0,  0,  0,  0,  0,  0,  0,  0,  0,  0,  0,  0]], dtype=int32)]"
      ]
     },
     "execution_count": 45,
     "metadata": {},
     "output_type": "execute_result"
    }
   ],
   "source": [
    "X_train_char_idx[:2]"
   ]
  },
  {
   "cell_type": "markdown",
   "metadata": {},
   "source": [
    "### Words"
   ]
  },
  {
   "cell_type": "markdown",
   "metadata": {},
   "source": [
    "We pad the word lists. Here we only pad the dev and test set to be able to predict in one go."
   ]
  },
  {
   "cell_type": "code",
   "execution_count": 46,
   "metadata": {},
   "outputs": [],
   "source": [
    "#X_train_word_idx = pad_sequences(X_train_word_idx, maxlen=MAX_SENT_LEN_TRAIN, padding='post')\n",
    "X_dev_word_idx = pad_sequences(X_dev_word_idx, maxlen=MAX_SENT_LEN_DEV, padding='post')\n",
    "X_test_word_idx = pad_sequences(X_test_word_idx, maxlen=MAX_SENT_LEN_TEST, padding='post')"
   ]
  },
  {
   "cell_type": "code",
   "execution_count": 47,
   "metadata": {},
   "outputs": [
    {
     "data": {
      "text/plain": [
       "[[935], [142143, 307143, 161836, 91321, 363368, 83766, 85852, 218260, 936]]"
      ]
     },
     "execution_count": 47,
     "metadata": {},
     "output_type": "execute_result"
    }
   ],
   "source": [
    "X_train_word_idx[:2]"
   ]
  },
  {
   "cell_type": "markdown",
   "metadata": {},
   "source": [
    "We pad the NER lists"
   ]
  },
  {
   "cell_type": "code",
   "execution_count": 48,
   "metadata": {},
   "outputs": [],
   "source": [
    "#Y_train_idx = pad_sequences(Y_train_idx, maxlen=MAX_SENT_LEN_TRAIN, padding='post')\n",
    "Y_dev_idx = pad_sequences(Y_dev_idx, maxlen=MAX_SENT_LEN_DEV, padding='post')\n",
    "Y_test_idx = pad_sequences(Y_test_idx, maxlen=MAX_SENT_LEN_TEST, padding='post')"
   ]
  },
  {
   "cell_type": "code",
   "execution_count": 49,
   "metadata": {},
   "outputs": [
    {
     "data": {
      "text/plain": [
       "[[7], [5, 7, 4, 7, 7, 7, 4, 7, 7]]"
      ]
     },
     "execution_count": 49,
     "metadata": {},
     "output_type": "execute_result"
    }
   ],
   "source": [
    "Y_train_idx[:2]"
   ]
  },
  {
   "cell_type": "markdown",
   "metadata": {},
   "source": [
    "## Padding the training set"
   ]
  },
  {
   "cell_type": "markdown",
   "metadata": {},
   "source": [
    "Depending on the training procedure, we need to pad or not the training set:\n",
    "1. If we use `fit`, we have to pad;\n",
    "2. We can also create bins of same length and train with `train_on_batch`. This allows for a more flexible training loop."
   ]
  },
  {
   "cell_type": "code",
   "execution_count": 50,
   "metadata": {},
   "outputs": [],
   "source": [
    "if not BINS:\n",
    "    X_train_char_idx = pad_sequences(X_train_char_idx, maxlen=MAX_SENT_LEN_TRAIN, padding='post')\n",
    "    X_train_word_idx = pad_sequences(X_train_word_idx, maxlen=MAX_SENT_LEN_TRAIN, padding='post')\n",
    "    Y_train_idx = pad_sequences(Y_train_idx, maxlen=MAX_SENT_LEN_TRAIN, padding='post')  \n",
    "training_bins = [list(zip(X_train_word_idx, X_train_char_idx, Y_train_idx))]"
   ]
  },
  {
   "cell_type": "markdown",
   "metadata": {},
   "source": [
    "## Creating bins of same length"
   ]
  },
  {
   "cell_type": "markdown",
   "metadata": {},
   "source": [
    "We create bins of sentences of the same length. This avoids padding"
   ]
  },
  {
   "cell_type": "code",
   "execution_count": 51,
   "metadata": {},
   "outputs": [],
   "source": [
    "if BINS:\n",
    "    training_set_sorted = sorted(zip(X_train_word_idx, \n",
    "                           X_train_char_idx, \n",
    "                           Y_train_idx), \n",
    "                       key=lambda x: len(x[0]))"
   ]
  },
  {
   "cell_type": "markdown",
   "metadata": {},
   "source": [
    "We now create the histogram of sentence lengths. `groupby` is like the `uniq -c` shell command. We obtain a list of pairs: (sentence length, count of sentences that have this length)"
   ]
  },
  {
   "cell_type": "code",
   "execution_count": 52,
   "metadata": {},
   "outputs": [],
   "source": [
    "from itertools import groupby\n",
    "if BINS:\n",
    "    train_sent_len_list = list(map(lambda x: len(x[0]), training_set_sorted))\n",
    "    train_length_hist = [(x[0], len(list(x[1]))) for x in groupby(train_sent_len_list)]\n",
    "    train_length_hist[:10]"
   ]
  },
  {
   "cell_type": "code",
   "execution_count": 53,
   "metadata": {},
   "outputs": [
    {
     "data": {
      "image/png": "[encoded data removed]",
      "text/plain": [
       "<Figure size 432x288 with 1 Axes>"
      ]
     },
     "metadata": {
      "needs_background": "light"
     },
     "output_type": "display_data"
    }
   ],
   "source": [
    "if BINS:\n",
    "    plt.bar(list(map(lambda x: x[0], train_length_hist)),\n",
    "        list(map(lambda x: x[1], train_length_hist)))"
   ]
  },
  {
   "cell_type": "markdown",
   "metadata": {},
   "source": [
    "We create the bins"
   ]
  },
  {
   "cell_type": "code",
   "execution_count": 54,
   "metadata": {},
   "outputs": [],
   "source": [
    "if BINS:\n",
    "    training_bins = []\n",
    "    for bin in train_length_hist:\n",
    "        training_bins += [training_set_sorted[:bin[1]]]\n",
    "        training_set_sorted = training_set_sorted[bin[1]:]"
   ]
  },
  {
   "cell_type": "markdown",
   "metadata": {},
   "source": [
    "We print a few sentences of two words"
   ]
  },
  {
   "cell_type": "code",
   "execution_count": 55,
   "metadata": {},
   "outputs": [
    {
     "name": "stdout",
     "output_type": "stream",
     "text": [
      "([284434, 79019], array([[46, 64, 79, 64, 77,  0,  0,  0,  0,  0,  0,  0,  0,  0,  0,  0,\n",
      "         0,  0,  0,  0,  0,  0,  0,  0,  0,  0,  0,  0,  0,  0,  0,  0,\n",
      "         0,  0,  0,  0,  0,  0,  0,  0,  0,  0,  0,  0,  0,  0,  0,  0,\n",
      "         0,  0,  0,  0,  0,  0,  0,  0,  0,  0,  0,  0,  0],\n",
      "       [32, 71, 60, 62, 70, 61, 80, 77, 73,  0,  0,  0,  0,  0,  0,  0,\n",
      "         0,  0,  0,  0,  0,  0,  0,  0,  0,  0,  0,  0,  0,  0,  0,  0,\n",
      "         0,  0,  0,  0,  0,  0,  0,  0,  0,  0,  0,  0,  0,  0,  0,  0,\n",
      "         0,  0,  0,  0,  0,  0,  0,  0,  0,  0,  0,  0,  0]], dtype=int32), [6, 6])\n",
      "([86920, 15423], array([[32, 48, 51, 49, 49, 35, 42, 49,  0,  0,  0,  0,  0,  0,  0,  0,\n",
      "         0,  0,  0,  0,  0,  0,  0,  0,  0,  0,  0,  0,  0,  0,  0,  0,\n",
      "         0,  0,  0,  0,  0,  0,  0,  0,  0,  0,  0,  0,  0,  0,  0,  0,\n",
      "         0,  0,  0,  0,  0,  0,  0,  0,  0,  0,  0,  0,  0],\n",
      "       [17, 25, 25, 22, 13, 16, 24, 13, 18, 18,  0,  0,  0,  0,  0,  0,\n",
      "         0,  0,  0,  0,  0,  0,  0,  0,  0,  0,  0,  0,  0,  0,  0,  0,\n",
      "         0,  0,  0,  0,  0,  0,  0,  0,  0,  0,  0,  0,  0,  0,  0,  0,\n",
      "         0,  0,  0,  0,  0,  0,  0,  0,  0,  0,  0,  0,  0]], dtype=int32), [3, 7])\n",
      "([227217, 15423], array([[42, 45, 44, 34, 45, 44,  0,  0,  0,  0,  0,  0,  0,  0,  0,  0,\n",
      "         0,  0,  0,  0,  0,  0,  0,  0,  0,  0,  0,  0,  0,  0,  0,  0,\n",
      "         0,  0,  0,  0,  0,  0,  0,  0,  0,  0,  0,  0,  0,  0,  0,  0,\n",
      "         0,  0,  0,  0,  0,  0,  0,  0,  0,  0,  0,  0,  0],\n",
      "       [17, 25, 25, 22, 13, 16, 24, 13, 18, 18,  0,  0,  0,  0,  0,  0,\n",
      "         0,  0,  0,  0,  0,  0,  0,  0,  0,  0,  0,  0,  0,  0,  0,  0,\n",
      "         0,  0,  0,  0,  0,  0,  0,  0,  0,  0,  0,  0,  0,  0,  0,  0,\n",
      "         0,  0,  0,  0,  0,  0,  0,  0,  0,  0,  0,  0,  0]], dtype=int32), [3, 7])\n",
      "([73591, 15423], array([[32, 35, 39, 40, 39, 44, 37,  0,  0,  0,  0,  0,  0,  0,  0,  0,\n",
      "         0,  0,  0,  0,  0,  0,  0,  0,  0,  0,  0,  0,  0,  0,  0,  0,\n",
      "         0,  0,  0,  0,  0,  0,  0,  0,  0,  0,  0,  0,  0,  0,  0,  0,\n",
      "         0,  0,  0,  0,  0,  0,  0,  0,  0,  0,  0,  0,  0],\n",
      "       [17, 25, 25, 22, 13, 16, 24, 13, 18, 18,  0,  0,  0,  0,  0,  0,\n",
      "         0,  0,  0,  0,  0,  0,  0,  0,  0,  0,  0,  0,  0,  0,  0,  0,\n",
      "         0,  0,  0,  0,  0,  0,  0,  0,  0,  0,  0,  0,  0,  0,  0,  0,\n",
      "         0,  0,  0,  0,  0,  0,  0,  0,  0,  0,  0,  0,  0]], dtype=int32), [3, 7])\n",
      "([73591, 15423], array([[32, 35, 39, 40, 39, 44, 37,  0,  0,  0,  0,  0,  0,  0,  0,  0,\n",
      "         0,  0,  0,  0,  0,  0,  0,  0,  0,  0,  0,  0,  0,  0,  0,  0,\n",
      "         0,  0,  0,  0,  0,  0,  0,  0,  0,  0,  0,  0,  0,  0,  0,  0,\n",
      "         0,  0,  0,  0,  0,  0,  0,  0,  0,  0,  0,  0,  0],\n",
      "       [17, 25, 25, 22, 13, 16, 24, 13, 18, 18,  0,  0,  0,  0,  0,  0,\n",
      "         0,  0,  0,  0,  0,  0,  0,  0,  0,  0,  0,  0,  0,  0,  0,  0,\n",
      "         0,  0,  0,  0,  0,  0,  0,  0,  0,  0,  0,  0,  0,  0,  0,  0,\n",
      "         0,  0,  0,  0,  0,  0,  0,  0,  0,  0,  0,  0,  0]], dtype=int32), [3, 7])\n"
     ]
    }
   ],
   "source": [
    "if BINS:\n",
    "    for i in range(5):\n",
    "        print(training_bins[1][i])"
   ]
  },
  {
   "cell_type": "markdown",
   "metadata": {},
   "source": [
    "## Embedding Matrix"
   ]
  },
  {
   "cell_type": "markdown",
   "metadata": {},
   "source": [
    "Create a matrix of dimensions $(M, N)$, where $M$ will be the size of the vocabulary: The unique words in the training set and the words in GloVe, and $N$, the dimension of the embeddings.\n",
    "The padding symbol and the unknown word symbol will be part of the vocabulary. The shape of your matrix should be: (402597, 100). Initialize it with random values."
   ]
  },
  {
   "cell_type": "code",
   "execution_count": 56,
   "metadata": {},
   "outputs": [],
   "source": [
    "np.random.seed(0)\n",
    "# We add two dimensions for the padding symbol at index 0 and unknown words at index 1\n",
    "embedding_matrix = np.random.uniform(-0.05, 0.05, (len(vocabulary_words) + 2, EMBEDDING_DIM))\n",
    "# embedding_matrix = np.random.random((len(vocabulary_words) + 2, EMBEDDING_DIM))\n",
    "# embedding_matrix = np.zeros((len(vocabulary_words) + 2, EMBEDDING_DIM))"
   ]
  },
  {
   "cell_type": "code",
   "execution_count": 57,
   "metadata": {},
   "outputs": [
    {
     "name": "stdout",
     "output_type": "stream",
     "text": [
      "Shape of embedding matrix: (402597, 100)\n"
     ]
    }
   ],
   "source": [
    "print('Shape of embedding matrix:', embedding_matrix.shape)"
   ]
  },
  {
   "cell_type": "markdown",
   "metadata": {},
   "source": [
    "Fill the matrix with the GloVe embeddings when available. You will use the indices from the previous section. You will call `out_of_embeddings` the list of words in CoNLL, but not in the embedding list."
   ]
  },
  {
   "cell_type": "code",
   "execution_count": 58,
   "metadata": {},
   "outputs": [],
   "source": [
    "out_of_embeddings = []\n",
    "for word in vocabulary_words:\n",
    "    if word in embeddings_dict:\n",
    "        # If the words are in the embeddings, we fill them with a value\n",
    "        embedding_matrix[word2idx[word]] = embeddings_dict[word]\n",
    "    else:\n",
    "        # Otherwise, it keeps a random value in the matrix\n",
    "        # We store the out of vocabulary words\n",
    "        out_of_embeddings += [word]"
   ]
  },
  {
   "cell_type": "code",
   "execution_count": 59,
   "metadata": {},
   "outputs": [
    {
     "name": "stdout",
     "output_type": "stream",
     "text": [
      "Out of embeddings: 2595\n"
     ]
    },
    {
     "data": {
      "text/plain": [
       "['zelezarny',\n",
       " 'zhilan',\n",
       " 'zieger',\n",
       " 'zighayer',\n",
       " 'zilinskiene',\n",
       " 'zirka-nibas',\n",
       " 'zuleeg',\n",
       " 'zundra',\n",
       " 'zwingmann',\n",
       " 'zyrecha']"
      ]
     },
     "execution_count": 59,
     "metadata": {},
     "output_type": "execute_result"
    }
   ],
   "source": [
    "print('Out of embeddings:', len(out_of_embeddings))\n",
    "out_of_embeddings[-10:]"
   ]
  },
  {
   "cell_type": "code",
   "execution_count": 60,
   "metadata": {},
   "outputs": [
    {
     "name": "stdout",
     "output_type": "stream",
     "text": [
      "Embedding of the padding symbol, idx 0, random numbers [ 0.00488135  0.02151894  0.01027634  0.00448832 -0.00763452  0.01458941\n",
      " -0.00624128  0.0391773   0.04636628 -0.01165585]\n",
      "Embedding of table [-0.61453998  0.89692998  0.56770998  0.39102    -0.22437     0.49035001\n",
      "  0.10868     0.27410999 -0.23833001 -0.52152997]\n",
      "Embedding of zwingmann, random numbers [ 0.00782644 -0.02621394  0.04756559  0.00408949  0.01875676  0.01106755\n",
      "  0.01659441  0.02207432 -0.03631456  0.00730187]\n"
     ]
    }
   ],
   "source": [
    "print('Embedding of the padding symbol, idx 0, random numbers', embedding_matrix[0][:10])\n",
    "print('Embedding of table', embedding_matrix[word2idx['table']][:10])\n",
    "if LOWER:\n",
    "    print('Embedding of zwingmann, random numbers', embedding_matrix[word2idx['zwingmann']][:10])\n",
    "else:\n",
    "    print('Embedding of Zwingmann, random numbers', embedding_matrix[word2idx['Zwingmann']][:10])"
   ]
  },
  {
   "cell_type": "markdown",
   "metadata": {},
   "source": [
    "## A LSTM Network"
   ]
  },
  {
   "cell_type": "code",
   "execution_count": 61,
   "metadata": {},
   "outputs": [],
   "source": [
    "#char input\n",
    "# shape: (MAX_SENT_LEN, MAX_WORD_LEN,)\n",
    "char_input = Input(shape=(None, None,))\n",
    "embedded_chars = Embedding(input_dim=NB_CHARS + 2,\n",
    "                                 output_dim=CHAR_EMBEDDING_DIM,\n",
    "                                 trainable=True,\n",
    "                                 mask_zero=True,\n",
    "                                 embeddings_initializer=RandomUniform(minval=-RAND_INIT_RANGE,\n",
    "                                                                      maxval=RAND_INIT_RANGE))(char_input)\n",
    "encoded_chars = TimeDistributed(Bidirectional(LSTM(CHAR_LSTM_UNITS, return_sequences=False)))(embedded_chars)"
   ]
  },
  {
   "cell_type": "code",
   "execution_count": 62,
   "metadata": {},
   "outputs": [],
   "source": [
    "# word input\n",
    "# shape: (MAX_SENT_LEN,)\n",
    "word_input = Input(shape=(None,))\n",
    "embedded_words = Embedding(len(vocabulary_words) + 2,\n",
    "                           EMBEDDING_DIM,\n",
    "                           trainable=True,\n",
    "                           mask_zero=True,\n",
    "                           weights=[embedding_matrix])(word_input)"
   ]
  },
  {
   "cell_type": "code",
   "execution_count": 63,
   "metadata": {},
   "outputs": [],
   "source": [
    "# concatenation\n",
    "final_embeddings = concatenate([encoded_chars, embedded_words])"
   ]
  },
  {
   "cell_type": "code",
   "execution_count": 64,
   "metadata": {},
   "outputs": [],
   "source": [
    "# dropout\n",
    "final_embeddings = Dropout(0.5)(final_embeddings)"
   ]
  },
  {
   "cell_type": "code",
   "execution_count": 65,
   "metadata": {},
   "outputs": [],
   "source": [
    "lstm_output = Bidirectional(LSTM(LSTM_UNITS,\n",
    "                                 return_sequences=True))(final_embeddings)\n",
    "\"\"\"lstm_output = Dropout(0.25)(lstm_output)\n",
    "lstm_output = Bidirectional(LSTM(LSTM_UNITS,\n",
    "                                 return_sequences=True))(lstm_output)\"\"\"\n",
    "out = Dense(len(ner), activation='softmax')(lstm_output)"
   ]
  },
  {
   "cell_type": "code",
   "execution_count": 66,
   "metadata": {},
   "outputs": [],
   "source": [
    "model = Model([char_input, word_input], out)"
   ]
  },
  {
   "cell_type": "markdown",
   "metadata": {},
   "source": [
    "Compile it"
   ]
  },
  {
   "cell_type": "code",
   "execution_count": 67,
   "metadata": {},
   "outputs": [
    {
     "name": "stdout",
     "output_type": "stream",
     "text": [
      "Model: \"model\"\n",
      "__________________________________________________________________________________________________\n",
      "Layer (type)                    Output Shape         Param #     Connected to                     \n",
      "==================================================================================================\n",
      "input_1 (InputLayer)            [(None, None, None)] 0                                            \n",
      "__________________________________________________________________________________________________\n",
      "embedding (Embedding)           (None, None, None, 2 2150        input_1[0][0]                    \n",
      "__________________________________________________________________________________________________\n",
      "input_2 (InputLayer)            [(None, None)]       0                                            \n",
      "__________________________________________________________________________________________________\n",
      "time_distributed (TimeDistribut (None, None, 50)     10200       embedding[0][0]                  \n",
      "__________________________________________________________________________________________________\n",
      "embedding_1 (Embedding)         (None, None, 100)    40259700    input_2[0][0]                    \n",
      "__________________________________________________________________________________________________\n",
      "concatenate (Concatenate)       (None, None, 150)    0           time_distributed[0][0]           \n",
      "                                                                 embedding_1[0][0]                \n",
      "__________________________________________________________________________________________________\n",
      "dropout (Dropout)               (None, None, 150)    0           concatenate[0][0]                \n",
      "__________________________________________________________________________________________________\n",
      "bidirectional_1 (Bidirectional) (None, None, 200)    200800      dropout[0][0]                    \n",
      "__________________________________________________________________________________________________\n",
      "dense (Dense)                   (None, None, 8)      1608        bidirectional_1[0][0]            \n",
      "==================================================================================================\n",
      "Total params: 40,474,458\n",
      "Trainable params: 40,474,458\n",
      "Non-trainable params: 0\n",
      "__________________________________________________________________________________________________\n"
     ]
    }
   ],
   "source": [
    "model.compile(loss='sparse_categorical_crossentropy',\n",
    "              optimizer='rmsprop',\n",
    "              metrics=['acc'])\n",
    "model.summary()"
   ]
  },
  {
   "cell_type": "markdown",
   "metadata": {},
   "source": [
    "## Function to save the results"
   ]
  },
  {
   "cell_type": "markdown",
   "metadata": {},
   "source": [
    "The columns of an annotated corpus: We add `pner`"
   ]
  },
  {
   "cell_type": "code",
   "execution_count": 68,
   "metadata": {},
   "outputs": [],
   "source": [
    "ann_column_names = ['form', 'ppos', 'pchunk', 'ner', 'pner']"
   ]
  },
  {
   "cell_type": "code",
   "execution_count": 69,
   "metadata": {},
   "outputs": [],
   "source": [
    "def dict2conll(corpus_dict, column_names):\n",
    "    \"\"\"\n",
    "    Saves the corpus in a file\n",
    "    :param file:\n",
    "    :param corpus_dict:\n",
    "    :param column_names:\n",
    "    :return:\n",
    "    \"\"\"\n",
    "    corpus_str = ''\n",
    "    for sentence in corpus_dict:\n",
    "        sentence_lst = []\n",
    "        for row in sentence:\n",
    "            items = map(lambda x: row.get(x, '_'), column_names)\n",
    "            sentence_lst += ' '.join(items) + '\\n'\n",
    "        sentence_lst += '\\n'\n",
    "        sentence_str = ''.join(sentence_lst)\n",
    "        corpus_str += sentence_str\n",
    "    return corpus_str"
   ]
  },
  {
   "cell_type": "markdown",
   "metadata": {},
   "source": [
    "## Training the model"
   ]
  },
  {
   "cell_type": "code",
   "execution_count": 70,
   "metadata": {},
   "outputs": [],
   "source": [
    "def minibatch_generator(dataset):\n",
    "    # We take the sentences of the same length\n",
    "    random.shuffle(dataset)\n",
    "    for sentence_bin in dataset:\n",
    "        random.shuffle(sentence_bin)\n",
    "        # The number of batches. \n",
    "        batch_cnt = int(np.ceil((len(sentence_bin) / BATCH_SIZE)))\n",
    "        # We create batches of BATCH_SIZE\n",
    "        for j in range(batch_cnt):\n",
    "            char_batch = []\n",
    "            token_batch = []\n",
    "            label_batch = []\n",
    "            for sentence in sentence_bin[j*BATCH_SIZE:(j+1)*BATCH_SIZE]:\n",
    "                tokens, chars, labels = sentence\n",
    "                char_batch.append(chars)\n",
    "                token_batch.append(tokens)\n",
    "                label_batch.append(labels)\n",
    "            #label_batch = list(map(lambda x: np.transpose([x]), label_batch))\n",
    "            #label_batch = to_categorical(label_batch, num_classes=len(ner))\n",
    "            yield  np.asarray(char_batch), np.asarray(token_batch), np.asarray(label_batch)"
   ]
  },
  {
   "cell_type": "code",
   "execution_count": 71,
   "metadata": {},
   "outputs": [
    {
     "name": "stderr",
     "output_type": "stream",
     "text": [
      "  0%|          | 0/100 [00:00<?, ?it/s]"
     ]
    },
    {
     "name": "stdout",
     "output_type": "stream",
     "text": [
      "Epoch 1/100\n",
      "CoNLL score dev set\n",
      "dev 0.7903757946407016\n",
      "CoNLL score test set\n",
      "test 0.7745295698924731\n"
     ]
    },
    {
     "name": "stderr",
     "output_type": "stream",
     "text": [
      "WARNING:absl:Found untraced functions such as bidirectional_layer_call_and_return_conditional_losses, bidirectional_layer_call_fn, forward_lstm_1_layer_call_and_return_conditional_losses, forward_lstm_1_layer_call_fn, backward_lstm_1_layer_call_and_return_conditional_losses while saving (showing 5 of 45). These functions will not be directly callable after loading.\n"
     ]
    },
    {
     "name": "stdout",
     "output_type": "stream",
     "text": [
      "INFO:tensorflow:Assets written to: /Users/pierre/Documents/Cours/EDAN20/programs/ch10/python/assets\n"
     ]
    },
    {
     "name": "stderr",
     "output_type": "stream",
     "text": [
      "INFO:tensorflow:Assets written to: /Users/pierre/Documents/Cours/EDAN20/programs/ch10/python/assets\n",
      "  1%|          | 1/100 [02:41<4:26:55, 161.77s/it]"
     ]
    },
    {
     "name": "stdout",
     "output_type": "stream",
     "text": [
      "Epoch 2/100\n",
      "CoNLL score dev set\n",
      "dev 0.8513143710092047\n",
      "CoNLL score test set\n",
      "test 0.8295187538073275\n"
     ]
    },
    {
     "name": "stderr",
     "output_type": "stream",
     "text": [
      "WARNING:absl:Found untraced functions such as bidirectional_layer_call_and_return_conditional_losses, bidirectional_layer_call_fn, forward_lstm_1_layer_call_and_return_conditional_losses, forward_lstm_1_layer_call_fn, backward_lstm_1_layer_call_and_return_conditional_losses while saving (showing 5 of 45). These functions will not be directly callable after loading.\n"
     ]
    },
    {
     "name": "stdout",
     "output_type": "stream",
     "text": [
      "INFO:tensorflow:Assets written to: /Users/pierre/Documents/Cours/EDAN20/programs/ch10/python/assets\n"
     ]
    },
    {
     "name": "stderr",
     "output_type": "stream",
     "text": [
      "INFO:tensorflow:Assets written to: /Users/pierre/Documents/Cours/EDAN20/programs/ch10/python/assets\n",
      "  2%|▏         | 2/100 [04:54<3:56:28, 144.78s/it]"
     ]
    },
    {
     "name": "stdout",
     "output_type": "stream",
     "text": [
      "Epoch 3/100\n",
      "CoNLL score dev set\n",
      "dev 0.8801732034307602\n",
      "CoNLL score test set\n",
      "test 0.852049287774185\n"
     ]
    },
    {
     "name": "stderr",
     "output_type": "stream",
     "text": [
      "WARNING:absl:Found untraced functions such as bidirectional_layer_call_and_return_conditional_losses, bidirectional_layer_call_fn, forward_lstm_1_layer_call_and_return_conditional_losses, forward_lstm_1_layer_call_fn, backward_lstm_1_layer_call_and_return_conditional_losses while saving (showing 5 of 45). These functions will not be directly callable after loading.\n"
     ]
    },
    {
     "name": "stdout",
     "output_type": "stream",
     "text": [
      "INFO:tensorflow:Assets written to: /Users/pierre/Documents/Cours/EDAN20/programs/ch10/python/assets\n"
     ]
    },
    {
     "name": "stderr",
     "output_type": "stream",
     "text": [
      "INFO:tensorflow:Assets written to: /Users/pierre/Documents/Cours/EDAN20/programs/ch10/python/assets\n",
      "  3%|▎         | 3/100 [07:19<3:53:55, 144.70s/it]"
     ]
    },
    {
     "name": "stdout",
     "output_type": "stream",
     "text": [
      "Epoch 4/100\n",
      "CoNLL score dev set\n",
      "dev 0.8979523610530715\n",
      "CoNLL score test set\n",
      "test 0.8644393912891376\n"
     ]
    },
    {
     "name": "stderr",
     "output_type": "stream",
     "text": [
      "WARNING:absl:Found untraced functions such as bidirectional_layer_call_and_return_conditional_losses, bidirectional_layer_call_fn, forward_lstm_1_layer_call_and_return_conditional_losses, forward_lstm_1_layer_call_fn, backward_lstm_1_layer_call_and_return_conditional_losses while saving (showing 5 of 45). These functions will not be directly callable after loading.\n"
     ]
    },
    {
     "name": "stdout",
     "output_type": "stream",
     "text": [
      "INFO:tensorflow:Assets written to: /Users/pierre/Documents/Cours/EDAN20/programs/ch10/python/assets\n"
     ]
    },
    {
     "name": "stderr",
     "output_type": "stream",
     "text": [
      "INFO:tensorflow:Assets written to: /Users/pierre/Documents/Cours/EDAN20/programs/ch10/python/assets\n",
      "  4%|▍         | 4/100 [09:39<3:48:30, 142.82s/it]"
     ]
    },
    {
     "name": "stdout",
     "output_type": "stream",
     "text": [
      "Epoch 5/100\n",
      "CoNLL score dev set\n",
      "dev 0.8975170804865856\n",
      "CoNLL score test set\n",
      "test 0.8586880669923238\n"
     ]
    },
    {
     "name": "stderr",
     "output_type": "stream",
     "text": [
      "  5%|▌         | 5/100 [11:39<3:33:06, 134.59s/it]"
     ]
    },
    {
     "name": "stdout",
     "output_type": "stream",
     "text": [
      "Epoch 6/100\n",
      "CoNLL score dev set\n",
      "dev 0.9078925412981813\n",
      "CoNLL score test set\n",
      "test 0.8749125262421273\n"
     ]
    },
    {
     "name": "stderr",
     "output_type": "stream",
     "text": [
      "WARNING:absl:Found untraced functions such as bidirectional_layer_call_and_return_conditional_losses, bidirectional_layer_call_fn, forward_lstm_1_layer_call_and_return_conditional_losses, forward_lstm_1_layer_call_fn, backward_lstm_1_layer_call_and_return_conditional_losses while saving (showing 5 of 45). These functions will not be directly callable after loading.\n"
     ]
    },
    {
     "name": "stdout",
     "output_type": "stream",
     "text": [
      "INFO:tensorflow:Assets written to: /Users/pierre/Documents/Cours/EDAN20/programs/ch10/python/assets\n"
     ]
    },
    {
     "name": "stderr",
     "output_type": "stream",
     "text": [
      "INFO:tensorflow:Assets written to: /Users/pierre/Documents/Cours/EDAN20/programs/ch10/python/assets\n",
      "  6%|▌         | 6/100 [13:56<3:32:32, 135.67s/it]"
     ]
    },
    {
     "name": "stdout",
     "output_type": "stream",
     "text": [
      "Epoch 7/100\n",
      "CoNLL score dev set\n",
      "dev 0.9046822742474917\n",
      "CoNLL score test set\n",
      "test 0.8739260038576188\n"
     ]
    },
    {
     "name": "stderr",
     "output_type": "stream",
     "text": [
      "  7%|▋         | 7/100 [15:54<3:21:15, 129.84s/it]"
     ]
    },
    {
     "name": "stdout",
     "output_type": "stream",
     "text": [
      "Epoch 8/100\n",
      "CoNLL score dev set\n",
      "dev 0.9122338204592901\n",
      "CoNLL score test set\n",
      "test 0.8766477520733305\n"
     ]
    },
    {
     "name": "stderr",
     "output_type": "stream",
     "text": [
      "WARNING:absl:Found untraced functions such as bidirectional_layer_call_and_return_conditional_losses, bidirectional_layer_call_fn, forward_lstm_1_layer_call_and_return_conditional_losses, forward_lstm_1_layer_call_fn, backward_lstm_1_layer_call_and_return_conditional_losses while saving (showing 5 of 45). These functions will not be directly callable after loading.\n"
     ]
    },
    {
     "name": "stdout",
     "output_type": "stream",
     "text": [
      "INFO:tensorflow:Assets written to: /Users/pierre/Documents/Cours/EDAN20/programs/ch10/python/assets\n"
     ]
    },
    {
     "name": "stderr",
     "output_type": "stream",
     "text": [
      "INFO:tensorflow:Assets written to: /Users/pierre/Documents/Cours/EDAN20/programs/ch10/python/assets\n",
      "  8%|▊         | 8/100 [18:16<3:24:39, 133.47s/it]"
     ]
    },
    {
     "name": "stdout",
     "output_type": "stream",
     "text": [
      "Epoch 9/100\n",
      "CoNLL score dev set\n",
      "dev 0.9199532085561497\n",
      "CoNLL score test set\n",
      "test 0.8730352776807545\n"
     ]
    },
    {
     "name": "stderr",
     "output_type": "stream",
     "text": [
      "WARNING:absl:Found untraced functions such as bidirectional_layer_call_and_return_conditional_losses, bidirectional_layer_call_fn, forward_lstm_1_layer_call_and_return_conditional_losses, forward_lstm_1_layer_call_fn, backward_lstm_1_layer_call_and_return_conditional_losses while saving (showing 5 of 45). These functions will not be directly callable after loading.\n"
     ]
    },
    {
     "name": "stdout",
     "output_type": "stream",
     "text": [
      "INFO:tensorflow:Assets written to: /Users/pierre/Documents/Cours/EDAN20/programs/ch10/python/assets\n"
     ]
    },
    {
     "name": "stderr",
     "output_type": "stream",
     "text": [
      "INFO:tensorflow:Assets written to: /Users/pierre/Documents/Cours/EDAN20/programs/ch10/python/assets\n",
      "  9%|▉         | 9/100 [20:38<3:26:47, 136.34s/it]"
     ]
    },
    {
     "name": "stdout",
     "output_type": "stream",
     "text": [
      "Epoch 10/100\n",
      "CoNLL score dev set\n",
      "dev 0.9185444833917543\n",
      "CoNLL score test set\n",
      "test 0.8770827881008462\n"
     ]
    },
    {
     "name": "stderr",
     "output_type": "stream",
     "text": [
      " 10%|█         | 10/100 [22:36<3:15:42, 130.47s/it]"
     ]
    },
    {
     "name": "stdout",
     "output_type": "stream",
     "text": [
      "Epoch 11/100\n",
      "CoNLL score dev set\n",
      "dev 0.9234501798711621\n",
      "CoNLL score test set\n",
      "test 0.8797058308527403\n"
     ]
    },
    {
     "name": "stderr",
     "output_type": "stream",
     "text": [
      "WARNING:absl:Found untraced functions such as bidirectional_layer_call_and_return_conditional_losses, bidirectional_layer_call_fn, forward_lstm_1_layer_call_and_return_conditional_losses, forward_lstm_1_layer_call_fn, backward_lstm_1_layer_call_and_return_conditional_losses while saving (showing 5 of 45). These functions will not be directly callable after loading.\n"
     ]
    },
    {
     "name": "stdout",
     "output_type": "stream",
     "text": [
      "INFO:tensorflow:Assets written to: /Users/pierre/Documents/Cours/EDAN20/programs/ch10/python/assets\n"
     ]
    },
    {
     "name": "stderr",
     "output_type": "stream",
     "text": [
      "INFO:tensorflow:Assets written to: /Users/pierre/Documents/Cours/EDAN20/programs/ch10/python/assets\n",
      " 11%|█         | 11/100 [24:56<3:18:02, 133.51s/it]"
     ]
    },
    {
     "name": "stdout",
     "output_type": "stream",
     "text": [
      "Epoch 12/100\n",
      "CoNLL score dev set\n",
      "dev 0.9219585561497327\n",
      "CoNLL score test set\n",
      "test 0.8774475524475525\n"
     ]
    },
    {
     "name": "stderr",
     "output_type": "stream",
     "text": [
      " 12%|█▏        | 12/100 [26:54<3:08:47, 128.72s/it]"
     ]
    },
    {
     "name": "stdout",
     "output_type": "stream",
     "text": [
      "Epoch 13/100\n",
      "CoNLL score dev set\n",
      "dev 0.9148687071416625\n",
      "CoNLL score test set\n",
      "test 0.8760185753088583\n"
     ]
    },
    {
     "name": "stderr",
     "output_type": "stream",
     "text": [
      " 13%|█▎        | 13/100 [28:56<3:03:46, 126.74s/it]"
     ]
    },
    {
     "name": "stdout",
     "output_type": "stream",
     "text": [
      "Epoch 14/100\n",
      "CoNLL score dev set\n",
      "dev 0.9243021208818845\n",
      "CoNLL score test set\n",
      "test 0.8816262157189171\n"
     ]
    },
    {
     "name": "stderr",
     "output_type": "stream",
     "text": [
      "WARNING:absl:Found untraced functions such as bidirectional_layer_call_and_return_conditional_losses, bidirectional_layer_call_fn, forward_lstm_1_layer_call_and_return_conditional_losses, forward_lstm_1_layer_call_fn, backward_lstm_1_layer_call_and_return_conditional_losses while saving (showing 5 of 45). These functions will not be directly callable after loading.\n"
     ]
    },
    {
     "name": "stdout",
     "output_type": "stream",
     "text": [
      "INFO:tensorflow:Assets written to: /Users/pierre/Documents/Cours/EDAN20/programs/ch10/python/assets\n"
     ]
    },
    {
     "name": "stderr",
     "output_type": "stream",
     "text": [
      "INFO:tensorflow:Assets written to: /Users/pierre/Documents/Cours/EDAN20/programs/ch10/python/assets\n",
      " 14%|█▍        | 14/100 [31:17<3:07:48, 131.03s/it]"
     ]
    },
    {
     "name": "stdout",
     "output_type": "stream",
     "text": [
      "Epoch 15/100\n",
      "CoNLL score dev set\n",
      "dev 0.9253132832080202\n",
      "CoNLL score test set\n",
      "test 0.8795391061452514\n"
     ]
    },
    {
     "name": "stderr",
     "output_type": "stream",
     "text": [
      "WARNING:absl:Found untraced functions such as bidirectional_layer_call_and_return_conditional_losses, bidirectional_layer_call_fn, forward_lstm_1_layer_call_and_return_conditional_losses, forward_lstm_1_layer_call_fn, backward_lstm_1_layer_call_and_return_conditional_losses while saving (showing 5 of 45). These functions will not be directly callable after loading.\n"
     ]
    },
    {
     "name": "stdout",
     "output_type": "stream",
     "text": [
      "INFO:tensorflow:Assets written to: /Users/pierre/Documents/Cours/EDAN20/programs/ch10/python/assets\n"
     ]
    },
    {
     "name": "stderr",
     "output_type": "stream",
     "text": [
      "INFO:tensorflow:Assets written to: /Users/pierre/Documents/Cours/EDAN20/programs/ch10/python/assets\n",
      " 15%|█▌        | 15/100 [33:38<3:10:05, 134.18s/it]"
     ]
    },
    {
     "name": "stdout",
     "output_type": "stream",
     "text": [
      "Epoch 16/100\n",
      "CoNLL score dev set\n",
      "dev 0.9216259076871713\n",
      "CoNLL score test set\n",
      "test 0.8767528960891908\n"
     ]
    },
    {
     "name": "stderr",
     "output_type": "stream",
     "text": [
      " 16%|█▌        | 16/100 [35:37<3:01:31, 129.66s/it]"
     ]
    },
    {
     "name": "stdout",
     "output_type": "stream",
     "text": [
      "Epoch 17/100\n",
      "CoNLL score dev set\n",
      "dev 0.9252031158388474\n",
      "CoNLL score test set\n",
      "test 0.8862779482683034\n"
     ]
    },
    {
     "name": "stderr",
     "output_type": "stream",
     "text": [
      " 17%|█▋        | 17/100 [37:37<2:55:03, 126.55s/it]"
     ]
    },
    {
     "name": "stdout",
     "output_type": "stream",
     "text": [
      "Epoch 18/100\n",
      "CoNLL score dev set\n",
      "dev 0.9246987951807228\n",
      "CoNLL score test set\n",
      "test 0.8818952705656089\n"
     ]
    },
    {
     "name": "stderr",
     "output_type": "stream",
     "text": [
      " 18%|█▊        | 18/100 [39:41<2:52:00, 125.86s/it]"
     ]
    },
    {
     "name": "stdout",
     "output_type": "stream",
     "text": [
      "Epoch 19/100\n",
      "CoNLL score dev set\n",
      "dev 0.9250754274220584\n",
      "CoNLL score test set\n",
      "test 0.8850705707022004\n"
     ]
    },
    {
     "name": "stderr",
     "output_type": "stream",
     "text": [
      " 19%|█▉        | 19/100 [41:51<2:51:39, 127.15s/it]"
     ]
    },
    {
     "name": "stdout",
     "output_type": "stream",
     "text": [
      "Epoch 20/100\n",
      "CoNLL score dev set\n",
      "dev 0.9248264905092399\n",
      "CoNLL score test set\n",
      "test 0.883724993448065\n"
     ]
    },
    {
     "name": "stderr",
     "output_type": "stream",
     "text": [
      " 20%|██        | 20/100 [43:50<2:46:09, 124.62s/it]"
     ]
    },
    {
     "name": "stdout",
     "output_type": "stream",
     "text": [
      "Epoch 21/100\n",
      "CoNLL score dev set\n",
      "dev 0.9261834939254294\n",
      "CoNLL score test set\n",
      "test 0.8809126810004388\n"
     ]
    },
    {
     "name": "stderr",
     "output_type": "stream",
     "text": [
      "WARNING:absl:Found untraced functions such as bidirectional_layer_call_and_return_conditional_losses, bidirectional_layer_call_fn, forward_lstm_1_layer_call_and_return_conditional_losses, forward_lstm_1_layer_call_fn, backward_lstm_1_layer_call_and_return_conditional_losses while saving (showing 5 of 45). These functions will not be directly callable after loading.\n"
     ]
    },
    {
     "name": "stdout",
     "output_type": "stream",
     "text": [
      "INFO:tensorflow:Assets written to: /Users/pierre/Documents/Cours/EDAN20/programs/ch10/python/assets\n"
     ]
    },
    {
     "name": "stderr",
     "output_type": "stream",
     "text": [
      "INFO:tensorflow:Assets written to: /Users/pierre/Documents/Cours/EDAN20/programs/ch10/python/assets\n",
      " 21%|██        | 21/100 [46:14<2:51:46, 130.46s/it]"
     ]
    },
    {
     "name": "stdout",
     "output_type": "stream",
     "text": [
      "Epoch 22/100\n",
      "CoNLL score dev set\n",
      "dev 0.9273715002089428\n",
      "CoNLL score test set\n",
      "test 0.8835502751812702\n"
     ]
    },
    {
     "name": "stderr",
     "output_type": "stream",
     "text": [
      "WARNING:absl:Found untraced functions such as bidirectional_layer_call_and_return_conditional_losses, bidirectional_layer_call_fn, forward_lstm_1_layer_call_and_return_conditional_losses, forward_lstm_1_layer_call_fn, backward_lstm_1_layer_call_and_return_conditional_losses while saving (showing 5 of 45). These functions will not be directly callable after loading.\n"
     ]
    },
    {
     "name": "stdout",
     "output_type": "stream",
     "text": [
      "INFO:tensorflow:Assets written to: /Users/pierre/Documents/Cours/EDAN20/programs/ch10/python/assets\n"
     ]
    },
    {
     "name": "stderr",
     "output_type": "stream",
     "text": [
      "INFO:tensorflow:Assets written to: /Users/pierre/Documents/Cours/EDAN20/programs/ch10/python/assets\n",
      " 22%|██▏       | 22/100 [48:35<2:53:32, 133.49s/it]"
     ]
    },
    {
     "name": "stdout",
     "output_type": "stream",
     "text": [
      "Epoch 23/100\n",
      "CoNLL score dev set\n",
      "dev 0.9244020739254056\n",
      "CoNLL score test set\n",
      "test 0.882404333391578\n"
     ]
    },
    {
     "name": "stderr",
     "output_type": "stream",
     "text": [
      " 23%|██▎       | 23/100 [50:33<2:45:24, 128.89s/it]"
     ]
    },
    {
     "name": "stdout",
     "output_type": "stream",
     "text": [
      "Epoch 24/100\n",
      "CoNLL score dev set\n",
      "dev 0.926343951174651\n",
      "CoNLL score test set\n",
      "test 0.8848039215686274\n"
     ]
    },
    {
     "name": "stderr",
     "output_type": "stream",
     "text": [
      " 24%|██▍       | 24/100 [52:29<2:38:16, 124.95s/it]"
     ]
    },
    {
     "name": "stdout",
     "output_type": "stream",
     "text": [
      "Epoch 25/100\n",
      "CoNLL score dev set\n",
      "dev 0.9298362846642164\n",
      "CoNLL score test set\n",
      "test 0.8832708569435969\n"
     ]
    },
    {
     "name": "stderr",
     "output_type": "stream",
     "text": [
      "WARNING:absl:Found untraced functions such as bidirectional_layer_call_and_return_conditional_losses, bidirectional_layer_call_fn, forward_lstm_1_layer_call_and_return_conditional_losses, forward_lstm_1_layer_call_fn, backward_lstm_1_layer_call_and_return_conditional_losses while saving (showing 5 of 45). These functions will not be directly callable after loading.\n"
     ]
    },
    {
     "name": "stdout",
     "output_type": "stream",
     "text": [
      "INFO:tensorflow:Assets written to: /Users/pierre/Documents/Cours/EDAN20/programs/ch10/python/assets\n"
     ]
    },
    {
     "name": "stderr",
     "output_type": "stream",
     "text": [
      "INFO:tensorflow:Assets written to: /Users/pierre/Documents/Cours/EDAN20/programs/ch10/python/assets\n",
      " 25%|██▌       | 25/100 [55:00<2:46:07, 132.90s/it]"
     ]
    },
    {
     "name": "stdout",
     "output_type": "stream",
     "text": [
      "Epoch 26/100\n",
      "CoNLL score dev set\n",
      "dev 0.9267925789737589\n",
      "CoNLL score test set\n",
      "test 0.8853920797272488\n"
     ]
    },
    {
     "name": "stderr",
     "output_type": "stream",
     "text": [
      " 26%|██▌       | 26/100 [57:11<2:43:12, 132.33s/it]"
     ]
    },
    {
     "name": "stdout",
     "output_type": "stream",
     "text": [
      "Epoch 27/100\n",
      "CoNLL score dev set\n",
      "dev 0.9289471487016783\n",
      "CoNLL score test set\n",
      "test 0.8829127739456911\n"
     ]
    },
    {
     "name": "stderr",
     "output_type": "stream",
     "text": [
      " 27%|██▋       | 27/100 [59:20<2:39:50, 131.38s/it]"
     ]
    },
    {
     "name": "stdout",
     "output_type": "stream",
     "text": [
      "Epoch 28/100\n",
      "CoNLL score dev set\n",
      "dev 0.926841489894772\n",
      "CoNLL score test set\n",
      "test 0.8828418934289965\n"
     ]
    },
    {
     "name": "stderr",
     "output_type": "stream",
     "text": [
      " 28%|██▊       | 28/100 [1:01:17<2:32:31, 127.10s/it]"
     ]
    },
    {
     "name": "stdout",
     "output_type": "stream",
     "text": [
      "Epoch 29/100\n",
      "CoNLL score dev set\n",
      "dev 0.9226274935314247\n",
      "CoNLL score test set\n",
      "test 0.8783713241691318\n"
     ]
    },
    {
     "name": "stderr",
     "output_type": "stream",
     "text": [
      " 29%|██▉       | 29/100 [1:03:12<2:26:09, 123.51s/it]"
     ]
    },
    {
     "name": "stdout",
     "output_type": "stream",
     "text": [
      "Epoch 30/100\n",
      "CoNLL score dev set\n",
      "dev 0.925545249435949\n",
      "CoNLL score test set\n",
      "test 0.8822501747030048\n"
     ]
    },
    {
     "name": "stderr",
     "output_type": "stream",
     "text": [
      " 30%|███       | 30/100 [1:05:08<2:21:14, 121.06s/it]"
     ]
    },
    {
     "name": "stdout",
     "output_type": "stream",
     "text": [
      "Epoch 31/100\n",
      "CoNLL score dev set\n",
      "dev 0.9279264214046823\n",
      "CoNLL score test set\n",
      "test 0.8819875776397516\n"
     ]
    },
    {
     "name": "stderr",
     "output_type": "stream",
     "text": [
      " 31%|███       | 31/100 [1:07:03<2:17:13, 119.32s/it]"
     ]
    },
    {
     "name": "stdout",
     "output_type": "stream",
     "text": [
      "Epoch 32/100\n",
      "CoNLL score dev set\n",
      "dev 0.9274247491638796\n",
      "CoNLL score test set\n",
      "test 0.880650520241322\n"
     ]
    },
    {
     "name": "stderr",
     "output_type": "stream",
     "text": [
      " 32%|███▏      | 32/100 [1:08:57<2:13:34, 117.86s/it]"
     ]
    },
    {
     "name": "stdout",
     "output_type": "stream",
     "text": [
      "Epoch 33/100\n",
      "CoNLL score dev set\n",
      "dev 0.9306764902880107\n",
      "CoNLL score test set\n",
      "test 0.8841239278837738\n"
     ]
    },
    {
     "name": "stderr",
     "output_type": "stream",
     "text": [
      "WARNING:absl:Found untraced functions such as bidirectional_layer_call_and_return_conditional_losses, bidirectional_layer_call_fn, forward_lstm_1_layer_call_and_return_conditional_losses, forward_lstm_1_layer_call_fn, backward_lstm_1_layer_call_and_return_conditional_losses while saving (showing 5 of 45). These functions will not be directly callable after loading.\n"
     ]
    },
    {
     "name": "stdout",
     "output_type": "stream",
     "text": [
      "INFO:tensorflow:Assets written to: /Users/pierre/Documents/Cours/EDAN20/programs/ch10/python/assets\n"
     ]
    },
    {
     "name": "stderr",
     "output_type": "stream",
     "text": [
      "INFO:tensorflow:Assets written to: /Users/pierre/Documents/Cours/EDAN20/programs/ch10/python/assets\n",
      " 33%|███▎      | 33/100 [1:11:14<2:17:55, 123.51s/it]"
     ]
    },
    {
     "name": "stdout",
     "output_type": "stream",
     "text": [
      "Epoch 34/100\n",
      "CoNLL score dev set\n",
      "dev 0.9272742488911206\n",
      "CoNLL score test set\n",
      "test 0.8818484158935762\n"
     ]
    },
    {
     "name": "stderr",
     "output_type": "stream",
     "text": [
      " 34%|███▍      | 34/100 [1:13:07<2:12:14, 120.22s/it]"
     ]
    },
    {
     "name": "stdout",
     "output_type": "stream",
     "text": [
      "Epoch 35/100\n",
      "CoNLL score dev set\n",
      "dev 0.92779542035768\n",
      "CoNLL score test set\n",
      "test 0.8806282722513089\n"
     ]
    },
    {
     "name": "stderr",
     "output_type": "stream",
     "text": [
      " 35%|███▌      | 35/100 [1:14:59<2:07:42, 117.89s/it]"
     ]
    },
    {
     "name": "stdout",
     "output_type": "stream",
     "text": [
      "Epoch 36/100\n",
      "CoNLL score dev set\n",
      "dev 0.9272043460091934\n",
      "CoNLL score test set\n",
      "test 0.8819723727924462\n"
     ]
    },
    {
     "name": "stderr",
     "output_type": "stream",
     "text": [
      " 36%|███▌      | 36/100 [1:16:54<2:04:53, 117.09s/it]"
     ]
    },
    {
     "name": "stdout",
     "output_type": "stream",
     "text": [
      "Epoch 37/100\n",
      "CoNLL score dev set\n",
      "dev 0.9243473183751774\n",
      "CoNLL score test set\n",
      "test 0.8776275621456606\n"
     ]
    },
    {
     "name": "stderr",
     "output_type": "stream",
     "text": [
      " 37%|███▋      | 37/100 [1:18:50<2:02:27, 116.62s/it]"
     ]
    },
    {
     "name": "stdout",
     "output_type": "stream",
     "text": [
      "Epoch 38/100\n",
      "CoNLL score dev set\n",
      "dev 0.9267190898444037\n",
      "CoNLL score test set\n",
      "test 0.8824507658643326\n"
     ]
    },
    {
     "name": "stderr",
     "output_type": "stream",
     "text": [
      " 38%|███▊      | 38/100 [1:20:41<1:58:57, 115.13s/it]"
     ]
    },
    {
     "name": "stdout",
     "output_type": "stream",
     "text": [
      "Epoch 39/100\n",
      "CoNLL score dev set\n",
      "dev 0.9278247051936104\n",
      "CoNLL score test set\n",
      "test 0.8842215804673142\n"
     ]
    },
    {
     "name": "stderr",
     "output_type": "stream",
     "text": [
      " 39%|███▉      | 39/100 [1:22:34<1:56:20, 114.44s/it]"
     ]
    },
    {
     "name": "stdout",
     "output_type": "stream",
     "text": [
      "Epoch 40/100\n",
      "CoNLL score dev set\n",
      "dev 0.9275749728510567\n",
      "CoNLL score test set\n",
      "test 0.8781637283993716\n"
     ]
    },
    {
     "name": "stderr",
     "output_type": "stream",
     "text": [
      " 40%|████      | 40/100 [1:24:27<1:53:52, 113.87s/it]"
     ]
    },
    {
     "name": "stdout",
     "output_type": "stream",
     "text": [
      "Epoch 41/100\n",
      "CoNLL score dev set\n",
      "dev 0.927541093592754\n",
      "CoNLL score test set\n",
      "test 0.8856340992808279\n"
     ]
    },
    {
     "name": "stderr",
     "output_type": "stream",
     "text": [
      " 41%|████      | 41/100 [1:26:20<1:51:44, 113.64s/it]"
     ]
    },
    {
     "name": "stdout",
     "output_type": "stream",
     "text": [
      "Epoch 42/100\n",
      "CoNLL score dev set\n",
      "dev 0.9268211089738229\n",
      "CoNLL score test set\n",
      "test 0.884965034965035\n"
     ]
    },
    {
     "name": "stderr",
     "output_type": "stream",
     "text": [
      " 42%|████▏     | 42/100 [1:28:14<1:50:02, 113.83s/it]"
     ]
    },
    {
     "name": "stdout",
     "output_type": "stream",
     "text": [
      "Epoch 43/100\n",
      "CoNLL score dev set\n",
      "dev 0.9253406905777108\n",
      "CoNLL score test set\n",
      "test 0.8843834658743336\n"
     ]
    },
    {
     "name": "stderr",
     "output_type": "stream",
     "text": [
      " 43%|████▎     | 43/100 [1:30:09<1:48:16, 113.97s/it]"
     ]
    },
    {
     "name": "stdout",
     "output_type": "stream",
     "text": [
      "Epoch 44/100\n",
      "CoNLL score dev set\n",
      "dev 0.9243753655887023\n",
      "CoNLL score test set\n",
      "test 0.884679179397643\n"
     ]
    },
    {
     "name": "stderr",
     "output_type": "stream",
     "text": [
      " 44%|████▍     | 44/100 [1:32:03<1:46:26, 114.04s/it]"
     ]
    },
    {
     "name": "stdout",
     "output_type": "stream",
     "text": [
      "Epoch 45/100\n",
      "CoNLL score dev set\n",
      "dev 0.9229997491848507\n",
      "CoNLL score test set\n",
      "test 0.8889083122104712\n"
     ]
    },
    {
     "name": "stderr",
     "output_type": "stream",
     "text": [
      " 45%|████▌     | 45/100 [1:33:56<1:44:25, 113.92s/it]"
     ]
    },
    {
     "name": "stdout",
     "output_type": "stream",
     "text": [
      "Epoch 46/100\n",
      "CoNLL score dev set\n",
      "dev 0.9263562651508819\n",
      "CoNLL score test set\n",
      "test 0.8837372058437583\n"
     ]
    },
    {
     "name": "stderr",
     "output_type": "stream",
     "text": [
      " 46%|████▌     | 46/100 [1:35:50<1:42:32, 113.94s/it]"
     ]
    },
    {
     "name": "stdout",
     "output_type": "stream",
     "text": [
      "Epoch 47/100\n",
      "CoNLL score dev set\n",
      "dev 0.9289297658862876\n",
      "CoNLL score test set\n",
      "test 0.8858966512197255\n"
     ]
    },
    {
     "name": "stderr",
     "output_type": "stream",
     "text": [
      " 47%|████▋     | 47/100 [1:37:44<1:40:39, 113.95s/it]"
     ]
    },
    {
     "name": "stdout",
     "output_type": "stream",
     "text": [
      "Epoch 48/100\n",
      "CoNLL score dev set\n",
      "dev 0.9265678640207654\n",
      "CoNLL score test set\n",
      "test 0.8872364622517716\n"
     ]
    },
    {
     "name": "stderr",
     "output_type": "stream",
     "text": [
      " 48%|████▊     | 48/100 [1:39:38<1:38:38, 113.82s/it]"
     ]
    },
    {
     "name": "stdout",
     "output_type": "stream",
     "text": [
      "Epoch 49/100\n",
      "CoNLL score dev set\n",
      "dev 0.9238222519211495\n",
      "CoNLL score test set\n",
      "test 0.8863279203771608\n"
     ]
    },
    {
     "name": "stderr",
     "output_type": "stream",
     "text": [
      " 49%|████▉     | 49/100 [1:41:30<1:36:11, 113.17s/it]"
     ]
    },
    {
     "name": "stdout",
     "output_type": "stream",
     "text": [
      "Epoch 50/100\n",
      "CoNLL score dev set\n",
      "dev 0.9276987447698745\n",
      "CoNLL score test set\n",
      "test 0.8825485734290216\n"
     ]
    },
    {
     "name": "stderr",
     "output_type": "stream",
     "text": [
      " 50%|█████     | 50/100 [1:43:22<1:34:10, 113.01s/it]"
     ]
    },
    {
     "name": "stdout",
     "output_type": "stream",
     "text": [
      "Epoch 51/100\n",
      "CoNLL score dev set\n",
      "dev 0.9280575539568345\n",
      "CoNLL score test set\n",
      "test 0.8821932206358938\n"
     ]
    },
    {
     "name": "stderr",
     "output_type": "stream",
     "text": [
      " 51%|█████     | 51/100 [1:45:14<1:31:54, 112.55s/it]"
     ]
    },
    {
     "name": "stdout",
     "output_type": "stream",
     "text": [
      "Epoch 52/100\n",
      "CoNLL score dev set\n",
      "dev 0.9274200283972271\n",
      "CoNLL score test set\n",
      "test 0.8859236002093145\n"
     ]
    },
    {
     "name": "stderr",
     "output_type": "stream",
     "text": [
      " 52%|█████▏    | 52/100 [1:47:07<1:30:07, 112.67s/it]"
     ]
    },
    {
     "name": "stdout",
     "output_type": "stream",
     "text": [
      "Epoch 53/100\n",
      "CoNLL score dev set\n",
      "dev 0.9289115362125137\n",
      "CoNLL score test set\n",
      "test 0.8870021881838075\n"
     ]
    },
    {
     "name": "stderr",
     "output_type": "stream",
     "text": [
      " 53%|█████▎    | 53/100 [1:49:00<1:28:29, 112.96s/it]"
     ]
    },
    {
     "name": "stdout",
     "output_type": "stream",
     "text": [
      "Epoch 54/100\n",
      "CoNLL score dev set\n",
      "dev 0.925041736227045\n",
      "CoNLL score test set\n",
      "test 0.8815662966523905\n"
     ]
    },
    {
     "name": "stderr",
     "output_type": "stream",
     "text": [
      " 54%|█████▍    | 54/100 [1:50:53<1:26:32, 112.89s/it]"
     ]
    },
    {
     "name": "stdout",
     "output_type": "stream",
     "text": [
      "Epoch 55/100\n",
      "CoNLL score dev set\n",
      "dev 0.9232567849686848\n",
      "CoNLL score test set\n",
      "test 0.879230432881504\n"
     ]
    },
    {
     "name": "stderr",
     "output_type": "stream",
     "text": [
      " 55%|█████▌    | 55/100 [1:52:45<1:24:28, 112.63s/it]"
     ]
    },
    {
     "name": "stdout",
     "output_type": "stream",
     "text": [
      "Epoch 56/100\n",
      "CoNLL score dev set\n",
      "dev 0.9264105342111844\n",
      "CoNLL score test set\n",
      "test 0.8828043250784793\n"
     ]
    },
    {
     "name": "stderr",
     "output_type": "stream",
     "text": [
      " 56%|█████▌    | 56/100 [1:54:38<1:22:35, 112.63s/it]"
     ]
    },
    {
     "name": "stdout",
     "output_type": "stream",
     "text": [
      "Epoch 57/100\n",
      "CoNLL score dev set\n",
      "dev 0.9252710592160134\n",
      "CoNLL score test set\n",
      "test 0.885766646304215\n"
     ]
    },
    {
     "name": "stderr",
     "output_type": "stream",
     "text": [
      " 57%|█████▋    | 57/100 [1:56:31<1:20:56, 112.94s/it]"
     ]
    },
    {
     "name": "stdout",
     "output_type": "stream",
     "text": [
      "Epoch 58/100\n",
      "CoNLL score dev set\n",
      "dev 0.9274611398963731\n",
      "CoNLL score test set\n",
      "test 0.8810626583937778\n"
     ]
    },
    {
     "name": "stderr",
     "output_type": "stream",
     "text": [
      " 58%|█████▊    | 58/100 [1:58:24<1:18:55, 112.74s/it]"
     ]
    },
    {
     "name": "stdout",
     "output_type": "stream",
     "text": [
      "Epoch 59/100\n",
      "CoNLL score dev set\n",
      "dev 0.9289772727272728\n",
      "CoNLL score test set\n",
      "test 0.8834280717096632\n"
     ]
    },
    {
     "name": "stderr",
     "output_type": "stream",
     "text": [
      " 59%|█████▉    | 59/100 [2:00:17<1:17:08, 112.90s/it]"
     ]
    },
    {
     "name": "stdout",
     "output_type": "stream",
     "text": [
      "Epoch 60/100\n",
      "CoNLL score dev set\n",
      "dev 0.928828904350742\n",
      "CoNLL score test set\n",
      "test 0.882523504085757\n"
     ]
    },
    {
     "name": "stderr",
     "output_type": "stream",
     "text": [
      " 60%|██████    | 60/100 [2:02:09<1:15:13, 112.83s/it]"
     ]
    },
    {
     "name": "stdout",
     "output_type": "stream",
     "text": [
      "Epoch 61/100\n",
      "CoNLL score dev set\n",
      "dev 0.9270249937306696\n",
      "CoNLL score test set\n",
      "test 0.879153550192375\n"
     ]
    },
    {
     "name": "stderr",
     "output_type": "stream",
     "text": [
      " 61%|██████    | 61/100 [2:04:01<1:13:07, 112.49s/it]"
     ]
    },
    {
     "name": "stdout",
     "output_type": "stream",
     "text": [
      "Epoch 62/100\n",
      "CoNLL score dev set\n",
      "dev 0.9272011393147357\n",
      "CoNLL score test set\n",
      "test 0.8818014544817313\n"
     ]
    },
    {
     "name": "stderr",
     "output_type": "stream",
     "text": [
      " 62%|██████▏   | 62/100 [2:05:55<1:11:27, 112.82s/it]"
     ]
    },
    {
     "name": "stdout",
     "output_type": "stream",
     "text": [
      "Epoch 63/100\n",
      "CoNLL score dev set\n",
      "dev 0.9271844660194175\n",
      "CoNLL score test set\n",
      "test 0.8864893336844877\n"
     ]
    },
    {
     "name": "stderr",
     "output_type": "stream",
     "text": [
      " 63%|██████▎   | 63/100 [2:07:47<1:09:25, 112.58s/it]"
     ]
    },
    {
     "name": "stdout",
     "output_type": "stream",
     "text": [
      "Epoch 64/100\n",
      "CoNLL score dev set\n",
      "dev 0.9257496032740332\n",
      "CoNLL score test set\n",
      "test 0.8794338633583785\n"
     ]
    },
    {
     "name": "stderr",
     "output_type": "stream",
     "text": [
      " 63%|██████▎   | 63/100 [2:09:38<1:16:08, 123.47s/it]\n"
     ]
    }
   ],
   "source": [
    "dev_scores = []\n",
    "test_scores = []\n",
    "for epoch in tqdm(range(EPOCHS)):\n",
    "    print(\"Epoch {}/{}\".format(epoch + 1, EPOCHS))\n",
    "    for i, batch in enumerate(minibatch_generator(training_bins)):\n",
    "        char_batch, token_batch, label_batch = batch\n",
    "        # Symbol substitution to train the unknown word embedding\n",
    "        new_token_batch = []\n",
    "        for i, sentence in enumerate(token_batch):\n",
    "            new_token_batch += [[1 if idx_word != 0 and counts[idx2word[idx_word]] == 1 and np.random.uniform() < PROB_SUBST\n",
    "                                 else idx_word for idx_word in sentence]]\n",
    "        new_token_batch = np.array(new_token_batch)\n",
    "        loss = model.train_on_batch([char_batch, new_token_batch],\n",
    "                                    label_batch)\n",
    "\n",
    "    # We evaluate the dev set\n",
    "    print('CoNLL score dev set')\n",
    "    Y_dev_hat = model.predict([X_dev_char_idx, X_dev_word_idx])\n",
    "    for sent, y_probs_hat in zip(dev_dict, Y_dev_hat):\n",
    "        sent_len = len(sent)\n",
    "        y_probs_hat = y_probs_hat[:sent_len]\n",
    "        y_hat = map(np.argmax, y_probs_hat)\n",
    "        for word, ner_hat in zip(sent, y_hat):\n",
    "            word['pner'] = idx2ner[ner_hat]\n",
    "    conll_str = dict2conll(dev_dict, ann_column_names)\n",
    "\n",
    "    outfile = RESULTS_DIR + 'dev.out'\n",
    "    with open(outfile, 'w', encoding='utf8') as f_out:\n",
    "        f_out.write(conll_str)\n",
    "    lines = open(outfile, encoding='utf8').read().splitlines()\n",
    "    res = conlleval.evaluate(lines)\n",
    "    dev_score = res['overall']['chunks']['evals']['f1']\n",
    "    dev_scores += [dev_score] \n",
    "    print('dev', dev_score, flush=True)\n",
    "       \n",
    "    # We evaluate the test set\n",
    "    print('CoNLL score test set')\n",
    "    Y_test_hat = model.predict([X_test_char_idx, X_test_word_idx])\n",
    "    for sent, y_probs_hat in zip(test_dict, Y_test_hat):\n",
    "        sent_len = len(sent)\n",
    "        y_probs_hat = y_probs_hat[:sent_len]\n",
    "        y_hat = map(np.argmax, y_probs_hat)\n",
    "        for word, ner_hat in zip(sent, y_hat):\n",
    "            word['pner'] = idx2ner[ner_hat]\n",
    "    conll_str = dict2conll(test_dict, ann_column_names)\n",
    "\n",
    "    outfile = RESULTS_DIR + 'test.out'\n",
    "    with open(outfile, 'w', encoding='utf8') as f_out:\n",
    "        f_out.write(conll_str)\n",
    "    lines = open(outfile, encoding='utf8').read().splitlines()\n",
    "    res = conlleval.evaluate(lines)\n",
    "    test_score = res['overall']['chunks']['evals']['f1']\n",
    "    test_scores += [test_score]\n",
    "    print('test', test_score, flush=True)\n",
    "    \n",
    "    if dev_score == max(dev_scores):\n",
    "        model.save(MODELS_DIR)\n",
    "    \n",
    "    if max(dev_scores) > max(dev_scores[-PATIENCE - 1:]):\n",
    "        break"
   ]
  },
  {
   "cell_type": "code",
   "execution_count": 72,
   "metadata": {},
   "outputs": [
    {
     "data": {
      "text/plain": [
       "(32, 0.9306764902880107)"
      ]
     },
     "execution_count": 72,
     "metadata": {},
     "output_type": "execute_result"
    }
   ],
   "source": [
    "np.argmax(dev_scores), max(dev_scores)"
   ]
  },
  {
   "cell_type": "code",
   "execution_count": 73,
   "metadata": {},
   "outputs": [
    {
     "data": {
      "text/plain": [
       "(44, 0.8889083122104712)"
      ]
     },
     "execution_count": 73,
     "metadata": {},
     "output_type": "execute_result"
    }
   ],
   "source": [
    "np.argmax(test_scores), max(test_scores)"
   ]
  },
  {
   "cell_type": "code",
   "execution_count": 74,
   "metadata": {},
   "outputs": [
    {
     "data": {
      "text/plain": [
       "\"callback_lists = [\\n    EarlyStopping(\\n        monitor='val_acc',\\n        patience=PATIENCE,\\n        restore_best_weights=True\\n    )\\n]\""
      ]
     },
     "execution_count": 74,
     "metadata": {},
     "output_type": "execute_result"
    }
   ],
   "source": [
    "\"\"\"callback_lists = [\n",
    "    EarlyStopping(\n",
    "        monitor='val_acc',\n",
    "        patience=PATIENCE,\n",
    "        restore_best_weights=True\n",
    "    )\n",
    "]\"\"\""
   ]
  },
  {
   "cell_type": "code",
   "execution_count": 75,
   "metadata": {},
   "outputs": [
    {
     "data": {
      "text/plain": [
       "'history = model.fit([X_train_char_idx, X_train_word_idx], Y_train, epochs=EPOCHS, verbose=2,\\n                    validation_data=([X_dev_char_idx, X_dev_word_idx], Y_dev),\\n                    callbacks=callback_lists)'"
      ]
     },
     "execution_count": 75,
     "metadata": {},
     "output_type": "execute_result"
    }
   ],
   "source": [
    "\"\"\"history = model.fit([X_train_char_idx, X_train_word_idx], Y_train, epochs=EPOCHS, verbose=2,\n",
    "                    validation_data=([X_dev_char_idx, X_dev_word_idx], Y_dev),\n",
    "                    callbacks=callback_lists)\"\"\""
   ]
  },
  {
   "cell_type": "markdown",
   "metadata": {},
   "source": [
    "We create a figure to show the training and validation losses and accuracies and a possible overfit."
   ]
  },
  {
   "cell_type": "code",
   "execution_count": 76,
   "metadata": {},
   "outputs": [
    {
     "data": {
      "text/plain": [
       "\"acc = history.history['acc']\\nval_acc = history.history['val_acc']\\nloss = history.history['loss']\\nval_loss = history.history['val_loss']\\n\\nepochs = range(1, len(acc) + 1)\\nplt.plot(epochs, acc, 'bo', label='Training accuracy')\\nplt.plot(epochs, val_acc, 'b', label='Validation accuracy')\\nplt.title('Training and validation accuracies')\\nplt.legend()\\n\\nplt.figure()\\nplt.plot(epochs, loss, 'bo', label='Training loss')\\nplt.plot(epochs, val_loss, 'b', label='Validation loss')\\nplt.title('Training and validation losses')\\nplt.legend()\\n\\nplt.show()\""
      ]
     },
     "execution_count": 76,
     "metadata": {},
     "output_type": "execute_result"
    }
   ],
   "source": [
    "\"\"\"acc = history.history['acc']\n",
    "val_acc = history.history['val_acc']\n",
    "loss = history.history['loss']\n",
    "val_loss = history.history['val_loss']\n",
    "\n",
    "epochs = range(1, len(acc) + 1)\n",
    "plt.plot(epochs, acc, 'bo', label='Training accuracy')\n",
    "plt.plot(epochs, val_acc, 'b', label='Validation accuracy')\n",
    "plt.title('Training and validation accuracies')\n",
    "plt.legend()\n",
    "\n",
    "plt.figure()\n",
    "plt.plot(epochs, loss, 'bo', label='Training loss')\n",
    "plt.plot(epochs, val_loss, 'b', label='Validation loss')\n",
    "plt.title('Training and validation losses')\n",
    "plt.legend()\n",
    "\n",
    "plt.show()\"\"\""
   ]
  },
  {
   "cell_type": "markdown",
   "metadata": {},
   "source": [
    "## Evaluating the System"
   ]
  },
  {
   "cell_type": "markdown",
   "metadata": {},
   "source": [
    "We restore the best corpus"
   ]
  },
  {
   "cell_type": "code",
   "execution_count": 77,
   "metadata": {},
   "outputs": [],
   "source": [
    "model = load_model(MODELS_DIR)"
   ]
  },
  {
   "cell_type": "markdown",
   "metadata": {},
   "source": [
    "Predict the NER sequence"
   ]
  },
  {
   "cell_type": "code",
   "execution_count": 78,
   "metadata": {},
   "outputs": [],
   "source": [
    "# We evaluate on all the test corpus\n",
    "Y_test_hat = model.predict([X_test_char_idx, X_test_word_idx])"
   ]
  },
  {
   "cell_type": "markdown",
   "metadata": {},
   "source": [
    "We predict one observation at a time to avoid padding. We could have a speed up with batches"
   ]
  },
  {
   "cell_type": "code",
   "execution_count": 79,
   "metadata": {},
   "outputs": [
    {
     "data": {
      "text/plain": [
       "'Y_test_hat = []\\nfor x_test_char_idx, x_test_word_idx in zip(X_test_char_idx, X_test_word_idx):\\n    y_pred_vect = model.predict([np.array([x_test_char_idx]), np.array([x_test_word_idx])])[0]\\n    Y_test_hat += [y_pred_vect]'"
      ]
     },
     "execution_count": 79,
     "metadata": {},
     "output_type": "execute_result"
    }
   ],
   "source": [
    "\"\"\"Y_test_hat = []\n",
    "for x_test_char_idx, x_test_word_idx in zip(X_test_char_idx, X_test_word_idx):\n",
    "    y_pred_vect = model.predict([np.array([x_test_char_idx]), np.array([x_test_word_idx])])[0]\n",
    "    Y_test_hat += [y_pred_vect]\"\"\""
   ]
  },
  {
   "cell_type": "markdown",
   "metadata": {},
   "source": [
    "Extract the indices of the highest probabilities from the lists and convert them into NER values. Add them with the `pner` key to the dictionaries in the `test_dict` list."
   ]
  },
  {
   "cell_type": "code",
   "execution_count": 80,
   "metadata": {},
   "outputs": [
    {
     "data": {
      "text/plain": [
       "[{'form': 'SOCCER', 'ppos': 'NN', 'pchunk': 'I-NP', 'ner': 'O', 'pner': 'O'},\n",
       " {'form': '-', 'ppos': ':', 'pchunk': 'O', 'ner': 'O', 'pner': 'O'},\n",
       " {'form': 'JAPAN',\n",
       "  'ppos': 'NNP',\n",
       "  'pchunk': 'I-NP',\n",
       "  'ner': 'I-LOC',\n",
       "  'pner': 'I-LOC'},\n",
       " {'form': 'GET', 'ppos': 'VB', 'pchunk': 'I-VP', 'ner': 'O', 'pner': 'O'},\n",
       " {'form': 'LUCKY', 'ppos': 'NNP', 'pchunk': 'I-NP', 'ner': 'O', 'pner': 'O'},\n",
       " {'form': 'WIN', 'ppos': 'NNP', 'pchunk': 'I-NP', 'ner': 'O', 'pner': 'O'},\n",
       " {'form': ',', 'ppos': ',', 'pchunk': 'O', 'ner': 'O', 'pner': 'O'},\n",
       " {'form': 'CHINA',\n",
       "  'ppos': 'NNP',\n",
       "  'pchunk': 'I-NP',\n",
       "  'ner': 'I-PER',\n",
       "  'pner': 'I-LOC'},\n",
       " {'form': 'IN', 'ppos': 'IN', 'pchunk': 'I-PP', 'ner': 'O', 'pner': 'O'},\n",
       " {'form': 'SURPRISE', 'ppos': 'DT', 'pchunk': 'I-NP', 'ner': 'O', 'pner': 'O'},\n",
       " {'form': 'DEFEAT', 'ppos': 'NN', 'pchunk': 'I-NP', 'ner': 'O', 'pner': 'O'},\n",
       " {'form': '.', 'ppos': '.', 'pchunk': 'O', 'ner': 'O', 'pner': 'O'}]"
      ]
     },
     "execution_count": 80,
     "metadata": {},
     "output_type": "execute_result"
    }
   ],
   "source": [
    "test_dict[1]"
   ]
  },
  {
   "cell_type": "code",
   "execution_count": 81,
   "metadata": {},
   "outputs": [
    {
     "data": {
      "text/plain": [
       "array([[1.2137539e-14, 1.1481569e-12, 7.5563767e-15, 9.0416066e-08,\n",
       "        1.1802445e-07, 2.2807811e-07, 2.2977916e-08, 9.9999952e-01],\n",
       "       [8.5224227e-14, 1.0428600e-12, 1.9022128e-13, 1.5684378e-09,\n",
       "        2.3755158e-09, 1.4266278e-09, 4.4725912e-09, 1.0000000e+00],\n",
       "       [2.9626544e-12, 5.4487841e-11, 7.7545887e-14, 9.9999022e-01,\n",
       "        9.3983914e-07, 2.6289644e-07, 8.4318463e-06, 8.0876426e-08],\n",
       "       [5.0089954e-12, 8.5850864e-09, 7.9824531e-13, 3.0230112e-08,\n",
       "        3.3426807e-07, 2.2746848e-07, 2.7122262e-05, 9.9997234e-01],\n",
       "       [3.3692057e-14, 8.9679889e-11, 5.5928421e-15, 1.7148403e-07,\n",
       "        1.3726685e-06, 3.8464139e-05, 1.4816503e-04, 9.9981183e-01]],\n",
       "      dtype=float32)"
      ]
     },
     "execution_count": 81,
     "metadata": {},
     "output_type": "execute_result"
    }
   ],
   "source": [
    "Y_test_hat[1][:5]"
   ]
  },
  {
   "cell_type": "code",
   "execution_count": 82,
   "metadata": {},
   "outputs": [],
   "source": [
    "for sent, y_probs_hat in zip(test_dict, Y_test_hat):\n",
    "    sent_len = len(sent)\n",
    "    y_probs_hat = y_probs_hat[:sent_len]\n",
    "    y_hat = map(np.argmax, y_probs_hat)\n",
    "    for word, ner_hat in zip(sent, y_hat):\n",
    "        word['pner'] = idx2ner[ner_hat]"
   ]
  },
  {
   "cell_type": "code",
   "execution_count": 83,
   "metadata": {},
   "outputs": [
    {
     "data": {
      "text/plain": [
       "[{'form': 'SOCCER', 'ppos': 'NN', 'pchunk': 'I-NP', 'ner': 'O', 'pner': 'O'},\n",
       " {'form': '-', 'ppos': ':', 'pchunk': 'O', 'ner': 'O', 'pner': 'O'},\n",
       " {'form': 'JAPAN',\n",
       "  'ppos': 'NNP',\n",
       "  'pchunk': 'I-NP',\n",
       "  'ner': 'I-LOC',\n",
       "  'pner': 'I-LOC'},\n",
       " {'form': 'GET', 'ppos': 'VB', 'pchunk': 'I-VP', 'ner': 'O', 'pner': 'O'},\n",
       " {'form': 'LUCKY', 'ppos': 'NNP', 'pchunk': 'I-NP', 'ner': 'O', 'pner': 'O'},\n",
       " {'form': 'WIN', 'ppos': 'NNP', 'pchunk': 'I-NP', 'ner': 'O', 'pner': 'O'},\n",
       " {'form': ',', 'ppos': ',', 'pchunk': 'O', 'ner': 'O', 'pner': 'O'},\n",
       " {'form': 'CHINA',\n",
       "  'ppos': 'NNP',\n",
       "  'pchunk': 'I-NP',\n",
       "  'ner': 'I-PER',\n",
       "  'pner': 'I-LOC'},\n",
       " {'form': 'IN', 'ppos': 'IN', 'pchunk': 'I-PP', 'ner': 'O', 'pner': 'O'},\n",
       " {'form': 'SURPRISE', 'ppos': 'DT', 'pchunk': 'I-NP', 'ner': 'O', 'pner': 'O'},\n",
       " {'form': 'DEFEAT', 'ppos': 'NN', 'pchunk': 'I-NP', 'ner': 'O', 'pner': 'O'},\n",
       " {'form': '.', 'ppos': '.', 'pchunk': 'O', 'ner': 'O', 'pner': 'O'}]"
      ]
     },
     "execution_count": 83,
     "metadata": {},
     "output_type": "execute_result"
    }
   ],
   "source": [
    "test_dict[1]"
   ]
  },
  {
   "cell_type": "markdown",
   "metadata": {},
   "source": [
    "## Saving the results"
   ]
  },
  {
   "cell_type": "code",
   "execution_count": 84,
   "metadata": {},
   "outputs": [],
   "source": [
    "conll_str = dict2conll(test_dict, ann_column_names)"
   ]
  },
  {
   "cell_type": "code",
   "execution_count": 85,
   "metadata": {},
   "outputs": [],
   "source": [
    "outfile = RESULTS_DIR + 'test.out'\n",
    "with open(outfile, 'w', encoding='utf8') as f_out:\n",
    "    f_out.write(conll_str)"
   ]
  },
  {
   "cell_type": "code",
   "execution_count": 86,
   "metadata": {},
   "outputs": [
    {
     "data": {
      "text/plain": [
       "0.8841239278837738"
      ]
     },
     "execution_count": 86,
     "metadata": {},
     "output_type": "execute_result"
    }
   ],
   "source": [
    "lines = open(outfile, encoding='utf8').read().splitlines()\n",
    "res = conlleval.evaluate(lines)\n",
    "score = res['overall']['chunks']['evals']['f1']\n",
    "score"
   ]
  },
  {
   "cell_type": "markdown",
   "metadata": {},
   "source": [
    "## Using the Recognizer to Tag a Sentence"
   ]
  },
  {
   "cell_type": "markdown",
   "metadata": {},
   "source": [
    "A sentence"
   ]
  },
  {
   "cell_type": "code",
   "execution_count": 87,
   "metadata": {},
   "outputs": [],
   "source": [
    "sentence = 'Yesterday , I met Pierre Nugues in Dammarie'"
   ]
  },
  {
   "cell_type": "markdown",
   "metadata": {},
   "source": [
    "We create the character input"
   ]
  },
  {
   "cell_type": "code",
   "execution_count": 88,
   "metadata": {},
   "outputs": [],
   "source": [
    "sent_char_idx = to_char_index([sentence.split()], char2idx)\n",
    "MAX_WORD_LEN = max(map(len, sent_char_idx[0]))"
   ]
  },
  {
   "cell_type": "code",
   "execution_count": 89,
   "metadata": {},
   "outputs": [
    {
     "data": {
      "text/plain": [
       "array([[[55, 64, 78, 79, 64, 77, 63, 60, 84],\n",
       "        [12,  0,  0,  0,  0,  0,  0,  0,  0],\n",
       "        [39,  0,  0,  0,  0,  0,  0,  0,  0],\n",
       "        [72, 64, 79,  0,  0,  0,  0,  0,  0],\n",
       "        [46, 68, 64, 77, 77, 64,  0,  0,  0],\n",
       "        [44, 80, 66, 80, 64, 78,  0,  0,  0],\n",
       "        [68, 73,  0,  0,  0,  0,  0,  0,  0],\n",
       "        [34, 60, 72, 72, 60, 77, 68, 64,  0]]], dtype=int32)"
      ]
     },
     "execution_count": 89,
     "metadata": {},
     "output_type": "execute_result"
    }
   ],
   "source": [
    "sent_char_idx_padded = np.array(list(map(lambda x: pad_sequences(x, maxlen=MAX_WORD_LEN, padding='post'), \n",
    "                            sent_char_idx)))\n",
    "sent_char_idx_padded"
   ]
  },
  {
   "cell_type": "markdown",
   "metadata": {},
   "source": [
    "And the word input"
   ]
  },
  {
   "cell_type": "code",
   "execution_count": 90,
   "metadata": {},
   "outputs": [
    {
     "data": {
      "text/plain": [
       "array([[396267,    517, 187251, 243996, 286609,      1, 190291,      1]])"
      ]
     },
     "execution_count": 90,
     "metadata": {},
     "output_type": "execute_result"
    }
   ],
   "source": [
    "sent_word_idx = np.array(to_index([sentence.lower().split()], word2idx))\n",
    "sent_word_idx"
   ]
  },
  {
   "cell_type": "markdown",
   "metadata": {},
   "source": [
    "And we predict the tags"
   ]
  },
  {
   "cell_type": "code",
   "execution_count": 91,
   "metadata": {},
   "outputs": [],
   "source": [
    "y_probs_hat = model.predict([sent_char_idx_padded, sent_word_idx])"
   ]
  },
  {
   "cell_type": "code",
   "execution_count": 92,
   "metadata": {},
   "outputs": [
    {
     "data": {
      "text/plain": [
       "['O', 'O', 'O', 'O', 'I-PER', 'I-PER', 'O', 'I-LOC']"
      ]
     },
     "execution_count": 92,
     "metadata": {},
     "output_type": "execute_result"
    }
   ],
   "source": [
    "list(map(idx2ner.get, list(map(np.argmax, y_probs_hat[0]))[:len(sentence.split())]))"
   ]
  },
  {
   "cell_type": "markdown",
   "metadata": {},
   "source": [
    "## Experiments"
   ]
  },
  {
   "cell_type": "markdown",
   "metadata": {},
   "source": [
    "Results on the test set we reach a maximum on the dev set."
   ]
  },
  {
   "cell_type": "code",
   "execution_count": null,
   "metadata": {},
   "outputs": [],
   "source": [
    "# Average\n",
    "# 0.8829712683952348 (54)\n",
    "# 0.8821259428170496 (34)\n",
    "# 0.8847668212442034 (84)\n",
    "# 0.8806713873590348 (35)\n",
    "# 0.8841239278837738 (32)"
   ]
  },
  {
   "cell_type": "markdown",
   "metadata": {},
   "source": [
    "## Old Experiments"
   ]
  },
  {
   "cell_type": "code",
   "execution_count": 93,
   "metadata": {},
   "outputs": [],
   "source": [
    "# Bins true\n",
    "# 0.885002186270223\n",
    "# 0.8899596986157351\n",
    "# 0.8894348894348895\n",
    "# 0.8900945047252363\n",
    "# 0.8862642169728785\n",
    "# 0.8840960897773102\n",
    "# 0.8826010544815466 nadam, 108\n",
    "# 0.8824767584634275 rmsprop (colab)\n",
    "# 0.8877988963825874 rmsprop (colab), 33\n",
    "# 0.886115992970123 rmsprop (colab), 73\n",
    "# 0.8894732228942063 rmsprop (colab), 71\n",
    "# 0.8851078758112613 rmsprop, 98\n",
    "# 0.8805174372869503, batch 16, 27\n",
    "# 0.8855564325177584, batch 32, 25"
   ]
  },
  {
   "cell_type": "code",
   "execution_count": 94,
   "metadata": {},
   "outputs": [],
   "source": [
    "# Bins false\n",
    "# 0.8886343612334803\n",
    "# 0.8830532212885154"
   ]
  },
  {
   "cell_type": "code",
   "execution_count": 95,
   "metadata": {},
   "outputs": [],
   "source": [
    "# Adding an extra LSTM\n",
    "# 0.8962721424164978 (DO 50)\n",
    "# 0.9005641748942173 (DO 25)\n",
    "# 0.8945058802878708 (DO 0)\n",
    "# 0.8960535588442565 (monodirectional, DO 25)\n",
    "# 0.8924295774647887 (frist dropout of 0)"
   ]
  },
  {
   "cell_type": "code",
   "execution_count": 96,
   "metadata": {},
   "outputs": [],
   "source": [
    "# 0.9005641748942173 (DO 25)\n",
    "# 0.8998326138666197"
   ]
  }
 ],
 "metadata": {
  "kernelspec": {
   "display_name": "Python 3",
   "language": "python",
   "name": "python3"
  },
  "language_info": {
   "codemirror_mode": {
    "name": "ipython",
    "version": 3
   },
   "file_extension": ".py",
   "mimetype": "text/x-python",
   "name": "python",
   "nbconvert_exporter": "python",
   "pygments_lexer": "ipython3",
   "version": "3.8.5"
  }
 },
 "nbformat": 4,
 "nbformat_minor": 4
}
