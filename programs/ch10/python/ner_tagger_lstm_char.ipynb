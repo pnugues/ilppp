{
 "cells": [
  {
   "cell_type": "markdown",
   "metadata": {},
   "source": [
    "# Named-Entity Recognition\n",
    "Implementation of a NER tagger following Chiu-Nichols' paper (2016): \n",
    "Named Entity Recognition with Bidirectional LSTM-CNNs.\n",
    "\n",
    "Author: Pierre Nugues"
   ]
  },
  {
   "cell_type": "markdown",
   "metadata": {},
   "source": [
    "## A Note on the Performance"
   ]
  },
  {
   "cell_type": "markdown",
   "metadata": {},
   "source": [
    "Chiu and Nichols reported a maximal performance of 91.62 on the CoNLL 2003 English corpus. The performance we obtain here is not completely comparable to theirs as we have a slightly different configuration:\n",
    "* The program below uses word and character features only. It sets aside the capitalization and lexicons features proposed by Chiu and Nichols. We believe this makes our program more easily adaptable to other languages. \n",
    "* In addition, Chiu and Nichols trained their model on the training and development sets. We only use the training set.\n",
    "\n",
    "Nonetheless, we can try to compare their figures with ours. In Table 6 of their paper, Chiu and Nichols report a best performance of 91.62 with a model trained on the training and development sets with all the features. When trained on the training set only, they reached 91.23 (Table 8). From this, we can estimate that the contribution of the development set is of about 91.62 - 91.23 ~= 0.39. \n",
    "\n",
    "When using the word and character features and training their model on the training and development sets, Chiu and Nichols reached 90.91 (Table 6, second row, BLSTM-CNN). We can posit that Chiu and Nichols' system trained on the training set only would reach 90.91 - 0.39 ~= 90.52. This figure should be considered as an average over multiple runs (five to 10)."
   ]
  },
  {
   "cell_type": "markdown",
   "metadata": {},
   "source": [
    "## Preliminaries"
   ]
  },
  {
   "cell_type": "markdown",
   "metadata": {},
   "source": [
    "The imported modules"
   ]
  },
  {
   "cell_type": "code",
   "execution_count": 1,
   "metadata": {},
   "outputs": [
    {
     "name": "stderr",
     "output_type": "stream",
     "text": [
      "Using TensorFlow backend.\n"
     ]
    }
   ],
   "source": [
    "import sys\n",
    "import os\n",
    "import time\n",
    "import numpy as np\n",
    "from tqdm import tqdm\n",
    "import tensorflow as tf\n",
    "from tensorflow import keras\n",
    "from random import shuffle\n",
    "from tensorflow.keras import callbacks\n",
    "from tensorflow.keras.initializers import RandomUniform\n",
    "from keras.models import Sequential, Input\n",
    "from tensorflow.keras.layers import Embedding, Flatten, Dense, Dropout, Lambda, TimeDistributed, concatenate\n",
    "from tensorflow.keras.layers import LSTM, Bidirectional, SimpleRNN, Conv1D, MaxPooling1D\n",
    "from tensorflow.keras.optimizers import RMSprop\n",
    "from tensorflow.keras.models import Model\n",
    "from tensorflow.keras.preprocessing.sequence import pad_sequences\n",
    "from tensorflow.keras.utils import to_categorical\n",
    "from tf2crf import CRF\n",
    "# from keras_contrib.layers import CRF # No longer works\n",
    "import matplotlib.pyplot as plt\n",
    "import seaborn as sns\n",
    "import tensorflow_addons as tfa"
   ]
  },
  {
   "cell_type": "markdown",
   "metadata": {},
   "source": [
    "A few functions we'll be using"
   ]
  },
  {
   "cell_type": "code",
   "execution_count": 2,
   "metadata": {},
   "outputs": [],
   "source": [
    "sys.path.append('/Users/pierre/Documents/Cours/EDAN20/programs/')\n",
    "\n",
    "from ch06.python.conll_dictorizer import CoNLLDictorizer\n",
    "from ch08.python.datasets import load_conll2003_en, load_glove_vectors\n",
    "from ch08.python.rnn_preprocessing import build_sequences, to_index, to_char_index"
   ]
  },
  {
   "cell_type": "markdown",
   "metadata": {},
   "source": [
    "Different possible configurations, including those from Chiu-Nichols"
   ]
  },
  {
   "cell_type": "code",
   "execution_count": 3,
   "metadata": {},
   "outputs": [],
   "source": [
    "OPTIMIZER = 'rmsprop'\n",
    "ANNOTATION = 'IOBES'  # 'IOBES' or 'IOB'\n",
    "EMBEDDING_DIM = 100\n",
    "BATCH_SIZE =  512 # Chiu-Nichols 8\n",
    "EPOCHS = 80 # Chiu-Nichols 80\n",
    "LSTM_UNITS = 200 # Chiu-Nichols 275\n",
    "CHAR_EMBEDDING_DIM = 50  # Chiu-Nichols 25\n",
    "CHAR_UNITS = 50  # Chiu-Nichols 53\n",
    "CHAR_DROPOUT = 0.5 # Chiu-Nichols 0?\n",
    "DROPOUT_RATE_PRE = 0.5 # Dropout before the LSTM\n",
    "RECURRENT_DROPOUT = 0.5 # Chiu-Nichols 0?\n",
    "DROPOUT_RATE = 0.0 # Chiu-Nichols 0.68?\n",
    "DROPOUT_RATE_POST = 0.0 # Dropout after the LSTM # Chiu-Nichols 0.0?\n",
    "MAX_LEN_CHARS = 20 # 10 or 20\n",
    "RAND_INIT_RANGE = 0.05\n",
    "ADD_CRF = True\n",
    "\n",
    "VILDE = False  # The computing machine\n",
    "\n",
    "config = {'Optimizer': OPTIMIZER, 'Annotation': ANNOTATION,\n",
    "          'Batch size': BATCH_SIZE, 'Epochs': EPOCHS, 'LSTM units': LSTM_UNITS,\n",
    "          'Char embedding dim': CHAR_EMBEDDING_DIM, 'Embedding dim': EMBEDDING_DIM,\n",
    "         'Char dropout': CHAR_DROPOUT, 'Pre dropout': DROPOUT_RATE_PRE, \n",
    "          'Recurrent dropout': RECURRENT_DROPOUT, 'Dropout': DROPOUT_RATE, \n",
    "          'Post dropout': DROPOUT_RATE_POST, 'CRF': ADD_CRF}"
   ]
  },
  {
   "cell_type": "code",
   "execution_count": 4,
   "metadata": {},
   "outputs": [],
   "source": [
    "np.random.seed(0)\n",
    "tf.random.set_seed(0)"
   ]
  },
  {
   "cell_type": "markdown",
   "metadata": {},
   "source": [
    "## Creating the $\\mathbf{X}$ and $\\mathbf{Y}$ matrices"
   ]
  },
  {
   "cell_type": "code",
   "execution_count": 5,
   "metadata": {},
   "outputs": [
    {
     "name": "stdout",
     "output_type": "stream",
     "text": [
      "Configuration:: {'Optimizer': 'rmsprop', 'Annotation': 'IOBES', 'Batch size': 512, 'Epochs': 80, 'LSTM units': 200, 'Char embedding dim': 50, 'Embedding dim': 100, 'Char dropout': 0.5, 'Pre dropout': 0.5, 'Recurrent dropout': 0.5, 'Dropout': 0.0, 'Post dropout': 0.0, 'CRF': True}\n",
      "Second sentence, CoNLL rows: [{'form': 'EU', 'ppos': 'NNP', 'pchunk': 'S-NP', 'ner': 'S-ORG'}, {'form': 'rejects', 'ppos': 'VBZ', 'pchunk': 'S-VP', 'ner': 'O'}, {'form': 'German', 'ppos': 'JJ', 'pchunk': 'B-NP', 'ner': 'S-MISC'}, {'form': 'call', 'ppos': 'NN', 'pchunk': 'E-NP', 'ner': 'O'}, {'form': 'to', 'ppos': 'TO', 'pchunk': 'B-VP', 'ner': 'O'}, {'form': 'boycott', 'ppos': 'VB', 'pchunk': 'E-VP', 'ner': 'O'}, {'form': 'British', 'ppos': 'JJ', 'pchunk': 'B-NP', 'ner': 'S-MISC'}, {'form': 'lamb', 'ppos': 'NN', 'pchunk': 'E-NP', 'ner': 'O'}, {'form': '.', 'ppos': '.', 'pchunk': 'O', 'ner': 'O'}]\n",
      "Second sentence, words ['EU', 'rejects', 'German', 'call', 'to', 'boycott', 'British', 'lamb', '.']\n",
      "Second sentence, NER ['S-ORG', 'O', 'S-MISC', 'O', 'O', 'O', 'S-MISC', 'O', 'O']\n"
     ]
    }
   ],
   "source": [
    "print('Configuration::', config)\n",
    "start_time = time.perf_counter()\n",
    "if ANNOTATION == 'IOBES':\n",
    "    if VILDE:\n",
    "        train_sentences, dev_sentences, test_sentences, column_names = load_conll2003_en(\n",
    "            BASE_DIR='./')\n",
    "    else:\n",
    "        train_sentences, dev_sentences, test_sentences, column_names = load_conll2003_en(BASE_DIR='./IOBES/')\n",
    "else:\n",
    "    if VILDE:\n",
    "        train_sentences, dev_sentences, test_sentences, column_names = load_conll2003_en(\n",
    "            BASE_DIR='/home/pierre/Cours/EDAN20/corpus/CoNLL2003/')\n",
    "    else:\n",
    "        train_sentences, dev_sentences, test_sentences, column_names = load_conll2003_en(\n",
    "            BASE_DIR='/Users/pierre/Documents/Cours/EDAN20/programs/ch10/python/IOB/')\n",
    "\n",
    "conll_dict = CoNLLDictorizer(column_names, col_sep=' +')\n",
    "train_dict = conll_dict.transform(train_sentences)\n",
    "dev_dict = conll_dict.transform(dev_sentences)\n",
    "test_dict = conll_dict.transform(test_sentences)\n",
    "print('Second sentence, CoNLL rows:', train_dict[1])\n",
    "\n",
    "X_train_word_cat, Y_train_cat = build_sequences(train_dict, key_x='form', key_y='ner', tolower=False)\n",
    "X_dev_word_cat, Y_dev_cat = build_sequences(dev_dict, key_x='form', key_y='ner', tolower=False)\n",
    "X_test_word_cat, Y_test_cat = build_sequences(test_dict, key_x='form', key_y='ner', tolower=False)\n",
    "print('Second sentence, words', X_train_word_cat[1])\n",
    "print('Second sentence, NER', Y_train_cat[1])\n",
    "\n",
    "# We collect the words, named entity tags, and we create the indices\n",
    "vocabulary_words_train = [word\n",
    "                               for sentence in X_train_word_cat\n",
    "                               for word in sentence]\n",
    "vocabulary_words_dev = [word\n",
    "                               for sentence in X_dev_word_cat\n",
    "                               for word in sentence]\n",
    "vocabulary_words_test = [word\n",
    "                               for sentence in X_test_word_cat\n",
    "                               for word in sentence]"
   ]
  },
  {
   "cell_type": "markdown",
   "metadata": {},
   "source": [
    "As vocabulary, we first extract the words in the training set"
   ]
  },
  {
   "cell_type": "code",
   "execution_count": 6,
   "metadata": {},
   "outputs": [
    {
     "name": "stdout",
     "output_type": "stream",
     "text": [
      "#words: 23624\n"
     ]
    }
   ],
   "source": [
    "vocabulary_words = vocabulary_words_train\n",
    "#vocabulary_words.extend(vocabulary_words_dev)\n",
    "#vocabulary_words.extend(vocabulary_words_test)\n",
    "vocabulary_words = list(set(vocabulary_words))\n",
    "print('#words:', len(vocabulary_words))"
   ]
  },
  {
   "cell_type": "markdown",
   "metadata": {},
   "source": [
    "We extract all the characters"
   ]
  },
  {
   "cell_type": "code",
   "execution_count": 7,
   "metadata": {},
   "outputs": [
    {
     "name": "stdout",
     "output_type": "stream",
     "text": [
      "Word maximal length 61\n",
      "#chars: 85\n"
     ]
    }
   ],
   "source": [
    "MAX_LEN_CHARS_OBSERVED = max([len(word) for word in vocabulary_words])\n",
    "print('Word maximal length', MAX_LEN_CHARS_OBSERVED)\n",
    "chars = set(' ')\n",
    "for word in vocabulary_words:\n",
    "    chars.update(set(word))\n",
    "chars = sorted(list(chars))\n",
    "\n",
    "NB_CHARS = len(chars)\n",
    "print('#chars:', NB_CHARS)"
   ]
  },
  {
   "cell_type": "markdown",
   "metadata": {},
   "source": [
    "We build the complete vocabulary: the words from the training set and those from glove"
   ]
  },
  {
   "cell_type": "code",
   "execution_count": 8,
   "metadata": {},
   "outputs": [
    {
     "name": "stdout",
     "output_type": "stream",
     "text": [
      "#words in GloVe: 400000\n",
      "# unique words in the vocabulary: embeddings and corpus: 411650\n"
     ]
    }
   ],
   "source": [
    "# We read the embeddings\n",
    "if VILDE:\n",
    "    embeddings_dict = load_glove_vectors(\n",
    "        BASE_DIR='/home/pierre/Cours/EDAN20/corpus/')\n",
    "else:\n",
    "    embeddings_dict = load_glove_vectors()\n",
    "embeddings_words = embeddings_dict.keys()\n",
    "print('#words in GloVe:', len(embeddings_dict.keys()))\n",
    "vocabulary_words = sorted(set(vocabulary_words +\n",
    "                              list(embeddings_words)))\n",
    "print('# unique words in the vocabulary: embeddings and corpus:',\n",
    "      len(vocabulary_words))"
   ]
  },
  {
   "cell_type": "markdown",
   "metadata": {},
   "source": [
    "We set all the words in lowed case"
   ]
  },
  {
   "cell_type": "code",
   "execution_count": 9,
   "metadata": {},
   "outputs": [
    {
     "name": "stdout",
     "output_type": "stream",
     "text": [
      "# unique lowercased words in the vocabulary: embeddings and corpus: 402595\n"
     ]
    }
   ],
   "source": [
    "vocabulary_words = set(map(str.lower, vocabulary_words))\n",
    "print('# unique lowercased words in the vocabulary: embeddings and corpus:',\n",
    "      len(vocabulary_words))"
   ]
  },
  {
   "cell_type": "markdown",
   "metadata": {},
   "source": [
    "We extract all the named entity tags: The classes"
   ]
  },
  {
   "cell_type": "code",
   "execution_count": 10,
   "metadata": {},
   "outputs": [
    {
     "name": "stdout",
     "output_type": "stream",
     "text": [
      "17 named entity tags: ['B-LOC', 'B-MISC', 'B-ORG', 'B-PER', 'E-LOC', 'E-MISC', 'E-ORG', 'E-PER', 'I-LOC', 'I-MISC', 'I-ORG', 'I-PER', 'O', 'S-LOC', 'S-MISC', 'S-ORG', 'S-PER']\n"
     ]
    }
   ],
   "source": [
    "ner = sorted(set([ner\n",
    "                  for sentence in Y_train_cat\n",
    "                  for ner in sentence]))\n",
    "NB_CLASSES = len(ner)\n",
    "print(NB_CLASSES, 'named entity tags:', ner)"
   ]
  },
  {
   "cell_type": "code",
   "execution_count": 11,
   "metadata": {},
   "outputs": [
    {
     "name": "stdout",
     "output_type": "stream",
     "text": [
      "char index: [(' ', 2), ('!', 3), ('\"', 4), ('$', 5), ('%', 6), ('&', 7), (\"'\", 8), ('(', 9), (')', 10), ('*', 11)]\n",
      "word index: [('herbalist', 2), ('virtuosos', 3), ('ekimov', 4), ('mixshow', 5), ('ivić', 6), ('inteko', 7), ('slowed', 8), ('castilians', 9), ('pulsed', 10), ('transportable', 11)]\n",
      "NER index: [('B-LOC', 0), ('B-MISC', 1), ('B-ORG', 2), ('B-PER', 3), ('E-LOC', 4), ('E-MISC', 5), ('E-ORG', 6), ('E-PER', 7), ('I-LOC', 8), ('I-MISC', 9), ('I-ORG', 10), ('I-PER', 11), ('O', 12), ('S-LOC', 13), ('S-MISC', 14), ('S-ORG', 15), ('S-PER', 16)]\n"
     ]
    }
   ],
   "source": [
    "# We create the indexes\n",
    "# For the words and chars, we start at two to make provision for\n",
    "# the padding symbol 0 in RNN and LSTMs and unknown words/chars, 1\n",
    "idx2char = dict(enumerate(chars, start=2))\n",
    "idx2word = dict(enumerate(vocabulary_words, start=2))\n",
    "idx2ner = dict(enumerate(ner))\n",
    "char2idx = {v: k for k, v in idx2char.items()}\n",
    "word2idx = {v: k for k, v in idx2word.items()}\n",
    "ner2idx = {v: k for k, v in idx2ner.items()}\n",
    "print('char index:', list(char2idx.items())[:10])\n",
    "print('word index:', list(word2idx.items())[:10])\n",
    "print('NER index:', list(ner2idx.items()))"
   ]
  },
  {
   "cell_type": "code",
   "execution_count": 12,
   "metadata": {},
   "outputs": [],
   "source": [
    "# We create the parallel sequences of indexes for the chars in their original case\n",
    "X_train_char_idx = to_char_index(X_train_word_cat, char2idx)\n",
    "X_train_char_idx = list(map(lambda x: pad_sequences(x, maxlen=MAX_LEN_CHARS, padding='post'), \n",
    "                            X_train_char_idx))\n",
    "X_dev_char_idx = to_char_index(X_dev_word_cat, char2idx)\n",
    "X_dev_char_idx = list(map(lambda x: pad_sequences(x, maxlen=MAX_LEN_CHARS, padding='post'), \n",
    "                          X_dev_char_idx))\n",
    "X_test_char_idx = to_char_index(X_test_word_cat, char2idx)\n",
    "X_test_char_idx = list(map(lambda x: pad_sequences(x, maxlen=MAX_LEN_CHARS, padding='post'), \n",
    "                           X_test_char_idx))"
   ]
  },
  {
   "cell_type": "code",
   "execution_count": 13,
   "metadata": {},
   "outputs": [
    {
     "name": "stdout",
     "output_type": "stream",
     "text": [
      "20\n",
      "['EU', 'rejects', 'German', 'call', 'to', 'boycott', 'British', 'lamb', '.']\n"
     ]
    },
    {
     "data": {
      "text/plain": [
       "array([[36, 52,  0,  0,  0,  0,  0,  0,  0,  0,  0,  0,  0,  0,  0,  0,\n",
       "         0,  0,  0,  0],\n",
       "       [78, 65, 70, 65, 63, 80, 79,  0,  0,  0,  0,  0,  0,  0,  0,  0,\n",
       "         0,  0,  0,  0],\n",
       "       [38, 65, 78, 73, 61, 74,  0,  0,  0,  0,  0,  0,  0,  0,  0,  0,\n",
       "         0,  0,  0,  0],\n",
       "       [63, 61, 72, 72,  0,  0,  0,  0,  0,  0,  0,  0,  0,  0,  0,  0,\n",
       "         0,  0,  0,  0],\n",
       "       [80, 75,  0,  0,  0,  0,  0,  0,  0,  0,  0,  0,  0,  0,  0,  0,\n",
       "         0,  0,  0,  0],\n",
       "       [62, 75, 85, 63, 75, 80, 80,  0,  0,  0,  0,  0,  0,  0,  0,  0,\n",
       "         0,  0,  0,  0],\n",
       "       [33, 78, 69, 80, 69, 79, 68,  0,  0,  0,  0,  0,  0,  0,  0,  0,\n",
       "         0,  0,  0,  0],\n",
       "       [72, 61, 73, 62,  0,  0,  0,  0,  0,  0,  0,  0,  0,  0,  0,  0,\n",
       "         0,  0,  0,  0],\n",
       "       [15,  0,  0,  0,  0,  0,  0,  0,  0,  0,  0,  0,  0,  0,  0,  0,\n",
       "         0,  0,  0,  0]], dtype=int32)"
      ]
     },
     "execution_count": 13,
     "metadata": {},
     "output_type": "execute_result"
    }
   ],
   "source": [
    "print(MAX_LEN_CHARS)\n",
    "print(X_train_word_cat[1])\n",
    "X_train_char_idx[1]"
   ]
  },
  {
   "cell_type": "code",
   "execution_count": 14,
   "metadata": {},
   "outputs": [],
   "source": [
    "# We set the words in lower case.\n",
    "X_train_word_cat = [[x.lower() for x in x_vect] for x_vect in X_train_word_cat]\n",
    "X_dev_word_cat = [[x.lower() for x in x_vect] for x_vect in X_dev_word_cat]\n",
    "X_test_word_cat = [[x.lower() for x in x_vect] for x_vect in X_test_word_cat]"
   ]
  },
  {
   "cell_type": "code",
   "execution_count": 15,
   "metadata": {},
   "outputs": [
    {
     "data": {
      "text/plain": [
       "['eu', 'rejects', 'german', 'call', 'to', 'boycott', 'british', 'lamb', '.']"
      ]
     },
     "execution_count": 15,
     "metadata": {},
     "output_type": "execute_result"
    }
   ],
   "source": [
    "X_train_word_cat[1]"
   ]
  },
  {
   "cell_type": "code",
   "execution_count": 16,
   "metadata": {},
   "outputs": [],
   "source": [
    "# We create the parallel sequences of indexes for the words\n",
    "# Train\n",
    "X_train_word_idx = to_index(X_train_word_cat, word2idx)\n",
    "Y_train_idx = to_index(Y_train_cat, ner2idx)\n",
    "# Dev\n",
    "X_dev_word_idx = to_index(X_dev_word_cat, word2idx)\n",
    "Y_dev_idx = to_index(Y_dev_cat, ner2idx)\n",
    "# Test\n",
    "X_test_word_idx = to_index(X_test_word_cat, word2idx)\n",
    "Y_test_idx = to_index(Y_test_cat, ner2idx)"
   ]
  },
  {
   "cell_type": "code",
   "execution_count": 17,
   "metadata": {},
   "outputs": [
    {
     "name": "stdout",
     "output_type": "stream",
     "text": [
      "Train: X_word, Y\n",
      "Word indices: [[137428], [101204, 141719, 79786, 205057, 240360, 86228, 225728, 399629, 165023]]\n",
      "NER indices: [[12], [15, 12, 14, 12, 12, 12, 14, 12, 12]]\n",
      "Dev: X_word, Y\n",
      "Word indices: [[137428], [43551, 345135, 345680, 241162, 137298, 244107, 215932, 17677, 138390, 650, 165023]]\n",
      "NER indices: [[12], [12, 12, 15, 12, 12, 12, 12, 12, 12, 12, 12]]\n",
      "Test: X_word, Y\n",
      "Word indices: [[137428], [22660, 345135, 7847, 252742, 116294, 96727, 313455, 175729, 66842, 193737, 26690, 165023]]\n",
      "NER indices: [[12], [12, 12, 13, 12, 12, 12, 12, 16, 12, 12, 12, 12]]\n"
     ]
    }
   ],
   "source": [
    "print('Train: X_word, Y')\n",
    "print('Word indices:', X_train_word_idx[:2])\n",
    "print('NER indices:', Y_train_idx[:2])\n",
    "print('Dev: X_word, Y')\n",
    "print('Word indices:', X_dev_word_idx[:2])\n",
    "print('NER indices:', Y_dev_idx[:2])\n",
    "print('Test: X_word, Y')\n",
    "print('Word indices:', X_test_word_idx[:2])\n",
    "print('NER indices:', Y_test_idx[:2])"
   ]
  },
  {
   "cell_type": "code",
   "execution_count": 18,
   "metadata": {},
   "outputs": [
    {
     "name": "stdout",
     "output_type": "stream",
     "text": [
      "Train X_chars: [array([[14, 35, 46, 34, 50, 51, 32, 49, 51, 14,  0,  0,  0,  0,  0,  0,\n",
      "         0,  0,  0,  0]], dtype=int32), array([[36, 52,  0,  0,  0,  0,  0,  0,  0,  0,  0,  0,  0,  0,  0,  0,\n",
      "         0,  0,  0,  0],\n",
      "       [78, 65, 70, 65, 63, 80, 79,  0,  0,  0,  0,  0,  0,  0,  0,  0,\n",
      "         0,  0,  0,  0],\n",
      "       [38, 65, 78, 73, 61, 74,  0,  0,  0,  0,  0,  0,  0,  0,  0,  0,\n",
      "         0,  0,  0,  0],\n",
      "       [63, 61, 72, 72,  0,  0,  0,  0,  0,  0,  0,  0,  0,  0,  0,  0,\n",
      "         0,  0,  0,  0],\n",
      "       [80, 75,  0,  0,  0,  0,  0,  0,  0,  0,  0,  0,  0,  0,  0,  0,\n",
      "         0,  0,  0,  0],\n",
      "       [62, 75, 85, 63, 75, 80, 80,  0,  0,  0,  0,  0,  0,  0,  0,  0,\n",
      "         0,  0,  0,  0],\n",
      "       [33, 78, 69, 80, 69, 79, 68,  0,  0,  0,  0,  0,  0,  0,  0,  0,\n",
      "         0,  0,  0,  0],\n",
      "       [72, 61, 73, 62,  0,  0,  0,  0,  0,  0,  0,  0,  0,  0,  0,  0,\n",
      "         0,  0,  0,  0],\n",
      "       [15,  0,  0,  0,  0,  0,  0,  0,  0,  0,  0,  0,  0,  0,  0,  0,\n",
      "         0,  0,  0,  0]], dtype=int32)]\n",
      "Dev X_chars: [array([[14, 35, 46, 34, 50, 51, 32, 49, 51, 14,  0,  0,  0,  0,  0,  0,\n",
      "         0,  0,  0,  0]], dtype=int32), array([[34, 49, 40, 34, 42, 36, 51,  0,  0,  0,  0,  0,  0,  0,  0,  0,\n",
      "         0,  0,  0,  0],\n",
      "       [14,  0,  0,  0,  0,  0,  0,  0,  0,  0,  0,  0,  0,  0,  0,  0,\n",
      "         0,  0,  0,  0],\n",
      "       [43, 36, 40, 34, 36, 50, 51, 36, 49, 50, 39, 40, 49, 36,  0,  0,\n",
      "         0,  0,  0,  0],\n",
      "       [51, 32, 42, 36,  0,  0,  0,  0,  0,  0,  0,  0,  0,  0,  0,  0,\n",
      "         0,  0,  0,  0],\n",
      "       [46, 53, 36, 49,  0,  0,  0,  0,  0,  0,  0,  0,  0,  0,  0,  0,\n",
      "         0,  0,  0,  0],\n",
      "       [32, 51,  0,  0,  0,  0,  0,  0,  0,  0,  0,  0,  0,  0,  0,  0,\n",
      "         0,  0,  0,  0],\n",
      "       [51, 46, 47,  0,  0,  0,  0,  0,  0,  0,  0,  0,  0,  0,  0,  0,\n",
      "         0,  0,  0,  0],\n",
      "       [32, 37, 51, 36, 49,  0,  0,  0,  0,  0,  0,  0,  0,  0,  0,  0,\n",
      "         0,  0,  0,  0],\n",
      "       [40, 45, 45, 40, 45, 38, 50,  0,  0,  0,  0,  0,  0,  0,  0,  0,\n",
      "         0,  0,  0,  0],\n",
      "       [53, 40, 34, 51, 46, 49, 56,  0,  0,  0,  0,  0,  0,  0,  0,  0,\n",
      "         0,  0,  0,  0],\n",
      "       [15,  0,  0,  0,  0,  0,  0,  0,  0,  0,  0,  0,  0,  0,  0,  0,\n",
      "         0,  0,  0,  0]], dtype=int32)]\n",
      "Test X_chars: [array([[14, 35, 46, 34, 50, 51, 32, 49, 51, 14,  0,  0,  0,  0,  0,  0,\n",
      "         0,  0,  0,  0]], dtype=int32), array([[50, 46, 34, 34, 36, 49,  0,  0,  0,  0,  0,  0,  0,  0,  0,  0,\n",
      "         0,  0,  0,  0],\n",
      "       [14,  0,  0,  0,  0,  0,  0,  0,  0,  0,  0,  0,  0,  0,  0,  0,\n",
      "         0,  0,  0,  0],\n",
      "       [41, 32, 47, 32, 45,  0,  0,  0,  0,  0,  0,  0,  0,  0,  0,  0,\n",
      "         0,  0,  0,  0],\n",
      "       [38, 36, 51,  0,  0,  0,  0,  0,  0,  0,  0,  0,  0,  0,  0,  0,\n",
      "         0,  0,  0,  0],\n",
      "       [43, 52, 34, 42, 56,  0,  0,  0,  0,  0,  0,  0,  0,  0,  0,  0,\n",
      "         0,  0,  0,  0],\n",
      "       [54, 40, 45,  0,  0,  0,  0,  0,  0,  0,  0,  0,  0,  0,  0,  0,\n",
      "         0,  0,  0,  0],\n",
      "       [13,  0,  0,  0,  0,  0,  0,  0,  0,  0,  0,  0,  0,  0,  0,  0,\n",
      "         0,  0,  0,  0],\n",
      "       [34, 39, 40, 45, 32,  0,  0,  0,  0,  0,  0,  0,  0,  0,  0,  0,\n",
      "         0,  0,  0,  0],\n",
      "       [40, 45,  0,  0,  0,  0,  0,  0,  0,  0,  0,  0,  0,  0,  0,  0,\n",
      "         0,  0,  0,  0],\n",
      "       [50, 52, 49, 47, 49, 40, 50, 36,  0,  0,  0,  0,  0,  0,  0,  0,\n",
      "         0,  0,  0,  0],\n",
      "       [35, 36, 37, 36, 32, 51,  0,  0,  0,  0,  0,  0,  0,  0,  0,  0,\n",
      "         0,  0,  0,  0],\n",
      "       [15,  0,  0,  0,  0,  0,  0,  0,  0,  0,  0,  0,  0,  0,  0,  0,\n",
      "         0,  0,  0,  0]], dtype=int32)]\n"
     ]
    }
   ],
   "source": [
    "print('Train X_chars:', X_train_char_idx[:2])\n",
    "print('Dev X_chars:', X_dev_char_idx[:2])\n",
    "print('Test X_chars:', X_test_char_idx[:2])"
   ]
  },
  {
   "cell_type": "markdown",
   "metadata": {},
   "source": [
    "We initialize the embedding matrix with random values"
   ]
  },
  {
   "cell_type": "code",
   "execution_count": 19,
   "metadata": {},
   "outputs": [],
   "source": [
    "embedding_matrix = np.random.uniform(-RAND_INIT_RANGE, RAND_INIT_RANGE,\n",
    "                                     (len(vocabulary_words) + 2,\n",
    "                                      EMBEDDING_DIM)\n",
    "                                     ).astype(np.float32)\n",
    "#embedding_matrix[0, :] = 0.0"
   ]
  },
  {
   "cell_type": "code",
   "execution_count": 20,
   "metadata": {},
   "outputs": [],
   "source": [
    "# We assign the matrix with Glove embeddings, when they exist\n",
    "for word in vocabulary_words:\n",
    "    if word in embeddings_dict:\n",
    "        # If the words are in the embeddings, we fill them with a value\n",
    "        embedding_matrix[word2idx[word]] = embeddings_dict[word]"
   ]
  },
  {
   "cell_type": "markdown",
   "metadata": {},
   "source": [
    "Embeddings"
   ]
  },
  {
   "cell_type": "code",
   "execution_count": 21,
   "metadata": {},
   "outputs": [
    {
     "name": "stdout",
     "output_type": "stream",
     "text": [
      "Shape of embedding matrix: (402597, 100)\n",
      "table: [-0.61454    0.89693    0.56771    0.39102   -0.22437    0.49035\n",
      "  0.10868    0.27411   -0.23833   -0.52153    0.73551   -0.32654\n",
      "  0.51304    0.32415   -0.46709    0.68051   -0.25497   -0.040484\n",
      " -0.54418   -1.0548    -0.46692    0.23557    0.31234   -0.34537\n",
      "  0.14793   -0.53745   -0.43215   -0.48724   -0.51019   -0.9051\n",
      " -0.17919   -0.018376   0.09719   -0.31623    0.7512     0.92236\n",
      " -0.49965    0.14036   -0.28296   -0.97443   -0.0094408 -0.62944\n",
      "  0.14711   -0.94376    0.0075222  0.18565   -0.99172    0.072789\n",
      " -0.18474   -0.52901    0.38995   -0.45677   -0.21932    1.3723\n",
      " -0.29636   -2.2342    -0.36667    0.04987    0.63421    0.53275\n",
      " -0.53955    0.31398   -0.44698   -0.38389    0.066668  -0.02168\n",
      "  0.20558    0.59456   -0.24892   -0.52795   -0.3761     0.077104\n",
      "  0.75222   -0.2647    -0.0587     0.67541   -0.16559   -0.49278\n",
      " -0.26327   -0.21215    0.24317    0.17006   -0.2926    -0.5009\n",
      " -0.56638   -0.40377   -0.48452   -0.32539    0.75293    0.0049585\n",
      " -0.32115    0.28899   -0.042392   0.63863   -0.20332   -0.46785\n",
      " -0.15661    0.2179     1.4143     0.40034  ]\n",
      "padding symbol, idx 0, random numbers: [ 0.00488135  0.02151894  0.01027634  0.00448832 -0.00763452  0.01458941\n",
      " -0.00624128  0.0391773   0.04636627 -0.01165585  0.0291725   0.00288949\n",
      "  0.00680446  0.04255966 -0.04289639 -0.04128707 -0.04797816  0.03326198\n",
      "  0.02781568  0.03700121  0.04786183  0.02991586 -0.00385206  0.02805292\n",
      " -0.03817256  0.0139921  -0.03566467  0.04446689  0.00218483 -0.00853381\n",
      " -0.02354444  0.02742337 -0.00438497  0.0068434  -0.04812102  0.01176355\n",
      "  0.01120957  0.0116934   0.04437481  0.01818203 -0.01404921 -0.0062968\n",
      "  0.01976312 -0.04397745  0.01667667  0.01706379 -0.02896174 -0.03710737\n",
      " -0.01845716 -0.01362892  0.00701968 -0.00613985  0.04883738 -0.03979552\n",
      " -0.02911232 -0.03386905  0.01531083 -0.02467084 -0.00336892 -0.02555744\n",
      " -0.03410304 -0.03896249  0.01563296 -0.0361817  -0.03034176 -0.01312748\n",
      "  0.03209932 -0.04028987  0.03379449 -0.04039016  0.04764595 -0.00313488\n",
      "  0.04767611  0.01048455  0.02392636 -0.04608122 -0.0217193  -0.03798034\n",
      " -0.02038598 -0.03812723 -0.01820168 -0.0085737  -0.04358525  0.01924721\n",
      "  0.00666015 -0.02346105  0.00232481 -0.04060595  0.00759465  0.04292962\n",
      " -0.0181431   0.01674104 -0.03682021  0.02163272 -0.02105939 -0.03168086\n",
      "  0.00865129 -0.04798925  0.032894   -0.04953045]\n"
     ]
    }
   ],
   "source": [
    "# print('Embedding:', embedding_matrix)\n",
    "print('Shape of embedding matrix:', embedding_matrix.shape)\n",
    "print('table:', embedding_matrix[word2idx['table']])\n",
    "print('padding symbol, idx 0, random numbers:', embedding_matrix[0])\n",
    "#print('Index of jean-denis:', word2idx['jean-denis'])"
   ]
  },
  {
   "cell_type": "markdown",
   "metadata": {},
   "source": [
    "We will create batches of identical size. When all the sentence in a batch have an identical size, we will avoid padding the sentence.\n",
    "\n",
    "The first step is to sort the training set by sentence length"
   ]
  },
  {
   "cell_type": "code",
   "execution_count": 22,
   "metadata": {},
   "outputs": [],
   "source": [
    "training_set_sorted = sorted(zip(X_train_word_idx, \n",
    "                           X_train_char_idx, \n",
    "                           Y_train_idx), \n",
    "                       key=lambda x: len(x[0]))"
   ]
  },
  {
   "cell_type": "code",
   "execution_count": 23,
   "metadata": {},
   "outputs": [
    {
     "data": {
      "text/plain": [
       "[([137428],\n",
       "  array([[14, 35, 46, 34, 50, 51, 32, 49, 51, 14,  0,  0,  0,  0,  0,  0,\n",
       "           0,  0,  0,  0]], dtype=int32),\n",
       "  [12]),\n",
       " ([165023],\n",
       "  array([[15,  0,  0,  0,  0,  0,  0,  0,  0,  0,  0,  0,  0,  0,  0,  0,\n",
       "           0,  0,  0,  0]], dtype=int32),\n",
       "  [12]),\n",
       " ([137428],\n",
       "  array([[14, 35, 46, 34, 50, 51, 32, 49, 51, 14,  0,  0,  0,  0,  0,  0,\n",
       "           0,  0,  0,  0]], dtype=int32),\n",
       "  [12]),\n",
       " ([137428],\n",
       "  array([[14, 35, 46, 34, 50, 51, 32, 49, 51, 14,  0,  0,  0,  0,  0,  0,\n",
       "           0,  0,  0,  0]], dtype=int32),\n",
       "  [12]),\n",
       " ([137428],\n",
       "  array([[14, 35, 46, 34, 50, 51, 32, 49, 51, 14,  0,  0,  0,  0,  0,  0,\n",
       "           0,  0,  0,  0]], dtype=int32),\n",
       "  [12])]"
      ]
     },
     "execution_count": 23,
     "metadata": {},
     "output_type": "execute_result"
    }
   ],
   "source": [
    "training_set_sorted[:5]"
   ]
  },
  {
   "cell_type": "markdown",
   "metadata": {},
   "source": [
    "## The Architecture"
   ]
  },
  {
   "cell_type": "markdown",
   "metadata": {},
   "source": [
    "We implement Chiu and Nichols' model"
   ]
  },
  {
   "cell_type": "code",
   "execution_count": 24,
   "metadata": {},
   "outputs": [],
   "source": [
    "# char input\n",
    "char_input = Input(shape=(None, MAX_LEN_CHARS,))\n",
    "embedded_char = TimeDistributed(\n",
    "    Embedding(NB_CHARS + 2,\n",
    "              CHAR_EMBEDDING_DIM,\n",
    "              trainable=True,\n",
    "              embeddings_initializer=RandomUniform(minval=-RAND_INIT_RANGE, \n",
    "                                                   maxval=RAND_INIT_RANGE)))(char_input)\n",
    "embedded_char = Dropout(CHAR_DROPOUT)(embedded_char)\n",
    "conv = TimeDistributed(\n",
    "    Conv1D(kernel_size=3,\n",
    "           filters=CHAR_UNITS,\n",
    "           activation='tanh',\n",
    "           padding='same'))(embedded_char)\n",
    "maxpool = TimeDistributed(MaxPooling1D(MAX_LEN_CHARS))(conv)\n",
    "char_encoding = TimeDistributed(Flatten())(maxpool)\n",
    "#char_encoding = Dropout(CHAR_DROPOUT)(char_encoding)\n",
    "# word input\n",
    "word_input = Input(shape=(None,))\n",
    "embedded_word = Embedding(len(vocabulary_words) + 2,\n",
    "                          EMBEDDING_DIM,\n",
    "                          trainable=True,\n",
    "                          mask_zero=True,\n",
    "                          weights=[embedding_matrix])(word_input)\n",
    "\n",
    "# embedded_word = Dropout(DROPOUT_RATE)(embedded_word)\n",
    "model = concatenate([char_encoding, embedded_word])\n",
    "model = Dropout(DROPOUT_RATE_PRE)(model)\n",
    "model = Bidirectional(LSTM(LSTM_UNITS,\n",
    "                           return_sequences=True,\n",
    "                           dropout=DROPOUT_RATE,\n",
    "                           recurrent_dropout=RECURRENT_DROPOUT))(model)\n",
    "#model = Dense(100, activation='relu')(model)\n",
    "model = Dropout(DROPOUT_RATE_POST)(model)\n",
    "if ADD_CRF:\n",
    "    out = Dense(len(ner), activation='relu')(model)\n",
    "    crf = CRF(len(ner))  # CRF layer\n",
    "    out = crf(out)  # output\n",
    "else:\n",
    "    out = Dense(len(ner), activation='softmax')(model)\n",
    "model = Model([char_input, word_input], out)"
   ]
  },
  {
   "cell_type": "code",
   "execution_count": 25,
   "metadata": {},
   "outputs": [
    {
     "name": "stdout",
     "output_type": "stream",
     "text": [
      "Model: \"model\"\n",
      "__________________________________________________________________________________________________\n",
      "Layer (type)                    Output Shape         Param #     Connected to                     \n",
      "==================================================================================================\n",
      "input_1 (InputLayer)            [(None, None, 20)]   0                                            \n",
      "__________________________________________________________________________________________________\n",
      "time_distributed (TimeDistribut (None, None, 20, 50) 4350        input_1[0][0]                    \n",
      "__________________________________________________________________________________________________\n",
      "dropout (Dropout)               (None, None, 20, 50) 0           time_distributed[0][0]           \n",
      "__________________________________________________________________________________________________\n",
      "time_distributed_1 (TimeDistrib (None, None, 20, 50) 7550        dropout[0][0]                    \n",
      "__________________________________________________________________________________________________\n",
      "time_distributed_2 (TimeDistrib (None, None, 1, 50)  0           time_distributed_1[0][0]         \n",
      "__________________________________________________________________________________________________\n",
      "input_2 (InputLayer)            [(None, None)]       0                                            \n",
      "__________________________________________________________________________________________________\n",
      "time_distributed_3 (TimeDistrib (None, None, 50)     0           time_distributed_2[0][0]         \n",
      "__________________________________________________________________________________________________\n",
      "embedding_1 (Embedding)         (None, None, 100)    40259700    input_2[0][0]                    \n",
      "__________________________________________________________________________________________________\n",
      "concatenate (Concatenate)       (None, None, 150)    0           time_distributed_3[0][0]         \n",
      "                                                                 embedding_1[0][0]                \n",
      "__________________________________________________________________________________________________\n",
      "dropout_1 (Dropout)             (None, None, 150)    0           concatenate[0][0]                \n",
      "__________________________________________________________________________________________________\n",
      "bidirectional (Bidirectional)   (None, None, 400)    561600      dropout_1[0][0]                  \n",
      "__________________________________________________________________________________________________\n",
      "dropout_2 (Dropout)             (None, None, 400)    0           bidirectional[0][0]              \n",
      "__________________________________________________________________________________________________\n",
      "dense (Dense)                   (None, None, 17)     6817        dropout_2[0][0]                  \n",
      "__________________________________________________________________________________________________\n",
      "crf (CRF)                       (None, None, 17)     289         dense[0][0]                      \n",
      "==================================================================================================\n",
      "Total params: 40,840,306\n",
      "Trainable params: 40,840,306\n",
      "Non-trainable params: 0\n",
      "__________________________________________________________________________________________________\n"
     ]
    }
   ],
   "source": [
    "if ADD_CRF:\n",
    "    model.compile(optimizer='rmsprop',\n",
    "                      loss=crf.loss,\n",
    "                      metrics=[crf.accuracy])\n",
    "else:\n",
    "    model.compile(optimizer='rmsprop',\n",
    "                  loss='categorical_crossentropy',\n",
    "                  metrics=['acc'])\n",
    "model.summary()"
   ]
  },
  {
   "cell_type": "markdown",
   "metadata": {},
   "source": [
    "## Creating the Batches"
   ]
  },
  {
   "cell_type": "markdown",
   "metadata": {},
   "source": [
    "We now create the histogram of sentence lengths. `groupby` is like the `uniq -c` shell command. We obtain a list of pairs: (sentence length, count of sentences that have this length)"
   ]
  },
  {
   "cell_type": "code",
   "execution_count": 26,
   "metadata": {},
   "outputs": [
    {
     "data": {
      "text/plain": [
       "[(1, 1125),\n",
       " (2, 1129),\n",
       " (3, 586),\n",
       " (4, 771),\n",
       " (5, 751),\n",
       " (6, 625),\n",
       " (7, 904),\n",
       " (8, 1056),\n",
       " (9, 894),\n",
       " (10, 503)]"
      ]
     },
     "execution_count": 26,
     "metadata": {},
     "output_type": "execute_result"
    }
   ],
   "source": [
    "from itertools import groupby\n",
    "train_sent_len_list = list(map(lambda x: len(x[0]), training_set_sorted))\n",
    "train_length_hist = [(x[0], len(list(x[1]))) for x in groupby(train_sent_len_list)]\n",
    "train_length_hist[:10]"
   ]
  },
  {
   "cell_type": "code",
   "execution_count": 27,
   "metadata": {},
   "outputs": [
    {
     "data": {
      "text/plain": [
       "<BarContainer object of 64 artists>"
      ]
     },
     "execution_count": 27,
     "metadata": {},
     "output_type": "execute_result"
    },
    {
     "data": {
      "image/png": "[encoded data removed]",
      "text/plain": [
       "<Figure size 432x288 with 1 Axes>"
      ]
     },
     "metadata": {
      "needs_background": "light"
     },
     "output_type": "display_data"
    }
   ],
   "source": [
    "plt.bar(list(map(lambda x: x[0], train_length_hist)),\n",
    "        list(map(lambda x: x[1], train_length_hist)))"
   ]
  },
  {
   "cell_type": "markdown",
   "metadata": {},
   "source": [
    "We create bins of sentences of the same length. This is to avoid padding"
   ]
  },
  {
   "cell_type": "code",
   "execution_count": 28,
   "metadata": {},
   "outputs": [],
   "source": [
    "training_bins = []\n",
    "for bin in train_length_hist:\n",
    "    training_bins += [training_set_sorted[:bin[1]]]\n",
    "    training_set_sorted = training_set_sorted[bin[1]:]"
   ]
  },
  {
   "cell_type": "markdown",
   "metadata": {},
   "source": [
    "## Training the Model"
   ]
  },
  {
   "cell_type": "markdown",
   "metadata": {},
   "source": [
    "We now create a generator to generate batches of sentences with the same length"
   ]
  },
  {
   "cell_type": "code",
   "execution_count": 29,
   "metadata": {},
   "outputs": [],
   "source": [
    "def minibatch_generator(dataset):\n",
    "    # We take the sentences of the same length\n",
    "    for sentence_bin in dataset:\n",
    "        # The number of batches. \n",
    "        batch_cnt = int(np.ceil((len(sentence_bin) / BATCH_SIZE)))\n",
    "        # We create batches of BATCH_SIZE\n",
    "        for j in range(batch_cnt):\n",
    "            char_batch = []\n",
    "            token_batch = []\n",
    "            label_batch = []\n",
    "            for sentence in sentence_bin[j*BATCH_SIZE:(j+1)*BATCH_SIZE]:\n",
    "                tokens, chars, labels = sentence\n",
    "                char_batch.append(chars)\n",
    "                token_batch.append(tokens)\n",
    "                label_batch.append(labels)\n",
    "            label_batch = list(map(lambda x: np.transpose([x]), label_batch))\n",
    "            label_batch = to_categorical(label_batch, num_classes=len(ner))\n",
    "            yield  np.asarray(char_batch), np.asarray(token_batch), label_batch"
   ]
  },
  {
   "cell_type": "code",
   "execution_count": 30,
   "metadata": {},
   "outputs": [
    {
     "data": {
      "text/plain": [
       "[]"
      ]
     },
     "execution_count": 30,
     "metadata": {},
     "output_type": "execute_result"
    }
   ],
   "source": [
    "model.metrics_names"
   ]
  },
  {
   "cell_type": "code",
   "execution_count": 31,
   "metadata": {},
   "outputs": [],
   "source": [
    "def predict(X_char_idx, X_word_idx, model, idx2pos, default_tag='O'):\n",
    "    \"\"\"\n",
    "    Function to predict the test set and converts the indices to symbols\n",
    "    \"\"\"\n",
    "\n",
    "    Y_pred_vect = []\n",
    "    for x_char, x_word in zip(X_char_idx, X_word_idx):\n",
    "        y_pred_vect = model.predict([np.array([x_char]),\n",
    "                                          np.array([x_word])])[0]\n",
    "        Y_pred_vect += [y_pred_vect]\n",
    "\n",
    "    # print('Y_test_pred_vect', Y_test_pred_vect[:2])\n",
    "    # Convert to POS or NER idx to symbols\n",
    "    Y_pred = []\n",
    "    for y_pred_vect in Y_pred_vect:\n",
    "        pos_idx = np.argmax(y_pred_vect, axis=-1)\n",
    "        # print('POS_IDX', pos_idx)\n",
    "        # We convert the indices into symbols\n",
    "        # If the symbol does not exist, we tag the word with O, the default tag\n",
    "        pos_cat = list(map(lambda x: idx2pos.get(x, default_tag), pos_idx))\n",
    "        # We add a sanity check if the classifier has predicted a nonvalid tag.\n",
    "        # This could only be the padding index: 0\n",
    "        for pos in pos_idx:\n",
    "            if pos not in idx2pos:\n",
    "                print('Bad, should not occur:', pos)\n",
    "                print((-y_pred_vect).argsort())\n",
    "                print('Bad, should not occur:', y_pred_vect)\n",
    "        Y_pred += [pos_cat]\n",
    "    return Y_pred"
   ]
  },
  {
   "cell_type": "markdown",
   "metadata": {},
   "source": [
    "With the next function, we format the words, the named entity tags, and the predicted named entity tags so that we can evaluate them. It necessary converts them to the IOBES tagset."
   ]
  },
  {
   "cell_type": "code",
   "execution_count": 32,
   "metadata": {},
   "outputs": [],
   "source": [
    "def format_conll(X_words, Y, Y_hat):\n",
    "    total_words = 0\n",
    "    correct = 0\n",
    "    total_ukn = 0\n",
    "    correct_ukn = 0\n",
    "    conll_pred_corpus = ''\n",
    "    \n",
    "    for sent_nbr, y_vect_hat in enumerate(Y_hat):\n",
    "        for word_nbr, y_hat in enumerate(y_vect_hat):\n",
    "            unknown_word = False\n",
    "            # y is the correct named entity tag\n",
    "            y = Y[sent_nbr][word_nbr]\n",
    "            if ANNOTATION == 'IOBES':\n",
    "                if y[0] == 'S':\n",
    "                    y = 'B' + y[1:]\n",
    "                if y[0] == 'E':\n",
    "                    y = 'I' + y[1:]\n",
    "                if y_hat[0] == 'S':\n",
    "                    y_hat = 'B' + y_hat[1:]\n",
    "                if y_hat[0] == 'E':\n",
    "                    y_hat = 'I' + y_hat[1:]\n",
    "            line = ' '.join([X_words[sent_nbr][word_nbr],\n",
    "                                     y, y_hat])\n",
    "            line += '\\n'\n",
    "            total_words += 1\n",
    "            conll_pred_corpus += line\n",
    "            #file.write(line)\n",
    "            # The word is not in the dictionary\n",
    "            if X_words[sent_nbr][word_nbr] not in word2idx:\n",
    "                total_ukn += 1\n",
    "                unknown_word = True\n",
    "            if y_hat == y:\n",
    "                correct += 1\n",
    "                if unknown_word:\n",
    "                    correct_ukn += 1\n",
    "        conll_pred_corpus += '\\n'\n",
    "        #file.write('\\n')\n",
    "    print('total %d, correct %d, accuracy %f' % (total_words, correct, correct / total_words))\n",
    "    if total_ukn != 0:\n",
    "        print('total unknown %d, correct %d, accuracy %f' % (total_ukn, correct_ukn, correct_ukn / total_ukn))\n",
    "    return conll_pred_corpus"
   ]
  },
  {
   "cell_type": "code",
   "execution_count": 33,
   "metadata": {
    "scrolled": true
   },
   "outputs": [
    {
     "name": "stderr",
     "output_type": "stream",
     "text": [
      "0it [00:00, ?it/s]"
     ]
    },
    {
     "name": "stdout",
     "output_type": "stream",
     "text": [
      "Epoch 1/80\n"
     ]
    },
    {
     "name": "stderr",
     "output_type": "stream",
     "text": [
      "6it [00:13,  2.41s/it]"
     ]
    },
    {
     "name": "stdout",
     "output_type": "stream",
     "text": [
      "WARNING:tensorflow:5 out of the last 7 calls to <function Model.make_train_function.<locals>.train_function at 0x7fee4a42a830> triggered tf.function retracing. Tracing is expensive and the excessive number of tracings is likely due to passing python objects instead of tensors. Also, tf.function has experimental_relax_shapes=True option that relaxes argument shapes that can avoid unnecessary retracing. Please refer to https://www.tensorflow.org/tutorials/customization/performance#python_or_tensor_args and https://www.tensorflow.org/api_docs/python/tf/function for more details.\n"
     ]
    },
    {
     "name": "stderr",
     "output_type": "stream",
     "text": [
      "7it [00:15,  2.55s/it]"
     ]
    },
    {
     "name": "stdout",
     "output_type": "stream",
     "text": [
      "WARNING:tensorflow:6 out of the last 8 calls to <function Model.make_train_function.<locals>.train_function at 0x7fee4a42a830> triggered tf.function retracing. Tracing is expensive and the excessive number of tracings is likely due to passing python objects instead of tensors. Also, tf.function has experimental_relax_shapes=True option that relaxes argument shapes that can avoid unnecessary retracing. Please refer to https://www.tensorflow.org/tutorials/customization/performance#python_or_tensor_args and https://www.tensorflow.org/api_docs/python/tf/function for more details.\n"
     ]
    },
    {
     "name": "stderr",
     "output_type": "stream",
     "text": [
      "8it [00:18,  2.64s/it]"
     ]
    },
    {
     "name": "stdout",
     "output_type": "stream",
     "text": [
      "WARNING:tensorflow:7 out of the last 9 calls to <function Model.make_train_function.<locals>.train_function at 0x7fee4a42a830> triggered tf.function retracing. Tracing is expensive and the excessive number of tracings is likely due to passing python objects instead of tensors. Also, tf.function has experimental_relax_shapes=True option that relaxes argument shapes that can avoid unnecessary retracing. Please refer to https://www.tensorflow.org/tutorials/customization/performance#python_or_tensor_args and https://www.tensorflow.org/api_docs/python/tf/function for more details.\n"
     ]
    },
    {
     "name": "stderr",
     "output_type": "stream",
     "text": [
      "9it [00:21,  2.80s/it]"
     ]
    },
    {
     "name": "stdout",
     "output_type": "stream",
     "text": [
      "WARNING:tensorflow:8 out of the last 10 calls to <function Model.make_train_function.<locals>.train_function at 0x7fee4a42a830> triggered tf.function retracing. Tracing is expensive and the excessive number of tracings is likely due to passing python objects instead of tensors. Also, tf.function has experimental_relax_shapes=True option that relaxes argument shapes that can avoid unnecessary retracing. Please refer to https://www.tensorflow.org/tutorials/customization/performance#python_or_tensor_args and https://www.tensorflow.org/api_docs/python/tf/function for more details.\n"
     ]
    },
    {
     "name": "stderr",
     "output_type": "stream",
     "text": [
      "10it [00:24,  2.86s/it]"
     ]
    },
    {
     "name": "stdout",
     "output_type": "stream",
     "text": [
      "WARNING:tensorflow:9 out of the last 11 calls to <function Model.make_train_function.<locals>.train_function at 0x7fee4a42a830> triggered tf.function retracing. Tracing is expensive and the excessive number of tracings is likely due to passing python objects instead of tensors. Also, tf.function has experimental_relax_shapes=True option that relaxes argument shapes that can avoid unnecessary retracing. Please refer to https://www.tensorflow.org/tutorials/customization/performance#python_or_tensor_args and https://www.tensorflow.org/api_docs/python/tf/function for more details.\n"
     ]
    },
    {
     "name": "stderr",
     "output_type": "stream",
     "text": [
      "11it [00:28,  3.03s/it]"
     ]
    },
    {
     "name": "stdout",
     "output_type": "stream",
     "text": [
      "WARNING:tensorflow:10 out of the last 12 calls to <function Model.make_train_function.<locals>.train_function at 0x7fee4a42a830> triggered tf.function retracing. Tracing is expensive and the excessive number of tracings is likely due to passing python objects instead of tensors. Also, tf.function has experimental_relax_shapes=True option that relaxes argument shapes that can avoid unnecessary retracing. Please refer to https://www.tensorflow.org/tutorials/customization/performance#python_or_tensor_args and https://www.tensorflow.org/api_docs/python/tf/function for more details.\n"
     ]
    },
    {
     "name": "stderr",
     "output_type": "stream",
     "text": [
      "12it [00:31,  2.96s/it]"
     ]
    },
    {
     "name": "stdout",
     "output_type": "stream",
     "text": [
      "WARNING:tensorflow:10 out of the last 11 calls to <function Model.make_train_function.<locals>.train_function at 0x7fee4a42a830> triggered tf.function retracing. Tracing is expensive and the excessive number of tracings is likely due to passing python objects instead of tensors. Also, tf.function has experimental_relax_shapes=True option that relaxes argument shapes that can avoid unnecessary retracing. Please refer to https://www.tensorflow.org/tutorials/customization/performance#python_or_tensor_args and https://www.tensorflow.org/api_docs/python/tf/function for more details.\n"
     ]
    },
    {
     "name": "stderr",
     "output_type": "stream",
     "text": [
      "13it [00:34,  2.99s/it]"
     ]
    },
    {
     "name": "stdout",
     "output_type": "stream",
     "text": [
      "WARNING:tensorflow:10 out of the last 11 calls to <function Model.make_train_function.<locals>.train_function at 0x7fee4a42a830> triggered tf.function retracing. Tracing is expensive and the excessive number of tracings is likely due to passing python objects instead of tensors. Also, tf.function has experimental_relax_shapes=True option that relaxes argument shapes that can avoid unnecessary retracing. Please refer to https://www.tensorflow.org/tutorials/customization/performance#python_or_tensor_args and https://www.tensorflow.org/api_docs/python/tf/function for more details.\n"
     ]
    },
    {
     "name": "stderr",
     "output_type": "stream",
     "text": [
      "14it [00:37,  2.97s/it]"
     ]
    },
    {
     "name": "stdout",
     "output_type": "stream",
     "text": [
      "WARNING:tensorflow:11 out of the last 12 calls to <function Model.make_train_function.<locals>.train_function at 0x7fee4a42a830> triggered tf.function retracing. Tracing is expensive and the excessive number of tracings is likely due to passing python objects instead of tensors. Also, tf.function has experimental_relax_shapes=True option that relaxes argument shapes that can avoid unnecessary retracing. Please refer to https://www.tensorflow.org/tutorials/customization/performance#python_or_tensor_args and https://www.tensorflow.org/api_docs/python/tf/function for more details.\n"
     ]
    },
    {
     "name": "stderr",
     "output_type": "stream",
     "text": [
      "15it [00:40,  2.95s/it]"
     ]
    },
    {
     "name": "stdout",
     "output_type": "stream",
     "text": [
      "WARNING:tensorflow:11 out of the last 11 calls to <function Model.make_train_function.<locals>.train_function at 0x7fee4a42a830> triggered tf.function retracing. Tracing is expensive and the excessive number of tracings is likely due to passing python objects instead of tensors. Also, tf.function has experimental_relax_shapes=True option that relaxes argument shapes that can avoid unnecessary retracing. Please refer to https://www.tensorflow.org/tutorials/customization/performance#python_or_tensor_args and https://www.tensorflow.org/api_docs/python/tf/function for more details.\n"
     ]
    },
    {
     "name": "stderr",
     "output_type": "stream",
     "text": [
      "16it [00:43,  3.02s/it]"
     ]
    },
    {
     "name": "stdout",
     "output_type": "stream",
     "text": [
      "WARNING:tensorflow:11 out of the last 11 calls to <function Model.make_train_function.<locals>.train_function at 0x7fee4a42a830> triggered tf.function retracing. Tracing is expensive and the excessive number of tracings is likely due to passing python objects instead of tensors. Also, tf.function has experimental_relax_shapes=True option that relaxes argument shapes that can avoid unnecessary retracing. Please refer to https://www.tensorflow.org/tutorials/customization/performance#python_or_tensor_args and https://www.tensorflow.org/api_docs/python/tf/function for more details.\n"
     ]
    },
    {
     "name": "stderr",
     "output_type": "stream",
     "text": [
      "18it [00:46,  2.19s/it]"
     ]
    },
    {
     "name": "stdout",
     "output_type": "stream",
     "text": [
      "WARNING:tensorflow:10 out of the last 11 calls to <function Model.make_train_function.<locals>.train_function at 0x7fee4a42a830> triggered tf.function retracing. Tracing is expensive and the excessive number of tracings is likely due to passing python objects instead of tensors. Also, tf.function has experimental_relax_shapes=True option that relaxes argument shapes that can avoid unnecessary retracing. Please refer to https://www.tensorflow.org/tutorials/customization/performance#python_or_tensor_args and https://www.tensorflow.org/api_docs/python/tf/function for more details.\n"
     ]
    },
    {
     "name": "stderr",
     "output_type": "stream",
     "text": [
      "19it [00:49,  2.49s/it]"
     ]
    },
    {
     "name": "stdout",
     "output_type": "stream",
     "text": [
      "WARNING:tensorflow:10 out of the last 11 calls to <function Model.make_train_function.<locals>.train_function at 0x7fee4a42a830> triggered tf.function retracing. Tracing is expensive and the excessive number of tracings is likely due to passing python objects instead of tensors. Also, tf.function has experimental_relax_shapes=True option that relaxes argument shapes that can avoid unnecessary retracing. Please refer to https://www.tensorflow.org/tutorials/customization/performance#python_or_tensor_args and https://www.tensorflow.org/api_docs/python/tf/function for more details.\n"
     ]
    },
    {
     "name": "stderr",
     "output_type": "stream",
     "text": [
      "20it [00:52,  2.60s/it]"
     ]
    },
    {
     "name": "stdout",
     "output_type": "stream",
     "text": [
      "WARNING:tensorflow:10 out of the last 11 calls to <function Model.make_train_function.<locals>.train_function at 0x7fee4a42a830> triggered tf.function retracing. Tracing is expensive and the excessive number of tracings is likely due to passing python objects instead of tensors. Also, tf.function has experimental_relax_shapes=True option that relaxes argument shapes that can avoid unnecessary retracing. Please refer to https://www.tensorflow.org/tutorials/customization/performance#python_or_tensor_args and https://www.tensorflow.org/api_docs/python/tf/function for more details.\n"
     ]
    },
    {
     "name": "stderr",
     "output_type": "stream",
     "text": [
      "21it [00:55,  2.70s/it]"
     ]
    },
    {
     "name": "stdout",
     "output_type": "stream",
     "text": [
      "WARNING:tensorflow:10 out of the last 11 calls to <function Model.make_train_function.<locals>.train_function at 0x7fee4a42a830> triggered tf.function retracing. Tracing is expensive and the excessive number of tracings is likely due to passing python objects instead of tensors. Also, tf.function has experimental_relax_shapes=True option that relaxes argument shapes that can avoid unnecessary retracing. Please refer to https://www.tensorflow.org/tutorials/customization/performance#python_or_tensor_args and https://www.tensorflow.org/api_docs/python/tf/function for more details.\n"
     ]
    },
    {
     "name": "stderr",
     "output_type": "stream",
     "text": [
      "22it [00:58,  2.79s/it]"
     ]
    },
    {
     "name": "stdout",
     "output_type": "stream",
     "text": [
      "WARNING:tensorflow:10 out of the last 11 calls to <function Model.make_train_function.<locals>.train_function at 0x7fee4a42a830> triggered tf.function retracing. Tracing is expensive and the excessive number of tracings is likely due to passing python objects instead of tensors. Also, tf.function has experimental_relax_shapes=True option that relaxes argument shapes that can avoid unnecessary retracing. Please refer to https://www.tensorflow.org/tutorials/customization/performance#python_or_tensor_args and https://www.tensorflow.org/api_docs/python/tf/function for more details.\n"
     ]
    },
    {
     "name": "stderr",
     "output_type": "stream",
     "text": [
      "23it [01:01,  2.84s/it]"
     ]
    },
    {
     "name": "stdout",
     "output_type": "stream",
     "text": [
      "WARNING:tensorflow:10 out of the last 11 calls to <function Model.make_train_function.<locals>.train_function at 0x7fee4a42a830> triggered tf.function retracing. Tracing is expensive and the excessive number of tracings is likely due to passing python objects instead of tensors. Also, tf.function has experimental_relax_shapes=True option that relaxes argument shapes that can avoid unnecessary retracing. Please refer to https://www.tensorflow.org/tutorials/customization/performance#python_or_tensor_args and https://www.tensorflow.org/api_docs/python/tf/function for more details.\n"
     ]
    },
    {
     "name": "stderr",
     "output_type": "stream",
     "text": [
      "24it [01:04,  2.83s/it]"
     ]
    },
    {
     "name": "stdout",
     "output_type": "stream",
     "text": [
      "WARNING:tensorflow:10 out of the last 11 calls to <function Model.make_train_function.<locals>.train_function at 0x7fee4a42a830> triggered tf.function retracing. Tracing is expensive and the excessive number of tracings is likely due to passing python objects instead of tensors. Also, tf.function has experimental_relax_shapes=True option that relaxes argument shapes that can avoid unnecessary retracing. Please refer to https://www.tensorflow.org/tutorials/customization/performance#python_or_tensor_args and https://www.tensorflow.org/api_docs/python/tf/function for more details.\n"
     ]
    },
    {
     "name": "stderr",
     "output_type": "stream",
     "text": [
      "25it [01:07,  2.82s/it]"
     ]
    },
    {
     "name": "stdout",
     "output_type": "stream",
     "text": [
      "WARNING:tensorflow:10 out of the last 11 calls to <function Model.make_train_function.<locals>.train_function at 0x7fee4a42a830> triggered tf.function retracing. Tracing is expensive and the excessive number of tracings is likely due to passing python objects instead of tensors. Also, tf.function has experimental_relax_shapes=True option that relaxes argument shapes that can avoid unnecessary retracing. Please refer to https://www.tensorflow.org/tutorials/customization/performance#python_or_tensor_args and https://www.tensorflow.org/api_docs/python/tf/function for more details.\n"
     ]
    },
    {
     "name": "stderr",
     "output_type": "stream",
     "text": [
      "26it [01:09,  2.82s/it]"
     ]
    },
    {
     "name": "stdout",
     "output_type": "stream",
     "text": [
      "WARNING:tensorflow:10 out of the last 11 calls to <function Model.make_train_function.<locals>.train_function at 0x7fee4a42a830> triggered tf.function retracing. Tracing is expensive and the excessive number of tracings is likely due to passing python objects instead of tensors. Also, tf.function has experimental_relax_shapes=True option that relaxes argument shapes that can avoid unnecessary retracing. Please refer to https://www.tensorflow.org/tutorials/customization/performance#python_or_tensor_args and https://www.tensorflow.org/api_docs/python/tf/function for more details.\n"
     ]
    },
    {
     "name": "stderr",
     "output_type": "stream",
     "text": [
      "27it [01:12,  2.82s/it]"
     ]
    },
    {
     "name": "stdout",
     "output_type": "stream",
     "text": [
      "WARNING:tensorflow:11 out of the last 12 calls to <function Model.make_train_function.<locals>.train_function at 0x7fee4a42a830> triggered tf.function retracing. Tracing is expensive and the excessive number of tracings is likely due to passing python objects instead of tensors. Also, tf.function has experimental_relax_shapes=True option that relaxes argument shapes that can avoid unnecessary retracing. Please refer to https://www.tensorflow.org/tutorials/customization/performance#python_or_tensor_args and https://www.tensorflow.org/api_docs/python/tf/function for more details.\n"
     ]
    },
    {
     "name": "stderr",
     "output_type": "stream",
     "text": [
      "28it [01:15,  2.96s/it]"
     ]
    },
    {
     "name": "stdout",
     "output_type": "stream",
     "text": [
      "WARNING:tensorflow:11 out of the last 11 calls to <function Model.make_train_function.<locals>.train_function at 0x7fee4a42a830> triggered tf.function retracing. Tracing is expensive and the excessive number of tracings is likely due to passing python objects instead of tensors. Also, tf.function has experimental_relax_shapes=True option that relaxes argument shapes that can avoid unnecessary retracing. Please refer to https://www.tensorflow.org/tutorials/customization/performance#python_or_tensor_args and https://www.tensorflow.org/api_docs/python/tf/function for more details.\n"
     ]
    },
    {
     "name": "stderr",
     "output_type": "stream",
     "text": [
      "29it [01:18,  2.93s/it]"
     ]
    },
    {
     "name": "stdout",
     "output_type": "stream",
     "text": [
      "WARNING:tensorflow:11 out of the last 11 calls to <function Model.make_train_function.<locals>.train_function at 0x7fee4a42a830> triggered tf.function retracing. Tracing is expensive and the excessive number of tracings is likely due to passing python objects instead of tensors. Also, tf.function has experimental_relax_shapes=True option that relaxes argument shapes that can avoid unnecessary retracing. Please refer to https://www.tensorflow.org/tutorials/customization/performance#python_or_tensor_args and https://www.tensorflow.org/api_docs/python/tf/function for more details.\n"
     ]
    },
    {
     "name": "stderr",
     "output_type": "stream",
     "text": [
      "30it [01:21,  2.91s/it]"
     ]
    },
    {
     "name": "stdout",
     "output_type": "stream",
     "text": [
      "WARNING:tensorflow:11 out of the last 11 calls to <function Model.make_train_function.<locals>.train_function at 0x7fee4a42a830> triggered tf.function retracing. Tracing is expensive and the excessive number of tracings is likely due to passing python objects instead of tensors. Also, tf.function has experimental_relax_shapes=True option that relaxes argument shapes that can avoid unnecessary retracing. Please refer to https://www.tensorflow.org/tutorials/customization/performance#python_or_tensor_args and https://www.tensorflow.org/api_docs/python/tf/function for more details.\n"
     ]
    },
    {
     "name": "stderr",
     "output_type": "stream",
     "text": [
      "31it [01:24,  2.89s/it]"
     ]
    },
    {
     "name": "stdout",
     "output_type": "stream",
     "text": [
      "WARNING:tensorflow:11 out of the last 11 calls to <function Model.make_train_function.<locals>.train_function at 0x7fee4a42a830> triggered tf.function retracing. Tracing is expensive and the excessive number of tracings is likely due to passing python objects instead of tensors. Also, tf.function has experimental_relax_shapes=True option that relaxes argument shapes that can avoid unnecessary retracing. Please refer to https://www.tensorflow.org/tutorials/customization/performance#python_or_tensor_args and https://www.tensorflow.org/api_docs/python/tf/function for more details.\n"
     ]
    },
    {
     "name": "stderr",
     "output_type": "stream",
     "text": [
      "32it [01:27,  2.92s/it]"
     ]
    },
    {
     "name": "stdout",
     "output_type": "stream",
     "text": [
      "WARNING:tensorflow:11 out of the last 11 calls to <function Model.make_train_function.<locals>.train_function at 0x7fee4a42a830> triggered tf.function retracing. Tracing is expensive and the excessive number of tracings is likely due to passing python objects instead of tensors. Also, tf.function has experimental_relax_shapes=True option that relaxes argument shapes that can avoid unnecessary retracing. Please refer to https://www.tensorflow.org/tutorials/customization/performance#python_or_tensor_args and https://www.tensorflow.org/api_docs/python/tf/function for more details.\n"
     ]
    },
    {
     "name": "stderr",
     "output_type": "stream",
     "text": [
      "33it [01:30,  2.92s/it]"
     ]
    },
    {
     "name": "stdout",
     "output_type": "stream",
     "text": [
      "WARNING:tensorflow:11 out of the last 11 calls to <function Model.make_train_function.<locals>.train_function at 0x7fee4a42a830> triggered tf.function retracing. Tracing is expensive and the excessive number of tracings is likely due to passing python objects instead of tensors. Also, tf.function has experimental_relax_shapes=True option that relaxes argument shapes that can avoid unnecessary retracing. Please refer to https://www.tensorflow.org/tutorials/customization/performance#python_or_tensor_args and https://www.tensorflow.org/api_docs/python/tf/function for more details.\n"
     ]
    },
    {
     "name": "stderr",
     "output_type": "stream",
     "text": [
      "34it [01:33,  2.88s/it]"
     ]
    },
    {
     "name": "stdout",
     "output_type": "stream",
     "text": [
      "WARNING:tensorflow:11 out of the last 11 calls to <function Model.make_train_function.<locals>.train_function at 0x7fee4a42a830> triggered tf.function retracing. Tracing is expensive and the excessive number of tracings is likely due to passing python objects instead of tensors. Also, tf.function has experimental_relax_shapes=True option that relaxes argument shapes that can avoid unnecessary retracing. Please refer to https://www.tensorflow.org/tutorials/customization/performance#python_or_tensor_args and https://www.tensorflow.org/api_docs/python/tf/function for more details.\n"
     ]
    },
    {
     "name": "stderr",
     "output_type": "stream",
     "text": [
      "35it [01:35,  2.86s/it]"
     ]
    },
    {
     "name": "stdout",
     "output_type": "stream",
     "text": [
      "WARNING:tensorflow:11 out of the last 11 calls to <function Model.make_train_function.<locals>.train_function at 0x7fee4a42a830> triggered tf.function retracing. Tracing is expensive and the excessive number of tracings is likely due to passing python objects instead of tensors. Also, tf.function has experimental_relax_shapes=True option that relaxes argument shapes that can avoid unnecessary retracing. Please refer to https://www.tensorflow.org/tutorials/customization/performance#python_or_tensor_args and https://www.tensorflow.org/api_docs/python/tf/function for more details.\n"
     ]
    },
    {
     "name": "stderr",
     "output_type": "stream",
     "text": [
      "36it [01:38,  2.85s/it]"
     ]
    },
    {
     "name": "stdout",
     "output_type": "stream",
     "text": [
      "WARNING:tensorflow:11 out of the last 11 calls to <function Model.make_train_function.<locals>.train_function at 0x7fee4a42a830> triggered tf.function retracing. Tracing is expensive and the excessive number of tracings is likely due to passing python objects instead of tensors. Also, tf.function has experimental_relax_shapes=True option that relaxes argument shapes that can avoid unnecessary retracing. Please refer to https://www.tensorflow.org/tutorials/customization/performance#python_or_tensor_args and https://www.tensorflow.org/api_docs/python/tf/function for more details.\n"
     ]
    },
    {
     "name": "stderr",
     "output_type": "stream",
     "text": [
      "37it [01:41,  2.90s/it]"
     ]
    },
    {
     "name": "stdout",
     "output_type": "stream",
     "text": [
      "WARNING:tensorflow:11 out of the last 11 calls to <function Model.make_train_function.<locals>.train_function at 0x7fee4a42a830> triggered tf.function retracing. Tracing is expensive and the excessive number of tracings is likely due to passing python objects instead of tensors. Also, tf.function has experimental_relax_shapes=True option that relaxes argument shapes that can avoid unnecessary retracing. Please refer to https://www.tensorflow.org/tutorials/customization/performance#python_or_tensor_args and https://www.tensorflow.org/api_docs/python/tf/function for more details.\n"
     ]
    },
    {
     "name": "stderr",
     "output_type": "stream",
     "text": [
      "38it [01:44,  2.90s/it]"
     ]
    },
    {
     "name": "stdout",
     "output_type": "stream",
     "text": [
      "WARNING:tensorflow:11 out of the last 11 calls to <function Model.make_train_function.<locals>.train_function at 0x7fee4a42a830> triggered tf.function retracing. Tracing is expensive and the excessive number of tracings is likely due to passing python objects instead of tensors. Also, tf.function has experimental_relax_shapes=True option that relaxes argument shapes that can avoid unnecessary retracing. Please refer to https://www.tensorflow.org/tutorials/customization/performance#python_or_tensor_args and https://www.tensorflow.org/api_docs/python/tf/function for more details.\n"
     ]
    },
    {
     "name": "stderr",
     "output_type": "stream",
     "text": [
      "39it [01:48,  3.17s/it]"
     ]
    },
    {
     "name": "stdout",
     "output_type": "stream",
     "text": [
      "WARNING:tensorflow:11 out of the last 11 calls to <function Model.make_train_function.<locals>.train_function at 0x7fee4a42a830> triggered tf.function retracing. Tracing is expensive and the excessive number of tracings is likely due to passing python objects instead of tensors. Also, tf.function has experimental_relax_shapes=True option that relaxes argument shapes that can avoid unnecessary retracing. Please refer to https://www.tensorflow.org/tutorials/customization/performance#python_or_tensor_args and https://www.tensorflow.org/api_docs/python/tf/function for more details.\n"
     ]
    },
    {
     "name": "stderr",
     "output_type": "stream",
     "text": [
      "40it [01:51,  3.09s/it]"
     ]
    },
    {
     "name": "stdout",
     "output_type": "stream",
     "text": [
      "WARNING:tensorflow:11 out of the last 11 calls to <function Model.make_train_function.<locals>.train_function at 0x7fee4a42a830> triggered tf.function retracing. Tracing is expensive and the excessive number of tracings is likely due to passing python objects instead of tensors. Also, tf.function has experimental_relax_shapes=True option that relaxes argument shapes that can avoid unnecessary retracing. Please refer to https://www.tensorflow.org/tutorials/customization/performance#python_or_tensor_args and https://www.tensorflow.org/api_docs/python/tf/function for more details.\n"
     ]
    },
    {
     "name": "stderr",
     "output_type": "stream",
     "text": [
      "41it [01:54,  3.03s/it]"
     ]
    },
    {
     "name": "stdout",
     "output_type": "stream",
     "text": [
      "WARNING:tensorflow:11 out of the last 11 calls to <function Model.make_train_function.<locals>.train_function at 0x7fee4a42a830> triggered tf.function retracing. Tracing is expensive and the excessive number of tracings is likely due to passing python objects instead of tensors. Also, tf.function has experimental_relax_shapes=True option that relaxes argument shapes that can avoid unnecessary retracing. Please refer to https://www.tensorflow.org/tutorials/customization/performance#python_or_tensor_args and https://www.tensorflow.org/api_docs/python/tf/function for more details.\n"
     ]
    },
    {
     "name": "stderr",
     "output_type": "stream",
     "text": [
      "42it [01:57,  3.03s/it]"
     ]
    },
    {
     "name": "stdout",
     "output_type": "stream",
     "text": [
      "WARNING:tensorflow:11 out of the last 11 calls to <function Model.make_train_function.<locals>.train_function at 0x7fee4a42a830> triggered tf.function retracing. Tracing is expensive and the excessive number of tracings is likely due to passing python objects instead of tensors. Also, tf.function has experimental_relax_shapes=True option that relaxes argument shapes that can avoid unnecessary retracing. Please refer to https://www.tensorflow.org/tutorials/customization/performance#python_or_tensor_args and https://www.tensorflow.org/api_docs/python/tf/function for more details.\n"
     ]
    },
    {
     "name": "stderr",
     "output_type": "stream",
     "text": [
      "43it [02:00,  3.00s/it]"
     ]
    },
    {
     "name": "stdout",
     "output_type": "stream",
     "text": [
      "WARNING:tensorflow:11 out of the last 11 calls to <function Model.make_train_function.<locals>.train_function at 0x7fee4a42a830> triggered tf.function retracing. Tracing is expensive and the excessive number of tracings is likely due to passing python objects instead of tensors. Also, tf.function has experimental_relax_shapes=True option that relaxes argument shapes that can avoid unnecessary retracing. Please refer to https://www.tensorflow.org/tutorials/customization/performance#python_or_tensor_args and https://www.tensorflow.org/api_docs/python/tf/function for more details.\n"
     ]
    },
    {
     "name": "stderr",
     "output_type": "stream",
     "text": [
      "44it [02:03,  2.98s/it]"
     ]
    },
    {
     "name": "stdout",
     "output_type": "stream",
     "text": [
      "WARNING:tensorflow:11 out of the last 11 calls to <function Model.make_train_function.<locals>.train_function at 0x7fee4a42a830> triggered tf.function retracing. Tracing is expensive and the excessive number of tracings is likely due to passing python objects instead of tensors. Also, tf.function has experimental_relax_shapes=True option that relaxes argument shapes that can avoid unnecessary retracing. Please refer to https://www.tensorflow.org/tutorials/customization/performance#python_or_tensor_args and https://www.tensorflow.org/api_docs/python/tf/function for more details.\n"
     ]
    },
    {
     "name": "stderr",
     "output_type": "stream",
     "text": [
      "45it [02:06,  2.97s/it]"
     ]
    },
    {
     "name": "stdout",
     "output_type": "stream",
     "text": [
      "WARNING:tensorflow:11 out of the last 11 calls to <function Model.make_train_function.<locals>.train_function at 0x7fee4a42a830> triggered tf.function retracing. Tracing is expensive and the excessive number of tracings is likely due to passing python objects instead of tensors. Also, tf.function has experimental_relax_shapes=True option that relaxes argument shapes that can avoid unnecessary retracing. Please refer to https://www.tensorflow.org/tutorials/customization/performance#python_or_tensor_args and https://www.tensorflow.org/api_docs/python/tf/function for more details.\n"
     ]
    },
    {
     "name": "stderr",
     "output_type": "stream",
     "text": [
      "46it [02:09,  2.96s/it]"
     ]
    },
    {
     "name": "stdout",
     "output_type": "stream",
     "text": [
      "WARNING:tensorflow:11 out of the last 11 calls to <function Model.make_train_function.<locals>.train_function at 0x7fee4a42a830> triggered tf.function retracing. Tracing is expensive and the excessive number of tracings is likely due to passing python objects instead of tensors. Also, tf.function has experimental_relax_shapes=True option that relaxes argument shapes that can avoid unnecessary retracing. Please refer to https://www.tensorflow.org/tutorials/customization/performance#python_or_tensor_args and https://www.tensorflow.org/api_docs/python/tf/function for more details.\n"
     ]
    },
    {
     "name": "stderr",
     "output_type": "stream",
     "text": [
      "47it [02:12,  2.98s/it]"
     ]
    },
    {
     "name": "stdout",
     "output_type": "stream",
     "text": [
      "WARNING:tensorflow:11 out of the last 11 calls to <function Model.make_train_function.<locals>.train_function at 0x7fee4a42a830> triggered tf.function retracing. Tracing is expensive and the excessive number of tracings is likely due to passing python objects instead of tensors. Also, tf.function has experimental_relax_shapes=True option that relaxes argument shapes that can avoid unnecessary retracing. Please refer to https://www.tensorflow.org/tutorials/customization/performance#python_or_tensor_args and https://www.tensorflow.org/api_docs/python/tf/function for more details.\n"
     ]
    },
    {
     "name": "stderr",
     "output_type": "stream",
     "text": [
      "48it [02:14,  2.95s/it]"
     ]
    },
    {
     "name": "stdout",
     "output_type": "stream",
     "text": [
      "WARNING:tensorflow:11 out of the last 11 calls to <function Model.make_train_function.<locals>.train_function at 0x7fee4a42a830> triggered tf.function retracing. Tracing is expensive and the excessive number of tracings is likely due to passing python objects instead of tensors. Also, tf.function has experimental_relax_shapes=True option that relaxes argument shapes that can avoid unnecessary retracing. Please refer to https://www.tensorflow.org/tutorials/customization/performance#python_or_tensor_args and https://www.tensorflow.org/api_docs/python/tf/function for more details.\n"
     ]
    },
    {
     "name": "stderr",
     "output_type": "stream",
     "text": [
      "49it [02:17,  2.92s/it]"
     ]
    },
    {
     "name": "stdout",
     "output_type": "stream",
     "text": [
      "WARNING:tensorflow:11 out of the last 11 calls to <function Model.make_train_function.<locals>.train_function at 0x7fee4a42a830> triggered tf.function retracing. Tracing is expensive and the excessive number of tracings is likely due to passing python objects instead of tensors. Also, tf.function has experimental_relax_shapes=True option that relaxes argument shapes that can avoid unnecessary retracing. Please refer to https://www.tensorflow.org/tutorials/customization/performance#python_or_tensor_args and https://www.tensorflow.org/api_docs/python/tf/function for more details.\n"
     ]
    },
    {
     "name": "stderr",
     "output_type": "stream",
     "text": [
      "50it [02:20,  2.88s/it]"
     ]
    },
    {
     "name": "stdout",
     "output_type": "stream",
     "text": [
      "WARNING:tensorflow:11 out of the last 11 calls to <function Model.make_train_function.<locals>.train_function at 0x7fee4a42a830> triggered tf.function retracing. Tracing is expensive and the excessive number of tracings is likely due to passing python objects instead of tensors. Also, tf.function has experimental_relax_shapes=True option that relaxes argument shapes that can avoid unnecessary retracing. Please refer to https://www.tensorflow.org/tutorials/customization/performance#python_or_tensor_args and https://www.tensorflow.org/api_docs/python/tf/function for more details.\n"
     ]
    },
    {
     "name": "stderr",
     "output_type": "stream",
     "text": [
      "51it [02:23,  2.88s/it]"
     ]
    },
    {
     "name": "stdout",
     "output_type": "stream",
     "text": [
      "WARNING:tensorflow:11 out of the last 11 calls to <function Model.make_train_function.<locals>.train_function at 0x7fee4a42a830> triggered tf.function retracing. Tracing is expensive and the excessive number of tracings is likely due to passing python objects instead of tensors. Also, tf.function has experimental_relax_shapes=True option that relaxes argument shapes that can avoid unnecessary retracing. Please refer to https://www.tensorflow.org/tutorials/customization/performance#python_or_tensor_args and https://www.tensorflow.org/api_docs/python/tf/function for more details.\n"
     ]
    },
    {
     "name": "stderr",
     "output_type": "stream",
     "text": [
      "52it [02:27,  3.15s/it]"
     ]
    },
    {
     "name": "stdout",
     "output_type": "stream",
     "text": [
      "WARNING:tensorflow:11 out of the last 11 calls to <function Model.make_train_function.<locals>.train_function at 0x7fee4a42a830> triggered tf.function retracing. Tracing is expensive and the excessive number of tracings is likely due to passing python objects instead of tensors. Also, tf.function has experimental_relax_shapes=True option that relaxes argument shapes that can avoid unnecessary retracing. Please refer to https://www.tensorflow.org/tutorials/customization/performance#python_or_tensor_args and https://www.tensorflow.org/api_docs/python/tf/function for more details.\n"
     ]
    },
    {
     "name": "stderr",
     "output_type": "stream",
     "text": [
      "53it [02:30,  3.05s/it]"
     ]
    },
    {
     "name": "stdout",
     "output_type": "stream",
     "text": [
      "WARNING:tensorflow:11 out of the last 11 calls to <function Model.make_train_function.<locals>.train_function at 0x7fee4a42a830> triggered tf.function retracing. Tracing is expensive and the excessive number of tracings is likely due to passing python objects instead of tensors. Also, tf.function has experimental_relax_shapes=True option that relaxes argument shapes that can avoid unnecessary retracing. Please refer to https://www.tensorflow.org/tutorials/customization/performance#python_or_tensor_args and https://www.tensorflow.org/api_docs/python/tf/function for more details.\n"
     ]
    },
    {
     "name": "stderr",
     "output_type": "stream",
     "text": [
      "54it [02:33,  3.02s/it]"
     ]
    },
    {
     "name": "stdout",
     "output_type": "stream",
     "text": [
      "WARNING:tensorflow:11 out of the last 11 calls to <function Model.make_train_function.<locals>.train_function at 0x7fee4a42a830> triggered tf.function retracing. Tracing is expensive and the excessive number of tracings is likely due to passing python objects instead of tensors. Also, tf.function has experimental_relax_shapes=True option that relaxes argument shapes that can avoid unnecessary retracing. Please refer to https://www.tensorflow.org/tutorials/customization/performance#python_or_tensor_args and https://www.tensorflow.org/api_docs/python/tf/function for more details.\n"
     ]
    },
    {
     "name": "stderr",
     "output_type": "stream",
     "text": [
      "55it [02:35,  2.97s/it]"
     ]
    },
    {
     "name": "stdout",
     "output_type": "stream",
     "text": [
      "WARNING:tensorflow:11 out of the last 11 calls to <function Model.make_train_function.<locals>.train_function at 0x7fee4a42a830> triggered tf.function retracing. Tracing is expensive and the excessive number of tracings is likely due to passing python objects instead of tensors. Also, tf.function has experimental_relax_shapes=True option that relaxes argument shapes that can avoid unnecessary retracing. Please refer to https://www.tensorflow.org/tutorials/customization/performance#python_or_tensor_args and https://www.tensorflow.org/api_docs/python/tf/function for more details.\n"
     ]
    },
    {
     "name": "stderr",
     "output_type": "stream",
     "text": [
      "56it [02:38,  2.91s/it]"
     ]
    },
    {
     "name": "stdout",
     "output_type": "stream",
     "text": [
      "WARNING:tensorflow:11 out of the last 11 calls to <function Model.make_train_function.<locals>.train_function at 0x7fee4a42a830> triggered tf.function retracing. Tracing is expensive and the excessive number of tracings is likely due to passing python objects instead of tensors. Also, tf.function has experimental_relax_shapes=True option that relaxes argument shapes that can avoid unnecessary retracing. Please refer to https://www.tensorflow.org/tutorials/customization/performance#python_or_tensor_args and https://www.tensorflow.org/api_docs/python/tf/function for more details.\n"
     ]
    },
    {
     "name": "stderr",
     "output_type": "stream",
     "text": [
      "57it [02:41,  2.91s/it]"
     ]
    },
    {
     "name": "stdout",
     "output_type": "stream",
     "text": [
      "WARNING:tensorflow:11 out of the last 11 calls to <function Model.make_train_function.<locals>.train_function at 0x7fee4a42a830> triggered tf.function retracing. Tracing is expensive and the excessive number of tracings is likely due to passing python objects instead of tensors. Also, tf.function has experimental_relax_shapes=True option that relaxes argument shapes that can avoid unnecessary retracing. Please refer to https://www.tensorflow.org/tutorials/customization/performance#python_or_tensor_args and https://www.tensorflow.org/api_docs/python/tf/function for more details.\n"
     ]
    },
    {
     "name": "stderr",
     "output_type": "stream",
     "text": [
      "58it [02:44,  2.88s/it]"
     ]
    },
    {
     "name": "stdout",
     "output_type": "stream",
     "text": [
      "WARNING:tensorflow:11 out of the last 11 calls to <function Model.make_train_function.<locals>.train_function at 0x7fee4a42a830> triggered tf.function retracing. Tracing is expensive and the excessive number of tracings is likely due to passing python objects instead of tensors. Also, tf.function has experimental_relax_shapes=True option that relaxes argument shapes that can avoid unnecessary retracing. Please refer to https://www.tensorflow.org/tutorials/customization/performance#python_or_tensor_args and https://www.tensorflow.org/api_docs/python/tf/function for more details.\n"
     ]
    },
    {
     "name": "stderr",
     "output_type": "stream",
     "text": [
      "59it [02:47,  2.92s/it]"
     ]
    },
    {
     "name": "stdout",
     "output_type": "stream",
     "text": [
      "WARNING:tensorflow:11 out of the last 11 calls to <function Model.make_train_function.<locals>.train_function at 0x7fee4a42a830> triggered tf.function retracing. Tracing is expensive and the excessive number of tracings is likely due to passing python objects instead of tensors. Also, tf.function has experimental_relax_shapes=True option that relaxes argument shapes that can avoid unnecessary retracing. Please refer to https://www.tensorflow.org/tutorials/customization/performance#python_or_tensor_args and https://www.tensorflow.org/api_docs/python/tf/function for more details.\n"
     ]
    },
    {
     "name": "stderr",
     "output_type": "stream",
     "text": [
      "60it [02:50,  2.89s/it]"
     ]
    },
    {
     "name": "stdout",
     "output_type": "stream",
     "text": [
      "WARNING:tensorflow:11 out of the last 11 calls to <function Model.make_train_function.<locals>.train_function at 0x7fee4a42a830> triggered tf.function retracing. Tracing is expensive and the excessive number of tracings is likely due to passing python objects instead of tensors. Also, tf.function has experimental_relax_shapes=True option that relaxes argument shapes that can avoid unnecessary retracing. Please refer to https://www.tensorflow.org/tutorials/customization/performance#python_or_tensor_args and https://www.tensorflow.org/api_docs/python/tf/function for more details.\n"
     ]
    },
    {
     "name": "stderr",
     "output_type": "stream",
     "text": [
      "61it [02:52,  2.83s/it]"
     ]
    },
    {
     "name": "stdout",
     "output_type": "stream",
     "text": [
      "WARNING:tensorflow:11 out of the last 11 calls to <function Model.make_train_function.<locals>.train_function at 0x7fee4a42a830> triggered tf.function retracing. Tracing is expensive and the excessive number of tracings is likely due to passing python objects instead of tensors. Also, tf.function has experimental_relax_shapes=True option that relaxes argument shapes that can avoid unnecessary retracing. Please refer to https://www.tensorflow.org/tutorials/customization/performance#python_or_tensor_args and https://www.tensorflow.org/api_docs/python/tf/function for more details.\n"
     ]
    },
    {
     "name": "stderr",
     "output_type": "stream",
     "text": [
      "62it [02:55,  2.81s/it]"
     ]
    },
    {
     "name": "stdout",
     "output_type": "stream",
     "text": [
      "WARNING:tensorflow:11 out of the last 11 calls to <function Model.make_train_function.<locals>.train_function at 0x7fee4a42a830> triggered tf.function retracing. Tracing is expensive and the excessive number of tracings is likely due to passing python objects instead of tensors. Also, tf.function has experimental_relax_shapes=True option that relaxes argument shapes that can avoid unnecessary retracing. Please refer to https://www.tensorflow.org/tutorials/customization/performance#python_or_tensor_args and https://www.tensorflow.org/api_docs/python/tf/function for more details.\n"
     ]
    },
    {
     "name": "stderr",
     "output_type": "stream",
     "text": [
      "63it [02:58,  2.79s/it]"
     ]
    },
    {
     "name": "stdout",
     "output_type": "stream",
     "text": [
      "WARNING:tensorflow:11 out of the last 11 calls to <function Model.make_train_function.<locals>.train_function at 0x7fee4a42a830> triggered tf.function retracing. Tracing is expensive and the excessive number of tracings is likely due to passing python objects instead of tensors. Also, tf.function has experimental_relax_shapes=True option that relaxes argument shapes that can avoid unnecessary retracing. Please refer to https://www.tensorflow.org/tutorials/customization/performance#python_or_tensor_args and https://www.tensorflow.org/api_docs/python/tf/function for more details.\n"
     ]
    },
    {
     "name": "stderr",
     "output_type": "stream",
     "text": [
      "64it [03:01,  2.76s/it]"
     ]
    },
    {
     "name": "stdout",
     "output_type": "stream",
     "text": [
      "WARNING:tensorflow:11 out of the last 11 calls to <function Model.make_train_function.<locals>.train_function at 0x7fee4a42a830> triggered tf.function retracing. Tracing is expensive and the excessive number of tracings is likely due to passing python objects instead of tensors. Also, tf.function has experimental_relax_shapes=True option that relaxes argument shapes that can avoid unnecessary retracing. Please refer to https://www.tensorflow.org/tutorials/customization/performance#python_or_tensor_args and https://www.tensorflow.org/api_docs/python/tf/function for more details.\n"
     ]
    },
    {
     "name": "stderr",
     "output_type": "stream",
     "text": [
      "65it [03:03,  2.78s/it]"
     ]
    },
    {
     "name": "stdout",
     "output_type": "stream",
     "text": [
      "WARNING:tensorflow:11 out of the last 11 calls to <function Model.make_train_function.<locals>.train_function at 0x7fee4a42a830> triggered tf.function retracing. Tracing is expensive and the excessive number of tracings is likely due to passing python objects instead of tensors. Also, tf.function has experimental_relax_shapes=True option that relaxes argument shapes that can avoid unnecessary retracing. Please refer to https://www.tensorflow.org/tutorials/customization/performance#python_or_tensor_args and https://www.tensorflow.org/api_docs/python/tf/function for more details.\n"
     ]
    },
    {
     "name": "stderr",
     "output_type": "stream",
     "text": [
      "66it [03:06,  2.80s/it]"
     ]
    },
    {
     "name": "stdout",
     "output_type": "stream",
     "text": [
      "WARNING:tensorflow:11 out of the last 11 calls to <function Model.make_train_function.<locals>.train_function at 0x7fee4a42a830> triggered tf.function retracing. Tracing is expensive and the excessive number of tracings is likely due to passing python objects instead of tensors. Also, tf.function has experimental_relax_shapes=True option that relaxes argument shapes that can avoid unnecessary retracing. Please refer to https://www.tensorflow.org/tutorials/customization/performance#python_or_tensor_args and https://www.tensorflow.org/api_docs/python/tf/function for more details.\n"
     ]
    },
    {
     "name": "stderr",
     "output_type": "stream",
     "text": [
      "67it [03:09,  2.81s/it]"
     ]
    },
    {
     "name": "stdout",
     "output_type": "stream",
     "text": [
      "WARNING:tensorflow:11 out of the last 11 calls to <function Model.make_train_function.<locals>.train_function at 0x7fee4a42a830> triggered tf.function retracing. Tracing is expensive and the excessive number of tracings is likely due to passing python objects instead of tensors. Also, tf.function has experimental_relax_shapes=True option that relaxes argument shapes that can avoid unnecessary retracing. Please refer to https://www.tensorflow.org/tutorials/customization/performance#python_or_tensor_args and https://www.tensorflow.org/api_docs/python/tf/function for more details.\n"
     ]
    },
    {
     "name": "stderr",
     "output_type": "stream",
     "text": [
      "68it [03:12,  2.84s/it]"
     ]
    },
    {
     "name": "stdout",
     "output_type": "stream",
     "text": [
      "WARNING:tensorflow:11 out of the last 11 calls to <function Model.make_train_function.<locals>.train_function at 0x7fee4a42a830> triggered tf.function retracing. Tracing is expensive and the excessive number of tracings is likely due to passing python objects instead of tensors. Also, tf.function has experimental_relax_shapes=True option that relaxes argument shapes that can avoid unnecessary retracing. Please refer to https://www.tensorflow.org/tutorials/customization/performance#python_or_tensor_args and https://www.tensorflow.org/api_docs/python/tf/function for more details.\n"
     ]
    },
    {
     "name": "stderr",
     "output_type": "stream",
     "text": [
      "69it [03:16,  3.15s/it]"
     ]
    },
    {
     "name": "stdout",
     "output_type": "stream",
     "text": [
      "WARNING:tensorflow:11 out of the last 11 calls to <function Model.make_train_function.<locals>.train_function at 0x7fee4a42a830> triggered tf.function retracing. Tracing is expensive and the excessive number of tracings is likely due to passing python objects instead of tensors. Also, tf.function has experimental_relax_shapes=True option that relaxes argument shapes that can avoid unnecessary retracing. Please refer to https://www.tensorflow.org/tutorials/customization/performance#python_or_tensor_args and https://www.tensorflow.org/api_docs/python/tf/function for more details.\n"
     ]
    },
    {
     "name": "stderr",
     "output_type": "stream",
     "text": [
      "70it [03:19,  3.07s/it]"
     ]
    },
    {
     "name": "stdout",
     "output_type": "stream",
     "text": [
      "WARNING:tensorflow:11 out of the last 11 calls to <function Model.make_train_function.<locals>.train_function at 0x7fee4a42a830> triggered tf.function retracing. Tracing is expensive and the excessive number of tracings is likely due to passing python objects instead of tensors. Also, tf.function has experimental_relax_shapes=True option that relaxes argument shapes that can avoid unnecessary retracing. Please refer to https://www.tensorflow.org/tutorials/customization/performance#python_or_tensor_args and https://www.tensorflow.org/api_docs/python/tf/function for more details.\n"
     ]
    },
    {
     "name": "stderr",
     "output_type": "stream",
     "text": [
      "71it [03:21,  2.95s/it]"
     ]
    },
    {
     "name": "stdout",
     "output_type": "stream",
     "text": [
      "WARNING:tensorflow:11 out of the last 11 calls to <function Model.make_train_function.<locals>.train_function at 0x7fee4a42a830> triggered tf.function retracing. Tracing is expensive and the excessive number of tracings is likely due to passing python objects instead of tensors. Also, tf.function has experimental_relax_shapes=True option that relaxes argument shapes that can avoid unnecessary retracing. Please refer to https://www.tensorflow.org/tutorials/customization/performance#python_or_tensor_args and https://www.tensorflow.org/api_docs/python/tf/function for more details.\n"
     ]
    },
    {
     "name": "stderr",
     "output_type": "stream",
     "text": [
      "72it [03:24,  2.85s/it]"
     ]
    },
    {
     "name": "stdout",
     "output_type": "stream",
     "text": [
      "WARNING:tensorflow:11 out of the last 11 calls to <function Model.make_train_function.<locals>.train_function at 0x7fee4a42a830> triggered tf.function retracing. Tracing is expensive and the excessive number of tracings is likely due to passing python objects instead of tensors. Also, tf.function has experimental_relax_shapes=True option that relaxes argument shapes that can avoid unnecessary retracing. Please refer to https://www.tensorflow.org/tutorials/customization/performance#python_or_tensor_args and https://www.tensorflow.org/api_docs/python/tf/function for more details.\n"
     ]
    },
    {
     "name": "stderr",
     "output_type": "stream",
     "text": [
      "73it [03:27,  2.84s/it]"
     ]
    },
    {
     "name": "stdout",
     "output_type": "stream",
     "text": [
      "WARNING:tensorflow:11 out of the last 11 calls to <function Model.make_train_function.<locals>.train_function at 0x7fee4a42a830> triggered tf.function retracing. Tracing is expensive and the excessive number of tracings is likely due to passing python objects instead of tensors. Also, tf.function has experimental_relax_shapes=True option that relaxes argument shapes that can avoid unnecessary retracing. Please refer to https://www.tensorflow.org/tutorials/customization/performance#python_or_tensor_args and https://www.tensorflow.org/api_docs/python/tf/function for more details.\n"
     ]
    },
    {
     "name": "stderr",
     "output_type": "stream",
     "text": [
      "74it [03:30,  2.81s/it]"
     ]
    },
    {
     "name": "stdout",
     "output_type": "stream",
     "text": [
      "WARNING:tensorflow:11 out of the last 11 calls to <function Model.make_train_function.<locals>.train_function at 0x7fee4a42a830> triggered tf.function retracing. Tracing is expensive and the excessive number of tracings is likely due to passing python objects instead of tensors. Also, tf.function has experimental_relax_shapes=True option that relaxes argument shapes that can avoid unnecessary retracing. Please refer to https://www.tensorflow.org/tutorials/customization/performance#python_or_tensor_args and https://www.tensorflow.org/api_docs/python/tf/function for more details.\n"
     ]
    },
    {
     "name": "stderr",
     "output_type": "stream",
     "text": [
      "75it [03:32,  2.76s/it]"
     ]
    },
    {
     "name": "stdout",
     "output_type": "stream",
     "text": [
      "WARNING:tensorflow:11 out of the last 11 calls to <function Model.make_train_function.<locals>.train_function at 0x7fee4a42a830> triggered tf.function retracing. Tracing is expensive and the excessive number of tracings is likely due to passing python objects instead of tensors. Also, tf.function has experimental_relax_shapes=True option that relaxes argument shapes that can avoid unnecessary retracing. Please refer to https://www.tensorflow.org/tutorials/customization/performance#python_or_tensor_args and https://www.tensorflow.org/api_docs/python/tf/function for more details.\n"
     ]
    },
    {
     "name": "stderr",
     "output_type": "stream",
     "text": [
      "76it [03:35,  2.84s/it]"
     ]
    },
    {
     "name": "stdout",
     "output_type": "stream",
     "text": [
      "CoNLL score dev set\n"
     ]
    },
    {
     "name": "stderr",
     "output_type": "stream",
     "text": [
      "\n"
     ]
    },
    {
     "name": "stdout",
     "output_type": "stream",
     "text": [
      "WARNING:tensorflow:5 out of the last 5 calls to <function Model.make_predict_function.<locals>.predict_function at 0x7fee6f870b00> triggered tf.function retracing. Tracing is expensive and the excessive number of tracings is likely due to passing python objects instead of tensors. Also, tf.function has experimental_relax_shapes=True option that relaxes argument shapes that can avoid unnecessary retracing. Please refer to https://www.tensorflow.org/tutorials/customization/performance#python_or_tensor_args and https://www.tensorflow.org/api_docs/python/tf/function for more details.\n",
      "WARNING:tensorflow:6 out of the last 6 calls to <function Model.make_predict_function.<locals>.predict_function at 0x7fee6f870b00> triggered tf.function retracing. Tracing is expensive and the excessive number of tracings is likely due to passing python objects instead of tensors. Also, tf.function has experimental_relax_shapes=True option that relaxes argument shapes that can avoid unnecessary retracing. Please refer to https://www.tensorflow.org/tutorials/customization/performance#python_or_tensor_args and https://www.tensorflow.org/api_docs/python/tf/function for more details.\n",
      "WARNING:tensorflow:7 out of the last 7 calls to <function Model.make_predict_function.<locals>.predict_function at 0x7fee6f870b00> triggered tf.function retracing. Tracing is expensive and the excessive number of tracings is likely due to passing python objects instead of tensors. Also, tf.function has experimental_relax_shapes=True option that relaxes argument shapes that can avoid unnecessary retracing. Please refer to https://www.tensorflow.org/tutorials/customization/performance#python_or_tensor_args and https://www.tensorflow.org/api_docs/python/tf/function for more details.\n",
      "WARNING:tensorflow:8 out of the last 8 calls to <function Model.make_predict_function.<locals>.predict_function at 0x7fee6f870b00> triggered tf.function retracing. Tracing is expensive and the excessive number of tracings is likely due to passing python objects instead of tensors. Also, tf.function has experimental_relax_shapes=True option that relaxes argument shapes that can avoid unnecessary retracing. Please refer to https://www.tensorflow.org/tutorials/customization/performance#python_or_tensor_args and https://www.tensorflow.org/api_docs/python/tf/function for more details.\n",
      "WARNING:tensorflow:9 out of the last 9 calls to <function Model.make_predict_function.<locals>.predict_function at 0x7fee6f870b00> triggered tf.function retracing. Tracing is expensive and the excessive number of tracings is likely due to passing python objects instead of tensors. Also, tf.function has experimental_relax_shapes=True option that relaxes argument shapes that can avoid unnecessary retracing. Please refer to https://www.tensorflow.org/tutorials/customization/performance#python_or_tensor_args and https://www.tensorflow.org/api_docs/python/tf/function for more details.\n",
      "WARNING:tensorflow:10 out of the last 10 calls to <function Model.make_predict_function.<locals>.predict_function at 0x7fee6f870b00> triggered tf.function retracing. Tracing is expensive and the excessive number of tracings is likely due to passing python objects instead of tensors. Also, tf.function has experimental_relax_shapes=True option that relaxes argument shapes that can avoid unnecessary retracing. Please refer to https://www.tensorflow.org/tutorials/customization/performance#python_or_tensor_args and https://www.tensorflow.org/api_docs/python/tf/function for more details.\n",
      "WARNING:tensorflow:11 out of the last 11 calls to <function Model.make_predict_function.<locals>.predict_function at 0x7fee6f870b00> triggered tf.function retracing. Tracing is expensive and the excessive number of tracings is likely due to passing python objects instead of tensors. Also, tf.function has experimental_relax_shapes=True option that relaxes argument shapes that can avoid unnecessary retracing. Please refer to https://www.tensorflow.org/tutorials/customization/performance#python_or_tensor_args and https://www.tensorflow.org/api_docs/python/tf/function for more details.\n",
      "WARNING:tensorflow:11 out of the last 11 calls to <function Model.make_predict_function.<locals>.predict_function at 0x7fee6f870b00> triggered tf.function retracing. Tracing is expensive and the excessive number of tracings is likely due to passing python objects instead of tensors. Also, tf.function has experimental_relax_shapes=True option that relaxes argument shapes that can avoid unnecessary retracing. Please refer to https://www.tensorflow.org/tutorials/customization/performance#python_or_tensor_args and https://www.tensorflow.org/api_docs/python/tf/function for more details.\n",
      "WARNING:tensorflow:10 out of the last 11 calls to <function Model.make_predict_function.<locals>.predict_function at 0x7fee6f870b00> triggered tf.function retracing. Tracing is expensive and the excessive number of tracings is likely due to passing python objects instead of tensors. Also, tf.function has experimental_relax_shapes=True option that relaxes argument shapes that can avoid unnecessary retracing. Please refer to https://www.tensorflow.org/tutorials/customization/performance#python_or_tensor_args and https://www.tensorflow.org/api_docs/python/tf/function for more details.\n",
      "WARNING:tensorflow:10 out of the last 11 calls to <function Model.make_predict_function.<locals>.predict_function at 0x7fee6f870b00> triggered tf.function retracing. Tracing is expensive and the excessive number of tracings is likely due to passing python objects instead of tensors. Also, tf.function has experimental_relax_shapes=True option that relaxes argument shapes that can avoid unnecessary retracing. Please refer to https://www.tensorflow.org/tutorials/customization/performance#python_or_tensor_args and https://www.tensorflow.org/api_docs/python/tf/function for more details.\n",
      "WARNING:tensorflow:10 out of the last 11 calls to <function Model.make_predict_function.<locals>.predict_function at 0x7fee6f870b00> triggered tf.function retracing. Tracing is expensive and the excessive number of tracings is likely due to passing python objects instead of tensors. Also, tf.function has experimental_relax_shapes=True option that relaxes argument shapes that can avoid unnecessary retracing. Please refer to https://www.tensorflow.org/tutorials/customization/performance#python_or_tensor_args and https://www.tensorflow.org/api_docs/python/tf/function for more details.\n",
      "WARNING:tensorflow:10 out of the last 11 calls to <function Model.make_predict_function.<locals>.predict_function at 0x7fee6f870b00> triggered tf.function retracing. Tracing is expensive and the excessive number of tracings is likely due to passing python objects instead of tensors. Also, tf.function has experimental_relax_shapes=True option that relaxes argument shapes that can avoid unnecessary retracing. Please refer to https://www.tensorflow.org/tutorials/customization/performance#python_or_tensor_args and https://www.tensorflow.org/api_docs/python/tf/function for more details.\n",
      "WARNING:tensorflow:9 out of the last 11 calls to <function Model.make_predict_function.<locals>.predict_function at 0x7fee6f870b00> triggered tf.function retracing. Tracing is expensive and the excessive number of tracings is likely due to passing python objects instead of tensors. Also, tf.function has experimental_relax_shapes=True option that relaxes argument shapes that can avoid unnecessary retracing. Please refer to https://www.tensorflow.org/tutorials/customization/performance#python_or_tensor_args and https://www.tensorflow.org/api_docs/python/tf/function for more details.\n",
      "WARNING:tensorflow:8 out of the last 11 calls to <function Model.make_predict_function.<locals>.predict_function at 0x7fee6f870b00> triggered tf.function retracing. Tracing is expensive and the excessive number of tracings is likely due to passing python objects instead of tensors. Also, tf.function has experimental_relax_shapes=True option that relaxes argument shapes that can avoid unnecessary retracing. Please refer to https://www.tensorflow.org/tutorials/customization/performance#python_or_tensor_args and https://www.tensorflow.org/api_docs/python/tf/function for more details.\n",
      "WARNING:tensorflow:8 out of the last 11 calls to <function Model.make_predict_function.<locals>.predict_function at 0x7fee6f870b00> triggered tf.function retracing. Tracing is expensive and the excessive number of tracings is likely due to passing python objects instead of tensors. Also, tf.function has experimental_relax_shapes=True option that relaxes argument shapes that can avoid unnecessary retracing. Please refer to https://www.tensorflow.org/tutorials/customization/performance#python_or_tensor_args and https://www.tensorflow.org/api_docs/python/tf/function for more details.\n",
      "WARNING:tensorflow:9 out of the last 12 calls to <function Model.make_predict_function.<locals>.predict_function at 0x7fee6f870b00> triggered tf.function retracing. Tracing is expensive and the excessive number of tracings is likely due to passing python objects instead of tensors. Also, tf.function has experimental_relax_shapes=True option that relaxes argument shapes that can avoid unnecessary retracing. Please refer to https://www.tensorflow.org/tutorials/customization/performance#python_or_tensor_args and https://www.tensorflow.org/api_docs/python/tf/function for more details.\n",
      "WARNING:tensorflow:7 out of the last 11 calls to <function Model.make_predict_function.<locals>.predict_function at 0x7fee6f870b00> triggered tf.function retracing. Tracing is expensive and the excessive number of tracings is likely due to passing python objects instead of tensors. Also, tf.function has experimental_relax_shapes=True option that relaxes argument shapes that can avoid unnecessary retracing. Please refer to https://www.tensorflow.org/tutorials/customization/performance#python_or_tensor_args and https://www.tensorflow.org/api_docs/python/tf/function for more details.\n",
      "WARNING:tensorflow:6 out of the last 12 calls to <function Model.make_predict_function.<locals>.predict_function at 0x7fee6f870b00> triggered tf.function retracing. Tracing is expensive and the excessive number of tracings is likely due to passing python objects instead of tensors. Also, tf.function has experimental_relax_shapes=True option that relaxes argument shapes that can avoid unnecessary retracing. Please refer to https://www.tensorflow.org/tutorials/customization/performance#python_or_tensor_args and https://www.tensorflow.org/api_docs/python/tf/function for more details.\n",
      "WARNING:tensorflow:6 out of the last 11 calls to <function Model.make_predict_function.<locals>.predict_function at 0x7fee6f870b00> triggered tf.function retracing. Tracing is expensive and the excessive number of tracings is likely due to passing python objects instead of tensors. Also, tf.function has experimental_relax_shapes=True option that relaxes argument shapes that can avoid unnecessary retracing. Please refer to https://www.tensorflow.org/tutorials/customization/performance#python_or_tensor_args and https://www.tensorflow.org/api_docs/python/tf/function for more details.\n",
      "WARNING:tensorflow:5 out of the last 11 calls to <function Model.make_predict_function.<locals>.predict_function at 0x7fee6f870b00> triggered tf.function retracing. Tracing is expensive and the excessive number of tracings is likely due to passing python objects instead of tensors. Also, tf.function has experimental_relax_shapes=True option that relaxes argument shapes that can avoid unnecessary retracing. Please refer to https://www.tensorflow.org/tutorials/customization/performance#python_or_tensor_args and https://www.tensorflow.org/api_docs/python/tf/function for more details.\n",
      "WARNING:tensorflow:5 out of the last 13 calls to <function Model.make_predict_function.<locals>.predict_function at 0x7fee6f870b00> triggered tf.function retracing. Tracing is expensive and the excessive number of tracings is likely due to passing python objects instead of tensors. Also, tf.function has experimental_relax_shapes=True option that relaxes argument shapes that can avoid unnecessary retracing. Please refer to https://www.tensorflow.org/tutorials/customization/performance#python_or_tensor_args and https://www.tensorflow.org/api_docs/python/tf/function for more details.\n",
      "WARNING:tensorflow:6 out of the last 14 calls to <function Model.make_predict_function.<locals>.predict_function at 0x7fee6f870b00> triggered tf.function retracing. Tracing is expensive and the excessive number of tracings is likely due to passing python objects instead of tensors. Also, tf.function has experimental_relax_shapes=True option that relaxes argument shapes that can avoid unnecessary retracing. Please refer to https://www.tensorflow.org/tutorials/customization/performance#python_or_tensor_args and https://www.tensorflow.org/api_docs/python/tf/function for more details.\n",
      "WARNING:tensorflow:5 out of the last 13 calls to <function Model.make_predict_function.<locals>.predict_function at 0x7fee6f870b00> triggered tf.function retracing. Tracing is expensive and the excessive number of tracings is likely due to passing python objects instead of tensors. Also, tf.function has experimental_relax_shapes=True option that relaxes argument shapes that can avoid unnecessary retracing. Please refer to https://www.tensorflow.org/tutorials/customization/performance#python_or_tensor_args and https://www.tensorflow.org/api_docs/python/tf/function for more details.\n",
      "WARNING:tensorflow:6 out of the last 15 calls to <function Model.make_predict_function.<locals>.predict_function at 0x7fee6f870b00> triggered tf.function retracing. Tracing is expensive and the excessive number of tracings is likely due to passing python objects instead of tensors. Also, tf.function has experimental_relax_shapes=True option that relaxes argument shapes that can avoid unnecessary retracing. Please refer to https://www.tensorflow.org/tutorials/customization/performance#python_or_tensor_args and https://www.tensorflow.org/api_docs/python/tf/function for more details.\n",
      "WARNING:tensorflow:5 out of the last 16 calls to <function Model.make_predict_function.<locals>.predict_function at 0x7fee6f870b00> triggered tf.function retracing. Tracing is expensive and the excessive number of tracings is likely due to passing python objects instead of tensors. Also, tf.function has experimental_relax_shapes=True option that relaxes argument shapes that can avoid unnecessary retracing. Please refer to https://www.tensorflow.org/tutorials/customization/performance#python_or_tensor_args and https://www.tensorflow.org/api_docs/python/tf/function for more details.\n",
      "total 51578, correct 45247, accuracy 0.877254\n",
      "total unknown 713, correct 530, accuracy 0.743338\n",
      "processed 51578 tokens with 5942 phrases; found: 2054 phrases; correct: 1507.\n",
      "accuracy:  87.73%; precision:  73.37%; recall:  25.36%; FB1:  37.69\n",
      "              LOC: precision:  91.01%; recall:  34.73%; FB1:  50.28  701\n",
      "             MISC: precision:  70.83%; recall:   1.84%; FB1:   3.59  24\n",
      "              ORG: precision:  63.59%; recall:  10.29%; FB1:  17.72  217\n",
      "              PER: precision:  64.21%; recall:  38.76%; FB1:  48.34  1112\n",
      "\n",
      "CoNLL score test set\n",
      "total 46666, correct 40527, accuracy 0.868448\n",
      "total unknown 1143, correct 884, accuracy 0.773403\n"
     ]
    },
    {
     "name": "stderr",
     "output_type": "stream",
     "text": [
      "0it [00:00, ?it/s]"
     ]
    },
    {
     "name": "stdout",
     "output_type": "stream",
     "text": [
      "processed 46666 tokens with 5648 phrases; found: 2009 phrases; correct: 1301.\n",
      "accuracy:  86.84%; precision:  64.76%; recall:  23.03%; FB1:  33.98\n",
      "              LOC: precision:  82.08%; recall:  32.67%; FB1:  46.74  664\n",
      "             MISC: precision:  62.50%; recall:   0.71%; FB1:   1.41  8\n",
      "              ORG: precision:  36.49%; recall:   8.13%; FB1:  13.29  370\n",
      "              PER: precision:  63.70%; recall:  38.10%; FB1:  47.68  967\n",
      "\n",
      "Epoch 2/80\n"
     ]
    },
    {
     "name": "stderr",
     "output_type": "stream",
     "text": [
      "76it [00:22,  3.41it/s]\n"
     ]
    },
    {
     "name": "stdout",
     "output_type": "stream",
     "text": [
      "CoNLL score dev set\n",
      "total 51578, correct 46048, accuracy 0.892784\n",
      "total unknown 713, correct 553, accuracy 0.775596\n",
      "processed 51578 tokens with 5942 phrases; found: 2650 phrases; correct: 2124.\n",
      "accuracy:  89.28%; precision:  80.15%; recall:  35.75%; FB1:  49.44\n",
      "              LOC: precision:  88.91%; recall:  43.66%; FB1:  58.56  902\n",
      "             MISC: precision:  82.76%; recall:   7.81%; FB1:  14.27  87\n",
      "              ORG: precision:  72.62%; recall:  18.79%; FB1:  29.86  347\n",
      "              PER: precision:  75.95%; recall:  54.18%; FB1:  63.24  1314\n",
      "\n",
      "CoNLL score test set\n",
      "total 46666, correct 41294, accuracy 0.884884\n",
      "total unknown 1143, correct 906, accuracy 0.792651\n"
     ]
    },
    {
     "name": "stderr",
     "output_type": "stream",
     "text": [
      "0it [00:00, ?it/s]"
     ]
    },
    {
     "name": "stdout",
     "output_type": "stream",
     "text": [
      "processed 46666 tokens with 5648 phrases; found: 2623 phrases; correct: 1908.\n",
      "accuracy:  88.49%; precision:  72.74%; recall:  33.78%; FB1:  46.14\n",
      "              LOC: precision:  83.02%; recall:  44.54%; FB1:  57.98  895\n",
      "             MISC: precision:  75.86%; recall:   6.27%; FB1:  11.58  58\n",
      "              ORG: precision:  50.00%; recall:  16.80%; FB1:  25.15  558\n",
      "              PER: precision:  75.72%; recall:  52.07%; FB1:  61.71  1112\n",
      "\n",
      "Epoch 3/80\n"
     ]
    },
    {
     "name": "stderr",
     "output_type": "stream",
     "text": [
      "76it [00:22,  3.45it/s]\n"
     ]
    },
    {
     "name": "stdout",
     "output_type": "stream",
     "text": [
      "CoNLL score dev set\n",
      "total 51578, correct 47506, accuracy 0.921052\n",
      "total unknown 713, correct 587, accuracy 0.823282\n",
      "processed 51578 tokens with 5942 phrases; found: 4108 phrases; correct: 3251.\n",
      "accuracy:  92.11%; precision:  79.14%; recall:  54.71%; FB1:  64.70\n",
      "              LOC: precision:  84.92%; recall:  62.55%; FB1:  72.04  1353\n",
      "             MISC: precision:  78.21%; recall:  26.46%; FB1:  39.55  312\n",
      "              ORG: precision:  63.26%; recall:  37.36%; FB1:  46.98  792\n",
      "              PER: precision:  82.19%; recall:  73.67%; FB1:  77.70  1651\n",
      "\n",
      "CoNLL score test set\n",
      "total 46666, correct 42658, accuracy 0.914113\n",
      "total unknown 1143, correct 971, accuracy 0.849519\n"
     ]
    },
    {
     "name": "stderr",
     "output_type": "stream",
     "text": [
      "0it [00:00, ?it/s]"
     ]
    },
    {
     "name": "stdout",
     "output_type": "stream",
     "text": [
      "processed 46666 tokens with 5648 phrases; found: 4244 phrases; correct: 3031.\n",
      "accuracy:  91.41%; precision:  71.42%; recall:  53.67%; FB1:  61.28\n",
      "              LOC: precision:  79.75%; recall:  62.11%; FB1:  69.83  1299\n",
      "             MISC: precision:  69.40%; recall:  27.78%; FB1:  39.67  281\n",
      "              ORG: precision:  53.21%; recall:  39.98%; FB1:  45.65  1248\n",
      "              PER: precision:  80.23%; recall:  70.25%; FB1:  74.91  1416\n",
      "\n",
      "Epoch 4/80\n"
     ]
    },
    {
     "name": "stderr",
     "output_type": "stream",
     "text": [
      "76it [00:22,  3.33it/s]\n"
     ]
    },
    {
     "name": "stdout",
     "output_type": "stream",
     "text": [
      "CoNLL score dev set\n",
      "total 51578, correct 48165, accuracy 0.933828\n",
      "total unknown 713, correct 621, accuracy 0.870968\n",
      "processed 51578 tokens with 5942 phrases; found: 4578 phrases; correct: 3761.\n",
      "accuracy:  93.38%; precision:  82.15%; recall:  63.30%; FB1:  71.50\n",
      "              LOC: precision:  88.82%; recall:  69.62%; FB1:  78.06  1440\n",
      "             MISC: precision:  81.22%; recall:  34.71%; FB1:  48.63  394\n",
      "              ORG: precision:  68.17%; recall:  46.16%; FB1:  55.05  908\n",
      "              PER: precision:  84.04%; recall:  83.77%; FB1:  83.90  1836\n",
      "\n",
      "CoNLL score test set\n",
      "total 46666, correct 43345, accuracy 0.928835\n",
      "total unknown 1143, correct 1000, accuracy 0.874891\n"
     ]
    },
    {
     "name": "stderr",
     "output_type": "stream",
     "text": [
      "0it [00:00, ?it/s]"
     ]
    },
    {
     "name": "stdout",
     "output_type": "stream",
     "text": [
      "processed 46666 tokens with 5648 phrases; found: 4526 phrases; correct: 3521.\n",
      "accuracy:  92.88%; precision:  77.79%; recall:  62.34%; FB1:  69.22\n",
      "              LOC: precision:  83.47%; recall:  66.91%; FB1:  74.28  1337\n",
      "             MISC: precision:  70.89%; recall:  35.04%; FB1:  46.90  347\n",
      "              ORG: precision:  67.04%; recall:  50.21%; FB1:  57.42  1244\n",
      "              PER: precision:  82.92%; recall:  81.94%; FB1:  82.43  1598\n",
      "\n",
      "Epoch 5/80\n"
     ]
    },
    {
     "name": "stderr",
     "output_type": "stream",
     "text": [
      "76it [00:22,  3.32it/s]\n"
     ]
    },
    {
     "name": "stdout",
     "output_type": "stream",
     "text": [
      "CoNLL score dev set\n",
      "total 51578, correct 48912, accuracy 0.948311\n",
      "total unknown 713, correct 619, accuracy 0.868163\n",
      "processed 51578 tokens with 5942 phrases; found: 5244 phrases; correct: 4312.\n",
      "accuracy:  94.83%; precision:  82.23%; recall:  72.57%; FB1:  77.10\n",
      "              LOC: precision:  86.36%; recall:  83.40%; FB1:  84.85  1774\n",
      "             MISC: precision:  80.43%; recall:  48.16%; FB1:  60.24  552\n",
      "              ORG: precision:  67.98%; recall:  59.06%; FB1:  63.21  1165\n",
      "              PER: precision:  88.08%; recall:  83.82%; FB1:  85.90  1753\n",
      "\n",
      "CoNLL score test set\n",
      "total 46666, correct 44044, accuracy 0.943813\n",
      "total unknown 1143, correct 996, accuracy 0.871391\n"
     ]
    },
    {
     "name": "stderr",
     "output_type": "stream",
     "text": [
      "0it [00:00, ?it/s]"
     ]
    },
    {
     "name": "stdout",
     "output_type": "stream",
     "text": [
      "processed 46666 tokens with 5648 phrases; found: 5203 phrases; correct: 4088.\n",
      "accuracy:  94.38%; precision:  78.57%; recall:  72.38%; FB1:  75.35\n",
      "              LOC: precision:  82.43%; recall:  81.83%; FB1:  82.13  1656\n",
      "             MISC: precision:  73.14%; recall:  50.43%; FB1:  59.70  484\n",
      "              ORG: precision:  68.75%; recall:  64.12%; FB1:  66.36  1549\n",
      "              PER: precision:  86.13%; recall:  80.64%; FB1:  83.30  1514\n",
      "\n",
      "Epoch 6/80\n"
     ]
    },
    {
     "name": "stderr",
     "output_type": "stream",
     "text": [
      "76it [00:22,  3.33it/s]\n"
     ]
    },
    {
     "name": "stdout",
     "output_type": "stream",
     "text": [
      "CoNLL score dev set\n",
      "total 51578, correct 49446, accuracy 0.958665\n",
      "total unknown 713, correct 643, accuracy 0.901823\n",
      "processed 51578 tokens with 5942 phrases; found: 5761 phrases; correct: 4738.\n",
      "accuracy:  95.87%; precision:  82.24%; recall:  79.74%; FB1:  80.97\n",
      "              LOC: precision:  89.96%; recall:  85.85%; FB1:  87.86  1753\n",
      "             MISC: precision:  82.45%; recall:  57.05%; FB1:  67.44  638\n",
      "              ORG: precision:  65.70%; recall:  72.86%; FB1:  69.09  1487\n",
      "              PER: precision:  88.05%; recall:  90.01%; FB1:  89.02  1883\n",
      "\n",
      "CoNLL score test set\n",
      "total 46666, correct 44415, accuracy 0.951764\n",
      "total unknown 1143, correct 1016, accuracy 0.888889\n"
     ]
    },
    {
     "name": "stderr",
     "output_type": "stream",
     "text": [
      "0it [00:00, ?it/s]"
     ]
    },
    {
     "name": "stdout",
     "output_type": "stream",
     "text": [
      "processed 46666 tokens with 5648 phrases; found: 5637 phrases; correct: 4430.\n",
      "accuracy:  95.18%; precision:  78.59%; recall:  78.43%; FB1:  78.51\n",
      "              LOC: precision:  85.93%; recall:  83.51%; FB1:  84.71  1621\n",
      "             MISC: precision:  73.72%; recall:  55.56%; FB1:  63.36  529\n",
      "              ORG: precision:  66.79%; recall:  74.71%; FB1:  70.53  1858\n",
      "              PER: precision:  86.31%; recall:  86.95%; FB1:  86.63  1629\n",
      "\n",
      "Epoch 7/80\n"
     ]
    },
    {
     "name": "stderr",
     "output_type": "stream",
     "text": [
      "76it [00:21,  3.46it/s]\n"
     ]
    },
    {
     "name": "stdout",
     "output_type": "stream",
     "text": [
      "CoNLL score dev set\n",
      "total 51578, correct 49726, accuracy 0.964093\n",
      "total unknown 713, correct 644, accuracy 0.903226\n",
      "processed 51578 tokens with 5942 phrases; found: 6076 phrases; correct: 4968.\n",
      "accuracy:  96.41%; precision:  81.76%; recall:  83.61%; FB1:  82.68\n",
      "              LOC: precision:  91.15%; recall:  89.17%; FB1:  90.15  1797\n",
      "             MISC: precision:  81.82%; recall:  67.35%; FB1:  73.88  759\n",
      "              ORG: precision:  64.96%; recall:  79.64%; FB1:  71.56  1644\n",
      "              PER: precision:  87.47%; recall:  89.09%; FB1:  88.27  1876\n",
      "\n",
      "CoNLL score test set\n",
      "total 46666, correct 44491, accuracy 0.953392\n",
      "total unknown 1143, correct 1021, accuracy 0.893263\n"
     ]
    },
    {
     "name": "stderr",
     "output_type": "stream",
     "text": [
      "0it [00:00, ?it/s]"
     ]
    },
    {
     "name": "stdout",
     "output_type": "stream",
     "text": [
      "processed 46666 tokens with 5648 phrases; found: 5922 phrases; correct: 4566.\n",
      "accuracy:  95.34%; precision:  77.10%; recall:  80.84%; FB1:  78.93\n",
      "              LOC: precision:  86.62%; recall:  87.71%; FB1:  87.16  1689\n",
      "             MISC: precision:  69.08%; recall:  61.11%; FB1:  64.85  621\n",
      "              ORG: precision:  65.00%; recall:  78.93%; FB1:  71.29  2017\n",
      "              PER: precision:  85.45%; recall:  84.29%; FB1:  84.87  1595\n",
      "\n",
      "Epoch 8/80\n"
     ]
    },
    {
     "name": "stderr",
     "output_type": "stream",
     "text": [
      "76it [00:21,  3.54it/s]\n"
     ]
    },
    {
     "name": "stdout",
     "output_type": "stream",
     "text": [
      "CoNLL score dev set\n",
      "total 51578, correct 49623, accuracy 0.962096\n",
      "total unknown 713, correct 646, accuracy 0.906031\n",
      "processed 51578 tokens with 5942 phrases; found: 6332 phrases; correct: 5079.\n",
      "accuracy:  96.21%; precision:  80.21%; recall:  85.48%; FB1:  82.76\n",
      "              LOC: precision:  94.11%; recall:  87.81%; FB1:  90.85  1714\n",
      "             MISC: precision:  83.80%; recall:  64.53%; FB1:  72.92  710\n",
      "              ORG: precision:  58.25%; recall:  86.58%; FB1:  69.65  1993\n",
      "              PER: precision:  89.30%; recall:  92.83%; FB1:  91.03  1915\n",
      "\n",
      "CoNLL score test set\n",
      "total 46666, correct 44385, accuracy 0.951121\n",
      "total unknown 1143, correct 1028, accuracy 0.899388\n"
     ]
    },
    {
     "name": "stderr",
     "output_type": "stream",
     "text": [
      "0it [00:00, ?it/s]"
     ]
    },
    {
     "name": "stdout",
     "output_type": "stream",
     "text": [
      "processed 46666 tokens with 5648 phrases; found: 6149 phrases; correct: 4707.\n",
      "accuracy:  95.11%; precision:  76.55%; recall:  83.34%; FB1:  79.80\n",
      "              LOC: precision:  90.68%; recall:  85.73%; FB1:  88.14  1577\n",
      "             MISC: precision:  76.28%; recall:  61.40%; FB1:  68.03  565\n",
      "              ORG: precision:  59.09%; recall:  84.89%; FB1:  69.68  2386\n",
      "              PER: precision:  88.59%; recall:  88.81%; FB1:  88.70  1621\n",
      "\n",
      "Epoch 9/80\n"
     ]
    },
    {
     "name": "stderr",
     "output_type": "stream",
     "text": [
      "76it [00:22,  3.44it/s]\n"
     ]
    },
    {
     "name": "stdout",
     "output_type": "stream",
     "text": [
      "CoNLL score dev set\n",
      "total 51578, correct 49737, accuracy 0.964306\n",
      "total unknown 713, correct 639, accuracy 0.896213\n",
      "processed 51578 tokens with 5942 phrases; found: 6278 phrases; correct: 5083.\n",
      "accuracy:  96.43%; precision:  80.97%; recall:  85.54%; FB1:  83.19\n",
      "              LOC: precision:  92.49%; recall:  89.17%; FB1:  90.80  1771\n",
      "             MISC: precision:  83.97%; recall:  69.31%; FB1:  75.94  761\n",
      "              ORG: precision:  60.56%; recall:  85.98%; FB1:  71.06  1904\n",
      "              PER: precision:  89.74%; recall:  89.74%; FB1:  89.74  1842\n",
      "\n",
      "CoNLL score test set\n",
      "total 46666, correct 44406, accuracy 0.951571\n",
      "total unknown 1143, correct 1020, accuracy 0.892388\n"
     ]
    },
    {
     "name": "stderr",
     "output_type": "stream",
     "text": [
      "0it [00:00, ?it/s]"
     ]
    },
    {
     "name": "stdout",
     "output_type": "stream",
     "text": [
      "processed 46666 tokens with 5648 phrases; found: 6129 phrases; correct: 4652.\n",
      "accuracy:  95.16%; precision:  75.90%; recall:  82.37%; FB1:  79.00\n",
      "              LOC: precision:  88.22%; recall:  87.11%; FB1:  87.66  1647\n",
      "             MISC: precision:  72.73%; recall:  63.82%; FB1:  67.98  616\n",
      "              ORG: precision:  60.24%; recall:  84.65%; FB1:  70.39  2334\n",
      "              PER: precision:  87.79%; recall:  83.18%; FB1:  85.42  1532\n",
      "\n",
      "Epoch 10/80\n"
     ]
    },
    {
     "name": "stderr",
     "output_type": "stream",
     "text": [
      "76it [00:22,  3.42it/s]\n"
     ]
    },
    {
     "name": "stdout",
     "output_type": "stream",
     "text": [
      "CoNLL score dev set\n",
      "total 51578, correct 50015, accuracy 0.969696\n",
      "total unknown 713, correct 643, accuracy 0.901823\n",
      "processed 51578 tokens with 5942 phrases; found: 6259 phrases; correct: 5225.\n",
      "accuracy:  96.97%; precision:  83.48%; recall:  87.93%; FB1:  85.65\n",
      "              LOC: precision:  93.88%; recall:  90.26%; FB1:  92.03  1766\n",
      "             MISC: precision:  76.57%; recall:  74.08%; FB1:  75.30  892\n",
      "              ORG: precision:  69.68%; recall:  85.01%; FB1:  76.59  1636\n",
      "              PER: precision:  88.75%; recall:  94.68%; FB1:  91.62  1965\n",
      "\n",
      "CoNLL score test set\n",
      "total 46666, correct 44696, accuracy 0.957785\n",
      "total unknown 1143, correct 1036, accuracy 0.906387\n"
     ]
    },
    {
     "name": "stderr",
     "output_type": "stream",
     "text": [
      "0it [00:00, ?it/s]"
     ]
    },
    {
     "name": "stdout",
     "output_type": "stream",
     "text": [
      "processed 46666 tokens with 5648 phrases; found: 6080 phrases; correct: 4834.\n",
      "accuracy:  95.78%; precision:  79.51%; recall:  85.59%; FB1:  82.44\n",
      "              LOC: precision:  90.31%; recall:  87.71%; FB1:  88.99  1620\n",
      "             MISC: precision:  62.70%; recall:  68.23%; FB1:  65.35  764\n",
      "              ORG: precision:  69.95%; recall:  85.19%; FB1:  76.82  2023\n",
      "              PER: precision:  88.28%; recall:  91.34%; FB1:  89.79  1673\n",
      "\n",
      "Epoch 11/80\n"
     ]
    },
    {
     "name": "stderr",
     "output_type": "stream",
     "text": [
      "76it [00:21,  3.53it/s]\n"
     ]
    },
    {
     "name": "stdout",
     "output_type": "stream",
     "text": [
      "CoNLL score dev set\n",
      "total 51578, correct 49826, accuracy 0.966032\n",
      "total unknown 713, correct 630, accuracy 0.883590\n",
      "processed 51578 tokens with 5942 phrases; found: 6256 phrases; correct: 5108.\n",
      "accuracy:  96.60%; precision:  81.65%; recall:  85.96%; FB1:  83.75\n",
      "              LOC: precision:  97.44%; recall:  84.92%; FB1:  90.75  1601\n",
      "             MISC: precision:  81.57%; recall:  70.07%; FB1:  75.38  792\n",
      "              ORG: precision:  60.69%; recall:  89.11%; FB1:  72.21  1969\n",
      "              PER: precision:  90.13%; recall:  92.67%; FB1:  91.38  1894\n",
      "\n",
      "CoNLL score test set\n",
      "total 46666, correct 44501, accuracy 0.953606\n",
      "total unknown 1143, correct 1023, accuracy 0.895013\n"
     ]
    },
    {
     "name": "stderr",
     "output_type": "stream",
     "text": [
      "0it [00:00, ?it/s]"
     ]
    },
    {
     "name": "stdout",
     "output_type": "stream",
     "text": [
      "processed 46666 tokens with 5648 phrases; found: 6074 phrases; correct: 4686.\n",
      "accuracy:  95.36%; precision:  77.15%; recall:  82.97%; FB1:  79.95\n",
      "              LOC: precision:  94.50%; recall:  82.37%; FB1:  88.02  1454\n",
      "             MISC: precision:  71.29%; recall:  64.39%; FB1:  67.66  634\n",
      "              ORG: precision:  61.04%; recall:  88.74%; FB1:  72.33  2415\n",
      "              PER: precision:  88.22%; recall:  85.71%; FB1:  86.95  1571\n",
      "\n",
      "Epoch 12/80\n"
     ]
    },
    {
     "name": "stderr",
     "output_type": "stream",
     "text": [
      "76it [00:22,  3.44it/s]\n"
     ]
    },
    {
     "name": "stdout",
     "output_type": "stream",
     "text": [
      "CoNLL score dev set\n",
      "total 51578, correct 49861, accuracy 0.966711\n",
      "total unknown 713, correct 635, accuracy 0.890603\n",
      "processed 51578 tokens with 5942 phrases; found: 6291 phrases; correct: 5119.\n",
      "accuracy:  96.67%; precision:  81.37%; recall:  86.15%; FB1:  83.69\n",
      "              LOC: precision:  96.38%; recall:  85.63%; FB1:  90.69  1632\n",
      "             MISC: precision:  83.85%; recall:  68.11%; FB1:  75.16  749\n",
      "              ORG: precision:  58.96%; recall:  90.08%; FB1:  71.27  2049\n",
      "              PER: precision:  91.89%; recall:  92.83%; FB1:  92.36  1861\n",
      "\n",
      "CoNLL score test set\n",
      "total 46666, correct 44646, accuracy 0.956714\n",
      "total unknown 1143, correct 1018, accuracy 0.890639\n"
     ]
    },
    {
     "name": "stderr",
     "output_type": "stream",
     "text": [
      "0it [00:00, ?it/s]"
     ]
    },
    {
     "name": "stdout",
     "output_type": "stream",
     "text": [
      "processed 46666 tokens with 5648 phrases; found: 6093 phrases; correct: 4726.\n",
      "accuracy:  95.67%; precision:  77.56%; recall:  83.68%; FB1:  80.50\n",
      "              LOC: precision:  94.02%; recall:  82.97%; FB1:  88.15  1472\n",
      "             MISC: precision:  71.95%; recall:  62.11%; FB1:  66.67  606\n",
      "              ORG: precision:  60.55%; recall:  90.55%; FB1:  72.57  2484\n",
      "              PER: precision:  91.57%; recall:  86.70%; FB1:  89.07  1531\n",
      "\n",
      "Epoch 13/80\n"
     ]
    },
    {
     "name": "stderr",
     "output_type": "stream",
     "text": [
      "76it [00:23,  3.24it/s]\n"
     ]
    },
    {
     "name": "stdout",
     "output_type": "stream",
     "text": [
      "CoNLL score dev set\n",
      "total 51578, correct 50426, accuracy 0.977665\n",
      "total unknown 713, correct 637, accuracy 0.893408\n",
      "processed 51578 tokens with 5942 phrases; found: 6088 phrases; correct: 5301.\n",
      "accuracy:  97.77%; precision:  87.07%; recall:  89.21%; FB1:  88.13\n",
      "              LOC: precision:  96.18%; recall:  90.47%; FB1:  93.24  1728\n",
      "             MISC: precision:  86.77%; recall:  72.56%; FB1:  79.03  771\n",
      "              ORG: precision:  72.02%; recall:  91.35%; FB1:  80.54  1701\n",
      "              PER: precision:  92.43%; recall:  94.73%; FB1:  93.57  1888\n",
      "\n",
      "CoNLL score test set\n",
      "total 46666, correct 45191, accuracy 0.968392\n",
      "total unknown 1143, correct 1031, accuracy 0.902012\n"
     ]
    },
    {
     "name": "stderr",
     "output_type": "stream",
     "text": [
      "0it [00:00, ?it/s]"
     ]
    },
    {
     "name": "stdout",
     "output_type": "stream",
     "text": [
      "processed 46666 tokens with 5648 phrases; found: 5865 phrases; correct: 4884.\n",
      "accuracy:  96.84%; precision:  83.27%; recall:  86.47%; FB1:  84.84\n",
      "              LOC: precision:  92.93%; recall:  88.25%; FB1:  90.53  1584\n",
      "             MISC: precision:  73.06%; recall:  64.53%; FB1:  68.53  620\n",
      "              ORG: precision:  71.90%; recall:  90.73%; FB1:  80.22  2096\n",
      "              PER: precision:  92.78%; recall:  89.80%; FB1:  91.26  1565\n",
      "\n",
      "Epoch 14/80\n"
     ]
    },
    {
     "name": "stderr",
     "output_type": "stream",
     "text": [
      "76it [00:21,  3.59it/s]\n"
     ]
    },
    {
     "name": "stdout",
     "output_type": "stream",
     "text": [
      "CoNLL score dev set\n",
      "total 51578, correct 50469, accuracy 0.978499\n",
      "total unknown 713, correct 650, accuracy 0.911641\n",
      "processed 51578 tokens with 5942 phrases; found: 6130 phrases; correct: 5371.\n",
      "accuracy:  97.85%; precision:  87.62%; recall:  90.39%; FB1:  88.98\n",
      "              LOC: precision:  94.94%; recall:  92.87%; FB1:  93.89  1797\n",
      "             MISC: precision:  82.86%; recall:  75.49%; FB1:  79.00  840\n",
      "              ORG: precision:  78.52%; recall:  89.71%; FB1:  83.75  1532\n",
      "              PER: precision:  90.06%; recall:  95.87%; FB1:  92.87  1961\n",
      "\n",
      "CoNLL score test set\n",
      "total 46666, correct 45196, accuracy 0.968500\n",
      "total unknown 1143, correct 1046, accuracy 0.915136\n"
     ]
    },
    {
     "name": "stderr",
     "output_type": "stream",
     "text": [
      "0it [00:00, ?it/s]"
     ]
    },
    {
     "name": "stdout",
     "output_type": "stream",
     "text": [
      "processed 46666 tokens with 5648 phrases; found: 5917 phrases; correct: 4960.\n",
      "accuracy:  96.85%; precision:  83.83%; recall:  87.82%; FB1:  85.78\n",
      "              LOC: precision:  90.43%; recall:  90.11%; FB1:  90.27  1662\n",
      "             MISC: precision:  68.44%; recall:  67.95%; FB1:  68.19  697\n",
      "              ORG: precision:  78.37%; recall:  88.98%; FB1:  83.34  1886\n",
      "              PER: precision:  89.83%; recall:  92.89%; FB1:  91.33  1672\n",
      "\n",
      "Epoch 15/80\n"
     ]
    },
    {
     "name": "stderr",
     "output_type": "stream",
     "text": [
      "76it [00:20,  3.65it/s]\n"
     ]
    },
    {
     "name": "stdout",
     "output_type": "stream",
     "text": [
      "CoNLL score dev set\n",
      "total 51578, correct 50376, accuracy 0.976695\n",
      "total unknown 713, correct 642, accuracy 0.900421\n",
      "processed 51578 tokens with 5942 phrases; found: 6159 phrases; correct: 5311.\n",
      "accuracy:  97.67%; precision:  86.23%; recall:  89.38%; FB1:  87.78\n",
      "              LOC: precision:  95.02%; recall:  91.45%; FB1:  93.20  1768\n",
      "             MISC: precision:  85.42%; recall:  76.25%; FB1:  80.57  823\n",
      "              ORG: precision:  74.22%; recall:  89.11%; FB1:  80.99  1610\n",
      "              PER: precision:  88.51%; recall:  94.08%; FB1:  91.21  1958\n",
      "\n",
      "CoNLL score test set\n",
      "total 46666, correct 45017, accuracy 0.964664\n",
      "total unknown 1143, correct 1023, accuracy 0.895013\n"
     ]
    },
    {
     "name": "stderr",
     "output_type": "stream",
     "text": [
      "0it [00:00, ?it/s]"
     ]
    },
    {
     "name": "stdout",
     "output_type": "stream",
     "text": [
      "processed 46666 tokens with 5648 phrases; found: 5953 phrases; correct: 4860.\n",
      "accuracy:  96.47%; precision:  81.64%; recall:  86.05%; FB1:  83.79\n",
      "              LOC: precision:  90.61%; recall:  89.09%; FB1:  89.84  1640\n",
      "             MISC: precision:  70.53%; recall:  68.52%; FB1:  69.51  682\n",
      "              ORG: precision:  73.63%; recall:  88.26%; FB1:  80.28  1991\n",
      "              PER: precision:  87.01%; recall:  88.25%; FB1:  87.63  1640\n",
      "\n",
      "Epoch 16/80\n"
     ]
    },
    {
     "name": "stderr",
     "output_type": "stream",
     "text": [
      "76it [00:20,  3.64it/s]\n"
     ]
    },
    {
     "name": "stdout",
     "output_type": "stream",
     "text": [
      "CoNLL score dev set\n",
      "total 51578, correct 50453, accuracy 0.978188\n",
      "total unknown 713, correct 640, accuracy 0.897616\n",
      "processed 51578 tokens with 5942 phrases; found: 6084 phrases; correct: 5333.\n",
      "accuracy:  97.82%; precision:  87.66%; recall:  89.75%; FB1:  88.69\n",
      "              LOC: precision:  96.18%; recall:  91.78%; FB1:  93.93  1753\n",
      "             MISC: precision:  89.09%; recall:  76.14%; FB1:  82.11  788\n",
      "              ORG: precision:  71.33%; recall:  92.02%; FB1:  80.36  1730\n",
      "              PER: precision:  94.37%; recall:  92.89%; FB1:  93.63  1813\n",
      "\n",
      "CoNLL score test set\n",
      "total 46666, correct 45173, accuracy 0.968007\n",
      "total unknown 1143, correct 1027, accuracy 0.898513\n"
     ]
    },
    {
     "name": "stderr",
     "output_type": "stream",
     "text": [
      "0it [00:00, ?it/s]"
     ]
    },
    {
     "name": "stdout",
     "output_type": "stream",
     "text": [
      "processed 46666 tokens with 5648 phrases; found: 5866 phrases; correct: 4887.\n",
      "accuracy:  96.80%; precision:  83.31%; recall:  86.53%; FB1:  84.89\n",
      "              LOC: precision:  92.37%; recall:  88.55%; FB1:  90.42  1599\n",
      "             MISC: precision:  75.90%; recall:  69.09%; FB1:  72.33  639\n",
      "              ORG: precision:  70.70%; recall:  91.39%; FB1:  79.73  2147\n",
      "              PER: precision:  95.00%; recall:  87.01%; FB1:  90.83  1481\n",
      "\n",
      "Epoch 17/80\n"
     ]
    },
    {
     "name": "stderr",
     "output_type": "stream",
     "text": [
      "76it [00:20,  3.64it/s]\n"
     ]
    },
    {
     "name": "stdout",
     "output_type": "stream",
     "text": [
      "CoNLL score dev set\n",
      "total 51578, correct 50530, accuracy 0.979681\n",
      "total unknown 713, correct 652, accuracy 0.914446\n",
      "processed 51578 tokens with 5942 phrases; found: 6056 phrases; correct: 5409.\n",
      "accuracy:  97.97%; precision:  89.32%; recall:  91.03%; FB1:  90.17\n",
      "              LOC: precision:  97.41%; recall:  92.27%; FB1:  94.77  1740\n",
      "             MISC: precision:  87.16%; recall:  81.02%; FB1:  83.98  857\n",
      "              ORG: precision:  77.51%; recall:  89.71%; FB1:  83.17  1552\n",
      "              PER: precision:  92.50%; recall:  95.77%; FB1:  94.11  1907\n",
      "\n",
      "CoNLL score test set\n",
      "total 46666, correct 45174, accuracy 0.968028\n",
      "total unknown 1143, correct 1045, accuracy 0.914261\n"
     ]
    },
    {
     "name": "stderr",
     "output_type": "stream",
     "text": [
      "0it [00:00, ?it/s]"
     ]
    },
    {
     "name": "stdout",
     "output_type": "stream",
     "text": [
      "processed 46666 tokens with 5648 phrases; found: 5858 phrases; correct: 4974.\n",
      "accuracy:  96.80%; precision:  84.91%; recall:  88.07%; FB1:  86.46\n",
      "              LOC: precision:  93.15%; recall:  88.85%; FB1:  90.95  1591\n",
      "             MISC: precision:  70.76%; recall:  71.37%; FB1:  71.06  708\n",
      "              ORG: precision:  76.89%; recall:  89.52%; FB1:  82.73  1934\n",
      "              PER: precision:  92.55%; recall:  93.01%; FB1:  92.78  1625\n",
      "\n",
      "Epoch 18/80\n"
     ]
    },
    {
     "name": "stderr",
     "output_type": "stream",
     "text": [
      "76it [00:21,  3.59it/s]\n"
     ]
    },
    {
     "name": "stdout",
     "output_type": "stream",
     "text": [
      "CoNLL score dev set\n",
      "total 51578, correct 50631, accuracy 0.981639\n",
      "total unknown 713, correct 645, accuracy 0.904628\n",
      "processed 51578 tokens with 5942 phrases; found: 6053 phrases; correct: 5437.\n",
      "accuracy:  98.16%; precision:  89.82%; recall:  91.50%; FB1:  90.65\n",
      "              LOC: precision:  96.58%; recall:  93.79%; FB1:  95.17  1784\n",
      "             MISC: precision:  88.58%; recall:  79.07%; FB1:  83.55  823\n",
      "              ORG: precision:  77.55%; recall:  91.20%; FB1:  83.82  1577\n",
      "              PER: precision:  94.28%; recall:  95.66%; FB1:  94.96  1869\n",
      "\n",
      "CoNLL score test set\n",
      "total 46666, correct 45266, accuracy 0.970000\n",
      "total unknown 1143, correct 1043, accuracy 0.912511\n"
     ]
    },
    {
     "name": "stderr",
     "output_type": "stream",
     "text": [
      "0it [00:00, ?it/s]"
     ]
    },
    {
     "name": "stdout",
     "output_type": "stream",
     "text": [
      "processed 46666 tokens with 5648 phrases; found: 5848 phrases; correct: 4979.\n",
      "accuracy:  97.00%; precision:  85.14%; recall:  88.16%; FB1:  86.62\n",
      "              LOC: precision:  91.19%; recall:  90.65%; FB1:  90.92  1658\n",
      "             MISC: precision:  74.21%; recall:  70.51%; FB1:  72.32  667\n",
      "              ORG: precision:  76.43%; recall:  89.83%; FB1:  82.59  1952\n",
      "              PER: precision:  94.21%; recall:  91.53%; FB1:  92.85  1571\n",
      "\n",
      "Epoch 19/80\n"
     ]
    },
    {
     "name": "stderr",
     "output_type": "stream",
     "text": [
      "76it [00:21,  3.60it/s]\n"
     ]
    },
    {
     "name": "stdout",
     "output_type": "stream",
     "text": [
      "CoNLL score dev set\n",
      "total 51578, correct 50760, accuracy 0.984141\n",
      "total unknown 713, correct 660, accuracy 0.925666\n",
      "processed 51578 tokens with 5942 phrases; found: 5998 phrases; correct: 5499.\n",
      "accuracy:  98.41%; precision:  91.68%; recall:  92.54%; FB1:  92.11\n",
      "              LOC: precision:  96.75%; recall:  94.07%; FB1:  95.39  1786\n",
      "             MISC: precision:  89.25%; recall:  83.73%; FB1:  86.40  865\n",
      "              ORG: precision:  83.87%; recall:  91.13%; FB1:  87.35  1457\n",
      "              PER: precision:  94.02%; recall:  96.47%; FB1:  95.23  1890\n",
      "\n",
      "CoNLL score test set\n",
      "total 46666, correct 45423, accuracy 0.973364\n",
      "total unknown 1143, correct 1053, accuracy 0.921260\n"
     ]
    },
    {
     "name": "stderr",
     "output_type": "stream",
     "text": [
      "0it [00:00, ?it/s]"
     ]
    },
    {
     "name": "stdout",
     "output_type": "stream",
     "text": [
      "processed 46666 tokens with 5648 phrases; found: 5776 phrases; correct: 5039.\n",
      "accuracy:  97.34%; precision:  87.24%; recall:  89.22%; FB1:  88.22\n",
      "              LOC: precision:  91.85%; recall:  90.59%; FB1:  91.22  1645\n",
      "             MISC: precision:  74.75%; recall:  74.64%; FB1:  74.70  701\n",
      "              ORG: precision:  81.92%; recall:  89.22%; FB1:  85.42  1809\n",
      "              PER: precision:  93.89%; recall:  94.12%; FB1:  94.01  1621\n",
      "\n",
      "Epoch 20/80\n"
     ]
    },
    {
     "name": "stderr",
     "output_type": "stream",
     "text": [
      "76it [00:20,  3.70it/s]\n"
     ]
    },
    {
     "name": "stdout",
     "output_type": "stream",
     "text": [
      "CoNLL score dev set\n",
      "total 51578, correct 50666, accuracy 0.982318\n",
      "total unknown 713, correct 653, accuracy 0.915849\n",
      "processed 51578 tokens with 5942 phrases; found: 5978 phrases; correct: 5451.\n",
      "accuracy:  98.23%; precision:  91.18%; recall:  91.74%; FB1:  91.46\n",
      "              LOC: precision:  96.35%; recall:  94.72%; FB1:  95.53  1806\n",
      "             MISC: precision:  88.71%; recall:  81.78%; FB1:  85.10  850\n",
      "              ORG: precision:  81.30%; recall:  88.81%; FB1:  84.89  1465\n",
      "              PER: precision:  95.10%; recall:  95.87%; FB1:  95.49  1857\n",
      "\n",
      "CoNLL score test set\n",
      "total 46666, correct 45291, accuracy 0.970535\n",
      "total unknown 1143, correct 1047, accuracy 0.916010\n"
     ]
    },
    {
     "name": "stderr",
     "output_type": "stream",
     "text": [
      "0it [00:00, ?it/s]"
     ]
    },
    {
     "name": "stdout",
     "output_type": "stream",
     "text": [
      "processed 46666 tokens with 5648 phrases; found: 5775 phrases; correct: 4986.\n",
      "accuracy:  97.05%; precision:  86.34%; recall:  88.28%; FB1:  87.30\n",
      "              LOC: precision:  91.53%; recall:  91.31%; FB1:  91.42  1664\n",
      "             MISC: precision:  74.12%; recall:  72.22%; FB1:  73.16  684\n",
      "              ORG: precision:  78.91%; recall:  88.32%; FB1:  83.35  1859\n",
      "              PER: precision:  94.96%; recall:  92.08%; FB1:  93.50  1568\n",
      "\n",
      "Epoch 21/80\n"
     ]
    },
    {
     "name": "stderr",
     "output_type": "stream",
     "text": [
      "76it [00:20,  3.72it/s]\n"
     ]
    },
    {
     "name": "stdout",
     "output_type": "stream",
     "text": [
      "CoNLL score dev set\n",
      "total 51578, correct 50652, accuracy 0.982047\n",
      "total unknown 713, correct 655, accuracy 0.918654\n",
      "processed 51578 tokens with 5942 phrases; found: 6014 phrases; correct: 5443.\n",
      "accuracy:  98.20%; precision:  90.51%; recall:  91.60%; FB1:  91.05\n",
      "              LOC: precision:  95.41%; recall:  93.85%; FB1:  94.62  1807\n",
      "             MISC: precision:  90.65%; recall:  82.00%; FB1:  86.10  834\n",
      "              ORG: precision:  83.29%; recall:  88.81%; FB1:  85.96  1430\n",
      "              PER: precision:  91.20%; recall:  96.20%; FB1:  93.63  1943\n",
      "\n",
      "CoNLL score test set\n",
      "total 46666, correct 45348, accuracy 0.971757\n",
      "total unknown 1143, correct 1048, accuracy 0.916885\n"
     ]
    },
    {
     "name": "stderr",
     "output_type": "stream",
     "text": [
      "0it [00:00, ?it/s]"
     ]
    },
    {
     "name": "stdout",
     "output_type": "stream",
     "text": [
      "processed 46666 tokens with 5648 phrases; found: 5794 phrases; correct: 5014.\n",
      "accuracy:  97.18%; precision:  86.54%; recall:  88.77%; FB1:  87.64\n",
      "              LOC: precision:  91.54%; recall:  91.43%; FB1:  91.48  1666\n",
      "             MISC: precision:  77.20%; recall:  72.36%; FB1:  74.71  658\n",
      "              ORG: precision:  81.95%; recall:  88.02%; FB1:  84.88  1784\n",
      "              PER: precision:  90.09%; recall:  93.94%; FB1:  91.98  1686\n",
      "\n",
      "Epoch 22/80\n"
     ]
    },
    {
     "name": "stderr",
     "output_type": "stream",
     "text": [
      "76it [00:20,  3.69it/s]\n"
     ]
    },
    {
     "name": "stdout",
     "output_type": "stream",
     "text": [
      "CoNLL score dev set\n",
      "total 51578, correct 50798, accuracy 0.984877\n",
      "total unknown 713, correct 656, accuracy 0.920056\n",
      "processed 51578 tokens with 5942 phrases; found: 5983 phrases; correct: 5508.\n",
      "accuracy:  98.49%; precision:  92.06%; recall:  92.70%; FB1:  92.38\n",
      "              LOC: precision:  96.66%; recall:  94.61%; FB1:  95.63  1798\n",
      "             MISC: precision:  89.99%; recall:  83.84%; FB1:  86.81  859\n",
      "              ORG: precision:  83.13%; recall:  91.50%; FB1:  87.11  1476\n",
      "              PER: precision:  95.68%; recall:  96.09%; FB1:  95.88  1850\n",
      "\n",
      "CoNLL score test set\n",
      "total 46666, correct 45479, accuracy 0.974564\n",
      "total unknown 1143, correct 1063, accuracy 0.930009\n"
     ]
    },
    {
     "name": "stderr",
     "output_type": "stream",
     "text": [
      "0it [00:00, ?it/s]"
     ]
    },
    {
     "name": "stdout",
     "output_type": "stream",
     "text": [
      "processed 46666 tokens with 5648 phrases; found: 5733 phrases; correct: 5029.\n",
      "accuracy:  97.46%; precision:  87.72%; recall:  89.04%; FB1:  88.38\n",
      "              LOC: precision:  92.71%; recall:  91.49%; FB1:  92.09  1646\n",
      "             MISC: precision:  74.93%; recall:  74.07%; FB1:  74.50  694\n",
      "              ORG: precision:  80.84%; recall:  90.43%; FB1:  85.37  1858\n",
      "              PER: precision:  96.48%; recall:  91.59%; FB1:  93.97  1535\n",
      "\n",
      "Epoch 23/80\n"
     ]
    },
    {
     "name": "stderr",
     "output_type": "stream",
     "text": [
      "76it [00:20,  3.70it/s]\n"
     ]
    },
    {
     "name": "stdout",
     "output_type": "stream",
     "text": [
      "CoNLL score dev set\n",
      "total 51578, correct 50768, accuracy 0.984296\n",
      "total unknown 713, correct 655, accuracy 0.918654\n",
      "processed 51578 tokens with 5942 phrases; found: 5972 phrases; correct: 5487.\n",
      "accuracy:  98.43%; precision:  91.88%; recall:  92.34%; FB1:  92.11\n",
      "              LOC: precision:  98.14%; recall:  91.83%; FB1:  94.88  1719\n",
      "             MISC: precision:  90.49%; recall:  83.62%; FB1:  86.92  852\n",
      "              ORG: precision:  81.48%; recall:  92.54%; FB1:  86.66  1523\n",
      "              PER: precision:  95.21%; recall:  97.07%; FB1:  96.13  1878\n",
      "\n",
      "CoNLL score test set\n",
      "total 46666, correct 45567, accuracy 0.976450\n",
      "total unknown 1143, correct 1063, accuracy 0.930009\n"
     ]
    },
    {
     "name": "stderr",
     "output_type": "stream",
     "text": [
      "0it [00:00, ?it/s]"
     ]
    },
    {
     "name": "stdout",
     "output_type": "stream",
     "text": [
      "processed 46666 tokens with 5648 phrases; found: 5712 phrases; correct: 5066.\n",
      "accuracy:  97.64%; precision:  88.69%; recall:  89.70%; FB1:  89.19\n",
      "              LOC: precision:  94.95%; recall:  89.09%; FB1:  91.93  1565\n",
      "             MISC: precision:  78.44%; recall:  74.64%; FB1:  76.50  668\n",
      "              ORG: precision:  81.03%; recall:  91.57%; FB1:  85.98  1877\n",
      "              PER: precision:  95.82%; recall:  94.93%; FB1:  95.37  1602\n",
      "\n",
      "Epoch 24/80\n"
     ]
    },
    {
     "name": "stderr",
     "output_type": "stream",
     "text": [
      "76it [00:20,  3.73it/s]\n"
     ]
    },
    {
     "name": "stdout",
     "output_type": "stream",
     "text": [
      "CoNLL score dev set\n",
      "total 51578, correct 50882, accuracy 0.986506\n",
      "total unknown 713, correct 674, accuracy 0.945302\n",
      "processed 51578 tokens with 5942 phrases; found: 5963 phrases; correct: 5554.\n",
      "accuracy:  98.65%; precision:  93.14%; recall:  93.47%; FB1:  93.31\n",
      "              LOC: precision:  95.47%; recall:  96.30%; FB1:  95.88  1853\n",
      "             MISC: precision:  91.56%; recall:  85.90%; FB1:  88.64  865\n",
      "              ORG: precision:  88.78%; recall:  89.71%; FB1:  89.24  1355\n",
      "              PER: precision:  94.71%; recall:  97.18%; FB1:  95.93  1890\n",
      "\n",
      "CoNLL score test set\n",
      "total 46666, correct 45665, accuracy 0.978550\n",
      "total unknown 1143, correct 1074, accuracy 0.939633\n"
     ]
    },
    {
     "name": "stderr",
     "output_type": "stream",
     "text": [
      "0it [00:00, ?it/s]"
     ]
    },
    {
     "name": "stdout",
     "output_type": "stream",
     "text": [
      "processed 46666 tokens with 5648 phrases; found: 5659 phrases; correct: 5070.\n",
      "accuracy:  97.85%; precision:  89.59%; recall:  89.77%; FB1:  89.68\n",
      "              LOC: precision:  90.32%; recall:  92.81%; FB1:  91.54  1714\n",
      "             MISC: precision:  81.59%; recall:  77.64%; FB1:  79.56  668\n",
      "              ORG: precision:  87.71%; recall:  86.75%; FB1:  87.23  1643\n",
      "              PER: precision:  94.00%; recall:  94.99%; FB1:  94.49  1634\n",
      "\n",
      "Epoch 25/80\n"
     ]
    },
    {
     "name": "stderr",
     "output_type": "stream",
     "text": [
      "76it [00:20,  3.70it/s]\n"
     ]
    },
    {
     "name": "stdout",
     "output_type": "stream",
     "text": [
      "CoNLL score dev set\n",
      "total 51578, correct 50830, accuracy 0.985498\n",
      "total unknown 713, correct 669, accuracy 0.938289\n",
      "processed 51578 tokens with 5942 phrases; found: 5954 phrases; correct: 5529.\n",
      "accuracy:  98.55%; precision:  92.86%; recall:  93.05%; FB1:  92.96\n",
      "              LOC: precision:  95.92%; recall:  95.92%; FB1:  95.92  1837\n",
      "             MISC: precision:  90.40%; recall:  85.79%; FB1:  88.04  875\n",
      "              ORG: precision:  87.20%; recall:  89.41%; FB1:  88.29  1375\n",
      "              PER: precision:  95.18%; recall:  96.47%; FB1:  95.82  1867\n",
      "\n",
      "CoNLL score test set\n",
      "total 46666, correct 45577, accuracy 0.976664\n",
      "total unknown 1143, correct 1073, accuracy 0.938758\n"
     ]
    },
    {
     "name": "stderr",
     "output_type": "stream",
     "text": [
      "0it [00:00, ?it/s]"
     ]
    },
    {
     "name": "stdout",
     "output_type": "stream",
     "text": [
      "processed 46666 tokens with 5648 phrases; found: 5687 phrases; correct: 5069.\n",
      "accuracy:  97.67%; precision:  89.13%; recall:  89.75%; FB1:  89.44\n",
      "              LOC: precision:  90.55%; recall:  92.45%; FB1:  91.49  1703\n",
      "             MISC: precision:  79.73%; recall:  76.78%; FB1:  78.23  676\n",
      "              ORG: precision:  85.26%; recall:  88.14%; FB1:  86.68  1717\n",
      "              PER: precision:  95.79%; recall:  94.25%; FB1:  95.01  1591\n",
      "\n",
      "Epoch 26/80\n"
     ]
    },
    {
     "name": "stderr",
     "output_type": "stream",
     "text": [
      "76it [00:20,  3.67it/s]\n"
     ]
    },
    {
     "name": "stdout",
     "output_type": "stream",
     "text": [
      "CoNLL score dev set\n",
      "total 51578, correct 50797, accuracy 0.984858\n",
      "total unknown 713, correct 662, accuracy 0.928471\n",
      "processed 51578 tokens with 5942 phrases; found: 5963 phrases; correct: 5500.\n",
      "accuracy:  98.49%; precision:  92.24%; recall:  92.56%; FB1:  92.40\n",
      "              LOC: precision:  94.67%; recall:  96.68%; FB1:  95.66  1876\n",
      "             MISC: precision:  92.30%; recall:  81.89%; FB1:  86.78  818\n",
      "              ORG: precision:  84.52%; recall:  90.38%; FB1:  87.35  1434\n",
      "              PER: precision:  95.75%; recall:  95.39%; FB1:  95.57  1835\n",
      "\n",
      "CoNLL score test set\n",
      "total 46666, correct 45521, accuracy 0.975464\n",
      "total unknown 1143, correct 1062, accuracy 0.929134\n"
     ]
    },
    {
     "name": "stderr",
     "output_type": "stream",
     "text": [
      "0it [00:00, ?it/s]"
     ]
    },
    {
     "name": "stdout",
     "output_type": "stream",
     "text": [
      "processed 46666 tokens with 5648 phrases; found: 5695 phrases; correct: 5026.\n",
      "accuracy:  97.55%; precision:  88.25%; recall:  88.99%; FB1:  88.62\n",
      "              LOC: precision:  89.83%; recall:  92.69%; FB1:  91.24  1721\n",
      "             MISC: precision:  82.05%; recall:  72.93%; FB1:  77.22  624\n",
      "              ORG: precision:  82.03%; recall:  89.04%; FB1:  85.39  1803\n",
      "              PER: precision:  96.25%; recall:  92.08%; FB1:  94.12  1547\n",
      "\n",
      "Epoch 27/80\n"
     ]
    },
    {
     "name": "stderr",
     "output_type": "stream",
     "text": [
      "76it [00:20,  3.70it/s]\n"
     ]
    },
    {
     "name": "stdout",
     "output_type": "stream",
     "text": [
      "CoNLL score dev set\n",
      "total 51578, correct 50846, accuracy 0.985808\n",
      "total unknown 713, correct 672, accuracy 0.942496\n",
      "processed 51578 tokens with 5942 phrases; found: 5982 phrases; correct: 5535.\n",
      "accuracy:  98.58%; precision:  92.53%; recall:  93.15%; FB1:  92.84\n",
      "              LOC: precision:  95.81%; recall:  95.81%; FB1:  95.81  1837\n",
      "             MISC: precision:  90.18%; recall:  84.71%; FB1:  87.36  866\n",
      "              ORG: precision:  87.85%; recall:  90.08%; FB1:  88.95  1375\n",
      "              PER: precision:  93.80%; recall:  96.96%; FB1:  95.36  1904\n",
      "\n",
      "CoNLL score test set\n",
      "total 46666, correct 45584, accuracy 0.976814\n",
      "total unknown 1143, correct 1069, accuracy 0.935258\n"
     ]
    },
    {
     "name": "stderr",
     "output_type": "stream",
     "text": [
      "0it [00:00, ?it/s]"
     ]
    },
    {
     "name": "stdout",
     "output_type": "stream",
     "text": [
      "processed 46666 tokens with 5648 phrases; found: 5696 phrases; correct: 5066.\n",
      "accuracy:  97.68%; precision:  88.94%; recall:  89.70%; FB1:  89.32\n",
      "              LOC: precision:  90.87%; recall:  92.45%; FB1:  91.65  1697\n",
      "             MISC: precision:  79.76%; recall:  76.35%; FB1:  78.02  672\n",
      "              ORG: precision:  86.35%; recall:  87.24%; FB1:  86.79  1678\n",
      "              PER: precision:  93.33%; recall:  95.18%; FB1:  94.24  1649\n",
      "\n",
      "Epoch 28/80\n"
     ]
    },
    {
     "name": "stderr",
     "output_type": "stream",
     "text": [
      "76it [00:20,  3.65it/s]\n"
     ]
    },
    {
     "name": "stdout",
     "output_type": "stream",
     "text": [
      "CoNLL score dev set\n",
      "total 51578, correct 50889, accuracy 0.986642\n",
      "total unknown 713, correct 670, accuracy 0.939691\n",
      "processed 51578 tokens with 5942 phrases; found: 5947 phrases; correct: 5537.\n",
      "accuracy:  98.66%; precision:  93.11%; recall:  93.18%; FB1:  93.14\n",
      "              LOC: precision:  95.68%; recall:  96.46%; FB1:  96.07  1852\n",
      "             MISC: precision:  92.56%; recall:  82.32%; FB1:  87.14  820\n",
      "              ORG: precision:  86.49%; recall:  91.65%; FB1:  88.99  1421\n",
      "              PER: precision:  95.85%; recall:  96.47%; FB1:  96.16  1854\n",
      "\n",
      "CoNLL score test set\n",
      "total 46666, correct 45627, accuracy 0.977735\n",
      "total unknown 1143, correct 1069, accuracy 0.935258\n"
     ]
    },
    {
     "name": "stderr",
     "output_type": "stream",
     "text": [
      "0it [00:00, ?it/s]"
     ]
    },
    {
     "name": "stdout",
     "output_type": "stream",
     "text": [
      "processed 46666 tokens with 5648 phrases; found: 5676 phrases; correct: 5072.\n",
      "accuracy:  97.77%; precision:  89.36%; recall:  89.80%; FB1:  89.58\n",
      "              LOC: precision:  90.22%; recall:  92.87%; FB1:  91.52  1717\n",
      "             MISC: precision:  82.37%; recall:  73.22%; FB1:  77.53  624\n",
      "              ORG: precision:  84.20%; recall:  89.22%; FB1:  86.64  1760\n",
      "              PER: precision:  96.95%; recall:  94.43%; FB1:  95.68  1575\n",
      "\n",
      "Epoch 29/80\n"
     ]
    },
    {
     "name": "stderr",
     "output_type": "stream",
     "text": [
      "76it [00:20,  3.66it/s]\n"
     ]
    },
    {
     "name": "stdout",
     "output_type": "stream",
     "text": [
      "CoNLL score dev set\n",
      "total 51578, correct 50871, accuracy 0.986293\n",
      "total unknown 713, correct 673, accuracy 0.943899\n",
      "processed 51578 tokens with 5942 phrases; found: 5970 phrases; correct: 5540.\n",
      "accuracy:  98.63%; precision:  92.80%; recall:  93.23%; FB1:  93.02\n",
      "              LOC: precision:  95.98%; recall:  96.19%; FB1:  96.08  1841\n",
      "             MISC: precision:  93.52%; recall:  82.97%; FB1:  87.93  818\n",
      "              ORG: precision:  85.92%; recall:  91.50%; FB1:  88.62  1428\n",
      "              PER: precision:  94.58%; recall:  96.69%; FB1:  95.62  1883\n",
      "\n",
      "CoNLL score test set\n",
      "total 46666, correct 45618, accuracy 0.977543\n",
      "total unknown 1143, correct 1068, accuracy 0.934383\n"
     ]
    },
    {
     "name": "stderr",
     "output_type": "stream",
     "text": [
      "0it [00:00, ?it/s]"
     ]
    },
    {
     "name": "stdout",
     "output_type": "stream",
     "text": [
      "processed 46666 tokens with 5648 phrases; found: 5714 phrases; correct: 5089.\n",
      "accuracy:  97.75%; precision:  89.06%; recall:  90.10%; FB1:  89.58\n",
      "              LOC: precision:  90.93%; recall:  92.51%; FB1:  91.71  1697\n",
      "             MISC: precision:  83.52%; recall:  74.36%; FB1:  78.67  625\n",
      "              ORG: precision:  84.14%; recall:  89.40%; FB1:  86.69  1765\n",
      "              PER: precision:  94.59%; recall:  95.18%; FB1:  94.88  1627\n",
      "\n",
      "Epoch 30/80\n"
     ]
    },
    {
     "name": "stderr",
     "output_type": "stream",
     "text": [
      "76it [00:22,  3.34it/s]\n"
     ]
    },
    {
     "name": "stdout",
     "output_type": "stream",
     "text": [
      "CoNLL score dev set\n",
      "total 51578, correct 50970, accuracy 0.988212\n",
      "total unknown 713, correct 681, accuracy 0.955119\n",
      "processed 51578 tokens with 5942 phrases; found: 5975 phrases; correct: 5596.\n",
      "accuracy:  98.82%; precision:  93.66%; recall:  94.18%; FB1:  93.92\n",
      "              LOC: precision:  96.20%; recall:  96.35%; FB1:  96.27  1840\n",
      "             MISC: precision:  90.63%; recall:  87.09%; FB1:  88.83  886\n",
      "              ORG: precision:  88.91%; recall:  92.69%; FB1:  90.76  1398\n",
      "              PER: precision:  96.16%; recall:  96.63%; FB1:  96.40  1851\n",
      "\n",
      "CoNLL score test set\n",
      "total 46666, correct 45713, accuracy 0.979578\n",
      "total unknown 1143, correct 1074, accuracy 0.939633\n"
     ]
    },
    {
     "name": "stderr",
     "output_type": "stream",
     "text": [
      "0it [00:00, ?it/s]"
     ]
    },
    {
     "name": "stdout",
     "output_type": "stream",
     "text": [
      "processed 46666 tokens with 5648 phrases; found: 5701 phrases; correct: 5116.\n",
      "accuracy:  97.96%; precision:  89.74%; recall:  90.58%; FB1:  90.16\n",
      "              LOC: precision:  90.96%; recall:  92.87%; FB1:  91.90  1703\n",
      "             MISC: precision:  80.09%; recall:  77.35%; FB1:  78.70  678\n",
      "              ORG: precision:  85.67%; recall:  90.01%; FB1:  87.79  1745\n",
      "              PER: precision:  97.08%; recall:  94.56%; FB1:  95.80  1575\n",
      "\n",
      "Epoch 31/80\n"
     ]
    },
    {
     "name": "stderr",
     "output_type": "stream",
     "text": [
      "76it [00:22,  3.32it/s]\n"
     ]
    },
    {
     "name": "stdout",
     "output_type": "stream",
     "text": [
      "CoNLL score dev set\n",
      "total 51578, correct 50936, accuracy 0.987553\n",
      "total unknown 713, correct 679, accuracy 0.952314\n",
      "processed 51578 tokens with 5942 phrases; found: 5967 phrases; correct: 5582.\n",
      "accuracy:  98.76%; precision:  93.55%; recall:  93.94%; FB1:  93.74\n",
      "              LOC: precision:  97.03%; recall:  96.08%; FB1:  96.55  1819\n",
      "             MISC: precision:  88.84%; recall:  87.20%; FB1:  88.01  905\n",
      "              ORG: precision:  90.58%; recall:  91.05%; FB1:  90.81  1348\n",
      "              PER: precision:  94.56%; recall:  97.29%; FB1:  95.91  1895\n",
      "\n",
      "CoNLL score test set\n",
      "total 46666, correct 45630, accuracy 0.977800\n",
      "total unknown 1143, correct 1078, accuracy 0.943132\n"
     ]
    },
    {
     "name": "stderr",
     "output_type": "stream",
     "text": [
      "0it [00:00, ?it/s]"
     ]
    },
    {
     "name": "stdout",
     "output_type": "stream",
     "text": [
      "processed 46666 tokens with 5648 phrases; found: 5685 phrases; correct: 5089.\n",
      "accuracy:  97.78%; precision:  89.52%; recall:  90.10%; FB1:  89.81\n",
      "              LOC: precision:  92.80%; recall:  91.91%; FB1:  92.35  1652\n",
      "             MISC: precision:  76.40%; recall:  79.77%; FB1:  78.05  733\n",
      "              ORG: precision:  87.58%; recall:  87.06%; FB1:  87.32  1651\n",
      "              PER: precision:  94.00%; recall:  95.86%; FB1:  94.92  1649\n",
      "\n",
      "Epoch 32/80\n"
     ]
    },
    {
     "name": "stderr",
     "output_type": "stream",
     "text": [
      "76it [00:23,  3.26it/s]\n"
     ]
    },
    {
     "name": "stdout",
     "output_type": "stream",
     "text": [
      "CoNLL score dev set\n",
      "total 51578, correct 50944, accuracy 0.987708\n",
      "total unknown 713, correct 677, accuracy 0.949509\n",
      "processed 51578 tokens with 5942 phrases; found: 5940 phrases; correct: 5568.\n",
      "accuracy:  98.77%; precision:  93.74%; recall:  93.71%; FB1:  93.72\n",
      "              LOC: precision:  96.20%; recall:  96.46%; FB1:  96.33  1842\n",
      "             MISC: precision:  91.17%; recall:  86.23%; FB1:  88.63  872\n",
      "              ORG: precision:  88.77%; recall:  91.35%; FB1:  90.04  1380\n",
      "              PER: precision:  96.21%; recall:  96.42%; FB1:  96.31  1846\n",
      "\n",
      "CoNLL score test set\n",
      "total 46666, correct 45639, accuracy 0.977993\n",
      "total unknown 1143, correct 1072, accuracy 0.937883\n"
     ]
    },
    {
     "name": "stderr",
     "output_type": "stream",
     "text": [
      "0it [00:00, ?it/s]"
     ]
    },
    {
     "name": "stdout",
     "output_type": "stream",
     "text": [
      "processed 46666 tokens with 5648 phrases; found: 5676 phrases; correct: 5082.\n",
      "accuracy:  97.80%; precision:  89.53%; recall:  89.98%; FB1:  89.76\n",
      "              LOC: precision:  90.74%; recall:  92.87%; FB1:  91.79  1707\n",
      "             MISC: precision:  79.31%; recall:  74.79%; FB1:  76.98  662\n",
      "              ORG: precision:  85.32%; recall:  88.86%; FB1:  87.05  1730\n",
      "              PER: precision:  97.15%; recall:  94.74%; FB1:  95.93  1577\n",
      "\n",
      "Epoch 33/80\n"
     ]
    },
    {
     "name": "stderr",
     "output_type": "stream",
     "text": [
      "76it [00:22,  3.33it/s]\n"
     ]
    },
    {
     "name": "stdout",
     "output_type": "stream",
     "text": [
      "CoNLL score dev set\n",
      "total 51578, correct 50980, accuracy 0.988406\n",
      "total unknown 713, correct 683, accuracy 0.957924\n",
      "processed 51578 tokens with 5942 phrases; found: 5928 phrases; correct: 5589.\n",
      "accuracy:  98.84%; precision:  94.28%; recall:  94.06%; FB1:  94.17\n",
      "              LOC: precision:  96.93%; recall:  96.41%; FB1:  96.67  1827\n",
      "             MISC: precision:  91.52%; recall:  87.74%; FB1:  89.59  884\n",
      "              ORG: precision:  90.38%; recall:  91.13%; FB1:  90.75  1352\n",
      "              PER: precision:  95.82%; recall:  97.01%; FB1:  96.41  1865\n",
      "\n",
      "CoNLL score test set\n",
      "total 46666, correct 45678, accuracy 0.978828\n",
      "total unknown 1143, correct 1073, accuracy 0.938758\n"
     ]
    },
    {
     "name": "stderr",
     "output_type": "stream",
     "text": [
      "0it [00:00, ?it/s]"
     ]
    },
    {
     "name": "stdout",
     "output_type": "stream",
     "text": [
      "processed 46666 tokens with 5648 phrases; found: 5644 phrases; correct: 5094.\n",
      "accuracy:  97.88%; precision:  90.26%; recall:  90.19%; FB1:  90.22\n",
      "              LOC: precision:  90.85%; recall:  92.87%; FB1:  91.85  1705\n",
      "             MISC: precision:  80.32%; recall:  79.06%; FB1:  79.68  691\n",
      "              ORG: precision:  87.66%; recall:  87.24%; FB1:  87.45  1653\n",
      "              PER: precision:  96.61%; recall:  95.30%; FB1:  95.95  1595\n",
      "\n",
      "Epoch 34/80\n"
     ]
    },
    {
     "name": "stderr",
     "output_type": "stream",
     "text": [
      "76it [00:23,  3.24it/s]\n"
     ]
    },
    {
     "name": "stdout",
     "output_type": "stream",
     "text": [
      "CoNLL score dev set\n",
      "total 51578, correct 50940, accuracy 0.987630\n",
      "total unknown 713, correct 676, accuracy 0.948107\n",
      "processed 51578 tokens with 5942 phrases; found: 5939 phrases; correct: 5559.\n",
      "accuracy:  98.76%; precision:  93.60%; recall:  93.55%; FB1:  93.58\n",
      "              LOC: precision:  97.49%; recall:  95.05%; FB1:  96.25  1791\n",
      "             MISC: precision:  90.36%; recall:  87.42%; FB1:  88.86  892\n",
      "              ORG: precision:  87.17%; recall:  92.24%; FB1:  89.64  1419\n",
      "              PER: precision:  96.35%; recall:  96.09%; FB1:  96.22  1837\n",
      "\n",
      "CoNLL score test set\n",
      "total 46666, correct 45592, accuracy 0.976985\n",
      "total unknown 1143, correct 1073, accuracy 0.938758\n"
     ]
    },
    {
     "name": "stderr",
     "output_type": "stream",
     "text": [
      "0it [00:00, ?it/s]"
     ]
    },
    {
     "name": "stdout",
     "output_type": "stream",
     "text": [
      "processed 46666 tokens with 5648 phrases; found: 5673 phrases; correct: 5064.\n",
      "accuracy:  97.70%; precision:  89.26%; recall:  89.66%; FB1:  89.46\n",
      "              LOC: precision:  93.04%; recall:  91.43%; FB1:  92.23  1639\n",
      "             MISC: precision:  77.09%; recall:  76.21%; FB1:  76.65  694\n",
      "              ORG: precision:  83.61%; recall:  90.01%; FB1:  86.69  1788\n",
      "              PER: precision:  97.23%; recall:  93.32%; FB1:  95.24  1552\n",
      "\n",
      "Epoch 35/80\n"
     ]
    },
    {
     "name": "stderr",
     "output_type": "stream",
     "text": [
      "76it [00:22,  3.34it/s]\n"
     ]
    },
    {
     "name": "stdout",
     "output_type": "stream",
     "text": [
      "CoNLL score dev set\n",
      "total 51578, correct 50935, accuracy 0.987533\n",
      "total unknown 713, correct 679, accuracy 0.952314\n",
      "processed 51578 tokens with 5942 phrases; found: 5946 phrases; correct: 5565.\n",
      "accuracy:  98.75%; precision:  93.59%; recall:  93.66%; FB1:  93.62\n",
      "              LOC: precision:  96.66%; recall:  96.08%; FB1:  96.37  1826\n",
      "             MISC: precision:  92.41%; recall:  85.79%; FB1:  88.98  856\n",
      "              ORG: precision:  87.29%; recall:  92.69%; FB1:  89.91  1424\n",
      "              PER: precision:  95.98%; recall:  95.87%; FB1:  95.93  1840\n",
      "\n",
      "CoNLL score test set\n",
      "total 46666, correct 45694, accuracy 0.979171\n",
      "total unknown 1143, correct 1078, accuracy 0.943132\n"
     ]
    },
    {
     "name": "stderr",
     "output_type": "stream",
     "text": [
      "0it [00:00, ?it/s]"
     ]
    },
    {
     "name": "stdout",
     "output_type": "stream",
     "text": [
      "processed 46666 tokens with 5648 phrases; found: 5688 phrases; correct: 5117.\n",
      "accuracy:  97.92%; precision:  89.96%; recall:  90.60%; FB1:  90.28\n",
      "              LOC: precision:  92.67%; recall:  92.51%; FB1:  92.59  1665\n",
      "             MISC: precision:  82.05%; recall:  77.49%; FB1:  79.71  663\n",
      "              ORG: precision:  84.15%; recall:  90.49%; FB1:  87.21  1786\n",
      "              PER: precision:  97.01%; recall:  94.43%; FB1:  95.71  1574\n",
      "\n",
      "Epoch 36/80\n"
     ]
    },
    {
     "name": "stderr",
     "output_type": "stream",
     "text": [
      "76it [00:22,  3.40it/s]\n"
     ]
    },
    {
     "name": "stdout",
     "output_type": "stream",
     "text": [
      "CoNLL score dev set\n",
      "total 51578, correct 50985, accuracy 0.988503\n",
      "total unknown 713, correct 680, accuracy 0.953717\n",
      "processed 51578 tokens with 5942 phrases; found: 5929 phrases; correct: 5591.\n",
      "accuracy:  98.85%; precision:  94.30%; recall:  94.09%; FB1:  94.20\n",
      "              LOC: precision:  96.76%; recall:  96.03%; FB1:  96.39  1823\n",
      "             MISC: precision:  90.37%; recall:  87.53%; FB1:  88.93  893\n",
      "              ORG: precision:  90.93%; recall:  91.95%; FB1:  91.43  1356\n",
      "              PER: precision:  96.23%; recall:  97.01%; FB1:  96.62  1857\n",
      "\n",
      "CoNLL score test set\n",
      "total 46666, correct 45729, accuracy 0.979921\n",
      "total unknown 1143, correct 1083, accuracy 0.947507\n"
     ]
    },
    {
     "name": "stderr",
     "output_type": "stream",
     "text": [
      "0it [00:00, ?it/s]"
     ]
    },
    {
     "name": "stdout",
     "output_type": "stream",
     "text": [
      "processed 46666 tokens with 5648 phrases; found: 5639 phrases; correct: 5115.\n",
      "accuracy:  97.99%; precision:  90.71%; recall:  90.56%; FB1:  90.64\n",
      "              LOC: precision:  92.49%; recall:  92.27%; FB1:  92.38  1664\n",
      "             MISC: precision:  79.37%; recall:  79.49%; FB1:  79.43  703\n",
      "              ORG: precision:  88.00%; recall:  88.32%; FB1:  88.16  1667\n",
      "              PER: precision:  96.64%; recall:  95.92%; FB1:  96.28  1605\n",
      "\n",
      "Epoch 37/80\n"
     ]
    },
    {
     "name": "stderr",
     "output_type": "stream",
     "text": [
      "76it [00:21,  3.47it/s]\n"
     ]
    },
    {
     "name": "stdout",
     "output_type": "stream",
     "text": [
      "CoNLL score dev set\n",
      "total 51578, correct 50997, accuracy 0.988736\n",
      "total unknown 713, correct 682, accuracy 0.956522\n",
      "processed 51578 tokens with 5942 phrases; found: 5946 phrases; correct: 5597.\n",
      "accuracy:  98.87%; precision:  94.13%; recall:  94.19%; FB1:  94.16\n",
      "              LOC: precision:  95.75%; recall:  96.84%; FB1:  96.29  1858\n",
      "             MISC: precision:  91.52%; recall:  87.74%; FB1:  89.59  884\n",
      "              ORG: precision:  90.85%; recall:  91.80%; FB1:  91.32  1355\n",
      "              PER: precision:  96.16%; recall:  96.53%; FB1:  96.34  1849\n",
      "\n",
      "CoNLL score test set\n",
      "total 46666, correct 45689, accuracy 0.979064\n",
      "total unknown 1143, correct 1080, accuracy 0.944882\n"
     ]
    },
    {
     "name": "stderr",
     "output_type": "stream",
     "text": [
      "0it [00:00, ?it/s]"
     ]
    },
    {
     "name": "stdout",
     "output_type": "stream",
     "text": [
      "processed 46666 tokens with 5648 phrases; found: 5666 phrases; correct: 5111.\n",
      "accuracy:  97.91%; precision:  90.20%; recall:  90.49%; FB1:  90.35\n",
      "              LOC: precision:  90.49%; recall:  93.53%; FB1:  91.98  1724\n",
      "             MISC: precision:  81.22%; recall:  79.49%; FB1:  80.35  687\n",
      "              ORG: precision:  87.29%; recall:  88.08%; FB1:  87.68  1676\n",
      "              PER: precision:  96.90%; recall:  94.62%; FB1:  95.74  1579\n",
      "\n",
      "Epoch 38/80\n"
     ]
    },
    {
     "name": "stderr",
     "output_type": "stream",
     "text": [
      "76it [00:22,  3.41it/s]\n"
     ]
    },
    {
     "name": "stdout",
     "output_type": "stream",
     "text": [
      "CoNLL score dev set\n",
      "total 51578, correct 50987, accuracy 0.988542\n",
      "total unknown 713, correct 685, accuracy 0.960729\n",
      "processed 51578 tokens with 5942 phrases; found: 5954 phrases; correct: 5605.\n",
      "accuracy:  98.85%; precision:  94.14%; recall:  94.33%; FB1:  94.23\n",
      "              LOC: precision:  97.04%; recall:  96.46%; FB1:  96.75  1826\n",
      "             MISC: precision:  90.74%; recall:  88.18%; FB1:  89.44  896\n",
      "              ORG: precision:  90.60%; recall:  92.02%; FB1:  91.31  1362\n",
      "              PER: precision:  95.51%; recall:  96.96%; FB1:  96.23  1870\n",
      "\n",
      "CoNLL score test set\n",
      "total 46666, correct 45693, accuracy 0.979150\n",
      "total unknown 1143, correct 1078, accuracy 0.943132\n"
     ]
    },
    {
     "name": "stderr",
     "output_type": "stream",
     "text": [
      "0it [00:00, ?it/s]"
     ]
    },
    {
     "name": "stdout",
     "output_type": "stream",
     "text": [
      "processed 46666 tokens with 5648 phrases; found: 5689 phrases; correct: 5126.\n",
      "accuracy:  97.91%; precision:  90.10%; recall:  90.76%; FB1:  90.43\n",
      "              LOC: precision:  92.07%; recall:  92.63%; FB1:  92.35  1678\n",
      "             MISC: precision:  78.87%; recall:  79.20%; FB1:  79.03  705\n",
      "              ORG: precision:  86.84%; recall:  88.98%; FB1:  87.90  1702\n",
      "              PER: precision:  96.45%; recall:  95.67%; FB1:  96.06  1604\n",
      "\n",
      "Epoch 39/80\n"
     ]
    },
    {
     "name": "stderr",
     "output_type": "stream",
     "text": [
      "76it [00:22,  3.45it/s]\n"
     ]
    },
    {
     "name": "stdout",
     "output_type": "stream",
     "text": [
      "CoNLL score dev set\n",
      "total 51578, correct 50989, accuracy 0.988580\n",
      "total unknown 713, correct 685, accuracy 0.960729\n",
      "processed 51578 tokens with 5942 phrases; found: 5945 phrases; correct: 5606.\n",
      "accuracy:  98.86%; precision:  94.30%; recall:  94.35%; FB1:  94.32\n",
      "              LOC: precision:  96.21%; recall:  96.73%; FB1:  96.47  1847\n",
      "             MISC: precision:  91.73%; recall:  89.05%; FB1:  90.37  895\n",
      "              ORG: precision:  90.94%; recall:  91.35%; FB1:  91.15  1347\n",
      "              PER: precision:  96.07%; recall:  96.80%; FB1:  96.43  1856\n",
      "\n",
      "CoNLL score test set\n",
      "total 46666, correct 45652, accuracy 0.978271\n",
      "total unknown 1143, correct 1073, accuracy 0.938758\n"
     ]
    },
    {
     "name": "stderr",
     "output_type": "stream",
     "text": [
      "0it [00:00, ?it/s]"
     ]
    },
    {
     "name": "stdout",
     "output_type": "stream",
     "text": [
      "processed 46666 tokens with 5648 phrases; found: 5686 phrases; correct: 5105.\n",
      "accuracy:  97.83%; precision:  89.78%; recall:  90.39%; FB1:  90.08\n",
      "              LOC: precision:  91.46%; recall:  92.45%; FB1:  91.95  1686\n",
      "             MISC: precision:  79.21%; recall:  79.77%; FB1:  79.49  707\n",
      "              ORG: precision:  86.20%; recall:  88.02%; FB1:  87.10  1696\n",
      "              PER: precision:  96.49%; recall:  95.30%; FB1:  95.89  1597\n",
      "\n",
      "Epoch 40/80\n"
     ]
    },
    {
     "name": "stderr",
     "output_type": "stream",
     "text": [
      "76it [00:22,  3.36it/s]\n"
     ]
    },
    {
     "name": "stdout",
     "output_type": "stream",
     "text": [
      "CoNLL score dev set\n",
      "total 51578, correct 50998, accuracy 0.988755\n",
      "total unknown 713, correct 684, accuracy 0.959327\n",
      "processed 51578 tokens with 5942 phrases; found: 5938 phrases; correct: 5601.\n",
      "accuracy:  98.88%; precision:  94.32%; recall:  94.26%; FB1:  94.29\n",
      "              LOC: precision:  96.25%; recall:  96.41%; FB1:  96.33  1840\n",
      "             MISC: precision:  88.36%; recall:  90.56%; FB1:  89.45  945\n",
      "              ORG: precision:  93.32%; recall:  90.68%; FB1:  91.98  1303\n",
      "              PER: precision:  96.16%; recall:  96.58%; FB1:  96.37  1850\n",
      "\n",
      "CoNLL score test set\n",
      "total 46666, correct 45672, accuracy 0.978700\n",
      "total unknown 1143, correct 1076, accuracy 0.941382\n"
     ]
    },
    {
     "name": "stderr",
     "output_type": "stream",
     "text": [
      "0it [00:00, ?it/s]"
     ]
    },
    {
     "name": "stdout",
     "output_type": "stream",
     "text": [
      "processed 46666 tokens with 5648 phrases; found: 5642 phrases; correct: 5077.\n",
      "accuracy:  97.87%; precision:  89.99%; recall:  89.89%; FB1:  89.94\n",
      "              LOC: precision:  90.27%; recall:  93.41%; FB1:  91.81  1726\n",
      "             MISC: precision:  74.71%; recall:  82.05%; FB1:  78.21  771\n",
      "              ORG: precision:  90.35%; recall:  84.59%; FB1:  87.38  1555\n",
      "              PER: precision:  96.73%; recall:  95.11%; FB1:  95.92  1590\n",
      "\n",
      "Epoch 41/80\n"
     ]
    },
    {
     "name": "stderr",
     "output_type": "stream",
     "text": [
      "76it [00:23,  3.26it/s]\n"
     ]
    },
    {
     "name": "stdout",
     "output_type": "stream",
     "text": [
      "CoNLL score dev set\n",
      "total 51578, correct 50986, accuracy 0.988522\n",
      "total unknown 713, correct 682, accuracy 0.956522\n",
      "processed 51578 tokens with 5942 phrases; found: 5947 phrases; correct: 5594.\n",
      "accuracy:  98.85%; precision:  94.06%; recall:  94.14%; FB1:  94.10\n",
      "              LOC: precision:  96.81%; recall:  95.92%; FB1:  96.36  1820\n",
      "             MISC: precision:  91.55%; recall:  88.18%; FB1:  89.83  888\n",
      "              ORG: precision:  89.15%; recall:  92.54%; FB1:  90.82  1392\n",
      "              PER: precision:  96.26%; recall:  96.53%; FB1:  96.39  1847\n",
      "\n",
      "CoNLL score test set\n",
      "total 46666, correct 45687, accuracy 0.979021\n",
      "total unknown 1143, correct 1075, accuracy 0.940507\n"
     ]
    },
    {
     "name": "stderr",
     "output_type": "stream",
     "text": [
      "0it [00:00, ?it/s]"
     ]
    },
    {
     "name": "stdout",
     "output_type": "stream",
     "text": [
      "processed 46666 tokens with 5648 phrases; found: 5679 phrases; correct: 5124.\n",
      "accuracy:  97.90%; precision:  90.23%; recall:  90.72%; FB1:  90.47\n",
      "              LOC: precision:  92.60%; recall:  92.27%; FB1:  92.43  1662\n",
      "             MISC: precision:  79.40%; recall:  79.06%; FB1:  79.23  699\n",
      "              ORG: precision:  86.03%; recall:  89.70%; FB1:  87.83  1732\n",
      "              PER: precision:  97.10%; recall:  95.24%; FB1:  96.16  1586\n",
      "\n",
      "Epoch 42/80\n"
     ]
    },
    {
     "name": "stderr",
     "output_type": "stream",
     "text": [
      "76it [00:23,  3.28it/s]\n"
     ]
    },
    {
     "name": "stdout",
     "output_type": "stream",
     "text": [
      "CoNLL score dev set\n",
      "total 51578, correct 50992, accuracy 0.988639\n",
      "total unknown 713, correct 685, accuracy 0.960729\n",
      "processed 51578 tokens with 5942 phrases; found: 5959 phrases; correct: 5605.\n",
      "accuracy:  98.86%; precision:  94.06%; recall:  94.33%; FB1:  94.19\n",
      "              LOC: precision:  96.14%; recall:  96.30%; FB1:  96.22  1840\n",
      "             MISC: precision:  89.75%; recall:  88.29%; FB1:  89.01  907\n",
      "              ORG: precision:  91.97%; recall:  91.35%; FB1:  91.66  1332\n",
      "              PER: precision:  95.59%; recall:  97.56%; FB1:  96.56  1880\n",
      "\n",
      "CoNLL score test set\n",
      "total 46666, correct 45707, accuracy 0.979450\n",
      "total unknown 1143, correct 1077, accuracy 0.942257\n"
     ]
    },
    {
     "name": "stderr",
     "output_type": "stream",
     "text": [
      "0it [00:00, ?it/s]"
     ]
    },
    {
     "name": "stdout",
     "output_type": "stream",
     "text": [
      "processed 46666 tokens with 5648 phrases; found: 5666 phrases; correct: 5113.\n",
      "accuracy:  97.94%; precision:  90.24%; recall:  90.53%; FB1:  90.38\n",
      "              LOC: precision:  91.04%; recall:  93.17%; FB1:  92.09  1707\n",
      "             MISC: precision:  78.66%; recall:  80.34%; FB1:  79.49  717\n",
      "              ORG: precision:  88.79%; recall:  87.24%; FB1:  88.00  1632\n",
      "              PER: precision:  96.02%; recall:  95.61%; FB1:  95.82  1610\n",
      "\n",
      "Epoch 43/80\n"
     ]
    },
    {
     "name": "stderr",
     "output_type": "stream",
     "text": [
      "76it [00:22,  3.40it/s]\n"
     ]
    },
    {
     "name": "stdout",
     "output_type": "stream",
     "text": [
      "CoNLL score dev set\n",
      "total 51578, correct 51010, accuracy 0.988988\n",
      "total unknown 713, correct 680, accuracy 0.953717\n",
      "processed 51578 tokens with 5942 phrases; found: 5964 phrases; correct: 5620.\n",
      "accuracy:  98.90%; precision:  94.23%; recall:  94.58%; FB1:  94.41\n",
      "              LOC: precision:  97.04%; recall:  96.24%; FB1:  96.64  1822\n",
      "             MISC: precision:  89.95%; recall:  89.26%; FB1:  89.60  915\n",
      "              ORG: precision:  90.64%; recall:  92.47%; FB1:  91.55  1368\n",
      "              PER: precision:  96.23%; recall:  97.12%; FB1:  96.68  1859\n",
      "\n",
      "CoNLL score test set\n",
      "total 46666, correct 45707, accuracy 0.979450\n",
      "total unknown 1143, correct 1080, accuracy 0.944882\n"
     ]
    },
    {
     "name": "stderr",
     "output_type": "stream",
     "text": [
      "0it [00:00, ?it/s]"
     ]
    },
    {
     "name": "stdout",
     "output_type": "stream",
     "text": [
      "processed 46666 tokens with 5648 phrases; found: 5675 phrases; correct: 5128.\n",
      "accuracy:  97.94%; precision:  90.36%; recall:  90.79%; FB1:  90.58\n",
      "              LOC: precision:  92.17%; recall:  93.17%; FB1:  92.67  1686\n",
      "             MISC: precision:  78.06%; recall:  80.06%; FB1:  79.04  720\n",
      "              ORG: precision:  87.54%; recall:  88.80%; FB1:  88.16  1685\n",
      "              PER: precision:  97.03%; recall:  95.05%; FB1:  96.03  1584\n",
      "\n",
      "Epoch 44/80\n"
     ]
    },
    {
     "name": "stderr",
     "output_type": "stream",
     "text": [
      "76it [00:21,  3.49it/s]\n"
     ]
    },
    {
     "name": "stdout",
     "output_type": "stream",
     "text": [
      "CoNLL score dev set\n",
      "total 51578, correct 50958, accuracy 0.987979\n",
      "total unknown 713, correct 680, accuracy 0.953717\n",
      "processed 51578 tokens with 5942 phrases; found: 5953 phrases; correct: 5591.\n",
      "accuracy:  98.80%; precision:  93.92%; recall:  94.09%; FB1:  94.01\n",
      "              LOC: precision:  95.90%; recall:  96.84%; FB1:  96.37  1855\n",
      "             MISC: precision:  90.76%; recall:  88.39%; FB1:  89.56  898\n",
      "              ORG: precision:  90.07%; recall:  90.60%; FB1:  90.33  1349\n",
      "              PER: precision:  96.27%; recall:  96.74%; FB1:  96.51  1851\n",
      "\n",
      "CoNLL score test set\n",
      "total 46666, correct 45633, accuracy 0.977864\n",
      "total unknown 1143, correct 1076, accuracy 0.941382\n"
     ]
    },
    {
     "name": "stderr",
     "output_type": "stream",
     "text": [
      "0it [00:00, ?it/s]"
     ]
    },
    {
     "name": "stdout",
     "output_type": "stream",
     "text": [
      "processed 46666 tokens with 5648 phrases; found: 5697 phrases; correct: 5106.\n",
      "accuracy:  97.79%; precision:  89.63%; recall:  90.40%; FB1:  90.01\n",
      "              LOC: precision:  90.03%; recall:  93.71%; FB1:  91.83  1736\n",
      "             MISC: precision:  80.03%; recall:  79.91%; FB1:  79.97  701\n",
      "              ORG: precision:  86.71%; recall:  87.18%; FB1:  86.94  1670\n",
      "              PER: precision:  96.48%; recall:  94.87%; FB1:  95.67  1590\n",
      "\n",
      "Epoch 45/80\n"
     ]
    },
    {
     "name": "stderr",
     "output_type": "stream",
     "text": [
      "76it [00:21,  3.54it/s]\n"
     ]
    },
    {
     "name": "stdout",
     "output_type": "stream",
     "text": [
      "CoNLL score dev set\n",
      "total 51578, correct 50994, accuracy 0.988677\n",
      "total unknown 713, correct 683, accuracy 0.957924\n",
      "processed 51578 tokens with 5942 phrases; found: 5947 phrases; correct: 5604.\n",
      "accuracy:  98.87%; precision:  94.23%; recall:  94.31%; FB1:  94.27\n",
      "              LOC: precision:  96.17%; recall:  96.95%; FB1:  96.56  1852\n",
      "             MISC: precision:  92.55%; recall:  87.64%; FB1:  90.03  873\n",
      "              ORG: precision:  90.49%; recall:  91.50%; FB1:  90.99  1356\n",
      "              PER: precision:  95.82%; recall:  97.07%; FB1:  96.44  1866\n",
      "\n",
      "CoNLL score test set\n",
      "total 46666, correct 45711, accuracy 0.979535\n",
      "total unknown 1143, correct 1073, accuracy 0.938758\n"
     ]
    },
    {
     "name": "stderr",
     "output_type": "stream",
     "text": [
      "0it [00:00, ?it/s]"
     ]
    },
    {
     "name": "stdout",
     "output_type": "stream",
     "text": [
      "processed 46666 tokens with 5648 phrases; found: 5667 phrases; correct: 5111.\n",
      "accuracy:  97.95%; precision:  90.19%; recall:  90.49%; FB1:  90.34\n",
      "              LOC: precision:  90.37%; recall:  93.41%; FB1:  91.86  1724\n",
      "             MISC: precision:  83.21%; recall:  79.06%; FB1:  81.08  667\n",
      "              ORG: precision:  86.82%; recall:  87.24%; FB1:  87.03  1669\n",
      "              PER: precision:  96.39%; recall:  95.79%; FB1:  96.09  1607\n",
      "\n",
      "Epoch 46/80\n"
     ]
    },
    {
     "name": "stderr",
     "output_type": "stream",
     "text": [
      "76it [00:21,  3.55it/s]\n"
     ]
    },
    {
     "name": "stdout",
     "output_type": "stream",
     "text": [
      "CoNLL score dev set\n",
      "total 51578, correct 50974, accuracy 0.988290\n",
      "total unknown 713, correct 675, accuracy 0.946704\n",
      "processed 51578 tokens with 5942 phrases; found: 5948 phrases; correct: 5590.\n",
      "accuracy:  98.83%; precision:  93.98%; recall:  94.08%; FB1:  94.03\n",
      "              LOC: precision:  95.89%; recall:  96.52%; FB1:  96.20  1849\n",
      "             MISC: precision:  89.00%; recall:  89.48%; FB1:  89.24  927\n",
      "              ORG: precision:  91.44%; recall:  90.75%; FB1:  91.09  1331\n",
      "              PER: precision:  96.41%; recall:  96.36%; FB1:  96.39  1841\n",
      "\n",
      "CoNLL score test set\n",
      "total 46666, correct 45725, accuracy 0.979835\n",
      "total unknown 1143, correct 1081, accuracy 0.945757\n"
     ]
    },
    {
     "name": "stderr",
     "output_type": "stream",
     "text": [
      "0it [00:00, ?it/s]"
     ]
    },
    {
     "name": "stdout",
     "output_type": "stream",
     "text": [
      "processed 46666 tokens with 5648 phrases; found: 5642 phrases; correct: 5090.\n",
      "accuracy:  97.98%; precision:  90.22%; recall:  90.12%; FB1:  90.17\n",
      "              LOC: precision:  90.53%; recall:  93.47%; FB1:  91.98  1722\n",
      "             MISC: precision:  77.54%; recall:  81.62%; FB1:  79.53  739\n",
      "              ORG: precision:  88.69%; recall:  86.39%; FB1:  87.53  1618\n",
      "              PER: precision:  97.44%; recall:  94.19%; FB1:  95.79  1563\n",
      "\n",
      "Epoch 47/80\n"
     ]
    },
    {
     "name": "stderr",
     "output_type": "stream",
     "text": [
      "76it [00:21,  3.58it/s]\n"
     ]
    },
    {
     "name": "stdout",
     "output_type": "stream",
     "text": [
      "CoNLL score dev set\n",
      "total 51578, correct 51016, accuracy 0.989104\n",
      "total unknown 713, correct 680, accuracy 0.953717\n",
      "processed 51578 tokens with 5942 phrases; found: 5934 phrases; correct: 5608.\n",
      "accuracy:  98.91%; precision:  94.51%; recall:  94.38%; FB1:  94.44\n",
      "              LOC: precision:  96.80%; recall:  97.01%; FB1:  96.90  1841\n",
      "             MISC: precision:  90.48%; recall:  88.61%; FB1:  89.53  903\n",
      "              ORG: precision:  92.16%; recall:  92.10%; FB1:  92.13  1340\n",
      "              PER: precision:  95.89%; recall:  96.31%; FB1:  96.10  1850\n",
      "\n",
      "CoNLL score test set\n",
      "total 46666, correct 45731, accuracy 0.979964\n",
      "total unknown 1143, correct 1076, accuracy 0.941382\n"
     ]
    },
    {
     "name": "stderr",
     "output_type": "stream",
     "text": [
      "0it [00:00, ?it/s]"
     ]
    },
    {
     "name": "stdout",
     "output_type": "stream",
     "text": [
      "processed 46666 tokens with 5648 phrases; found: 5642 phrases; correct: 5119.\n",
      "accuracy:  98.00%; precision:  90.73%; recall:  90.63%; FB1:  90.68\n",
      "              LOC: precision:  91.39%; recall:  93.53%; FB1:  92.44  1707\n",
      "             MISC: precision:  80.32%; recall:  79.63%; FB1:  79.97  696\n",
      "              ORG: precision:  88.16%; recall:  87.90%; FB1:  88.03  1656\n",
      "              PER: precision:  97.28%; recall:  95.24%; FB1:  96.25  1583\n",
      "\n",
      "Epoch 48/80\n"
     ]
    },
    {
     "name": "stderr",
     "output_type": "stream",
     "text": [
      "76it [00:23,  3.25it/s]\n"
     ]
    },
    {
     "name": "stdout",
     "output_type": "stream",
     "text": [
      "CoNLL score dev set\n",
      "total 51578, correct 51014, accuracy 0.989065\n",
      "total unknown 713, correct 682, accuracy 0.956522\n",
      "processed 51578 tokens with 5942 phrases; found: 5975 phrases; correct: 5617.\n",
      "accuracy:  98.91%; precision:  94.01%; recall:  94.53%; FB1:  94.27\n",
      "              LOC: precision:  96.62%; recall:  96.35%; FB1:  96.48  1832\n",
      "             MISC: precision:  88.90%; recall:  89.48%; FB1:  89.19  928\n",
      "              ORG: precision:  90.85%; recall:  92.54%; FB1:  91.69  1366\n",
      "              PER: precision:  96.32%; recall:  96.69%; FB1:  96.51  1849\n",
      "\n",
      "CoNLL score test set\n",
      "total 46666, correct 45692, accuracy 0.979128\n",
      "total unknown 1143, correct 1076, accuracy 0.941382\n"
     ]
    },
    {
     "name": "stderr",
     "output_type": "stream",
     "text": [
      "0it [00:00, ?it/s]"
     ]
    },
    {
     "name": "stdout",
     "output_type": "stream",
     "text": [
      "processed 46666 tokens with 5648 phrases; found: 5691 phrases; correct: 5127.\n",
      "accuracy:  97.91%; precision:  90.09%; recall:  90.78%; FB1:  90.43\n",
      "              LOC: precision:  92.23%; recall:  92.57%; FB1:  92.40  1674\n",
      "             MISC: precision:  79.17%; recall:  81.77%; FB1:  80.45  725\n",
      "              ORG: precision:  86.26%; recall:  88.44%; FB1:  87.34  1703\n",
      "              PER: precision:  96.92%; recall:  95.24%; FB1:  96.07  1589\n",
      "\n",
      "Epoch 49/80\n"
     ]
    },
    {
     "name": "stderr",
     "output_type": "stream",
     "text": [
      "76it [00:23,  3.27it/s]\n"
     ]
    },
    {
     "name": "stdout",
     "output_type": "stream",
     "text": [
      "CoNLL score dev set\n",
      "total 51578, correct 51029, accuracy 0.989356\n",
      "total unknown 713, correct 680, accuracy 0.953717\n",
      "processed 51578 tokens with 5942 phrases; found: 5959 phrases; correct: 5613.\n",
      "accuracy:  98.94%; precision:  94.19%; recall:  94.46%; FB1:  94.33\n",
      "              LOC: precision:  97.77%; recall:  95.59%; FB1:  96.67  1796\n",
      "             MISC: precision:  91.24%; recall:  89.26%; FB1:  90.24  902\n",
      "              ORG: precision:  88.91%; recall:  93.29%; FB1:  91.05  1407\n",
      "              PER: precision:  96.17%; recall:  96.80%; FB1:  96.48  1854\n",
      "\n",
      "CoNLL score test set\n",
      "total 46666, correct 45710, accuracy 0.979514\n",
      "total unknown 1143, correct 1079, accuracy 0.944007\n"
     ]
    },
    {
     "name": "stderr",
     "output_type": "stream",
     "text": [
      "0it [00:00, ?it/s]"
     ]
    },
    {
     "name": "stdout",
     "output_type": "stream",
     "text": [
      "processed 46666 tokens with 5648 phrases; found: 5683 phrases; correct: 5135.\n",
      "accuracy:  97.95%; precision:  90.36%; recall:  90.92%; FB1:  90.64\n",
      "              LOC: precision:  94.00%; recall:  92.09%; FB1:  93.03  1634\n",
      "             MISC: precision:  78.43%; recall:  79.77%; FB1:  79.10  714\n",
      "              ORG: precision:  85.78%; recall:  90.07%; FB1:  87.87  1744\n",
      "              PER: precision:  96.98%; recall:  95.42%; FB1:  96.20  1591\n",
      "\n",
      "Epoch 50/80\n"
     ]
    },
    {
     "name": "stderr",
     "output_type": "stream",
     "text": [
      "76it [00:22,  3.43it/s]\n"
     ]
    },
    {
     "name": "stdout",
     "output_type": "stream",
     "text": [
      "CoNLL score dev set\n",
      "total 51578, correct 51029, accuracy 0.989356\n",
      "total unknown 713, correct 687, accuracy 0.963534\n",
      "processed 51578 tokens with 5942 phrases; found: 5961 phrases; correct: 5627.\n",
      "accuracy:  98.94%; precision:  94.40%; recall:  94.70%; FB1:  94.55\n",
      "              LOC: precision:  96.89%; recall:  96.62%; FB1:  96.76  1832\n",
      "             MISC: precision:  90.43%; recall:  89.15%; FB1:  89.79  909\n",
      "              ORG: precision:  91.83%; recall:  92.24%; FB1:  92.04  1347\n",
      "              PER: precision:  95.73%; recall:  97.34%; FB1:  96.53  1873\n",
      "\n",
      "CoNLL score test set\n",
      "total 46666, correct 45733, accuracy 0.980007\n",
      "total unknown 1143, correct 1080, accuracy 0.944882\n"
     ]
    },
    {
     "name": "stderr",
     "output_type": "stream",
     "text": [
      "0it [00:00, ?it/s]"
     ]
    },
    {
     "name": "stdout",
     "output_type": "stream",
     "text": [
      "processed 46666 tokens with 5648 phrases; found: 5670 phrases; correct: 5134.\n",
      "accuracy:  98.00%; precision:  90.55%; recall:  90.90%; FB1:  90.72\n",
      "              LOC: precision:  91.50%; recall:  92.99%; FB1:  92.24  1695\n",
      "             MISC: precision:  78.55%; recall:  80.34%; FB1:  79.44  718\n",
      "              ORG: precision:  89.14%; recall:  88.44%; FB1:  88.79  1648\n",
      "              PER: precision:  96.33%; recall:  95.86%; FB1:  96.09  1609\n",
      "\n",
      "Epoch 51/80\n"
     ]
    },
    {
     "name": "stderr",
     "output_type": "stream",
     "text": [
      "76it [00:22,  3.37it/s]\n"
     ]
    },
    {
     "name": "stdout",
     "output_type": "stream",
     "text": [
      "CoNLL score dev set\n",
      "total 51578, correct 51014, accuracy 0.989065\n",
      "total unknown 713, correct 683, accuracy 0.957924\n",
      "processed 51578 tokens with 5942 phrases; found: 5965 phrases; correct: 5616.\n",
      "accuracy:  98.91%; precision:  94.15%; recall:  94.51%; FB1:  94.33\n",
      "              LOC: precision:  95.97%; recall:  97.22%; FB1:  96.59  1861\n",
      "             MISC: precision:  90.50%; recall:  88.83%; FB1:  89.66  905\n",
      "              ORG: precision:  91.20%; recall:  91.95%; FB1:  91.57  1352\n",
      "              PER: precision:  96.26%; recall:  96.53%; FB1:  96.39  1847\n",
      "\n",
      "CoNLL score test set\n",
      "total 46666, correct 45721, accuracy 0.979750\n",
      "total unknown 1143, correct 1074, accuracy 0.939633\n"
     ]
    },
    {
     "name": "stderr",
     "output_type": "stream",
     "text": [
      "0it [00:00, ?it/s]"
     ]
    },
    {
     "name": "stdout",
     "output_type": "stream",
     "text": [
      "processed 46666 tokens with 5648 phrases; found: 5679 phrases; correct: 5119.\n",
      "accuracy:  97.97%; precision:  90.14%; recall:  90.63%; FB1:  90.39\n",
      "              LOC: precision:  90.22%; recall:  94.00%; FB1:  92.07  1738\n",
      "             MISC: precision:  79.97%; recall:  79.63%; FB1:  79.80  699\n",
      "              ORG: precision:  87.97%; recall:  88.08%; FB1:  88.03  1663\n",
      "              PER: precision:  96.83%; recall:  94.56%; FB1:  95.68  1579\n",
      "\n",
      "Epoch 52/80\n"
     ]
    },
    {
     "name": "stderr",
     "output_type": "stream",
     "text": [
      "76it [00:21,  3.55it/s]\n"
     ]
    },
    {
     "name": "stdout",
     "output_type": "stream",
     "text": [
      "CoNLL score dev set\n",
      "total 51578, correct 51022, accuracy 0.989220\n",
      "total unknown 713, correct 679, accuracy 0.952314\n",
      "processed 51578 tokens with 5942 phrases; found: 5947 phrases; correct: 5603.\n",
      "accuracy:  98.92%; precision:  94.22%; recall:  94.29%; FB1:  94.26\n",
      "              LOC: precision:  96.86%; recall:  95.70%; FB1:  96.28  1815\n",
      "             MISC: precision:  89.16%; recall:  90.13%; FB1:  89.64  932\n",
      "              ORG: precision:  90.34%; recall:  92.77%; FB1:  91.54  1377\n",
      "              PER: precision:  97.09%; recall:  96.09%; FB1:  96.59  1823\n",
      "\n",
      "CoNLL score test set\n",
      "total 46666, correct 45692, accuracy 0.979128\n",
      "total unknown 1143, correct 1077, accuracy 0.942257\n"
     ]
    },
    {
     "name": "stderr",
     "output_type": "stream",
     "text": [
      "0it [00:00, ?it/s]"
     ]
    },
    {
     "name": "stdout",
     "output_type": "stream",
     "text": [
      "processed 46666 tokens with 5648 phrases; found: 5657 phrases; correct: 5107.\n",
      "accuracy:  97.91%; precision:  90.28%; recall:  90.42%; FB1:  90.35\n",
      "              LOC: precision:  93.24%; recall:  92.57%; FB1:  92.90  1656\n",
      "             MISC: precision:  76.99%; recall:  82.48%; FB1:  79.64  752\n",
      "              ORG: precision:  86.68%; recall:  88.92%; FB1:  87.79  1704\n",
      "              PER: precision:  97.54%; recall:  93.20%; FB1:  95.32  1545\n",
      "\n",
      "Epoch 53/80\n"
     ]
    },
    {
     "name": "stderr",
     "output_type": "stream",
     "text": [
      "76it [00:22,  3.39it/s]\n"
     ]
    },
    {
     "name": "stdout",
     "output_type": "stream",
     "text": [
      "CoNLL score dev set\n",
      "total 51578, correct 50999, accuracy 0.988774\n",
      "total unknown 713, correct 676, accuracy 0.948107\n",
      "processed 51578 tokens with 5942 phrases; found: 5933 phrases; correct: 5597.\n",
      "accuracy:  98.88%; precision:  94.34%; recall:  94.19%; FB1:  94.27\n",
      "              LOC: precision:  97.56%; recall:  95.81%; FB1:  96.68  1804\n",
      "             MISC: precision:  91.62%; recall:  88.94%; FB1:  90.26  895\n",
      "              ORG: precision:  88.67%; recall:  92.77%; FB1:  90.67  1403\n",
      "              PER: precision:  96.83%; recall:  96.25%; FB1:  96.54  1831\n",
      "\n",
      "CoNLL score test set\n",
      "total 46666, correct 45682, accuracy 0.978914\n",
      "total unknown 1143, correct 1076, accuracy 0.941382\n"
     ]
    },
    {
     "name": "stderr",
     "output_type": "stream",
     "text": [
      "0it [00:00, ?it/s]"
     ]
    },
    {
     "name": "stdout",
     "output_type": "stream",
     "text": [
      "processed 46666 tokens with 5648 phrases; found: 5662 phrases; correct: 5115.\n",
      "accuracy:  97.89%; precision:  90.34%; recall:  90.56%; FB1:  90.45\n",
      "              LOC: precision:  93.26%; recall:  92.15%; FB1:  92.70  1648\n",
      "             MISC: precision:  80.32%; recall:  79.63%; FB1:  79.97  696\n",
      "              ORG: precision:  85.30%; recall:  89.77%; FB1:  87.47  1748\n",
      "              PER: precision:  97.32%; recall:  94.50%; FB1:  95.89  1570\n",
      "\n",
      "Epoch 54/80\n"
     ]
    },
    {
     "name": "stderr",
     "output_type": "stream",
     "text": [
      "76it [00:22,  3.44it/s]\n"
     ]
    },
    {
     "name": "stdout",
     "output_type": "stream",
     "text": [
      "CoNLL score dev set\n",
      "total 51578, correct 51017, accuracy 0.989123\n",
      "total unknown 713, correct 686, accuracy 0.962132\n",
      "processed 51578 tokens with 5942 phrases; found: 5939 phrases; correct: 5617.\n",
      "accuracy:  98.91%; precision:  94.58%; recall:  94.53%; FB1:  94.55\n",
      "              LOC: precision:  96.83%; recall:  96.57%; FB1:  96.70  1832\n",
      "             MISC: precision:  90.32%; recall:  90.02%; FB1:  90.17  919\n",
      "              ORG: precision:  92.08%; recall:  91.95%; FB1:  92.01  1339\n",
      "              PER: precision:  96.27%; recall:  96.63%; FB1:  96.45  1849\n",
      "\n",
      "CoNLL score test set\n",
      "total 46666, correct 45699, accuracy 0.979278\n",
      "total unknown 1143, correct 1082, accuracy 0.946632\n"
     ]
    },
    {
     "name": "stderr",
     "output_type": "stream",
     "text": [
      "0it [00:00, ?it/s]"
     ]
    },
    {
     "name": "stdout",
     "output_type": "stream",
     "text": [
      "processed 46666 tokens with 5648 phrases; found: 5673 phrases; correct: 5118.\n",
      "accuracy:  97.93%; precision:  90.22%; recall:  90.62%; FB1:  90.42\n",
      "              LOC: precision:  90.91%; recall:  93.53%; FB1:  92.20  1716\n",
      "             MISC: precision:  77.01%; recall:  80.63%; FB1:  78.78  735\n",
      "              ORG: precision:  88.79%; recall:  87.24%; FB1:  88.00  1632\n",
      "              PER: precision:  97.04%; recall:  95.42%; FB1:  96.23  1590\n",
      "\n",
      "Epoch 55/80\n"
     ]
    },
    {
     "name": "stderr",
     "output_type": "stream",
     "text": [
      "76it [00:22,  3.33it/s]\n"
     ]
    },
    {
     "name": "stdout",
     "output_type": "stream",
     "text": [
      "CoNLL score dev set\n",
      "total 51578, correct 51038, accuracy 0.989530\n",
      "total unknown 713, correct 680, accuracy 0.953717\n",
      "processed 51578 tokens with 5942 phrases; found: 5929 phrases; correct: 5607.\n",
      "accuracy:  98.95%; precision:  94.57%; recall:  94.36%; FB1:  94.47\n",
      "              LOC: precision:  96.93%; recall:  96.19%; FB1:  96.56  1823\n",
      "             MISC: precision:  89.31%; recall:  89.70%; FB1:  89.50  926\n",
      "              ORG: precision:  92.53%; recall:  92.32%; FB1:  92.42  1338\n",
      "              PER: precision:  96.36%; recall:  96.36%; FB1:  96.36  1842\n",
      "\n",
      "CoNLL score test set\n",
      "total 46666, correct 45747, accuracy 0.980307\n",
      "total unknown 1143, correct 1081, accuracy 0.945757\n"
     ]
    },
    {
     "name": "stderr",
     "output_type": "stream",
     "text": [
      "0it [00:00, ?it/s]"
     ]
    },
    {
     "name": "stdout",
     "output_type": "stream",
     "text": [
      "processed 46666 tokens with 5648 phrases; found: 5636 phrases; correct: 5119.\n",
      "accuracy:  98.03%; precision:  90.83%; recall:  90.63%; FB1:  90.73\n",
      "              LOC: precision:  91.81%; recall:  93.47%; FB1:  92.63  1698\n",
      "             MISC: precision:  77.96%; recall:  81.62%; FB1:  79.75  735\n",
      "              ORG: precision:  89.61%; recall:  87.78%; FB1:  88.69  1627\n",
      "              PER: precision:  97.02%; recall:  94.56%; FB1:  95.77  1576\n",
      "\n",
      "Epoch 56/80\n"
     ]
    },
    {
     "name": "stderr",
     "output_type": "stream",
     "text": [
      "76it [00:22,  3.45it/s]\n"
     ]
    },
    {
     "name": "stdout",
     "output_type": "stream",
     "text": [
      "CoNLL score dev set\n",
      "total 51578, correct 51032, accuracy 0.989414\n",
      "total unknown 713, correct 682, accuracy 0.956522\n",
      "processed 51578 tokens with 5942 phrases; found: 5936 phrases; correct: 5616.\n",
      "accuracy:  98.94%; precision:  94.61%; recall:  94.51%; FB1:  94.56\n",
      "              LOC: precision:  96.78%; recall:  96.52%; FB1:  96.65  1832\n",
      "             MISC: precision:  90.65%; recall:  89.37%; FB1:  90.01  909\n",
      "              ORG: precision:  91.67%; recall:  92.69%; FB1:  92.18  1356\n",
      "              PER: precision:  96.57%; recall:  96.42%; FB1:  96.50  1839\n",
      "\n",
      "CoNLL score test set\n",
      "total 46666, correct 45737, accuracy 0.980093\n",
      "total unknown 1143, correct 1080, accuracy 0.944882\n"
     ]
    },
    {
     "name": "stderr",
     "output_type": "stream",
     "text": [
      "0it [00:00, ?it/s]"
     ]
    },
    {
     "name": "stdout",
     "output_type": "stream",
     "text": [
      "processed 46666 tokens with 5648 phrases; found: 5662 phrases; correct: 5135.\n",
      "accuracy:  98.01%; precision:  90.69%; recall:  90.92%; FB1:  90.80\n",
      "              LOC: precision:  91.78%; recall:  93.76%; FB1:  92.76  1704\n",
      "             MISC: precision:  80.03%; recall:  81.05%; FB1:  80.54  711\n",
      "              ORG: precision:  88.29%; recall:  88.08%; FB1:  88.19  1657\n",
      "              PER: precision:  96.79%; recall:  95.18%; FB1:  95.98  1590\n",
      "\n",
      "Epoch 57/80\n"
     ]
    },
    {
     "name": "stderr",
     "output_type": "stream",
     "text": [
      "76it [00:21,  3.58it/s]\n"
     ]
    },
    {
     "name": "stdout",
     "output_type": "stream",
     "text": [
      "CoNLL score dev set\n",
      "total 51578, correct 50993, accuracy 0.988658\n",
      "total unknown 713, correct 681, accuracy 0.955119\n",
      "processed 51578 tokens with 5942 phrases; found: 5929 phrases; correct: 5592.\n",
      "accuracy:  98.87%; precision:  94.32%; recall:  94.11%; FB1:  94.21\n",
      "              LOC: precision:  96.05%; recall:  96.68%; FB1:  96.36  1849\n",
      "             MISC: precision:  91.60%; recall:  87.53%; FB1:  89.52  881\n",
      "              ORG: precision:  91.64%; recall:  91.57%; FB1:  91.61  1340\n",
      "              PER: precision:  95.80%; recall:  96.69%; FB1:  96.24  1859\n",
      "\n",
      "CoNLL score test set\n",
      "total 46666, correct 45661, accuracy 0.978464\n",
      "total unknown 1143, correct 1074, accuracy 0.939633\n"
     ]
    },
    {
     "name": "stderr",
     "output_type": "stream",
     "text": [
      "0it [00:00, ?it/s]"
     ]
    },
    {
     "name": "stdout",
     "output_type": "stream",
     "text": [
      "processed 46666 tokens with 5648 phrases; found: 5658 phrases; correct: 5108.\n",
      "accuracy:  97.85%; precision:  90.28%; recall:  90.44%; FB1:  90.36\n",
      "              LOC: precision:  91.21%; recall:  93.88%; FB1:  92.53  1717\n",
      "             MISC: precision:  80.26%; recall:  79.34%; FB1:  79.80  694\n",
      "              ORG: precision:  87.76%; recall:  87.18%; FB1:  87.47  1650\n",
      "              PER: precision:  96.24%; recall:  95.05%; FB1:  95.64  1597\n",
      "\n",
      "Epoch 58/80\n"
     ]
    },
    {
     "name": "stderr",
     "output_type": "stream",
     "text": [
      "76it [00:21,  3.59it/s]\n"
     ]
    },
    {
     "name": "stdout",
     "output_type": "stream",
     "text": [
      "CoNLL score dev set\n",
      "total 51578, correct 51032, accuracy 0.989414\n",
      "total unknown 713, correct 683, accuracy 0.957924\n",
      "processed 51578 tokens with 5942 phrases; found: 5962 phrases; correct: 5622.\n",
      "accuracy:  98.94%; precision:  94.30%; recall:  94.61%; FB1:  94.46\n",
      "              LOC: precision:  96.53%; recall:  96.79%; FB1:  96.66  1842\n",
      "             MISC: precision:  90.34%; recall:  89.26%; FB1:  89.80  911\n",
      "              ORG: precision:  90.94%; recall:  92.77%; FB1:  91.84  1368\n",
      "              PER: precision:  96.52%; recall:  96.47%; FB1:  96.50  1841\n",
      "\n",
      "CoNLL score test set\n",
      "total 46666, correct 45713, accuracy 0.979578\n",
      "total unknown 1143, correct 1078, accuracy 0.943132\n"
     ]
    },
    {
     "name": "stderr",
     "output_type": "stream",
     "text": [
      "0it [00:00, ?it/s]"
     ]
    },
    {
     "name": "stdout",
     "output_type": "stream",
     "text": [
      "processed 46666 tokens with 5648 phrases; found: 5685 phrases; correct: 5122.\n",
      "accuracy:  97.96%; precision:  90.10%; recall:  90.69%; FB1:  90.39\n",
      "              LOC: precision:  90.96%; recall:  93.53%; FB1:  92.23  1715\n",
      "             MISC: precision:  78.70%; recall:  81.05%; FB1:  79.86  723\n",
      "              ORG: precision:  87.40%; recall:  88.14%; FB1:  87.77  1675\n",
      "              PER: precision:  97.26%; recall:  94.56%; FB1:  95.89  1572\n",
      "\n",
      "Epoch 59/80\n"
     ]
    },
    {
     "name": "stderr",
     "output_type": "stream",
     "text": [
      "76it [00:20,  3.62it/s]\n"
     ]
    },
    {
     "name": "stdout",
     "output_type": "stream",
     "text": [
      "CoNLL score dev set\n",
      "total 51578, correct 50997, accuracy 0.988736\n",
      "total unknown 713, correct 678, accuracy 0.950912\n",
      "processed 51578 tokens with 5942 phrases; found: 5926 phrases; correct: 5597.\n",
      "accuracy:  98.87%; precision:  94.45%; recall:  94.19%; FB1:  94.32\n",
      "              LOC: precision:  97.39%; recall:  95.59%; FB1:  96.48  1803\n",
      "             MISC: precision:  92.40%; recall:  88.29%; FB1:  90.29  881\n",
      "              ORG: precision:  89.42%; recall:  92.69%; FB1:  91.03  1390\n",
      "              PER: precision:  96.33%; recall:  96.85%; FB1:  96.59  1852\n",
      "\n",
      "CoNLL score test set\n",
      "total 46666, correct 45709, accuracy 0.979493\n",
      "total unknown 1143, correct 1080, accuracy 0.944882\n"
     ]
    },
    {
     "name": "stderr",
     "output_type": "stream",
     "text": [
      "0it [00:00, ?it/s]"
     ]
    },
    {
     "name": "stdout",
     "output_type": "stream",
     "text": [
      "processed 46666 tokens with 5648 phrases; found: 5657 phrases; correct: 5122.\n",
      "accuracy:  97.95%; precision:  90.54%; recall:  90.69%; FB1:  90.61\n",
      "              LOC: precision:  92.90%; recall:  92.57%; FB1:  92.73  1662\n",
      "             MISC: precision:  82.38%; recall:  79.91%; FB1:  81.13  681\n",
      "              ORG: precision:  85.57%; recall:  89.28%; FB1:  87.39  1733\n",
      "              PER: precision:  97.03%; recall:  94.87%; FB1:  95.93  1581\n",
      "\n",
      "Epoch 60/80\n"
     ]
    },
    {
     "name": "stderr",
     "output_type": "stream",
     "text": [
      "76it [00:21,  3.55it/s]\n"
     ]
    },
    {
     "name": "stdout",
     "output_type": "stream",
     "text": [
      "CoNLL score dev set\n",
      "total 51578, correct 51004, accuracy 0.988871\n",
      "total unknown 713, correct 677, accuracy 0.949509\n",
      "processed 51578 tokens with 5942 phrases; found: 5928 phrases; correct: 5599.\n",
      "accuracy:  98.89%; precision:  94.45%; recall:  94.23%; FB1:  94.34\n",
      "              LOC: precision:  96.58%; recall:  96.95%; FB1:  96.77  1844\n",
      "             MISC: precision:  90.30%; recall:  87.85%; FB1:  89.06  897\n",
      "              ORG: precision:  92.50%; recall:  91.05%; FB1:  91.77  1320\n",
      "              PER: precision:  95.72%; recall:  97.01%; FB1:  96.36  1867\n",
      "\n",
      "CoNLL score test set\n",
      "total 46666, correct 45758, accuracy 0.980543\n",
      "total unknown 1143, correct 1081, accuracy 0.945757\n"
     ]
    },
    {
     "name": "stderr",
     "output_type": "stream",
     "text": [
      "0it [00:00, ?it/s]"
     ]
    },
    {
     "name": "stdout",
     "output_type": "stream",
     "text": [
      "processed 46666 tokens with 5648 phrases; found: 5626 phrases; correct: 5126.\n",
      "accuracy:  98.05%; precision:  91.11%; recall:  90.76%; FB1:  90.93\n",
      "              LOC: precision:  91.46%; recall:  93.76%; FB1:  92.60  1710\n",
      "             MISC: precision:  80.69%; recall:  80.34%; FB1:  80.51  699\n",
      "              ORG: precision:  89.95%; recall:  87.30%; FB1:  88.60  1612\n",
      "              PER: precision:  96.45%; recall:  95.73%; FB1:  96.09  1605\n",
      "\n",
      "Epoch 61/80\n"
     ]
    },
    {
     "name": "stderr",
     "output_type": "stream",
     "text": [
      "76it [00:21,  3.59it/s]\n"
     ]
    },
    {
     "name": "stdout",
     "output_type": "stream",
     "text": [
      "CoNLL score dev set\n",
      "total 51578, correct 50992, accuracy 0.988639\n",
      "total unknown 713, correct 682, accuracy 0.956522\n",
      "processed 51578 tokens with 5942 phrases; found: 5954 phrases; correct: 5608.\n",
      "accuracy:  98.86%; precision:  94.19%; recall:  94.38%; FB1:  94.28\n",
      "              LOC: precision:  97.25%; recall:  96.14%; FB1:  96.69  1816\n",
      "             MISC: precision:  90.88%; recall:  88.61%; FB1:  89.73  899\n",
      "              ORG: precision:  90.38%; recall:  91.80%; FB1:  91.08  1362\n",
      "              PER: precision:  95.58%; recall:  97.39%; FB1:  96.48  1877\n",
      "\n",
      "CoNLL score test set\n",
      "total 46666, correct 45695, accuracy 0.979193\n",
      "total unknown 1143, correct 1076, accuracy 0.941382\n"
     ]
    },
    {
     "name": "stderr",
     "output_type": "stream",
     "text": [
      "0it [00:00, ?it/s]"
     ]
    },
    {
     "name": "stdout",
     "output_type": "stream",
     "text": [
      "processed 46666 tokens with 5648 phrases; found: 5682 phrases; correct: 5129.\n",
      "accuracy:  97.92%; precision:  90.27%; recall:  90.81%; FB1:  90.54\n",
      "              LOC: precision:  93.06%; recall:  92.51%; FB1:  92.78  1658\n",
      "             MISC: precision:  79.27%; recall:  80.63%; FB1:  79.94  714\n",
      "              ORG: precision:  86.60%; recall:  88.32%; FB1:  87.45  1694\n",
      "              PER: precision:  96.10%; recall:  96.04%; FB1:  96.07  1616\n",
      "\n",
      "Epoch 62/80\n"
     ]
    },
    {
     "name": "stderr",
     "output_type": "stream",
     "text": [
      "76it [00:21,  3.51it/s]\n"
     ]
    },
    {
     "name": "stdout",
     "output_type": "stream",
     "text": [
      "CoNLL score dev set\n",
      "total 51578, correct 51034, accuracy 0.989453\n",
      "total unknown 713, correct 683, accuracy 0.957924\n",
      "processed 51578 tokens with 5942 phrases; found: 5937 phrases; correct: 5610.\n",
      "accuracy:  98.95%; precision:  94.49%; recall:  94.41%; FB1:  94.45\n",
      "              LOC: precision:  96.48%; recall:  96.90%; FB1:  96.69  1845\n",
      "             MISC: precision:  90.07%; recall:  88.50%; FB1:  89.28  906\n",
      "              ORG: precision:  91.89%; recall:  92.10%; FB1:  91.99  1344\n",
      "              PER: precision:  96.58%; recall:  96.58%; FB1:  96.58  1842\n",
      "\n",
      "CoNLL score test set\n",
      "total 46666, correct 45757, accuracy 0.980521\n",
      "total unknown 1143, correct 1081, accuracy 0.945757\n"
     ]
    },
    {
     "name": "stderr",
     "output_type": "stream",
     "text": [
      "0it [00:00, ?it/s]"
     ]
    },
    {
     "name": "stdout",
     "output_type": "stream",
     "text": [
      "processed 46666 tokens with 5648 phrases; found: 5654 phrases; correct: 5134.\n",
      "accuracy:  98.05%; precision:  90.80%; recall:  90.90%; FB1:  90.85\n",
      "              LOC: precision:  91.51%; recall:  93.71%; FB1:  92.59  1708\n",
      "             MISC: precision:  79.63%; recall:  80.77%; FB1:  80.20  712\n",
      "              ORG: precision:  88.71%; recall:  88.02%; FB1:  88.37  1648\n",
      "              PER: precision:  97.23%; recall:  95.36%; FB1:  96.28  1586\n",
      "\n",
      "Epoch 63/80\n"
     ]
    },
    {
     "name": "stderr",
     "output_type": "stream",
     "text": [
      "76it [00:21,  3.59it/s]\n"
     ]
    },
    {
     "name": "stdout",
     "output_type": "stream",
     "text": [
      "CoNLL score dev set\n",
      "total 51578, correct 51002, accuracy 0.988832\n",
      "total unknown 713, correct 682, accuracy 0.956522\n",
      "processed 51578 tokens with 5942 phrases; found: 5929 phrases; correct: 5596.\n",
      "accuracy:  98.88%; precision:  94.38%; recall:  94.18%; FB1:  94.28\n",
      "              LOC: precision:  96.83%; recall:  96.30%; FB1:  96.56  1827\n",
      "             MISC: precision:  90.45%; recall:  89.37%; FB1:  89.91  911\n",
      "              ORG: precision:  91.28%; recall:  91.35%; FB1:  91.32  1342\n",
      "              PER: precision:  96.16%; recall:  96.53%; FB1:  96.34  1849\n",
      "\n",
      "CoNLL score test set\n",
      "total 46666, correct 45712, accuracy 0.979557\n",
      "total unknown 1143, correct 1073, accuracy 0.938758\n"
     ]
    },
    {
     "name": "stderr",
     "output_type": "stream",
     "text": [
      "0it [00:00, ?it/s]"
     ]
    },
    {
     "name": "stdout",
     "output_type": "stream",
     "text": [
      "processed 46666 tokens with 5648 phrases; found: 5643 phrases; correct: 5117.\n",
      "accuracy:  97.96%; precision:  90.68%; recall:  90.60%; FB1:  90.64\n",
      "              LOC: precision:  92.15%; recall:  92.93%; FB1:  92.54  1682\n",
      "             MISC: precision:  78.70%; recall:  81.05%; FB1:  79.86  723\n",
      "              ORG: precision:  88.24%; recall:  87.60%; FB1:  87.92  1649\n",
      "              PER: precision:  97.11%; recall:  95.42%; FB1:  96.26  1589\n",
      "\n",
      "Epoch 64/80\n"
     ]
    },
    {
     "name": "stderr",
     "output_type": "stream",
     "text": [
      "76it [00:20,  3.67it/s]\n"
     ]
    },
    {
     "name": "stdout",
     "output_type": "stream",
     "text": [
      "CoNLL score dev set\n",
      "total 51578, correct 50999, accuracy 0.988774\n",
      "total unknown 713, correct 680, accuracy 0.953717\n",
      "processed 51578 tokens with 5942 phrases; found: 5937 phrases; correct: 5595.\n",
      "accuracy:  98.88%; precision:  94.24%; recall:  94.16%; FB1:  94.20\n",
      "              LOC: precision:  95.85%; recall:  96.73%; FB1:  96.29  1854\n",
      "             MISC: precision:  91.11%; recall:  87.85%; FB1:  89.45  889\n",
      "              ORG: precision:  90.70%; recall:  92.39%; FB1:  91.54  1366\n",
      "              PER: precision:  96.77%; recall:  96.04%; FB1:  96.40  1828\n",
      "\n",
      "CoNLL score test set\n",
      "total 46666, correct 45709, accuracy 0.979493\n",
      "total unknown 1143, correct 1066, accuracy 0.932633\n"
     ]
    },
    {
     "name": "stderr",
     "output_type": "stream",
     "text": [
      "0it [00:00, ?it/s]"
     ]
    },
    {
     "name": "stdout",
     "output_type": "stream",
     "text": [
      "processed 46666 tokens with 5648 phrases; found: 5640 phrases; correct: 5098.\n",
      "accuracy:  97.95%; precision:  90.39%; recall:  90.26%; FB1:  90.33\n",
      "              LOC: precision:  90.13%; recall:  93.59%; FB1:  91.82  1732\n",
      "             MISC: precision:  80.61%; recall:  78.77%; FB1:  79.68  686\n",
      "              ORG: precision:  88.05%; recall:  87.84%; FB1:  87.94  1657\n",
      "              PER: precision:  97.44%; recall:  94.31%; FB1:  95.85  1565\n",
      "\n",
      "Epoch 65/80\n"
     ]
    },
    {
     "name": "stderr",
     "output_type": "stream",
     "text": [
      "76it [00:20,  3.66it/s]\n"
     ]
    },
    {
     "name": "stdout",
     "output_type": "stream",
     "text": [
      "CoNLL score dev set\n",
      "total 51578, correct 51014, accuracy 0.989065\n",
      "total unknown 713, correct 682, accuracy 0.956522\n",
      "processed 51578 tokens with 5942 phrases; found: 5944 phrases; correct: 5602.\n",
      "accuracy:  98.91%; precision:  94.25%; recall:  94.28%; FB1:  94.26\n",
      "              LOC: precision:  96.67%; recall:  96.52%; FB1:  96.59  1834\n",
      "             MISC: precision:  90.59%; recall:  88.72%; FB1:  89.64  903\n",
      "              ORG: precision:  90.22%; recall:  92.17%; FB1:  91.18  1370\n",
      "              PER: precision:  96.62%; recall:  96.36%; FB1:  96.49  1837\n",
      "\n",
      "CoNLL score test set\n",
      "total 46666, correct 45705, accuracy 0.979407\n",
      "total unknown 1143, correct 1077, accuracy 0.942257\n"
     ]
    },
    {
     "name": "stderr",
     "output_type": "stream",
     "text": [
      "0it [00:00, ?it/s]"
     ]
    },
    {
     "name": "stdout",
     "output_type": "stream",
     "text": [
      "processed 46666 tokens with 5648 phrases; found: 5668 phrases; correct: 5131.\n",
      "accuracy:  97.94%; precision:  90.53%; recall:  90.85%; FB1:  90.69\n",
      "              LOC: precision:  92.03%; recall:  93.41%; FB1:  92.71  1693\n",
      "             MISC: precision:  80.54%; recall:  81.34%; FB1:  80.94  709\n",
      "              ORG: precision:  86.74%; recall:  88.62%; FB1:  87.67  1697\n",
      "              PER: precision:  97.51%; recall:  94.62%; FB1:  96.05  1569\n",
      "\n",
      "Epoch 66/80\n"
     ]
    },
    {
     "name": "stderr",
     "output_type": "stream",
     "text": [
      "76it [00:20,  3.64it/s]\n"
     ]
    },
    {
     "name": "stdout",
     "output_type": "stream",
     "text": [
      "CoNLL score dev set\n",
      "total 51578, correct 50985, accuracy 0.988503\n",
      "total unknown 713, correct 681, accuracy 0.955119\n",
      "processed 51578 tokens with 5942 phrases; found: 5943 phrases; correct: 5597.\n",
      "accuracy:  98.85%; precision:  94.18%; recall:  94.19%; FB1:  94.19\n",
      "              LOC: precision:  97.45%; recall:  95.75%; FB1:  96.60  1805\n",
      "             MISC: precision:  90.62%; recall:  88.07%; FB1:  89.33  896\n",
      "              ORG: precision:  90.05%; recall:  92.47%; FB1:  91.24  1377\n",
      "              PER: precision:  95.76%; recall:  96.96%; FB1:  96.36  1865\n",
      "\n",
      "CoNLL score test set\n",
      "total 46666, correct 45709, accuracy 0.979493\n",
      "total unknown 1143, correct 1072, accuracy 0.937883\n"
     ]
    },
    {
     "name": "stderr",
     "output_type": "stream",
     "text": [
      "0it [00:00, ?it/s]"
     ]
    },
    {
     "name": "stdout",
     "output_type": "stream",
     "text": [
      "processed 46666 tokens with 5648 phrases; found: 5668 phrases; correct: 5112.\n",
      "accuracy:  97.95%; precision:  90.19%; recall:  90.51%; FB1:  90.35\n",
      "              LOC: precision:  92.49%; recall:  92.27%; FB1:  92.38  1664\n",
      "             MISC: precision:  79.89%; recall:  79.20%; FB1:  79.54  696\n",
      "              ORG: precision:  86.04%; recall:  89.04%; FB1:  87.51  1719\n",
      "              PER: precision:  96.79%; recall:  95.11%; FB1:  95.95  1589\n",
      "\n",
      "Epoch 67/80\n"
     ]
    },
    {
     "name": "stderr",
     "output_type": "stream",
     "text": [
      "76it [00:21,  3.62it/s]\n"
     ]
    },
    {
     "name": "stdout",
     "output_type": "stream",
     "text": [
      "CoNLL score dev set\n",
      "total 51578, correct 50974, accuracy 0.988290\n",
      "total unknown 713, correct 670, accuracy 0.939691\n",
      "processed 51578 tokens with 5942 phrases; found: 5949 phrases; correct: 5584.\n",
      "accuracy:  98.83%; precision:  93.86%; recall:  93.98%; FB1:  93.92\n",
      "              LOC: precision:  96.31%; recall:  96.68%; FB1:  96.50  1844\n",
      "             MISC: precision:  85.94%; recall:  90.13%; FB1:  87.98  967\n",
      "              ORG: precision:  92.64%; recall:  90.08%; FB1:  91.34  1304\n",
      "              PER: precision:  96.46%; recall:  96.04%; FB1:  96.25  1834\n",
      "\n",
      "CoNLL score test set\n",
      "total 46666, correct 45674, accuracy 0.978743\n",
      "total unknown 1143, correct 1069, accuracy 0.935258\n"
     ]
    },
    {
     "name": "stderr",
     "output_type": "stream",
     "text": [
      "0it [00:00, ?it/s]"
     ]
    },
    {
     "name": "stdout",
     "output_type": "stream",
     "text": [
      "processed 46666 tokens with 5648 phrases; found: 5675 phrases; correct: 5089.\n",
      "accuracy:  97.87%; precision:  89.67%; recall:  90.10%; FB1:  89.89\n",
      "              LOC: precision:  90.14%; recall:  93.76%; FB1:  91.92  1735\n",
      "             MISC: precision:  72.81%; recall:  82.76%; FB1:  77.47  798\n",
      "              ORG: precision:  90.18%; recall:  85.19%; FB1:  87.62  1569\n",
      "              PER: precision:  97.20%; recall:  94.56%; FB1:  95.86  1573\n",
      "\n",
      "Epoch 68/80\n"
     ]
    },
    {
     "name": "stderr",
     "output_type": "stream",
     "text": [
      "76it [00:20,  3.66it/s]\n"
     ]
    },
    {
     "name": "stdout",
     "output_type": "stream",
     "text": [
      "CoNLL score dev set\n",
      "total 51578, correct 51016, accuracy 0.989104\n",
      "total unknown 713, correct 684, accuracy 0.959327\n",
      "processed 51578 tokens with 5942 phrases; found: 5964 phrases; correct: 5622.\n",
      "accuracy:  98.91%; precision:  94.27%; recall:  94.61%; FB1:  94.44\n",
      "              LOC: precision:  96.79%; recall:  96.73%; FB1:  96.76  1836\n",
      "             MISC: precision:  91.19%; recall:  88.72%; FB1:  89.94  897\n",
      "              ORG: precision:  91.37%; recall:  92.32%; FB1:  91.84  1355\n",
      "              PER: precision:  95.36%; recall:  97.12%; FB1:  96.23  1876\n",
      "\n",
      "CoNLL score test set\n",
      "total 46666, correct 45733, accuracy 0.980007\n",
      "total unknown 1143, correct 1069, accuracy 0.935258\n"
     ]
    },
    {
     "name": "stderr",
     "output_type": "stream",
     "text": [
      "0it [00:00, ?it/s]"
     ]
    },
    {
     "name": "stdout",
     "output_type": "stream",
     "text": [
      "processed 46666 tokens with 5648 phrases; found: 5673 phrases; correct: 5125.\n",
      "accuracy:  98.00%; precision:  90.34%; recall:  90.74%; FB1:  90.54\n",
      "              LOC: precision:  90.50%; recall:  93.65%; FB1:  92.04  1726\n",
      "             MISC: precision:  80.84%; recall:  79.34%; FB1:  80.09  689\n",
      "              ORG: precision:  88.50%; recall:  87.54%; FB1:  88.01  1643\n",
      "              PER: precision:  96.10%; recall:  95.98%; FB1:  96.04  1615\n",
      "\n",
      "Epoch 69/80\n"
     ]
    },
    {
     "name": "stderr",
     "output_type": "stream",
     "text": [
      "76it [00:20,  3.69it/s]\n"
     ]
    },
    {
     "name": "stdout",
     "output_type": "stream",
     "text": [
      "CoNLL score dev set\n",
      "total 51578, correct 50948, accuracy 0.987785\n",
      "total unknown 713, correct 679, accuracy 0.952314\n",
      "processed 51578 tokens with 5942 phrases; found: 5944 phrases; correct: 5583.\n",
      "accuracy:  98.78%; precision:  93.93%; recall:  93.96%; FB1:  93.94\n",
      "              LOC: precision:  97.66%; recall:  95.26%; FB1:  96.45  1792\n",
      "             MISC: precision:  91.03%; recall:  88.07%; FB1:  89.53  892\n",
      "              ORG: precision:  88.75%; recall:  92.39%; FB1:  90.54  1396\n",
      "              PER: precision:  95.60%; recall:  96.74%; FB1:  96.17  1864\n",
      "\n",
      "CoNLL score test set\n",
      "total 46666, correct 45670, accuracy 0.978657\n",
      "total unknown 1143, correct 1071, accuracy 0.937008\n"
     ]
    },
    {
     "name": "stderr",
     "output_type": "stream",
     "text": [
      "0it [00:00, ?it/s]"
     ]
    },
    {
     "name": "stdout",
     "output_type": "stream",
     "text": [
      "processed 46666 tokens with 5648 phrases; found: 5653 phrases; correct: 5104.\n",
      "accuracy:  97.87%; precision:  90.29%; recall:  90.37%; FB1:  90.33\n",
      "              LOC: precision:  93.47%; recall:  91.85%; FB1:  92.65  1639\n",
      "             MISC: precision:  81.87%; recall:  79.77%; FB1:  80.81  684\n",
      "              ORG: precision:  85.04%; recall:  88.62%; FB1:  86.79  1731\n",
      "              PER: precision:  96.31%; recall:  95.24%; FB1:  95.77  1599\n",
      "\n",
      "Epoch 70/80\n"
     ]
    },
    {
     "name": "stderr",
     "output_type": "stream",
     "text": [
      "76it [00:21,  3.61it/s]\n"
     ]
    },
    {
     "name": "stdout",
     "output_type": "stream",
     "text": [
      "CoNLL score dev set\n",
      "total 51578, correct 51004, accuracy 0.988871\n",
      "total unknown 713, correct 684, accuracy 0.959327\n",
      "processed 51578 tokens with 5942 phrases; found: 5937 phrases; correct: 5605.\n",
      "accuracy:  98.89%; precision:  94.41%; recall:  94.33%; FB1:  94.37\n",
      "              LOC: precision:  96.78%; recall:  96.41%; FB1:  96.59  1830\n",
      "             MISC: precision:  90.31%; recall:  88.94%; FB1:  89.62  908\n",
      "              ORG: precision:  90.95%; recall:  92.17%; FB1:  91.56  1359\n",
      "              PER: precision:  96.63%; recall:  96.53%; FB1:  96.58  1840\n",
      "\n",
      "CoNLL score test set\n",
      "total 46666, correct 45734, accuracy 0.980028\n",
      "total unknown 1143, correct 1074, accuracy 0.939633\n"
     ]
    },
    {
     "name": "stderr",
     "output_type": "stream",
     "text": [
      "0it [00:00, ?it/s]"
     ]
    },
    {
     "name": "stdout",
     "output_type": "stream",
     "text": [
      "processed 46666 tokens with 5648 phrases; found: 5649 phrases; correct: 5127.\n",
      "accuracy:  98.00%; precision:  90.76%; recall:  90.78%; FB1:  90.77\n",
      "              LOC: precision:  91.99%; recall:  93.65%; FB1:  92.81  1698\n",
      "             MISC: precision:  80.29%; recall:  80.06%; FB1:  80.17  700\n",
      "              ORG: precision:  88.03%; recall:  88.14%; FB1:  88.09  1663\n",
      "              PER: precision:  96.91%; recall:  95.18%; FB1:  96.04  1588\n",
      "\n",
      "Epoch 71/80\n"
     ]
    },
    {
     "name": "stderr",
     "output_type": "stream",
     "text": [
      "76it [00:20,  3.65it/s]\n"
     ]
    },
    {
     "name": "stdout",
     "output_type": "stream",
     "text": [
      "CoNLL score dev set\n",
      "total 51578, correct 50944, accuracy 0.987708\n",
      "total unknown 713, correct 672, accuracy 0.942496\n",
      "processed 51578 tokens with 5942 phrases; found: 5941 phrases; correct: 5567.\n",
      "accuracy:  98.77%; precision:  93.70%; recall:  93.69%; FB1:  93.70\n",
      "              LOC: precision:  97.19%; recall:  95.86%; FB1:  96.52  1812\n",
      "             MISC: precision:  92.04%; recall:  86.55%; FB1:  89.21  867\n",
      "              ORG: precision:  86.70%; recall:  93.36%; FB1:  89.91  1444\n",
      "              PER: precision:  96.59%; recall:  95.33%; FB1:  95.96  1818\n",
      "\n",
      "CoNLL score test set\n",
      "total 46666, correct 45700, accuracy 0.979300\n",
      "total unknown 1143, correct 1067, accuracy 0.933508\n"
     ]
    },
    {
     "name": "stderr",
     "output_type": "stream",
     "text": [
      "0it [00:00, ?it/s]"
     ]
    },
    {
     "name": "stdout",
     "output_type": "stream",
     "text": [
      "processed 46666 tokens with 5648 phrases; found: 5651 phrases; correct: 5106.\n",
      "accuracy:  97.93%; precision:  90.36%; recall:  90.40%; FB1:  90.38\n",
      "              LOC: precision:  92.67%; recall:  92.51%; FB1:  92.59  1665\n",
      "             MISC: precision:  84.12%; recall:  78.49%; FB1:  81.21  655\n",
      "              ORG: precision:  84.11%; recall:  89.89%; FB1:  86.90  1775\n",
      "              PER: precision:  97.62%; recall:  93.94%; FB1:  95.75  1556\n",
      "\n",
      "Epoch 72/80\n"
     ]
    },
    {
     "name": "stderr",
     "output_type": "stream",
     "text": [
      "76it [00:20,  3.69it/s]\n"
     ]
    },
    {
     "name": "stdout",
     "output_type": "stream",
     "text": [
      "CoNLL score dev set\n",
      "total 51578, correct 51005, accuracy 0.988891\n",
      "total unknown 713, correct 674, accuracy 0.945302\n",
      "processed 51578 tokens with 5942 phrases; found: 5914 phrases; correct: 5592.\n",
      "accuracy:  98.89%; precision:  94.56%; recall:  94.11%; FB1:  94.33\n",
      "              LOC: precision:  96.55%; recall:  96.08%; FB1:  96.32  1828\n",
      "             MISC: precision:  90.27%; recall:  89.59%; FB1:  89.93  915\n",
      "              ORG: precision:  91.84%; recall:  91.42%; FB1:  91.63  1335\n",
      "              PER: precision:  96.68%; recall:  96.36%; FB1:  96.52  1836\n",
      "\n",
      "CoNLL score test set\n",
      "total 46666, correct 45720, accuracy 0.979728\n",
      "total unknown 1143, correct 1075, accuracy 0.940507\n"
     ]
    },
    {
     "name": "stderr",
     "output_type": "stream",
     "text": [
      "0it [00:00, ?it/s]"
     ]
    },
    {
     "name": "stdout",
     "output_type": "stream",
     "text": [
      "processed 46666 tokens with 5648 phrases; found: 5634 phrases; correct: 5103.\n",
      "accuracy:  97.97%; precision:  90.58%; recall:  90.35%; FB1:  90.46\n",
      "              LOC: precision:  90.94%; recall:  93.82%; FB1:  92.36  1721\n",
      "             MISC: precision:  77.79%; recall:  80.34%; FB1:  79.05  725\n",
      "              ORG: precision:  89.77%; recall:  86.63%; FB1:  88.17  1603\n",
      "              PER: precision:  96.85%; recall:  94.93%; FB1:  95.88  1585\n",
      "\n",
      "Epoch 73/80\n"
     ]
    },
    {
     "name": "stderr",
     "output_type": "stream",
     "text": [
      "76it [00:20,  3.63it/s]\n"
     ]
    },
    {
     "name": "stdout",
     "output_type": "stream",
     "text": [
      "CoNLL score dev set\n",
      "total 51578, correct 50992, accuracy 0.988639\n",
      "total unknown 713, correct 678, accuracy 0.950912\n",
      "processed 51578 tokens with 5942 phrases; found: 5959 phrases; correct: 5608.\n",
      "accuracy:  98.86%; precision:  94.11%; recall:  94.38%; FB1:  94.24\n",
      "              LOC: precision:  96.80%; recall:  97.01%; FB1:  96.90  1841\n",
      "             MISC: precision:  88.97%; recall:  89.26%; FB1:  89.12  925\n",
      "              ORG: precision:  91.26%; recall:  91.87%; FB1:  91.56  1350\n",
      "              PER: precision:  96.09%; recall:  96.15%; FB1:  96.12  1843\n",
      "\n",
      "CoNLL score test set\n",
      "total 46666, correct 45705, accuracy 0.979407\n",
      "total unknown 1143, correct 1067, accuracy 0.933508\n"
     ]
    },
    {
     "name": "stderr",
     "output_type": "stream",
     "text": [
      "0it [00:00, ?it/s]"
     ]
    },
    {
     "name": "stdout",
     "output_type": "stream",
     "text": [
      "processed 46666 tokens with 5648 phrases; found: 5666 phrases; correct: 5114.\n",
      "accuracy:  97.94%; precision:  90.26%; recall:  90.55%; FB1:  90.40\n",
      "              LOC: precision:  90.57%; recall:  93.88%; FB1:  92.20  1729\n",
      "             MISC: precision:  77.96%; recall:  79.63%; FB1:  78.79  717\n",
      "              ORG: precision:  88.62%; recall:  87.66%; FB1:  88.14  1643\n",
      "              PER: precision:  97.21%; recall:  94.81%; FB1:  95.99  1577\n",
      "\n",
      "Epoch 74/80\n"
     ]
    },
    {
     "name": "stderr",
     "output_type": "stream",
     "text": [
      "76it [00:20,  3.67it/s]\n"
     ]
    },
    {
     "name": "stdout",
     "output_type": "stream",
     "text": [
      "CoNLL score dev set\n",
      "total 51578, correct 51019, accuracy 0.989162\n",
      "total unknown 713, correct 683, accuracy 0.957924\n",
      "processed 51578 tokens with 5942 phrases; found: 5936 phrases; correct: 5606.\n",
      "accuracy:  98.92%; precision:  94.44%; recall:  94.35%; FB1:  94.39\n",
      "              LOC: precision:  96.79%; recall:  96.73%; FB1:  96.76  1836\n",
      "             MISC: precision:  90.90%; recall:  87.74%; FB1:  89.29  890\n",
      "              ORG: precision:  91.23%; recall:  92.32%; FB1:  91.77  1357\n",
      "              PER: precision:  96.17%; recall:  96.74%; FB1:  96.45  1853\n",
      "\n",
      "CoNLL score test set\n",
      "total 46666, correct 45778, accuracy 0.980971\n",
      "total unknown 1143, correct 1074, accuracy 0.939633\n"
     ]
    },
    {
     "name": "stderr",
     "output_type": "stream",
     "text": [
      "0it [00:00, ?it/s]"
     ]
    },
    {
     "name": "stdout",
     "output_type": "stream",
     "text": [
      "processed 46666 tokens with 5648 phrases; found: 5648 phrases; correct: 5144.\n",
      "accuracy:  98.10%; precision:  91.08%; recall:  91.08%; FB1:  91.08\n",
      "              LOC: precision:  91.56%; recall:  93.71%; FB1:  92.62  1707\n",
      "             MISC: precision:  83.46%; recall:  79.77%; FB1:  81.57  671\n",
      "              ORG: precision:  87.92%; recall:  88.98%; FB1:  88.45  1681\n",
      "              PER: precision:  97.11%; recall:  95.42%; FB1:  96.26  1589\n",
      "\n",
      "Epoch 75/80\n"
     ]
    },
    {
     "name": "stderr",
     "output_type": "stream",
     "text": [
      "76it [00:20,  3.67it/s]\n"
     ]
    },
    {
     "name": "stdout",
     "output_type": "stream",
     "text": [
      "CoNLL score dev set\n",
      "total 51578, correct 51012, accuracy 0.989026\n",
      "total unknown 713, correct 680, accuracy 0.953717\n",
      "processed 51578 tokens with 5942 phrases; found: 5943 phrases; correct: 5596.\n",
      "accuracy:  98.90%; precision:  94.16%; recall:  94.18%; FB1:  94.17\n",
      "              LOC: precision:  96.78%; recall:  96.68%; FB1:  96.73  1835\n",
      "             MISC: precision:  88.60%; recall:  88.50%; FB1:  88.55  921\n",
      "              ORG: precision:  91.21%; recall:  92.10%; FB1:  91.65  1354\n",
      "              PER: precision:  96.51%; recall:  96.04%; FB1:  96.27  1833\n",
      "\n",
      "CoNLL score test set\n",
      "total 46666, correct 45723, accuracy 0.979793\n",
      "total unknown 1143, correct 1075, accuracy 0.940507\n"
     ]
    },
    {
     "name": "stderr",
     "output_type": "stream",
     "text": [
      "0it [00:00, ?it/s]"
     ]
    },
    {
     "name": "stdout",
     "output_type": "stream",
     "text": [
      "processed 46666 tokens with 5648 phrases; found: 5654 phrases; correct: 5103.\n",
      "accuracy:  97.98%; precision:  90.25%; recall:  90.35%; FB1:  90.30\n",
      "              LOC: precision:  90.72%; recall:  93.76%; FB1:  92.22  1724\n",
      "             MISC: precision:  77.22%; recall:  81.62%; FB1:  79.36  742\n",
      "              ORG: precision:  89.09%; recall:  87.48%; FB1:  88.27  1631\n",
      "              PER: precision:  97.17%; recall:  93.57%; FB1:  95.34  1557\n",
      "\n",
      "Epoch 76/80\n"
     ]
    },
    {
     "name": "stderr",
     "output_type": "stream",
     "text": [
      "76it [00:20,  3.69it/s]\n"
     ]
    },
    {
     "name": "stdout",
     "output_type": "stream",
     "text": [
      "CoNLL score dev set\n",
      "total 51578, correct 51009, accuracy 0.988968\n",
      "total unknown 713, correct 683, accuracy 0.957924\n",
      "processed 51578 tokens with 5942 phrases; found: 5964 phrases; correct: 5604.\n",
      "accuracy:  98.90%; precision:  93.96%; recall:  94.31%; FB1:  94.14\n",
      "              LOC: precision:  97.29%; recall:  95.92%; FB1:  96.60  1811\n",
      "             MISC: precision:  91.05%; recall:  89.37%; FB1:  90.20  905\n",
      "              ORG: precision:  88.97%; recall:  92.02%; FB1:  90.47  1387\n",
      "              PER: precision:  95.86%; recall:  96.85%; FB1:  96.35  1861\n",
      "\n",
      "CoNLL score test set\n",
      "total 46666, correct 45773, accuracy 0.980864\n",
      "total unknown 1143, correct 1075, accuracy 0.940507\n"
     ]
    },
    {
     "name": "stderr",
     "output_type": "stream",
     "text": [
      "0it [00:00, ?it/s]"
     ]
    },
    {
     "name": "stdout",
     "output_type": "stream",
     "text": [
      "processed 46666 tokens with 5648 phrases; found: 5677 phrases; correct: 5136.\n",
      "accuracy:  98.09%; precision:  90.47%; recall:  90.93%; FB1:  90.70\n",
      "              LOC: precision:  92.62%; recall:  93.35%; FB1:  92.98  1681\n",
      "             MISC: precision:  79.52%; recall:  80.20%; FB1:  79.86  708\n",
      "              ORG: precision:  87.15%; recall:  89.04%; FB1:  88.09  1697\n",
      "              PER: precision:  96.61%; recall:  95.05%; FB1:  95.82  1591\n",
      "\n",
      "Epoch 77/80\n"
     ]
    },
    {
     "name": "stderr",
     "output_type": "stream",
     "text": [
      "76it [00:20,  3.74it/s]\n"
     ]
    },
    {
     "name": "stdout",
     "output_type": "stream",
     "text": [
      "CoNLL score dev set\n",
      "total 51578, correct 50962, accuracy 0.988057\n",
      "total unknown 713, correct 676, accuracy 0.948107\n",
      "processed 51578 tokens with 5942 phrases; found: 5947 phrases; correct: 5588.\n",
      "accuracy:  98.81%; precision:  93.96%; recall:  94.04%; FB1:  94.00\n",
      "              LOC: precision:  96.26%; recall:  96.57%; FB1:  96.41  1843\n",
      "             MISC: precision:  91.16%; recall:  88.39%; FB1:  89.76  894\n",
      "              ORG: precision:  89.82%; recall:  91.50%; FB1:  90.65  1366\n",
      "              PER: precision:  96.10%; recall:  96.20%; FB1:  96.15  1844\n",
      "\n",
      "CoNLL score test set\n",
      "total 46666, correct 45713, accuracy 0.979578\n",
      "total unknown 1143, correct 1066, accuracy 0.932633\n"
     ]
    },
    {
     "name": "stderr",
     "output_type": "stream",
     "text": [
      "0it [00:00, ?it/s]"
     ]
    },
    {
     "name": "stdout",
     "output_type": "stream",
     "text": [
      "processed 46666 tokens with 5648 phrases; found: 5680 phrases; correct: 5138.\n",
      "accuracy:  97.96%; precision:  90.46%; recall:  90.97%; FB1:  90.71\n",
      "              LOC: precision:  91.22%; recall:  94.06%; FB1:  92.62  1720\n",
      "             MISC: precision:  80.96%; recall:  79.34%; FB1:  80.14  688\n",
      "              ORG: precision:  87.23%; recall:  88.86%; FB1:  88.04  1692\n",
      "              PER: precision:  97.22%; recall:  94.99%; FB1:  96.09  1580\n",
      "\n",
      "Epoch 78/80\n"
     ]
    },
    {
     "name": "stderr",
     "output_type": "stream",
     "text": [
      "76it [00:20,  3.69it/s]\n"
     ]
    },
    {
     "name": "stdout",
     "output_type": "stream",
     "text": [
      "CoNLL score dev set\n",
      "total 51578, correct 50991, accuracy 0.988619\n",
      "total unknown 713, correct 675, accuracy 0.946704\n",
      "processed 51578 tokens with 5942 phrases; found: 5949 phrases; correct: 5587.\n",
      "accuracy:  98.86%; precision:  93.91%; recall:  94.03%; FB1:  93.97\n",
      "              LOC: precision:  96.76%; recall:  95.92%; FB1:  96.34  1821\n",
      "             MISC: precision:  87.51%; recall:  89.70%; FB1:  88.59  945\n",
      "              ORG: precision:  91.54%; recall:  91.20%; FB1:  91.37  1336\n",
      "              PER: precision:  96.10%; recall:  96.36%; FB1:  96.23  1847\n",
      "\n",
      "CoNLL score test set\n",
      "total 46666, correct 45718, accuracy 0.979685\n",
      "total unknown 1143, correct 1071, accuracy 0.937008\n"
     ]
    },
    {
     "name": "stderr",
     "output_type": "stream",
     "text": [
      "0it [00:00, ?it/s]"
     ]
    },
    {
     "name": "stdout",
     "output_type": "stream",
     "text": [
      "processed 46666 tokens with 5648 phrases; found: 5675 phrases; correct: 5119.\n",
      "accuracy:  97.97%; precision:  90.20%; recall:  90.63%; FB1:  90.42\n",
      "              LOC: precision:  92.39%; recall:  93.11%; FB1:  92.74  1681\n",
      "             MISC: precision:  75.33%; recall:  82.19%; FB1:  78.61  766\n",
      "              ORG: precision:  88.32%; recall:  87.84%; FB1:  88.08  1652\n",
      "              PER: precision:  97.08%; recall:  94.62%; FB1:  95.83  1576\n",
      "\n",
      "Epoch 79/80\n"
     ]
    },
    {
     "name": "stderr",
     "output_type": "stream",
     "text": [
      "76it [00:20,  3.72it/s]\n"
     ]
    },
    {
     "name": "stdout",
     "output_type": "stream",
     "text": [
      "CoNLL score dev set\n",
      "total 51578, correct 51023, accuracy 0.989240\n",
      "total unknown 713, correct 681, accuracy 0.955119\n",
      "processed 51578 tokens with 5942 phrases; found: 5943 phrases; correct: 5613.\n",
      "accuracy:  98.92%; precision:  94.45%; recall:  94.46%; FB1:  94.46\n",
      "              LOC: precision:  96.47%; recall:  96.68%; FB1:  96.57  1841\n",
      "             MISC: precision:  91.09%; recall:  89.80%; FB1:  90.44  909\n",
      "              ORG: precision:  91.10%; recall:  91.65%; FB1:  91.38  1349\n",
      "              PER: precision:  96.53%; recall:  96.63%; FB1:  96.58  1844\n",
      "\n",
      "CoNLL score test set\n",
      "total 46666, correct 45689, accuracy 0.979064\n",
      "total unknown 1143, correct 1066, accuracy 0.932633\n"
     ]
    },
    {
     "name": "stderr",
     "output_type": "stream",
     "text": [
      "0it [00:00, ?it/s]"
     ]
    },
    {
     "name": "stdout",
     "output_type": "stream",
     "text": [
      "processed 46666 tokens with 5648 phrases; found: 5678 phrases; correct: 5124.\n",
      "accuracy:  97.91%; precision:  90.24%; recall:  90.72%; FB1:  90.48\n",
      "              LOC: precision:  91.22%; recall:  94.00%; FB1:  92.59  1719\n",
      "             MISC: precision:  77.82%; recall:  79.49%; FB1:  78.65  717\n",
      "              ORG: precision:  88.30%; recall:  87.66%; FB1:  87.98  1649\n",
      "              PER: precision:  96.80%; recall:  95.36%; FB1:  96.07  1593\n",
      "\n",
      "Epoch 80/80\n"
     ]
    },
    {
     "name": "stderr",
     "output_type": "stream",
     "text": [
      "76it [00:20,  3.72it/s]\n"
     ]
    },
    {
     "name": "stdout",
     "output_type": "stream",
     "text": [
      "CoNLL score dev set\n",
      "total 51578, correct 51006, accuracy 0.988910\n",
      "total unknown 713, correct 680, accuracy 0.953717\n",
      "processed 51578 tokens with 5942 phrases; found: 5941 phrases; correct: 5609.\n",
      "accuracy:  98.89%; precision:  94.41%; recall:  94.40%; FB1:  94.40\n",
      "              LOC: precision:  96.36%; recall:  96.68%; FB1:  96.52  1843\n",
      "             MISC: precision:  91.13%; recall:  89.15%; FB1:  90.13  902\n",
      "              ORG: precision:  90.93%; recall:  91.95%; FB1:  91.43  1356\n",
      "              PER: precision:  96.63%; recall:  96.53%; FB1:  96.58  1840\n",
      "\n",
      "CoNLL score test set\n",
      "total 46666, correct 45726, accuracy 0.979857\n",
      "total unknown 1143, correct 1068, accuracy 0.934383\n",
      "processed 46666 tokens with 5648 phrases; found: 5670 phrases; correct: 5139.\n",
      "accuracy:  97.99%; precision:  90.63%; recall:  90.99%; FB1:  90.81\n",
      "              LOC: precision:  91.73%; recall:  93.71%; FB1:  92.70  1704\n",
      "             MISC: precision:  79.43%; recall:  79.77%; FB1:  79.60  705\n",
      "              ORG: precision:  88.39%; recall:  88.50%; FB1:  88.45  1663\n",
      "              PER: precision:  96.75%; recall:  95.61%; FB1:  96.17  1598\n",
      "\n"
     ]
    }
   ],
   "source": [
    "for epoch in range(EPOCHS):    \n",
    "    print(\"Epoch {}/{}\".format(epoch + 1, EPOCHS))\n",
    "    for i, batch in tqdm(enumerate(minibatch_generator(training_bins))):\n",
    "        char_batch, token_batch, label_batch = batch  \n",
    "        loss = model.train_on_batch([char_batch, token_batch], \n",
    "                                    label_batch)\n",
    "\n",
    "    # We evaluate the dev set\n",
    "    print('CoNLL score dev set')\n",
    "    Y_dev_hat = predict(X_dev_char_idx, X_dev_word_idx, model, idx2ner)\n",
    "    conll_dev_pred = format_conll(X_dev_word_cat, Y_dev_cat, Y_dev_hat)\n",
    "    \n",
    "    signature = '_' + str(CHAR_DROPOUT) + '_' + str(DROPOUT_RATE_PRE) + '_' +\\\n",
    "    str(RECURRENT_DROPOUT) + '_' + str(DROPOUT_RATE) + '_' + str(DROPOUT_RATE_POST) + '_'\n",
    "    \n",
    "    outfile = 'results/' + 'dev' + signature + '.out'\n",
    "    with open(outfile, 'w') as file:\n",
    "        file.write(conll_dev_pred)\n",
    "    print(os.popen('perl -w conlleval.pl <' + outfile).read())\n",
    "    \n",
    "    # We evaluate the test set\n",
    "    print('CoNLL score test set')\n",
    "    Y_test_hat = predict(X_test_char_idx, X_test_word_idx, model, idx2ner)\n",
    "    conll_test_pred = format_conll(X_test_word_cat, Y_test_cat, Y_test_hat)\n",
    "    \n",
    "    outfile = 'results/' + 'test' + signature + '.out'\n",
    "    with open(outfile, 'w') as file:\n",
    "        file.write(conll_test_pred)\n",
    "    print(os.popen('perl -w conlleval.pl <' + outfile).read())"
   ]
  },
  {
   "cell_type": "code",
   "execution_count": 34,
   "metadata": {},
   "outputs": [
    {
     "data": {
      "text/plain": [
       "[['O'],\n",
       " ['O', 'O', 'S-LOC', 'O', 'O', 'O', 'O', 'S-PER', 'O', 'O', 'O', 'O'],\n",
       " ['B-PER', 'E-PER']]"
      ]
     },
     "execution_count": 34,
     "metadata": {},
     "output_type": "execute_result"
    }
   ],
   "source": [
    "Y_test_cat[:3]"
   ]
  },
  {
   "cell_type": "markdown",
   "metadata": {},
   "source": [
    "## Using the Recognizer"
   ]
  },
  {
   "cell_type": "markdown",
   "metadata": {},
   "source": [
    "A sentence"
   ]
  },
  {
   "cell_type": "code",
   "execution_count": 35,
   "metadata": {},
   "outputs": [],
   "source": [
    "sentence = 'Yesterday , I met Pierre Nugues in Dammarie'"
   ]
  },
  {
   "cell_type": "markdown",
   "metadata": {},
   "source": [
    "We create the character input"
   ]
  },
  {
   "cell_type": "code",
   "execution_count": 36,
   "metadata": {},
   "outputs": [
    {
     "data": {
      "text/plain": [
       "[array([[56, 65, 79, 80, 65, 78, 64, 61, 85,  0,  0,  0,  0,  0,  0,  0,\n",
       "          0,  0,  0,  0],\n",
       "        [13,  0,  0,  0,  0,  0,  0,  0,  0,  0,  0,  0,  0,  0,  0,  0,\n",
       "          0,  0,  0,  0],\n",
       "        [40,  0,  0,  0,  0,  0,  0,  0,  0,  0,  0,  0,  0,  0,  0,  0,\n",
       "          0,  0,  0,  0],\n",
       "        [73, 65, 80,  0,  0,  0,  0,  0,  0,  0,  0,  0,  0,  0,  0,  0,\n",
       "          0,  0,  0,  0],\n",
       "        [47, 69, 65, 78, 78, 65,  0,  0,  0,  0,  0,  0,  0,  0,  0,  0,\n",
       "          0,  0,  0,  0],\n",
       "        [45, 81, 67, 81, 65, 79,  0,  0,  0,  0,  0,  0,  0,  0,  0,  0,\n",
       "          0,  0,  0,  0],\n",
       "        [69, 74,  0,  0,  0,  0,  0,  0,  0,  0,  0,  0,  0,  0,  0,  0,\n",
       "          0,  0,  0,  0],\n",
       "        [35, 61, 73, 73, 61, 78, 69, 65,  0,  0,  0,  0,  0,  0,  0,  0,\n",
       "          0,  0,  0,  0]], dtype=int32)]"
      ]
     },
     "execution_count": 36,
     "metadata": {},
     "output_type": "execute_result"
    }
   ],
   "source": [
    "sent_char_idx = to_char_index([sentence.split()], char2idx)\n",
    "sent_char_idx_padded = list(map(lambda x: pad_sequences(x, maxlen=MAX_LEN_CHARS, padding='post'), \n",
    "                            sent_char_idx))\n",
    "sent_char_idx_padded"
   ]
  },
  {
   "cell_type": "markdown",
   "metadata": {},
   "source": [
    "And the word input"
   ]
  },
  {
   "cell_type": "code",
   "execution_count": 37,
   "metadata": {},
   "outputs": [
    {
     "data": {
      "text/plain": [
       "[[245161, 313455, 146774, 241165, 375384, 1, 66842, 1]]"
      ]
     },
     "execution_count": 37,
     "metadata": {},
     "output_type": "execute_result"
    }
   ],
   "source": [
    "sent_word_idx = to_index([sentence.lower().split()], word2idx)\n",
    "sent_word_idx"
   ]
  },
  {
   "cell_type": "markdown",
   "metadata": {},
   "source": [
    "And we predict the tags"
   ]
  },
  {
   "cell_type": "code",
   "execution_count": 38,
   "metadata": {},
   "outputs": [
    {
     "data": {
      "text/plain": [
       "[['O', 'O', 'O', 'O', 'B-PER', 'E-PER', 'O', 'S-LOC']]"
      ]
     },
     "execution_count": 38,
     "metadata": {},
     "output_type": "execute_result"
    }
   ],
   "source": [
    "predict(sent_char_idx_padded, sent_word_idx, model, idx2ner)"
   ]
  },
  {
   "cell_type": "code",
   "execution_count": null,
   "metadata": {},
   "outputs": [],
   "source": []
  }
 ],
 "metadata": {
  "kernelspec": {
   "display_name": "Python 3",
   "language": "python",
   "name": "python3"
  },
  "language_info": {
   "codemirror_mode": {
    "name": "ipython",
    "version": 3
   },
   "file_extension": ".py",
   "mimetype": "text/x-python",
   "name": "python",
   "nbconvert_exporter": "python",
   "pygments_lexer": "ipython3",
   "version": "3.7.7"
  }
 },
 "nbformat": 4,
 "nbformat_minor": 4
}
