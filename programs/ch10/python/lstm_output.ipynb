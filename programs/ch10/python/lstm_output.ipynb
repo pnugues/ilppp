{
 "cells": [
  {
   "cell_type": "markdown",
   "metadata": {},
   "source": [
    "# Understanding LSTM's Output\n",
    "\n",
    "Author: Pierre Nugues"
   ]
  },
  {
   "cell_type": "markdown",
   "metadata": {},
   "source": [
    "## Imports"
   ]
  },
  {
   "cell_type": "code",
   "execution_count": 1,
   "metadata": {},
   "outputs": [
    {
     "name": "stderr",
     "output_type": "stream",
     "text": [
      "2022-10-05 21:13:10.873225: I tensorflow/core/platform/cpu_feature_guard.cc:193] This TensorFlow binary is optimized with oneAPI Deep Neural Network Library (oneDNN) to use the following CPU instructions in performance-critical operations:  AVX2 FMA\n",
      "To enable them in other operations, rebuild TensorFlow with the appropriate compiler flags.\n"
     ]
    }
   ],
   "source": [
    "import numpy as np\n",
    "import tensorflow as tf\n",
    "from tensorflow import keras"
   ]
  },
  {
   "cell_type": "markdown",
   "metadata": {},
   "source": [
    "A simple dataset"
   ]
  },
  {
   "cell_type": "code",
   "execution_count": 2,
   "metadata": {},
   "outputs": [
    {
     "name": "stderr",
     "output_type": "stream",
     "text": [
      "2022-10-05 21:13:15.847857: I tensorflow/core/platform/cpu_feature_guard.cc:193] This TensorFlow binary is optimized with oneAPI Deep Neural Network Library (oneDNN) to use the following CPU instructions in performance-critical operations:  AVX2 FMA\n",
      "To enable them in other operations, rebuild TensorFlow with the appropriate compiler flags.\n"
     ]
    }
   ],
   "source": [
    "inputs = tf.random.normal([16, 8, 4]) # 16 sequences of 8 words and 4 categories for each word \n",
    "                                    # this is an approximation as it will not be a one-hot vector"
   ]
  },
  {
   "cell_type": "markdown",
   "metadata": {},
   "source": [
    "And a LSTM with a 2D output"
   ]
  },
  {
   "cell_type": "code",
   "execution_count": 3,
   "metadata": {},
   "outputs": [],
   "source": [
    "lstm = tf.keras.layers.LSTM(2) # Two units\n",
    "output = lstm(inputs)"
   ]
  },
  {
   "cell_type": "code",
   "execution_count": 4,
   "metadata": {},
   "outputs": [
    {
     "data": {
      "text/plain": [
       "TensorShape([16, 2])"
      ]
     },
     "execution_count": 4,
     "metadata": {},
     "output_type": "execute_result"
    }
   ],
   "source": [
    "output.shape"
   ]
  },
  {
   "cell_type": "markdown",
   "metadata": {},
   "source": [
    "We output a 2-D vector for each sentence"
   ]
  },
  {
   "cell_type": "code",
   "execution_count": 5,
   "metadata": {},
   "outputs": [
    {
     "data": {
      "text/plain": [
       "<tf.Tensor: shape=(16, 2), dtype=float32, numpy=\n",
       "array([[ 0.04333418,  0.08327197],\n",
       "       [-0.00737492,  0.33590046],\n",
       "       [ 0.36525294,  0.28010353],\n",
       "       [-0.03309057,  0.18950672],\n",
       "       [ 0.24618253,  0.5596625 ],\n",
       "       [ 0.08247661, -0.07042927],\n",
       "       [ 0.05496754,  0.05022008],\n",
       "       [ 0.13326074, -0.10119801],\n",
       "       [-0.14637274,  0.23294334],\n",
       "       [-0.18787374,  0.02777418],\n",
       "       [ 0.0635227 ,  0.24398568],\n",
       "       [-0.12099309,  0.17926204],\n",
       "       [ 0.03342689,  0.49483967],\n",
       "       [-0.09702206, -0.20789722],\n",
       "       [-0.08253886, -0.04978706],\n",
       "       [ 0.21518752,  0.14452478]], dtype=float32)>"
      ]
     },
     "execution_count": 5,
     "metadata": {},
     "output_type": "execute_result"
    }
   ],
   "source": [
    "output"
   ]
  },
  {
   "cell_type": "markdown",
   "metadata": {},
   "source": [
    "Now we want the sequence of outputs (for the 8 words) and the states. We specify it as arguments and we return three variables. See here https://keras.io/api/layers/recurrent_layers/lstm/"
   ]
  },
  {
   "cell_type": "code",
   "execution_count": 6,
   "metadata": {},
   "outputs": [],
   "source": [
    "lstm = tf.keras.layers.LSTM(2, return_sequences=True, return_state=True)\n",
    "whole_seq_output, final_memory_state, final_carry_state = lstm(inputs)"
   ]
  },
  {
   "cell_type": "code",
   "execution_count": 7,
   "metadata": {},
   "outputs": [
    {
     "data": {
      "text/plain": [
       "TensorShape([16, 8, 2])"
      ]
     },
     "execution_count": 7,
     "metadata": {},
     "output_type": "execute_result"
    }
   ],
   "source": [
    "whole_seq_output.shape"
   ]
  },
  {
   "cell_type": "code",
   "execution_count": 8,
   "metadata": {},
   "outputs": [
    {
     "data": {
      "text/plain": [
       "TensorShape([16, 2])"
      ]
     },
     "execution_count": 8,
     "metadata": {},
     "output_type": "execute_result"
    }
   ],
   "source": [
    "final_memory_state.shape"
   ]
  },
  {
   "cell_type": "code",
   "execution_count": 10,
   "metadata": {},
   "outputs": [
    {
     "data": {
      "text/plain": [
       "<tf.Tensor: shape=(16, 2), dtype=float32, numpy=\n",
       "array([[ 0.13787897, -0.13928951],\n",
       "       [ 0.01530278,  0.09404946],\n",
       "       [ 0.39629328,  0.26815152],\n",
       "       [ 0.06475419,  0.19927594],\n",
       "       [ 0.47169614, -0.19335218],\n",
       "       [ 0.63190985,  0.3149604 ],\n",
       "       [ 0.14613482,  0.0071037 ],\n",
       "       [ 0.2547831 ,  0.00311853],\n",
       "       [-0.3286329 , -0.32885313],\n",
       "       [-0.05864318,  0.33845478],\n",
       "       [ 0.1869785 , -0.17483842],\n",
       "       [ 0.06752494, -0.02351512],\n",
       "       [ 0.36729264,  0.1313507 ],\n",
       "       [ 0.00150263, -0.1020644 ],\n",
       "       [ 0.14447618,  0.26301634],\n",
       "       [ 0.28054118, -0.16965719]], dtype=float32)>"
      ]
     },
     "execution_count": 10,
     "metadata": {},
     "output_type": "execute_result"
    }
   ],
   "source": [
    "whole_seq_output[:, -1]"
   ]
  },
  {
   "cell_type": "code",
   "execution_count": 11,
   "metadata": {},
   "outputs": [
    {
     "data": {
      "text/plain": [
       "<tf.Tensor: shape=(16, 2), dtype=float32, numpy=\n",
       "array([[ 0.13787897, -0.13928951],\n",
       "       [ 0.01530278,  0.09404946],\n",
       "       [ 0.39629328,  0.26815152],\n",
       "       [ 0.06475419,  0.19927594],\n",
       "       [ 0.47169614, -0.19335218],\n",
       "       [ 0.63190985,  0.3149604 ],\n",
       "       [ 0.14613482,  0.0071037 ],\n",
       "       [ 0.2547831 ,  0.00311853],\n",
       "       [-0.3286329 , -0.32885313],\n",
       "       [-0.05864318,  0.33845478],\n",
       "       [ 0.1869785 , -0.17483842],\n",
       "       [ 0.06752494, -0.02351512],\n",
       "       [ 0.36729264,  0.1313507 ],\n",
       "       [ 0.00150263, -0.1020644 ],\n",
       "       [ 0.14447618,  0.26301634],\n",
       "       [ 0.28054118, -0.16965719]], dtype=float32)>"
      ]
     },
     "execution_count": 11,
     "metadata": {},
     "output_type": "execute_result"
    }
   ],
   "source": [
    "final_memory_state"
   ]
  },
  {
   "cell_type": "code",
   "execution_count": 12,
   "metadata": {},
   "outputs": [
    {
     "data": {
      "text/plain": [
       "<tf.Tensor: shape=(16, 2), dtype=float32, numpy=\n",
       "array([[ 0.2409493 , -0.22636688],\n",
       "       [ 0.0236536 ,  0.20192736],\n",
       "       [ 1.1535597 ,  0.44116223],\n",
       "       [ 0.08893625,  0.29256758],\n",
       "       [ 1.091116  , -0.29991293],\n",
       "       [ 1.4106864 ,  0.58626485],\n",
       "       [ 0.42405617,  0.01437281],\n",
       "       [ 0.9223573 ,  0.00620121],\n",
       "       [-0.4871088 , -0.5425641 ],\n",
       "       [-0.06042434,  0.3887447 ],\n",
       "       [ 0.34991127, -0.43809798],\n",
       "       [ 0.15503758, -0.05240416],\n",
       "       [ 0.8398984 ,  0.27844083],\n",
       "       [ 0.00580859, -0.36735687],\n",
       "       [ 0.52805126,  0.8296853 ],\n",
       "       [ 0.61242664, -0.26442707]], dtype=float32)>"
      ]
     },
     "execution_count": 12,
     "metadata": {},
     "output_type": "execute_result"
    }
   ],
   "source": [
    "final_carry_state"
   ]
  }
 ],
 "metadata": {
  "kernelspec": {
   "display_name": "Python 3.9.13 ('base')",
   "language": "python",
   "name": "python3"
  },
  "language_info": {
   "codemirror_mode": {
    "name": "ipython",
    "version": 3
   },
   "file_extension": ".py",
   "mimetype": "text/x-python",
   "name": "python",
   "nbconvert_exporter": "python",
   "pygments_lexer": "ipython3",
   "version": "3.9.13"
  },
  "orig_nbformat": 4,
  "vscode": {
   "interpreter": {
    "hash": "b97b11a820675205aae8f1d7f2a3f22bbd3a2c30189f44042310baf5b4cd1987"
   }
  }
 },
 "nbformat": 4,
 "nbformat_minor": 2
}
