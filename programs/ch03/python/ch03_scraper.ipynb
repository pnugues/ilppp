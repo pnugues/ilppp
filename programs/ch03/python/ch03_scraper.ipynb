{
 "cells": [
  {
   "cell_type": "markdown",
   "metadata": {},
   "source": [
    "# Building a scraper"
   ]
  },
  {
   "cell_type": "code",
   "execution_count": 1,
   "metadata": {},
   "outputs": [],
   "source": [
    "__author__ = \"Pierre Nugues\""
   ]
  },
  {
   "cell_type": "markdown",
   "metadata": {},
   "source": [
    "#### Using `requests`"
   ]
  },
  {
   "cell_type": "code",
   "execution_count": 2,
   "metadata": {},
   "outputs": [
    {
     "name": "stdout",
     "output_type": "stream",
     "text": [
      "<!DOCTYPE html>\n",
      "<html class=\"client-nojs\" lang=\"en\" dir=\"ltr\">\n",
      "<head>\n",
      "<meta charset=\"UTF-8\"/>\n",
      "<title>Aristotle - Wikipedia</title>\n",
      "<script>document.documentElement.className=\"client-js\";RLCONF={\"wgBreakFrames\":false,\"wgSeparatorTransformTable\":[\"\",\"\"],\"wgDigitTransformTable\":[\"\",\"\"],\"wgDefaultDateFormat\":\"dmy\",\"wgMonthNames\":[\"\",\"January\",\"February\",\"March\",\"April\",\"May\",\"June\",\"July\",\"August\",\"September\",\"October\",\"November\",\"December\"],\"wgRequestId\":\"7bff9491-4610-4fb9-946a-b19039a606b0\",\"wgCSPNonce\":false,\"wgCanonicalNamespace\":\"\",\"wgCanonicalSpecialPageName\":false,\"wgNamespaceNumber\":0,\"wgPageName\":\"Aristotle\",\"wgTitle\":\"Aristotle\",\"wgCurRevisionId\":1104463106,\"wgRevisionId\":1104463106,\"wgArticleId\":308,\"wgIsArticle\":true,\"wgIsRedirect\":false,\"wgAction\":\"view\",\"wgUserName\":null,\"wgUserGroups\":[\"*\"],\"wgCategories\":[\"CS1 French-language sources (fr)\",\"Articles with short description\",\"Short description matches Wikidata\",\"Good articles\",\"Wikipedia indefinitely semi-protected pages\",\"Use Oxford spelling from March 2020\",\"Use dmy dates from March 2022\",\"Articles with hCards\",\n",
      "\"Articles containing Ancient Greek (to 1453)-language text\",\"Articles with Internet Encyclopedia of Philosophy links\",\"Webarchive template wayback links\",\"CS1: long volume value\",\"Pages using Sister project links with hidden wikidata\",\"Pages using Sister project links with default search\",\"Articles incorporating a citation from the 1913 Catholic Encyclopedia with Wikisource reference\",\"Wikipedia articles incorporating the template Lives of the Eminent Philosophers\",\"Articles with Project Gutenberg links\",\"Articles with Internet Archive links\",\"Articles with LibriVox links\",\"Open Library ID different from Wikidata\",\"Articles with Open Library links\",\"Articles with Greek-language sources (el)\",\"Articles with French-language sources (fr)\",\"Articles with ISNI identifiers\",\"Articles with VIAF identifiers\",\"Articles with WORLDCATID identifiers\",\"Articles with BIBSYS identifiers\",\"Articles with BNC ide\n"
     ]
    }
   ],
   "source": [
    "import requests\n",
    "\n",
    "url_en = 'https://en.wikipedia.org/wiki/Aristotle'\n",
    "url_fr = 'https://fr.wikipedia.org/wiki/Aristote'\n",
    "html_doc = requests.get(url_en).text\n",
    "print(html_doc[:2000])"
   ]
  },
  {
   "cell_type": "markdown",
   "metadata": {},
   "source": [
    "## Parsing HTML and a Wikipedia page"
   ]
  },
  {
   "cell_type": "markdown",
   "metadata": {},
   "source": [
    "#### We import the modules"
   ]
  },
  {
   "cell_type": "code",
   "execution_count": 3,
   "metadata": {},
   "outputs": [],
   "source": [
    "import bs4\n",
    "import requests\n",
    "from urllib.parse import urljoin"
   ]
  },
  {
   "cell_type": "markdown",
   "metadata": {},
   "source": [
    "#### We load a page and parse it"
   ]
  },
  {
   "cell_type": "code",
   "execution_count": 4,
   "metadata": {},
   "outputs": [],
   "source": [
    "url_en = 'https://en.wikipedia.org/wiki/Aristotle'\n",
    "html_doc = requests.get(url_en).text\n",
    "parse_tree = bs4.BeautifulSoup(html_doc, 'html.parser')"
   ]
  },
  {
   "cell_type": "markdown",
   "metadata": {
    "tags": []
   },
   "source": [
    "#### We extract elements"
   ]
  },
  {
   "cell_type": "code",
   "execution_count": 5,
   "metadata": {},
   "outputs": [
    {
     "data": {
      "text/plain": [
       "<title>Aristotle - Wikipedia</title>"
      ]
     },
     "execution_count": 5,
     "metadata": {},
     "output_type": "execute_result"
    }
   ],
   "source": [
    "parse_tree.title\n",
    "# <title>Aristotle - Wikipedia, the free encyclopedia</title>"
   ]
  },
  {
   "cell_type": "code",
   "execution_count": 6,
   "metadata": {},
   "outputs": [
    {
     "data": {
      "text/plain": [
       "'Aristotle - Wikipedia'"
      ]
     },
     "execution_count": 6,
     "metadata": {},
     "output_type": "execute_result"
    }
   ],
   "source": [
    "parse_tree.title.text\n",
    "# Aristotle - Wikipedia, the free encyclopedia"
   ]
  },
  {
   "cell_type": "code",
   "execution_count": 7,
   "metadata": {},
   "outputs": [],
   "source": [
    "#### We extract header 1"
   ]
  },
  {
   "cell_type": "code",
   "execution_count": 8,
   "metadata": {},
   "outputs": [
    {
     "data": {
      "text/plain": [
       "'Aristotle'"
      ]
     },
     "execution_count": 8,
     "metadata": {},
     "output_type": "execute_result"
    }
   ],
   "source": [
    "parse_tree.h1.text\n",
    "# Aristotle"
   ]
  },
  {
   "cell_type": "markdown",
   "metadata": {},
   "source": [
    "#### We extract all the headers h2"
   ]
  },
  {
   "cell_type": "code",
   "execution_count": 9,
   "metadata": {},
   "outputs": [
    {
     "data": {
      "text/plain": [
       "['Contents',\n",
       " 'Life',\n",
       " 'Speculative philosophy',\n",
       " 'Natural philosophy',\n",
       " 'Practical philosophy',\n",
       " 'Influence',\n",
       " 'Surviving works',\n",
       " 'Legacy',\n",
       " 'See also',\n",
       " 'References',\n",
       " 'Further reading',\n",
       " 'External links',\n",
       " 'Navigation menu']"
      ]
     },
     "execution_count": 9,
     "metadata": {},
     "output_type": "execute_result"
    }
   ],
   "source": [
    "headings = parse_tree.find_all('h2')\n",
    "[heading.text for heading in headings]\n",
    "# ['Contents', 'Life', 'Thought', 'Loss and preservation of his works', 'Legacy', 'List of works', 'Eponyms', 'See also', 'Notes and references', 'Further reading', 'External links', 'Navigation menu']"
   ]
  },
  {
   "cell_type": "markdown",
   "metadata": {},
   "source": [
    "#### We extract the links"
   ]
  },
  {
   "cell_type": "code",
   "execution_count": 10,
   "metadata": {},
   "outputs": [
    {
     "data": {
      "text/plain": [
       "[<a href=\"/wiki/Wikipedia:Good_articles\" title=\"This is a good article. Click here for more information.\"><img alt=\"This is a good article. Click here for more information.\" data-file-height=\"185\" data-file-width=\"180\" decoding=\"async\" height=\"20\" src=\"//upload.wikimedia.org/wikipedia/en/thumb/9/94/Symbol_support_vote.svg/19px-Symbol_support_vote.svg.png\" srcset=\"//upload.wikimedia.org/wikipedia/en/thumb/9/94/Symbol_support_vote.svg/29px-Symbol_support_vote.svg.png 1.5x, //upload.wikimedia.org/wikipedia/en/thumb/9/94/Symbol_support_vote.svg/39px-Symbol_support_vote.svg.png 2x\" width=\"19\"/></a>,\n",
       " <a href=\"/wiki/Wikipedia:Protection_policy#semi\" title=\"This article is semi-protected.\"><img alt=\"Page semi-protected\" data-file-height=\"512\" data-file-width=\"512\" decoding=\"async\" height=\"20\" src=\"//upload.wikimedia.org/wikipedia/en/thumb/1/1b/Semi-protection-shackle.svg/20px-Semi-protection-shackle.svg.png\" srcset=\"//upload.wikimedia.org/wikipedia/en/thumb/1/1b/Semi-protection-shackle.svg/30px-Semi-protection-shackle.svg.png 1.5x, //upload.wikimedia.org/wikipedia/en/thumb/1/1b/Semi-protection-shackle.svg/40px-Semi-protection-shackle.svg.png 2x\" width=\"20\"/></a>,\n",
       " <a class=\"mw-jump-link\" href=\"#mw-head\">Jump to navigation</a>,\n",
       " <a class=\"mw-jump-link\" href=\"#searchInput\">Jump to search</a>,\n",
       " <a class=\"mw-disambig\" href=\"/wiki/Aristotle_(disambiguation)\" title=\"Aristotle (disambiguation)\">Aristotle (disambiguation)</a>]"
      ]
     },
     "execution_count": 10,
     "metadata": {},
     "output_type": "execute_result"
    }
   ],
   "source": [
    "links = parse_tree.find_all('a', href=True)\n",
    "links[:5]"
   ]
  },
  {
   "cell_type": "markdown",
   "metadata": {},
   "source": [
    "#### The labels"
   ]
  },
  {
   "cell_type": "code",
   "execution_count": 11,
   "metadata": {},
   "outputs": [
    {
     "data": {
      "text/plain": [
       "['',\n",
       " '',\n",
       " 'Jump to navigation',\n",
       " 'Jump to search',\n",
       " 'Aristotle (disambiguation)',\n",
       " '',\n",
       " 'Lysippos',\n",
       " '[A]',\n",
       " 'Stagira',\n",
       " 'Chalcidice',\n",
       " '[1]',\n",
       " 'Euboea',\n",
       " 'Macedonian Empire',\n",
       " 'Platonic Academy',\n",
       " 'Corpus Aristotelicum']"
      ]
     },
     "execution_count": 11,
     "metadata": {},
     "output_type": "execute_result"
    }
   ],
   "source": [
    "[link.text for link in links][:15]"
   ]
  },
  {
   "cell_type": "markdown",
   "metadata": {},
   "source": [
    "#### The links"
   ]
  },
  {
   "cell_type": "code",
   "execution_count": 12,
   "metadata": {},
   "outputs": [
    {
     "data": {
      "text/plain": [
       "['/wiki/Wikipedia:Good_articles',\n",
       " '/wiki/Wikipedia:Protection_policy#semi',\n",
       " '#mw-head',\n",
       " '#searchInput',\n",
       " '/wiki/Aristotle_(disambiguation)',\n",
       " '/wiki/File:Aristotle_Altemps_Inv8575.jpg',\n",
       " '/wiki/Lysippos',\n",
       " '#cite_note-1',\n",
       " '/wiki/Stagira_(ancient_city)',\n",
       " '/wiki/Chalcidice',\n",
       " '#cite_note-2',\n",
       " '/wiki/Euboea',\n",
       " '/wiki/Macedonia_(ancient_kingdom)#Empire',\n",
       " '/wiki/Platonic_Academy',\n",
       " '/wiki/Corpus_Aristotelicum']"
      ]
     },
     "execution_count": 12,
     "metadata": {},
     "output_type": "execute_result"
    }
   ],
   "source": [
    "[link.get('href') for link in links][:15]"
   ]
  },
  {
   "cell_type": "markdown",
   "metadata": {},
   "source": [
    "#### The absolute addresses"
   ]
  },
  {
   "cell_type": "code",
   "execution_count": 13,
   "metadata": {},
   "outputs": [
    {
     "data": {
      "text/plain": [
       "['https://en.wikipedia.org/wiki/Wikipedia:Good_articles',\n",
       " 'https://en.wikipedia.org/wiki/Wikipedia:Protection_policy#semi',\n",
       " 'https://en.wikipedia.org/wiki/Aristotle#mw-head',\n",
       " 'https://en.wikipedia.org/wiki/Aristotle#searchInput',\n",
       " 'https://en.wikipedia.org/wiki/Aristotle_(disambiguation)',\n",
       " 'https://en.wikipedia.org/wiki/File:Aristotle_Altemps_Inv8575.jpg',\n",
       " 'https://en.wikipedia.org/wiki/Lysippos',\n",
       " 'https://en.wikipedia.org/wiki/Aristotle#cite_note-1',\n",
       " 'https://en.wikipedia.org/wiki/Stagira_(ancient_city)',\n",
       " 'https://en.wikipedia.org/wiki/Chalcidice',\n",
       " 'https://en.wikipedia.org/wiki/Aristotle#cite_note-2',\n",
       " 'https://en.wikipedia.org/wiki/Euboea',\n",
       " 'https://en.wikipedia.org/wiki/Macedonia_(ancient_kingdom)#Empire',\n",
       " 'https://en.wikipedia.org/wiki/Platonic_Academy',\n",
       " 'https://en.wikipedia.org/wiki/Corpus_Aristotelicum']"
      ]
     },
     "execution_count": 13,
     "metadata": {},
     "output_type": "execute_result"
    }
   ],
   "source": [
    "try:\n",
    "    out = [urljoin(url_en, link['href']) for link in links]\n",
    "except Exception as ex:\n",
    "    type(ex)\n",
    "out[:15]"
   ]
  }
 ],
 "metadata": {
  "kernelspec": {
   "display_name": "Python 3.9.12 ('base')",
   "language": "python",
   "name": "python3"
  },
  "language_info": {
   "codemirror_mode": {
    "name": "ipython",
    "version": 3
   },
   "file_extension": ".py",
   "mimetype": "text/x-python",
   "name": "python",
   "nbconvert_exporter": "python",
   "pygments_lexer": "ipython3",
   "version": "3.9.12"
  },
  "vscode": {
   "interpreter": {
    "hash": "b97b11a820675205aae8f1d7f2a3f22bbd3a2c30189f44042310baf5b4cd1987"
   }
  }
 },
 "nbformat": 4,
 "nbformat_minor": 4
}
