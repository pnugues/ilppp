{
 "cells": [
  {
   "cell_type": "markdown",
   "metadata": {},
   "source": [
    "# A simple implementation of skipgrams with negative sampling\n",
    "Author: Pierre Nugues\n",
    "\n",
    "Adapted from _Distributed Representations of Words and Phrases and their Compositionality_, Sect. 2.2, by Mikolov et al. 2013."
   ]
  },
  {
   "cell_type": "markdown",
   "metadata": {},
   "source": [
    "The imports"
   ]
  },
  {
   "cell_type": "code",
   "execution_count": 1,
   "metadata": {},
   "outputs": [],
   "source": [
    "import tensorflow as tf\n",
    "from tensorflow.keras import backend\n",
    "from tensorflow.keras.models import Sequential, Model\n",
    "from tensorflow.keras.layers import Dense, Embedding, Lambda, Average, GlobalAveragePooling1D, Dot, Input, Reshape, Activation\n",
    "import regex as re\n",
    "import os\n",
    "from tensorflow.keras.utils import to_categorical\n",
    "import numpy as np\n",
    "from scipy.spatial.distance import cosine\n",
    "from tqdm import tqdm\n",
    "from random import shuffle, randint\n",
    "from collections import Counter\n",
    "import math, random"
   ]
  },
  {
   "cell_type": "markdown",
   "metadata": {},
   "source": [
    "## Parameters"
   ]
  },
  {
   "cell_type": "markdown",
   "metadata": {},
   "source": [
    "The embedding size, context size, and negative counts"
   ]
  },
  {
   "cell_type": "code",
   "execution_count": 2,
   "metadata": {},
   "outputs": [],
   "source": [
    "embedding_dim = 100\n",
    "w_size = 2\n",
    "c_size = w_size * 2 + 1\n",
    "K_NEG = 5\n",
    "t = 1e-3\n",
    "power = 0.75"
   ]
  },
  {
   "cell_type": "markdown",
   "metadata": {},
   "source": [
    "## The Corpus"
   ]
  },
  {
   "cell_type": "markdown",
   "metadata": {},
   "source": [
    "We select a dataset and execute locally or on colab"
   ]
  },
  {
   "cell_type": "code",
   "execution_count": 3,
   "metadata": {},
   "outputs": [],
   "source": [
    "dataset = 'homer'  # 'homer' dickens' 'selma' 'big'\n",
    "colab = False # On my machine or on colab\n",
    "debug = False\n",
    "DOWNSAMPLING = False"
   ]
  },
  {
   "cell_type": "code",
   "execution_count": 4,
   "metadata": {},
   "outputs": [],
   "source": [
    "if colab:\n",
    "    BASE_PATH = '/content/drive/My Drive/Colab Notebooks/'\n",
    "else:\n",
    "    BASE_PATH = '../../../'"
   ]
  },
  {
   "cell_type": "code",
   "execution_count": 5,
   "metadata": {},
   "outputs": [],
   "source": [
    "if colab:\n",
    "    from google.colab import drive\n",
    "    drive.mount('/content/drive')"
   ]
  },
  {
   "cell_type": "markdown",
   "metadata": {},
   "source": [
    "We read the files from a folder"
   ]
  },
  {
   "cell_type": "code",
   "execution_count": 6,
   "metadata": {},
   "outputs": [],
   "source": [
    "def get_files(dir, suffix):\n",
    "    \"\"\"\n",
    "    Returns all the files in a folder ending with suffix\n",
    "    :param dir:\n",
    "    :param suffix:\n",
    "    :return: the list of file names\n",
    "    \"\"\"\n",
    "    files = []\n",
    "    for file in os.listdir(dir):\n",
    "        if file.endswith(suffix):\n",
    "            files.append(file)\n",
    "    return files\n",
    "\n",
    "\n",
    "def load_corpus(path):\n",
    "    files = get_files(path, 'txt')\n",
    "    files = [path + file for file in files]\n",
    "    print(files)\n",
    "    text = ''\n",
    "    for file in files:\n",
    "        text += open(file).read()\n",
    "    return text"
   ]
  },
  {
   "cell_type": "code",
   "execution_count": 7,
   "metadata": {},
   "outputs": [],
   "source": [
    "if dataset == 'homer':\n",
    "    #text = 'Sing, O goddess, the anger of Achilles son of Peleus'.lower()\n",
    "    text1 = open(BASE_PATH + 'corpus/iliad.mb.txt', encoding='utf-8').read().lower()\n",
    "    text2 = open(BASE_PATH + 'corpus/odyssey.mb.txt', encoding='utf-8').read().lower()\n",
    "    text = text1 + text2\n",
    "    test_words = ['he', 'she', 'ulysses', 'penelope', 'achaeans', 'trojans']\n",
    "if dataset == 'dickens':\n",
    "    path = BASE_PATH + 'corpus/Dickens/'\n",
    "    text = load_corpus(path)\n",
    "    test_words = ['he', 'she', 'paris', 'london', 'table', 'rare', 'monday', 'sunday', 'man', 'woman', 'king', 'queen', 'boy',\n",
    "                  'girl']\n",
    "elif dataset == 'selma':\n",
    "    path = BASE_PATH + 'corpus/Selma/'\n",
    "    text = load_corpus(path)\n",
    "    test_words = ['han', 'hon', 'att', 'bord', 'bordet', 'måndag', 'söndag', 'man', 'kvinna', 'kung', 'drottning',\n",
    "                  'pojke', 'flicka']\n",
    "elif dataset == 'big':\n",
    "    path = BASE_PATH + 'corpus/Dickens/'\n",
    "    text = load_corpus(path)\n",
    "    path = BASE_PATH + 'corpus/Norvig/'\n",
    "    text += load_corpus(path)\n",
    "    test_words = ['he', 'she', 'paris', 'london', 'table', 'rare', 'monday', 'sunday', 'man', 'woman', 'king', 'queen', 'boy',\n",
    "                  'girl']"
   ]
  },
  {
   "cell_type": "markdown",
   "metadata": {},
   "source": [
    "## Processing the Corpus"
   ]
  },
  {
   "cell_type": "markdown",
   "metadata": {},
   "source": [
    "### Tokenizing"
   ]
  },
  {
   "cell_type": "markdown",
   "metadata": {},
   "source": [
    "We set all the text in lowercase"
   ]
  },
  {
   "cell_type": "code",
   "execution_count": 8,
   "metadata": {},
   "outputs": [
    {
     "data": {
      "text/plain": [
       "['book', 'i', 'the', 'quarrel', 'between']"
      ]
     },
     "execution_count": 8,
     "metadata": {},
     "output_type": "execute_result"
    }
   ],
   "source": [
    "text = text.lower()\n",
    "word_seq = re.findall('\\p{L}+', text)\n",
    "word_seq[:5]"
   ]
  },
  {
   "cell_type": "markdown",
   "metadata": {},
   "source": [
    "### Downsampling"
   ]
  },
  {
   "cell_type": "markdown",
   "metadata": {},
   "source": [
    "We can downsample the frequent wordsWe can downsample the frequent words. We first count the words, then we discard randomly some words in the text, depending on their frequency. Frequent words will often be discarded. Rare words, never. We will have to count them again after sampling.. We first count the words. We will have to count them again after sampling"
   ]
  },
  {
   "cell_type": "code",
   "execution_count": 9,
   "metadata": {},
   "outputs": [
    {
     "data": {
      "text/plain": [
       "272712"
      ]
     },
     "execution_count": 9,
     "metadata": {},
     "output_type": "execute_result"
    }
   ],
   "source": [
    "counts = Counter(word_seq)\n",
    "word_cnt = sum(counts.values())\n",
    "word_cnt"
   ]
  },
  {
   "cell_type": "code",
   "execution_count": 10,
   "metadata": {},
   "outputs": [
    {
     "data": {
      "text/plain": [
       "(15905, 4746, 110)"
      ]
     },
     "execution_count": 10,
     "metadata": {},
     "output_type": "execute_result"
    }
   ],
   "source": [
    "counts['the'], counts['he'], counts['penelope']"
   ]
  },
  {
   "cell_type": "markdown",
   "metadata": {},
   "source": [
    "The discard probability threshold, following § 2.3 of the paper"
   ]
  },
  {
   "cell_type": "code",
   "execution_count": 11,
   "metadata": {},
   "outputs": [],
   "source": [
    "discard_probs = dict(counts)\n",
    "for key in discard_probs:\n",
    "    discard_probs[key] = max(0, 1 - math.sqrt(t/(counts[key]/word_cnt)))"
   ]
  },
  {
   "cell_type": "code",
   "execution_count": 12,
   "metadata": {},
   "outputs": [
    {
     "data": {
      "text/plain": [
       "(0.8690560952429589, 0.7602888379452187, 0)"
      ]
     },
     "execution_count": 12,
     "metadata": {},
     "output_type": "execute_result"
    }
   ],
   "source": [
    "discard_probs['the'], discard_probs['he'], discard_probs.get('penelope')"
   ]
  },
  {
   "cell_type": "code",
   "execution_count": 13,
   "metadata": {},
   "outputs": [],
   "source": [
    "subsampled_word_seq = []\n",
    "for word in word_seq:\n",
    "    if discard_probs[word] < np.random.random():\n",
    "        subsampled_word_seq += [word]"
   ]
  },
  {
   "cell_type": "code",
   "execution_count": 14,
   "metadata": {},
   "outputs": [],
   "source": [
    "if DOWNSAMPLING:\n",
    "    word_seq = subsampled_word_seq"
   ]
  },
  {
   "cell_type": "markdown",
   "metadata": {},
   "source": [
    "### Counting the words"
   ]
  },
  {
   "cell_type": "code",
   "execution_count": 15,
   "metadata": {},
   "outputs": [
    {
     "data": {
      "text/plain": [
       "272712"
      ]
     },
     "execution_count": 15,
     "metadata": {},
     "output_type": "execute_result"
    }
   ],
   "source": [
    "counts = Counter(word_seq)\n",
    "word_cnt = sum(counts.values())\n",
    "word_cnt"
   ]
  },
  {
   "cell_type": "code",
   "execution_count": 16,
   "metadata": {},
   "outputs": [
    {
     "data": {
      "text/plain": [
       "(15905, 4746, 110)"
      ]
     },
     "execution_count": 16,
     "metadata": {},
     "output_type": "execute_result"
    }
   ],
   "source": [
    "counts['the'], counts['he'], counts['penelope']"
   ]
  },
  {
   "cell_type": "code",
   "execution_count": 17,
   "metadata": {},
   "outputs": [
    {
     "data": {
      "text/plain": [
       "(0.05832159934289653, 0.01740297456657573, 0.00040335592126492415)"
      ]
     },
     "execution_count": 17,
     "metadata": {},
     "output_type": "execute_result"
    }
   ],
   "source": [
    "counts['the']/word_cnt, counts['he']/word_cnt, counts['penelope']/word_cnt"
   ]
  },
  {
   "cell_type": "markdown",
   "metadata": {},
   "source": [
    "We extract the unique words"
   ]
  },
  {
   "cell_type": "code",
   "execution_count": 18,
   "metadata": {},
   "outputs": [
    {
     "data": {
      "text/plain": [
       "['a',\n",
       " 'abantes',\n",
       " 'abarbarea',\n",
       " 'abas',\n",
       " 'abate',\n",
       " 'abated',\n",
       " 'abetting',\n",
       " 'abhorred',\n",
       " 'abians',\n",
       " 'abide']"
      ]
     },
     "execution_count": 18,
     "metadata": {},
     "output_type": "execute_result"
    }
   ],
   "source": [
    "unique_words = sorted(list(counts.keys()))\n",
    "unique_words[:10]"
   ]
  },
  {
   "cell_type": "code",
   "execution_count": 19,
   "metadata": {},
   "outputs": [
    {
     "data": {
      "text/plain": [
       "9725"
      ]
     },
     "execution_count": 19,
     "metadata": {},
     "output_type": "execute_result"
    }
   ],
   "source": [
    "vocab_size = len(unique_words)\n",
    "vocab_size"
   ]
  },
  {
   "cell_type": "markdown",
   "metadata": {},
   "source": [
    "### Indices"
   ]
  },
  {
   "cell_type": "markdown",
   "metadata": {},
   "source": [
    "And we create indices"
   ]
  },
  {
   "cell_type": "code",
   "execution_count": 20,
   "metadata": {},
   "outputs": [],
   "source": [
    "word2idx = {word: i for (i, word) in enumerate(unique_words)}\n",
    "idx2word = {v: k for k, v in word2idx.items()}\n",
    "#word2idx"
   ]
  },
  {
   "cell_type": "markdown",
   "metadata": {},
   "source": [
    "We map the words to their indices and we get the sequence of word indices"
   ]
  },
  {
   "cell_type": "code",
   "execution_count": 21,
   "metadata": {},
   "outputs": [
    {
     "data": {
      "text/plain": [
       "[1037, 4334, 8518, 6666, 897]"
      ]
     },
     "execution_count": 21,
     "metadata": {},
     "output_type": "execute_result"
    }
   ],
   "source": [
    "widx_seq = list(map(word2idx.get, word_seq))\n",
    "widx_seq[:5]"
   ]
  },
  {
   "cell_type": "markdown",
   "metadata": {},
   "source": [
    "### Power transform"
   ]
  },
  {
   "cell_type": "markdown",
   "metadata": {},
   "source": [
    "We apply a power tranform to a list of counts and we return power transformed probabilities:\n",
    "$$\n",
    "\\frac{\\text{cnt}(w)^\\text{power}}{\\sum_i \\text{cnt}(w_i)^\\text{power}}\n",
    "$$"
   ]
  },
  {
   "cell_type": "code",
   "execution_count": 22,
   "metadata": {},
   "outputs": [],
   "source": [
    "def power_transform(counts, power):\n",
    "    trfmd_probs = dict()\n",
    "    for word in counts:\n",
    "        trfmd_probs[word] = math.pow(counts[word], power)\n",
    "    sum_probs = sum(trfmd_probs.values())\n",
    "    for word in trfmd_probs:\n",
    "        trfmd_probs[word] /= sum_probs\n",
    "    return trfmd_probs"
   ]
  },
  {
   "cell_type": "code",
   "execution_count": 23,
   "metadata": {},
   "outputs": [],
   "source": [
    "trfmd_probs = power_transform(counts, power)"
   ]
  },
  {
   "cell_type": "code",
   "execution_count": 24,
   "metadata": {},
   "outputs": [
    {
     "data": {
      "text/plain": [
       "(0.020224400021262735, 0.008165282068782646, 0.00048503145644814705)"
      ]
     },
     "execution_count": 24,
     "metadata": {},
     "output_type": "execute_result"
    }
   ],
   "source": [
    "trfmd_probs['the'], trfmd_probs['he'], trfmd_probs.get('penelope')"
   ]
  },
  {
   "cell_type": "markdown",
   "metadata": {},
   "source": [
    "### Negative sampling\n",
    "For each positive pair, and word and a context word, we draw $k$ words randomly to form negative pairs."
   ]
  },
  {
   "cell_type": "markdown",
   "metadata": {},
   "source": [
    "We build the index and proability lists for the random choice function"
   ]
  },
  {
   "cell_type": "code",
   "execution_count": 25,
   "metadata": {},
   "outputs": [],
   "source": [
    "trfmd_probs_idx = {word2idx[k]: v for k, v in trfmd_probs.items()}"
   ]
  },
  {
   "cell_type": "markdown",
   "metadata": {},
   "source": [
    "`random.choices` needs the index and the probabilities"
   ]
  },
  {
   "cell_type": "code",
   "execution_count": 26,
   "metadata": {},
   "outputs": [],
   "source": [
    "draw_idx, probs = zip(*trfmd_probs_idx.items())"
   ]
  },
  {
   "cell_type": "markdown",
   "metadata": {},
   "source": [
    "Given the words in the context, we draw $k$ as many words."
   ]
  },
  {
   "cell_type": "code",
   "execution_count": 27,
   "metadata": {},
   "outputs": [
    {
     "data": {
      "text/plain": [
       "[3562,\n",
       " 5982,\n",
       " 4334,\n",
       " 4160,\n",
       " 9163,\n",
       " 794,\n",
       " 5756,\n",
       " 4010,\n",
       " 4132,\n",
       " 2947,\n",
       " 184,\n",
       " 8989,\n",
       " 7237,\n",
       " 2313,\n",
       " 4132,\n",
       " 7399,\n",
       " 4839,\n",
       " 3569,\n",
       " 7372,\n",
       " 9399]"
      ]
     },
     "execution_count": 27,
     "metadata": {},
     "output_type": "execute_result"
    }
   ],
   "source": [
    "random.choices(draw_idx, weights=probs, k=K_NEG * 2 * w_size)"
   ]
  },
  {
   "cell_type": "markdown",
   "metadata": {},
   "source": [
    "## The pairs"
   ]
  },
  {
   "cell_type": "markdown",
   "metadata": {},
   "source": [
    "For all the words, we form positive and negative pairs. We extract the context words of a word from its neighbors in the word sequence to form the positive pairs and at random to form the negative ones."
   ]
  },
  {
   "cell_type": "code",
   "execution_count": 28,
   "metadata": {},
   "outputs": [
    {
     "name": "stderr",
     "output_type": "stream",
     "text": [
      "272708it [01:22, 3313.80it/s]\n"
     ]
    }
   ],
   "source": [
    "X_i = []\n",
    "X_c = []\n",
    "y = []\n",
    "for idx, widx in tqdm(enumerate(widx_seq[w_size:-w_size], w_size)):\n",
    "    # We create the start and end indices as in range(start, end)\n",
    "    start_idx = idx - w_size\n",
    "    end_idx = idx + w_size + 1\n",
    "    X_i += [widx_seq[idx]] * (K_NEG + 1) * 2 * w_size\n",
    "    X_c += [widx_seq[c_idx] for c_idx in\n",
    "               [*range(start_idx, idx), *range(idx + 1, end_idx)]]\n",
    "    X_c += random.choices(draw_idx, weights=probs,\n",
    "                              k=K_NEG * 2 * w_size)\n",
    "    #X_c += list(np.random.choice(draw_idx, size=K_NEG * 2 * w_size, p=probs))\n",
    "    y += [1] * w_size * 2 + [0] * w_size * 2 * K_NEG"
   ]
  },
  {
   "cell_type": "markdown",
   "metadata": {},
   "source": [
    "We build two inputs: The left input is the input word and the right one is a context word."
   ]
  },
  {
   "cell_type": "code",
   "execution_count": 29,
   "metadata": {},
   "outputs": [],
   "source": [
    "y = np.array(y)\n",
    "X_i = np.array(X_i)\n",
    "X_c = np.array(X_c)"
   ]
  },
  {
   "cell_type": "markdown",
   "metadata": {},
   "source": [
    "## The Architecture"
   ]
  },
  {
   "cell_type": "markdown",
   "metadata": {},
   "source": [
    "And now the architecture"
   ]
  },
  {
   "cell_type": "code",
   "execution_count": 30,
   "metadata": {},
   "outputs": [
    {
     "name": "stdout",
     "output_type": "stream",
     "text": [
      "Model: \"model\"\n",
      "__________________________________________________________________________________________________\n",
      "Layer (type)                    Output Shape         Param #     Connected to                     \n",
      "==================================================================================================\n",
      "input_1 (InputLayer)            [(None, 1)]          0                                            \n",
      "__________________________________________________________________________________________________\n",
      "input_2 (InputLayer)            [(None, 1)]          0                                            \n",
      "__________________________________________________________________________________________________\n",
      "embedding (Embedding)           (None, 1, 100)       972500      input_1[0][0]                    \n",
      "__________________________________________________________________________________________________\n",
      "embedding_1 (Embedding)         (None, 1, 100)       972500      input_2[0][0]                    \n",
      "__________________________________________________________________________________________________\n",
      "dot (Dot)                       (None, 1, 1)         0           embedding[0][0]                  \n",
      "                                                                 embedding_1[0][0]                \n",
      "__________________________________________________________________________________________________\n",
      "dense (Dense)                   (None, 1, 1)         2           dot[0][0]                        \n",
      "==================================================================================================\n",
      "Total params: 1,945,002\n",
      "Trainable params: 1,945,002\n",
      "Non-trainable params: 0\n",
      "__________________________________________________________________________________________________\n"
     ]
    }
   ],
   "source": [
    "i_word = Input(shape=(1,))\n",
    "i_embedding = Embedding(vocab_size, embedding_dim, input_length=1)(i_word)\n",
    "\n",
    "c_word = Input(shape=(1,))\n",
    "c_embedding = Embedding(vocab_size, embedding_dim, input_length=1)(c_word)\n",
    "\n",
    "dot_prod = Dot(axes=-1)([i_embedding, c_embedding])\n",
    "output = Dense(1, activation='sigmoid')(dot_prod)\n",
    "model = Model([i_word, c_word], output)\n",
    "model.summary()"
   ]
  },
  {
   "cell_type": "code",
   "execution_count": 31,
   "metadata": {},
   "outputs": [],
   "source": [
    "def loss_neg(y_true, y_pred):\n",
    "    y_true = tf.cast(y_true, tf.float32)\n",
    "    log_y_pred_1 = tf.math.log(y_pred)\n",
    "    log_y_pred_0 = tf.math.log(1.0 - y_pred)\n",
    "    loss = -tf.math.add(tf.math.multiply(y_true, log_y_pred_1),\n",
    "                       tf.math.multiply(1.0 - y_true, log_y_pred_0))\n",
    "    return loss"
   ]
  },
  {
   "cell_type": "code",
   "execution_count": 32,
   "metadata": {},
   "outputs": [],
   "source": [
    "model.compile(loss=loss_neg, optimizer='rmsprop')"
   ]
  },
  {
   "cell_type": "code",
   "execution_count": 33,
   "metadata": {},
   "outputs": [
    {
     "name": "stdout",
     "output_type": "stream",
     "text": [
      "Epoch 1/2\n",
      "12784/12784 [==============================] - 196s 15ms/step - loss: 0.4686\n",
      "Epoch 2/2\n",
      "12784/12784 [==============================] - 206s 16ms/step - loss: 0.4255\n"
     ]
    },
    {
     "data": {
      "text/plain": [
       "<tensorflow.python.keras.callbacks.History at 0x7fe3949292e0>"
      ]
     },
     "execution_count": 33,
     "metadata": {},
     "output_type": "execute_result"
    }
   ],
   "source": [
    "model.fit([X_i, X_c], y, epochs=2, batch_size=512)"
   ]
  },
  {
   "cell_type": "code",
   "execution_count": 34,
   "metadata": {},
   "outputs": [],
   "source": [
    "def most_sim_vecs(vector, U, nbr_words=10):\n",
    "    # Here cosine distance and not cosine\n",
    "    # distance between equal vectors: 0. max distance: 2\n",
    "    dist = [cosine(vector, U[i, :]) if np.any(U[i, :]) else 2\n",
    "            for i in range(U.shape[0])]\n",
    "    sorted_vectors = sorted(range(len(dist)), key=lambda k: dist[k])\n",
    "    return sorted_vectors[1:nbr_words + 1]"
   ]
  },
  {
   "cell_type": "code",
   "execution_count": 35,
   "metadata": {},
   "outputs": [
    {
     "name": "stdout",
     "output_type": "stream",
     "text": [
      "he ['she', 'they', 'so', 'it', 'even', 'as', 'there', 'thus', 'we', 'ulysses']\n",
      "she ['he', 'they', 'even', 'thus', 'there', 'ulysses', 'it', 'so', 'minerva', 'much']\n",
      "ulysses ['achilles', 'minerva', 'telemachus', 'hector', 'heaven', 'jove', 'menelaus', 'this', 'himself', 'patroclus']\n",
      "penelope ['juno', 'o', 'ill', 'enough', 'alive', 'always', 'yourself', 'already', 'moreover', 'care']\n",
      "achaeans ['trojans', 'gods', 'other', 'argives', 'men', 'city', 'suitors', 'sea', 'danaans', 'others']\n",
      "trojans ['sea', 'city', 'achaeans', 'argives', 'other', 'ground', 'ships', 'danaans', 'wall', 'body']\n"
     ]
    }
   ],
   "source": [
    "vectors = model.get_weights()[0]\n",
    "most_sim_words = {}\n",
    "for w in test_words:\n",
    "    most_sim_words[w] = most_sim_vecs(vectors[word2idx[w]], vectors)\n",
    "    most_sim_words[w] = list(map(idx2word.get, most_sim_words[w]))\n",
    "    print(w, most_sim_words[w])"
   ]
  },
  {
   "cell_type": "code",
   "execution_count": 36,
   "metadata": {},
   "outputs": [
    {
     "data": {
      "text/plain": [
       "\"\\nbase 2 epochs\\nhe ['i', 'you', 'a', 'his', 'him', 'as', 'with', 'that', 'for', 'in']\\nshe ['her', 'who', 'no', 'or', 'their', 'this', 'be', 'your', 'one', 'said']\\nulysses ['s', 'out', 'us', 'minerva', 'there', 'achilles', 'now', 'went', 'has', 'came']\\npenelope ['each', 'hands', 'gone', 'battle', 'looking', 'drink', 'telemachus', 'priam', 'same', 'fight']\\nachaeans ['ships', 'trojans', 'city', 'gods', 'sea', 'suitors', 'town', 'darkness', 'meanwhile', 'house']\\ntrojans ['sea', 'achaeans', 'ships', 'suitors', 'city', 'getting', 'goddess', 'gods', 'house', 'before']\\n\""
      ]
     },
     "execution_count": 36,
     "metadata": {},
     "output_type": "execute_result"
    }
   ],
   "source": [
    "\"\"\"\n",
    "base 2 epochs\n",
    "he ['i', 'you', 'a', 'his', 'him', 'as', 'with', 'that', 'for', 'in']\n",
    "she ['her', 'who', 'no', 'or', 'their', 'this', 'be', 'your', 'one', 'said']\n",
    "ulysses ['s', 'out', 'us', 'minerva', 'there', 'achilles', 'now', 'went', 'has', 'came']\n",
    "penelope ['each', 'hands', 'gone', 'battle', 'looking', 'drink', 'telemachus', 'priam', 'same', 'fight']\n",
    "achaeans ['ships', 'trojans', 'city', 'gods', 'sea', 'suitors', 'town', 'darkness', 'meanwhile', 'house']\n",
    "trojans ['sea', 'achaeans', 'ships', 'suitors', 'city', 'getting', 'goddess', 'gods', 'house', 'before']\n",
    "\"\"\""
   ]
  },
  {
   "cell_type": "code",
   "execution_count": 37,
   "metadata": {},
   "outputs": [
    {
     "data": {
      "text/plain": [
       "\"\\npower transform 2 epochs\\nhe ['i', 'you', 'as', 'him', 'not', 'that', 'it', 'they', 'was', 'had']\\nshe ['your', 'us', 'take', 'back', 'some', 's', 'may', 'go', 'let', 'which']\\nulysses ['this', 'what', 'could', 'spoke', 'can', 'make', 'answered', 'made', 'hector', 'telemachus']\\npenelope ['find', 'let', 'than', 'think', 'noble', 'bring', 'back', 'himself', 'olympus', 'great']\\nachaeans ['among', 'gods', 'out', 'same', 'ships', 'city', 'where', 'house', 'gates', 'suitors']\\ntrojans ['achaeans', 'ranks', 'rest', 'among', 'ground', 'others', 'suitors', 'island', 'dust', 'gates']\\n\""
      ]
     },
     "execution_count": 37,
     "metadata": {},
     "output_type": "execute_result"
    }
   ],
   "source": [
    "\"\"\"\n",
    "power transform 2 epochs\n",
    "he ['i', 'you', 'as', 'him', 'not', 'that', 'it', 'they', 'was', 'had']\n",
    "she ['your', 'us', 'take', 'back', 'some', 's', 'may', 'go', 'let', 'which']\n",
    "ulysses ['this', 'what', 'could', 'spoke', 'can', 'make', 'answered', 'made', 'hector', 'telemachus']\n",
    "penelope ['find', 'let', 'than', 'think', 'noble', 'bring', 'back', 'himself', 'olympus', 'great']\n",
    "achaeans ['among', 'gods', 'out', 'same', 'ships', 'city', 'where', 'house', 'gates', 'suitors']\n",
    "trojans ['achaeans', 'ranks', 'rest', 'among', 'ground', 'others', 'suitors', 'island', 'dust', 'gates']\n",
    "\"\"\""
   ]
  },
  {
   "cell_type": "code",
   "execution_count": 38,
   "metadata": {},
   "outputs": [
    {
     "data": {
      "text/plain": [
       "\"\\npower transform 2 epochs, neg loss\\nhe ['you', 'i', 'it', 'cover', 'will', 'have', 'that', 'him', 'was', 'heal']\\nshe ['ulysses', 'troy', 'did', 'long', 'jove', 'battle', 'very', 'put', 'her', 'think']\\nulysses ['jove', 'be', 'battle', 'go', 'did', 'thus', 'after', 'think', 'friends', 'never']\\npenelope ['round', 'house', 'keep', 'host', 'strength', 'achaeans', 'presently', 'whom', 'servants', 'both']\\nachaeans ['into', 'house', 'other', 'gods', 'fire', 'both', 'city', 'host', 'king', 'back']\\ntrojans ['into', 'other', 'about', 'themselves', 'away', 'sea', 'through', 'among', 'achaeans', 'back']\""
      ]
     },
     "execution_count": 38,
     "metadata": {},
     "output_type": "execute_result"
    }
   ],
   "source": [
    "\"\"\"\n",
    "power transform 2 epochs, neg loss\n",
    "he ['you', 'i', 'it', 'cover', 'will', 'have', 'that', 'him', 'was', 'heal']\n",
    "she ['ulysses', 'troy', 'did', 'long', 'jove', 'battle', 'very', 'put', 'her', 'think']\n",
    "ulysses ['jove', 'be', 'battle', 'go', 'did', 'thus', 'after', 'think', 'friends', 'never']\n",
    "penelope ['round', 'house', 'keep', 'host', 'strength', 'achaeans', 'presently', 'whom', 'servants', 'both']\n",
    "achaeans ['into', 'house', 'other', 'gods', 'fire', 'both', 'city', 'host', 'king', 'back']\n",
    "trojans ['into', 'other', 'about', 'themselves', 'away', 'sea', 'through', 'among', 'achaeans', 'back']\"\"\""
   ]
  },
  {
   "cell_type": "code",
   "execution_count": 39,
   "metadata": {},
   "outputs": [
    {
     "data": {
      "text/plain": [
       "\"\\npower transform 2 epochs, neg loss\\nhe ['she', 'they', 'it', 'so', 'even', 'there', 'we', 'i', 'as', 'ulysses']\\nshe ['he', 'they', 'ulysses', 'minerva', 'it', 'even', 'thus', 'achilles', 'there', 'much']\\nulysses ['achilles', 'telemachus', 'minerva', 'heaven', 'hector', 'menelaus', 'apollo', 'this', 'jove', 'himself']\\npenelope ['eumaeus', 'already', 'juno', 'ill', 'sleep', 'kill', 'alone', 'antinous', 'return', 'alive']\\nachaeans ['gods', 'trojans', 'argives', 'city', 'suitors', 'danaans', 'other', 'wall', 'whole', 'men']\\ntrojans ['city', 'sea', 'achaeans', 'argives', 'gods', 'wall', 'ground', 'other', 'suitors', 'whole']\\n\""
      ]
     },
     "execution_count": 39,
     "metadata": {},
     "output_type": "execute_result"
    }
   ],
   "source": [
    "\"\"\"\n",
    "power transform 2 epochs, neg loss\n",
    "he ['she', 'they', 'it', 'so', 'even', 'there', 'we', 'i', 'as', 'ulysses']\n",
    "she ['he', 'they', 'ulysses', 'minerva', 'it', 'even', 'thus', 'achilles', 'there', 'much']\n",
    "ulysses ['achilles', 'telemachus', 'minerva', 'heaven', 'hector', 'menelaus', 'apollo', 'this', 'jove', 'himself']\n",
    "penelope ['eumaeus', 'already', 'juno', 'ill', 'sleep', 'kill', 'alone', 'antinous', 'return', 'alive']\n",
    "achaeans ['gods', 'trojans', 'argives', 'city', 'suitors', 'danaans', 'other', 'wall', 'whole', 'men']\n",
    "trojans ['city', 'sea', 'achaeans', 'argives', 'gods', 'wall', 'ground', 'other', 'suitors', 'whole']\n",
    "\"\"\""
   ]
  },
  {
   "cell_type": "code",
   "execution_count": 40,
   "metadata": {},
   "outputs": [
    {
     "data": {
      "text/plain": [
       "\"\\npower transform 8 epochs, neg loss\\nhe ['you', 'i', 'it', 'cover', 'will', 'have', 'that', 'him', 'was', 'heal']\\nshe ['ulysses', 'troy', 'did', 'long', 'jove', 'battle', 'very', 'put', 'her', 'think']\\nulysses ['jove', 'be', 'battle', 'go', 'did', 'thus', 'after', 'think', 'friends', 'never']\\npenelope ['round', 'house', 'keep', 'host', 'strength', 'achaeans', 'presently', 'whom', 'servants', 'both']\\nachaeans ['into', 'house', 'other', 'gods', 'fire', 'both', 'city', 'host', 'king', 'back']\\ntrojans ['into', 'other', 'about', 'themselves', 'away', 'sea', 'through', 'among', 'achaeans', 'back']\\n\""
      ]
     },
     "execution_count": 40,
     "metadata": {},
     "output_type": "execute_result"
    }
   ],
   "source": [
    "\"\"\"\n",
    "power transform 8 epochs, neg loss\n",
    "he ['you', 'i', 'it', 'cover', 'will', 'have', 'that', 'him', 'was', 'heal']\n",
    "she ['ulysses', 'troy', 'did', 'long', 'jove', 'battle', 'very', 'put', 'her', 'think']\n",
    "ulysses ['jove', 'be', 'battle', 'go', 'did', 'thus', 'after', 'think', 'friends', 'never']\n",
    "penelope ['round', 'house', 'keep', 'host', 'strength', 'achaeans', 'presently', 'whom', 'servants', 'both']\n",
    "achaeans ['into', 'house', 'other', 'gods', 'fire', 'both', 'city', 'host', 'king', 'back']\n",
    "trojans ['into', 'other', 'about', 'themselves', 'away', 'sea', 'through', 'among', 'achaeans', 'back']\n",
    "\"\"\""
   ]
  },
  {
   "cell_type": "code",
   "execution_count": 41,
   "metadata": {},
   "outputs": [
    {
     "data": {
      "text/plain": [
       "\"\\npower transform 2 epochs, neg loss\\nhe ['she', 'they', 'i', 'we', 'it', 'there', 'who', 'not', 'been', 'so']\\nshe ['he', 'they', 'we', 'i', 'there', 'it', 'who', 'so', 'ever', 'never']\\nparis ['wold', 'immediate', 'france', 'spring', 'scorn', 'amazement', 'india', 'families', 'behalf', 'emphasis']\\nlondon ['themselves', 'death', 'itself', 'either', 'dinner', 'confidence', 'getting', 'waiting', 'purpose', 'law']\\ntable ['fire', 'window', 'street', 'whole', 'chair', 'light', 'air', 'corner', 'glass', 'dark']\\nrare ['selfish', 'responsible', 'famous', 'convenient', 'evremonde', 'reward', 'learning', 'deaf', 'affliction', 'shy']\\nmonday ['succeeding', 'musing', 'flowing', 'lightning', 'labouring', 'boxes', 'twist', 'yorkshire', 'subsequent', 'frost']\\nsunday ['trial', 'brothers', 'birds', 'gloomy', 'fields', 'song', 'cottage', 'instrument', 'aspect', 'pot']\\nman ['gentleman', 'lady', 'woman', 'time', 'young', 'house', 'day', 'little', 'old', 'room']\\nwoman ['girl', 'gentleman', 'child', 'moment', 'voice', 'thing', 'boy', 'word', 'lady', 'morning']\\nking ['establishment', 'ship', 'beadle', 'roof', 'furniture', 'brothers', 'birds', 'news', 'worst', 'history']\\nqueen ['bills', 'shivering', 'exertion', 'liquor', 'labour', 'horrible', 'dish', 'railway', 'monseigneur', 'painted']\\nboy ['child', 'captain', 'girl', 'name', 'doctor', 'friend', 'woman', 'mother', 'heart', 'father']\\ngirl ['doctor', 'fellow', 'master', 'chapter', 'captain', 'person', 'child', 'matter', 'family', 'word']\\n\\n\""
      ]
     },
     "execution_count": 41,
     "metadata": {},
     "output_type": "execute_result"
    }
   ],
   "source": [
    "\"\"\"\n",
    "power transform 2 epochs, neg loss\n",
    "he ['she', 'they', 'i', 'we', 'it', 'there', 'who', 'not', 'been', 'so']\n",
    "she ['he', 'they', 'we', 'i', 'there', 'it', 'who', 'so', 'ever', 'never']\n",
    "paris ['wold', 'immediate', 'france', 'spring', 'scorn', 'amazement', 'india', 'families', 'behalf', 'emphasis']\n",
    "london ['themselves', 'death', 'itself', 'either', 'dinner', 'confidence', 'getting', 'waiting', 'purpose', 'law']\n",
    "table ['fire', 'window', 'street', 'whole', 'chair', 'light', 'air', 'corner', 'glass', 'dark']\n",
    "rare ['selfish', 'responsible', 'famous', 'convenient', 'evremonde', 'reward', 'learning', 'deaf', 'affliction', 'shy']\n",
    "monday ['succeeding', 'musing', 'flowing', 'lightning', 'labouring', 'boxes', 'twist', 'yorkshire', 'subsequent', 'frost']\n",
    "sunday ['trial', 'brothers', 'birds', 'gloomy', 'fields', 'song', 'cottage', 'instrument', 'aspect', 'pot']\n",
    "man ['gentleman', 'lady', 'woman', 'time', 'young', 'house', 'day', 'little', 'old', 'room']\n",
    "woman ['girl', 'gentleman', 'child', 'moment', 'voice', 'thing', 'boy', 'word', 'lady', 'morning']\n",
    "king ['establishment', 'ship', 'beadle', 'roof', 'furniture', 'brothers', 'birds', 'news', 'worst', 'history']\n",
    "queen ['bills', 'shivering', 'exertion', 'liquor', 'labour', 'horrible', 'dish', 'railway', 'monseigneur', 'painted']\n",
    "boy ['child', 'captain', 'girl', 'name', 'doctor', 'friend', 'woman', 'mother', 'heart', 'father']\n",
    "girl ['doctor', 'fellow', 'master', 'chapter', 'captain', 'person', 'child', 'matter', 'family', 'word']\n",
    "\n",
    "\"\"\""
   ]
  },
  {
   "cell_type": "code",
   "execution_count": 42,
   "metadata": {},
   "outputs": [
    {
     "data": {
      "text/plain": [
       "\"\\npower transform 2 epochs, cross entropy loss\\nhe ['she', 'they', 'i', 'it', 'we', 'there', 'never', 'topographical', 'ever', 'who']\\nshe ['he', 'they', 'we', 'i', 'it', 'there', 'never', 'ever', 'who', 'much']\\nparis ['wold', 'france', 'mutton', 'chancery', 'coketown', 'advance', 'immediate', 'chesney', 'walks', 'despair']\\nlondon ['themselves', 'itself', 'death', 'dinner', 'speaking', 'several', 'either', 'ten', 'walking', 'immediately']\\ntable ['window', 'fire', 'street', 'corner', 'whole', 'ground', 'light', 'glass', 'chair', 'wall']\\nrare ['severe', 'suspicious', 'trifling', 'distinction', 'unpleasant', 'emphatic', 'ale', 'fearful', 'failing', 'monstrous']\\nmonday ['deck', 'peeping', 'tiptoe', 'kneeling', 'rushing', 'eastern', 'floating', 'shuddering', 'glittering', 'balls']\\nsunday ['blank', 'christmas', 'lonely', 'nights', 'travelling', 'notes', 'counter', 'porter', 'fields', 'french']\\nman ['gentleman', 'lady', 'woman', 'young', 'time', 'old', 'boy', 'little', 'house', 'day']\\nwoman ['girl', 'gentleman', 'boy', 'child', 'lady', 'fellow', 'person', 'thing', 'moment', 'matter']\\nking ['establishment', 'inside', 'chief', 'ghost', 'roof', 'clerk', 'worst', 'bar', 'ship', 'furniture']\\nqueen ['instruments', 'adventure', 'organ', 'glorious', 'scheme', 'estate', 'expense', 'list', 'footing', 'style']\\nboy ['child', 'girl', 'captain', 'doctor', 'woman', 'name', 'poor', 'fellow', 'matter', 'morning']\\ngirl ['child', 'doctor', 'boy', 'fellow', 'matter', 'captain', 'woman', 'master', 'family', 'major']\\n\\n\""
      ]
     },
     "execution_count": 42,
     "metadata": {},
     "output_type": "execute_result"
    }
   ],
   "source": [
    "\"\"\"\n",
    "power transform 2 epochs, cross entropy loss\n",
    "he ['she', 'they', 'i', 'it', 'we', 'there', 'never', 'topographical', 'ever', 'who']\n",
    "she ['he', 'they', 'we', 'i', 'it', 'there', 'never', 'ever', 'who', 'much']\n",
    "paris ['wold', 'france', 'mutton', 'chancery', 'coketown', 'advance', 'immediate', 'chesney', 'walks', 'despair']\n",
    "london ['themselves', 'itself', 'death', 'dinner', 'speaking', 'several', 'either', 'ten', 'walking', 'immediately']\n",
    "table ['window', 'fire', 'street', 'corner', 'whole', 'ground', 'light', 'glass', 'chair', 'wall']\n",
    "rare ['severe', 'suspicious', 'trifling', 'distinction', 'unpleasant', 'emphatic', 'ale', 'fearful', 'failing', 'monstrous']\n",
    "monday ['deck', 'peeping', 'tiptoe', 'kneeling', 'rushing', 'eastern', 'floating', 'shuddering', 'glittering', 'balls']\n",
    "sunday ['blank', 'christmas', 'lonely', 'nights', 'travelling', 'notes', 'counter', 'porter', 'fields', 'french']\n",
    "man ['gentleman', 'lady', 'woman', 'young', 'time', 'old', 'boy', 'little', 'house', 'day']\n",
    "woman ['girl', 'gentleman', 'boy', 'child', 'lady', 'fellow', 'person', 'thing', 'moment', 'matter']\n",
    "king ['establishment', 'inside', 'chief', 'ghost', 'roof', 'clerk', 'worst', 'bar', 'ship', 'furniture']\n",
    "queen ['instruments', 'adventure', 'organ', 'glorious', 'scheme', 'estate', 'expense', 'list', 'footing', 'style']\n",
    "boy ['child', 'girl', 'captain', 'doctor', 'woman', 'name', 'poor', 'fellow', 'matter', 'morning']\n",
    "girl ['child', 'doctor', 'boy', 'fellow', 'matter', 'captain', 'woman', 'master', 'family', 'major']\n",
    "\n",
    "\"\"\""
   ]
  }
 ],
 "metadata": {
  "kernelspec": {
   "display_name": "Python 3",
   "language": "python",
   "name": "python3"
  },
  "language_info": {
   "codemirror_mode": {
    "name": "ipython",
    "version": 3
   },
   "file_extension": ".py",
   "mimetype": "text/x-python",
   "name": "python",
   "nbconvert_exporter": "python",
   "pygments_lexer": "ipython3",
   "version": "3.8.8"
  }
 },
 "nbformat": 4,
 "nbformat_minor": 4
}
