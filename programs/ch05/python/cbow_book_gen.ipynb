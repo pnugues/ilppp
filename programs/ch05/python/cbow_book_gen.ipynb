{
 "cells": [
  {
   "cell_type": "markdown",
   "metadata": {},
   "source": [
    "# A simple implementation of CBOW\n",
    "\n",
    "Adapted from _Efficient estimation of word representations in vector space_ by Mikolov et al., 2013.\n",
    "\n",
    "Author: Pierre Nugues"
   ]
  },
  {
   "cell_type": "markdown",
   "metadata": {},
   "source": [
    "The imports"
   ]
  },
  {
   "cell_type": "code",
   "execution_count": 1,
   "metadata": {},
   "outputs": [],
   "source": [
    "from tensorflow.keras import backend\n",
    "from tensorflow.keras.models import Sequential\n",
    "from tensorflow.keras.layers import Dense, Embedding, Lambda, Average, GlobalAveragePooling1D\n",
    "import regex as re\n",
    "import os\n",
    "from tensorflow.keras.utils import to_categorical\n",
    "import numpy as np\n",
    "from scipy.spatial.distance import cosine\n",
    "from tqdm import tqdm\n",
    "from random import shuffle"
   ]
  },
  {
   "cell_type": "markdown",
   "metadata": {},
   "source": [
    "## Parameters"
   ]
  },
  {
   "cell_type": "markdown",
   "metadata": {},
   "source": [
    "The embedding size and context size"
   ]
  },
  {
   "cell_type": "code",
   "execution_count": 2,
   "metadata": {},
   "outputs": [],
   "source": [
    "embedding_dim = 100\n",
    "w_size = 2\n",
    "c_size = w_size * 2 + 1"
   ]
  },
  {
   "cell_type": "markdown",
   "metadata": {},
   "source": [
    "## The Corpus"
   ]
  },
  {
   "cell_type": "markdown",
   "metadata": {},
   "source": [
    "We can choose between dataset and execute locally or on colab"
   ]
  },
  {
   "cell_type": "code",
   "execution_count": 3,
   "metadata": {},
   "outputs": [],
   "source": [
    "dataset = 'dickens'  # 'homer' dickens' 'selma' 'big'\n",
    "colab = False # On my machine or on colab\n",
    "debug = False"
   ]
  },
  {
   "cell_type": "code",
   "execution_count": 4,
   "metadata": {},
   "outputs": [],
   "source": [
    "if colab:\n",
    "    BASE_PATH = '/content/drive/My Drive/Colab Notebooks/'\n",
    "else:\n",
    "    BASE_PATH = '../../../'"
   ]
  },
  {
   "cell_type": "code",
   "execution_count": 5,
   "metadata": {},
   "outputs": [],
   "source": [
    "if colab:\n",
    "    from google.colab import drive\n",
    "    drive.mount('/content/drive')"
   ]
  },
  {
   "cell_type": "markdown",
   "metadata": {},
   "source": [
    "We read the files from a folder"
   ]
  },
  {
   "cell_type": "code",
   "execution_count": 6,
   "metadata": {},
   "outputs": [],
   "source": [
    "def get_files(dir, suffix):\n",
    "    \"\"\"\n",
    "    Returns all the files in a folder ending with suffix\n",
    "    :param dir:\n",
    "    :param suffix:\n",
    "    :return: the list of file names\n",
    "    \"\"\"\n",
    "    files = []\n",
    "    for file in os.listdir(dir):\n",
    "        if file.endswith(suffix):\n",
    "            files.append(file)\n",
    "    return files\n",
    "\n",
    "\n",
    "def load_corpus(path):\n",
    "    files = get_files(path, 'txt')\n",
    "    files = [path + file for file in files]\n",
    "    print(files)\n",
    "    text = ''\n",
    "    for file in files:\n",
    "        text += open(file).read()\n",
    "    return text"
   ]
  },
  {
   "cell_type": "code",
   "execution_count": 7,
   "metadata": {},
   "outputs": [
    {
     "name": "stdout",
     "output_type": "stream",
     "text": [
      "['../../../corpus/Dickens/Hard Times.txt', '../../../corpus/Dickens/Oliver Twist.txt', '../../../corpus/Dickens/Great Expectations.txt', '../../../corpus/Dickens/The Old Curiosity Shop.txt', '../../../corpus/Dickens/A Tale of Two Cities.txt', '../../../corpus/Dickens/Dombey and Son.txt', '../../../corpus/Dickens/The Pickwick Papers.txt', '../../../corpus/Dickens/Bleak House.txt', '../../../corpus/Dickens/Our Mutual Friend.txt', '../../../corpus/Dickens/The Mystery of Edwin Drood.txt', '../../../corpus/Dickens/Nicholas Nickleby.txt', '../../../corpus/Dickens/David Copperfield.txt', '../../../corpus/Dickens/Little Dorrit.txt', '../../../corpus/Dickens/A Christmas Carol in Prose.txt']\n"
     ]
    }
   ],
   "source": [
    "if dataset == 'homer':\n",
    "    #text = 'Sing, O goddess, the anger of Achilles son of Peleus'.lower()\n",
    "    text1 = open(BASE_PATH + 'corpus/iliad.mb.txt', encoding='utf-8').read().lower()\n",
    "    text2 = open(BASE_PATH + 'corpus/odyssey.mb.txt', encoding='utf-8').read().lower()\n",
    "    text = text1 + text2\n",
    "    test_words = ['he', 'she', 'ulysses', 'penelope', 'achaeans', 'trojans']\n",
    "if dataset == 'dickens':\n",
    "    path = BASE_PATH + 'corpus/Dickens/'\n",
    "    text = load_corpus(path)\n",
    "    test_words = ['he', 'she', 'paris', 'london', 'table', 'rare', 'monday', 'sunday', 'man', 'woman', 'king', 'queen', 'boy',\n",
    "                  'girl']\n",
    "elif dataset == 'selma':\n",
    "    path = BASE_PATH + 'corpus/Selma/'\n",
    "    text = load_corpus(path)\n",
    "    test_words = ['han', 'hon', 'att', 'bord', 'bordet', 'måndag', 'söndag', 'man', 'kvinna', 'kung', 'drottning',\n",
    "                  'pojke', 'flicka']\n",
    "elif dataset == 'big':\n",
    "    path = BASE_PATH + 'corpus/Dickens/'\n",
    "    text = load_corpus(path)\n",
    "    path = BASE_PATH + 'corpus/Norvig/'\n",
    "    text += load_corpus(path)\n",
    "    test_words = ['he', 'she', 'paris', 'london', 'table', 'rare', 'monday', 'sunday', 'man', 'woman', 'king', 'queen', 'boy',\n",
    "                  'girl']    "
   ]
  },
  {
   "cell_type": "markdown",
   "metadata": {},
   "source": [
    "## Processing the Corpus"
   ]
  },
  {
   "cell_type": "markdown",
   "metadata": {},
   "source": [
    "We set all the text in lowercase"
   ]
  },
  {
   "cell_type": "code",
   "execution_count": 8,
   "metadata": {},
   "outputs": [
    {
     "data": {
      "text/plain": [
       "['hard', 'times', 'and', 'reprinted', 'pieces']"
      ]
     },
     "execution_count": 8,
     "metadata": {},
     "output_type": "execute_result"
    }
   ],
   "source": [
    "text = text.lower()\n",
    "words = re.findall('\\p{L}+', text)\n",
    "words[:5]"
   ]
  },
  {
   "cell_type": "markdown",
   "metadata": {},
   "source": [
    "We extract the unique words"
   ]
  },
  {
   "cell_type": "code",
   "execution_count": 9,
   "metadata": {},
   "outputs": [
    {
     "data": {
      "text/plain": [
       "['a',\n",
       " 'aaron',\n",
       " 'aback',\n",
       " 'abaft',\n",
       " 'abandon',\n",
       " 'abandoned',\n",
       " 'abandoning',\n",
       " 'abandonment',\n",
       " 'abandons',\n",
       " 'abase']"
      ]
     },
     "execution_count": 9,
     "metadata": {},
     "output_type": "execute_result"
    }
   ],
   "source": [
    "unique_words = sorted(list(set(words)))\n",
    "unique_words[:10]"
   ]
  },
  {
   "cell_type": "code",
   "execution_count": 10,
   "metadata": {},
   "outputs": [
    {
     "data": {
      "text/plain": [
       "35221"
      ]
     },
     "execution_count": 10,
     "metadata": {},
     "output_type": "execute_result"
    }
   ],
   "source": [
    "vocab_size = len(unique_words)\n",
    "vocab_size"
   ]
  },
  {
   "cell_type": "markdown",
   "metadata": {},
   "source": [
    "And we create indices"
   ]
  },
  {
   "cell_type": "code",
   "execution_count": 11,
   "metadata": {},
   "outputs": [],
   "source": [
    "word2idx = {word: i for (i, word) in enumerate(unique_words)}\n",
    "idx2word = {v: k for k, v in word2idx.items()}\n",
    "#word2idx"
   ]
  },
  {
   "cell_type": "markdown",
   "metadata": {},
   "source": [
    "We map the words to their indices"
   ]
  },
  {
   "cell_type": "code",
   "execution_count": 12,
   "metadata": {},
   "outputs": [
    {
     "data": {
      "text/plain": [
       "[14222, 31182, 1071, 25401, 22543]"
      ]
     },
     "execution_count": 12,
     "metadata": {},
     "output_type": "execute_result"
    }
   ],
   "source": [
    "word_idxs = list(map(word2idx.get, words))\n",
    "word_idxs[:5]"
   ]
  },
  {
   "cell_type": "markdown",
   "metadata": {},
   "source": [
    "## The Architecture"
   ]
  },
  {
   "cell_type": "markdown",
   "metadata": {},
   "source": [
    "And now the architecture"
   ]
  },
  {
   "cell_type": "code",
   "execution_count": 13,
   "metadata": {},
   "outputs": [
    {
     "name": "stdout",
     "output_type": "stream",
     "text": [
      "Model: \"sequential\"\n",
      "_________________________________________________________________\n",
      "Layer (type)                 Output Shape              Param #   \n",
      "=================================================================\n",
      "embedding (Embedding)        (None, 4, 100)            3522100   \n",
      "_________________________________________________________________\n",
      "lambda (Lambda)              (None, 100)               0         \n",
      "_________________________________________________________________\n",
      "dense (Dense)                (None, 35221)             3557321   \n",
      "=================================================================\n",
      "Total params: 7,079,421\n",
      "Trainable params: 7,079,421\n",
      "Non-trainable params: 0\n",
      "_________________________________________________________________\n"
     ]
    }
   ],
   "source": [
    "model = Sequential([\n",
    "    Embedding(vocab_size, embedding_dim, input_length=2 * w_size),\n",
    "    #GlobalAveragePooling1D(),\n",
    "    #Lambda(lambda x: backend.sum(x, axis=1)),\n",
    "    Lambda(lambda x: backend.mean(x, axis=1)),\n",
    "    Dense(vocab_size, activation='softmax')\n",
    "])\n",
    "model.summary()"
   ]
  },
  {
   "cell_type": "code",
   "execution_count": 14,
   "metadata": {},
   "outputs": [],
   "source": [
    "model.compile(loss='sparse_categorical_crossentropy', optimizer='rmsprop')"
   ]
  },
  {
   "cell_type": "markdown",
   "metadata": {},
   "source": [
    "## Training the Model"
   ]
  },
  {
   "cell_type": "markdown",
   "metadata": {},
   "source": [
    "We have two batch generators: one with indices as they come in the list, one with shuffled indices. Not sure which one is the best."
   ]
  },
  {
   "cell_type": "code",
   "execution_count": 15,
   "metadata": {},
   "outputs": [],
   "source": [
    "BATCH_SIZE = 1024"
   ]
  },
  {
   "cell_type": "code",
   "execution_count": 16,
   "metadata": {},
   "outputs": [],
   "source": [
    "def minibatch_generator_shuffled(words):\n",
    "    max_start_inx = len(words) - c_size\n",
    "    batch_cnt = int(np.ceil(max_start_inx / BATCH_SIZE))\n",
    "    shuffled_start_inx = np.array(range(max_start_inx))\n",
    "    shuffle(shuffled_start_inx)\n",
    "    for i in range(batch_cnt):    \n",
    "        batch_indices = shuffled_start_inx[range(i * BATCH_SIZE, \n",
    "                                                 min((i + 1) * BATCH_SIZE, max_start_inx))]\n",
    "        context_batch = []\n",
    "        label_batch = []\n",
    "        for start_inx in batch_indices:\n",
    "            mid_inx = start_inx + w_size\n",
    "            end_inx = start_inx + c_size\n",
    "            context = words[start_inx:mid_inx] + words[mid_inx + 1:end_inx]\n",
    "            label = words[mid_inx]\n",
    "            context_batch.append(context)\n",
    "            label_batch.append(words[mid_inx])\n",
    "        X = np.array(context_batch)\n",
    "        y = np.array(label_batch)\n",
    "        yield X, y"
   ]
  },
  {
   "cell_type": "code",
   "execution_count": 17,
   "metadata": {},
   "outputs": [],
   "source": [
    "def minibatch_generator(words):\n",
    "    max_start_inx = len(words) - c_size\n",
    "    batch_cnt = int(np.ceil(max_start_inx / BATCH_SIZE))\n",
    "    for i in range(batch_cnt):\n",
    "        batch_indices = range(i * BATCH_SIZE, \n",
    "                              min((i + 1) * BATCH_SIZE, max_start_inx))\n",
    "        context_batch = []\n",
    "        label_batch = []\n",
    "        for start_inx in batch_indices:\n",
    "            mid_inx = start_inx + w_size\n",
    "            end_inx = start_inx + c_size\n",
    "            context = words[start_inx:mid_inx] + words[mid_inx + 1:end_inx]\n",
    "            label = words[mid_inx]\n",
    "            context_batch.append(context)\n",
    "            label_batch.append(words[mid_inx])\n",
    "        X = np.array(context_batch)\n",
    "        y = np.array(label_batch)\n",
    "        yield X, y"
   ]
  },
  {
   "cell_type": "markdown",
   "metadata": {},
   "source": [
    "The function to measure the vector similarity"
   ]
  },
  {
   "cell_type": "code",
   "execution_count": 18,
   "metadata": {},
   "outputs": [],
   "source": [
    "def most_sim_vecs(vector, U, nbr_words=10):\n",
    "    # Here cosine distance and not cosine\n",
    "    # distance between equal vectors: 0. max distance: 2\n",
    "    dist = [cosine(vector, U[i, :]) if np.any(U[i, :]) else 2\n",
    "            for i in range(U.shape[0])]\n",
    "    sorted_vectors = sorted(range(len(dist)), key=lambda k: dist[k])\n",
    "    return sorted_vectors[1:nbr_words + 1]"
   ]
  },
  {
   "cell_type": "code",
   "execution_count": 19,
   "metadata": {},
   "outputs": [],
   "source": [
    "EPOCHS = 10"
   ]
  },
  {
   "cell_type": "markdown",
   "metadata": {},
   "source": [
    "And the training loop"
   ]
  },
  {
   "cell_type": "code",
   "execution_count": 20,
   "metadata": {},
   "outputs": [
    {
     "name": "stderr",
     "output_type": "stream",
     "text": [
      "0it [00:00, ?it/s]"
     ]
    },
    {
     "name": "stdout",
     "output_type": "stream",
     "text": [
      "Epoch 1/10\n"
     ]
    },
    {
     "name": "stderr",
     "output_type": "stream",
     "text": [
      "3277it [14:08,  3.86it/s]\n"
     ]
    },
    {
     "name": "stdout",
     "output_type": "stream",
     "text": [
      "Loss: 5.918920040130615\n",
      "he ['she', 'they', 'nobody', 'we', 'i', 'florence', 'just', 'exactly', 'it', 'far']\n",
      "she ['he', 'nobody', 'they', 'we', 'florence', 'i', 'just', 'edith', 'it', 'exactly']\n",
      "paris ['parliament', 'dint', 'vain', 'france', 'coketown', 'england', 'humanity', 'despair', 'tiptoe', 'order']\n",
      "london ['england', 'hers', 'sorts', 'pieces', 'themselves', 'degrees', 'kinds', 'france', 'intervals', 'paris']\n",
      "table ['fire', 'ground', 'floor', 'road', 'wall', 'river', 'gate', 'door', 'window', 'pavement']\n",
      "rare ['improvement', 'tiger', 'amusement', 'employment', 'exertion', 'instruction', 'hesitation', 'softened', 'calculation', 'dislike']\n",
      "monday ['tiptoe', 'custody', 'lincolnshire', 'events', 'corners', 'peeping', 'amazement', 'attendance', 'salem', 'earth']\n",
      "sunday ['summer', 'nuns', 'dutch', 'dreary', 'saturday', 'sombre', 'identical', 'fatal', 'winter', 'quarters']\n",
      "man ['gentleman', 'woman', 'lady', 'person', 'creature', 'girl', 'moment', 'fine', 'thing', 'dog']\n",
      "woman ['man', 'gentleman', 'lady', 'creature', 'girl', 'person', 'servant', 'bird', 'dog', 'fine']\n",
      "king ['keeper', 'clerk', 'moon', 'speaker', 'worst', 'housekeeper', 'bride', 'dressmaker', 'gallery', 'chief']\n",
      "queen ['jug', 'receipt', 'commencement', 'size', 'brink', 'feast', 'fulness', 'field', 'earlier', 'pit']\n",
      "boy ['child', 'girl', 'doctor', 'lad', 'dwarf', 'major', 'captain', 'jew', 'stranger', 'schoolmaster']\n"
     ]
    },
    {
     "name": "stderr",
     "output_type": "stream",
     "text": [
      "0it [00:00, ?it/s]"
     ]
    },
    {
     "name": "stdout",
     "output_type": "stream",
     "text": [
      "girl ['boy', 'child', 'lad', 'servant', 'dwarf', 'major', 'stranger', 'jew', 'manager', 'lady']\n",
      "Epoch 2/10\n"
     ]
    },
    {
     "name": "stderr",
     "output_type": "stream",
     "text": [
      "3277it [13:08,  4.16it/s]\n"
     ]
    },
    {
     "name": "stdout",
     "output_type": "stream",
     "text": [
      "Loss: 5.889798641204834\n",
      "he ['she', 'nobody', 'it', 'they', 'herbert', 'nicholas', 'i', 'monks', 'newman', 'florence']\n",
      "she ['he', 'nobody', 'florence', 'they', 'herbert', 'i', 'it', 'edith', 'estella', 'nicholas']\n",
      "paris ['england', 'france', 'parliament', 'coketown', 'india', 'despair', 'london', 'yorkshire', 'succession', 'custody']\n",
      "london ['england', 'paris', 'france', 'india', 'ourselves', 'cloisterham', 'yorkshire', 'tiptoe', 'holborn', 'vain']\n",
      "table ['ground', 'fire', 'wall', 'road', 'sofa', 'pavement', 'window', 'hearth', 'board', 'floor']\n",
      "rare ['desperate', 'severe', 'disinterested', 'buff', 'trifling', 'shrewd', 'sullen', 'comical', 'careless', 'sober']\n",
      "monday ['noon', 'entering', 'tiptoe', 'saturday', 'peeping', 'thursday', 'midnight', 'horseback', 'arriving', 'dover']\n",
      "sunday ['saturday', 'summer', 'day', 'winter', 'shady', 'fatal', 'post', 'coffee', 'sombre', 'memorable']\n",
      "man ['gentleman', 'woman', 'lady', 'chap', 'person', 'ooman', 'soldier', 'girl', 'dog', 'fellow']\n",
      "woman ['lady', 'man', 'gentleman', 'ooman', 'chap', 'girl', 'creature', 'soldier', 'fellow', 'un']\n",
      "king ['bride', 'keeper', 'clerk', 'dressmaker', 'chief', 'stationer', 'housekeeper', 'baron', 'maker', 'ghost']\n",
      "queen ['jug', 'basin', 'forest', 'grove', 'field', 'legend', 'dish', 'pattern', 'crust', 'skeleton']\n",
      "boy ['child', 'girl', 'magistrate', 'dwarf', 'schoolmaster', 'lad', 'jew', 'doctor', 'major', 'stranger']\n"
     ]
    },
    {
     "name": "stderr",
     "output_type": "stream",
     "text": [
      "0it [00:00, ?it/s]"
     ]
    },
    {
     "name": "stdout",
     "output_type": "stream",
     "text": [
      "girl ['boy', 'child', 'fellow', 'woman', 'lady', 'creature', 'servant', 'magistrate', 'ooman', 'gentleman']\n",
      "Epoch 3/10\n"
     ]
    },
    {
     "name": "stderr",
     "output_type": "stream",
     "text": [
      "3277it [12:57,  4.21it/s]\n"
     ]
    },
    {
     "name": "stdout",
     "output_type": "stream",
     "text": [
      "Loss: 5.750729084014893\n",
      "he ['she', 'it', 'they', 'nobody', 'i', 'nicholas', 'herbert', 'newman', 'monks', 'we']\n",
      "she ['he', 'florence', 'nobody', 'they', 'i', 'it', 'estella', 'herbert', 'edith', 'everybody']\n",
      "paris ['england', 'france', 'india', 'london', 'yorkshire', 'coketown', 'parliament', 'holborn', 'despair', 'dover']\n",
      "london ['england', 'paris', 'france', 'india', 'holborn', 'yorkshire', 'canterbury', 'coketown', 'cloisterham', 'dover']\n",
      "table ['ground', 'sofa', 'wall', 'road', 'hearth', 'counter', 'pavement', 'board', 'fire', 'box']\n",
      "rare ['singular', 'desperate', 'terrible', 'mighty', 'careless', 'trifling', 'delicious', 'tender', 'faint', 'special']\n",
      "monday ['saturday', 'thursday', 'wednesday', 'noon', 'sunday', 'entering', 'tiptoe', 'horseback', 'tuesday', 'midnight']\n",
      "sunday ['saturday', 'summer', 'monday', 'christmas', 'day', 'winter', 'wednesday', 'stage', 'week', 'post']\n",
      "man ['gentleman', 'woman', 'lady', 'person', 'ooman', 'chap', 'soldier', 'dog', 'girl', 'bailey']\n",
      "woman ['lady', 'man', 'gentleman', 'ooman', 'creature', 'girl', 'chap', 'fellow', 'soldier', 'un']\n",
      "king ['bride', 'pastry', 'list', 'clerk', 'chief', 'keeper', 'dressmaker', 'cathedral', 'ship', 'principal']\n",
      "queen ['dish', 'pattern', 'sheep', 'basin', 'blade', 'crust', 'forest', 'professor', 'size', 'band']\n",
      "boy ['girl', 'child', 'fellow', 'magistrate', 'schoolmaster', 'dwarf', 'lad', 'major', 'jew', 'sexton']\n"
     ]
    },
    {
     "name": "stderr",
     "output_type": "stream",
     "text": [
      "0it [00:00, ?it/s]"
     ]
    },
    {
     "name": "stdout",
     "output_type": "stream",
     "text": [
      "girl ['boy', 'fellow', 'child', 'woman', 'creature', 'lady', 'creetur', 'feller', 'nurse', 'ooman']\n",
      "Epoch 4/10\n"
     ]
    },
    {
     "name": "stderr",
     "output_type": "stream",
     "text": [
      "3277it [12:55,  4.22it/s]\n"
     ]
    },
    {
     "name": "stdout",
     "output_type": "stream",
     "text": [
      "Loss: 5.784028053283691\n",
      "he ['she', 'it', 'they', 'nobody', 'i', 'nicholas', 'oliver', 'herbert', 'we', 'newman']\n",
      "she ['he', 'florence', 'they', 'it', 'nobody', 'i', 'estella', 'herbert', 'edith', 'everybody']\n",
      "paris ['england', 'france', 'india', 'london', 'coketown', 'parliament', 'holborn', 'yorkshire', 'newgate', 'dover']\n",
      "london ['england', 'paris', 'france', 'india', 'holborn', 'canterbury', 'yorkshire', 'town', 'dover', 'coketown']\n",
      "table ['counter', 'ground', 'sofa', 'wall', 'road', 'hearth', 'pavement', 'box', 'board', 'desk']\n",
      "rare ['delicious', 'tender', 'capital', 'terrible', 'singular', 'careless', 'desperate', 'treacherous', 'faint', 'sturdy']\n",
      "monday ['thursday', 'saturday', 'wednesday', 'sunday', 'friday', 'tiptoe', 'noon', 'horseback', 'entering', 'tuesday']\n",
      "sunday ['saturday', 'monday', 'summer', 'christmas', 'wednesday', 'day', 'winter', 'stage', 'week', 'previous']\n",
      "man ['gentleman', 'woman', 'lady', 'person', 'chap', 'soldier', 'ooman', 'dog', 'barnacle', 'blight']\n",
      "woman ['lady', 'man', 'gentleman', 'creature', 'ooman', 'girl', 'chap', 'soldier', 'un', 'fellow']\n",
      "king ['bride', 'pastry', 'list', 'ship', 'cathedral', 'principal', 'pan', 'clerk', 'tailor', 'clergyman']\n",
      "queen ['dish', 'sheep', 'professor', 'circle', 'band', 'paving', 'basin', 'size', 'pattern', 'porter']\n",
      "boy ['girl', 'child', 'fellow', 'schoolmaster', 'magistrate', 'lad', 'gal', 'gentleman', 'dwarf', 'nurse']\n"
     ]
    },
    {
     "name": "stderr",
     "output_type": "stream",
     "text": [
      "0it [00:00, ?it/s]"
     ]
    },
    {
     "name": "stdout",
     "output_type": "stream",
     "text": [
      "girl ['boy', 'fellow', 'child', 'woman', 'creature', 'creetur', 'nurse', 'lady', 'servant', 'feller']\n",
      "Epoch 5/10\n"
     ]
    },
    {
     "name": "stderr",
     "output_type": "stream",
     "text": [
      "3277it [15:26,  3.54it/s]\n"
     ]
    },
    {
     "name": "stdout",
     "output_type": "stream",
     "text": [
      "Loss: 5.697870254516602\n",
      "he ['she', 'it', 'they', 'nicholas', 'i', 'oliver', 'nobody', 'we', 'herbert', 'reciprocal']\n",
      "she ['he', 'they', 'florence', 'it', 'i', 'nobody', 'estella', 'nicholas', 'we', 'reciprocal']\n",
      "paris ['england', 'india', 'london', 'france', 'coketown', 'yorkshire', 'parliament', 'newgate', 'holborn', 'dover']\n",
      "london ['paris', 'england', 'india', 'france', 'canterbury', 'holborn', 'town', 'yorkshire', 'yarmouth', 'cloisterham']\n",
      "table ['counter', 'ground', 'sofa', 'road', 'box', 'wall', 'pavement', 'desk', 'staircase', 'hearth']\n",
      "rare ['delicious', 'treacherous', 'pious', 'tender', 'terrible', 'capital', 'queer', 'faint', 'singular', 'genteel']\n",
      "monday ['thursday', 'wednesday', 'saturday', 'sunday', 'friday', 'noon', 'horseback', 'tiptoe', 'tuesday', 'entering']\n",
      "sunday ['saturday', 'monday', 'summer', 'wednesday', 'christmas', 'winter', 'day', 'stage', 'week', 'thursday']\n",
      "man ['gentleman', 'woman', 'person', 'lady', 'barnacle', 'soldier', 'chap', 'dog', 'ooman', 'blight']\n",
      "woman ['creature', 'man', 'lady', 'girl', 'gentleman', 'ooman', 'chap', 'soldier', 'fellow', 'un']\n",
      "king ['pastry', 'bride', 'list', 'corn', 'ship', 'cathedral', 'pan', 'tailor', 'principal', 'agent']\n",
      "queen ['professor', 'sheep', 'dish', 'collection', 'circle', 'band', 'porter', 'blade', 'paving', 'burial']\n",
      "boy ['girl', 'child', 'fellow', 'schoolmaster', 'gentleman', 'creature', 'woman', 'clerk', 'lad', 'surgeon']\n"
     ]
    },
    {
     "name": "stderr",
     "output_type": "stream",
     "text": [
      "0it [00:00, ?it/s]"
     ]
    },
    {
     "name": "stdout",
     "output_type": "stream",
     "text": [
      "girl ['child', 'boy', 'creature', 'fellow', 'woman', 'creetur', 'nurse', 'servant', 'baby', 'lady']\n",
      "Epoch 6/10\n"
     ]
    },
    {
     "name": "stderr",
     "output_type": "stream",
     "text": [
      "3277it [16:43,  3.27it/s]\n"
     ]
    },
    {
     "name": "stdout",
     "output_type": "stream",
     "text": [
      "Loss: 5.579746246337891\n",
      "he ['she', 'it', 'they', 'nicholas', 'oliver', 'i', 'we', 'nobody', 'him', 'himself']\n",
      "she ['he', 'they', 'it', 'florence', 'i', 'nicholas', 'nobody', 'oliver', 'we', 'dora']\n",
      "paris ['india', 'england', 'london', 'france', 'newgate', 'dover', 'marseilles', 'canterbury', 'rome', 'holborn']\n",
      "london ['paris', 'england', 'india', 'france', 'canterbury', 'holborn', 'town', 'cloisterham', 'dover', 'oxford']\n",
      "table ['counter', 'ground', 'sofa', 'box', 'road', 'staircase', 'desk', 'piano', 'pavement', 'fire']\n",
      "rare ['treacherous', 'delicious', 'pious', 'queer', 'tender', 'fearful', 'thriving', 'genteel', 'faint', 'terrible']\n",
      "monday ['thursday', 'wednesday', 'sunday', 'saturday', 'friday', 'noon', 'tuesday', 'tomorrow', 'morrow', 'horseback']\n",
      "sunday ['saturday', 'monday', 'summer', 'wednesday', 'winter', 'christmas', 'thursday', 'tuesday', 'friday', 'day']\n",
      "man ['gentleman', 'woman', 'person', 'lady', 'barnacle', 'dog', 'boy', 'soldier', 'ooman', 'chap']\n",
      "woman ['man', 'creature', 'lady', 'girl', 'gentleman', 'ooman', 'fellow', 'chap', 'creetur', 'soldier']\n",
      "king ['pastry', 'bride', 'corn', 'list', 'ship', 'richest', 'cathedral', 'tailor', 'pan', 'clergyman']\n",
      "queen ['professor', 'rank', 'collection', 'dish', 'circle', 'sheep', 'porter', 'band', 'blade', 'list']\n",
      "boy ['girl', 'child', 'fellow', 'creature', 'woman', 'schoolmaster', 'gentleman', 'clerk', 'man', 'bill']\n"
     ]
    },
    {
     "name": "stderr",
     "output_type": "stream",
     "text": [
      "0it [00:00, ?it/s]"
     ]
    },
    {
     "name": "stdout",
     "output_type": "stream",
     "text": [
      "girl ['child', 'creature', 'boy', 'woman', 'fellow', 'creetur', 'nurse', 'servant', 'wretch', 'baby']\n",
      "Epoch 7/10\n"
     ]
    },
    {
     "name": "stderr",
     "output_type": "stream",
     "text": [
      "3277it [15:36,  3.50it/s]\n"
     ]
    },
    {
     "name": "stdout",
     "output_type": "stream",
     "text": [
      "Loss: 5.814074516296387\n",
      "he ['she', 'it', 'they', 'oliver', 'nicholas', 'i', 'himself', 'him', 'we', 'who']\n",
      "she ['he', 'they', 'it', 'florence', 'i', 'nicholas', 'oliver', 'we', 'nobody', 'bella']\n",
      "paris ['london', 'india', 'england', 'france', 'dover', 'marseilles', 'canterbury', 'rome', 'newgate', 'holborn']\n",
      "london ['paris', 'england', 'india', 'canterbury', 'town', 'france', 'holborn', 'oxford', 'dover', 'cloisterham']\n",
      "table ['counter', 'ground', 'box', 'staircase', 'sofa', 'road', 'piano', 'fire', 'desk', 'finger']\n",
      "rare ['treacherous', 'delicious', 'pious', 'queer', 'comical', 'tender', 'fearful', 'thriving', 'skilful', 'disinterested']\n",
      "monday ['thursday', 'wednesday', 'sunday', 'saturday', 'friday', 'noon', 'tomorrow', 'morrow', 'tuesday', 'saturdays']\n",
      "sunday ['saturday', 'monday', 'summer', 'wednesday', 'winter', 'christmas', 'thursday', 'tuesday', 'friday', 'autumn']\n",
      "man ['gentleman', 'woman', 'person', 'lady', 'barnacle', 'dog', 'boy', 'creature', 'footman', 'jerry']\n",
      "woman ['man', 'creature', 'lady', 'girl', 'gentleman', 'fellow', 'ooman', 'creetur', 'person', 'wretch']\n",
      "king ['pastry', 'corn', 'bride', 'richest', 'list', 'tailor', 'ship', 'cathedral', 'porter', 'pan']\n",
      "queen ['professor', 'dish', 'collection', 'rank', 'circle', 'porter', 'band', 'sheep', 'list', 'blade']\n",
      "boy ['girl', 'child', 'fellow', 'creature', 'bill', 'woman', 'clerk', 'schoolmaster', 'man', 'major']\n"
     ]
    },
    {
     "name": "stderr",
     "output_type": "stream",
     "text": [
      "0it [00:00, ?it/s]"
     ]
    },
    {
     "name": "stdout",
     "output_type": "stream",
     "text": [
      "girl ['child', 'creature', 'woman', 'boy', 'fellow', 'creetur', 'wretch', 'servant', 'nurse', 'baby']\n",
      "Epoch 8/10\n"
     ]
    },
    {
     "name": "stderr",
     "output_type": "stream",
     "text": [
      "3277it [14:19,  3.81it/s]\n"
     ]
    },
    {
     "name": "stdout",
     "output_type": "stream",
     "text": [
      "Loss: 5.654291152954102\n",
      "he ['she', 'it', 'they', 'oliver', 'nicholas', 'i', 'himself', 'who', 'him', 'then']\n",
      "she ['he', 'they', 'it', 'i', 'florence', 'nicholas', 'oliver', 'we', 'him', 'bella']\n",
      "paris ['india', 'london', 'england', 'canterbury', 'marseilles', 'dover', 'france', 'newgate', 'rome', 'venice']\n",
      "london ['paris', 'england', 'india', 'town', 'canterbury', 'dover', 'cloisterham', 'france', 'oxford', 'yorkshire']\n",
      "table ['counter', 'ground', 'box', 'piano', 'staircase', 'fire', 'desk', 'road', 'sofa', 'ladder']\n",
      "rare ['treacherous', 'pious', 'delicious', 'queer', 'comical', 'skilful', 'fearful', 'faint', 'severe', 'tender']\n",
      "monday ['thursday', 'wednesday', 'sunday', 'saturday', 'friday', 'noon', 'morrow', 'tomorrow', 'tuesday', 'yesterday']\n",
      "sunday ['saturday', 'monday', 'summer', 'wednesday', 'winter', 'autumn', 'friday', 'tuesday', 'christmas', 'thursday']\n",
      "man ['gentleman', 'woman', 'person', 'lady', 'barnacle', 'dog', 'creature', 'boy', 'footman', 'jerry']\n",
      "woman ['man', 'creature', 'lady', 'girl', 'gentleman', 'fellow', 'ooman', 'person', 'wretch', 'creetur']\n",
      "king ['pastry', 'corn', 'richest', 'tailor', 'bride', 'clergyman', 'list', 'professor', 'committee', 'marshal']\n",
      "queen ['professor', 'dish', 'collection', 'porter', 'circle', 'rank', 'race', 'king', 'list', 'forest']\n",
      "boy ['girl', 'child', 'fellow', 'creature', 'bill', 'major', 'woman', 'clerk', 'lad', 'man']\n"
     ]
    },
    {
     "name": "stderr",
     "output_type": "stream",
     "text": [
      "0it [00:00, ?it/s]"
     ]
    },
    {
     "name": "stdout",
     "output_type": "stream",
     "text": [
      "girl ['creature', 'child', 'woman', 'boy', 'fellow', 'creetur', 'wretch', 'nurse', 'servant', 'baby']\n",
      "Epoch 9/10\n"
     ]
    },
    {
     "name": "stderr",
     "output_type": "stream",
     "text": [
      "3277it [18:03,  3.02it/s]\n"
     ]
    },
    {
     "name": "stdout",
     "output_type": "stream",
     "text": [
      "Loss: 5.590196132659912\n",
      "he ['she', 'it', 'they', 'himself', 'oliver', 'i', 'nicholas', 'who', 'him', 'then']\n",
      "she ['he', 'they', 'it', 'i', 'nicholas', 'florence', 'oliver', 'we', 'him', 'almost']\n",
      "paris ['india', 'london', 'england', 'canterbury', 'marseilles', 'dover', 'newgate', 'rome', 'venice', 'france']\n",
      "london ['paris', 'england', 'india', 'town', 'dover', 'canterbury', 'cloisterham', 'yorkshire', 'france', 'newgate']\n",
      "table ['counter', 'piano', 'ground', 'staircase', 'desk', 'box', 'fire', 'sofa', 'road', 'ladder']\n",
      "rare ['delicious', 'pious', 'comical', 'treacherous', 'skilful', 'queer', 'faint', 'fearful', 'severe', 'pleasant']\n",
      "monday ['thursday', 'sunday', 'wednesday', 'saturday', 'friday', 'noon', 'tomorrow', 'morrow', 'tuesday', 'yesterday']\n",
      "sunday ['saturday', 'monday', 'summer', 'wednesday', 'autumn', 'winter', 'tuesday', 'friday', 'thursday', 'march']\n",
      "man ['gentleman', 'woman', 'person', 'lady', 'barnacle', 'dog', 'boy', 'creature', 'jerry', 'footman']\n",
      "woman ['man', 'creature', 'girl', 'lady', 'gentleman', 'fellow', 'person', 'wretch', 'ooman', 'child']\n",
      "king ['corn', 'pastry', 'tailor', 'richest', 'bride', 'clergyman', 'marshal', 'finest', 'greengrocer', 'usurer']\n",
      "queen ['collection', 'professor', 'dish', 'race', 'list', 'king', 'porter', 'forest', 'rank', 'system']\n",
      "boy ['girl', 'child', 'fellow', 'bill', 'creature', 'major', 'woman', 'man', 'lad', 'clerk']\n"
     ]
    },
    {
     "name": "stderr",
     "output_type": "stream",
     "text": [
      "0it [00:00, ?it/s]"
     ]
    },
    {
     "name": "stdout",
     "output_type": "stream",
     "text": [
      "girl ['child', 'creature', 'woman', 'boy', 'fellow', 'wretch', 'creetur', 'nurse', 'servant', 'schoolmaster']\n",
      "Epoch 10/10\n"
     ]
    },
    {
     "name": "stderr",
     "output_type": "stream",
     "text": [
      "3277it [15:43,  3.47it/s]\n"
     ]
    },
    {
     "name": "stdout",
     "output_type": "stream",
     "text": [
      "Loss: 5.671951770782471\n",
      "he ['she', 'it', 'they', 'himself', 'i', 'who', 'oliver', 'him', 'nicholas', 'then']\n",
      "she ['he', 'they', 'it', 'i', 'nicholas', 'oliver', 'florence', 'him', 'we', 'again']\n",
      "paris ['london', 'india', 'england', 'canterbury', 'marseilles', 'dover', 'newgate', 'rome', 'venice', 'yarmouth']\n",
      "london ['paris', 'england', 'india', 'town', 'dover', 'canterbury', 'cloisterham', 'yorkshire', 'france', 'church']\n",
      "table ['counter', 'piano', 'desk', 'staircase', 'ground', 'sofa', 'box', 'trunk', 'fire', 'lid']\n",
      "rare ['severe', 'comical', 'delicious', 'queer', 'pious', 'faint', 'skilful', 'pleasant', 'sincere', 'fearful']\n",
      "monday ['thursday', 'sunday', 'saturday', 'wednesday', 'friday', 'noon', 'morrow', 'tomorrow', 'tuesday', 'yesterday']\n",
      "sunday ['saturday', 'monday', 'summer', 'wednesday', 'autumn', 'winter', 'wintry', 'friday', 'tuesday', 'march']\n",
      "man ['gentleman', 'woman', 'person', 'lady', 'barnacle', 'dog', 'boy', 'jerry', 'creature', 'fellow']\n",
      "woman ['man', 'creature', 'girl', 'lady', 'gentleman', 'fellow', 'person', 'child', 'wretch', 'ooman']\n",
      "king ['corn', 'pastry', 'tailor', 'richest', 'clergyman', 'bride', 'greengrocer', 'finest', 'professor', 'linen']\n",
      "queen ['collection', 'dish', 'race', 'professor', 'ship', 'system', 'list', 'king', 'porter', 'band']\n",
      "boy ['girl', 'child', 'fellow', 'bill', 'creature', 'woman', 'major', 'lad', 'man', 'gentleman']\n",
      "girl ['child', 'creature', 'woman', 'boy', 'fellow', 'wretch', 'creetur', 'nurse', 'widow', 'schoolmaster']\n"
     ]
    }
   ],
   "source": [
    "for epoch in range(EPOCHS):\n",
    "    print(\"Epoch {}/{}\".format(epoch + 1, EPOCHS))\n",
    "    for i, batch in tqdm(enumerate(minibatch_generator_shuffled(word_idxs))):\n",
    "        X, y = batch\n",
    "        loss = model.train_on_batch(X, y)\n",
    "    print('Loss:', loss)\n",
    "    vectors = model.get_weights()[0]\n",
    "    most_sim_words = {}\n",
    "    for w in test_words:\n",
    "        most_sim_words[w] = most_sim_vecs(vectors[word2idx[w]], vectors)\n",
    "        most_sim_words[w] = list(map(idx2word.get, most_sim_words[w]))\n",
    "        print(w, most_sim_words[w])"
   ]
  },
  {
   "cell_type": "code",
   "execution_count": null,
   "metadata": {},
   "outputs": [],
   "source": [
    "# vectors[:5]"
   ]
  },
  {
   "cell_type": "code",
   "execution_count": null,
   "metadata": {},
   "outputs": [],
   "source": [
    "\"\"\"for word, i in word2idx.items():\n",
    "    str_vec = ' '.join(map(str, list(vectors[i, :])))\n",
    "    print('{} {}\\n'.format(word, str_vec))\"\"\""
   ]
  },
  {
   "cell_type": "code",
   "execution_count": null,
   "metadata": {},
   "outputs": [],
   "source": [
    "\"\"\"\n",
    "GlobalAveragePooling1D\n",
    "nonshuffled\n",
    "Loss: 5.689522743225098\n",
    "he ['he', 'she', 'it', 'i', 'that', 'they', 'then', 'who', 'him', 'and']\n",
    "she ['she', 'he', 'it', 'they', 'i', 'that', 'who', 'there', 'then', 'him']\n",
    "paris ['paris', 'yarmouth', 'france', 'italy', 'dover', 'marseilles', 'print', 'newgate', 'venice', 'requisition']\n",
    "london ['london', 'england', 'india', 'paris', 'town', 'france', 'dover', 'yarmouth', 'cloisterham', 'holborn']\n",
    "table ['table', 'ground', 'counter', 'finger', 'sofa', 'box', 'desk', 'pavement', 'floor', 'staircase']\n",
    "rare ['rare', 'skilful', 'pious', 'capital', 'decent', 'lively', 'gentlemanly', 'thriving', 'romantic', 'scientific']\n",
    "monday ['monday', 'thursday', 'saturday', 'wednesday', 'sunday', 'tuesday', 'friday', 'noon', 'horseback', 'morrow']\n",
    "sunday ['sunday', 'saturday', 'monday', 'summer', 'wednesday', 'day', 'winter', 'evening', 'thursday', 'friday']\n",
    "man ['man', 'gentleman', 'woman', 'lady', 'person', 'fellow', 'creature', 'boy', 'friend', 'chap']\n",
    "woman ['woman', 'lady', 'man', 'creature', 'gentleman', 'girl', 'fellow', 'boy', 'person', 'chap']\n",
    "king ['king', 'pastry', 'stroller', 'horse', 'cook', 'chandler', 'knights', 'roc', 'bill', 'cathedral']\n",
    "queen ['queen', 'giant', 'blade', 'poet', 'jewel', 'proctor', 'band', 'livelihood', 'infection', 'nosegay']\n",
    "boy ['boy', 'girl', 'child', 'fellow', 'creature', 'woman', 'lady', 'man', 'creetur', 'friend']\n",
    "girl ['girl', 'creature', 'boy', 'fellow', 'woman', 'child', 'creetur', 'lady', 'wretch', 'man']\n",
    "\n",
    "vectors[:5]\"\"\""
   ]
  },
  {
   "cell_type": "code",
   "execution_count": null,
   "metadata": {},
   "outputs": [],
   "source": [
    "\"\"\"Loss: 5.9238457679748535 (colab)\n",
    "sum\n",
    "nonshuffled\n",
    "he ['he', 'she', 'they', 'it', 'who', 'nicholas', 'i', 'then', 'himself', 'never']\n",
    "she ['she', 'he', 'they', 'it', 'nicholas', 'who', 'never', 'have', 'then', 'i']\n",
    "paris ['paris', 'france', 'venice', 'rochester', 'pentonville', 'dates', 'boredom', 'switzerland', 'italy', 'england']\n",
    "london ['london', 'town', 'paris', 'england', 'prison', 'city', 'papers', 'france', 'india', 'pass']\n",
    "table ['table', 'desk', 'room', 'chair', 'sofa', 'window', 'finger', 'box', 'ground', 'door']\n",
    "rare ['rare', 'thorough', 'severe', 'gentlemanly', 'doleful', 'smart', 'pious', 'romantic', 'practical', 'trifling']\n",
    "monday ['monday', 'sunday', 'morrow', 'thursday', 'saturday', 'noon', 'wednesday', 'tomorrow', 'friday', 'ensuing']\n",
    "sunday ['sunday', 'saturday', 'monday', 'day', 'evening', 'winter', 'summer', 'autumn', 'wednesday', 'visit']\n",
    "man ['man', 'woman', 'gentleman', 'lady', 'person', 'fellow', 'boy', 'dog', 'creature', 'female']\n",
    "woman ['woman', 'man', 'lady', 'creature', 'gentleman', 'girl', 'fellow', 'child', 'figure', 'person']\n",
    "king ['king', 'pastry', 'corn', 'inn', 'chandler', 'court', 'butcher', 'mayor', 'snow', 'saint']\n",
    "queen ['queen', 'proctor', 'criminal', 'miser', 'pitcher', 'cab', 'radiance', 'lamb', 'bushel', 'cove']\n",
    "boy ['boy', 'fellow', 'girl', 'friend', 'bill', 'child', 'master', 'man', 'lad', 'dog']\n",
    "girl ['girl', 'creature', 'child', 'woman', 'boy', 'fellow', 'creetur', 'wretch', 'lady', 'lad']\n",
    "\"\"\""
   ]
  },
  {
   "cell_type": "code",
   "execution_count": null,
   "metadata": {},
   "outputs": [],
   "source": [
    "\"\"\"Epoch 10/10 (colab)\n",
    "\n",
    "3277it [10:09,  5.38it/s]\n",
    "GlobalAveragePooling1D\n",
    "nonshuffled\n",
    "Loss: 6.253807544708252\n",
    "he ['he', 'she', 'it', 'they', 'and', 'that', 'then', 'himself', 'but', 'who']\n",
    "she ['she', 'he', 'it', 'they', 'then', 'there', 'him', 'i', 'almost', 'but']\n",
    "paris ['paris', 'france', 'yorkshire', 'yarmouth', 'newgate', 'italy', 'clerkenwell', 'requisition', 'numbers', 'print']\n",
    "london ['london', 'england', 'india', 'paris', 'town', 'yorkshire', 'france', 'leadenhall', 'market', 'holborn']\n",
    "table ['table', 'counter', 'ground', 'desk', 'finger', 'box', 'room', 'sofa', 'hearth', 'lamp']\n",
    "rare ['rare', 'romantic', 'frightful', 'capital', 'pious', 'mighty', 'slight', 'mysterious', 'judicious', 'smart']\n",
    "monday ['monday', 'saturday', 'thursday', 'sunday', 'wednesday', 'tuesday', 'friday', 'morrow', 'christmas', 'noon']\n",
    "sunday ['sunday', 'saturday', 'monday', 'summer', 'day', 'wednesday', 'tuesday', 'winter', 'evening', 'thursday']\n",
    "man ['man', 'gentleman', 'woman', 'lady', 'boy', 'person', 'fellow', 'creature', 'chap', 'dog']\n",
    "woman ['woman', 'lady', 'man', 'girl', 'creature', 'gentleman', 'fellow', 'boy', 'chap', 'creetur']\n",
    "king ['king', 'stroller', 'pastry', 'chandler', 'cook', 'roc', 'dustman', 'mayor', 'merchant', 'ark']\n",
    "queen ['queen', 'criminal', 'seaman', 'fortification', 'martyr', 'basin', 'poet', 'odour', 'dish', 'tenant']\n",
    "boy ['boy', 'girl', 'fellow', 'child', 'creature', 'woman', 'man', 'creetur', 'lady', 'gentleman']\n",
    "girl ['girl', 'creature', 'boy', 'woman', 'fellow', 'child', 'lady', 'creetur', 'wretch', 'man']\"\"\"\n"
   ]
  },
  {
   "cell_type": "code",
   "execution_count": null,
   "metadata": {},
   "outputs": [],
   "source": [
    "\"\"\"Loss: 6.217106819152832 (colab)\n",
    "nonshuffled\n",
    "mean\n",
    "he ['he', 'she', 'it', 'i', 'and', 'they', 'that', 'who', 'but', 'again']\n",
    "she ['she', 'he', 'it', 'they', 'i', 'who', 'and', 'that', 'again', 'him']\n",
    "paris ['paris', 'france', 'yarmouth', 'print', 'germany', 'requisition', 'england', 'newgate', 'india', 'italy']\n",
    "london ['london', 'england', 'yorkshire', 'india', 'paris', 'holborn', 'town', 'market', 'greta', 'neutral']\n",
    "table ['table', 'ground', 'board', 'finger', 'counter', 'room', 'chair', 'sofa', 'road', 'fire']\n",
    "rare ['rare', 'pious', 'musical', 'trifling', 'skilful', 'monstrous', 'judicious', 'brilliant', 'severe', 'subtle']\n",
    "monday ['monday', 'thursday', 'saturday', 'sunday', 'friday', 'wednesday', 'tuesday', 'morrow', 'succeeding', 'noon']\n",
    "sunday ['sunday', 'saturday', 'monday', 'summer', 'day', 'friday', 'winter', 'wednesday', 'evening', 'memorable']\n",
    "man ['man', 'woman', 'gentleman', 'lady', 'person', 'boy', 'fellow', 'dog', 'chap', 'friend']\n",
    "woman ['woman', 'lady', 'man', 'girl', 'gentleman', 'creature', 'fellow', 'boy', 'person', 'chap']\n",
    "king ['king', 'pastry', 'chandler', 'merchant', 'lawyer', 'stationer', 'stroller', 'maker', 'clergyman', 'tailor']\n",
    "queen ['queen', 'giant', 'blade', 'miniature', 'mask', 'decanter', 'band', 'mug', 'whirlwind', 'mission']\n",
    "boy ['boy', 'girl', 'fellow', 'child', 'woman', 'creature', 'man', 'lady', 'creetur', 'friend']\n",
    "girl ['girl', 'creature', 'boy', 'woman', 'child', 'fellow', 'lady', 'creetur', 'wretch', 'papa']\n",
    "\"\"\""
   ]
  },
  {
   "cell_type": "code",
   "execution_count": null,
   "metadata": {},
   "outputs": [],
   "source": [
    "\"\"\"Loss: 5.463151454925537\n",
    "shuffled\n",
    "mean\n",
    "he ['he', 'she', 'they', 'it', 'who', 'him', 'i', 'then', 'we', 'himself']\n",
    "she ['she', 'he', 'they', 'it', 'i', 'we', 'him', 'who', 'florence', 'then']\n",
    "paris ['paris', 'london', 'france', 'england', 'india', 'newgate', 'yorkshire', 'yarmouth', 'canterbury', 'ipswich']\n",
    "london ['london', 'paris', 'england', 'india', 'dover', 'town', 'france', 'cloisterham', 'yorkshire', 'ipswich']\n",
    "table ['table', 'ground', 'box', 'desk', 'counter', 'sofa', 'piano', 'staircase', 'fire', 'road']\n",
    "rare ['rare', 'subtle', 'severe', 'pious', 'trifling', 'feverish', 'skilful', 'delicious', 'gypsy', 'brilliant']\n",
    "monday ['monday', 'thursday', 'morrow', 'wednesday', 'sunday', 'tomorrow', 'saturday', 'noon', 'friday', 'tuesday']\n",
    "sunday ['sunday', 'saturday', 'summer', 'monday', 'autumn', 'evening', 'christmas', 'day', 'winter', 'afternoon']\n",
    "man ['man', 'gentleman', 'woman', 'person', 'lady', 'dog', 'boy', 'creature', 'female', 'fellow']\n",
    "woman ['woman', 'man', 'girl', 'creature', 'lady', 'gentleman', 'person', 'mistress', 'fellow', 'boy']\n",
    "king ['king', 'corn', 'pastry', 'bride', 'glare', 'gallery', 'usurer', 'chateau', 'list', 'broker']\n",
    "queen ['queen', 'dish', 'corn', 'band', 'manuscript', 'porter', 'glare', 'king', 'milk', 'forest']\n",
    "boy ['boy', 'girl', 'child', 'fellow', 'man', 'creature', 'woman', 'bill', 'clerk', 'doctor']\n",
    "girl ['girl', 'child', 'woman', 'creature', 'boy', 'fellow', 'wretch', 'baby', 'creetur', 'man']\n",
    "\n",
    "\"\"\""
   ]
  },
  {
   "cell_type": "code",
   "execution_count": null,
   "metadata": {},
   "outputs": [],
   "source": [
    "\"\"\"\n",
    "Loss: 5.788453102111816\n",
    "mac\n",
    "shuffled\n",
    "GlobalAveragePooling1D\n",
    "he ['he', 'she', 'they', 'it', 'be', 'that', 'i', 'who', 'himself', 'but']\n",
    "she ['she', 'he', 'they', 'it', 'i', 'be', 'almost', 'florence', 'then', 'have']\n",
    "paris ['paris', 'england', 'london', 'yarmouth', 'newgate', 'coketown', 'rome', 'rochester', 'france', 'blunderstone']\n",
    "london ['london', 'paris', 'england', 'town', 'india', 'dover', 'canterbury', 'rome', 'yarmouth', 'lodge']\n",
    "table ['table', 'desk', 'counter', 'box', 'sofa', 'ground', 'hearth', 'staircase', 'piano', 'coverlet']\n",
    "rare ['rare', 'pious', 'singular', 'queer', 'comical', 'romantic', 'thriving', 'liberal', 'fearful', 'ridiculous']\n",
    "monday ['monday', 'sunday', 'thursday', 'saturday', 'noon', 'wednesday', 'tuesday', 'friday', 'morrow', 'tomorrow']\n",
    "sunday ['sunday', 'monday', 'saturday', 'summer', 'autumn', 'wednesday', 'march', 'christmas', 'friday', 'tuesday']\n",
    "man ['man', 'gentleman', 'woman', 'person', 'lady', 'boy', 'creature', 'dog', 'fellow', 'female']\n",
    "woman ['woman', 'man', 'girl', 'lady', 'creature', 'gentleman', 'fellow', 'person', 'child', 'boy']\n",
    "king ['king', 'pastry', 'tailor', 'bride', 'clerk', 'ghost', 'clergyman', 'mob', 'shops', 'animal']\n",
    "queen ['queen', 'sheep', 'king', 'fish', 'basin', 'flame', 'professor', 'palace', 'beer', 'ship']\n",
    "boy ['boy', 'girl', 'child', 'fellow', 'man', 'woman', 'creature', 'gentleman', 'lad', 'dog']\n",
    "girl ['girl', 'child', 'woman', 'creature', 'boy', 'fellow', 'wretch', 'schoolmaster', 'nurse', 'matron']\n",
    "\"\"\""
   ]
  },
  {
   "cell_type": "code",
   "execution_count": null,
   "metadata": {},
   "outputs": [],
   "source": [
    "\"\"\"Loss: 5.444209098815918\n",
    "mac\n",
    "shuffled\n",
    "GlobalAveragePooling1D\n",
    "he ['she', 'it', 'they', 'i', 'him', 'them', 'who', 'there', 'himself', 'that']\n",
    "she ['he', 'it', 'they', 'i', 'there', 'we', 'them', 'him', 'nicholas', 'who']\n",
    "paris ['london', 'england', 'yarmouth', 'france', 'italy', 'yorkshire', 'india', 'coketown', 'newgate', 'canterbury']\n",
    "london ['paris', 'india', 'england', 'town', 'france', 'dover', 'newgate', 'cloisterham', 'yarmouth', 'canterbury']\n",
    "table ['ground', 'counter', 'sofa', 'desk', 'box', 'piano', 'lawn', 'lid', 'staircase', 'road']\n",
    "rare ['funny', 'skilful', 'ridiculous', 'romantic', 'pious', 'fearful', 'comical', 'genteel', 'careless', 'faint']\n",
    "monday ['saturday', 'sunday', 'wednesday', 'thursday', 'friday', 'morrow', 'noon', 'tuesday', 'tomorrow', 'next']\n",
    "sunday ['saturday', 'monday', 'summer', 'autumn', 'wednesday', 'evening', 'winter', 'march', 'windy', 'night']\n",
    "man ['gentleman', 'woman', 'lady', 'person', 'dog', 'boy', 'creature', 'female', 'fellow', 'personage']\n",
    "woman ['man', 'girl', 'lady', 'creature', 'gentleman', 'fellow', 'boy', 'child', 'person', 'wretch']\n",
    "king ['auctioneer', 'pastry', 'clergyman', 'merchant', 'bride', 'tailor', 'greengrocer', 'broker', 'marshal', 'committee']\n",
    "queen ['professor', 'king', 'ship', 'list', 'procession', 'mansion', 'committee', 'field', 'basin', 'sheep']\n",
    "boy ['girl', 'child', 'fellow', 'creature', 'woman', 'bill', 'lad', 'man', 'wretch', 'dog']\n",
    "girl ['child', 'woman', 'creature', 'boy', 'fellow', 'wretch', 'widow', 'nurse', 'baby', 'creetur']\"\"\""
   ]
  },
  {
   "cell_type": "code",
   "execution_count": null,
   "metadata": {},
   "outputs": [],
   "source": [
    "\"\"\"\n",
    "Loss: 5.555170059204102\n",
    "mac\n",
    "shuffled\n",
    "mean\n",
    "he ['she', 'it', 'they', 'who', 'i', 'nicholas', 'that', 'himself', 'but', 'now']\n",
    "she ['he', 'it', 'they', 'florence', 'nicholas', 'bella', 'i', 'rosa', 'kit', 'everybody']\n",
    "paris ['london', 'france', 'england', 'newgate', 'india', 'yarmouth', 'dover', 'yorkshire', 'canterbury', 'italy']\n",
    "london ['paris', 'england', 'france', 'town', 'india', 'clerkenwell', 'yarmouth', 'canterbury', 'cloisterham', 'newgate']\n",
    "table ['sofa', 'counter', 'desk', 'ground', 'piano', 'box', 'staircase', 'sideboard', 'lawn', 'packet']\n",
    "rare ['queer', 'severe', 'skilful', 'desperate', 'comical', 'musical', 'treacherous', 'restless', 'ridiculous', 'pious']\n",
    "monday ['wednesday', 'thursday', 'sunday', 'saturday', 'noon', 'tuesday', 'friday', 'morrow', 'tomorrow', 'succeeding']\n",
    "sunday ['saturday', 'monday', 'summer', 'winter', 'autumn', 'day', 'wednesday', 'evening', 'windy', 'succeeding']\n",
    "man ['gentleman', 'woman', 'person', 'lady', 'creature', 'boy', 'dog', 'female', 'fellow', 'barnacle']\n",
    "woman ['man', 'girl', 'creature', 'lady', 'gentleman', 'fellow', 'child', 'boy', 'wretch', 'person']\n",
    "king ['pastry', 'marshal', 'clerk', 'palace', 'greengrocer', 'bride', 'corn', 'clergyman', 'tailor', 'queen']\n",
    "queen ['king', 'jewel', 'palace', 'committee', 'field', 'basin', 'vessel', 'mansion', 'ship', 'sheep']\n",
    "boy ['girl', 'child', 'creature', 'woman', 'fellow', 'man', 'gentleman', 'lad', 'schoolmaster', 'officer']\n",
    "girl ['child', 'creature', 'woman', 'boy', 'fellow', 'wretch', 'creetur', 'lad', 'patient', 'schoolmaster']\n",
    "\n",
    "\n",
    "\"\"\""
   ]
  },
  {
   "cell_type": "code",
   "execution_count": null,
   "metadata": {},
   "outputs": [],
   "source": [
    "\"\"\"Loss: 5.690605640411377\n",
    "mac\n",
    "nonshuffled\n",
    "mean\n",
    "he ['she', 'it', 'but', 'that', 'who', 'and', 'him', 'i', 'then', 'they']\n",
    "she ['he', 'it', 'who', 'they', 'i', 'but', 'that', 'there', 'him', 'then']\n",
    "paris ['france', 'yarmouth', 'pentonville', 'print', 'england', 'newgate', 'india', 'yorkshire', 'italy', 'requisition']\n",
    "london ['england', 'india', 'paris', 'town', 'france', 'print', 'yorkshire', 'market', 'cloisterham', 'chancery']\n",
    "table ['ground', 'counter', 'finger', 'carpet', 'box', 'desk', 'piano', 'room', 'sofa', 'chimneypiece']\n",
    "rare ['comical', 'severe', 'plentiful', 'musical', 'sincere', 'shrewd', 'reddish', 'vague', 'grand', 'feverish']\n",
    "monday ['saturday', 'sunday', 'thursday', 'wednesday', 'tuesday', 'morrow', 'friday', 'noon', 'tomorrow', 'previous']\n",
    "sunday ['saturday', 'monday', 'summer', 'day', 'wednesday', 'winter', 'tuesday', 'night', 'thursday', 'christmas']\n",
    "man ['gentleman', 'woman', 'lady', 'person', 'boy', 'fellow', 'friend', 'dog', 'female', 'chap']\n",
    "woman ['lady', 'man', 'gentleman', 'girl', 'creature', 'boy', 'fellow', 'ooman', 'chap', 'person']\n",
    "king ['pastry', 'knights', 'recorder', 'jeweller', 'stroller', 'cathedral', 'chandler', 'ark', 'symond', 'breadth']\n",
    "queen ['hue', 'band', 'committee', 'jar', 'fortification', 'blade', 'traitor', 'giant', 'dissolution', 'gradual']\n",
    "boy ['girl', 'child', 'fellow', 'woman', 'lady', 'man', 'creature', 'friend', 'gentleman', 'creetur']\n",
    "girl ['creature', 'boy', 'woman', 'child', 'fellow', 'lady', 'creetur', 'wretch', 'papa', 'man']\"\"\""
   ]
  },
  {
   "cell_type": "code",
   "execution_count": null,
   "metadata": {},
   "outputs": [],
   "source": [
    "\"\"\"\n",
    "Loss: 5.6113481521606445\n",
    "mac\n",
    "shuffled\n",
    "mean\n",
    "he ['she', 'it', 'they', 'who', 'himself', 'him', 'then', 'oliver', 'almost', 'that']\n",
    "she ['he', 'they', 'it', 'florence', 'nicholas', 'i', 'herself', 'then', 'him', 'oliver']\n",
    "paris ['london', 'france', 'england', 'india', 'newgate', 'dover', 'venice', 'rome', 'italy', 'yorkshire']\n",
    "london ['paris', 'india', 'england', 'town', 'france', 'dover', 'canterbury', 'cloisterham', 'yorkshire', 'chertsey']\n",
    "table ['counter', 'sofa', 'desk', 'ground', 'staircase', 'lid', 'chimneypiece', 'hearth', 'box', 'piano']\n",
    "rare ['terrible', 'faint', 'severe', 'vivid', 'disinterested', 'treacherous', 'fierce', 'delicious', 'powerful', 'genteel']\n",
    "monday ['sunday', 'wednesday', 'thursday', 'saturday', 'friday', 'noon', 'tomorrow', 'tuesday', 'morrow', 'next']\n",
    "sunday ['saturday', 'monday', 'wednesday', 'summer', 'autumn', 'christmas', 'day', 'winter', 'evening', 'tuesday']\n",
    "man ['gentleman', 'woman', 'person', 'lady', 'creature', 'dog', 'fellow', 'boy', 'female', 'men']\n",
    "woman ['man', 'creature', 'girl', 'gentleman', 'lady', 'fellow', 'boy', 'person', 'nurse', 'child']\n",
    "king ['auctioneer', 'horn', 'corn', 'animal', 'committee', 'pastry', 'merchant', 'bride', 'queen', 'richest']\n",
    "queen ['system', 'king', 'basin', 'ship', 'circle', 'dish', 'pudding', 'committee', 'flower', 'list']\n",
    "boy ['girl', 'child', 'fellow', 'creature', 'woman', 'man', 'lad', 'gentleman', 'schoolmaster', 'officer']\n",
    "girl ['creature', 'child', 'woman', 'boy', 'fellow', 'nurse', 'creetur', 'wretch', 'baby', 'lad']\"\"\""
   ]
  }
 ],
 "metadata": {
  "kernelspec": {
   "display_name": "Python 3",
   "language": "python",
   "name": "python3"
  },
  "language_info": {
   "codemirror_mode": {
    "name": "ipython",
    "version": 3
   },
   "file_extension": ".py",
   "mimetype": "text/x-python",
   "name": "python",
   "nbconvert_exporter": "python",
   "pygments_lexer": "ipython3",
   "version": "3.8.5"
  }
 },
 "nbformat": 4,
 "nbformat_minor": 4
}
