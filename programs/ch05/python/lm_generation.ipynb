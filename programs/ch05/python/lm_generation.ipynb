{
 "cells": [
  {
   "attachments": {},
   "cell_type": "markdown",
   "metadata": {},
   "source": [
    "# Text Generation\n",
    "Generating text with conditional probabilities\n",
    "\n",
    "Author: Pierre Nugues"
   ]
  },
  {
   "cell_type": "markdown",
   "metadata": {},
   "source": [
    "## Reading a Corpus\n",
    "Utility function to read all the files in a folder"
   ]
  },
  {
   "cell_type": "code",
   "execution_count": 1,
   "metadata": {},
   "outputs": [],
   "source": [
    "import os\n",
    "def get_files(dir, suffix):\n",
    "    \"\"\"\n",
    "    Returns all the files in a folder ending with suffix\n",
    "    :param dir:\n",
    "    :param suffix:\n",
    "    :return: the list of file names\n",
    "    \"\"\"\n",
    "    files = []\n",
    "    for file in os.listdir(dir):\n",
    "        if file.endswith(suffix):\n",
    "            files.append(file)\n",
    "    return files"
   ]
  },
  {
   "cell_type": "markdown",
   "metadata": {},
   "source": [
    "## Tokenizer\n",
    "An elemetary tokenizer"
   ]
  },
  {
   "cell_type": "code",
   "execution_count": 2,
   "metadata": {},
   "outputs": [],
   "source": [
    "import regex as re\n",
    "def tokenize(text):\n",
    "    \"\"\"\n",
    "    Uses the letters to break the text into words.\n",
    "    Returns a list of match objects\n",
    "    \"\"\"\n",
    "    words = re.findall('\\p{L}+', text)\n",
    "    return words"
   ]
  },
  {
   "attachments": {},
   "cell_type": "markdown",
   "metadata": {},
   "source": [
    "## Reading the Files\n",
    "We read a corpus of novels from Dickens or Lagerlöf"
   ]
  },
  {
   "cell_type": "code",
   "execution_count": 3,
   "metadata": {},
   "outputs": [],
   "source": [
    "selma = False"
   ]
  },
  {
   "cell_type": "code",
   "execution_count": 4,
   "metadata": {},
   "outputs": [
    {
     "data": {
      "text/plain": [
       "['Hard Times.txt',\n",
       " 'Oliver Twist.txt',\n",
       " 'Great Expectations.txt',\n",
       " 'The Old Curiosity Shop.txt',\n",
       " 'A Tale of Two Cities.txt',\n",
       " 'Dombey and Son.txt',\n",
       " 'The Pickwick Papers.txt',\n",
       " 'Bleak House.txt',\n",
       " 'Our Mutual Friend.txt',\n",
       " 'The Mystery of Edwin Drood.txt',\n",
       " 'Nicholas Nickleby.txt',\n",
       " 'David Copperfield.txt',\n",
       " 'Little Dorrit.txt',\n",
       " 'A Christmas Carol in Prose.txt']"
      ]
     },
     "execution_count": 4,
     "metadata": {},
     "output_type": "execute_result"
    }
   ],
   "source": [
    "if selma:\n",
    "    folder = '/Users/pierre/Documents/Cours/EDAN20/corpus/Selma/'\n",
    "else:\n",
    "    folder = '/Users/pierre/Documents/Cours/EDAN20/corpus/Dickens/'\n",
    "files = get_files(folder, 'txt')\n",
    "files"
   ]
  },
  {
   "cell_type": "markdown",
   "metadata": {},
   "source": [
    "We tokenize the texts"
   ]
  },
  {
   "cell_type": "code",
   "execution_count": 5,
   "metadata": {},
   "outputs": [
    {
     "data": {
      "text/plain": [
       "['hard',\n",
       " 'times',\n",
       " 'and',\n",
       " 'reprinted',\n",
       " 'pieces',\n",
       " 'by',\n",
       " 'charles',\n",
       " 'dickens',\n",
       " 'with',\n",
       " 'illustrations']"
      ]
     },
     "execution_count": 5,
     "metadata": {},
     "output_type": "execute_result"
    }
   ],
   "source": [
    "words = []\n",
    "for file in files:\n",
    "    text = open(folder + file).read().lower().strip()\n",
    "    words += tokenize(text)\n",
    "words[:10]"
   ]
  },
  {
   "cell_type": "markdown",
   "metadata": {},
   "source": [
    "## N-gram functions"
   ]
  },
  {
   "cell_type": "code",
   "execution_count": 6,
   "metadata": {},
   "outputs": [],
   "source": [
    "def count_unigrams(words):\n",
    "    frequency = {}\n",
    "    for word in words:\n",
    "        if word in frequency:\n",
    "            frequency[word] += 1\n",
    "        else:\n",
    "            frequency[word] = 1\n",
    "    return frequency"
   ]
  },
  {
   "cell_type": "code",
   "execution_count": 7,
   "metadata": {},
   "outputs": [],
   "source": [
    "def count_bigrams(words):\n",
    "    bigrams = [tuple(words[idx:idx + 2])\n",
    "               for idx in range(len(words) - 1)]\n",
    "    frequencies = {}\n",
    "    for bigram in bigrams:\n",
    "        if bigram in frequencies:\n",
    "            frequencies[bigram] += 1\n",
    "        else:\n",
    "            frequencies[bigram] = 1\n",
    "    return frequencies"
   ]
  },
  {
   "cell_type": "markdown",
   "metadata": {},
   "source": [
    "### We count the unigrams and bigrams"
   ]
  },
  {
   "cell_type": "code",
   "execution_count": 8,
   "metadata": {},
   "outputs": [],
   "source": [
    "unigrams = count_unigrams(words)"
   ]
  },
  {
   "cell_type": "code",
   "execution_count": 9,
   "metadata": {},
   "outputs": [
    {
     "name": "stdout",
     "output_type": "stream",
     "text": [
      "877\n"
     ]
    }
   ],
   "source": [
    "if selma:\n",
    "    print(unigrams['nils'])\n",
    "else:\n",
    "    print(unigrams['oliver'])"
   ]
  },
  {
   "cell_type": "code",
   "execution_count": 10,
   "metadata": {},
   "outputs": [],
   "source": [
    "bigrams = count_bigrams(words)"
   ]
  },
  {
   "cell_type": "markdown",
   "metadata": {},
   "source": [
    "## Conditional Probabilities"
   ]
  },
  {
   "cell_type": "markdown",
   "metadata": {},
   "source": [
    "Given a bigram, $w_n, w_{n+1}$, we compute $P(w_{n+1}|w_n)$. This is defined as $\\frac{count(w_n, w_{n+1})}{count(w_n)}$."
   ]
  },
  {
   "cell_type": "code",
   "execution_count": 11,
   "metadata": {},
   "outputs": [],
   "source": [
    "probs = {k: v/unigrams[k[0]] for k, v in bigrams.items()}"
   ]
  },
  {
   "cell_type": "markdown",
   "metadata": {},
   "source": [
    "### Extracting the conditional probabilities of a word"
   ]
  },
  {
   "cell_type": "code",
   "execution_count": 12,
   "metadata": {},
   "outputs": [],
   "source": [
    "def cond_prob(word):\n",
    "    cprob = sorted([(k, v) for k, v in probs.items() if k[0] == word],\n",
    "                    key=lambda tup: tup[1], reverse=True)\n",
    "    return cprob"
   ]
  },
  {
   "cell_type": "code",
   "execution_count": 13,
   "metadata": {},
   "outputs": [
    {
     "name": "stdout",
     "output_type": "stream",
     "text": [
      "[(('oliver', 's'), 0.12542759407069556), (('oliver', 'twist'), 0.0661345496009122), (('oliver', 'had'), 0.04218928164196123), (('oliver', 'and'), 0.036488027366020526), (('oliver', 'was'), 0.03534777651083238), (('oliver', 'i'), 0.020524515393386546), (('oliver', 'to'), 0.01710376282782212), (('oliver', 'who'), 0.01710376282782212), (('oliver', 'said'), 0.01596351197263398), (('oliver', 'in'), 0.012542759407069556), (('oliver', 'he'), 0.011402508551881414), (('oliver', 'could'), 0.011402508551881414), (('oliver', 'the'), 0.010262257696693273), (('oliver', 'as'), 0.010262257696693273), (('oliver', 'with'), 0.010262257696693273), (('oliver', 'looked'), 0.009122006841505131), (('oliver', 'is'), 0.00798175598631699), (('oliver', 'should'), 0.00798175598631699), (('oliver', 'a'), 0.00798175598631699), (('oliver', 'would'), 0.00798175598631699), (('oliver', 'felt'), 0.00798175598631699), (('oliver', 'being'), 0.0068415051311288486), (('oliver', 'began'), 0.0068415051311288486), (('oliver', 'that'), 0.0068415051311288486), (('oliver', 'you'), 0.0068415051311288486), (('oliver', 'did'), 0.0068415051311288486), (('oliver', 'yes'), 0.0068415051311288486), (('oliver', 'no'), 0.005701254275940707), (('oliver', 'remained'), 0.005701254275940707), (('oliver', 'it'), 0.005701254275940707), (('oliver', 'at'), 0.005701254275940707), (('oliver', 'from'), 0.005701254275940707), (('oliver', 'well'), 0.005701254275940707), (('oliver', 'what'), 0.005701254275940707), (('oliver', 'thought'), 0.005701254275940707), (('oliver', 'by'), 0.005701254275940707), (('oliver', 'knew'), 0.005701254275940707), (('oliver', 'pointing'), 0.005701254275940707), (('oliver', 'having'), 0.004561003420752566), (('oliver', 'my'), 0.004561003420752566), (('oliver', 'looking'), 0.004561003420752566), (('oliver', 'walked'), 0.004561003420752566), (('oliver', 'on'), 0.004561003420752566), (('oliver', 'lay'), 0.004561003420752566), (('oliver', 'saw'), 0.004561003420752566), (('oliver', 'cried'), 0.0034207525655644243), (('oliver', 'made'), 0.0034207525655644243), (('oliver', 'bowed'), 0.0034207525655644243), (('oliver', 'when'), 0.0034207525655644243), (('oliver', 'fell'), 0.0034207525655644243), (('oliver', 'whose'), 0.0034207525655644243), (('oliver', 'replied'), 0.0034207525655644243), (('oliver', 'how'), 0.0034207525655644243), (('oliver', 'glanced'), 0.0034207525655644243), (('oliver', 'followed'), 0.0034207525655644243), (('oliver', 'after'), 0.0034207525655644243), (('oliver', 'wondered'), 0.0034207525655644243), (('oliver', 'started'), 0.0034207525655644243), (('oliver', 'struggling'), 0.0034207525655644243), (('oliver', 'come'), 0.0034207525655644243), (('oliver', 'very'), 0.0034207525655644243), (('oliver', 'for'), 0.0034207525655644243), (('oliver', 'raised'), 0.0034207525655644243), (('oliver', 'awoke'), 0.0034207525655644243), (('oliver', 'why'), 0.0034207525655644243), (('oliver', 'than'), 0.0034207525655644243), (('oliver', 'sat'), 0.0034207525655644243), (('oliver', 'eagerly'), 0.0034207525655644243), (('oliver', 'oh'), 0.0034207525655644243), (('oliver', 'turned'), 0.0034207525655644243), (('oliver', 'hastily'), 0.0034207525655644243), (('oliver', 'let'), 0.0034207525655644243), (('oliver', 'were'), 0.0034207525655644243), (('oliver', 'mingles'), 0.002280501710376283), (('oliver', 'continues'), 0.002280501710376283), (('oliver', 'walks'), 0.002280501710376283), (('oliver', 'becomes'), 0.002280501710376283), (('oliver', 'passed'), 0.002280501710376283), (('oliver', 'resorted'), 0.002280501710376283), (('oliver', 'gave'), 0.002280501710376283), (('oliver', 'but'), 0.002280501710376283), (('oliver', 'mrs'), 0.002280501710376283), (('oliver', 'down'), 0.002280501710376283), (('oliver', 'then'), 0.002280501710376283), (('oliver', 'more'), 0.002280501710376283), (('oliver', 'sir'), 0.002280501710376283), (('oliver', 'just'), 0.002280501710376283), (('oliver', 'because'), 0.002280501710376283), (('oliver', 'tried'), 0.002280501710376283), (('oliver', 'concluded'), 0.002280501710376283), (('oliver', 'so'), 0.002280501710376283), (('oliver', 'ah'), 0.002280501710376283), (('oliver', 'got'), 0.002280501710376283), (('oliver', 'master'), 0.002280501710376283), (('oliver', 'between'), 0.002280501710376283), (('oliver', 'soon'), 0.002280501710376283), (('oliver', 'running'), 0.002280501710376283), (('oliver', 'opened'), 0.002280501710376283), (('oliver', 'not'), 0.002280501710376283), (('oliver', 'mr'), 0.002280501710376283), (('oliver', 'greatly'), 0.002280501710376283), (('oliver', 'often'), 0.002280501710376283), (('oliver', 'inquired'), 0.002280501710376283), (('oliver', 'gently'), 0.002280501710376283), (('oliver', 'towards'), 0.002280501710376283), (('oliver', 'his'), 0.002280501710376283), (('oliver', 'whom'), 0.002280501710376283), (('oliver', 'too'), 0.002280501710376283), (('oliver', 'xxxv'), 0.0011402508551881414), (('oliver', 'breathed'), 0.0011402508551881414), (('oliver', 'wanted'), 0.0011402508551881414), (('oliver', 'firmly'), 0.0011402508551881414), (('oliver', 'brushed'), 0.0011402508551881414), (('oliver', 'weeping'), 0.0011402508551881414), (('oliver', 'while'), 0.0011402508551881414), (('oliver', 'seventy'), 0.0011402508551881414), (('oliver', 'wipe'), 0.0011402508551881414), (('oliver', 'promised'), 0.0011402508551881414), (('oliver', 'stared'), 0.0011402508551881414), (('oliver', 'roused'), 0.0011402508551881414), (('oliver', 'effectually'), 0.0011402508551881414), (('oliver', 'instead'), 0.0011402508551881414), (('oliver', 'along'), 0.0011402508551881414), (('oliver', 'clinging'), 0.0011402508551881414), (('oliver', 'dry'), 0.0011402508551881414), (('oliver', 'tore'), 0.0011402508551881414), (('oliver', 'lingered'), 0.0011402508551881414), (('oliver', 'undoing'), 0.0011402508551881414), (('oliver', 'innocently'), 0.0011402508551881414), (('oliver', 'shut'), 0.0011402508551881414), (('oliver', 'upon'), 0.0011402508551881414), (('oliver', 'put'), 0.0011402508551881414), (('oliver', 'obeyed'), 0.0011402508551881414), (('oliver', 'keep'), 0.0011402508551881414), (('oliver', 'shuddered'), 0.0011402508551881414), (('oliver', 'acquired'), 0.0011402508551881414), (('oliver', 'headed'), 0.0011402508551881414), (('oliver', 'accompanied'), 0.0011402508551881414), (('oliver', 'beheld'), 0.0011402508551881414), (('oliver', 'cry'), 0.0011402508551881414), (('oliver', 'don'), 0.0011402508551881414), (('oliver', 'sharply'), 0.0011402508551881414), (('oliver', 'has'), 0.0011402508551881414), (('oliver', 'continued'), 0.0011402508551881414), (('oliver', 'ain'), 0.0011402508551881414), (('oliver', 'boldly'), 0.0011402508551881414), (('oliver', 'she'), 0.0011402508551881414), (('oliver', 'most'), 0.0011402508551881414), (('oliver', 'arose'), 0.0011402508551881414), (('oliver', 'stopped'), 0.0011402508551881414), (('oliver', 'reached'), 0.0011402508551881414), (('oliver', 'limped'), 0.0011402508551881414), (('oliver', 'mildly'), 0.0011402508551881414), (('oliver', 'falling'), 0.0011402508551881414), (('oliver', 'discovered'), 0.0011402508551881414), (('oliver', 'forward'), 0.0011402508551881414), (('oliver', 'groping'), 0.0011402508551881414), (('oliver', 'took'), 0.0011402508551881414), (('oliver', 'ate'), 0.0011402508551881414), (('oliver', 'meekly'), 0.0011402508551881414), (('oliver', 'are'), 0.0011402508551881414), (('oliver', 'earnestly'), 0.0011402508551881414), (('oliver', 'eh'), 0.0011402508551881414), (('oliver', 'naturally'), 0.0011402508551881414), (('oliver', 'laughed'), 0.0011402508551881414), (('oliver', 'must'), 0.0011402508551881414), (('oliver', 'see'), 0.0011402508551881414), (('oliver', 'held'), 0.0011402508551881414), (('oliver', 'showing'), 0.0011402508551881414), (('oliver', 'obtained'), 0.0011402508551881414), (('oliver', 'hush'), 0.0011402508551881414), (('oliver', 'clasping'), 0.0011402508551881414), (('oliver', 'through'), 0.0011402508551881414), (('oliver', 'availed'), 0.0011402508551881414), (('oliver', 'this'), 0.0011402508551881414), (('oliver', 'folding'), 0.0011402508551881414), (('oliver', 'kept'), 0.0011402508551881414), (('oliver', 'hem'), 0.0011402508551881414), (('oliver', 'dozed'), 0.0011402508551881414), (('oliver', 'without'), 0.0011402508551881414), (('oliver', 'quickly'), 0.0011402508551881414), (('oliver', 'white'), 0.0011402508551881414), (('oliver', 'raising'), 0.0011402508551881414), (('oliver', 'or'), 0.0011402508551881414), (('oliver', 'cribbage'), 0.0011402508551881414), (('oliver', 'tapped'), 0.0011402508551881414), (('oliver', 'complied'), 0.0011402508551881414), (('oliver', 'surveyed'), 0.0011402508551881414), (('oliver', 'considered'), 0.0011402508551881414), (('oliver', 'alarmed'), 0.0011402508551881414), (('oliver', 'mealy'), 0.0011402508551881414), (('oliver', 'ran'), 0.0011402508551881414), (('oliver', 'delighted'), 0.0011402508551881414), (('oliver', 'oliver'), 0.0011402508551881414), (('oliver', 'hesitated'), 0.0011402508551881414), (('oliver', 'led'), 0.0011402508551881414), (('oliver', 'heard'), 0.0011402508551881414), (('oliver', 'viewed'), 0.0011402508551881414), (('oliver', 'regarded'), 0.0011402508551881414), (('oliver', 'wringing'), 0.0011402508551881414), (('oliver', 'among'), 0.0011402508551881414), (('oliver', 'into'), 0.0011402508551881414), (('oliver', 'unwillingly'), 0.0011402508551881414), (('oliver', 'checking'), 0.0011402508551881414), (('oliver', 'timidly'), 0.0011402508551881414), (('oliver', 'something'), 0.0011402508551881414), (('oliver', 'all'), 0.0011402508551881414), (('oliver', 'ha'), 0.0011402508551881414), (('oliver', 'away'), 0.0011402508551881414), (('oliver', 'anxiously'), 0.0011402508551881414), (('oliver', 'thus'), 0.0011402508551881414), (('oliver', 'coloured'), 0.0011402508551881414), (('oliver', 'bah'), 0.0011402508551881414), (('oliver', 'softly'), 0.0011402508551881414), (('oliver', 'take'), 0.0011402508551881414), (('oliver', 'leaned'), 0.0011402508551881414), (('oliver', 'can'), 0.0011402508551881414), (('oliver', 'stirred'), 0.0011402508551881414), (('oliver', 'recoiling'), 0.0011402508551881414), (('oliver', 'instinctively'), 0.0011402508551881414), (('oliver', 'fast'), 0.0011402508551881414), (('oliver', 'cast'), 0.0011402508551881414), (('oliver', 'murmured'), 0.0011402508551881414), (('oliver', 'stretched'), 0.0011402508551881414), (('oliver', 'quickening'), 0.0011402508551881414), (('oliver', 'turning'), 0.0011402508551881414), (('oliver', 'before'), 0.0011402508551881414), (('oliver', 'wot'), 0.0011402508551881414), (('oliver', 'retained'), 0.0011402508551881414), (('oliver', 'now'), 0.0011402508551881414), (('oliver', 'urged'), 0.0011402508551881414), (('oliver', 'lest'), 0.0011402508551881414), (('oliver', 'slumbered'), 0.0011402508551881414), (('oliver', 'told'), 0.0011402508551881414), (('oliver', 'composed'), 0.0011402508551881414), (('oliver', 'left'), 0.0011402508551881414), (('oliver', 'gradually'), 0.0011402508551881414), (('oliver', 'if'), 0.0011402508551881414), (('oliver', 'they'), 0.0011402508551881414), (('oliver', 'clasped'), 0.0011402508551881414), (('oliver', 'much'), 0.0011402508551881414), (('oliver', 'read'), 0.0011402508551881414), (('oliver', 'hastened'), 0.0011402508551881414), (('oliver', 'two'), 0.0011402508551881414), (('oliver', 'suppressing'), 0.0011402508551881414), (('oliver', 'impatient'), 0.0011402508551881414), (('oliver', 'her'), 0.0011402508551881414), (('oliver', 'hurried'), 0.0011402508551881414), (('oliver', 'confused'), 0.0011402508551881414), (('oliver', 'gazed'), 0.0011402508551881414), (('oliver', 'start'), 0.0011402508551881414), (('oliver', 'paced'), 0.0011402508551881414), (('oliver', 'crept'), 0.0011402508551881414), (('oliver', 'caught'), 0.0011402508551881414), (('oliver', 'hurriedly'), 0.0011402508551881414), (('oliver', 'indeed'), 0.0011402508551881414), (('oliver', 'rose'), 0.0011402508551881414), (('oliver', 'coming'), 0.0011402508551881414), (('oliver', 'shuddering'), 0.0011402508551881414), (('oliver', 'we'), 0.0011402508551881414), (('oliver', 'here'), 0.0011402508551881414), (('oliver', 'quite'), 0.0011402508551881414), (('oliver', 'young'), 0.0011402508551881414), (('oliver', 'back'), 0.0011402508551881414), (('oliver', 'scarcely'), 0.0011402508551881414), (('oliver', 'shedding'), 0.0011402508551881414), (('oliver', 'opening'), 0.0011402508551881414), (('oliver', 'needed'), 0.0011402508551881414), (('oliver', 'since'), 0.0011402508551881414), (('oliver', 'returned'), 0.0011402508551881414), (('oliver', 'himself'), 0.0011402508551881414), (('oliver', 'found'), 0.0011402508551881414), (('oliver', 'under'), 0.0011402508551881414), (('oliver', 'involuntarily'), 0.0011402508551881414), (('oliver', 'used'), 0.0011402508551881414), (('oliver', 'almost'), 0.0011402508551881414), (('oliver', 'ensnared'), 0.0011402508551881414), (('oliver', 'throwing'), 0.0011402508551881414), (('oliver', 'appeared'), 0.0011402508551881414), (('oliver', 'nearly'), 0.0011402508551881414), (('oliver', 'cromwell'), 0.0011402508551881414)]\n"
     ]
    }
   ],
   "source": [
    "if selma:\n",
    "    print(cond_prob('nils'))\n",
    "else:\n",
    "    print(cond_prob('oliver'))"
   ]
  },
  {
   "cell_type": "markdown",
   "metadata": {},
   "source": [
    "### Drawing samples from a multinomial distribution. "
   ]
  },
  {
   "cell_type": "markdown",
   "metadata": {},
   "source": [
    "Understanding the `np.random.multinomial` function"
   ]
  },
  {
   "cell_type": "code",
   "execution_count": 14,
   "metadata": {},
   "outputs": [
    {
     "name": "stdout",
     "output_type": "stream",
     "text": [
      "[0 0 1]\n",
      "[0 1 0]\n",
      "[0 1 0]\n",
      "[0 0 1]\n",
      "[1 0 0]\n",
      "[0 0 1]\n",
      "[0 1 0]\n",
      "[1 0 0]\n",
      "[0 1 0]\n",
      "[0 0 1]\n"
     ]
    }
   ],
   "source": [
    "import numpy as np\n",
    "np.random.seed(0)\n",
    "for i in range(10):\n",
    "    print(np.random.multinomial(1, [0.3, 0.5, 0.2]))"
   ]
  },
  {
   "cell_type": "markdown",
   "metadata": {},
   "source": [
    "On a large number of draws"
   ]
  },
  {
   "cell_type": "code",
   "execution_count": 15,
   "metadata": {},
   "outputs": [
    {
     "data": {
      "text/plain": [
       "array([30330, 49807, 19863])"
      ]
     },
     "execution_count": 15,
     "metadata": {},
     "output_type": "execute_result"
    }
   ],
   "source": [
    "np.random.multinomial(100000, [0.3, 0.5, 0.2])"
   ]
  },
  {
   "cell_type": "markdown",
   "metadata": {},
   "source": [
    "### And finally, generating a sequence"
   ]
  },
  {
   "cell_type": "code",
   "execution_count": 16,
   "metadata": {},
   "outputs": [],
   "source": [
    "if selma:\n",
    "    start_word = 'nils'\n",
    "else:\n",
    "    start_word = 'oliver'"
   ]
  },
  {
   "cell_type": "code",
   "execution_count": 17,
   "metadata": {},
   "outputs": [
    {
     "name": "stdout",
     "output_type": "stream",
     "text": [
      "oliver remained motionless as its youth to go by pain murder of each other flowers and looking glass bottle cried mr magnus to listen then she had increased effect of his face or imbecility of a charitable institution as snugly packed on the emotion hooroar my fellow hoaxing genius and abstracted "
     ]
    }
   ],
   "source": [
    "print(start_word, end=' ')\n",
    "next_word = start_word\n",
    "for i in range(50):\n",
    "    cprob = cond_prob(next_word)\n",
    "    distribution = [i[1] for i in cprob]\n",
    "    bigram = cprob[np.argmax(np.random.multinomial(1, distribution))]\n",
    "    print(bigram[0][1], end=' ')\n",
    "    next_word = bigram[0][1]"
   ]
  },
  {
   "attachments": {},
   "cell_type": "markdown",
   "metadata": {},
   "source": [
    "## Reweighting Distributions\n",
    "We will now reweight the distribution the second word in the bigram to make the generation more reproducible or more random"
   ]
  },
  {
   "cell_type": "code",
   "execution_count": 18,
   "metadata": {},
   "outputs": [
    {
     "data": {
      "text/plain": [
       "[(('oliver', 's'), 0.12542759407069556),\n",
       " (('oliver', 'twist'), 0.0661345496009122),\n",
       " (('oliver', 'had'), 0.04218928164196123),\n",
       " (('oliver', 'and'), 0.036488027366020526),\n",
       " (('oliver', 'was'), 0.03534777651083238),\n",
       " (('oliver', 'i'), 0.020524515393386546),\n",
       " (('oliver', 'to'), 0.01710376282782212),\n",
       " (('oliver', 'who'), 0.01710376282782212),\n",
       " (('oliver', 'said'), 0.01596351197263398),\n",
       " (('oliver', 'in'), 0.012542759407069556),\n",
       " (('oliver', 'he'), 0.011402508551881414),\n",
       " (('oliver', 'could'), 0.011402508551881414),\n",
       " (('oliver', 'the'), 0.010262257696693273),\n",
       " (('oliver', 'as'), 0.010262257696693273),\n",
       " (('oliver', 'with'), 0.010262257696693273),\n",
       " (('oliver', 'looked'), 0.009122006841505131),\n",
       " (('oliver', 'is'), 0.00798175598631699),\n",
       " (('oliver', 'should'), 0.00798175598631699),\n",
       " (('oliver', 'a'), 0.00798175598631699),\n",
       " (('oliver', 'would'), 0.00798175598631699),\n",
       " (('oliver', 'felt'), 0.00798175598631699),\n",
       " (('oliver', 'being'), 0.0068415051311288486),\n",
       " (('oliver', 'began'), 0.0068415051311288486),\n",
       " (('oliver', 'that'), 0.0068415051311288486),\n",
       " (('oliver', 'you'), 0.0068415051311288486),\n",
       " (('oliver', 'did'), 0.0068415051311288486),\n",
       " (('oliver', 'yes'), 0.0068415051311288486),\n",
       " (('oliver', 'no'), 0.005701254275940707),\n",
       " (('oliver', 'remained'), 0.005701254275940707),\n",
       " (('oliver', 'it'), 0.005701254275940707),\n",
       " (('oliver', 'at'), 0.005701254275940707),\n",
       " (('oliver', 'from'), 0.005701254275940707),\n",
       " (('oliver', 'well'), 0.005701254275940707),\n",
       " (('oliver', 'what'), 0.005701254275940707),\n",
       " (('oliver', 'thought'), 0.005701254275940707),\n",
       " (('oliver', 'by'), 0.005701254275940707),\n",
       " (('oliver', 'knew'), 0.005701254275940707),\n",
       " (('oliver', 'pointing'), 0.005701254275940707),\n",
       " (('oliver', 'having'), 0.004561003420752566),\n",
       " (('oliver', 'my'), 0.004561003420752566),\n",
       " (('oliver', 'looking'), 0.004561003420752566),\n",
       " (('oliver', 'walked'), 0.004561003420752566),\n",
       " (('oliver', 'on'), 0.004561003420752566),\n",
       " (('oliver', 'lay'), 0.004561003420752566),\n",
       " (('oliver', 'saw'), 0.004561003420752566),\n",
       " (('oliver', 'cried'), 0.0034207525655644243),\n",
       " (('oliver', 'made'), 0.0034207525655644243),\n",
       " (('oliver', 'bowed'), 0.0034207525655644243),\n",
       " (('oliver', 'when'), 0.0034207525655644243),\n",
       " (('oliver', 'fell'), 0.0034207525655644243),\n",
       " (('oliver', 'whose'), 0.0034207525655644243),\n",
       " (('oliver', 'replied'), 0.0034207525655644243),\n",
       " (('oliver', 'how'), 0.0034207525655644243),\n",
       " (('oliver', 'glanced'), 0.0034207525655644243),\n",
       " (('oliver', 'followed'), 0.0034207525655644243),\n",
       " (('oliver', 'after'), 0.0034207525655644243),\n",
       " (('oliver', 'wondered'), 0.0034207525655644243),\n",
       " (('oliver', 'started'), 0.0034207525655644243),\n",
       " (('oliver', 'struggling'), 0.0034207525655644243),\n",
       " (('oliver', 'come'), 0.0034207525655644243),\n",
       " (('oliver', 'very'), 0.0034207525655644243),\n",
       " (('oliver', 'for'), 0.0034207525655644243),\n",
       " (('oliver', 'raised'), 0.0034207525655644243),\n",
       " (('oliver', 'awoke'), 0.0034207525655644243),\n",
       " (('oliver', 'why'), 0.0034207525655644243),\n",
       " (('oliver', 'than'), 0.0034207525655644243),\n",
       " (('oliver', 'sat'), 0.0034207525655644243),\n",
       " (('oliver', 'eagerly'), 0.0034207525655644243),\n",
       " (('oliver', 'oh'), 0.0034207525655644243),\n",
       " (('oliver', 'turned'), 0.0034207525655644243),\n",
       " (('oliver', 'hastily'), 0.0034207525655644243),\n",
       " (('oliver', 'let'), 0.0034207525655644243),\n",
       " (('oliver', 'were'), 0.0034207525655644243),\n",
       " (('oliver', 'mingles'), 0.002280501710376283),\n",
       " (('oliver', 'continues'), 0.002280501710376283),\n",
       " (('oliver', 'walks'), 0.002280501710376283),\n",
       " (('oliver', 'becomes'), 0.002280501710376283),\n",
       " (('oliver', 'passed'), 0.002280501710376283),\n",
       " (('oliver', 'resorted'), 0.002280501710376283),\n",
       " (('oliver', 'gave'), 0.002280501710376283),\n",
       " (('oliver', 'but'), 0.002280501710376283),\n",
       " (('oliver', 'mrs'), 0.002280501710376283),\n",
       " (('oliver', 'down'), 0.002280501710376283),\n",
       " (('oliver', 'then'), 0.002280501710376283),\n",
       " (('oliver', 'more'), 0.002280501710376283),\n",
       " (('oliver', 'sir'), 0.002280501710376283),\n",
       " (('oliver', 'just'), 0.002280501710376283),\n",
       " (('oliver', 'because'), 0.002280501710376283),\n",
       " (('oliver', 'tried'), 0.002280501710376283),\n",
       " (('oliver', 'concluded'), 0.002280501710376283),\n",
       " (('oliver', 'so'), 0.002280501710376283),\n",
       " (('oliver', 'ah'), 0.002280501710376283),\n",
       " (('oliver', 'got'), 0.002280501710376283),\n",
       " (('oliver', 'master'), 0.002280501710376283),\n",
       " (('oliver', 'between'), 0.002280501710376283),\n",
       " (('oliver', 'soon'), 0.002280501710376283),\n",
       " (('oliver', 'running'), 0.002280501710376283),\n",
       " (('oliver', 'opened'), 0.002280501710376283),\n",
       " (('oliver', 'not'), 0.002280501710376283),\n",
       " (('oliver', 'mr'), 0.002280501710376283),\n",
       " (('oliver', 'greatly'), 0.002280501710376283),\n",
       " (('oliver', 'often'), 0.002280501710376283),\n",
       " (('oliver', 'inquired'), 0.002280501710376283),\n",
       " (('oliver', 'gently'), 0.002280501710376283),\n",
       " (('oliver', 'towards'), 0.002280501710376283),\n",
       " (('oliver', 'his'), 0.002280501710376283),\n",
       " (('oliver', 'whom'), 0.002280501710376283),\n",
       " (('oliver', 'too'), 0.002280501710376283),\n",
       " (('oliver', 'xxxv'), 0.0011402508551881414),\n",
       " (('oliver', 'breathed'), 0.0011402508551881414),\n",
       " (('oliver', 'wanted'), 0.0011402508551881414),\n",
       " (('oliver', 'firmly'), 0.0011402508551881414),\n",
       " (('oliver', 'brushed'), 0.0011402508551881414),\n",
       " (('oliver', 'weeping'), 0.0011402508551881414),\n",
       " (('oliver', 'while'), 0.0011402508551881414),\n",
       " (('oliver', 'seventy'), 0.0011402508551881414),\n",
       " (('oliver', 'wipe'), 0.0011402508551881414),\n",
       " (('oliver', 'promised'), 0.0011402508551881414),\n",
       " (('oliver', 'stared'), 0.0011402508551881414),\n",
       " (('oliver', 'roused'), 0.0011402508551881414),\n",
       " (('oliver', 'effectually'), 0.0011402508551881414),\n",
       " (('oliver', 'instead'), 0.0011402508551881414),\n",
       " (('oliver', 'along'), 0.0011402508551881414),\n",
       " (('oliver', 'clinging'), 0.0011402508551881414),\n",
       " (('oliver', 'dry'), 0.0011402508551881414),\n",
       " (('oliver', 'tore'), 0.0011402508551881414),\n",
       " (('oliver', 'lingered'), 0.0011402508551881414),\n",
       " (('oliver', 'undoing'), 0.0011402508551881414),\n",
       " (('oliver', 'innocently'), 0.0011402508551881414),\n",
       " (('oliver', 'shut'), 0.0011402508551881414),\n",
       " (('oliver', 'upon'), 0.0011402508551881414),\n",
       " (('oliver', 'put'), 0.0011402508551881414),\n",
       " (('oliver', 'obeyed'), 0.0011402508551881414),\n",
       " (('oliver', 'keep'), 0.0011402508551881414),\n",
       " (('oliver', 'shuddered'), 0.0011402508551881414),\n",
       " (('oliver', 'acquired'), 0.0011402508551881414),\n",
       " (('oliver', 'headed'), 0.0011402508551881414),\n",
       " (('oliver', 'accompanied'), 0.0011402508551881414),\n",
       " (('oliver', 'beheld'), 0.0011402508551881414),\n",
       " (('oliver', 'cry'), 0.0011402508551881414),\n",
       " (('oliver', 'don'), 0.0011402508551881414),\n",
       " (('oliver', 'sharply'), 0.0011402508551881414),\n",
       " (('oliver', 'has'), 0.0011402508551881414),\n",
       " (('oliver', 'continued'), 0.0011402508551881414),\n",
       " (('oliver', 'ain'), 0.0011402508551881414),\n",
       " (('oliver', 'boldly'), 0.0011402508551881414),\n",
       " (('oliver', 'she'), 0.0011402508551881414),\n",
       " (('oliver', 'most'), 0.0011402508551881414),\n",
       " (('oliver', 'arose'), 0.0011402508551881414),\n",
       " (('oliver', 'stopped'), 0.0011402508551881414),\n",
       " (('oliver', 'reached'), 0.0011402508551881414),\n",
       " (('oliver', 'limped'), 0.0011402508551881414),\n",
       " (('oliver', 'mildly'), 0.0011402508551881414),\n",
       " (('oliver', 'falling'), 0.0011402508551881414),\n",
       " (('oliver', 'discovered'), 0.0011402508551881414),\n",
       " (('oliver', 'forward'), 0.0011402508551881414),\n",
       " (('oliver', 'groping'), 0.0011402508551881414),\n",
       " (('oliver', 'took'), 0.0011402508551881414),\n",
       " (('oliver', 'ate'), 0.0011402508551881414),\n",
       " (('oliver', 'meekly'), 0.0011402508551881414),\n",
       " (('oliver', 'are'), 0.0011402508551881414),\n",
       " (('oliver', 'earnestly'), 0.0011402508551881414),\n",
       " (('oliver', 'eh'), 0.0011402508551881414),\n",
       " (('oliver', 'naturally'), 0.0011402508551881414),\n",
       " (('oliver', 'laughed'), 0.0011402508551881414),\n",
       " (('oliver', 'must'), 0.0011402508551881414),\n",
       " (('oliver', 'see'), 0.0011402508551881414),\n",
       " (('oliver', 'held'), 0.0011402508551881414),\n",
       " (('oliver', 'showing'), 0.0011402508551881414),\n",
       " (('oliver', 'obtained'), 0.0011402508551881414),\n",
       " (('oliver', 'hush'), 0.0011402508551881414),\n",
       " (('oliver', 'clasping'), 0.0011402508551881414),\n",
       " (('oliver', 'through'), 0.0011402508551881414),\n",
       " (('oliver', 'availed'), 0.0011402508551881414),\n",
       " (('oliver', 'this'), 0.0011402508551881414),\n",
       " (('oliver', 'folding'), 0.0011402508551881414),\n",
       " (('oliver', 'kept'), 0.0011402508551881414),\n",
       " (('oliver', 'hem'), 0.0011402508551881414),\n",
       " (('oliver', 'dozed'), 0.0011402508551881414),\n",
       " (('oliver', 'without'), 0.0011402508551881414),\n",
       " (('oliver', 'quickly'), 0.0011402508551881414),\n",
       " (('oliver', 'white'), 0.0011402508551881414),\n",
       " (('oliver', 'raising'), 0.0011402508551881414),\n",
       " (('oliver', 'or'), 0.0011402508551881414),\n",
       " (('oliver', 'cribbage'), 0.0011402508551881414),\n",
       " (('oliver', 'tapped'), 0.0011402508551881414),\n",
       " (('oliver', 'complied'), 0.0011402508551881414),\n",
       " (('oliver', 'surveyed'), 0.0011402508551881414),\n",
       " (('oliver', 'considered'), 0.0011402508551881414),\n",
       " (('oliver', 'alarmed'), 0.0011402508551881414),\n",
       " (('oliver', 'mealy'), 0.0011402508551881414),\n",
       " (('oliver', 'ran'), 0.0011402508551881414),\n",
       " (('oliver', 'delighted'), 0.0011402508551881414),\n",
       " (('oliver', 'oliver'), 0.0011402508551881414),\n",
       " (('oliver', 'hesitated'), 0.0011402508551881414),\n",
       " (('oliver', 'led'), 0.0011402508551881414),\n",
       " (('oliver', 'heard'), 0.0011402508551881414),\n",
       " (('oliver', 'viewed'), 0.0011402508551881414),\n",
       " (('oliver', 'regarded'), 0.0011402508551881414),\n",
       " (('oliver', 'wringing'), 0.0011402508551881414),\n",
       " (('oliver', 'among'), 0.0011402508551881414),\n",
       " (('oliver', 'into'), 0.0011402508551881414),\n",
       " (('oliver', 'unwillingly'), 0.0011402508551881414),\n",
       " (('oliver', 'checking'), 0.0011402508551881414),\n",
       " (('oliver', 'timidly'), 0.0011402508551881414),\n",
       " (('oliver', 'something'), 0.0011402508551881414),\n",
       " (('oliver', 'all'), 0.0011402508551881414),\n",
       " (('oliver', 'ha'), 0.0011402508551881414),\n",
       " (('oliver', 'away'), 0.0011402508551881414),\n",
       " (('oliver', 'anxiously'), 0.0011402508551881414),\n",
       " (('oliver', 'thus'), 0.0011402508551881414),\n",
       " (('oliver', 'coloured'), 0.0011402508551881414),\n",
       " (('oliver', 'bah'), 0.0011402508551881414),\n",
       " (('oliver', 'softly'), 0.0011402508551881414),\n",
       " (('oliver', 'take'), 0.0011402508551881414),\n",
       " (('oliver', 'leaned'), 0.0011402508551881414),\n",
       " (('oliver', 'can'), 0.0011402508551881414),\n",
       " (('oliver', 'stirred'), 0.0011402508551881414),\n",
       " (('oliver', 'recoiling'), 0.0011402508551881414),\n",
       " (('oliver', 'instinctively'), 0.0011402508551881414),\n",
       " (('oliver', 'fast'), 0.0011402508551881414),\n",
       " (('oliver', 'cast'), 0.0011402508551881414),\n",
       " (('oliver', 'murmured'), 0.0011402508551881414),\n",
       " (('oliver', 'stretched'), 0.0011402508551881414),\n",
       " (('oliver', 'quickening'), 0.0011402508551881414),\n",
       " (('oliver', 'turning'), 0.0011402508551881414),\n",
       " (('oliver', 'before'), 0.0011402508551881414),\n",
       " (('oliver', 'wot'), 0.0011402508551881414),\n",
       " (('oliver', 'retained'), 0.0011402508551881414),\n",
       " (('oliver', 'now'), 0.0011402508551881414),\n",
       " (('oliver', 'urged'), 0.0011402508551881414),\n",
       " (('oliver', 'lest'), 0.0011402508551881414),\n",
       " (('oliver', 'slumbered'), 0.0011402508551881414),\n",
       " (('oliver', 'told'), 0.0011402508551881414),\n",
       " (('oliver', 'composed'), 0.0011402508551881414),\n",
       " (('oliver', 'left'), 0.0011402508551881414),\n",
       " (('oliver', 'gradually'), 0.0011402508551881414),\n",
       " (('oliver', 'if'), 0.0011402508551881414),\n",
       " (('oliver', 'they'), 0.0011402508551881414),\n",
       " (('oliver', 'clasped'), 0.0011402508551881414),\n",
       " (('oliver', 'much'), 0.0011402508551881414),\n",
       " (('oliver', 'read'), 0.0011402508551881414),\n",
       " (('oliver', 'hastened'), 0.0011402508551881414),\n",
       " (('oliver', 'two'), 0.0011402508551881414),\n",
       " (('oliver', 'suppressing'), 0.0011402508551881414),\n",
       " (('oliver', 'impatient'), 0.0011402508551881414),\n",
       " (('oliver', 'her'), 0.0011402508551881414),\n",
       " (('oliver', 'hurried'), 0.0011402508551881414),\n",
       " (('oliver', 'confused'), 0.0011402508551881414),\n",
       " (('oliver', 'gazed'), 0.0011402508551881414),\n",
       " (('oliver', 'start'), 0.0011402508551881414),\n",
       " (('oliver', 'paced'), 0.0011402508551881414),\n",
       " (('oliver', 'crept'), 0.0011402508551881414),\n",
       " (('oliver', 'caught'), 0.0011402508551881414),\n",
       " (('oliver', 'hurriedly'), 0.0011402508551881414),\n",
       " (('oliver', 'indeed'), 0.0011402508551881414),\n",
       " (('oliver', 'rose'), 0.0011402508551881414),\n",
       " (('oliver', 'coming'), 0.0011402508551881414),\n",
       " (('oliver', 'shuddering'), 0.0011402508551881414),\n",
       " (('oliver', 'we'), 0.0011402508551881414),\n",
       " (('oliver', 'here'), 0.0011402508551881414),\n",
       " (('oliver', 'quite'), 0.0011402508551881414),\n",
       " (('oliver', 'young'), 0.0011402508551881414),\n",
       " (('oliver', 'back'), 0.0011402508551881414),\n",
       " (('oliver', 'scarcely'), 0.0011402508551881414),\n",
       " (('oliver', 'shedding'), 0.0011402508551881414),\n",
       " (('oliver', 'opening'), 0.0011402508551881414),\n",
       " (('oliver', 'needed'), 0.0011402508551881414),\n",
       " (('oliver', 'since'), 0.0011402508551881414),\n",
       " (('oliver', 'returned'), 0.0011402508551881414),\n",
       " (('oliver', 'himself'), 0.0011402508551881414),\n",
       " (('oliver', 'found'), 0.0011402508551881414),\n",
       " (('oliver', 'under'), 0.0011402508551881414),\n",
       " (('oliver', 'involuntarily'), 0.0011402508551881414),\n",
       " (('oliver', 'used'), 0.0011402508551881414),\n",
       " (('oliver', 'almost'), 0.0011402508551881414),\n",
       " (('oliver', 'ensnared'), 0.0011402508551881414),\n",
       " (('oliver', 'throwing'), 0.0011402508551881414),\n",
       " (('oliver', 'appeared'), 0.0011402508551881414),\n",
       " (('oliver', 'nearly'), 0.0011402508551881414),\n",
       " (('oliver', 'cromwell'), 0.0011402508551881414)]"
      ]
     },
     "execution_count": 18,
     "metadata": {},
     "output_type": "execute_result"
    }
   ],
   "source": [
    "start_bigrams = cond_prob(start_word)\n",
    "start_bigrams"
   ]
  },
  {
   "cell_type": "code",
   "execution_count": 19,
   "metadata": {},
   "outputs": [
    {
     "data": {
      "image/png": "[encoded data removed]",
      "text/plain": [
       "<Figure size 640x480 with 1 Axes>"
      ]
     },
     "metadata": {},
     "output_type": "display_data"
    }
   ],
   "source": [
    "import matplotlib.pyplot as plt\n",
    "\n",
    "freqs = [bigram[1] for bigram in start_bigrams]\n",
    "plt.bar(range(len(freqs)), freqs)\n",
    "plt.show()"
   ]
  },
  {
   "attachments": {},
   "cell_type": "markdown",
   "metadata": {},
   "source": [
    "### The Temperature\n",
    "We reweight the distribution over the next word with a temperature following Chollet (2021), _Deep Learning with Python_, 2nd ed., pp. 369 and 373.\n",
    "\n",
    "Chollet defines the temperature as\n",
    "$$\n",
    "    \\exp(\\frac{\\log(x)}{temp}) = x^{\\frac{1}{temp}}\n",
    "$$"
   ]
  },
  {
   "cell_type": "code",
   "execution_count": 20,
   "metadata": {},
   "outputs": [],
   "source": [
    "def reweight_distribution(original_distribution, temperature=0.5):\n",
    "    distribution = np.log(original_distribution) / temperature \n",
    "    distribution = np.exp(distribution)\n",
    "    return distribution / np.sum(distribution)"
   ]
  },
  {
   "cell_type": "code",
   "execution_count": 21,
   "metadata": {},
   "outputs": [
    {
     "data": {
      "text/plain": [
       "[0.12542759407069556,\n",
       " 0.0661345496009122,\n",
       " 0.04218928164196123,\n",
       " 0.036488027366020526,\n",
       " 0.03534777651083238,\n",
       " 0.020524515393386546,\n",
       " 0.01710376282782212,\n",
       " 0.01710376282782212,\n",
       " 0.01596351197263398,\n",
       " 0.012542759407069556,\n",
       " 0.011402508551881414,\n",
       " 0.011402508551881414,\n",
       " 0.010262257696693273,\n",
       " 0.010262257696693273,\n",
       " 0.010262257696693273,\n",
       " 0.009122006841505131,\n",
       " 0.00798175598631699,\n",
       " 0.00798175598631699,\n",
       " 0.00798175598631699,\n",
       " 0.00798175598631699,\n",
       " 0.00798175598631699,\n",
       " 0.0068415051311288486,\n",
       " 0.0068415051311288486,\n",
       " 0.0068415051311288486,\n",
       " 0.0068415051311288486,\n",
       " 0.0068415051311288486,\n",
       " 0.0068415051311288486,\n",
       " 0.005701254275940707,\n",
       " 0.005701254275940707,\n",
       " 0.005701254275940707,\n",
       " 0.005701254275940707,\n",
       " 0.005701254275940707,\n",
       " 0.005701254275940707,\n",
       " 0.005701254275940707,\n",
       " 0.005701254275940707,\n",
       " 0.005701254275940707,\n",
       " 0.005701254275940707,\n",
       " 0.005701254275940707,\n",
       " 0.004561003420752566,\n",
       " 0.004561003420752566,\n",
       " 0.004561003420752566,\n",
       " 0.004561003420752566,\n",
       " 0.004561003420752566,\n",
       " 0.004561003420752566,\n",
       " 0.004561003420752566,\n",
       " 0.0034207525655644243,\n",
       " 0.0034207525655644243,\n",
       " 0.0034207525655644243,\n",
       " 0.0034207525655644243,\n",
       " 0.0034207525655644243,\n",
       " 0.0034207525655644243,\n",
       " 0.0034207525655644243,\n",
       " 0.0034207525655644243,\n",
       " 0.0034207525655644243,\n",
       " 0.0034207525655644243,\n",
       " 0.0034207525655644243,\n",
       " 0.0034207525655644243,\n",
       " 0.0034207525655644243,\n",
       " 0.0034207525655644243,\n",
       " 0.0034207525655644243,\n",
       " 0.0034207525655644243,\n",
       " 0.0034207525655644243,\n",
       " 0.0034207525655644243,\n",
       " 0.0034207525655644243,\n",
       " 0.0034207525655644243,\n",
       " 0.0034207525655644243,\n",
       " 0.0034207525655644243,\n",
       " 0.0034207525655644243,\n",
       " 0.0034207525655644243,\n",
       " 0.0034207525655644243,\n",
       " 0.0034207525655644243,\n",
       " 0.0034207525655644243,\n",
       " 0.0034207525655644243,\n",
       " 0.002280501710376283,\n",
       " 0.002280501710376283,\n",
       " 0.002280501710376283,\n",
       " 0.002280501710376283,\n",
       " 0.002280501710376283,\n",
       " 0.002280501710376283,\n",
       " 0.002280501710376283,\n",
       " 0.002280501710376283,\n",
       " 0.002280501710376283,\n",
       " 0.002280501710376283,\n",
       " 0.002280501710376283,\n",
       " 0.002280501710376283,\n",
       " 0.002280501710376283,\n",
       " 0.002280501710376283,\n",
       " 0.002280501710376283,\n",
       " 0.002280501710376283,\n",
       " 0.002280501710376283,\n",
       " 0.002280501710376283,\n",
       " 0.002280501710376283,\n",
       " 0.002280501710376283,\n",
       " 0.002280501710376283,\n",
       " 0.002280501710376283,\n",
       " 0.002280501710376283,\n",
       " 0.002280501710376283,\n",
       " 0.002280501710376283,\n",
       " 0.002280501710376283,\n",
       " 0.002280501710376283,\n",
       " 0.002280501710376283,\n",
       " 0.002280501710376283,\n",
       " 0.002280501710376283,\n",
       " 0.002280501710376283,\n",
       " 0.002280501710376283,\n",
       " 0.002280501710376283,\n",
       " 0.002280501710376283,\n",
       " 0.002280501710376283,\n",
       " 0.0011402508551881414,\n",
       " 0.0011402508551881414,\n",
       " 0.0011402508551881414,\n",
       " 0.0011402508551881414,\n",
       " 0.0011402508551881414,\n",
       " 0.0011402508551881414,\n",
       " 0.0011402508551881414,\n",
       " 0.0011402508551881414,\n",
       " 0.0011402508551881414,\n",
       " 0.0011402508551881414,\n",
       " 0.0011402508551881414,\n",
       " 0.0011402508551881414,\n",
       " 0.0011402508551881414,\n",
       " 0.0011402508551881414,\n",
       " 0.0011402508551881414,\n",
       " 0.0011402508551881414,\n",
       " 0.0011402508551881414,\n",
       " 0.0011402508551881414,\n",
       " 0.0011402508551881414,\n",
       " 0.0011402508551881414,\n",
       " 0.0011402508551881414,\n",
       " 0.0011402508551881414,\n",
       " 0.0011402508551881414,\n",
       " 0.0011402508551881414,\n",
       " 0.0011402508551881414,\n",
       " 0.0011402508551881414,\n",
       " 0.0011402508551881414,\n",
       " 0.0011402508551881414,\n",
       " 0.0011402508551881414,\n",
       " 0.0011402508551881414,\n",
       " 0.0011402508551881414,\n",
       " 0.0011402508551881414,\n",
       " 0.0011402508551881414,\n",
       " 0.0011402508551881414,\n",
       " 0.0011402508551881414,\n",
       " 0.0011402508551881414,\n",
       " 0.0011402508551881414,\n",
       " 0.0011402508551881414,\n",
       " 0.0011402508551881414,\n",
       " 0.0011402508551881414,\n",
       " 0.0011402508551881414,\n",
       " 0.0011402508551881414,\n",
       " 0.0011402508551881414,\n",
       " 0.0011402508551881414,\n",
       " 0.0011402508551881414,\n",
       " 0.0011402508551881414,\n",
       " 0.0011402508551881414,\n",
       " 0.0011402508551881414,\n",
       " 0.0011402508551881414,\n",
       " 0.0011402508551881414,\n",
       " 0.0011402508551881414,\n",
       " 0.0011402508551881414,\n",
       " 0.0011402508551881414,\n",
       " 0.0011402508551881414,\n",
       " 0.0011402508551881414,\n",
       " 0.0011402508551881414,\n",
       " 0.0011402508551881414,\n",
       " 0.0011402508551881414,\n",
       " 0.0011402508551881414,\n",
       " 0.0011402508551881414,\n",
       " 0.0011402508551881414,\n",
       " 0.0011402508551881414,\n",
       " 0.0011402508551881414,\n",
       " 0.0011402508551881414,\n",
       " 0.0011402508551881414,\n",
       " 0.0011402508551881414,\n",
       " 0.0011402508551881414,\n",
       " 0.0011402508551881414,\n",
       " 0.0011402508551881414,\n",
       " 0.0011402508551881414,\n",
       " 0.0011402508551881414,\n",
       " 0.0011402508551881414,\n",
       " 0.0011402508551881414,\n",
       " 0.0011402508551881414,\n",
       " 0.0011402508551881414,\n",
       " 0.0011402508551881414,\n",
       " 0.0011402508551881414,\n",
       " 0.0011402508551881414,\n",
       " 0.0011402508551881414,\n",
       " 0.0011402508551881414,\n",
       " 0.0011402508551881414,\n",
       " 0.0011402508551881414,\n",
       " 0.0011402508551881414,\n",
       " 0.0011402508551881414,\n",
       " 0.0011402508551881414,\n",
       " 0.0011402508551881414,\n",
       " 0.0011402508551881414,\n",
       " 0.0011402508551881414,\n",
       " 0.0011402508551881414,\n",
       " 0.0011402508551881414,\n",
       " 0.0011402508551881414,\n",
       " 0.0011402508551881414,\n",
       " 0.0011402508551881414,\n",
       " 0.0011402508551881414,\n",
       " 0.0011402508551881414,\n",
       " 0.0011402508551881414,\n",
       " 0.0011402508551881414,\n",
       " 0.0011402508551881414,\n",
       " 0.0011402508551881414,\n",
       " 0.0011402508551881414,\n",
       " 0.0011402508551881414,\n",
       " 0.0011402508551881414,\n",
       " 0.0011402508551881414,\n",
       " 0.0011402508551881414,\n",
       " 0.0011402508551881414,\n",
       " 0.0011402508551881414,\n",
       " 0.0011402508551881414,\n",
       " 0.0011402508551881414,\n",
       " 0.0011402508551881414,\n",
       " 0.0011402508551881414,\n",
       " 0.0011402508551881414,\n",
       " 0.0011402508551881414,\n",
       " 0.0011402508551881414,\n",
       " 0.0011402508551881414,\n",
       " 0.0011402508551881414,\n",
       " 0.0011402508551881414,\n",
       " 0.0011402508551881414,\n",
       " 0.0011402508551881414,\n",
       " 0.0011402508551881414,\n",
       " 0.0011402508551881414,\n",
       " 0.0011402508551881414,\n",
       " 0.0011402508551881414,\n",
       " 0.0011402508551881414,\n",
       " 0.0011402508551881414,\n",
       " 0.0011402508551881414,\n",
       " 0.0011402508551881414,\n",
       " 0.0011402508551881414,\n",
       " 0.0011402508551881414,\n",
       " 0.0011402508551881414,\n",
       " 0.0011402508551881414,\n",
       " 0.0011402508551881414,\n",
       " 0.0011402508551881414,\n",
       " 0.0011402508551881414,\n",
       " 0.0011402508551881414,\n",
       " 0.0011402508551881414,\n",
       " 0.0011402508551881414,\n",
       " 0.0011402508551881414,\n",
       " 0.0011402508551881414,\n",
       " 0.0011402508551881414,\n",
       " 0.0011402508551881414,\n",
       " 0.0011402508551881414,\n",
       " 0.0011402508551881414,\n",
       " 0.0011402508551881414,\n",
       " 0.0011402508551881414,\n",
       " 0.0011402508551881414,\n",
       " 0.0011402508551881414,\n",
       " 0.0011402508551881414,\n",
       " 0.0011402508551881414,\n",
       " 0.0011402508551881414,\n",
       " 0.0011402508551881414,\n",
       " 0.0011402508551881414,\n",
       " 0.0011402508551881414,\n",
       " 0.0011402508551881414,\n",
       " 0.0011402508551881414,\n",
       " 0.0011402508551881414,\n",
       " 0.0011402508551881414,\n",
       " 0.0011402508551881414,\n",
       " 0.0011402508551881414,\n",
       " 0.0011402508551881414,\n",
       " 0.0011402508551881414,\n",
       " 0.0011402508551881414,\n",
       " 0.0011402508551881414,\n",
       " 0.0011402508551881414,\n",
       " 0.0011402508551881414,\n",
       " 0.0011402508551881414,\n",
       " 0.0011402508551881414,\n",
       " 0.0011402508551881414,\n",
       " 0.0011402508551881414,\n",
       " 0.0011402508551881414,\n",
       " 0.0011402508551881414,\n",
       " 0.0011402508551881414,\n",
       " 0.0011402508551881414,\n",
       " 0.0011402508551881414]"
      ]
     },
     "execution_count": 21,
     "metadata": {},
     "output_type": "execute_result"
    }
   ],
   "source": [
    "freqs"
   ]
  },
  {
   "cell_type": "markdown",
   "metadata": {},
   "source": [
    "Low temperatures: more deterministic. We freeze the generation"
   ]
  },
  {
   "cell_type": "code",
   "execution_count": 22,
   "metadata": {},
   "outputs": [],
   "source": [
    "low_temp_freqs = reweight_distribution(freqs, temperature=0.5)"
   ]
  },
  {
   "cell_type": "code",
   "execution_count": 23,
   "metadata": {},
   "outputs": [
    {
     "data": {
      "image/png": "[encoded data removed]",
      "text/plain": [
       "<Figure size 640x480 with 1 Axes>"
      ]
     },
     "metadata": {},
     "output_type": "display_data"
    }
   ],
   "source": [
    "plt.bar(range(len(low_temp_freqs)), low_temp_freqs)\n",
    "plt.show()"
   ]
  },
  {
   "cell_type": "markdown",
   "metadata": {},
   "source": [
    "High temperatures: More randomness"
   ]
  },
  {
   "cell_type": "code",
   "execution_count": 24,
   "metadata": {},
   "outputs": [],
   "source": [
    "high_temp_freqs = reweight_distribution(freqs, temperature=3.0)"
   ]
  },
  {
   "cell_type": "code",
   "execution_count": 25,
   "metadata": {},
   "outputs": [
    {
     "data": {
      "image/png": "[encoded data removed]",
      "text/plain": [
       "<Figure size 640x480 with 1 Axes>"
      ]
     },
     "metadata": {},
     "output_type": "display_data"
    }
   ],
   "source": [
    "plt.bar(range(len(high_temp_freqs)), high_temp_freqs)\n",
    "plt.show()"
   ]
  },
  {
   "cell_type": "code",
   "execution_count": 26,
   "metadata": {},
   "outputs": [],
   "source": [
    "temperature = 3.0"
   ]
  },
  {
   "cell_type": "code",
   "execution_count": 27,
   "metadata": {},
   "outputs": [
    {
     "name": "stdout",
     "output_type": "stream",
     "text": [
      "oliver becomes acquainted that minnie from right opposite houses that manner if in master himself reproachfully too worthless and at markets and rustling a harassing proceedings rescued from between life should devote myself one remote on eh god now whether ah good rule was labouring up pray this voice into unwilling "
     ]
    }
   ],
   "source": [
    "print(start_word, end=' ')\n",
    "next_word = start_word\n",
    "for i in range(50):\n",
    "    cprob = cond_prob(next_word)\n",
    "    distribution = [i[1] for i in cprob]\n",
    "    distribution = reweight_distribution(distribution, temperature)\n",
    "    bigram = cprob[np.argmax(np.random.multinomial(1, distribution))]\n",
    "    print(bigram[0][1], end=' ')\n",
    "    next_word = bigram[0][1]"
   ]
  },
  {
   "cell_type": "code",
   "execution_count": null,
   "metadata": {},
   "outputs": [],
   "source": []
  }
 ],
 "metadata": {
  "kernelspec": {
   "display_name": "Python 3.9.13 ('base')",
   "language": "python",
   "name": "python3"
  },
  "language_info": {
   "codemirror_mode": {
    "name": "ipython",
    "version": 3
   },
   "file_extension": ".py",
   "mimetype": "text/x-python",
   "name": "python",
   "nbconvert_exporter": "python",
   "pygments_lexer": "ipython3",
   "version": "3.9.16"
  },
  "vscode": {
   "interpreter": {
    "hash": "b97b11a820675205aae8f1d7f2a3f22bbd3a2c30189f44042310baf5b4cd1987"
   }
  }
 },
 "nbformat": 4,
 "nbformat_minor": 4
}
