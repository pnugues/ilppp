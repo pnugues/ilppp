{
 "cells": [
  {
   "attachments": {},
   "cell_type": "markdown",
   "metadata": {},
   "source": [
    "# Subword Tokenizers\n",
    "\n",
    "We experiment with two subword tokenizers and the sentence:\n",
    "\n",
    "_CMPK2 is a host restriction factor that inhibits infection of multiple coronaviruses in a cell-intrinsic manner_\n",
    "\n",
    "from PLOS biology: https://journals.plos.org/plosbiology/article?id=10.1371/journal.pbio.3002039\n",
    "\n",
    "Author: Pierre Nugues"
   ]
  },
  {
   "cell_type": "markdown",
   "metadata": {},
   "source": [
    "## BPE"
   ]
  },
  {
   "cell_type": "code",
   "execution_count": 1,
   "metadata": {},
   "outputs": [
    {
     "name": "stdout",
     "output_type": "stream",
     "text": [
      "Requirement already satisfied: bpemb in /Users/pierre/opt/anaconda3/lib/python3.9/site-packages (0.3.4)\n",
      "Requirement already satisfied: numpy in /Users/pierre/opt/anaconda3/lib/python3.9/site-packages (from bpemb) (1.23.5)\n",
      "Requirement already satisfied: requests in /Users/pierre/opt/anaconda3/lib/python3.9/site-packages (from bpemb) (2.28.1)\n",
      "Requirement already satisfied: sentencepiece in /Users/pierre/opt/anaconda3/lib/python3.9/site-packages (from bpemb) (0.1.97)\n",
      "Requirement already satisfied: tqdm in /Users/pierre/opt/anaconda3/lib/python3.9/site-packages (from bpemb) (4.64.1)\n",
      "Requirement already satisfied: gensim in /Users/pierre/opt/anaconda3/lib/python3.9/site-packages (from bpemb) (4.3.0)\n",
      "Requirement already satisfied: FuzzyTM>=0.4.0 in /Users/pierre/opt/anaconda3/lib/python3.9/site-packages (from gensim->bpemb) (2.0.5)\n",
      "Requirement already satisfied: smart-open>=1.8.1 in /Users/pierre/opt/anaconda3/lib/python3.9/site-packages (from gensim->bpemb) (5.2.1)\n",
      "Requirement already satisfied: scipy>=1.7.0 in /Users/pierre/opt/anaconda3/lib/python3.9/site-packages (from gensim->bpemb) (1.10.0)\n",
      "Requirement already satisfied: idna<4,>=2.5 in /Users/pierre/opt/anaconda3/lib/python3.9/site-packages (from requests->bpemb) (3.4)\n",
      "Requirement already satisfied: urllib3<1.27,>=1.21.1 in /Users/pierre/opt/anaconda3/lib/python3.9/site-packages (from requests->bpemb) (1.26.14)\n",
      "Requirement already satisfied: certifi>=2017.4.17 in /Users/pierre/opt/anaconda3/lib/python3.9/site-packages (from requests->bpemb) (2022.12.7)\n",
      "Requirement already satisfied: charset-normalizer<3,>=2 in /Users/pierre/opt/anaconda3/lib/python3.9/site-packages (from requests->bpemb) (2.0.4)\n",
      "Requirement already satisfied: pyfume in /Users/pierre/opt/anaconda3/lib/python3.9/site-packages (from FuzzyTM>=0.4.0->gensim->bpemb) (0.2.25)\n",
      "Requirement already satisfied: pandas in /Users/pierre/opt/anaconda3/lib/python3.9/site-packages (from FuzzyTM>=0.4.0->gensim->bpemb) (1.5.3)\n",
      "Requirement already satisfied: python-dateutil>=2.8.1 in /Users/pierre/opt/anaconda3/lib/python3.9/site-packages (from pandas->FuzzyTM>=0.4.0->gensim->bpemb) (2.8.2)\n",
      "Requirement already satisfied: pytz>=2020.1 in /Users/pierre/opt/anaconda3/lib/python3.9/site-packages (from pandas->FuzzyTM>=0.4.0->gensim->bpemb) (2022.7)\n",
      "Requirement already satisfied: fst-pso in /Users/pierre/opt/anaconda3/lib/python3.9/site-packages (from pyfume->FuzzyTM>=0.4.0->gensim->bpemb) (1.8.1)\n",
      "Requirement already satisfied: simpful in /Users/pierre/opt/anaconda3/lib/python3.9/site-packages (from pyfume->FuzzyTM>=0.4.0->gensim->bpemb) (2.10.0)\n",
      "Requirement already satisfied: six>=1.5 in /Users/pierre/opt/anaconda3/lib/python3.9/site-packages (from python-dateutil>=2.8.1->pandas->FuzzyTM>=0.4.0->gensim->bpemb) (1.16.0)\n",
      "Requirement already satisfied: miniful in /Users/pierre/opt/anaconda3/lib/python3.9/site-packages (from fst-pso->pyfume->FuzzyTM>=0.4.0->gensim->bpemb) (0.0.6)\n"
     ]
    }
   ],
   "source": [
    "!pip install bpemb"
   ]
  },
  {
   "cell_type": "code",
   "execution_count": 2,
   "metadata": {},
   "outputs": [],
   "source": [
    "from bpemb import BPEmb"
   ]
  },
  {
   "cell_type": "code",
   "execution_count": 3,
   "metadata": {},
   "outputs": [],
   "source": [
    "bpemb_en = BPEmb(lang=\"en\", dim=50)"
   ]
  },
  {
   "cell_type": "code",
   "execution_count": 4,
   "metadata": {},
   "outputs": [
    {
     "data": {
      "text/plain": [
       "['▁c',\n",
       " 'mp',\n",
       " 'k',\n",
       " '0',\n",
       " '▁is',\n",
       " '▁a',\n",
       " '▁host',\n",
       " '▁restrict',\n",
       " 'ion',\n",
       " '▁factor',\n",
       " '▁that',\n",
       " '▁inhib',\n",
       " 'its',\n",
       " '▁inf',\n",
       " 'ection',\n",
       " '▁of',\n",
       " '▁multiple',\n",
       " '▁coron',\n",
       " 'av',\n",
       " 'ir',\n",
       " 'uses',\n",
       " '▁in',\n",
       " '▁a',\n",
       " '▁cell',\n",
       " '-',\n",
       " 'int',\n",
       " 'r',\n",
       " 'ins',\n",
       " 'ic',\n",
       " '▁manner']"
      ]
     },
     "execution_count": 4,
     "metadata": {},
     "output_type": "execute_result"
    }
   ],
   "source": [
    "bpemb_en.encode('CMPK2 is a host restriction factor that inhibits infection of multiple coronaviruses in a cell-intrinsic manner')"
   ]
  },
  {
   "cell_type": "markdown",
   "metadata": {},
   "source": [
    "## WordPiece"
   ]
  },
  {
   "cell_type": "code",
   "execution_count": 5,
   "metadata": {},
   "outputs": [
    {
     "name": "stdout",
     "output_type": "stream",
     "text": [
      "Requirement already satisfied: word-piece-tokenizer in /Users/pierre/opt/anaconda3/lib/python3.9/site-packages (1.0.1)\n"
     ]
    }
   ],
   "source": [
    "!pip install word-piece-tokenizer"
   ]
  },
  {
   "cell_type": "code",
   "execution_count": 6,
   "metadata": {},
   "outputs": [],
   "source": [
    "from word_piece_tokenizer import WordPieceTokenizer\n",
    "tokenizer = WordPieceTokenizer()\n",
    "\n",
    "ids = tokenizer.tokenize('CMPK2 is a host restriction factor that inhibits infection of multiple coronaviruses in a cell-intrinsic manner')\n",
    "tokens = tokenizer.convert_ids_to_tokens(ids)"
   ]
  },
  {
   "cell_type": "code",
   "execution_count": 7,
   "metadata": {},
   "outputs": [
    {
     "data": {
      "text/plain": [
       "['[CLS]',\n",
       " 'cm',\n",
       " '##p',\n",
       " '##k',\n",
       " '##2',\n",
       " 'is',\n",
       " 'a',\n",
       " 'host',\n",
       " 'restriction',\n",
       " 'factor',\n",
       " 'that',\n",
       " 'inhibit',\n",
       " '##s',\n",
       " 'infection',\n",
       " 'of',\n",
       " 'multiple',\n",
       " 'corona',\n",
       " '##virus',\n",
       " '##es',\n",
       " 'in',\n",
       " 'a',\n",
       " 'cell',\n",
       " '-',\n",
       " 'intrinsic',\n",
       " 'manner',\n",
       " '[SEP]']"
      ]
     },
     "execution_count": 7,
     "metadata": {},
     "output_type": "execute_result"
    }
   ],
   "source": [
    "tokens"
   ]
  },
  {
   "cell_type": "code",
   "execution_count": 8,
   "metadata": {},
   "outputs": [
    {
     "data": {
      "text/plain": [
       "'[CLS] cmpk2 is a host restriction factor that inhibits infection of multiple coronaviruses in a cell - intrinsic manner [SEP]'"
      ]
     },
     "execution_count": 8,
     "metadata": {},
     "output_type": "execute_result"
    }
   ],
   "source": [
    "tokenizer.convert_tokens_to_string(tokens)"
   ]
  }
 ],
 "metadata": {
  "kernelspec": {
   "display_name": "base",
   "language": "python",
   "name": "python3"
  },
  "language_info": {
   "codemirror_mode": {
    "name": "ipython",
    "version": 3
   },
   "file_extension": ".py",
   "mimetype": "text/x-python",
   "name": "python",
   "nbconvert_exporter": "python",
   "pygments_lexer": "ipython3",
   "version": "3.9.16"
  },
  "orig_nbformat": 4
 },
 "nbformat": 4,
 "nbformat_minor": 2
}
