{
 "cells": [
  {
   "cell_type": "markdown",
   "metadata": {},
   "source": [
    "# Part-of-Speech Tagging using Recurrent Neural Networks (RNN and LSTM)\n",
    "Author: Pierre Nugues\n",
    "\n",
    "A part-of-speech tagger using recurrent networks and GloVe embeddings and trained on a corpus following the Universal Dependencies format. Here we use the English Web Treebank:\n",
    "https://github.com/UniversalDependencies/UD_English-EWT/tree/master."
   ]
  },
  {
   "cell_type": "markdown",
   "metadata": {},
   "source": [
    "## Python Headers"
   ]
  },
  {
   "cell_type": "markdown",
   "metadata": {},
   "source": [
    "### The Modules"
   ]
  },
  {
   "cell_type": "code",
   "execution_count": 1,
   "metadata": {},
   "outputs": [],
   "source": [
    "import matplotlib.pyplot as plt\n",
    "from tqdm import tqdm\n",
    "import random\n",
    "import math\n",
    "\n",
    "import numpy as np\n",
    "\n",
    "import torch\n",
    "import torch.nn as nn\n",
    "import torch.nn.functional as F\n",
    "from torch.nn.utils.rnn import pad_sequence\n",
    "from torch.utils.data import TensorDataset, DataLoader\n",
    "\n",
    "from sklearn.feature_extraction import DictVectorizer\n",
    "from sklearn.preprocessing import StandardScaler\n",
    "from sklearn.pipeline import Pipeline"
   ]
  },
  {
   "cell_type": "markdown",
   "metadata": {},
   "source": [
    "### Some Parameters"
   ]
  },
  {
   "cell_type": "code",
   "execution_count": 2,
   "metadata": {},
   "outputs": [],
   "source": [
    "BATCH_SIZE = 32\n",
    "EPOCHS = 10\n",
    "MINI_CORPUS = False\n",
    "LSTM_HIDDEN_DIM = 128\n",
    "LSTM_LAYERS = 2\n",
    "DROPOUT = 0.20\n",
    "EMB_LARGE = True # GloVe 50 or 100\n",
    "FREEZE_EMBS = False\n",
    "LARGE_MEM = False"
   ]
  },
  {
   "cell_type": "code",
   "execution_count": 3,
   "metadata": {},
   "outputs": [],
   "source": [
    "config = {'EPOCHS': EPOCHS, \n",
    "'LSTM_HIDDEN_DIM': LSTM_HIDDEN_DIM,\n",
    "'LSTM_LAYERS': LSTM_LAYERS,\n",
    "'DROPOUT': DROPOUT,\n",
    "'EMB_LARGE': EMB_LARGE,\n",
    "'FREEZE_EMBS': FREEZE_EMBS}"
   ]
  },
  {
   "cell_type": "code",
   "execution_count": 4,
   "metadata": {},
   "outputs": [
    {
     "data": {
      "text/plain": [
       "<torch._C.Generator at 0x7ff6881fa870>"
      ]
     },
     "execution_count": 4,
     "metadata": {},
     "output_type": "execute_result"
    }
   ],
   "source": [
    "random.seed(1234)\n",
    "torch.manual_seed(1234)"
   ]
  },
  {
   "cell_type": "markdown",
   "metadata": {},
   "source": [
    "## Preprocessing"
   ]
  },
  {
   "cell_type": "markdown",
   "metadata": {},
   "source": [
    "### Loading the Embeddings\n",
    "We will use GloVe embeddings and load them"
   ]
  },
  {
   "cell_type": "code",
   "execution_count": 5,
   "metadata": {},
   "outputs": [],
   "source": [
    "if EMB_LARGE:\n",
    "    embedding_file = '/Users/pierre/Documents/Cours/EDAN20/corpus/glove.6B.100d.txt'\n",
    "    EMBEDDING_DIM = 100\n",
    "else:\n",
    "    embedding_file = '/Users/pierre/Documents/Cours/EDAN20/corpus/glove.6B.50d.txt'\n",
    "    EMBEDDING_DIM = 50"
   ]
  },
  {
   "cell_type": "code",
   "execution_count": 6,
   "metadata": {},
   "outputs": [],
   "source": [
    "def read_embeddings(file):\n",
    "    \"\"\"\n",
    "    Return the embeddings in the from of a dictionary\n",
    "    :param file:\n",
    "    :return:\n",
    "    \"\"\"\n",
    "    embeddings = {}\n",
    "    glove = open(file, encoding='utf8')\n",
    "    for line in glove:\n",
    "        values = line.strip().split()\n",
    "        word = values[0]\n",
    "        vector = torch.FloatTensor(list(map(float, values[1:])))\n",
    "        embeddings[word] = vector\n",
    "    glove.close()\n",
    "    return embeddings"
   ]
  },
  {
   "cell_type": "code",
   "execution_count": 7,
   "metadata": {},
   "outputs": [],
   "source": [
    "embeddings_dict = read_embeddings(embedding_file)"
   ]
  },
  {
   "cell_type": "code",
   "execution_count": 8,
   "metadata": {},
   "outputs": [
    {
     "data": {
      "text/plain": [
       "tensor([-0.6145,  0.8969,  0.5677,  0.3910, -0.2244,  0.4904,  0.1087,  0.2741,\n",
       "        -0.2383, -0.5215,  0.7355, -0.3265,  0.5130,  0.3241, -0.4671,  0.6805,\n",
       "        -0.2550, -0.0405, -0.5442, -1.0548, -0.4669,  0.2356,  0.3123, -0.3454,\n",
       "         0.1479, -0.5375, -0.4322, -0.4872, -0.5102, -0.9051, -0.1792, -0.0184,\n",
       "         0.0972, -0.3162,  0.7512,  0.9224, -0.4997,  0.1404, -0.2830, -0.9744,\n",
       "        -0.0094, -0.6294,  0.1471, -0.9438,  0.0075,  0.1857, -0.9917,  0.0728,\n",
       "        -0.1847, -0.5290,  0.3900, -0.4568, -0.2193,  1.3723, -0.2964, -2.2342,\n",
       "        -0.3667,  0.0499,  0.6342,  0.5328, -0.5396,  0.3140, -0.4470, -0.3839,\n",
       "         0.0667, -0.0217,  0.2056,  0.5946, -0.2489, -0.5279, -0.3761,  0.0771,\n",
       "         0.7522, -0.2647, -0.0587,  0.6754, -0.1656, -0.4928, -0.2633, -0.2121,\n",
       "         0.2432,  0.1701, -0.2926, -0.5009, -0.5664, -0.4038, -0.4845, -0.3254,\n",
       "         0.7529,  0.0050, -0.3212,  0.2890, -0.0424,  0.6386, -0.2033, -0.4678,\n",
       "        -0.1566,  0.2179,  1.4143,  0.4003])"
      ]
     },
     "execution_count": 8,
     "metadata": {},
     "output_type": "execute_result"
    }
   ],
   "source": [
    "embeddings_dict['table']"
   ]
  },
  {
   "cell_type": "markdown",
   "metadata": {},
   "source": [
    "### Loading the Corpus"
   ]
  },
  {
   "cell_type": "code",
   "execution_count": 9,
   "metadata": {},
   "outputs": [
    {
     "data": {
      "text/plain": [
       "'# newdoc id = weblog-juancole.com_juancole_20051126063000_ENG_20051126_063000\\n# sent_id = weblog-jua'"
      ]
     },
     "execution_count": 9,
     "metadata": {},
     "output_type": "execute_result"
    }
   ],
   "source": [
    "def load_ud_en_ewt():\n",
    "    BASE_DIR = '/Users/pierre/Documents/Cours/EDAN20/corpus/ud-treebanks-v2.9/UD_English-EWT/'\n",
    "    train_file = BASE_DIR + 'en_ewt-ud-train.conllu'\n",
    "    dev_file = BASE_DIR + 'en_ewt-ud-dev.conllu'\n",
    "    test_file = BASE_DIR + 'en_ewt-ud-test.conllu'\n",
    "    column_names = ['ID', 'FORM', 'LEMMA', 'UPOS', 'XPOS', \n",
    "                    'FEATS', 'HEAD', 'DEPREL', 'HEAD', 'DEPS', 'MISC']\n",
    "    column_names = list(map(str.lower, column_names))\n",
    "    train_sentences = open(train_file).read().strip()\n",
    "    dev_sentences = open(dev_file).read().strip()\n",
    "    test_sentences = open(test_file).read().strip()\n",
    "    # test2_sentences = open(test2_file).read().strip()\n",
    "    return train_sentences, dev_sentences, test_sentences, column_names\n",
    "\n",
    "def load_conll2009_pos():\n",
    "    BASE_DIR = '/Users/pierre/Documents/Cours/EDAN20/corpus/conll2009/en/'\n",
    "    train_file = BASE_DIR + 'CoNLL2009-ST-English-train-pos.txt'\n",
    "    dev_file = BASE_DIR + 'CoNLL2009-ST-English-development-pos.txt'\n",
    "    test_file = BASE_DIR + 'CoNLL2009-ST-test-words-pos.txt'\n",
    "    # test2_file = 'simple_pos_test.txt'\n",
    "\n",
    "    column_names = ['id', 'form', 'lemma', 'plemma', 'pos', 'ppos']\n",
    "\n",
    "    train_sentences = open(train_file).read().strip()\n",
    "    dev_sentences = open(dev_file).read().strip()\n",
    "    test_sentences = open(test_file).read().strip()\n",
    "    # test2_sentences = open(test2_file).read().strip()\n",
    "    return train_sentences, dev_sentences, test_sentences, column_names\n",
    "\n",
    "# train_sentences, dev_sentences, test_sentences, column_names = \\\n",
    "# load_conll2009_pos()\n",
    "train_sentences, dev_sentences, test_sentences, column_names =\\\n",
    "load_ud_en_ewt()\n",
    "train_sentences[:100]"
   ]
  },
  {
   "cell_type": "markdown",
   "metadata": {},
   "source": [
    "### Converting the Corpus in a Dictionary\n",
    "We follow the fit-transform pattern of sklearn"
   ]
  },
  {
   "cell_type": "code",
   "execution_count": 10,
   "metadata": {},
   "outputs": [],
   "source": [
    "import regex as re\n",
    "\n",
    "class Token(dict):\n",
    "    pass\n",
    "\n",
    "class CoNLLDictorizer:\n",
    "\n",
    "    def __init__(self, column_names, sent_sep='\\n\\n', col_sep=' +'):\n",
    "        self.column_names = column_names\n",
    "        self.sent_sep = sent_sep\n",
    "        self.col_sep = col_sep\n",
    "\n",
    "    def fit(self):\n",
    "        pass\n",
    "\n",
    "    def transform(self, corpus):\n",
    "        corpus = corpus.strip()\n",
    "        sentences = re.split(self.sent_sep, corpus)\n",
    "        return list(map(self._split_in_words, sentences))\n",
    "\n",
    "    def fit_transform(self, corpus):\n",
    "        return self.transform(corpus)\n",
    "\n",
    "    def _split_in_words(self, sentence):\n",
    "        rows = re.split('\\n', sentence)\n",
    "        rows = [row for row in rows if row[0] != '#']\n",
    "        return [Token(dict(zip(self.column_names,\n",
    "                               re.split(self.col_sep, row))))\n",
    "                for row in rows]"
   ]
  },
  {
   "cell_type": "code",
   "execution_count": 11,
   "metadata": {},
   "outputs": [
    {
     "name": "stdout",
     "output_type": "stream",
     "text": [
      "First sentence, train: [{'id': '1', 'form': 'Al', 'lemma': 'Al', 'upos': 'PROPN', 'xpos': 'NNP', 'feats': 'Number=Sing', 'head': '0:root', 'deprel': 'root', 'deps': 'SpaceAfter=No'}, {'id': '2', 'form': '-', 'lemma': '-', 'upos': 'PUNCT', 'xpos': 'HYPH', 'feats': '_', 'head': '1:punct', 'deprel': 'punct', 'deps': 'SpaceAfter=No'}, {'id': '3', 'form': 'Zaman', 'lemma': 'Zaman', 'upos': 'PROPN', 'xpos': 'NNP', 'feats': 'Number=Sing', 'head': '1:flat', 'deprel': 'flat', 'deps': '_'}, {'id': '4', 'form': ':', 'lemma': ':', 'upos': 'PUNCT', 'xpos': ':', 'feats': '_', 'head': '1:punct', 'deprel': 'punct', 'deps': '_'}, {'id': '5', 'form': 'American', 'lemma': 'American', 'upos': 'ADJ', 'xpos': 'JJ', 'feats': 'Degree=Pos', 'head': '6:amod', 'deprel': 'amod', 'deps': '_'}, {'id': '6', 'form': 'forces', 'lemma': 'force', 'upos': 'NOUN', 'xpos': 'NNS', 'feats': 'Number=Plur', 'head': '7:nsubj', 'deprel': 'nsubj', 'deps': '_'}, {'id': '7', 'form': 'killed', 'lemma': 'kill', 'upos': 'VERB', 'xpos': 'VBD', 'feats': 'Mood=Ind|Number=Plur|Person=3|Tense=Past|VerbForm=Fin', 'head': '1:parataxis', 'deprel': 'parataxis', 'deps': '_'}, {'id': '8', 'form': 'Shaikh', 'lemma': 'Shaikh', 'upos': 'PROPN', 'xpos': 'NNP', 'feats': 'Number=Sing', 'head': '7:obj', 'deprel': 'obj', 'deps': '_'}, {'id': '9', 'form': 'Abdullah', 'lemma': 'Abdullah', 'upos': 'PROPN', 'xpos': 'NNP', 'feats': 'Number=Sing', 'head': '8:flat', 'deprel': 'flat', 'deps': '_'}, {'id': '10', 'form': 'al', 'lemma': 'al', 'upos': 'PROPN', 'xpos': 'NNP', 'feats': 'Number=Sing', 'head': '8:flat', 'deprel': 'flat', 'deps': 'SpaceAfter=No'}, {'id': '11', 'form': '-', 'lemma': '-', 'upos': 'PUNCT', 'xpos': 'HYPH', 'feats': '_', 'head': '8:punct', 'deprel': 'punct', 'deps': 'SpaceAfter=No'}, {'id': '12', 'form': 'Ani', 'lemma': 'Ani', 'upos': 'PROPN', 'xpos': 'NNP', 'feats': 'Number=Sing', 'head': '8:flat', 'deprel': 'flat', 'deps': 'SpaceAfter=No'}, {'id': '13', 'form': ',', 'lemma': ',', 'upos': 'PUNCT', 'xpos': ',', 'feats': '_', 'head': '8:punct', 'deprel': 'punct', 'deps': '_'}, {'id': '14', 'form': 'the', 'lemma': 'the', 'upos': 'DET', 'xpos': 'DT', 'feats': 'Definite=Def|PronType=Art', 'head': '15:det', 'deprel': 'det', 'deps': '_'}, {'id': '15', 'form': 'preacher', 'lemma': 'preacher', 'upos': 'NOUN', 'xpos': 'NN', 'feats': 'Number=Sing', 'head': '8:appos', 'deprel': 'appos', 'deps': '_'}, {'id': '16', 'form': 'at', 'lemma': 'at', 'upos': 'ADP', 'xpos': 'IN', 'feats': '_', 'head': '18:case', 'deprel': 'case', 'deps': '_'}, {'id': '17', 'form': 'the', 'lemma': 'the', 'upos': 'DET', 'xpos': 'DT', 'feats': 'Definite=Def|PronType=Art', 'head': '18:det', 'deprel': 'det', 'deps': '_'}, {'id': '18', 'form': 'mosque', 'lemma': 'mosque', 'upos': 'NOUN', 'xpos': 'NN', 'feats': 'Number=Sing', 'head': '7:obl:at', 'deprel': 'obl', 'deps': '_'}, {'id': '19', 'form': 'in', 'lemma': 'in', 'upos': 'ADP', 'xpos': 'IN', 'feats': '_', 'head': '21:case', 'deprel': 'case', 'deps': '_'}, {'id': '20', 'form': 'the', 'lemma': 'the', 'upos': 'DET', 'xpos': 'DT', 'feats': 'Definite=Def|PronType=Art', 'head': '21:det', 'deprel': 'det', 'deps': '_'}, {'id': '21', 'form': 'town', 'lemma': 'town', 'upos': 'NOUN', 'xpos': 'NN', 'feats': 'Number=Sing', 'head': '18:nmod:in', 'deprel': 'nmod', 'deps': '_'}, {'id': '22', 'form': 'of', 'lemma': 'of', 'upos': 'ADP', 'xpos': 'IN', 'feats': '_', 'head': '23:case', 'deprel': 'case', 'deps': '_'}, {'id': '23', 'form': 'Qaim', 'lemma': 'Qaim', 'upos': 'PROPN', 'xpos': 'NNP', 'feats': 'Number=Sing', 'head': '21:nmod:of', 'deprel': 'nmod', 'deps': 'SpaceAfter=No'}, {'id': '24', 'form': ',', 'lemma': ',', 'upos': 'PUNCT', 'xpos': ',', 'feats': '_', 'head': '21:punct', 'deprel': 'punct', 'deps': '_'}, {'id': '25', 'form': 'near', 'lemma': 'near', 'upos': 'ADP', 'xpos': 'IN', 'feats': '_', 'head': '28:case', 'deprel': 'case', 'deps': '_'}, {'id': '26', 'form': 'the', 'lemma': 'the', 'upos': 'DET', 'xpos': 'DT', 'feats': 'Definite=Def|PronType=Art', 'head': '28:det', 'deprel': 'det', 'deps': '_'}, {'id': '27', 'form': 'Syrian', 'lemma': 'Syrian', 'upos': 'ADJ', 'xpos': 'JJ', 'feats': 'Degree=Pos', 'head': '28:amod', 'deprel': 'amod', 'deps': '_'}, {'id': '28', 'form': 'border', 'lemma': 'border', 'upos': 'NOUN', 'xpos': 'NN', 'feats': 'Number=Sing', 'head': '21:nmod:near', 'deprel': 'nmod', 'deps': 'SpaceAfter=No'}, {'id': '29', 'form': '.', 'lemma': '.', 'upos': 'PUNCT', 'xpos': '.', 'feats': '_', 'head': '1:punct', 'deprel': 'punct', 'deps': '_'}]\n"
     ]
    }
   ],
   "source": [
    "conll_dict = CoNLLDictorizer(column_names, col_sep='\\t')\n",
    "\n",
    "train_dict = conll_dict.transform(train_sentences)\n",
    "dev_dict = conll_dict.transform(dev_sentences)\n",
    "test_dict = conll_dict.transform(test_sentences)\n",
    "\n",
    "if MINI_CORPUS:\n",
    "    train_dict = train_dict[:len(train_dict) // 5]\n",
    "print('First sentence, train:', train_dict[0])"
   ]
  },
  {
   "cell_type": "markdown",
   "metadata": {},
   "source": [
    "### Function to build the two-way sequences\n",
    "Two vectors: $\\mathbf{x}$ and $\\mathbf{y}$"
   ]
  },
  {
   "cell_type": "code",
   "execution_count": 12,
   "metadata": {},
   "outputs": [],
   "source": [
    "def build_sequences(corpus_dict, key_x='form', key_y='upos', tolower=True):\n",
    "    \"\"\"\n",
    "    Creates sequences from a list of dictionaries\n",
    "    :param corpus_dict:\n",
    "    :param key_x:\n",
    "    :param key_y:\n",
    "    :return:\n",
    "    \"\"\"\n",
    "    X = []\n",
    "    Y = []\n",
    "    for sentence in corpus_dict:\n",
    "        x = []\n",
    "        y = []\n",
    "        for word in sentence:\n",
    "            x += [word[key_x]]\n",
    "            y += [word[key_y]]\n",
    "        if tolower:\n",
    "            x = list(map(str.lower, x))\n",
    "        X += [x]\n",
    "        Y += [y]\n",
    "    return X, Y"
   ]
  },
  {
   "cell_type": "code",
   "execution_count": 13,
   "metadata": {},
   "outputs": [
    {
     "name": "stdout",
     "output_type": "stream",
     "text": [
      "First sentence, words ['al', '-', 'zaman', ':', 'american', 'forces', 'killed', 'shaikh', 'abdullah', 'al', '-', 'ani', ',', 'the', 'preacher', 'at', 'the', 'mosque', 'in', 'the', 'town', 'of', 'qaim', ',', 'near', 'the', 'syrian', 'border', '.']\n",
      "First sentence, POS ['PROPN', 'PUNCT', 'PROPN', 'PUNCT', 'ADJ', 'NOUN', 'VERB', 'PROPN', 'PROPN', 'PROPN', 'PUNCT', 'PROPN', 'PUNCT', 'DET', 'NOUN', 'ADP', 'DET', 'NOUN', 'ADP', 'DET', 'NOUN', 'ADP', 'PROPN', 'PUNCT', 'ADP', 'DET', 'ADJ', 'NOUN', 'PUNCT']\n"
     ]
    }
   ],
   "source": [
    "X_train_cat, Y_train_cat = build_sequences(train_dict)\n",
    "X_val_cat, Y_val_cat = build_sequences(dev_dict)\n",
    "print('First sentence, words', X_train_cat[0])\n",
    "print('First sentence, POS', Y_train_cat[0])"
   ]
  },
  {
   "cell_type": "markdown",
   "metadata": {},
   "source": [
    "### Extracting the Unique Words and Parts of Speech"
   ]
  },
  {
   "cell_type": "code",
   "execution_count": 14,
   "metadata": {},
   "outputs": [
    {
     "name": "stdout",
     "output_type": "stream",
     "text": [
      "['ADJ', 'ADP', 'ADV', 'AUX', 'CCONJ', 'DET', 'INTJ', 'NOUN', 'NUM', 'PART', 'PRON', 'PROPN', 'PUNCT', 'SCONJ', 'SYM', 'VERB', 'X', '_']\n"
     ]
    }
   ],
   "source": [
    "vocabulary_words = sorted(list(\n",
    "    set([word for sentence \n",
    "         in X_train_cat for word in sentence])))\n",
    "pos = sorted(list(set([pos for sentence \n",
    "                       in Y_train_cat for pos in sentence])))\n",
    "print(pos)\n",
    "NB_CLASSES = len(pos)"
   ]
  },
  {
   "cell_type": "markdown",
   "metadata": {},
   "source": [
    "### We create the dictionary\n",
    "We add two words for the padding symbol and unknown words"
   ]
  },
  {
   "cell_type": "code",
   "execution_count": 15,
   "metadata": {},
   "outputs": [
    {
     "name": "stdout",
     "output_type": "stream",
     "text": [
      "Words in GloVe: 400000\n",
      "# unique words in the vocabulary: embeddings and corpus: 402011\n"
     ]
    }
   ],
   "source": [
    "embeddings_words = embeddings_dict.keys()\n",
    "print('Words in GloVe:',  len(embeddings_dict.keys()))\n",
    "vocabulary_words = sorted(list(set(vocabulary_words + \n",
    "                                   list(embeddings_words))))\n",
    "cnt_uniq = len(vocabulary_words) + 2\n",
    "print('# unique words in the vocabulary: embeddings and corpus:', \n",
    "      cnt_uniq)"
   ]
  },
  {
   "cell_type": "markdown",
   "metadata": {},
   "source": [
    "### Function to convert the words or parts of speech to indices"
   ]
  },
  {
   "cell_type": "code",
   "execution_count": 16,
   "metadata": {},
   "outputs": [],
   "source": [
    "def to_index(X, idx):\n",
    "    \"\"\"\n",
    "    Convert the word lists (or POS lists) to indexes\n",
    "    :param X: List of word (or POS) lists\n",
    "    :param idx: word to number dictionary\n",
    "    :return:\n",
    "    \"\"\"\n",
    "    X_idx = []\n",
    "    for x in X:\n",
    "        # We map the unknown words to one\n",
    "        x_idx = torch.LongTensor(list(map(lambda x: idx.get(x, 1), x)))\n",
    "        X_idx += [x_idx]\n",
    "    return X_idx"
   ]
  },
  {
   "cell_type": "markdown",
   "metadata": {},
   "source": [
    "### We create the indexes"
   ]
  },
  {
   "cell_type": "code",
   "execution_count": 17,
   "metadata": {},
   "outputs": [
    {
     "name": "stdout",
     "output_type": "stream",
     "text": [
      "word index: [('!', 2), ('!!', 3), ('!!!', 4), ('!!!!', 5), ('!!!!!', 6), ('!!!!!!', 7), ('!!!!!!!', 8), ('!!!!!!!!!!', 9), ('!!!!!!!!!!!', 10), ('!!!!!!!!!!!!', 11)]\n",
      "POS index: [('ADJ', 1), ('ADP', 2), ('ADV', 3), ('AUX', 4), ('CCONJ', 5), ('DET', 6), ('INTJ', 7), ('NOUN', 8), ('NUM', 9), ('PART', 10)]\n"
     ]
    }
   ],
   "source": [
    "# We start at one to make provision for the padding symbol 0 \n",
    "# in RNN and LSTMs and 1 for the unknown words\n",
    "idx2word = dict(enumerate(vocabulary_words, start=2))\n",
    "idx2pos = dict(enumerate(pos, start=1))\n",
    "word2idx = {v: k for k, v in idx2word.items()}\n",
    "pos2idx = {v: k for k, v in idx2pos.items()}\n",
    "print('word index:', list(word2idx.items())[:10])\n",
    "print('POS index:', list(pos2idx.items())[:10])"
   ]
  },
  {
   "cell_type": "code",
   "execution_count": 18,
   "metadata": {},
   "outputs": [
    {
     "name": "stdout",
     "output_type": "stream",
     "text": [
      "First sentences, word indices [tensor([ 50470,    655, 397776,  43353,  54057, 152357, 208704, 328597,  44671,\n",
      "         50470,    655,  56044,    491, 359087, 292649,  62657, 359087, 251780,\n",
      "        189667, 359087, 364968, 269521, 298022,    491, 259602, 359087, 352115,\n",
      "         81542,    925]), tensor([ 43477, 359991, 208727, 269521,  43521, 308150, 103362, 389638,  71696,\n",
      "         94742, 375911, 367780, 152285, 395327, 362757, 106352,    925,  43479]), tensor([129560,  43353, 193786,  64120,  56459, 359030, 359635, 171707,  88398,\n",
      "        375205,  22156, 358190,  95699, 272103, 189667,  66894,    925])]\n",
      "First sentences, POS indices [tensor([12, 13, 12, 13,  1,  8, 16, 12, 12, 12, 13, 12, 13,  6,  8,  2,  6,  8,\n",
      "         2,  6,  8,  2, 12, 13,  2,  6,  1,  8, 13]), tensor([13,  6,  8,  2,  6,  1,  8,  4,  4, 16, 11,  8,  2,  8, 10, 16, 13, 13]), tensor([12, 13,  1,  8, 16, 14, 11,  4, 16,  2,  9,  1,  8, 16,  2, 12, 13])]\n"
     ]
    }
   ],
   "source": [
    "# We create the parallel sequences of indexes\n",
    "X_train_idx = to_index(X_train_cat, word2idx)\n",
    "Y_train_idx = to_index(Y_train_cat, pos2idx)\n",
    "\n",
    "X_val_idx = to_index(X_val_cat, word2idx)\n",
    "Y_val_idx = to_index(Y_val_cat, pos2idx)\n",
    "\n",
    "print('First sentences, word indices', X_train_idx[:3])\n",
    "print('First sentences, POS indices', Y_train_idx[:3])"
   ]
  },
  {
   "cell_type": "markdown",
   "metadata": {},
   "source": [
    "### We pad the sentences"
   ]
  },
  {
   "cell_type": "code",
   "execution_count": 19,
   "metadata": {},
   "outputs": [],
   "source": [
    "X_train = pad_sequence(X_train_idx, batch_first=True)\n",
    "Y_train = pad_sequence(Y_train_idx, batch_first=True)\n",
    "\n",
    "X_val = pad_sequence(X_val_idx, batch_first=True)\n",
    "Y_val = pad_sequence(Y_val_idx, batch_first=True)"
   ]
  },
  {
   "cell_type": "code",
   "execution_count": 20,
   "metadata": {},
   "outputs": [
    {
     "data": {
      "text/plain": [
       "tensor([ 50470,    655, 397776,  43353,  54057, 152357, 208704, 328597,  44671,\n",
       "         50470,    655,  56044,    491, 359087, 292649,  62657, 359087, 251780,\n",
       "        189667, 359087, 364968, 269521, 298022,    491, 259602, 359087, 352115,\n",
       "         81542,    925,      0,      0,      0,      0,      0,      0,      0,\n",
       "             0,      0,      0,      0,      0,      0,      0,      0,      0,\n",
       "             0,      0,      0,      0,      0,      0,      0,      0,      0,\n",
       "             0,      0,      0,      0,      0,      0,      0,      0,      0,\n",
       "             0,      0,      0,      0,      0,      0,      0,      0,      0,\n",
       "             0,      0,      0,      0,      0,      0,      0,      0,      0,\n",
       "             0,      0,      0,      0,      0,      0,      0,      0,      0,\n",
       "             0,      0,      0,      0,      0,      0,      0,      0,      0,\n",
       "             0,      0,      0,      0,      0,      0,      0,      0,      0,\n",
       "             0,      0,      0,      0,      0,      0,      0,      0,      0,\n",
       "             0,      0,      0,      0,      0,      0,      0,      0,      0,\n",
       "             0,      0,      0,      0,      0,      0,      0,      0,      0,\n",
       "             0,      0,      0,      0,      0,      0,      0,      0,      0,\n",
       "             0,      0,      0,      0,      0,      0,      0,      0,      0,\n",
       "             0,      0,      0,      0,      0,      0,      0])"
      ]
     },
     "execution_count": 20,
     "metadata": {},
     "output_type": "execute_result"
    }
   ],
   "source": [
    "X_train[0]"
   ]
  },
  {
   "cell_type": "code",
   "execution_count": 21,
   "metadata": {},
   "outputs": [
    {
     "data": {
      "text/plain": [
       "tensor([12, 13, 12, 13,  1,  8, 16, 12, 12, 12, 13, 12, 13,  6,  8,  2,  6,  8,\n",
       "         2,  6,  8,  2, 12, 13,  2,  6,  1,  8, 13,  0,  0,  0,  0,  0,  0,  0,\n",
       "         0,  0,  0,  0,  0,  0,  0,  0,  0,  0,  0,  0,  0,  0,  0,  0,  0,  0,\n",
       "         0,  0,  0,  0,  0,  0,  0,  0,  0,  0,  0,  0,  0,  0,  0,  0,  0,  0,\n",
       "         0,  0,  0,  0,  0,  0,  0,  0,  0,  0,  0,  0,  0,  0,  0,  0,  0,  0,\n",
       "         0,  0,  0,  0,  0,  0,  0,  0,  0,  0,  0,  0,  0,  0,  0,  0,  0,  0,\n",
       "         0,  0,  0,  0,  0,  0,  0,  0,  0,  0,  0,  0,  0,  0,  0,  0,  0,  0,\n",
       "         0,  0,  0,  0,  0,  0,  0,  0,  0,  0,  0,  0,  0,  0,  0,  0,  0,  0,\n",
       "         0,  0,  0,  0,  0,  0,  0,  0,  0,  0,  0,  0,  0,  0,  0,  0])"
      ]
     },
     "execution_count": 21,
     "metadata": {},
     "output_type": "execute_result"
    }
   ],
   "source": [
    "Y_train[0]"
   ]
  },
  {
   "cell_type": "markdown",
   "metadata": {},
   "source": [
    "### We create an embedding matrix\n",
    "0 is the padding symbol and index one is a unknown word"
   ]
  },
  {
   "cell_type": "code",
   "execution_count": 22,
   "metadata": {},
   "outputs": [],
   "source": [
    "embedding_matrix = torch.rand((len(vocabulary_words) + 2, EMBEDDING_DIM))/10 - 0.05 # range: -0.05, 0.05"
   ]
  },
  {
   "cell_type": "code",
   "execution_count": 23,
   "metadata": {},
   "outputs": [],
   "source": [
    "for word in vocabulary_words:\n",
    "    if word in embeddings_dict:\n",
    "        # If the words are in the embeddings, we fill them with a value\n",
    "        embedding_matrix[word2idx[word]] = embeddings_dict[word]"
   ]
  },
  {
   "cell_type": "code",
   "execution_count": 24,
   "metadata": {},
   "outputs": [
    {
     "data": {
      "text/plain": [
       "torch.Size([402011, 100])"
      ]
     },
     "execution_count": 24,
     "metadata": {},
     "output_type": "execute_result"
    }
   ],
   "source": [
    "embedding_matrix.size()"
   ]
  },
  {
   "cell_type": "markdown",
   "metadata": {},
   "source": [
    "Embedding of table"
   ]
  },
  {
   "cell_type": "code",
   "execution_count": 25,
   "metadata": {},
   "outputs": [
    {
     "data": {
      "text/plain": [
       "tensor([-0.6145,  0.8969,  0.5677,  0.3910, -0.2244,  0.4904,  0.1087,  0.2741,\n",
       "        -0.2383, -0.5215,  0.7355, -0.3265,  0.5130,  0.3241, -0.4671,  0.6805,\n",
       "        -0.2550, -0.0405, -0.5442, -1.0548, -0.4669,  0.2356,  0.3123, -0.3454,\n",
       "         0.1479, -0.5375, -0.4322, -0.4872, -0.5102, -0.9051, -0.1792, -0.0184,\n",
       "         0.0972, -0.3162,  0.7512,  0.9224, -0.4997,  0.1404, -0.2830, -0.9744,\n",
       "        -0.0094, -0.6294,  0.1471, -0.9438,  0.0075,  0.1857, -0.9917,  0.0728,\n",
       "        -0.1847, -0.5290,  0.3900, -0.4568, -0.2193,  1.3723, -0.2964, -2.2342,\n",
       "        -0.3667,  0.0499,  0.6342,  0.5328, -0.5396,  0.3140, -0.4470, -0.3839,\n",
       "         0.0667, -0.0217,  0.2056,  0.5946, -0.2489, -0.5279, -0.3761,  0.0771,\n",
       "         0.7522, -0.2647, -0.0587,  0.6754, -0.1656, -0.4928, -0.2633, -0.2121,\n",
       "         0.2432,  0.1701, -0.2926, -0.5009, -0.5664, -0.4038, -0.4845, -0.3254,\n",
       "         0.7529,  0.0050, -0.3212,  0.2890, -0.0424,  0.6386, -0.2033, -0.4678,\n",
       "        -0.1566,  0.2179,  1.4143,  0.4003])"
      ]
     },
     "execution_count": 25,
     "metadata": {},
     "output_type": "execute_result"
    }
   ],
   "source": [
    "embedding_matrix[word2idx['table']]"
   ]
  },
  {
   "cell_type": "markdown",
   "metadata": {},
   "source": [
    "Embedding of the padding symbol, idx 0, random numbers"
   ]
  },
  {
   "cell_type": "code",
   "execution_count": 26,
   "metadata": {},
   "outputs": [
    {
     "data": {
      "text/plain": [
       "tensor([-0.0471, -0.0098, -0.0240, -0.0133, -0.0442,  0.0201, -0.0448, -0.0032,\n",
       "         0.0174, -0.0169,  0.0284,  0.0063,  0.0275,  0.0321, -0.0221,  0.0182,\n",
       "        -0.0216,  0.0157, -0.0261,  0.0231,  0.0101, -0.0196, -0.0245,  0.0129,\n",
       "         0.0467,  0.0240, -0.0048, -0.0024,  0.0284, -0.0348,  0.0166, -0.0166,\n",
       "         0.0289, -0.0178,  0.0025,  0.0169,  0.0344, -0.0073,  0.0456, -0.0423,\n",
       "        -0.0089, -0.0499,  0.0041,  0.0142, -0.0202,  0.0208, -0.0081, -0.0434,\n",
       "         0.0384,  0.0308,  0.0253,  0.0399,  0.0184,  0.0266,  0.0415, -0.0101,\n",
       "        -0.0390, -0.0246, -0.0067, -0.0055, -0.0003,  0.0287,  0.0160, -0.0370,\n",
       "        -0.0150, -0.0118,  0.0304, -0.0181, -0.0209, -0.0080, -0.0127, -0.0123,\n",
       "        -0.0489,  0.0445,  0.0266, -0.0237, -0.0312,  0.0017,  0.0285, -0.0359,\n",
       "        -0.0189,  0.0209, -0.0323, -0.0056, -0.0377,  0.0464,  0.0270, -0.0462,\n",
       "        -0.0276,  0.0177,  0.0027,  0.0133, -0.0409, -0.0268,  0.0227, -0.0381,\n",
       "        -0.0105,  0.0220,  0.0260,  0.0031])"
      ]
     },
     "execution_count": 26,
     "metadata": {},
     "output_type": "execute_result"
    }
   ],
   "source": [
    "embedding_matrix[0]"
   ]
  },
  {
   "cell_type": "markdown",
   "metadata": {},
   "source": [
    "## The Network"
   ]
  },
  {
   "cell_type": "code",
   "execution_count": 27,
   "metadata": {},
   "outputs": [],
   "source": [
    "class Model(nn.Module):\n",
    "\n",
    "    def __init__(self, embedding_matrix, lstm_units, nbr_classes, \n",
    "                 freeze_embs=True, num_layers=1, bidi_lstm=False):\n",
    "        super().__init__()\n",
    "        embedding_dim = embedding_matrix.size()[-1] \n",
    "        self.embeddings = nn.Embedding.from_pretrained(embedding_matrix, \n",
    "                                                       freeze=freeze_embs, padding_idx=0)\n",
    "        self.dropout = nn.Dropout(DROPOUT)\n",
    "        self.lstm = nn.LSTM(embedding_dim, lstm_units, num_layers=num_layers, \n",
    "                            dropout=DROPOUT, batch_first=True, bidirectional=bidi_lstm)\n",
    "        if not bidi_lstm:\n",
    "            self.fc = nn.Linear(lstm_units, nbr_classes)\n",
    "        else:\n",
    "            # twice the units if bidirectional \n",
    "            self.fc = nn.Linear(2*lstm_units, nbr_classes)\n",
    "\n",
    "    def forward(self, sentence):\n",
    "        embeds = self.embeddings(sentence)\n",
    "        embeds = self.dropout(embeds)\n",
    "        lstm_out, _ = self.lstm(embeds)\n",
    "        lstm_out = F.relu(lstm_out)\n",
    "        lstm_out = self.dropout(lstm_out)\n",
    "        logits = self.fc(lstm_out)\n",
    "        return logits"
   ]
  },
  {
   "cell_type": "code",
   "execution_count": 28,
   "metadata": {},
   "outputs": [],
   "source": [
    "model = Model(embedding_matrix, \n",
    "              LSTM_HIDDEN_DIM, \n",
    "              NB_CLASSES + 1, \n",
    "              freeze_embs=FREEZE_EMBS, \n",
    "              num_layers=LSTM_LAYERS, \n",
    "              bidi_lstm=True)"
   ]
  },
  {
   "cell_type": "code",
   "execution_count": 29,
   "metadata": {},
   "outputs": [
    {
     "data": {
      "text/plain": [
       "Model(\n",
       "  (embeddings): Embedding(402011, 100, padding_idx=0)\n",
       "  (dropout): Dropout(p=0.2, inplace=False)\n",
       "  (lstm): LSTM(100, 128, num_layers=2, batch_first=True, dropout=0.2, bidirectional=True)\n",
       "  (fc): Linear(in_features=256, out_features=19, bias=True)\n",
       ")"
      ]
     },
     "execution_count": 29,
     "metadata": {},
     "output_type": "execute_result"
    }
   ],
   "source": [
    "model"
   ]
  },
  {
   "cell_type": "code",
   "execution_count": 30,
   "metadata": {},
   "outputs": [],
   "source": [
    "loss_fn = nn.CrossEntropyLoss(ignore_index=0)    # cross entropy loss\n",
    "optimizer = torch.optim.RMSprop(model.parameters(), lr=0.001)"
   ]
  },
  {
   "cell_type": "markdown",
   "metadata": {},
   "source": [
    "## Data Loaders"
   ]
  },
  {
   "cell_type": "code",
   "execution_count": 31,
   "metadata": {},
   "outputs": [],
   "source": [
    "dataset = TensorDataset(X_train, Y_train)\n",
    "dataloader = DataLoader(dataset, batch_size=BATCH_SIZE, shuffle=True)"
   ]
  },
  {
   "cell_type": "code",
   "execution_count": 32,
   "metadata": {},
   "outputs": [],
   "source": [
    "def batch_inference(model, X, batchsize=2048):\n",
    "    with torch.no_grad():\n",
    "        partial = []\n",
    "        for i in range(0, X.shape[0], batchsize):\n",
    "            partial.append(model(X[i:i+batchsize]))\n",
    "    \n",
    "    return torch.vstack(partial)"
   ]
  },
  {
   "cell_type": "code",
   "execution_count": 33,
   "metadata": {},
   "outputs": [],
   "source": [
    "if LARGE_MEM:\n",
    "    with torch.no_grad():\n",
    "        Y_train_pred = model(X_train)"
   ]
  },
  {
   "cell_type": "code",
   "execution_count": 34,
   "metadata": {},
   "outputs": [],
   "source": [
    "if not LARGE_MEM:\n",
    "    Y_train_pred = batch_inference(model, X_train)"
   ]
  },
  {
   "cell_type": "code",
   "execution_count": 35,
   "metadata": {},
   "outputs": [
    {
     "data": {
      "text/plain": [
       "tensor([ 0.0100, -0.1149, -0.0234,  0.0184,  0.0224,  0.0142,  0.0302, -0.0083,\n",
       "        -0.0171,  0.0120,  0.0038, -0.0663,  0.0307, -0.0372, -0.0178, -0.0271,\n",
       "        -0.0117, -0.0118,  0.0211])"
      ]
     },
     "execution_count": 35,
     "metadata": {},
     "output_type": "execute_result"
    }
   ],
   "source": [
    "Y_train_pred[0,0]"
   ]
  },
  {
   "cell_type": "markdown",
   "metadata": {},
   "source": [
    "## Fitting the Model"
   ]
  },
  {
   "cell_type": "code",
   "execution_count": 36,
   "metadata": {},
   "outputs": [],
   "source": [
    "history = {}\n",
    "history['accuracy'] = []\n",
    "history['loss'] = []\n",
    "history['val_accuracy'] = []\n",
    "history['val_loss'] = []"
   ]
  },
  {
   "cell_type": "code",
   "execution_count": 37,
   "metadata": {},
   "outputs": [
    {
     "name": "stderr",
     "output_type": "stream",
     "text": [
      "100%|██████████| 392/392 [02:37<00:00,  2.49it/s]\n",
      "100%|██████████| 392/392 [02:03<00:00,  3.18it/s]\n",
      "100%|██████████| 392/392 [01:59<00:00,  3.28it/s]\n",
      "100%|██████████| 392/392 [02:06<00:00,  3.10it/s]\n",
      "100%|██████████| 392/392 [02:48<00:00,  2.33it/s]\n",
      "100%|██████████| 392/392 [02:10<00:00,  3.00it/s]\n",
      "100%|██████████| 392/392 [01:43<00:00,  3.78it/s]\n",
      "100%|██████████| 392/392 [02:24<00:00,  2.72it/s]\n",
      "100%|██████████| 392/392 [02:06<00:00,  3.10it/s]\n",
      "100%|██████████| 392/392 [02:17<00:00,  2.86it/s]\n"
     ]
    }
   ],
   "source": [
    "for epoch in range(EPOCHS):\n",
    "    train_loss = 0\n",
    "    train_accuracy = 0\n",
    "    val_loss = 0\n",
    "    val_accuracy = 0\n",
    "    word_cnt = 0\n",
    "    batch_cnt = 0\n",
    "    model.train()\n",
    "    for X_batch, Y_batch in tqdm(dataloader):\n",
    "        batch_cnt += 1\n",
    "        Y_batch_pred = model(X_batch)\n",
    "        loss = loss_fn(Y_batch_pred.view(-1, Y_batch_pred.shape[-1]), Y_batch.view(-1))\n",
    "        optimizer.zero_grad()\n",
    "        loss.backward()\n",
    "        optimizer.step()\n",
    "        train_loss += loss.item()\n",
    "    \n",
    "    model.eval()\n",
    "    with torch.no_grad():\n",
    "        train_accuracy = torch.sum(torch.mul(torch.argmax(batch_inference(model, X_train), dim=-1) == Y_train, Y_train > 0))\n",
    "        history['accuracy'] += [train_accuracy.item()/torch.sum(Y_train > 0)]\n",
    "        history['loss'] += [train_loss/batch_cnt]\n",
    "\n",
    "        Y_val_pred = model(X_val)\n",
    "        val_loss = loss_fn(Y_val_pred.view(-1, Y_val_pred.shape[-1]), Y_val.view(-1))\n",
    "        history['val_loss'] += [val_loss.item()]\n",
    "        val_accuracy = torch.sum(torch.mul(torch.argmax(model(X_val), dim=-1) == Y_val, Y_val > 0))\n",
    "        history['val_accuracy'] += [val_accuracy.item()/torch.sum(Y_val > 0)]"
   ]
  },
  {
   "cell_type": "code",
   "execution_count": 38,
   "metadata": {},
   "outputs": [
    {
     "data": {
      "image/png": "[encoded data removed]",
      "text/plain": [
       "<Figure size 640x480 with 1 Axes>"
      ]
     },
     "metadata": {},
     "output_type": "display_data"
    },
    {
     "data": {
      "image/png": "[encoded data removed]",
      "text/plain": [
       "<Figure size 640x480 with 1 Axes>"
      ]
     },
     "metadata": {},
     "output_type": "display_data"
    }
   ],
   "source": [
    "acc = history['accuracy']\n",
    "loss = history['loss']\n",
    "val_acc = history['val_accuracy']\n",
    "val_loss = history['val_loss']\n",
    "\n",
    "epochs = range(1, len(acc) + 1)\n",
    "plt.plot(epochs, acc, 'bo', label='Training accuracy')\n",
    "plt.plot(epochs, val_acc, 'b', label='Validation accuracy')\n",
    "plt.title('Training and validation accuracies')\n",
    "plt.legend()\n",
    "\n",
    "plt.figure()\n",
    "plt.plot(epochs, loss, 'bo', label='Training loss')\n",
    "plt.plot(epochs, val_loss, 'b', label='Validation loss')\n",
    "plt.title('Training and validation losses')\n",
    "plt.legend()\n",
    "\n",
    "plt.show()"
   ]
  },
  {
   "cell_type": "markdown",
   "metadata": {},
   "source": [
    "## Evaluation"
   ]
  },
  {
   "cell_type": "markdown",
   "metadata": {},
   "source": [
    "### Formatting the Test Set"
   ]
  },
  {
   "cell_type": "code",
   "execution_count": 39,
   "metadata": {},
   "outputs": [
    {
     "name": "stdout",
     "output_type": "stream",
     "text": [
      "X[0] test idx tensor([388238, 187828, 165435, 251417, 193007,      1,  43465])\n",
      "Y[0] test idx tensor([11, 14, 12, 16,  2, 12, 13])\n",
      "X[0] test idx passed tensor([388238, 187828, 165435, 251417, 193007,      1,  43465,      0,      0,\n",
      "             0,      0,      0,      0,      0,      0,      0,      0,      0,\n",
      "             0,      0,      0,      0,      0,      0,      0,      0,      0,\n",
      "             0,      0,      0,      0,      0,      0,      0,      0,      0,\n",
      "             0,      0,      0,      0,      0,      0,      0,      0,      0,\n",
      "             0,      0,      0,      0,      0,      0,      0,      0,      0,\n",
      "             0,      0,      0,      0,      0,      0,      0,      0,      0,\n",
      "             0,      0,      0,      0,      0,      0,      0,      0,      0,\n",
      "             0,      0,      0,      0,      0,      0,      0,      0,      0,\n",
      "             0,      0,      0])\n",
      "Y[0] test idx padded tensor([11, 14, 12, 16,  2, 12, 13,  0,  0,  0,  0,  0,  0,  0,  0,  0,  0,  0,\n",
      "         0,  0,  0,  0,  0,  0,  0,  0,  0,  0,  0,  0,  0,  0,  0,  0,  0,  0,\n",
      "         0,  0,  0,  0,  0,  0,  0,  0,  0,  0,  0,  0,  0,  0,  0,  0,  0,  0,\n",
      "         0,  0,  0,  0,  0,  0,  0,  0,  0,  0,  0,  0,  0,  0,  0,  0,  0,  0,\n",
      "         0,  0,  0,  0,  0,  0,  0,  0,  0,  0,  0,  0])\n"
     ]
    }
   ],
   "source": [
    "# In X_dict, we replace the words with their index\n",
    "X_test_cat, Y_test_cat = build_sequences(test_dict)\n",
    "# We create the parallel sequences of indexes\n",
    "X_test_idx = to_index(X_test_cat, word2idx)\n",
    "Y_test_idx = to_index(Y_test_cat, pos2idx)\n",
    "\n",
    "print('X[0] test idx', X_test_idx[0])\n",
    "print('Y[0] test idx', Y_test_idx[0])\n",
    "\n",
    "X_test_padded = pad_sequence(X_test_idx, batch_first=True)\n",
    "Y_test_padded = pad_sequence(Y_test_idx, batch_first=True)\n",
    "print('X[0] test idx passed', X_test_padded[0])\n",
    "print('Y[0] test idx padded', Y_test_padded[0])\n",
    "# One extra symbol for 0 (padding)\n"
   ]
  },
  {
   "cell_type": "markdown",
   "metadata": {},
   "source": [
    "### Evaluation"
   ]
  },
  {
   "cell_type": "code",
   "execution_count": 40,
   "metadata": {},
   "outputs": [
    {
     "data": {
      "text/plain": [
       "tensor(0.9470)"
      ]
     },
     "execution_count": 40,
     "metadata": {},
     "output_type": "execute_result"
    }
   ],
   "source": [
    "# Evaluates with the padding symbol\n",
    "test_accuracy = torch.sum(torch.mul(torch.argmax(model(X_test_padded), dim=-1) == Y_test_padded, \n",
    "                                    Y_test_padded > 0))\n",
    "test_accuracy = test_accuracy.item()/torch.sum(Y_test_padded > 0)\n",
    "test_accuracy"
   ]
  },
  {
   "cell_type": "markdown",
   "metadata": {},
   "source": [
    "We reach 93.50 with bidirectional LSTMs"
   ]
  },
  {
   "cell_type": "markdown",
   "metadata": {},
   "source": [
    "### We evaluate on all the test corpus"
   ]
  },
  {
   "cell_type": "markdown",
   "metadata": {},
   "source": [
    "X_test"
   ]
  },
  {
   "cell_type": "code",
   "execution_count": 41,
   "metadata": {},
   "outputs": [
    {
     "data": {
      "text/plain": [
       "['what', 'if', 'google', 'morphed', 'into', 'googleos', '?']"
      ]
     },
     "execution_count": 41,
     "metadata": {},
     "output_type": "execute_result"
    }
   ],
   "source": [
    "X_test_cat[0]"
   ]
  },
  {
   "cell_type": "markdown",
   "metadata": {},
   "source": [
    "X_test_padded"
   ]
  },
  {
   "cell_type": "code",
   "execution_count": 42,
   "metadata": {},
   "outputs": [
    {
     "data": {
      "text/plain": [
       "tensor([388238, 187828, 165435, 251417, 193007,      1,  43465,      0,      0,\n",
       "             0,      0,      0,      0,      0,      0,      0,      0,      0,\n",
       "             0,      0,      0,      0,      0,      0,      0,      0,      0,\n",
       "             0,      0,      0,      0,      0,      0,      0,      0,      0,\n",
       "             0,      0,      0,      0,      0,      0,      0,      0,      0,\n",
       "             0,      0,      0,      0,      0,      0,      0,      0,      0,\n",
       "             0,      0,      0,      0,      0,      0,      0,      0,      0,\n",
       "             0,      0,      0,      0,      0,      0,      0,      0,      0,\n",
       "             0,      0,      0,      0,      0,      0,      0,      0,      0,\n",
       "             0,      0,      0])"
      ]
     },
     "execution_count": 42,
     "metadata": {},
     "output_type": "execute_result"
    }
   ],
   "source": [
    "X_test_padded[0]"
   ]
  },
  {
   "cell_type": "code",
   "execution_count": 43,
   "metadata": {},
   "outputs": [],
   "source": [
    "Y_test_probs_padded = model(X_test_padded)"
   ]
  },
  {
   "cell_type": "markdown",
   "metadata": {},
   "source": [
    "Y_test"
   ]
  },
  {
   "cell_type": "code",
   "execution_count": 44,
   "metadata": {},
   "outputs": [
    {
     "data": {
      "text/plain": [
       "['PRON', 'SCONJ', 'PROPN', 'VERB', 'ADP', 'PROPN', 'PUNCT']"
      ]
     },
     "execution_count": 44,
     "metadata": {},
     "output_type": "execute_result"
    }
   ],
   "source": [
    "Y_test_cat[0]"
   ]
  },
  {
   "cell_type": "markdown",
   "metadata": {},
   "source": [
    "Y_test_padded"
   ]
  },
  {
   "cell_type": "code",
   "execution_count": 45,
   "metadata": {},
   "outputs": [
    {
     "data": {
      "text/plain": [
       "tensor([11, 14, 12, 16,  2, 12, 13,  0,  0,  0,  0,  0,  0,  0,  0,  0,  0,  0,\n",
       "         0,  0,  0,  0,  0,  0,  0,  0,  0,  0,  0,  0,  0,  0,  0,  0,  0,  0,\n",
       "         0,  0,  0,  0,  0,  0,  0,  0,  0,  0,  0,  0,  0,  0,  0,  0,  0,  0,\n",
       "         0,  0,  0,  0,  0,  0,  0,  0,  0,  0,  0,  0,  0,  0,  0,  0,  0,  0,\n",
       "         0,  0,  0,  0,  0,  0,  0,  0,  0,  0,  0,  0])"
      ]
     },
     "execution_count": 45,
     "metadata": {},
     "output_type": "execute_result"
    }
   ],
   "source": [
    "Y_test_padded[0]"
   ]
  },
  {
   "cell_type": "markdown",
   "metadata": {},
   "source": [
    "Y_test_probs"
   ]
  },
  {
   "cell_type": "code",
   "execution_count": 46,
   "metadata": {},
   "outputs": [
    {
     "data": {
      "text/plain": [
       "tensor([[-13.3537,  -5.0389,  -5.0747,  ...,  -1.9050,  -5.9595,  -0.2822],\n",
       "        [-16.3794,  -7.5571,  -1.0434,  ...,  -2.3209,  -5.8301,  -5.3455],\n",
       "        [-22.5375,  -7.9937,  -8.4842,  ...,  -4.2520,  -6.6213,  -5.5598],\n",
       "        ...,\n",
       "        [-14.1347,  -3.5189,  -3.4072,  ...,  -3.7350,   4.7574,  -6.5556],\n",
       "        [-11.3368,  -2.8656,  -2.6917,  ...,  -2.9300,   3.5773,  -4.5013],\n",
       "        [ -8.8686,  -2.2557,  -1.9185,  ...,  -2.3035,   2.6110,  -2.9865]],\n",
       "       grad_fn=<SelectBackward0>)"
      ]
     },
     "execution_count": 46,
     "metadata": {},
     "output_type": "execute_result"
    }
   ],
   "source": [
    "Y_test_probs_padded[0]"
   ]
  },
  {
   "cell_type": "markdown",
   "metadata": {},
   "source": [
    "Y_test_hat"
   ]
  },
  {
   "cell_type": "code",
   "execution_count": 47,
   "metadata": {},
   "outputs": [
    {
     "data": {
      "text/plain": [
       "tensor([[11, 14, 12,  ..., 17, 17, 17],\n",
       "        [11, 14, 12,  ..., 17, 17, 17],\n",
       "        [13,  2, 12,  ..., 17, 17, 17],\n",
       "        ...,\n",
       "        [ 1,  8,  8,  ..., 17, 17, 17],\n",
       "        [12, 16,  1,  ..., 17, 17, 17],\n",
       "        [11, 16,  5,  ..., 17, 17, 17]])"
      ]
     },
     "execution_count": 47,
     "metadata": {},
     "output_type": "execute_result"
    }
   ],
   "source": [
    "Y_test_pred = torch.argmax(Y_test_probs_padded, dim=-1)\n",
    "Y_test_pred"
   ]
  },
  {
   "cell_type": "code",
   "execution_count": 48,
   "metadata": {},
   "outputs": [
    {
     "data": {
      "text/plain": [
       "[tensor(11),\n",
       " tensor(14),\n",
       " tensor(12),\n",
       " tensor(16),\n",
       " tensor(2),\n",
       " tensor(8),\n",
       " tensor(13),\n",
       " tensor(15),\n",
       " tensor(17),\n",
       " tensor(17),\n",
       " tensor(17),\n",
       " tensor(17),\n",
       " tensor(17),\n",
       " tensor(17),\n",
       " tensor(17),\n",
       " tensor(17),\n",
       " tensor(17),\n",
       " tensor(17),\n",
       " tensor(17),\n",
       " tensor(17),\n",
       " tensor(17),\n",
       " tensor(17),\n",
       " tensor(17),\n",
       " tensor(17),\n",
       " tensor(17),\n",
       " tensor(17),\n",
       " tensor(17),\n",
       " tensor(17),\n",
       " tensor(17),\n",
       " tensor(17),\n",
       " tensor(17),\n",
       " tensor(17),\n",
       " tensor(17),\n",
       " tensor(17),\n",
       " tensor(17),\n",
       " tensor(17),\n",
       " tensor(17),\n",
       " tensor(17),\n",
       " tensor(17),\n",
       " tensor(17),\n",
       " tensor(17),\n",
       " tensor(17),\n",
       " tensor(17),\n",
       " tensor(17),\n",
       " tensor(17),\n",
       " tensor(17),\n",
       " tensor(17),\n",
       " tensor(17),\n",
       " tensor(17),\n",
       " tensor(17),\n",
       " tensor(17),\n",
       " tensor(17),\n",
       " tensor(17),\n",
       " tensor(17),\n",
       " tensor(17),\n",
       " tensor(17),\n",
       " tensor(17),\n",
       " tensor(17),\n",
       " tensor(17),\n",
       " tensor(17),\n",
       " tensor(17),\n",
       " tensor(17),\n",
       " tensor(17),\n",
       " tensor(17),\n",
       " tensor(17),\n",
       " tensor(17),\n",
       " tensor(17),\n",
       " tensor(17),\n",
       " tensor(17),\n",
       " tensor(17),\n",
       " tensor(17),\n",
       " tensor(17),\n",
       " tensor(17),\n",
       " tensor(17),\n",
       " tensor(17),\n",
       " tensor(17),\n",
       " tensor(17),\n",
       " tensor(17),\n",
       " tensor(17),\n",
       " tensor(17),\n",
       " tensor(17),\n",
       " tensor(17),\n",
       " tensor(17),\n",
       " tensor(17)]"
      ]
     },
     "execution_count": 48,
     "metadata": {},
     "output_type": "execute_result"
    }
   ],
   "source": [
    "list(Y_test_pred[0])"
   ]
  },
  {
   "cell_type": "code",
   "execution_count": 49,
   "metadata": {},
   "outputs": [
    {
     "data": {
      "text/plain": [
       "['PRON',\n",
       " 'SCONJ',\n",
       " 'PROPN',\n",
       " 'VERB',\n",
       " 'ADP',\n",
       " 'NOUN',\n",
       " 'PUNCT',\n",
       " 'SYM',\n",
       " 'X',\n",
       " 'X',\n",
       " 'X',\n",
       " 'X',\n",
       " 'X',\n",
       " 'X',\n",
       " 'X',\n",
       " 'X',\n",
       " 'X',\n",
       " 'X',\n",
       " 'X',\n",
       " 'X',\n",
       " 'X',\n",
       " 'X',\n",
       " 'X',\n",
       " 'X',\n",
       " 'X',\n",
       " 'X',\n",
       " 'X',\n",
       " 'X',\n",
       " 'X',\n",
       " 'X',\n",
       " 'X',\n",
       " 'X',\n",
       " 'X',\n",
       " 'X',\n",
       " 'X',\n",
       " 'X',\n",
       " 'X',\n",
       " 'X',\n",
       " 'X',\n",
       " 'X',\n",
       " 'X',\n",
       " 'X',\n",
       " 'X',\n",
       " 'X',\n",
       " 'X',\n",
       " 'X',\n",
       " 'X',\n",
       " 'X',\n",
       " 'X',\n",
       " 'X',\n",
       " 'X',\n",
       " 'X',\n",
       " 'X',\n",
       " 'X',\n",
       " 'X',\n",
       " 'X',\n",
       " 'X',\n",
       " 'X',\n",
       " 'X',\n",
       " 'X',\n",
       " 'X',\n",
       " 'X',\n",
       " 'X',\n",
       " 'X',\n",
       " 'X',\n",
       " 'X',\n",
       " 'X',\n",
       " 'X',\n",
       " 'X',\n",
       " 'X',\n",
       " 'X',\n",
       " 'X',\n",
       " 'X',\n",
       " 'X',\n",
       " 'X',\n",
       " 'X',\n",
       " 'X',\n",
       " 'X',\n",
       " 'X',\n",
       " 'X',\n",
       " 'X',\n",
       " 'X',\n",
       " 'X',\n",
       " 'X']"
      ]
     },
     "execution_count": 49,
     "metadata": {},
     "output_type": "execute_result"
    }
   ],
   "source": [
    "list(map(lambda x: idx2pos.get(x.item()), Y_test_pred[0]))"
   ]
  },
  {
   "cell_type": "markdown",
   "metadata": {},
   "source": [
    "### Remove padding"
   ]
  },
  {
   "cell_type": "code",
   "execution_count": 50,
   "metadata": {},
   "outputs": [
    {
     "name": "stdout",
     "output_type": "stream",
     "text": [
      "[tensor([[-13.3537,  -5.0389,  -5.0747,  -0.3556,  -4.3504,  -7.3192,   0.4886,\n",
      "          -0.5516,  -3.3650,  -7.6701,  -5.2126,   6.2555,  -3.9218,  -7.8667,\n",
      "           1.2083, -10.8307,  -1.9050,  -5.9595,  -0.2822],\n",
      "        [-16.3794,  -7.5571,  -1.0434,  -2.7260,  -1.7429,  -4.2709,  -4.5889,\n",
      "          -4.8605,  -3.0893, -10.9903,  -6.5479,  -3.8079,  -4.1784,  -5.0812,\n",
      "           5.9020, -10.6464,  -2.3209,  -5.8301,  -5.3455],\n",
      "        [-22.5375,  -7.9937,  -8.4842,  -6.3213,  -4.2422, -12.8491,  -8.8712,\n",
      "          -7.5502,  -2.7032, -10.6910,  -5.4238,  -2.3026,   5.8949, -11.0841,\n",
      "          -5.5089, -10.8379,  -4.2520,  -6.6213,  -5.5598],\n",
      "        [-21.3049,  -1.2577,  -4.0100,   0.1295,  -3.6503, -11.2031, -10.1671,\n",
      "          -7.6064,  -1.9861, -12.6968,  -9.2623,  -6.2958,  -4.0393, -15.3846,\n",
      "          -4.8753, -19.0698,   8.4403,  -4.2713,  -6.7233],\n",
      "        [-17.5987,  -3.0473,   7.5657,  -0.4570,  -8.2723,  -2.5210,  -3.9500,\n",
      "          -6.1104,  -3.4641,  -6.3416,  -3.2625,  -7.9550,  -2.8943,  -8.4492,\n",
      "          -0.0960,  -6.0916,  -4.7443,  -2.3586, -11.2635],\n",
      "        [-15.7837,  -2.4282,  -4.4903,  -2.4275,  -7.4995,  -6.8526,  -7.6338,\n",
      "          -4.6534,   2.8120,  -3.5881,  -7.8211,  -3.1404,   2.2789,  -7.9064,\n",
      "          -7.7225,  -6.4644,  -2.3994,   0.4955,  -8.1847],\n",
      "        [-17.6685, -10.1055,  -2.4199,  -4.0621,  -5.9210,  -3.1859,  -5.2121,\n",
      "          -2.6867,  -1.4805,  -6.8557,  -7.2139,  -3.0572,  -1.6285,  10.0941,\n",
      "          -4.9539,   1.2518,  -9.6298,   0.1457, -10.8940]],\n",
      "       grad_fn=<SliceBackward0>)]\n"
     ]
    }
   ],
   "source": [
    "Y_test_probs = []\n",
    "for sent_nbr, y_test_probs_padded in enumerate(Y_test_probs_padded):\n",
    "    Y_test_probs += [y_test_probs_padded[:len(X_test_cat[sent_nbr])]]\n",
    "print(Y_test_probs[:1])"
   ]
  },
  {
   "cell_type": "markdown",
   "metadata": {},
   "source": [
    "### Convert POS indices to symbols"
   ]
  },
  {
   "cell_type": "code",
   "execution_count": 51,
   "metadata": {},
   "outputs": [
    {
     "name": "stdout",
     "output_type": "stream",
     "text": [
      "[['PRON', 'SCONJ', 'PROPN', 'VERB', 'ADP', 'NOUN', 'PUNCT'], ['PRON', 'SCONJ', 'PROPN', 'VERB', 'ADP', 'PRON', 'NOUN', 'PUNCT', 'NOUN', 'PUNCT', 'CCONJ', 'ADV', 'NOUN', 'PUNCT', 'NOUN', 'ADP', 'DET', 'ADJ', 'PUNCT', 'ADJ', 'NOUN', 'NOUN', 'PUNCT']]\n",
      "[['PRON', 'SCONJ', 'PROPN', 'VERB', 'ADP', 'PROPN', 'PUNCT'], ['PRON', 'SCONJ', 'PROPN', 'VERB', 'ADP', 'PRON', 'NOUN', 'PUNCT', 'NOUN', 'PUNCT', 'CCONJ', 'ADV', 'NOUN', 'PUNCT', 'NOUN', 'ADP', 'DET', 'ADV', 'PUNCT', 'ADJ', 'NOUN', 'NOUN', 'PUNCT']]\n"
     ]
    }
   ],
   "source": [
    "Y_test_cat_hat = []\n",
    "for y_probs in Y_test_probs:\n",
    "    y_idx = list(torch.argmax(y_probs, dim=-1))\n",
    "    y_cat_hat = list(map(lambda x: idx2pos.get(x.item()), y_idx))\n",
    "    Y_test_cat_hat += [y_cat_hat]\n",
    "\n",
    "print(Y_test_cat_hat[:2])\n",
    "print(Y_test_cat[:2])"
   ]
  },
  {
   "cell_type": "markdown",
   "metadata": {},
   "source": [
    "### Evaluate"
   ]
  },
  {
   "cell_type": "code",
   "execution_count": 52,
   "metadata": {},
   "outputs": [
    {
     "name": "stdout",
     "output_type": "stream",
     "text": [
      "total 25456, correct 24107, accuracy 0.947007\n",
      "total unknown 489, correct 307, accuracy 0.627812\n"
     ]
    }
   ],
   "source": [
    "total, correct, total_ukn, correct_ukn = 0, 0, 0, 0\n",
    "for id_s, x_test_cat in enumerate(X_test_cat):\n",
    "    for id_w, word in enumerate(x_test_cat):\n",
    "        total += 1\n",
    "        if Y_test_cat_hat[id_s][id_w] == Y_test_cat[id_s][id_w]:\n",
    "            correct += 1\n",
    "        # The word is not in the dictionary\n",
    "        if word not in word2idx:\n",
    "            total_ukn += 1\n",
    "            if Y_test_cat_hat[id_s][id_w] == Y_test_cat[id_s][id_w]:\n",
    "                correct_ukn += 1\n",
    "\n",
    "print('total %d, correct %d, accuracy %f' % \n",
    "      (total, correct, correct / total))\n",
    "if total_ukn != 0:\n",
    "    print('total unknown %d, correct %d, accuracy %f' % \n",
    "          (total_ukn, correct_ukn, correct_ukn / total_ukn))"
   ]
  },
  {
   "cell_type": "markdown",
   "metadata": {},
   "source": [
    "## Prediction of parts of speech"
   ]
  },
  {
   "cell_type": "code",
   "execution_count": 53,
   "metadata": {},
   "outputs": [],
   "source": [
    "def predict_sentence(sentence, model, word2idx, idx2pos, verbose=False):\n",
    "    # Predict one sentence\n",
    "    sentence = sentence.split()\n",
    "    word_idxs = to_index([sentence], word2idx)\n",
    "    pos_idx_pred = model(word_idxs[0])\n",
    "    pos_idxs = torch.argmax(pos_idx_pred, dim=-1)\n",
    "    pos = list(map(lambda x: idx2pos.get(x.item()), pos_idxs))\n",
    "    if verbose:\n",
    "        print('Sentence', sentence)\n",
    "        print('Sentence word indexes', word_idxs)\n",
    "        #print('Padded sentence', word_idx_padded)\n",
    "        print('POS predicted', pos_idx_pred[0])\n",
    "        print('POS shape', pos_idx_pred.shape)\n",
    "    return pos"
   ]
  },
  {
   "cell_type": "code",
   "execution_count": 54,
   "metadata": {},
   "outputs": [
    {
     "name": "stdout",
     "output_type": "stream",
     "text": [
      "That round table might collapse .\n",
      "['DET', 'ADJ', 'NOUN', 'AUX', 'VERB', 'PUNCT']\n",
      "The man can learn well .\n",
      "['DET', 'NOUN', 'AUX', 'VERB', 'ADV', 'PUNCT']\n",
      "The man can swim .\n",
      "['DET', 'NOUN', 'AUX', 'VERB', 'PUNCT']\n",
      "The man can simwo .\n",
      "['DET', 'NOUN', 'AUX', 'VERB', 'PUNCT']\n"
     ]
    }
   ],
   "source": [
    "sentences = ['That round table might collapse .',\n",
    "                 'The man can learn well .',\n",
    "                 'The man can swim .',\n",
    "                 'The man can simwo .']\n",
    "for sentence in sentences:\n",
    "    y_test_cat_hat = predict_sentence(sentence.lower(), \n",
    "                                       model, word2idx, \n",
    "                                       idx2pos)\n",
    "    print(sentence)\n",
    "    print(y_test_cat_hat)"
   ]
  },
  {
   "cell_type": "code",
   "execution_count": null,
   "metadata": {},
   "outputs": [],
   "source": []
  }
 ],
 "metadata": {
  "kernelspec": {
   "display_name": "Python 3.9.13 ('base')",
   "language": "python",
   "name": "python3"
  },
  "language_info": {
   "codemirror_mode": {
    "name": "ipython",
    "version": 3
   },
   "file_extension": ".py",
   "mimetype": "text/x-python",
   "name": "python",
   "nbconvert_exporter": "python",
   "pygments_lexer": "ipython3",
   "version": "3.9.16"
  },
  "vscode": {
   "interpreter": {
    "hash": "b97b11a820675205aae8f1d7f2a3f22bbd3a2c30189f44042310baf5b4cd1987"
   }
  }
 },
 "nbformat": 4,
 "nbformat_minor": 4
}
