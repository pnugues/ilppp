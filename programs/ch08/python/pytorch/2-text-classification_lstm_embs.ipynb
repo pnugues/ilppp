{
 "cells": [
  {
   "attachments": {},
   "cell_type": "markdown",
   "metadata": {},
   "source": [
    "# Classification with Recurrent Networks\n",
    "__author__: Pierre Nugues\n",
    "\n",
    "In this program, we encode the words with embeddings (GloVe)"
   ]
  },
  {
   "cell_type": "code",
   "execution_count": 1,
   "metadata": {},
   "outputs": [],
   "source": [
    "import matplotlib.pyplot as plt\n",
    "from tqdm import tqdm\n",
    "import random\n",
    "import regex as re\n",
    "\n",
    "from collections import Counter\n",
    "\n",
    "import torch\n",
    "import torch.nn as nn\n",
    "import torch.nn.functional as F\n",
    "from torch.nn.utils.rnn import pad_sequence\n",
    "from torch.utils.data import TensorDataset, DataLoader\n",
    "\n",
    "from torchtext.datasets import IMDB"
   ]
  },
  {
   "cell_type": "code",
   "execution_count": 2,
   "metadata": {},
   "outputs": [
    {
     "data": {
      "text/plain": [
       "<torch._C.Generator at 0x7fb8e053f350>"
      ]
     },
     "execution_count": 2,
     "metadata": {},
     "output_type": "execute_result"
    }
   ],
   "source": [
    "random.seed(1234)\n",
    "torch.manual_seed(1234)"
   ]
  },
  {
   "cell_type": "code",
   "execution_count": 3,
   "metadata": {},
   "outputs": [],
   "source": [
    "MAX_LENGTH = 150\n",
    "EPOCHS = 40\n",
    "LSTM_HIDDEN_DIM = 32\n",
    "LSTM_LAYERS = 1\n",
    "DROPOUT = 0.20\n",
    "EMB_LARGE = False\n",
    "FREEZE_EMBS = True"
   ]
  },
  {
   "cell_type": "markdown",
   "metadata": {},
   "source": [
    "## Embeddings"
   ]
  },
  {
   "cell_type": "markdown",
   "metadata": {},
   "source": [
    "### Reading the embeddings"
   ]
  },
  {
   "cell_type": "code",
   "execution_count": 4,
   "metadata": {},
   "outputs": [],
   "source": [
    "if EMB_LARGE:\n",
    "    embedding_file = '/Users/pierre/Documents/Cours/EDAN20/corpus/glove.6B.100d.txt'\n",
    "    EMBEDDING_DIM = 100\n",
    "else:\n",
    "    embedding_file = '/Users/pierre/Documents/Cours/EDAN20/corpus/glove.6B.50d.txt'\n",
    "    EMBEDDING_DIM = 50"
   ]
  },
  {
   "attachments": {},
   "cell_type": "markdown",
   "metadata": {},
   "source": [
    "The function below that reads GloVe embeddings and store them in a dictionary, where the keys will be the words and the values, the embedding vectors."
   ]
  },
  {
   "cell_type": "code",
   "execution_count": 5,
   "metadata": {},
   "outputs": [],
   "source": [
    "def read_embeddings(file):\n",
    "    \"\"\"\n",
    "    Return the embeddings in the from of a dictionary\n",
    "    :param file:\n",
    "    :return:\n",
    "    \"\"\"\n",
    "    embeddings = {}\n",
    "    glove = open(file, encoding='utf8')\n",
    "    for line in glove:\n",
    "        values = line.strip().split()\n",
    "        word = values[0]\n",
    "        vector = torch.FloatTensor(list(map(float, values[1:])))\n",
    "        embeddings[word] = vector\n",
    "    glove.close()\n",
    "    return embeddings"
   ]
  },
  {
   "cell_type": "code",
   "execution_count": 6,
   "metadata": {},
   "outputs": [],
   "source": [
    "# We read the embeddings\n",
    "embeddings_dict = read_embeddings(embedding_file)\n",
    "embedded_words = sorted(list(embeddings_dict.keys()))"
   ]
  },
  {
   "cell_type": "code",
   "execution_count": 7,
   "metadata": {},
   "outputs": [
    {
     "data": {
      "text/plain": [
       "'# words in embedding dictionary: 400000'"
      ]
     },
     "execution_count": 7,
     "metadata": {},
     "output_type": "execute_result"
    }
   ],
   "source": [
    "'# words in embedding dictionary: {}'.format(len(embedded_words))"
   ]
  },
  {
   "cell_type": "markdown",
   "metadata": {},
   "source": [
    "### Understanding the embeddings"
   ]
  },
  {
   "cell_type": "code",
   "execution_count": 8,
   "metadata": {},
   "outputs": [
    {
     "data": {
      "text/plain": [
       "['chording',\n",
       " 'chordoma',\n",
       " 'chordophones',\n",
       " 'chords',\n",
       " 'chore',\n",
       " 'chorea',\n",
       " 'chorene',\n",
       " 'choreograph',\n",
       " 'choreographed',\n",
       " 'choreographer']"
      ]
     },
     "execution_count": 8,
     "metadata": {},
     "output_type": "execute_result"
    }
   ],
   "source": [
    "embedded_words[100000:100010]"
   ]
  },
  {
   "cell_type": "code",
   "execution_count": 9,
   "metadata": {},
   "outputs": [
    {
     "data": {
      "text/plain": [
       "tensor([-0.4040, -0.0786, -0.2163, -0.2406, -0.2300,  1.0956,  0.9115,  0.7881,\n",
       "        -0.9250,  1.1640, -0.1718,  0.5499, -0.5291,  1.0982, -1.1583, -0.4945,\n",
       "        -0.5830, -0.6904,  0.4173, -0.8306])"
      ]
     },
     "execution_count": 9,
     "metadata": {},
     "output_type": "execute_result"
    }
   ],
   "source": [
    "embeddings_dict['chords'][:20]"
   ]
  },
  {
   "cell_type": "markdown",
   "metadata": {},
   "source": [
    "## Dataset"
   ]
  },
  {
   "attachments": {},
   "cell_type": "markdown",
   "metadata": {},
   "source": [
    "We create iterators for the IMDB dataset. See here for an example: https://pytorch.org/text/stable/datasets.html#text-classification."
   ]
  },
  {
   "cell_type": "code",
   "execution_count": 10,
   "metadata": {},
   "outputs": [],
   "source": [
    "train_iter, test_iter = IMDB(root='imdb')"
   ]
  },
  {
   "cell_type": "code",
   "execution_count": 11,
   "metadata": {},
   "outputs": [],
   "source": [
    "train_list_complete = list(train_iter)\n",
    "test_list = list(test_iter)"
   ]
  },
  {
   "cell_type": "code",
   "execution_count": 12,
   "metadata": {},
   "outputs": [
    {
     "data": {
      "text/plain": [
       "(25000, 25000)"
      ]
     },
     "execution_count": 12,
     "metadata": {},
     "output_type": "execute_result"
    }
   ],
   "source": [
    "len(train_list_complete), len(test_list)"
   ]
  },
  {
   "cell_type": "code",
   "execution_count": 13,
   "metadata": {},
   "outputs": [],
   "source": [
    "random.shuffle(train_list_complete)"
   ]
  },
  {
   "cell_type": "markdown",
   "metadata": {},
   "source": [
    "We extract a validation set from the training set."
   ]
  },
  {
   "cell_type": "code",
   "execution_count": 14,
   "metadata": {},
   "outputs": [],
   "source": [
    "train_list = train_list_complete[:20000]\n",
    "val_list = train_list_complete[-5000:]"
   ]
  },
  {
   "cell_type": "code",
   "execution_count": 15,
   "metadata": {},
   "outputs": [
    {
     "data": {
      "text/plain": [
       "[(1,\n",
       "  \"David Mamet is a very interesting and a very un-equal director. His first movie 'House of Games' was the one I liked best, and it set a series of films with characters whose perspective of life changes as they get into complicated situations, and so does the perspective of the viewer.<br /><br />So is 'Homicide' which from the title tries to set the mind of the viewer to the usual crime drama. The principal characters are two cops, one Jewish and one Irish who deal with a racially charged area. The murder of an old Jewish shop owner who proves to be an ancient veteran of the Israeli Independence war triggers the Jewish identity in the mind and heart of the Jewish detective.<br /><br />This is were the flaws of the film are the more obvious. The process of awakening is theatrical and hard to believe, the group of Jewish militants is operatic, and the way the detective eventually walks to the final violent confrontation is pathetic. The end of the film itself is Mamet-like smart, but disappoints from a human emotional perspective.<br /><br />Joe Mantegna and William Macy give strong performances, but the flaws of the story are too evident to be easily compensated.\"),\n",
       " (1,\n",
       "  'not to long after Jeff Jarrett left the WWF for good he spoke of that night . Owen Hart and him where good friends and both 2nd generation wrestlers. Jeff first remarks \"I was literally pushed thru the curtain as my lifeless friends body was wheeled past me \" . Debra McMichael( Steve Austin\\'s Ex wife as well as Steve Mondo McMichael Ex wife\".) <br /><br />As Owen Hart Fell, a video promo the ring was darkened, as a Blue Blazer (owen Hart Promo was played. The fall and video of owen in the ring was never showed on TV. There are a few news photos that got posted. When they came back from the video promo Jim ross was talking over a all we had was a crowd shot \\\\., He stated that Owen Hart as The blue blazer has fallen and doesn\\'t look good. Lawler then came back from the ring his face was ashen he told Jim that the situation was very critical paramedics where working hard to revive him. Rock And HHH where going there match in a private room when another Referee came in and told them Owen fell at first,knowing Owen Harts constantly being a prankster they thought it wasn\\'t real. But both later stated that the look of the referee face said it all. In fact as he fell ,as mentioned in other post , he yelled for the referee and ring announcer to move. <br /><br />Brother Bret hart was a plane heading to LA to do a angle on the Tonight Show , he couldn\\'t get any of the plane phones to work, One of the captains got a message to call home something had happened. When he landed in La Eric bishoff was there told him what had happened, and put him on a charter flight to Kansas City to the morgue, Bret even later with Owens widow Martha went up to the top of the arena where Owen was standing. Police found no foul play formerly closed as a accident .<br /><br />Most of the Information in Bret Harts book as well as the book by Martha Hart ,'),\n",
       " (2,\n",
       "  'John Waters has given us a genuinely enjoyable film. This certainly isn\\'t without its shocking Waters-esque moments, but it is tamer than his older culty stuff, such as \"Pink Flamingoes\". \"Pecker\" harkens back to John\\'s early mainstream stage in that it reminds the viewer of the same kind of humor that was evident in \"Polyester\". Overall, a really fun comedy with some great moments!')]"
      ]
     },
     "execution_count": 15,
     "metadata": {},
     "output_type": "execute_result"
    }
   ],
   "source": [
    "train_list[:3]"
   ]
  },
  {
   "cell_type": "markdown",
   "metadata": {},
   "source": [
    "We create a tokenizer"
   ]
  },
  {
   "cell_type": "code",
   "execution_count": 16,
   "metadata": {},
   "outputs": [],
   "source": [
    "def tokenize(text, lc=True):\n",
    "    if lc:\n",
    "        return re.findall('\\p{L}+', text.lower())\n",
    "    else:\n",
    "        return re.findall('\\p{L}+', text)"
   ]
  },
  {
   "attachments": {},
   "cell_type": "markdown",
   "metadata": {},
   "source": [
    "We extract the inputs and outputs and we set the first class to 0 and the second to 1 as requested by PyTorch: https://pytorch.org/docs/stable/generated/torch.nn.CrossEntropyLoss.html"
   ]
  },
  {
   "cell_type": "code",
   "execution_count": 17,
   "metadata": {},
   "outputs": [],
   "source": [
    "def extract_io(dataset_list):\n",
    "    y, corpus = zip(*dataset_list)\n",
    "    y = [item - 1 for item in y]\n",
    "    corpus = list(map(tokenize, corpus))\n",
    "    return y, corpus"
   ]
  },
  {
   "cell_type": "code",
   "execution_count": 18,
   "metadata": {},
   "outputs": [],
   "source": [
    "y_train, train_corpus = extract_io(train_list)\n",
    "y_val, val_corpus = extract_io(val_list)\n",
    "y_test, test_corpus = extract_io(test_list)"
   ]
  },
  {
   "cell_type": "code",
   "execution_count": 19,
   "metadata": {},
   "outputs": [
    {
     "data": {
      "text/plain": [
       "(20000, 20000)"
      ]
     },
     "execution_count": 19,
     "metadata": {},
     "output_type": "execute_result"
    }
   ],
   "source": [
    "len(train_corpus), len(y_train)"
   ]
  },
  {
   "cell_type": "code",
   "execution_count": 20,
   "metadata": {},
   "outputs": [
    {
     "data": {
      "text/plain": [
       "(5000, 5000)"
      ]
     },
     "execution_count": 20,
     "metadata": {},
     "output_type": "execute_result"
    }
   ],
   "source": [
    "len(val_corpus), len(y_val)"
   ]
  },
  {
   "cell_type": "code",
   "execution_count": 21,
   "metadata": {},
   "outputs": [
    {
     "data": {
      "text/plain": [
       "(25000, 25000)"
      ]
     },
     "execution_count": 21,
     "metadata": {},
     "output_type": "execute_result"
    }
   ],
   "source": [
    "len(test_corpus), len(y_test)"
   ]
  },
  {
   "cell_type": "code",
   "execution_count": 22,
   "metadata": {},
   "outputs": [
    {
     "data": {
      "text/plain": [
       "Counter({0: 10024, 1: 9976})"
      ]
     },
     "execution_count": 22,
     "metadata": {},
     "output_type": "execute_result"
    }
   ],
   "source": [
    "train_label_cnt = Counter(y_train)\n",
    "train_label_cnt"
   ]
  },
  {
   "cell_type": "code",
   "execution_count": 23,
   "metadata": {},
   "outputs": [
    {
     "data": {
      "text/plain": [
       "Counter({0: 12500, 1: 12500})"
      ]
     },
     "execution_count": 23,
     "metadata": {},
     "output_type": "execute_result"
    }
   ],
   "source": [
    "test_label_cnt = Counter(y_test)\n",
    "test_label_cnt"
   ]
  },
  {
   "cell_type": "markdown",
   "metadata": {},
   "source": [
    "## Vocabulary"
   ]
  },
  {
   "cell_type": "code",
   "execution_count": 24,
   "metadata": {},
   "outputs": [],
   "source": [
    "full_text_train = [word for text in train_corpus for word in text]"
   ]
  },
  {
   "cell_type": "code",
   "execution_count": 25,
   "metadata": {},
   "outputs": [],
   "source": [
    "voc_train_all = list(set(full_text_train))"
   ]
  },
  {
   "cell_type": "code",
   "execution_count": 26,
   "metadata": {},
   "outputs": [
    {
     "data": {
      "text/plain": [
       "67136"
      ]
     },
     "execution_count": 26,
     "metadata": {},
     "output_type": "execute_result"
    }
   ],
   "source": [
    "len(voc_train_all)"
   ]
  },
  {
   "cell_type": "code",
   "execution_count": 27,
   "metadata": {},
   "outputs": [],
   "source": [
    "cnt_words = Counter(full_text_train)"
   ]
  },
  {
   "cell_type": "code",
   "execution_count": 28,
   "metadata": {},
   "outputs": [],
   "source": [
    "voc_train = voc_train_all"
   ]
  },
  {
   "cell_type": "code",
   "execution_count": 29,
   "metadata": {},
   "outputs": [],
   "source": [
    "vocabulary_words = sorted(list(set(embedded_words + voc_train)))"
   ]
  },
  {
   "cell_type": "code",
   "execution_count": 30,
   "metadata": {},
   "outputs": [
    {
     "name": "stdout",
     "output_type": "stream",
     "text": [
      "# words in the vocabulary: embeddings and corpus: 411324\n"
     ]
    }
   ],
   "source": [
    "print('# words in the vocabulary: embeddings and corpus:', len(vocabulary_words))"
   ]
  },
  {
   "attachments": {},
   "cell_type": "markdown",
   "metadata": {},
   "source": [
    "We reserve pad and unk"
   ]
  },
  {
   "cell_type": "code",
   "execution_count": 31,
   "metadata": {},
   "outputs": [],
   "source": [
    "idx2word = {k: v for k, v in enumerate(vocabulary_words, start=2)}\n",
    "word2idx = {v: k for k, v in idx2word.items()}"
   ]
  },
  {
   "cell_type": "markdown",
   "metadata": {},
   "source": [
    "## Embedding Matrix"
   ]
  },
  {
   "attachments": {},
   "cell_type": "markdown",
   "metadata": {},
   "source": [
    "We create a torch matrix of dimensions $(M, N)$, where $M$ will be the size of the vocabulary: The unique words in the training set and the words in GloVe, and $N$, the dimension of the embeddings.\n",
    "The padding symbol and the unknown word symbol will be part of the vocabulary at respectively index 0 and 1. \n",
    "\n",
    "We initialize the matrix with random values with the `torch.rand()`"
   ]
  },
  {
   "cell_type": "code",
   "execution_count": 32,
   "metadata": {},
   "outputs": [],
   "source": [
    "# We add two dimensions for the padding symbol at index 0 and unknown words at index 1\n",
    "embedding_matrix = torch.rand((len(vocabulary_words) + 2, EMBEDDING_DIM))/10 - 0.05 # range: -0.05, 0.05, \n",
    "# embedding_matrix = torch.rand((len(vocabulary_words) + 2, EMBEDDING_DIM))\n",
    "# embedding_matrix = torch.zeros((len(vocabulary_words) + 2, EMBEDDING_DIM))"
   ]
  },
  {
   "attachments": {},
   "cell_type": "markdown",
   "metadata": {},
   "source": [
    "The shape of the matrix is: (411326, 100) or (411326, 50)"
   ]
  },
  {
   "cell_type": "code",
   "execution_count": 33,
   "metadata": {},
   "outputs": [
    {
     "data": {
      "text/plain": [
       "torch.Size([411326, 50])"
      ]
     },
     "execution_count": 33,
     "metadata": {},
     "output_type": "execute_result"
    }
   ],
   "source": [
    "embedding_matrix.shape"
   ]
  },
  {
   "attachments": {},
   "cell_type": "markdown",
   "metadata": {},
   "source": [
    "We fill the matrix with the GloVe embeddings when available. This means: We replace the random vector with an embedding when available. We will use the indices from the previous section. We call `out_of_embeddings` the list of words in CoNLL, but not in the embedding list."
   ]
  },
  {
   "cell_type": "code",
   "execution_count": 34,
   "metadata": {},
   "outputs": [],
   "source": [
    "out_of_embeddings = []\n",
    "for word in vocabulary_words:\n",
    "    if word in embeddings_dict:\n",
    "        # If the words are in the embeddings, we fill them with a value\n",
    "        embedding_matrix[word2idx[word]] = embeddings_dict[word]\n",
    "    else:\n",
    "        # Otherwise, it keeps a random value in the matrix\n",
    "        # We store the out of vocabulary words\n",
    "        out_of_embeddings += [word]"
   ]
  },
  {
   "cell_type": "code",
   "execution_count": 35,
   "metadata": {},
   "outputs": [
    {
     "data": {
      "text/plain": [
       "11324"
      ]
     },
     "execution_count": 35,
     "metadata": {},
     "output_type": "execute_result"
    }
   ],
   "source": [
    "len(out_of_embeddings)"
   ]
  },
  {
   "cell_type": "code",
   "execution_count": 36,
   "metadata": {},
   "outputs": [
    {
     "data": {
      "text/plain": [
       "['äänekoski',\n",
       " 'æsthetic',\n",
       " 'ème',\n",
       " 'écran',\n",
       " 'éme',\n",
       " 'étc',\n",
       " 'évery',\n",
       " 'ísnt',\n",
       " 'østbye',\n",
       " 'üvegtigris']"
      ]
     },
     "execution_count": 36,
     "metadata": {},
     "output_type": "execute_result"
    }
   ],
   "source": [
    "out_of_embeddings[-10:]"
   ]
  },
  {
   "cell_type": "markdown",
   "metadata": {},
   "source": [
    "Embeddings of the padding symbol, idx 0, random numbers"
   ]
  },
  {
   "cell_type": "code",
   "execution_count": 37,
   "metadata": {},
   "outputs": [
    {
     "data": {
      "text/plain": [
       "tensor([-0.0471, -0.0098, -0.0240, -0.0133, -0.0442,  0.0201, -0.0448, -0.0032,\n",
       "         0.0174, -0.0169])"
      ]
     },
     "execution_count": 37,
     "metadata": {},
     "output_type": "execute_result"
    }
   ],
   "source": [
    "embedding_matrix[0][:10]"
   ]
  },
  {
   "cell_type": "markdown",
   "metadata": {},
   "source": [
    "Embeddings of the word _table_, the GloVe values"
   ]
  },
  {
   "cell_type": "code",
   "execution_count": 38,
   "metadata": {},
   "outputs": [
    {
     "data": {
      "text/plain": [
       "tensor([-0.3666,  1.0584, -0.6538,  0.1767,  1.0605, -0.7254, -0.0097,  0.0797,\n",
       "        -0.4649, -0.7435])"
      ]
     },
     "execution_count": 38,
     "metadata": {},
     "output_type": "execute_result"
    }
   ],
   "source": [
    "embedding_matrix[word2idx['table']][:10]"
   ]
  },
  {
   "attachments": {},
   "cell_type": "markdown",
   "metadata": {},
   "source": [
    "Embeddings of _äänekoski_, a word in IMDB, but not in GloVe, random numbers"
   ]
  },
  {
   "cell_type": "code",
   "execution_count": 39,
   "metadata": {},
   "outputs": [
    {
     "data": {
      "text/plain": [
       "tensor([-0.0145,  0.0470,  0.0328, -0.0477, -0.0344, -0.0359,  0.0459, -0.0239,\n",
       "         0.0144,  0.0195])"
      ]
     },
     "execution_count": 39,
     "metadata": {},
     "output_type": "execute_result"
    }
   ],
   "source": [
    "embedding_matrix[word2idx['äänekoski']][:10]"
   ]
  },
  {
   "attachments": {},
   "cell_type": "markdown",
   "metadata": {},
   "source": [
    "## Word Indices\n",
    "We format the dataset"
   ]
  },
  {
   "cell_type": "code",
   "execution_count": 40,
   "metadata": {},
   "outputs": [],
   "source": [
    "X_train_idx = [torch.LongTensor(list(map(lambda x: word2idx.get(x, 1), text[:MAX_LENGTH]))) \n",
    "               for text in train_corpus]\n",
    "X_val_idx = [torch.LongTensor(list(map(lambda x: word2idx.get(x, 1), text[:MAX_LENGTH]))) \n",
    "               for text in val_corpus]\n",
    "X_test_idx = [torch.LongTensor(list(map(lambda x: word2idx.get(x, 1), text[:MAX_LENGTH]))) \n",
    "               for text in test_corpus]"
   ]
  },
  {
   "cell_type": "code",
   "execution_count": 41,
   "metadata": {},
   "outputs": [
    {
     "data": {
      "text/plain": [
       "[tensor([120073, 238501, 198029,  43011, 388600, 196292,  55048,  43011, 388600,\n",
       "         380887, 141760, 127399, 184011, 152461, 257647, 187104, 275086, 160950,\n",
       "         394352, 367089, 277035, 190256, 228233,  75331,  55048, 198789, 334599,\n",
       "          43011, 334237, 275086, 151802, 399711,  98692, 397907, 289352, 275086,\n",
       "         227889,  98379,  61225, 367667, 164342, 196829, 108342, 342133,  55048,\n",
       "         345177, 129589, 367089, 289352, 275086, 367089, 389446,  83676,  83676,\n",
       "         345177, 198029, 185713, 397395, 158078, 367089, 370572, 375259, 370895,\n",
       "         334599, 367089, 251368, 275086, 367089, 389446, 370895, 367089, 384927,\n",
       "         114011, 131796, 367089, 300114,  98692,  59486, 378535, 110940, 277035,\n",
       "         202477,  55048, 277035, 197750, 397822, 120624, 399711,  43011, 306500,\n",
       "          98770,  59488, 367089, 259892, 275086,  54592, 276131, 202477, 338466,\n",
       "         281352, 397822, 301829, 370895,  71932,  54592,  55016, 388727, 275086,\n",
       "         367089, 198624, 193996, 393961, 375315, 367089, 202477, 191217, 193367,\n",
       "         367089, 251368,  55048, 179878, 275086, 367089, 202477, 124682,  83676,\n",
       "          83676, 368040, 198029, 396548, 367089, 153378, 275086, 367089, 151740,\n",
       "          59486, 367089, 256276, 274373, 367089, 300596, 275086,  64948, 198029,\n",
       "         367124,  55048, 177609, 370895,  73373, 367089]),\n",
       " tensor([271487, 370895, 231122,  47947, 201808, 201061, 225267, 367089, 401960,\n",
       "         154996, 168395, 179618, 349099, 275086, 367033, 268022, 281319, 178240,\n",
       "          55048, 183526, 397353, 168395, 157798,  55048,  82770, 264779, 163329,\n",
       "         401419, 201808, 152461, 313277, 190256, 394352, 229487, 303570, 368740,\n",
       "         367089, 116248,  61225, 260964, 227937, 157798,  80501, 394352, 397300,\n",
       "         285769, 245359, 120890, 245053, 352375,  64039, 322747, 145412, 398314,\n",
       "          61225, 396093,  61225, 352375, 254953, 245053, 145412, 398314,  83676,\n",
       "          83676,  61225, 281319, 178240, 150072,  43011, 389212, 301138, 367089,\n",
       "         317093, 394352, 119490,  61225,  43011,  79760,  79084, 281319, 178240,\n",
       "         301138, 394352, 293943, 367089, 147910,  55048, 389212, 275086, 281319,\n",
       "         193367, 367089, 317093, 394352, 266747, 338846, 276878, 378173, 367488,\n",
       "          59486,  43011, 150956, 266981, 291161, 367033, 169033, 297315, 397344,\n",
       "         367667,  91687,  66386, 158078, 367089, 389212, 301138, 202913, 319933,\n",
       "         394352, 361897, 280586,  43011,  51816, 395232, 175010, 394352,  43011,\n",
       "         114779, 338694, 179618, 351292, 367033, 281319, 178240,  61225, 367089,\n",
       "          79760,  79084, 178423, 147932,  55048, 129593, 360421, 231471, 168395,\n",
       "         224229, 367249,  91687,  66386, 158078, 367089]),\n",
       " tensor([203615, 394740, 178423, 166053, 384556,  43011, 163609, 140676, 151740,\n",
       "         368040,  97230, 198463, 360421, 399756, 199000, 338271, 394740, 143052,\n",
       "         254765,  89177, 198789, 198029, 362158, 366927, 184011, 276158, 115834,\n",
       "         354617, 355828,  61225, 292570, 153111, 287130, 177923,  66386, 370895,\n",
       "         203615, 322747, 135381, 237149, 350432, 193367, 367033, 198789, 313353,\n",
       "         367089, 389446, 275086, 367089, 325420, 213113, 275086, 188754, 367033,\n",
       "         394352, 145246, 193367, 295767, 280658,  43011, 310376, 158967, 107593,\n",
       "         399711, 346358, 170511, 254765])]"
      ]
     },
     "execution_count": 41,
     "metadata": {},
     "output_type": "execute_result"
    }
   ],
   "source": [
    "X_train_idx[:3]"
   ]
  },
  {
   "cell_type": "code",
   "execution_count": 42,
   "metadata": {},
   "outputs": [],
   "source": [
    "X_train_idx_padded = pad_sequence(X_train_idx, batch_first=True)\n",
    "X_val_idx_padded = pad_sequence(X_val_idx, batch_first=True)\n",
    "X_test_idx_padded = pad_sequence(X_test_idx, batch_first=True)"
   ]
  },
  {
   "cell_type": "code",
   "execution_count": 43,
   "metadata": {},
   "outputs": [
    {
     "data": {
      "text/plain": [
       "tensor([[120073, 238501, 198029,  43011, 388600, 196292,  55048,  43011, 388600,\n",
       "         380887, 141760, 127399, 184011, 152461, 257647, 187104, 275086, 160950,\n",
       "         394352, 367089, 277035, 190256, 228233,  75331,  55048, 198789, 334599,\n",
       "          43011, 334237, 275086, 151802, 399711,  98692, 397907, 289352, 275086,\n",
       "         227889,  98379,  61225, 367667, 164342, 196829, 108342, 342133,  55048,\n",
       "         345177, 129589, 367089, 289352, 275086, 367089, 389446,  83676,  83676,\n",
       "         345177, 198029, 185713, 397395, 158078, 367089, 370572, 375259, 370895,\n",
       "         334599, 367089, 251368, 275086, 367089, 389446, 370895, 367089, 384927,\n",
       "         114011, 131796, 367089, 300114,  98692,  59486, 378535, 110940, 277035,\n",
       "         202477,  55048, 277035, 197750, 397822, 120624, 399711,  43011, 306500,\n",
       "          98770,  59488, 367089, 259892, 275086,  54592, 276131, 202477, 338466,\n",
       "         281352, 397822, 301829, 370895,  71932,  54592,  55016, 388727, 275086,\n",
       "         367089, 198624, 193996, 393961, 375315, 367089, 202477, 191217, 193367,\n",
       "         367089, 251368,  55048, 179878, 275086, 367089, 202477, 124682,  83676,\n",
       "          83676, 368040, 198029, 396548, 367089, 153378, 275086, 367089, 151740,\n",
       "          59486, 367089, 256276, 274373, 367089, 300596, 275086,  64948, 198029,\n",
       "         367124,  55048, 177609, 370895,  73373, 367089],\n",
       "        [271487, 370895, 231122,  47947, 201808, 201061, 225267, 367089, 401960,\n",
       "         154996, 168395, 179618, 349099, 275086, 367033, 268022, 281319, 178240,\n",
       "          55048, 183526, 397353, 168395, 157798,  55048,  82770, 264779, 163329,\n",
       "         401419, 201808, 152461, 313277, 190256, 394352, 229487, 303570, 368740,\n",
       "         367089, 116248,  61225, 260964, 227937, 157798,  80501, 394352, 397300,\n",
       "         285769, 245359, 120890, 245053, 352375,  64039, 322747, 145412, 398314,\n",
       "          61225, 396093,  61225, 352375, 254953, 245053, 145412, 398314,  83676,\n",
       "          83676,  61225, 281319, 178240, 150072,  43011, 389212, 301138, 367089,\n",
       "         317093, 394352, 119490,  61225,  43011,  79760,  79084, 281319, 178240,\n",
       "         301138, 394352, 293943, 367089, 147910,  55048, 389212, 275086, 281319,\n",
       "         193367, 367089, 317093, 394352, 266747, 338846, 276878, 378173, 367488,\n",
       "          59486,  43011, 150956, 266981, 291161, 367033, 169033, 297315, 397344,\n",
       "         367667,  91687,  66386, 158078, 367089, 389212, 301138, 202913, 319933,\n",
       "         394352, 361897, 280586,  43011,  51816, 395232, 175010, 394352,  43011,\n",
       "         114779, 338694, 179618, 351292, 367033, 281319, 178240,  61225, 367089,\n",
       "          79760,  79084, 178423, 147932,  55048, 129593, 360421, 231471, 168395,\n",
       "         224229, 367249,  91687,  66386, 158078, 367089],\n",
       "        [203615, 394740, 178423, 166053, 384556,  43011, 163609, 140676, 151740,\n",
       "         368040,  97230, 198463, 360421, 399756, 199000, 338271, 394740, 143052,\n",
       "         254765,  89177, 198789, 198029, 362158, 366927, 184011, 276158, 115834,\n",
       "         354617, 355828,  61225, 292570, 153111, 287130, 177923,  66386, 370895,\n",
       "         203615, 322747, 135381, 237149, 350432, 193367, 367033, 198789, 313353,\n",
       "         367089, 389446, 275086, 367089, 325420, 213113, 275086, 188754, 367033,\n",
       "         394352, 145246, 193367, 295767, 280658,  43011, 310376, 158967, 107593,\n",
       "         399711, 346358, 170511, 254765,      0,      0,      0,      0,      0,\n",
       "              0,      0,      0,      0,      0,      0,      0,      0,      0,\n",
       "              0,      0,      0,      0,      0,      0,      0,      0,      0,\n",
       "              0,      0,      0,      0,      0,      0,      0,      0,      0,\n",
       "              0,      0,      0,      0,      0,      0,      0,      0,      0,\n",
       "              0,      0,      0,      0,      0,      0,      0,      0,      0,\n",
       "              0,      0,      0,      0,      0,      0,      0,      0,      0,\n",
       "              0,      0,      0,      0,      0,      0,      0,      0,      0,\n",
       "              0,      0,      0,      0,      0,      0,      0,      0,      0,\n",
       "              0,      0,      0,      0,      0,      0]])"
      ]
     },
     "execution_count": 43,
     "metadata": {},
     "output_type": "execute_result"
    }
   ],
   "source": [
    "X_train_idx_padded[:3]"
   ]
  },
  {
   "cell_type": "markdown",
   "metadata": {},
   "source": [
    "## Model"
   ]
  },
  {
   "cell_type": "code",
   "execution_count": 44,
   "metadata": {},
   "outputs": [],
   "source": [
    "class Model(nn.Module):\n",
    "\n",
    "    def __init__(self, embedding_matrix, lstm_units, nbr_classes, freeze_embs=True, num_layers=1, bidi_lstm=False):\n",
    "        super().__init__()\n",
    "        embedding_dim = embedding_matrix.size()[-1]\n",
    "        self.embeddings = nn.Embedding.from_pretrained(embedding_matrix, freeze=freeze_embs, padding_idx=0)\n",
    "        self.dropout = nn.Dropout(DROPOUT)\n",
    "        self.lstm = nn.LSTM(embedding_dim, lstm_units, num_layers=num_layers, \n",
    "                            dropout=DROPOUT, batch_first=True, bidirectional=bidi_lstm)\n",
    "        if not bidi_lstm:\n",
    "            self.fc = nn.Linear(lstm_units, nbr_classes)\n",
    "        else:\n",
    "            # twice the units if bidirectional \n",
    "            self.fc = nn.Linear(2*lstm_units, nbr_classes)\n",
    "\n",
    "    def forward(self, sentence):\n",
    "        embeds = self.embeddings(sentence)\n",
    "        embeds = self.dropout(embeds)\n",
    "        lstm_out, (h_n, c_n) = self.lstm(embeds)\n",
    "        lstm_last = F.relu(h_n[-1])\n",
    "        lstm_last = self.dropout(lstm_last)\n",
    "        logits = self.fc(lstm_last)\n",
    "        return logits"
   ]
  },
  {
   "cell_type": "code",
   "execution_count": 45,
   "metadata": {},
   "outputs": [
    {
     "name": "stderr",
     "output_type": "stream",
     "text": [
      "/Users/pierre/opt/anaconda3/lib/python3.9/site-packages/torch/nn/modules/rnn.py:71: UserWarning: dropout option adds dropout after all but last recurrent layer, so non-zero dropout expects num_layers greater than 1, but got dropout=0.2 and num_layers=1\n",
      "  warnings.warn(\"dropout option adds dropout after all but last \"\n"
     ]
    }
   ],
   "source": [
    "model = Model(embedding_matrix, LSTM_HIDDEN_DIM, \n",
    "              2, \n",
    "              freeze_embs=FREEZE_EMBS,\n",
    "              num_layers=LSTM_LAYERS, \n",
    "              bidi_lstm=False)"
   ]
  },
  {
   "cell_type": "code",
   "execution_count": 46,
   "metadata": {},
   "outputs": [],
   "source": [
    "loss_fn = nn.CrossEntropyLoss()    # cross entropy loss\n",
    "optimizer = torch.optim.RMSprop(model.parameters(), lr=0.001)"
   ]
  },
  {
   "cell_type": "markdown",
   "metadata": {},
   "source": [
    "## Torch Datasets\n",
    "We create the torch datasets"
   ]
  },
  {
   "cell_type": "code",
   "execution_count": 47,
   "metadata": {},
   "outputs": [],
   "source": [
    "X_train = torch.LongTensor(X_train_idx_padded)\n",
    "y_train = torch.LongTensor(y_train)\n",
    "\n",
    "X_val = torch.LongTensor(X_val_idx_padded)\n",
    "y_val = torch.LongTensor(y_val)\n",
    "\n",
    "X_test = torch.LongTensor(X_test_idx_padded)\n",
    "y_test = torch.LongTensor(y_test)"
   ]
  },
  {
   "cell_type": "code",
   "execution_count": 48,
   "metadata": {},
   "outputs": [
    {
     "data": {
      "text/plain": [
       "torch.Size([150])"
      ]
     },
     "execution_count": 48,
     "metadata": {},
     "output_type": "execute_result"
    }
   ],
   "source": [
    "X_train[0].size()"
   ]
  },
  {
   "cell_type": "code",
   "execution_count": 49,
   "metadata": {},
   "outputs": [],
   "source": [
    "dataset = TensorDataset(X_train, y_train)\n",
    "dataloader = DataLoader(dataset, batch_size=32, shuffle=True)"
   ]
  },
  {
   "cell_type": "code",
   "execution_count": 50,
   "metadata": {},
   "outputs": [
    {
     "data": {
      "text/plain": [
       "torch.Size([20000])"
      ]
     },
     "execution_count": 50,
     "metadata": {},
     "output_type": "execute_result"
    }
   ],
   "source": [
    "y_train.size()"
   ]
  },
  {
   "cell_type": "code",
   "execution_count": 51,
   "metadata": {},
   "outputs": [],
   "source": [
    "def batch_inference(model, X, batchsize=2048):\n",
    "    with torch.no_grad():\n",
    "        partial = []\n",
    "        for i in range(0, X.shape[0], batchsize):\n",
    "            partial.append(model(X[i:i+batchsize]))\n",
    "    \n",
    "    return torch.vstack(partial)"
   ]
  },
  {
   "cell_type": "code",
   "execution_count": 52,
   "metadata": {},
   "outputs": [
    {
     "data": {
      "text/plain": [
       "tensor([[120073, 238501, 198029,  43011, 388600, 196292,  55048,  43011, 388600,\n",
       "         380887, 141760, 127399, 184011, 152461, 257647, 187104, 275086, 160950,\n",
       "         394352, 367089, 277035, 190256, 228233,  75331,  55048, 198789, 334599,\n",
       "          43011, 334237, 275086, 151802, 399711,  98692, 397907, 289352, 275086,\n",
       "         227889,  98379,  61225, 367667, 164342, 196829, 108342, 342133,  55048,\n",
       "         345177, 129589, 367089, 289352, 275086, 367089, 389446,  83676,  83676,\n",
       "         345177, 198029, 185713, 397395, 158078, 367089, 370572, 375259, 370895,\n",
       "         334599, 367089, 251368, 275086, 367089, 389446, 370895, 367089, 384927,\n",
       "         114011, 131796, 367089, 300114,  98692,  59486, 378535, 110940, 277035,\n",
       "         202477,  55048, 277035, 197750, 397822, 120624, 399711,  43011, 306500,\n",
       "          98770,  59488, 367089, 259892, 275086,  54592, 276131, 202477, 338466,\n",
       "         281352, 397822, 301829, 370895,  71932,  54592,  55016, 388727, 275086,\n",
       "         367089, 198624, 193996, 393961, 375315, 367089, 202477, 191217, 193367,\n",
       "         367089, 251368,  55048, 179878, 275086, 367089, 202477, 124682,  83676,\n",
       "          83676, 368040, 198029, 396548, 367089, 153378, 275086, 367089, 151740,\n",
       "          59486, 367089, 256276, 274373, 367089, 300596, 275086,  64948, 198029,\n",
       "         367124,  55048, 177609, 370895,  73373, 367089]])"
      ]
     },
     "execution_count": 52,
     "metadata": {},
     "output_type": "execute_result"
    }
   ],
   "source": [
    "X_train[:1]"
   ]
  },
  {
   "cell_type": "code",
   "execution_count": 53,
   "metadata": {},
   "outputs": [
    {
     "data": {
      "text/plain": [
       "tensor([[0.0315, 0.0853],\n",
       "        [0.1186, 0.0367]], grad_fn=<AddmmBackward0>)"
      ]
     },
     "execution_count": 53,
     "metadata": {},
     "output_type": "execute_result"
    }
   ],
   "source": [
    "model(X_train[:2])"
   ]
  },
  {
   "cell_type": "code",
   "execution_count": 54,
   "metadata": {},
   "outputs": [],
   "source": [
    "#y_train_pred = batch_inference(model, X_train)"
   ]
  },
  {
   "cell_type": "markdown",
   "metadata": {},
   "source": [
    "## Fitting\n",
    "We fit the model"
   ]
  },
  {
   "cell_type": "code",
   "execution_count": 55,
   "metadata": {},
   "outputs": [],
   "source": [
    "history = {}\n",
    "history['accuracy'] = []\n",
    "history['loss'] = []\n",
    "history['val_accuracy'] = []\n",
    "history['val_loss'] = []"
   ]
  },
  {
   "cell_type": "code",
   "execution_count": 56,
   "metadata": {},
   "outputs": [
    {
     "name": "stderr",
     "output_type": "stream",
     "text": [
      "100%|██████████| 625/625 [00:03<00:00, 168.78it/s]\n",
      "100%|██████████| 625/625 [00:04<00:00, 149.33it/s]\n",
      "100%|██████████| 625/625 [00:03<00:00, 160.21it/s]\n",
      "100%|██████████| 625/625 [00:03<00:00, 162.55it/s]\n",
      "100%|██████████| 625/625 [00:04<00:00, 145.89it/s]\n",
      "100%|██████████| 625/625 [00:04<00:00, 155.17it/s]\n",
      "100%|██████████| 625/625 [00:04<00:00, 148.31it/s]\n",
      "100%|██████████| 625/625 [00:04<00:00, 151.30it/s]\n",
      "100%|██████████| 625/625 [00:04<00:00, 143.67it/s]\n",
      "100%|██████████| 625/625 [00:04<00:00, 145.80it/s]\n",
      "100%|██████████| 625/625 [00:04<00:00, 146.03it/s]\n",
      "100%|██████████| 625/625 [00:04<00:00, 133.91it/s]\n",
      "100%|██████████| 625/625 [00:04<00:00, 128.69it/s]\n",
      "100%|██████████| 625/625 [00:04<00:00, 125.52it/s]\n",
      "100%|██████████| 625/625 [00:05<00:00, 123.70it/s]\n",
      "100%|██████████| 625/625 [00:05<00:00, 120.44it/s]\n",
      "100%|██████████| 625/625 [00:06<00:00, 101.89it/s]\n",
      "100%|██████████| 625/625 [00:06<00:00, 95.07it/s] \n",
      "100%|██████████| 625/625 [00:06<00:00, 91.26it/s]\n",
      "100%|██████████| 625/625 [00:06<00:00, 90.99it/s]\n",
      "100%|██████████| 625/625 [00:06<00:00, 93.99it/s] \n",
      "100%|██████████| 625/625 [00:06<00:00, 101.91it/s]\n",
      "100%|██████████| 625/625 [00:05<00:00, 111.49it/s]\n",
      "100%|██████████| 625/625 [00:05<00:00, 105.48it/s]\n",
      "100%|██████████| 625/625 [00:06<00:00, 101.48it/s]\n",
      "100%|██████████| 625/625 [00:06<00:00, 102.03it/s]\n",
      "100%|██████████| 625/625 [00:05<00:00, 108.91it/s]\n",
      "100%|██████████| 625/625 [00:06<00:00, 100.31it/s]\n",
      "100%|██████████| 625/625 [00:06<00:00, 102.06it/s]\n",
      "100%|██████████| 625/625 [00:06<00:00, 102.55it/s]\n",
      "100%|██████████| 625/625 [00:06<00:00, 103.21it/s]\n",
      "100%|██████████| 625/625 [00:06<00:00, 100.95it/s]\n",
      "100%|██████████| 625/625 [00:06<00:00, 102.73it/s]\n",
      "100%|██████████| 625/625 [00:06<00:00, 102.69it/s]\n",
      "100%|██████████| 625/625 [00:06<00:00, 93.42it/s] \n",
      "100%|██████████| 625/625 [00:06<00:00, 89.65it/s] \n",
      "100%|██████████| 625/625 [00:06<00:00, 91.94it/s] \n",
      "100%|██████████| 625/625 [00:06<00:00, 95.24it/s] \n",
      "100%|██████████| 625/625 [00:06<00:00, 92.90it/s] \n",
      "100%|██████████| 625/625 [00:05<00:00, 109.88it/s]\n"
     ]
    }
   ],
   "source": [
    "# Write your code\n",
    "for epoch in range(EPOCHS):\n",
    "    train_loss = 0\n",
    "    train_accuracy = 0\n",
    "    val_loss = 0\n",
    "    val_accuracy = 0\n",
    "    word_cnt = 0\n",
    "    batch_cnt = 0\n",
    "    model.train()\n",
    "    for X_batch, y_batch in tqdm(dataloader):\n",
    "        batch_cnt += 1\n",
    "        Y_batch_pred = model(X_batch)\n",
    "        loss = loss_fn(Y_batch_pred, y_batch)\n",
    "        optimizer.zero_grad()\n",
    "        loss.backward()\n",
    "        optimizer.step()\n",
    "        train_loss += loss.item()\n",
    "    \n",
    "    model.eval()\n",
    "    with torch.no_grad():\n",
    "        train_accuracy = torch.sum(torch.argmax(batch_inference(model, X_train), dim=-1) == y_train)\n",
    "        history['accuracy'] += [train_accuracy.item()/y_train.size()[0]]\n",
    "        history['loss'] += [train_loss/batch_cnt]\n",
    "        \n",
    "        y_val_pred = batch_inference(model, X_val)\n",
    "        val_loss = loss_fn(y_val_pred, y_val)\n",
    "        history['val_loss'] += [val_loss.item()]\n",
    "        val_accuracy = torch.sum(torch.argmax(batch_inference(model, X_val), dim=-1) == y_val)\n",
    "        history['val_accuracy'] += [val_accuracy.item()/y_val.size()[0]]"
   ]
  },
  {
   "cell_type": "code",
   "execution_count": 57,
   "metadata": {},
   "outputs": [
    {
     "data": {
      "image/png": "[encoded data removed]",
      "text/plain": [
       "<Figure size 640x480 with 1 Axes>"
      ]
     },
     "metadata": {},
     "output_type": "display_data"
    },
    {
     "data": {
      "image/png": "[encoded data removed]",
      "text/plain": [
       "<Figure size 640x480 with 1 Axes>"
      ]
     },
     "metadata": {},
     "output_type": "display_data"
    }
   ],
   "source": [
    "acc = history['accuracy']\n",
    "loss = history['loss']\n",
    "val_acc = history['val_accuracy']\n",
    "val_loss = history['val_loss']\n",
    "\n",
    "epochs = range(1, len(acc) + 1)\n",
    "plt.plot(epochs, acc, 'bo', label='Training accuracy')\n",
    "plt.plot(epochs, val_acc, 'b', label='Validation accuracy')\n",
    "plt.title('Training and validation accuracies')\n",
    "plt.legend()\n",
    "\n",
    "plt.figure()\n",
    "plt.plot(epochs, loss, 'bo', label='Training loss')\n",
    "plt.plot(epochs, val_loss, 'b', label='Validation loss')\n",
    "plt.title('Training and validation losses')\n",
    "plt.legend()\n",
    "\n",
    "plt.show()"
   ]
  },
  {
   "cell_type": "code",
   "execution_count": 58,
   "metadata": {},
   "outputs": [
    {
     "data": {
      "text/plain": [
       "{'accuracy': [0.5959,\n",
       "  0.607,\n",
       "  0.55425,\n",
       "  0.69695,\n",
       "  0.69115,\n",
       "  0.52515,\n",
       "  0.71195,\n",
       "  0.6841,\n",
       "  0.7098,\n",
       "  0.6896,\n",
       "  0.71735,\n",
       "  0.7298,\n",
       "  0.70715,\n",
       "  0.75225,\n",
       "  0.73215,\n",
       "  0.76555,\n",
       "  0.78185,\n",
       "  0.79295,\n",
       "  0.7901,\n",
       "  0.7936,\n",
       "  0.7982,\n",
       "  0.81755,\n",
       "  0.81765,\n",
       "  0.8193,\n",
       "  0.82885,\n",
       "  0.8303,\n",
       "  0.82965,\n",
       "  0.83505,\n",
       "  0.8134,\n",
       "  0.8407,\n",
       "  0.84445,\n",
       "  0.84545,\n",
       "  0.8428,\n",
       "  0.8524,\n",
       "  0.85285,\n",
       "  0.8519,\n",
       "  0.85675,\n",
       "  0.86005,\n",
       "  0.8516,\n",
       "  0.86525],\n",
       " 'loss': [0.6810788499832153,\n",
       "  0.6553339869499206,\n",
       "  0.6565209032058715,\n",
       "  0.6547321123600006,\n",
       "  0.6286454539299011,\n",
       "  0.6571375535488129,\n",
       "  0.6097727672576905,\n",
       "  0.6009738718986511,\n",
       "  0.6198967350959778,\n",
       "  0.6162342098712921,\n",
       "  0.5920503124237061,\n",
       "  0.6065264667510987,\n",
       "  0.5798568341732026,\n",
       "  0.5612049082756042,\n",
       "  0.5399220766544343,\n",
       "  0.5158945281028747,\n",
       "  0.5044824436187744,\n",
       "  0.5021460038661957,\n",
       "  0.4833267044067383,\n",
       "  0.47301871392726896,\n",
       "  0.4615433275699615,\n",
       "  0.449230460691452,\n",
       "  0.4389232590198517,\n",
       "  0.4343623802185059,\n",
       "  0.4293676433086395,\n",
       "  0.42340615243911744,\n",
       "  0.41346942172050477,\n",
       "  0.41124263410568235,\n",
       "  0.40608756692409514,\n",
       "  0.4019522621631622,\n",
       "  0.40230310497283933,\n",
       "  0.39269541666507723,\n",
       "  0.3864336181163788,\n",
       "  0.38988539519309995,\n",
       "  0.38255337669849393,\n",
       "  0.3783930616140366,\n",
       "  0.3793591329574585,\n",
       "  0.3708800163269043,\n",
       "  0.37157803539037704,\n",
       "  0.36343948276042937],\n",
       " 'val_accuracy': [0.5916,\n",
       "  0.6124,\n",
       "  0.5602,\n",
       "  0.6956,\n",
       "  0.6818,\n",
       "  0.5338,\n",
       "  0.7212,\n",
       "  0.6772,\n",
       "  0.6992,\n",
       "  0.6866,\n",
       "  0.7324,\n",
       "  0.736,\n",
       "  0.7046,\n",
       "  0.758,\n",
       "  0.7334,\n",
       "  0.7664,\n",
       "  0.7768,\n",
       "  0.7866,\n",
       "  0.7816,\n",
       "  0.7864,\n",
       "  0.7954,\n",
       "  0.8082,\n",
       "  0.8092,\n",
       "  0.8102,\n",
       "  0.8214,\n",
       "  0.8218,\n",
       "  0.8192,\n",
       "  0.8278,\n",
       "  0.7988,\n",
       "  0.8296,\n",
       "  0.826,\n",
       "  0.8322,\n",
       "  0.8254,\n",
       "  0.8312,\n",
       "  0.8328,\n",
       "  0.8324,\n",
       "  0.8378,\n",
       "  0.8382,\n",
       "  0.8276,\n",
       "  0.8386],\n",
       " 'val_loss': [0.6653978824615479,\n",
       "  0.6513966917991638,\n",
       "  0.6860098838806152,\n",
       "  0.6116496324539185,\n",
       "  0.6193152070045471,\n",
       "  0.6472369432449341,\n",
       "  0.5689573884010315,\n",
       "  0.6063490509986877,\n",
       "  0.6015402674674988,\n",
       "  0.6034148335456848,\n",
       "  0.5772725343704224,\n",
       "  0.5642042756080627,\n",
       "  0.6146422028541565,\n",
       "  0.5174033641815186,\n",
       "  0.5199319124221802,\n",
       "  0.5006400942802429,\n",
       "  0.48561304807662964,\n",
       "  0.4624047875404358,\n",
       "  0.45700863003730774,\n",
       "  0.4419063329696655,\n",
       "  0.43353983759880066,\n",
       "  0.42055341601371765,\n",
       "  0.41438573598861694,\n",
       "  0.4092423617839813,\n",
       "  0.4069432020187378,\n",
       "  0.4012129008769989,\n",
       "  0.4008824825286865,\n",
       "  0.39795270562171936,\n",
       "  0.42484012246131897,\n",
       "  0.3952440619468689,\n",
       "  0.3874221742153168,\n",
       "  0.38854074478149414,\n",
       "  0.39528992772102356,\n",
       "  0.38991865515708923,\n",
       "  0.37698811292648315,\n",
       "  0.3868313133716583,\n",
       "  0.3747616112232208,\n",
       "  0.37484845519065857,\n",
       "  0.40258195996284485,\n",
       "  0.36505094170570374]}"
      ]
     },
     "execution_count": 58,
     "metadata": {},
     "output_type": "execute_result"
    }
   ],
   "source": [
    "history"
   ]
  },
  {
   "cell_type": "markdown",
   "metadata": {},
   "source": [
    "## Evaluation"
   ]
  },
  {
   "cell_type": "code",
   "execution_count": 59,
   "metadata": {},
   "outputs": [
    {
     "data": {
      "text/plain": [
       "tensor(0.8322)"
      ]
     },
     "execution_count": 59,
     "metadata": {},
     "output_type": "execute_result"
    }
   ],
   "source": [
    "torch.sum(torch.argmax(batch_inference(model, X_test), dim=-1) == y_test)/y_test.size()[0]"
   ]
  },
  {
   "cell_type": "code",
   "execution_count": 60,
   "metadata": {},
   "outputs": [],
   "source": [
    "torch.save(model.state_dict(), 'classification_embs.pth')"
   ]
  },
  {
   "cell_type": "code",
   "execution_count": 61,
   "metadata": {},
   "outputs": [],
   "source": [
    "# tensor(0.8375) nontrainable\n",
    "# tensor(0.7852) trainable"
   ]
  }
 ],
 "metadata": {
  "kernelspec": {
   "display_name": "base",
   "language": "python",
   "name": "python3"
  },
  "language_info": {
   "codemirror_mode": {
    "name": "ipython",
    "version": 3
   },
   "file_extension": ".py",
   "mimetype": "text/x-python",
   "name": "python",
   "nbconvert_exporter": "python",
   "pygments_lexer": "ipython3",
   "version": "3.9.16"
  },
  "orig_nbformat": 4
 },
 "nbformat": 4,
 "nbformat_minor": 2
}
