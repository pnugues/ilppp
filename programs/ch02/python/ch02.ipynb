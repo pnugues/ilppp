{
 "cells": [
  {
   "cell_type": "markdown",
   "metadata": {},
   "source": [
    "# Chapter 2: Corpus Processing Tools\n",
    "Author: Pierre Nugues"
   ]
  },
  {
   "cell_type": "markdown",
   "metadata": {},
   "source": [
    "We use the `regex` module to have a better Unicode support"
   ]
  },
  {
   "cell_type": "code",
   "execution_count": 1,
   "metadata": {},
   "outputs": [],
   "source": [
    "import regex as re"
   ]
  },
  {
   "cell_type": "markdown",
   "metadata": {},
   "source": [
    "## Matching one occurrence"
   ]
  },
  {
   "cell_type": "markdown",
   "metadata": {},
   "source": [
    "#### A first match with `re.search()`"
   ]
  },
  {
   "cell_type": "code",
   "execution_count": 2,
   "metadata": {},
   "outputs": [
    {
     "data": {
      "text/plain": [
       "<regex.Match object; span=(11, 13), match='ac'>"
      ]
     },
     "execution_count": 2,
     "metadata": {},
     "output_type": "execute_result"
    }
   ],
   "source": [
    "line = 'The aerial acceleration alerted the ace pilot'\n",
    "match = re.search('ab*c', line)\n",
    "match      # <regex.Match object; span=(11, 13), match='ac'>"
   ]
  },
  {
   "cell_type": "markdown",
   "metadata": {},
   "source": [
    "#### Getting the match value"
   ]
  },
  {
   "cell_type": "code",
   "execution_count": 3,
   "metadata": {},
   "outputs": [
    {
     "data": {
      "text/plain": [
       "'ac'"
      ]
     },
     "execution_count": 3,
     "metadata": {},
     "output_type": "execute_result"
    }
   ],
   "source": [
    "match.group() # ac"
   ]
  },
  {
   "cell_type": "markdown",
   "metadata": {},
   "source": [
    "## Getting all the matches"
   ]
  },
  {
   "cell_type": "markdown",
   "metadata": {},
   "source": [
    "#### The list of all the strings"
   ]
  },
  {
   "cell_type": "code",
   "execution_count": 4,
   "metadata": {},
   "outputs": [
    {
     "data": {
      "text/plain": [
       "['ac', 'ac']"
      ]
     },
     "execution_count": 4,
     "metadata": {},
     "output_type": "execute_result"
    }
   ],
   "source": [
    "match_list = re.findall('ab*c', line)   # ['ac', 'ac']\n",
    "match_list"
   ]
  },
  {
   "cell_type": "markdown",
   "metadata": {},
   "source": [
    "#### The match groups (the objects)"
   ]
  },
  {
   "cell_type": "code",
   "execution_count": 5,
   "metadata": {},
   "outputs": [
    {
     "data": {
      "text/plain": [
       "[<regex.Match object; span=(11, 13), match='ac'>,\n",
       " <regex.Match object; span=(36, 38), match='ac'>]"
      ]
     },
     "execution_count": 5,
     "metadata": {},
     "output_type": "execute_result"
    }
   ],
   "source": [
    "match_iter = re.finditer('ab*c', line)   \n",
    "list(match_iter)"
   ]
  },
  {
   "cell_type": "markdown",
   "metadata": {},
   "source": [
    "## Interactive match"
   ]
  },
  {
   "cell_type": "markdown",
   "metadata": {},
   "source": [
    "#### Using the shell (does not work with the notebooks)"
   ]
  },
  {
   "cell_type": "code",
   "execution_count": 6,
   "metadata": {},
   "outputs": [
    {
     "ename": "KeyboardInterrupt",
     "evalue": "",
     "output_type": "error",
     "traceback": [
      "\u001b[0;31m---------------------------------------------------------------------------\u001b[0m",
      "\u001b[0;31mKeyboardInterrupt\u001b[0m                         Traceback (most recent call last)",
      "\u001b[1;32m/Users/pierre/Documents/Cours/EDAN20/programs/ch02/python/ch02.ipynb Cellule 16\u001b[0m in \u001b[0;36m<cell line: 3>\u001b[0;34m()\u001b[0m\n\u001b[1;32m      <a href='vscode-notebook-cell:/Users/pierre/Documents/Cours/EDAN20/programs/ch02/python/ch02.ipynb#X21sZmlsZQ%3D%3D?line=0'>1</a>\u001b[0m \u001b[39mimport\u001b[39;00m \u001b[39msys\u001b[39;00m\n\u001b[0;32m----> <a href='vscode-notebook-cell:/Users/pierre/Documents/Cours/EDAN20/programs/ch02/python/ch02.ipynb#X21sZmlsZQ%3D%3D?line=2'>3</a>\u001b[0m \u001b[39mfor\u001b[39;00m line \u001b[39min\u001b[39;00m sys\u001b[39m.\u001b[39mstdin:\n\u001b[1;32m      <a href='vscode-notebook-cell:/Users/pierre/Documents/Cours/EDAN20/programs/ch02/python/ch02.ipynb#X21sZmlsZQ%3D%3D?line=3'>4</a>\u001b[0m     \u001b[39mif\u001b[39;00m re\u001b[39m.\u001b[39msearch(\u001b[39m'\u001b[39m\u001b[39mab*c\u001b[39m\u001b[39m'\u001b[39m, line):    \u001b[39m# m/ab*c/\u001b[39;00m\n\u001b[1;32m      <a href='vscode-notebook-cell:/Users/pierre/Documents/Cours/EDAN20/programs/ch02/python/ch02.ipynb#X21sZmlsZQ%3D%3D?line=4'>5</a>\u001b[0m         \u001b[39mprint\u001b[39m(\u001b[39m'\u001b[39m\u001b[39m-> \u001b[39m\u001b[39m'\u001b[39m \u001b[39m+\u001b[39m line, end\u001b[39m=\u001b[39m\u001b[39m'\u001b[39m\u001b[39m'\u001b[39m)\n",
      "\u001b[0;31mKeyboardInterrupt\u001b[0m: "
     ]
    }
   ],
   "source": [
    "import sys\n",
    "\n",
    "for line in sys.stdin:\n",
    "    if re.search('ab*c', line):    # m/ab*c/\n",
    "        print('-> ' + line, end='')"
   ]
  },
  {
   "cell_type": "markdown",
   "metadata": {},
   "source": [
    "#### Using IPython ipywidgets"
   ]
  },
  {
   "cell_type": "code",
   "execution_count": 7,
   "metadata": {},
   "outputs": [
    {
     "data": {
      "application/vnd.jupyter.widget-view+json": {
       "model_id": "81b43f5c608045e19204b34ccac69a17",
       "version_major": 2,
       "version_minor": 0
      },
      "text/plain": [
       "Text(value='')"
      ]
     },
     "metadata": {},
     "output_type": "display_data"
    },
    {
     "name": "stdout",
     "output_type": "stream",
     "text": [
      "-> jkldsalabbcöl\n"
     ]
    }
   ],
   "source": [
    "# https://github.com/ipython/ipywidgets\n",
    "import ipywidgets as widgets\n",
    "from IPython.display import display\n",
    "\n",
    "# The input box\n",
    "text = widgets.Text()\n",
    "display(text)\n",
    "\n",
    "def handle_submit(sender):\n",
    "    if re.search('ab*c', text.value):\n",
    "        print('->', text.value)\n",
    "    text.value = ''\n",
    "\n",
    "# Hitting return fires handle_submit\n",
    "text.on_submit(handle_submit)"
   ]
  },
  {
   "cell_type": "markdown",
   "metadata": {},
   "source": [
    "## Nonprintable characters and modifiers\n",
    "#### Start of a line"
   ]
  },
  {
   "cell_type": "markdown",
   "metadata": {},
   "source": [
    "We create a list of multiple strings with `split()`"
   ]
  },
  {
   "cell_type": "code",
   "execution_count": 8,
   "metadata": {},
   "outputs": [
    {
     "data": {
      "text/plain": [
       "['Sing, O goddess, the anger of Achilles ',\n",
       " 'son of Peleus, that brought countless ills upon the Achaeans.',\n",
       " '']"
      ]
     },
     "execution_count": 8,
     "metadata": {},
     "output_type": "execute_result"
    }
   ],
   "source": [
    "# text = sys.stdin.read()\n",
    "text = \"\"\"Sing, O goddess, the anger of Achilles \n",
    "son of Peleus, that brought countless ills upon the Achaeans.\n",
    "\"\"\".split('\\n')\n",
    "text"
   ]
  },
  {
   "cell_type": "markdown",
   "metadata": {},
   "source": [
    "`split()` adds empty strings. We strip the string before we split it. "
   ]
  },
  {
   "cell_type": "code",
   "execution_count": 9,
   "metadata": {},
   "outputs": [
    {
     "data": {
      "text/plain": [
       "['Sing, O goddess, the anger of Achilles ',\n",
       " 'son of Peleus, that brought countless ills upon the Achaeans.']"
      ]
     },
     "execution_count": 9,
     "metadata": {},
     "output_type": "execute_result"
    }
   ],
   "source": [
    "# text = sys.stdin.read()\n",
    "text = \"\"\"Sing, O goddess, the anger of Achilles \n",
    "son of Peleus, that brought countless ills upon the Achaeans.\n",
    "\"\"\".strip().split('\\n')\n",
    "text"
   ]
  },
  {
   "cell_type": "code",
   "execution_count": 10,
   "metadata": {},
   "outputs": [
    {
     "name": "stdout",
     "output_type": "stream",
     "text": [
      "-> s\n"
     ]
    }
   ],
   "source": [
    "for line in text:\n",
    "    match = re.search('^s', line) # m/^s/\n",
    "    if match:\n",
    "        print('-> ' + match.group())"
   ]
  },
  {
   "cell_type": "markdown",
   "metadata": {},
   "source": [
    "#### The case-insensitive modifier"
   ]
  },
  {
   "cell_type": "markdown",
   "metadata": {},
   "source": [
    "We did not match `S`. We can make the regex case-insensitive"
   ]
  },
  {
   "cell_type": "code",
   "execution_count": 11,
   "metadata": {},
   "outputs": [
    {
     "name": "stdout",
     "output_type": "stream",
     "text": [
      "-> S\n",
      "-> s\n"
     ]
    }
   ],
   "source": [
    "for line in text:\n",
    "    match = re.search('^s', line, re.I) # m/^s/i\n",
    "    if match:\n",
    "        print('-> ' + match.group())"
   ]
  },
  {
   "cell_type": "markdown",
   "metadata": {},
   "source": [
    "#### Case insensitive and multiline"
   ]
  },
  {
   "cell_type": "markdown",
   "metadata": {},
   "source": [
    "The start anchor `^` corresponds to the unique start a string. With the multiline modifier, `re.M` a `\\n` also defines a start position"
   ]
  },
  {
   "cell_type": "code",
   "execution_count": 12,
   "metadata": {},
   "outputs": [
    {
     "data": {
      "text/plain": [
       "'Sing, O goddess, the anger of Achilles son\\nof Peleus, that brought countless ills upon the Achaeans.'"
      ]
     },
     "execution_count": 12,
     "metadata": {},
     "output_type": "execute_result"
    }
   ],
   "source": [
    "text = \"\"\"Sing, O goddess, the anger of Achilles son\n",
    "of Peleus, that brought countless ills upon the Achaeans.\n",
    "\"\"\".strip()\n",
    "text"
   ]
  },
  {
   "cell_type": "code",
   "execution_count": 13,
   "metadata": {},
   "outputs": [
    {
     "name": "stdout",
     "output_type": "stream",
     "text": [
      "-> S\n"
     ]
    }
   ],
   "source": [
    "match = re.search('^s', text, re.I | re.M) # m/^s/im\n",
    "if match:\n",
    "    print('-> ' + match.group())"
   ]
  },
  {
   "cell_type": "code",
   "execution_count": 14,
   "metadata": {},
   "outputs": [
    {
     "name": "stdout",
     "output_type": "stream",
     "text": [
      "-> o\n"
     ]
    }
   ],
   "source": [
    "match = re.search('^o', text, re.I | re.M)\n",
    "if match:\n",
    "    print('-> ' + match.group())"
   ]
  },
  {
   "cell_type": "markdown",
   "metadata": {},
   "source": [
    "#### Getting all the matches"
   ]
  },
  {
   "cell_type": "code",
   "execution_count": 15,
   "metadata": {},
   "outputs": [
    {
     "data": {
      "text/plain": [
       "'Sing, O goddess, the anger of Achilles \\nson of Peleus, that brought countless ills upon the Achaeans.'"
      ]
     },
     "execution_count": 15,
     "metadata": {},
     "output_type": "execute_result"
    }
   ],
   "source": [
    "text = \"\"\"Sing, O goddess, the anger of Achilles \n",
    "son of Peleus, that brought countless ills upon the Achaeans.\n",
    "\"\"\".strip()\n",
    "text"
   ]
  },
  {
   "cell_type": "code",
   "execution_count": 16,
   "metadata": {},
   "outputs": [
    {
     "name": "stdout",
     "output_type": "stream",
     "text": [
      "['S', 's']\n"
     ]
    }
   ],
   "source": [
    "match_list = re.findall('^s', text, re.I | re.M)\n",
    "print(match_list)"
   ]
  },
  {
   "cell_type": "markdown",
   "metadata": {},
   "source": [
    "#### Getting all the matches with `finditer()`"
   ]
  },
  {
   "cell_type": "code",
   "execution_count": 17,
   "metadata": {},
   "outputs": [
    {
     "data": {
      "text/plain": [
       "<_regex.Scanner at 0x7fd3a90b4820>"
      ]
     },
     "execution_count": 17,
     "metadata": {},
     "output_type": "execute_result"
    }
   ],
   "source": [
    "match_list = re.finditer('^s', text, re.I | re.M)\n",
    "match_list"
   ]
  },
  {
   "cell_type": "code",
   "execution_count": 18,
   "metadata": {},
   "outputs": [
    {
     "data": {
      "text/plain": [
       "[<regex.Match object; span=(0, 1), match='S'>,\n",
       " <regex.Match object; span=(40, 41), match='s'>]"
      ]
     },
     "execution_count": 18,
     "metadata": {},
     "output_type": "execute_result"
    }
   ],
   "source": [
    "list(match_list)"
   ]
  },
  {
   "cell_type": "markdown",
   "metadata": {
    "tags": []
   },
   "source": [
    "## Substitution"
   ]
  },
  {
   "cell_type": "markdown",
   "metadata": {},
   "source": [
    "#### Global replacement: `s/regex/replacement/g`"
   ]
  },
  {
   "cell_type": "code",
   "execution_count": 19,
   "metadata": {},
   "outputs": [
    {
     "data": {
      "text/plain": [
       "['Sing, O goddess, the anger of Achilles ',\n",
       " 'son of Peleus, that brought countless ills upon the Achaeans.']"
      ]
     },
     "execution_count": 19,
     "metadata": {},
     "output_type": "execute_result"
    }
   ],
   "source": [
    "text = \"\"\"Sing, O goddess, the anger of Achilles \n",
    "son of Peleus, that brought countless ills upon the Achaeans.\n",
    "\"\"\".strip().split('\\n')\n",
    "text"
   ]
  },
  {
   "cell_type": "code",
   "execution_count": 20,
   "metadata": {},
   "outputs": [
    {
     "name": "stdout",
     "output_type": "stream",
     "text": [
      "Old: Sing, O goddess, the anger of Achilles \n",
      "New: Sing, O goddES, the anger of AchillES \n",
      "Old: son of Peleus, that brought countless ills upon the Achaeans.\n",
      "New: son of Peleus, that brought countlES ills upon the Achaeans.\n"
     ]
    }
   ],
   "source": [
    "for line in text:\n",
    "    if re.search('es+', line):\n",
    "        print(\"Old: \" + line)\n",
    "        # Replaces all the occurrences\n",
    "        line = re.sub('es+', 'ES', line)\n",
    "        print(\"New: \" + line)\n",
    "# s/ab+c/ABC/g"
   ]
  },
  {
   "cell_type": "markdown",
   "metadata": {},
   "source": [
    " \n",
    "#### Just one replacement: s/regex/replacement/"
   ]
  },
  {
   "cell_type": "code",
   "execution_count": 21,
   "metadata": {},
   "outputs": [
    {
     "data": {
      "text/plain": [
       "['Sing, O goddess, the anger of Achilles ',\n",
       " 'son of Peleus, that brought countless ills upon the Achaeans.']"
      ]
     },
     "execution_count": 21,
     "metadata": {},
     "output_type": "execute_result"
    }
   ],
   "source": [
    "text = \"\"\"Sing, O goddess, the anger of Achilles \n",
    "son of Peleus, that brought countless ills upon the Achaeans.\n",
    "\"\"\".strip().split('\\n')\n",
    "text"
   ]
  },
  {
   "cell_type": "code",
   "execution_count": 22,
   "metadata": {},
   "outputs": [
    {
     "name": "stdout",
     "output_type": "stream",
     "text": [
      "Old: Sing, O goddess, the anger of Achilles \n",
      "New: Sing, O goddES, the anger of Achilles \n",
      "Old: son of Peleus, that brought countless ills upon the Achaeans.\n",
      "New: son of Peleus, that brought countlES ills upon the Achaeans.\n"
     ]
    }
   ],
   "source": [
    "for line in text:\n",
    "    if re.search('es+', line):\n",
    "        print(\"Old: \" + line)\n",
    "        # Replaces all the occurrences\n",
    "        line = re.sub('es+', 'ES', line, 1)\n",
    "        print(\"New: \" + line)\n",
    "# s/ab+c/ABC/"
   ]
  },
  {
   "cell_type": "markdown",
   "metadata": {},
   "source": [
    "## Backreferences"
   ]
  },
  {
   "cell_type": "code",
   "execution_count": 23,
   "metadata": {},
   "outputs": [],
   "source": [
    "line = 'abbbcdeeef'"
   ]
  },
  {
   "cell_type": "code",
   "execution_count": 24,
   "metadata": {},
   "outputs": [],
   "source": [
    "match = re.search('^(.)(b+)c+', line)"
   ]
  },
  {
   "cell_type": "markdown",
   "metadata": {},
   "source": [
    "The whole pattern"
   ]
  },
  {
   "cell_type": "code",
   "execution_count": 25,
   "metadata": {},
   "outputs": [
    {
     "data": {
      "text/plain": [
       "'abbbc'"
      ]
     },
     "execution_count": 25,
     "metadata": {},
     "output_type": "execute_result"
    }
   ],
   "source": [
    "match.group()"
   ]
  },
  {
   "cell_type": "markdown",
   "metadata": {},
   "source": [
    "Equivalent to"
   ]
  },
  {
   "cell_type": "code",
   "execution_count": 26,
   "metadata": {},
   "outputs": [
    {
     "data": {
      "text/plain": [
       "'abbbc'"
      ]
     },
     "execution_count": 26,
     "metadata": {},
     "output_type": "execute_result"
    }
   ],
   "source": [
    "match.group(0)"
   ]
  },
  {
   "cell_type": "markdown",
   "metadata": {},
   "source": [
    "Back reference 1, `(.)` stored in `\\1`"
   ]
  },
  {
   "cell_type": "code",
   "execution_count": 27,
   "metadata": {},
   "outputs": [
    {
     "data": {
      "text/plain": [
       "'a'"
      ]
     },
     "execution_count": 27,
     "metadata": {},
     "output_type": "execute_result"
    }
   ],
   "source": [
    "match.group(1)  "
   ]
  },
  {
   "cell_type": "markdown",
   "metadata": {},
   "source": [
    "Backreference 2, `(b+)` stored in `\\2`"
   ]
  },
  {
   "cell_type": "code",
   "execution_count": 28,
   "metadata": {},
   "outputs": [
    {
     "data": {
      "text/plain": [
       "'bbb'"
      ]
     },
     "execution_count": 28,
     "metadata": {},
     "output_type": "execute_result"
    }
   ],
   "source": [
    "match.group(2)"
   ]
  },
  {
   "cell_type": "markdown",
   "metadata": {},
   "source": [
    "Matching a sequence of three identical characters"
   ]
  },
  {
   "cell_type": "code",
   "execution_count": 29,
   "metadata": {},
   "outputs": [
    {
     "data": {
      "text/plain": [
       "'b'"
      ]
     },
     "execution_count": 29,
     "metadata": {},
     "output_type": "execute_result"
    }
   ],
   "source": [
    "match = re.search(r'(.)\\1\\1', line)\n",
    "match.group(1)                # 'b'"
   ]
  },
  {
   "cell_type": "markdown",
   "metadata": {},
   "source": [
    " #### Substitutions `s/(.)\\1\\1/***/g`"
   ]
  },
  {
   "cell_type": "code",
   "execution_count": 30,
   "metadata": {},
   "outputs": [
    {
     "data": {
      "text/plain": [
       "'a***cd***f'"
      ]
     },
     "execution_count": 30,
     "metadata": {},
     "output_type": "execute_result"
    }
   ],
   "source": [
    "re.sub(r'(.)\\1\\1', '***', 'abbbcdeeef')  # 'a***cd***f'"
   ]
  },
  {
   "cell_type": "markdown",
   "metadata": {},
   "source": [
    "#### Multiple backreferences `m/\\$ *([0-9]+)\\.?([0-9]*)/`"
   ]
  },
  {
   "cell_type": "code",
   "execution_count": 31,
   "metadata": {},
   "outputs": [],
   "source": [
    "price = \"We'll buy it for $72.40\""
   ]
  },
  {
   "cell_type": "code",
   "execution_count": 32,
   "metadata": {},
   "outputs": [
    {
     "data": {
      "text/plain": [
       "'$72.40'"
      ]
     },
     "execution_count": 32,
     "metadata": {},
     "output_type": "execute_result"
    }
   ],
   "source": [
    "match = re.search(r'\\$ *([0-9]+)\\.?([0-9]*)', price)\n",
    "match.group() # ’$72.40’ The entire match"
   ]
  },
  {
   "cell_type": "code",
   "execution_count": 33,
   "metadata": {},
   "outputs": [
    {
     "data": {
      "text/plain": [
       "'72'"
      ]
     },
     "execution_count": 33,
     "metadata": {},
     "output_type": "execute_result"
    }
   ],
   "source": [
    "match.group(1) # ’72’ The first group"
   ]
  },
  {
   "cell_type": "code",
   "execution_count": 34,
   "metadata": {},
   "outputs": [
    {
     "data": {
      "text/plain": [
       "'40'"
      ]
     },
     "execution_count": 34,
     "metadata": {},
     "output_type": "execute_result"
    }
   ],
   "source": [
    "match.group(2) # ’40’ The second group"
   ]
  },
  {
   "cell_type": "markdown",
   "metadata": {},
   "source": [
    "#### Substitutions `s/\\$ *([0-9]+)\\.?([0-9]*)/\\1 dollars and \\2 cents/g`"
   ]
  },
  {
   "cell_type": "code",
   "execution_count": 35,
   "metadata": {},
   "outputs": [
    {
     "data": {
      "text/plain": [
       "\"We'll buy it for 72 dollars and 40 cents\""
      ]
     },
     "execution_count": 35,
     "metadata": {},
     "output_type": "execute_result"
    }
   ],
   "source": [
    "re.sub(r'\\$ *([0-9]+)\\.?([0-9]*)',\n",
    "       r'\\1 dollars and \\2 cents', price)\n",
    "   # We’ll buy it for 72 dollars and 40 cents"
   ]
  },
  {
   "cell_type": "markdown",
   "metadata": {},
   "source": [
    "#### Why `r`"
   ]
  },
  {
   "cell_type": "code",
   "execution_count": 36,
   "metadata": {},
   "outputs": [
    {
     "data": {
      "text/plain": [
       "'\\x01'"
      ]
     },
     "execution_count": 36,
     "metadata": {},
     "output_type": "execute_result"
    }
   ],
   "source": [
    "'\\1'"
   ]
  },
  {
   "cell_type": "code",
   "execution_count": 37,
   "metadata": {},
   "outputs": [
    {
     "data": {
      "text/plain": [
       "'a'"
      ]
     },
     "execution_count": 37,
     "metadata": {},
     "output_type": "execute_result"
    }
   ],
   "source": [
    "'\\141'"
   ]
  },
  {
   "cell_type": "code",
   "execution_count": 38,
   "metadata": {},
   "outputs": [
    {
     "data": {
      "text/plain": [
       "'\\\\1'"
      ]
     },
     "execution_count": 38,
     "metadata": {},
     "output_type": "execute_result"
    }
   ],
   "source": [
    "r'\\1'"
   ]
  },
  {
   "cell_type": "code",
   "execution_count": 39,
   "metadata": {},
   "outputs": [
    {
     "data": {
      "text/plain": [
       "'\\\\141'"
      ]
     },
     "execution_count": 39,
     "metadata": {},
     "output_type": "execute_result"
    }
   ],
   "source": [
    "r'\\141'"
   ]
  },
  {
   "cell_type": "markdown",
   "metadata": {},
   "source": [
    "## Matching objects"
   ]
  },
  {
   "cell_type": "code",
   "execution_count": 40,
   "metadata": {},
   "outputs": [],
   "source": [
    "price = \"We'll buy it for $72.40\""
   ]
  },
  {
   "cell_type": "code",
   "execution_count": 41,
   "metadata": {},
   "outputs": [
    {
     "data": {
      "text/plain": [
       "<regex.Match object; span=(17, 23), match='$72.40'>"
      ]
     },
     "execution_count": 41,
     "metadata": {},
     "output_type": "execute_result"
    }
   ],
   "source": [
    "match = re.search(r'\\$ *([0-9]+)\\.?([0-9]*)', price)\n",
    "match"
   ]
  },
  {
   "cell_type": "markdown",
   "metadata": {},
   "source": [
    "#### Input"
   ]
  },
  {
   "cell_type": "code",
   "execution_count": 42,
   "metadata": {},
   "outputs": [
    {
     "data": {
      "text/plain": [
       "\"We'll buy it for $72.40\""
      ]
     },
     "execution_count": 42,
     "metadata": {},
     "output_type": "execute_result"
    }
   ],
   "source": [
    "match.string            # We’ll buy it for $72.40"
   ]
  },
  {
   "cell_type": "markdown",
   "metadata": {},
   "source": [
    "#### Groups"
   ]
  },
  {
   "cell_type": "code",
   "execution_count": 43,
   "metadata": {},
   "outputs": [
    {
     "data": {
      "text/plain": [
       "('72', '40')"
      ]
     },
     "execution_count": 43,
     "metadata": {},
     "output_type": "execute_result"
    }
   ],
   "source": [
    "match.groups()          # (’72’, ’40’)"
   ]
  },
  {
   "cell_type": "code",
   "execution_count": 44,
   "metadata": {},
   "outputs": [
    {
     "data": {
      "text/plain": [
       "'$72.40'"
      ]
     },
     "execution_count": 44,
     "metadata": {},
     "output_type": "execute_result"
    }
   ],
   "source": [
    "match.group(0)          # '$72.40'"
   ]
  },
  {
   "cell_type": "code",
   "execution_count": 45,
   "metadata": {},
   "outputs": [
    {
     "data": {
      "text/plain": [
       "'72'"
      ]
     },
     "execution_count": 45,
     "metadata": {},
     "output_type": "execute_result"
    }
   ],
   "source": [
    "match.group(1)"
   ]
  },
  {
   "cell_type": "code",
   "execution_count": 46,
   "metadata": {},
   "outputs": [
    {
     "data": {
      "text/plain": [
       "'40'"
      ]
     },
     "execution_count": 46,
     "metadata": {},
     "output_type": "execute_result"
    }
   ],
   "source": [
    "match.group(2)"
   ]
  },
  {
   "cell_type": "markdown",
   "metadata": {},
   "source": [
    "#### Match objects: The indices"
   ]
  },
  {
   "cell_type": "code",
   "execution_count": 47,
   "metadata": {},
   "outputs": [
    {
     "data": {
      "text/plain": [
       "17"
      ]
     },
     "execution_count": 47,
     "metadata": {},
     "output_type": "execute_result"
    }
   ],
   "source": [
    "match.start(0)"
   ]
  },
  {
   "cell_type": "code",
   "execution_count": 48,
   "metadata": {},
   "outputs": [
    {
     "data": {
      "text/plain": [
       "23"
      ]
     },
     "execution_count": 48,
     "metadata": {},
     "output_type": "execute_result"
    }
   ],
   "source": [
    "match.end(0)"
   ]
  },
  {
   "cell_type": "code",
   "execution_count": 49,
   "metadata": {},
   "outputs": [
    {
     "data": {
      "text/plain": [
       "18"
      ]
     },
     "execution_count": 49,
     "metadata": {},
     "output_type": "execute_result"
    }
   ],
   "source": [
    "match.start(1)"
   ]
  },
  {
   "cell_type": "code",
   "execution_count": 50,
   "metadata": {},
   "outputs": [
    {
     "data": {
      "text/plain": [
       "20"
      ]
     },
     "execution_count": 50,
     "metadata": {},
     "output_type": "execute_result"
    }
   ],
   "source": [
    "match.end(1)"
   ]
  },
  {
   "cell_type": "markdown",
   "metadata": {},
   "source": [
    "#### Example"
   ]
  },
  {
   "cell_type": "code",
   "execution_count": 51,
   "metadata": {},
   "outputs": [
    {
     "data": {
      "text/plain": [
       "'Tell me, O muse, of that ingenious hero\\n  who travelled far and wide after he had sacked\\n  the famous town of Troy.'"
      ]
     },
     "execution_count": 51,
     "metadata": {},
     "output_type": "execute_result"
    }
   ],
   "source": [
    "line = \"\"\"Tell me, O muse, of that ingenious hero\n",
    "  who travelled far and wide after he had sacked\n",
    "  the famous town of Troy.\"\"\".strip()\n",
    "line"
   ]
  },
  {
   "cell_type": "code",
   "execution_count": 52,
   "metadata": {},
   "outputs": [
    {
     "data": {
      "text/plain": [
       "<regex.Match object; span=(7, 16), match=', O muse,'>"
      ]
     },
     "execution_count": 52,
     "metadata": {},
     "output_type": "execute_result"
    }
   ],
   "source": [
    "match = re.search(',.*,', line, re.S)\n",
    "match"
   ]
  },
  {
   "cell_type": "code",
   "execution_count": 53,
   "metadata": {},
   "outputs": [
    {
     "data": {
      "text/plain": [
       "'Tell me'"
      ]
     },
     "execution_count": 53,
     "metadata": {},
     "output_type": "execute_result"
    }
   ],
   "source": [
    "line[0:match.start()]             # ’Tell me’"
   ]
  },
  {
   "cell_type": "code",
   "execution_count": 54,
   "metadata": {},
   "outputs": [
    {
     "data": {
      "text/plain": [
       "', O muse,'"
      ]
     },
     "execution_count": 54,
     "metadata": {},
     "output_type": "execute_result"
    }
   ],
   "source": [
    "line[match.start():match.end()]   # ’, O muse,’"
   ]
  },
  {
   "cell_type": "code",
   "execution_count": 55,
   "metadata": {},
   "outputs": [
    {
     "data": {
      "text/plain": [
       "' of that ingenious hero\\n  who travelled far and wide after he had sacked\\n  the famous town of Troy.'"
      ]
     },
     "execution_count": 55,
     "metadata": {},
     "output_type": "execute_result"
    }
   ],
   "source": [
    "line[match.end():]   # ’of that ingenious hero\n",
    "         #  who travelled far and wide after he had sacked\n",
    "         #  the famous town of Troy.’"
   ]
  },
  {
   "cell_type": "markdown",
   "metadata": {},
   "source": [
    "## Concordances: `.{0,15}Nils Holgersson.{0,15}`"
   ]
  },
  {
   "cell_type": "code",
   "execution_count": 56,
   "metadata": {},
   "outputs": [],
   "source": [
    "pattern = 'Nils Holgersson'\n",
    "width = 15"
   ]
  },
  {
   "cell_type": "markdown",
   "metadata": {},
   "source": [
    "We build a regex from these parameters: `.{0,width}pattern.{0,width}`"
   ]
  },
  {
   "cell_type": "code",
   "execution_count": 57,
   "metadata": {},
   "outputs": [
    {
     "data": {
      "text/plain": [
       "'.{0,15}Nils Holgersson.{0,15}'"
      ]
     },
     "execution_count": 57,
     "metadata": {},
     "output_type": "execute_result"
    }
   ],
   "source": [
    "('.{{0,{width}}}{pattern}.{{0,{width}}}'\n",
    " .format(pattern=pattern, width=width))"
   ]
  },
  {
   "cell_type": "code",
   "execution_count": 58,
   "metadata": {},
   "outputs": [
    {
     "data": {
      "text/plain": [
       "'Nils Holgerssons underbara resa genom Sverige\\nSelma Lagerlöf\\n\\nInnehåll\\n\\tDen kristna dagvisan - Sveri'"
      ]
     },
     "execution_count": 58,
     "metadata": {},
     "output_type": "execute_result"
    }
   ],
   "source": [
    "file_name = '../../corpus/Selma.txt'\n",
    "text = open(file_name).read()\n",
    "text[:100]"
   ]
  },
  {
   "cell_type": "code",
   "execution_count": 59,
   "metadata": {},
   "outputs": [
    {
     "data": {
      "text/plain": [
       "'Nils\\\\s+Holgersson'"
      ]
     },
     "execution_count": 59,
     "metadata": {},
     "output_type": "execute_result"
    }
   ],
   "source": [
    "# spaces match tabs and newlines\n",
    "pattern = re.sub(' ', r'\\\\s+', pattern)\n",
    "pattern"
   ]
  },
  {
   "cell_type": "code",
   "execution_count": 60,
   "metadata": {},
   "outputs": [],
   "source": [
    "# Replaces newlines with spaces in the text\n",
    "text = re.sub(r'\\s+', ' ', text)"
   ]
  },
  {
   "cell_type": "code",
   "execution_count": 61,
   "metadata": {},
   "outputs": [
    {
     "data": {
      "text/plain": [
       "'(.{0,15}Nils\\\\s+Holgersson.{0,15})'"
      ]
     },
     "execution_count": 61,
     "metadata": {},
     "output_type": "execute_result"
    }
   ],
   "source": [
    "concordance = ('(.{{0,{width}}}{pattern}.{{0,{width}}})'\n",
    "               .format(pattern=pattern, width=width))\n",
    "concordance"
   ]
  },
  {
   "cell_type": "code",
   "execution_count": 62,
   "metadata": {},
   "outputs": [
    {
     "name": "stdout",
     "output_type": "stream",
     "text": [
      "Nils Holgerssons underbara res\n",
      "mmetott! Se på Nils Holgersson Tummetott!\" Ge\n",
      "an. \"Jag heter Nils Holgersson och är son til\n",
      "e är det värt, Nils Holgersson, att du är äng\n",
      " den tiden, då Nils Holgersson drog omkring m\n",
      "visa honom vad Nils Holgersson från Västra Ve\n",
      "m det året, då Nils Holgersson for omkring me\n",
      "kan kosta dem. Nils Holgersson hade inte haft\n",
      "e mer sägas om Nils Holgersson, att han inte \n",
      "\" För där stod Nils Holgersson mitt uppe på R\n",
      "ingo de syn på Nils Holgersson, och då sköt d\n",
      "vildgässen och Nils Holgersson äntligen hade \n",
      "etare. Men vad Nils Holgersson inte så, det v\n",
      "åga, och om då Nils Holgersson sade nej, börj\n",
      "ats, och om nu Nils Holgersson också hade teg\n",
      "mädlig ut, att Nils Holgersson kastade sig öv\n",
      "Och inte ville Nils Holgersson slåss med en t\n",
      "den tiden, när Nils Holgersson for omkring me\n",
      "kull honom. Om Nils Holgersson genast hade ro\n",
      " på egen hand, Nils Holgersson,\" sade han då \n",
      "mle-Drumle ner Nils Holgersson på bottnen av \n",
      " - \"Jo, jag är Nils Holgersson från Västra Ve\n",
      " den tiden, då Nils Holgersson for omkring me\n",
      "år - Det står: Nils Holgersson fr. V. Vemmenh\n",
      " ungefär innan Nils Holgersson hade börjat si\n",
      "fter föda, men Nils Holgersson hade på morgon\n",
      "e det året, då Nils Holgersson for fram över \n",
      "at tassen över Nils Holgerssons ansikte, så a\n",
      "Denna dag fick Nils Holgersson se södra Dalar\n",
      ". Det året, då Nils Holgersson for med vildgä\n",
      "pptäckten till Nils Holgersson. Det var ju bå\n",
      "n varade, stod Nils Holgersson och lyssnade t\n",
      "vassrugge. Vad Nils Holgersson angår, så var \n",
      "r en sådan som Nils Holgersson att finna en f\n",
      "kommit mittför Nils Holgersson, slogo de sig \n",
      " dem tiden, då Nils Holgersson drog genom lan\n",
      "a lycklig. Att Nils Holgersson, som för ett p\n",
      "h således hade Nils Holgersson fått se studen\n",
      " marschen. Men Nils Holgersson hade tyckt, at\n",
      " så som dessa. Nils Holgersson hade mest sett\n",
      "e han. \"Jag är Nils Holgersson från Västra Ve\n",
      "r före det, då Nils Holgersson drog omkring m\n",
      "fattade han om Nils Holgersson med sin stora \n",
      "r än den lilla Nils Holgersson, som följde he\n",
      "da med is, och Nils Holgersson ville följa he\n",
      " är mitt!\" Men Nils Holgersson hade blivit så\n",
      "pväggarna, och Nils Holgersson kunde förstå, \n",
      "n Det året, då Nils Holgersson for omkring me\n",
      "undgå den. Vad Nils Holgersson beträffar, så \n",
      "lagit klorna i Nils Holgerssons skuldra och h\n",
      "t det året, då Nils Holgersson for omkring me\n",
      "vara bedrövad, Nils Holgersson,\" sade solen. \n",
      " inte kunde ge Nils Holgersson bättre villkor\n",
      "sade han. 'Men Nils Holgersson blir det ändå \n",
      "honom. Ja, säg Nils Holgersson, att föräldrar\n",
      "and. Den lille Nils Holgersson hade krupit up\n",
      "mre. Den lille Nils Holgersson hade följt med\n",
      "ra.\" Då tyckte Nils Holgersson, att när ingen\n",
      "tt följa det.\" Nils Holgersson sprang raskt n\n",
      "n de unga. Vad Nils Holgersson beträffar, så \n",
      " tid att se på Nils Holgersson, innan hon stö\n",
      "eles olik. Den Nils Holgersson, som hade fari\n",
      "Välkommen hem, Nils Holgersson, välkommen hem\n",
      " gården,\" sade Nils Holgersson. \"Min egen mor\n",
      "sjukdom,\" sade Nils Holgersson. \"Jag får förs\n",
      "r på din hov?\" Nils Holgersson var nätt och j\n",
      "som var så lik Nils Holgersson, att om det in\n",
      "ns i närheten. Nils Holgersson hörde honom no\n",
      "p ett tack för Nils Holgersson? Vad skulle de\n"
     ]
    }
   ],
   "source": [
    "for match in re.finditer(concordance, text):\n",
    "    print(match.group(1))"
   ]
  },
  {
   "cell_type": "code",
   "execution_count": null,
   "metadata": {},
   "outputs": [],
   "source": []
  }
 ],
 "metadata": {
  "anaconda-cloud": {},
  "kernelspec": {
   "display_name": "Python 3.9.12 ('base')",
   "language": "python",
   "name": "python3"
  },
  "language_info": {
   "codemirror_mode": {
    "name": "ipython",
    "version": 3
   },
   "file_extension": ".py",
   "mimetype": "text/x-python",
   "name": "python",
   "nbconvert_exporter": "python",
   "pygments_lexer": "ipython3",
   "version": "3.9.12"
  },
  "vscode": {
   "interpreter": {
    "hash": "b97b11a820675205aae8f1d7f2a3f22bbd3a2c30189f44042310baf5b4cd1987"
   }
  }
 },
 "nbformat": 4,
 "nbformat_minor": 4
}
