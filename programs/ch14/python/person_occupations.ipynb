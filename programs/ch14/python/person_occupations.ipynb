{
 "cells": [
  {
   "cell_type": "markdown",
   "metadata": {},
   "source": [
    "# Extraction of a person's occupations from wikidata\n",
    "Example with Obama\n",
    "\n",
    "__author__ = \"Pierre Nugues\""
   ]
  },
  {
   "cell_type": "markdown",
   "metadata": {},
   "source": [
    "A few imports"
   ]
  },
  {
   "cell_type": "code",
   "execution_count": null,
   "metadata": {},
   "outputs": [],
   "source": [
    "import requests\n",
    "import pandas as pd\n",
    "import json"
   ]
  },
  {
   "cell_type": "markdown",
   "metadata": {},
   "source": [
    "Setting the presentation options"
   ]
  },
  {
   "cell_type": "code",
   "execution_count": null,
   "metadata": {},
   "outputs": [],
   "source": [
    "pd.options.display.max_rows = 10000\n",
    "pd.options.display.max_columns = 80\n",
    "pd.options.display.width = 200"
   ]
  },
  {
   "cell_type": "markdown",
   "metadata": {},
   "source": [
    "The query"
   ]
  },
  {
   "cell_type": "code",
   "execution_count": null,
   "metadata": {},
   "outputs": [],
   "source": [
    "prefixes = '''PREFIX wikibase: <http://wikiba.se/ontology#>\n",
    "PREFIX wd: <http://www.wikidata.org/entity/>\n",
    "PREFIX p: <http://www.wikidata.org/prop/>\n",
    "PREFIX wdt: <http://www.wikidata.org/prop/direct/>\n",
    "PREFIX ps: <http://www.wikidata.org/prop/statement/>\n",
    "PREFIX rdfs: <http://www.w3.org/2000/01/rdf-schema#>\n",
    "'''\n",
    "\n",
    "# Q22686 Donald Trump\n",
    "# Q76 Barack Obama\n",
    "# Q2740012 Stefan Löfven\n",
    "# p: entity to statement\n",
    "# ps: statement to value\n",
    "# can be replaced by wdt: (truthy, missing a facts)\n",
    "# See: https://stackoverflow.com/questions/36023098/querying-wikidata-difference-between-p-and-wdt-default-prefix\n",
    "english_query = '''\n",
    "SELECT DISTINCT ?item ?itemLabelOcc (lang(?itemLabel) as ?lang)\n",
    "WHERE \n",
    "{\n",
    "    wd:Q2740012 p:P106 ?occupation .\n",
    "    ?occupation ps:P106 ?item .\n",
    "    ?item rdfs:label ?itemLabelOcc .\n",
    "    FILTER (lang(?itemLabelOcc) = \"en\") .\n",
    "}\n",
    "LIMIT 1000'''"
   ]
  },
  {
   "cell_type": "markdown",
   "metadata": {},
   "source": [
    "We query the data from wikidata"
   ]
  },
  {
   "cell_type": "code",
   "execution_count": null,
   "metadata": {},
   "outputs": [],
   "source": [
    "url = 'https://query.wikidata.org/bigdata/namespace/wdq/sparql'\n",
    "data = requests.get(url, params={'query': prefixes + english_query, 'format': 'json'}).json()\n",
    "data"
   ]
  },
  {
   "cell_type": "markdown",
   "metadata": {},
   "source": [
    "And we print it"
   ]
  },
  {
   "cell_type": "code",
   "execution_count": null,
   "metadata": {},
   "outputs": [],
   "source": [
    "profession = []\n",
    "for item in data['results']['bindings']:\n",
    "    profession.append({\n",
    "        'id': item.get('item', {}).get('value'),\n",
    "        'occupation': item.get('itemLabelOcc', {}).get('value'),\n",
    "        'lang': item.get('itemLabelOcc', {}).get('xml:lang'),\n",
    "    })\n",
    "\n",
    "df = pd.DataFrame(profession)\n",
    "df"
   ]
  },
  {
   "cell_type": "markdown",
   "metadata": {},
   "source": [
    "Going multilingual"
   ]
  },
  {
   "cell_type": "code",
   "execution_count": null,
   "metadata": {},
   "outputs": [],
   "source": [
    "multilingual_query = '''\n",
    "SELECT DISTINCT ?item ?itemLabelOcc (lang(?itemLabel) as ?lang)\n",
    "WHERE \n",
    "{\n",
    "    wd:Q2740012 p:P106 ?occupation .\n",
    "    ?occupation ps:P106 ?item .\n",
    "    ?item rdfs:label ?itemLabelOcc . \n",
    "}\n",
    "LIMIT 1000'''"
   ]
  },
  {
   "cell_type": "markdown",
   "metadata": {},
   "source": [
    "The query"
   ]
  },
  {
   "cell_type": "code",
   "execution_count": null,
   "metadata": {},
   "outputs": [],
   "source": [
    "url = 'https://query.wikidata.org/bigdata/namespace/wdq/sparql'\n",
    "data = requests.get(url, params={'query': prefixes + multilingual_query, 'format': 'json'}).json()\n",
    "#data"
   ]
  },
  {
   "cell_type": "markdown",
   "metadata": {},
   "source": [
    "And we print it"
   ]
  },
  {
   "cell_type": "code",
   "execution_count": null,
   "metadata": {},
   "outputs": [],
   "source": [
    "profession = []\n",
    "for item in data['results']['bindings']:\n",
    "    profession.append({\n",
    "        'id': item.get('item', {}).get('value'),\n",
    "        'occupation': item.get('itemLabelOcc', {}).get('value'),\n",
    "        'lang': item.get('itemLabelOcc', {}).get('xml:lang'),\n",
    "    })\n",
    "\n",
    "df = pd.DataFrame(profession)\n",
    "print(df)"
   ]
  },
  {
   "cell_type": "code",
   "execution_count": null,
   "metadata": {},
   "outputs": [],
   "source": []
  },
  {
   "cell_type": "code",
   "execution_count": null,
   "metadata": {},
   "outputs": [],
   "source": []
  }
 ],
 "metadata": {
  "kernelspec": {
   "display_name": "Python 3 (ipykernel)",
   "language": "python",
   "name": "python3"
  },
  "language_info": {
   "codemirror_mode": {
    "name": "ipython",
    "version": 3
   },
   "file_extension": ".py",
   "mimetype": "text/x-python",
   "name": "python",
   "nbconvert_exporter": "python",
   "pygments_lexer": "ipython3",
   "version": "3.8.11"
  }
 },
 "nbformat": 4,
 "nbformat_minor": 4
}
