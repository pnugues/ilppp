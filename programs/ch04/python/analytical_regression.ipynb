{
 "cells": [
  {
   "cell_type": "markdown",
   "metadata": {},
   "source": [
    "# Analytical Regression\n",
    "Computing a regression using preudo-inverse matrices\n",
    "\n",
    "Author: Pierre Nugues"
   ]
  },
  {
   "cell_type": "markdown",
   "metadata": {},
   "source": [
    "## The modules"
   ]
  },
  {
   "cell_type": "code",
   "execution_count": 1,
   "metadata": {},
   "outputs": [],
   "source": [
    "%matplotlib inline\n",
    "import matplotlib.pyplot as plt\n",
    "import numpy as np"
   ]
  },
  {
   "cell_type": "markdown",
   "metadata": {},
   "source": [
    "## The Functions"
   ]
  },
  {
   "cell_type": "markdown",
   "metadata": {},
   "source": [
    "### Pseudo-inverse with a numpy `matrix`"
   ]
  },
  {
   "cell_type": "code",
   "execution_count": 2,
   "metadata": {},
   "outputs": [],
   "source": [
    "def regression_matrix(X, y, reg=0.0):\n",
    "    \"\"\"\n",
    "    Computes the regression using numpy matrices\n",
    "    :param observations, regularization\n",
    "    :return: weights, ŷ, se, sse\n",
    "    \"\"\"\n",
    "    if reg != 0.0:\n",
    "        print('Regularized')\n",
    "    I = np.identity(X.shape[1])\n",
    "    w = (X.T * X + reg * I).I * X.T * y\n",
    "    y_hat = X * w\n",
    "    se = np.square(y_hat - y)\n",
    "    sse = (y_hat - y).T * (y_hat - y)\n",
    "    return w, y_hat, se, sse"
   ]
  },
  {
   "cell_type": "markdown",
   "metadata": {},
   "source": [
    "### Pseudo-inverse with a numpy `array`"
   ]
  },
  {
   "cell_type": "code",
   "execution_count": 3,
   "metadata": {},
   "outputs": [],
   "source": [
    "def regression_array(X, y, reg=0.0):\n",
    "    \"\"\"\n",
    "    Computes the regression using numpy arrays\n",
    "    :param observations:\n",
    "    :return: weights, ŷ, sse\n",
    "    \"\"\"\n",
    "    if reg != 0.0:\n",
    "        print('Regularized')\n",
    "    I = np.identity(X.shape[1])\n",
    "    w = (np.linalg.inv(X.T @ X + reg * I) @ X.T) @ y\n",
    "    # Or directly with pinv()\n",
    "    # w = np.linalg.pinv(X) @ y\n",
    "    y_hat = X @ w\n",
    "    se = (y_hat - y) * (y_hat - y)\n",
    "    sse = (y_hat - y).T @ (y_hat - y)\n",
    "    return w, y_hat, se, sse"
   ]
  },
  {
   "cell_type": "markdown",
   "metadata": {},
   "source": [
    "## The Dataset"
   ]
  },
  {
   "cell_type": "markdown",
   "metadata": {},
   "source": [
    "The number of characters and number of _a_ in the French and English chapters"
   ]
  },
  {
   "cell_type": "code",
   "execution_count": 4,
   "metadata": {},
   "outputs": [],
   "source": [
    "stat_fr = np.array([[36961, 2503],\n",
    "                      [43621, 2992],\n",
    "                      [15694, 1042],\n",
    "                      [36231, 2487],\n",
    "                      [29945, 2014],\n",
    "                      [40588, 2805],\n",
    "                      [75255, 5062],\n",
    "                      [37709, 2643],\n",
    "                      [30899, 2126],\n",
    "                      [25486, 1784],\n",
    "                      [37497, 2641],\n",
    "                      [40398, 2766],\n",
    "                      [74105, 5047],\n",
    "                      [76725, 5312],\n",
    "                      [18317, 1215]])\n",
    "\n",
    "stat_en = np.array([[35680, 2217],\n",
    "                      [42514, 2761],\n",
    "                      [15162, 990],\n",
    "                      [35298, 2274],\n",
    "                      [29800, 1865],\n",
    "                      [40255, 2606],\n",
    "                      [74532, 4805],\n",
    "                      [37464, 2396],\n",
    "                      [31030, 1993],\n",
    "                      [24843, 1627],\n",
    "                      [36172, 2375],\n",
    "                      [39552, 2560],\n",
    "                      [72545, 4597],\n",
    "                      [75352, 4871],\n",
    "                      [18031, 1119]])"
   ]
  },
  {
   "cell_type": "code",
   "execution_count": 5,
   "metadata": {},
   "outputs": [
    {
     "data": {
      "text/plain": [
       "(15, 2)"
      ]
     },
     "execution_count": 5,
     "metadata": {},
     "output_type": "execute_result"
    }
   ],
   "source": [
    "stat_fr.shape"
   ]
  },
  {
   "cell_type": "code",
   "execution_count": 6,
   "metadata": {},
   "outputs": [
    {
     "data": {
      "text/plain": [
       "array([[1.],\n",
       "       [1.],\n",
       "       [1.],\n",
       "       [1.],\n",
       "       [1.],\n",
       "       [1.],\n",
       "       [1.],\n",
       "       [1.],\n",
       "       [1.],\n",
       "       [1.],\n",
       "       [1.],\n",
       "       [1.],\n",
       "       [1.],\n",
       "       [1.],\n",
       "       [1.]])"
      ]
     },
     "execution_count": 6,
     "metadata": {},
     "output_type": "execute_result"
    }
   ],
   "source": [
    "np.ones((stat_fr.shape[0],1))"
   ]
  },
  {
   "cell_type": "code",
   "execution_count": 7,
   "metadata": {},
   "outputs": [
    {
     "data": {
      "text/plain": [
       "array([[1.0000e+00, 3.6961e+04, 2.5030e+03],\n",
       "       [1.0000e+00, 4.3621e+04, 2.9920e+03],\n",
       "       [1.0000e+00, 1.5694e+04, 1.0420e+03],\n",
       "       [1.0000e+00, 3.6231e+04, 2.4870e+03],\n",
       "       [1.0000e+00, 2.9945e+04, 2.0140e+03],\n",
       "       [1.0000e+00, 4.0588e+04, 2.8050e+03],\n",
       "       [1.0000e+00, 7.5255e+04, 5.0620e+03],\n",
       "       [1.0000e+00, 3.7709e+04, 2.6430e+03],\n",
       "       [1.0000e+00, 3.0899e+04, 2.1260e+03],\n",
       "       [1.0000e+00, 2.5486e+04, 1.7840e+03],\n",
       "       [1.0000e+00, 3.7497e+04, 2.6410e+03],\n",
       "       [1.0000e+00, 4.0398e+04, 2.7660e+03],\n",
       "       [1.0000e+00, 7.4105e+04, 5.0470e+03],\n",
       "       [1.0000e+00, 7.6725e+04, 5.3120e+03],\n",
       "       [1.0000e+00, 1.8317e+04, 1.2150e+03]])"
      ]
     },
     "execution_count": 7,
     "metadata": {},
     "output_type": "execute_result"
    }
   ],
   "source": [
    "stat_fr = np.hstack((np.ones((stat_fr.shape[0],1)), stat_fr))\n",
    "stat_fr"
   ]
  },
  {
   "cell_type": "code",
   "execution_count": 8,
   "metadata": {},
   "outputs": [
    {
     "data": {
      "text/plain": [
       "array([[1.0000e+00, 3.5680e+04, 2.2170e+03],\n",
       "       [1.0000e+00, 4.2514e+04, 2.7610e+03],\n",
       "       [1.0000e+00, 1.5162e+04, 9.9000e+02],\n",
       "       [1.0000e+00, 3.5298e+04, 2.2740e+03],\n",
       "       [1.0000e+00, 2.9800e+04, 1.8650e+03],\n",
       "       [1.0000e+00, 4.0255e+04, 2.6060e+03],\n",
       "       [1.0000e+00, 7.4532e+04, 4.8050e+03],\n",
       "       [1.0000e+00, 3.7464e+04, 2.3960e+03],\n",
       "       [1.0000e+00, 3.1030e+04, 1.9930e+03],\n",
       "       [1.0000e+00, 2.4843e+04, 1.6270e+03],\n",
       "       [1.0000e+00, 3.6172e+04, 2.3750e+03],\n",
       "       [1.0000e+00, 3.9552e+04, 2.5600e+03],\n",
       "       [1.0000e+00, 7.2545e+04, 4.5970e+03],\n",
       "       [1.0000e+00, 7.5352e+04, 4.8710e+03],\n",
       "       [1.0000e+00, 1.8031e+04, 1.1190e+03]])"
      ]
     },
     "execution_count": 8,
     "metadata": {},
     "output_type": "execute_result"
    }
   ],
   "source": [
    "stat_en = np.hstack((np.ones((stat_en.shape[0],1)), stat_en))\n",
    "stat_en"
   ]
  },
  {
   "cell_type": "markdown",
   "metadata": {},
   "source": [
    "## Computing the Regression Using Arrays"
   ]
  },
  {
   "cell_type": "code",
   "execution_count": 9,
   "metadata": {},
   "outputs": [],
   "source": [
    "pattern = [('red', 's'), ('green', '^')]\n",
    "lang = [None] * 2"
   ]
  },
  {
   "cell_type": "code",
   "execution_count": 10,
   "metadata": {},
   "outputs": [
    {
     "name": "stdout",
     "output_type": "stream",
     "text": [
      "Language: 0\n",
      "X: [[1.0000e+00 3.5680e+04]\n",
      " [1.0000e+00 4.2514e+04]\n",
      " [1.0000e+00 1.5162e+04]\n",
      " [1.0000e+00 3.5298e+04]\n",
      " [1.0000e+00 2.9800e+04]\n",
      " [1.0000e+00 4.0255e+04]\n",
      " [1.0000e+00 7.4532e+04]\n",
      " [1.0000e+00 3.7464e+04]\n",
      " [1.0000e+00 3.1030e+04]\n",
      " [1.0000e+00 2.4843e+04]\n",
      " [1.0000e+00 3.6172e+04]\n",
      " [1.0000e+00 3.9552e+04]\n",
      " [1.0000e+00 7.2545e+04]\n",
      " [1.0000e+00 7.5352e+04]\n",
      " [1.0000e+00 1.8031e+04]]\n",
      "y: [[2217.]\n",
      " [2761.]\n",
      " [ 990.]\n",
      " [2274.]\n",
      " [1865.]\n",
      " [2606.]\n",
      " [4805.]\n",
      " [2396.]\n",
      " [1993.]\n",
      " [1627.]\n",
      " [2375.]\n",
      " [2560.]\n",
      " [4597.]\n",
      " [4871.]\n",
      " [1119.]]\n",
      "ŷ: [[2290.67191078]\n",
      " [2730.10675161]\n",
      " [ 971.33856803]\n",
      " [2266.10882778]\n",
      " [1912.58047617]\n",
      " [2584.85019536]\n",
      " [4788.90463484]\n",
      " [2405.38536645]\n",
      " [1991.67103136]\n",
      " [1593.83910859]\n",
      " [2322.30813286]\n",
      " [2539.64640649]\n",
      " [4661.13802249]\n",
      " [4841.63167164]\n",
      " [1155.81889557]]\n",
      "Squared errors: [[5.42755044e+03]\n",
      " [9.54392796e+02]\n",
      " [3.48249043e+02]\n",
      " [6.22705990e+01]\n",
      " [2.26390171e+03]\n",
      " [4.47314236e+02]\n",
      " [2.59060780e+02]\n",
      " [8.80851033e+01]\n",
      " [1.76615763e+00]\n",
      " [1.09964472e+03]\n",
      " [2.77643286e+03]\n",
      " [4.14268769e+02]\n",
      " [4.11368593e+03]\n",
      " [8.62498711e+02]\n",
      " [1.35563107e+03]]\n",
      "Weights [[-3.59720264  0.06430126]]\n",
      "SSE [[20474.75292687]]\n",
      "Language: 1\n",
      "X: [[1.0000e+00 3.6961e+04]\n",
      " [1.0000e+00 4.3621e+04]\n",
      " [1.0000e+00 1.5694e+04]\n",
      " [1.0000e+00 3.6231e+04]\n",
      " [1.0000e+00 2.9945e+04]\n",
      " [1.0000e+00 4.0588e+04]\n",
      " [1.0000e+00 7.5255e+04]\n",
      " [1.0000e+00 3.7709e+04]\n",
      " [1.0000e+00 3.0899e+04]\n",
      " [1.0000e+00 2.5486e+04]\n",
      " [1.0000e+00 3.7497e+04]\n",
      " [1.0000e+00 4.0398e+04]\n",
      " [1.0000e+00 7.4105e+04]\n",
      " [1.0000e+00 7.6725e+04]\n",
      " [1.0000e+00 1.8317e+04]]\n",
      "y: [[2503.]\n",
      " [2992.]\n",
      " [1042.]\n",
      " [2487.]\n",
      " [2014.]\n",
      " [2805.]\n",
      " [5062.]\n",
      " [2643.]\n",
      " [2126.]\n",
      " [1784.]\n",
      " [2641.]\n",
      " [2766.]\n",
      " [5047.]\n",
      " [5312.]\n",
      " [1215.]]\n",
      "ŷ: [[2533.22026927]\n",
      " [2988.1088367 ]\n",
      " [1080.65042489]\n",
      " [2483.36011098]\n",
      " [2054.01633697]\n",
      " [2780.95012423]\n",
      " [5148.76123041]\n",
      " [2584.30985612]\n",
      " [2119.17605068]\n",
      " [1749.45956187]\n",
      " [2569.82991974]\n",
      " [2767.97282276]\n",
      " [5070.21440571]\n",
      " [5249.16456286]\n",
      " [1259.80548681]]\n",
      "Squared errors: [[9.13264675e+02]\n",
      " [1.51411518e+01]\n",
      " [1.49385534e+03]\n",
      " [1.32487921e+01]\n",
      " [1.60130722e+03]\n",
      " [5.78396524e+02]\n",
      " [7.52751110e+03]\n",
      " [3.44453299e+03]\n",
      " [4.65662843e+01]\n",
      " [1.19304187e+03]\n",
      " [5.06518032e+03]\n",
      " [3.89202965e+00]\n",
      " [5.38908632e+02]\n",
      " [3.94829216e+03]\n",
      " [2.00753165e+03]]\n",
      "Weights [[8.7253232  0.06830159]]\n",
      "SSE [[28390.67074761]]\n"
     ]
    },
    {
     "data": {
      "image/png": "[encoded data removed]",
      "text/plain": [
       "<Figure size 432x288 with 1 Axes>"
      ]
     },
     "metadata": {
      "needs_background": "light"
     },
     "output_type": "display_data"
    }
   ],
   "source": [
    "for i, stats in enumerate([stat_en, stat_fr]):\n",
    "    x_l = stats[:, 1]\n",
    "    y_l = stats[:, -1]\n",
    "    lang[i] = plt.scatter(x_l, y_l, color=pattern[i][0], marker=pattern[i][1])\n",
    "    X = stats[:, :-1]\n",
    "    y =stats[:, -1:]\n",
    "    w, y_hat, se, sse = regression_array(X, y)\n",
    "    print('Language:', i)\n",
    "    print('X:', X)\n",
    "    print('y:', y)\n",
    "    print('ŷ:', y_hat)\n",
    "    print('Squared errors:', se)\n",
    "    print(\"Weights\", w.T)\n",
    "    print(\"SSE\", sse)\n",
    "    plt.plot([min(x_l), max(x_l)],\n",
    "             [([1, min(x_l)] @ w), ([1, max(x_l)] @ w)],\n",
    "             color=pattern[i][0])\n",
    "plt.title(\"Salammbô\")\n",
    "plt.xlabel(\"Letter count\")\n",
    "plt.ylabel(\"A count\")\n",
    "plt.legend((lang[0], lang[1]), ('English', 'French'), loc='lower right', scatterpoints=1)\n",
    "plt.show()"
   ]
  },
  {
   "cell_type": "markdown",
   "metadata": {},
   "source": [
    "## Computing the Regression Using Matrices"
   ]
  },
  {
   "cell_type": "code",
   "execution_count": 11,
   "metadata": {},
   "outputs": [
    {
     "name": "stdout",
     "output_type": "stream",
     "text": [
      "Language: 0\n",
      "X: [[1.0000e+00 3.5680e+04]\n",
      " [1.0000e+00 4.2514e+04]\n",
      " [1.0000e+00 1.5162e+04]\n",
      " [1.0000e+00 3.5298e+04]\n",
      " [1.0000e+00 2.9800e+04]\n",
      " [1.0000e+00 4.0255e+04]\n",
      " [1.0000e+00 7.4532e+04]\n",
      " [1.0000e+00 3.7464e+04]\n",
      " [1.0000e+00 3.1030e+04]\n",
      " [1.0000e+00 2.4843e+04]\n",
      " [1.0000e+00 3.6172e+04]\n",
      " [1.0000e+00 3.9552e+04]\n",
      " [1.0000e+00 7.2545e+04]\n",
      " [1.0000e+00 7.5352e+04]\n",
      " [1.0000e+00 1.8031e+04]]\n",
      "y: [[2217.]\n",
      " [2761.]\n",
      " [ 990.]\n",
      " [2274.]\n",
      " [1865.]\n",
      " [2606.]\n",
      " [4805.]\n",
      " [2396.]\n",
      " [1993.]\n",
      " [1627.]\n",
      " [2375.]\n",
      " [2560.]\n",
      " [4597.]\n",
      " [4871.]\n",
      " [1119.]]\n",
      "ŷ: [[2290.67191078]\n",
      " [2730.10675161]\n",
      " [ 971.33856803]\n",
      " [2266.10882778]\n",
      " [1912.58047617]\n",
      " [2584.85019536]\n",
      " [4788.90463484]\n",
      " [2405.38536645]\n",
      " [1991.67103136]\n",
      " [1593.83910859]\n",
      " [2322.30813286]\n",
      " [2539.64640649]\n",
      " [4661.13802249]\n",
      " [4841.63167164]\n",
      " [1155.81889557]]\n",
      "Squared errors: [[5.42755044e+03]\n",
      " [9.54392796e+02]\n",
      " [3.48249043e+02]\n",
      " [6.22705990e+01]\n",
      " [2.26390171e+03]\n",
      " [4.47314236e+02]\n",
      " [2.59060780e+02]\n",
      " [8.80851033e+01]\n",
      " [1.76615763e+00]\n",
      " [1.09964472e+03]\n",
      " [2.77643286e+03]\n",
      " [4.14268769e+02]\n",
      " [4.11368593e+03]\n",
      " [8.62498711e+02]\n",
      " [1.35563107e+03]]\n",
      "Weights [[-3.59720264  0.06430126]]\n",
      "SSE [[20474.75292687]]\n",
      "Language: 1\n",
      "X: [[1.0000e+00 3.6961e+04]\n",
      " [1.0000e+00 4.3621e+04]\n",
      " [1.0000e+00 1.5694e+04]\n",
      " [1.0000e+00 3.6231e+04]\n",
      " [1.0000e+00 2.9945e+04]\n",
      " [1.0000e+00 4.0588e+04]\n",
      " [1.0000e+00 7.5255e+04]\n",
      " [1.0000e+00 3.7709e+04]\n",
      " [1.0000e+00 3.0899e+04]\n",
      " [1.0000e+00 2.5486e+04]\n",
      " [1.0000e+00 3.7497e+04]\n",
      " [1.0000e+00 4.0398e+04]\n",
      " [1.0000e+00 7.4105e+04]\n",
      " [1.0000e+00 7.6725e+04]\n",
      " [1.0000e+00 1.8317e+04]]\n",
      "y: [[2503.]\n",
      " [2992.]\n",
      " [1042.]\n",
      " [2487.]\n",
      " [2014.]\n",
      " [2805.]\n",
      " [5062.]\n",
      " [2643.]\n",
      " [2126.]\n",
      " [1784.]\n",
      " [2641.]\n",
      " [2766.]\n",
      " [5047.]\n",
      " [5312.]\n",
      " [1215.]]\n",
      "ŷ: [[2533.22026927]\n",
      " [2988.1088367 ]\n",
      " [1080.65042489]\n",
      " [2483.36011098]\n",
      " [2054.01633697]\n",
      " [2780.95012423]\n",
      " [5148.76123041]\n",
      " [2584.30985612]\n",
      " [2119.17605068]\n",
      " [1749.45956187]\n",
      " [2569.82991974]\n",
      " [2767.97282276]\n",
      " [5070.21440571]\n",
      " [5249.16456286]\n",
      " [1259.80548681]]\n",
      "Squared errors: [[9.13264675e+02]\n",
      " [1.51411518e+01]\n",
      " [1.49385534e+03]\n",
      " [1.32487921e+01]\n",
      " [1.60130722e+03]\n",
      " [5.78396524e+02]\n",
      " [7.52751110e+03]\n",
      " [3.44453299e+03]\n",
      " [4.65662843e+01]\n",
      " [1.19304187e+03]\n",
      " [5.06518032e+03]\n",
      " [3.89202965e+00]\n",
      " [5.38908632e+02]\n",
      " [3.94829216e+03]\n",
      " [2.00753165e+03]]\n",
      "Weights [[8.7253232  0.06830159]]\n",
      "SSE [[28390.67074761]]\n"
     ]
    },
    {
     "data": {
      "image/png": "[encoded data removed]",
      "text/plain": [
       "<Figure size 432x288 with 1 Axes>"
      ]
     },
     "metadata": {
      "needs_background": "light"
     },
     "output_type": "display_data"
    }
   ],
   "source": [
    "for i, stats in enumerate([stat_en, stat_fr]):\n",
    "    x_l = stats[:, 1]\n",
    "    y_l = stats[:, -1]\n",
    "    lang[i] = plt.scatter(x_l, y_l, color=pattern[i][0], marker=pattern[i][1])\n",
    "    X = np.matrix(stats[:, :-1])\n",
    "    y = np.matrix(stats[:, -1:])\n",
    "    w, y_hat, se, sse = regression_matrix(X, y)\n",
    "    print('Language:', i)\n",
    "    print('X:', X)\n",
    "    print('y:', y)\n",
    "    print('ŷ:', y_hat)\n",
    "    print('Squared errors:', se)\n",
    "    print(\"Weights\", w.T)\n",
    "    print(\"SSE\", sse)\n",
    "\n",
    "    w = np.array(w)\n",
    "    plt.plot([min(x_l), max(x_l)],\n",
    "             [([1, min(x_l)] @ w), ([1, max(x_l)] @ w)],\n",
    "             color=pattern[i][0])\n",
    "plt.title(\"Salammbô\")\n",
    "plt.xlabel(\"Letter count\")\n",
    "plt.ylabel(\"A count\")\n",
    "plt.legend((lang[0], lang[1]), ('English', 'French'), loc='lower right', scatterpoints=1)\n",
    "plt.show()"
   ]
  },
  {
   "cell_type": "markdown",
   "metadata": {},
   "source": [
    "## Singular Matrix"
   ]
  },
  {
   "cell_type": "markdown",
   "metadata": {},
   "source": [
    "We now introduce a singular matrix, something all too frequent in regression experiments. We just duplicate one column."
   ]
  },
  {
   "cell_type": "code",
   "execution_count": 12,
   "metadata": {},
   "outputs": [
    {
     "data": {
      "text/plain": [
       "array([[1.0000e+00, 3.6961e+04, 2.5030e+03],\n",
       "       [1.0000e+00, 4.3621e+04, 2.9920e+03],\n",
       "       [1.0000e+00, 1.5694e+04, 1.0420e+03],\n",
       "       [1.0000e+00, 3.6231e+04, 2.4870e+03],\n",
       "       [1.0000e+00, 2.9945e+04, 2.0140e+03],\n",
       "       [1.0000e+00, 4.0588e+04, 2.8050e+03],\n",
       "       [1.0000e+00, 7.5255e+04, 5.0620e+03],\n",
       "       [1.0000e+00, 3.7709e+04, 2.6430e+03],\n",
       "       [1.0000e+00, 3.0899e+04, 2.1260e+03],\n",
       "       [1.0000e+00, 2.5486e+04, 1.7840e+03],\n",
       "       [1.0000e+00, 3.7497e+04, 2.6410e+03],\n",
       "       [1.0000e+00, 4.0398e+04, 2.7660e+03],\n",
       "       [1.0000e+00, 7.4105e+04, 5.0470e+03],\n",
       "       [1.0000e+00, 7.6725e+04, 5.3120e+03],\n",
       "       [1.0000e+00, 1.8317e+04, 1.2150e+03]])"
      ]
     },
     "execution_count": 12,
     "metadata": {},
     "output_type": "execute_result"
    }
   ],
   "source": [
    "stat_fr"
   ]
  },
  {
   "cell_type": "code",
   "execution_count": 13,
   "metadata": {},
   "outputs": [
    {
     "data": {
      "text/plain": [
       "array([[1.0000e+00, 3.6961e+04, 3.6961e+04, 2.5030e+03],\n",
       "       [1.0000e+00, 4.3621e+04, 4.3621e+04, 2.9920e+03],\n",
       "       [1.0000e+00, 1.5694e+04, 1.5694e+04, 1.0420e+03],\n",
       "       [1.0000e+00, 3.6231e+04, 3.6231e+04, 2.4870e+03],\n",
       "       [1.0000e+00, 2.9945e+04, 2.9945e+04, 2.0140e+03],\n",
       "       [1.0000e+00, 4.0588e+04, 4.0588e+04, 2.8050e+03],\n",
       "       [1.0000e+00, 7.5255e+04, 7.5255e+04, 5.0620e+03],\n",
       "       [1.0000e+00, 3.7709e+04, 3.7709e+04, 2.6430e+03],\n",
       "       [1.0000e+00, 3.0899e+04, 3.0899e+04, 2.1260e+03],\n",
       "       [1.0000e+00, 2.5486e+04, 2.5486e+04, 1.7840e+03],\n",
       "       [1.0000e+00, 3.7497e+04, 3.7497e+04, 2.6410e+03],\n",
       "       [1.0000e+00, 4.0398e+04, 4.0398e+04, 2.7660e+03],\n",
       "       [1.0000e+00, 7.4105e+04, 7.4105e+04, 5.0470e+03],\n",
       "       [1.0000e+00, 7.6725e+04, 7.6725e+04, 5.3120e+03],\n",
       "       [1.0000e+00, 1.8317e+04, 1.8317e+04, 1.2150e+03]])"
      ]
     },
     "execution_count": 13,
     "metadata": {},
     "output_type": "execute_result"
    }
   ],
   "source": [
    "stat_fr_sing = np.hstack((stat_fr[:, :-1], stat_fr[:, -2:-1], stat_fr[:, -1:]))\n",
    "stat_fr_sing"
   ]
  },
  {
   "cell_type": "code",
   "execution_count": 14,
   "metadata": {},
   "outputs": [
    {
     "name": "stdout",
     "output_type": "stream",
     "text": [
      "Trying regularization with a singular matrix\n",
      "X: [[1.0000e+00 3.6961e+04 3.6961e+04]\n",
      " [1.0000e+00 4.3621e+04 4.3621e+04]\n",
      " [1.0000e+00 1.5694e+04 1.5694e+04]\n",
      " [1.0000e+00 3.6231e+04 3.6231e+04]\n",
      " [1.0000e+00 2.9945e+04 2.9945e+04]\n",
      " [1.0000e+00 4.0588e+04 4.0588e+04]\n",
      " [1.0000e+00 7.5255e+04 7.5255e+04]\n",
      " [1.0000e+00 3.7709e+04 3.7709e+04]\n",
      " [1.0000e+00 3.0899e+04 3.0899e+04]\n",
      " [1.0000e+00 2.5486e+04 2.5486e+04]\n",
      " [1.0000e+00 3.7497e+04 3.7497e+04]\n",
      " [1.0000e+00 4.0398e+04 4.0398e+04]\n",
      " [1.0000e+00 7.4105e+04 7.4105e+04]\n",
      " [1.0000e+00 7.6725e+04 7.6725e+04]\n",
      " [1.0000e+00 1.8317e+04 1.8317e+04]]\n",
      "y: [2503. 2992. 1042. 2487. 2014. 2805. 5062. 2643. 2126. 1784. 2641. 2766.\n",
      " 5047. 5312. 1215.]\n",
      "<class 'numpy.linalg.LinAlgError'>\n",
      "Singular matrix: Could not be inverted.\n"
     ]
    }
   ],
   "source": [
    "print('Trying regularization with a singular matrix')\n",
    "# Creation of a singular matrix by duplicating a column\n",
    "X = np.array(stat_fr_sing)[:, :-1]\n",
    "y = np.array(stat_fr_sing)[:, -1]\n",
    "print('X:', X)\n",
    "print('y:', y)\n",
    "try:\n",
    "    regression_array(X, y)\n",
    "except:\n",
    "    print(np.linalg.linalg.LinAlgError)\n",
    "    print(\"Singular matrix: Could not be inverted.\")"
   ]
  },
  {
   "cell_type": "markdown",
   "metadata": {},
   "source": [
    "### Singular Matrix with Regularization"
   ]
  },
  {
   "cell_type": "markdown",
   "metadata": {},
   "source": [
    "Returns $\\mathbf{w}$, $\\mathbf{\\hat{y}}$, squared errors, and the sum of squared errors"
   ]
  },
  {
   "cell_type": "code",
   "execution_count": 15,
   "metadata": {},
   "outputs": [
    {
     "name": "stdout",
     "output_type": "stream",
     "text": [
      "Regularized\n"
     ]
    },
    {
     "data": {
      "text/plain": [
       "(array([9.52070438, 0.03414155, 0.0341557 ]),\n",
       " array([2533.85561432, 2988.71534485, 1081.37785318, 2483.99861683,\n",
       "        2054.68206036, 2781.56976487, 5149.23076763, 2584.94196244,\n",
       "        2119.83764338, 1750.14459212, 2570.46294399, 2768.59328607,\n",
       "        5070.68892227, 5249.62773518, 1260.52155786]),\n",
       " array([9.52068935e+02, 1.07889594e+01, 1.55061532e+03, 9.00830092e+00,\n",
       "        1.65503003e+03, 5.48975918e+02, 7.60920682e+03, 3.37073573e+03,\n",
       "        3.79746391e+01, 1.14618864e+03, 4.97547627e+03, 6.72513264e+00,\n",
       "        5.61165038e+02, 3.89029942e+03, 2.07221223e+03]),\n",
       " 28396.471388528058)"
      ]
     },
     "execution_count": 15,
     "metadata": {},
     "output_type": "execute_result"
    }
   ],
   "source": [
    "w, y_hat, se, sse = regression_array(X, y, reg=0.01)\n",
    "w, y_hat, se, sse"
   ]
  },
  {
   "cell_type": "markdown",
   "metadata": {},
   "source": [
    "### Pseudo-inverse with a Quasisingular Matrix"
   ]
  },
  {
   "cell_type": "markdown",
   "metadata": {},
   "source": [
    "We now try regularization with a quasi singular matrix"
   ]
  },
  {
   "cell_type": "code",
   "execution_count": 16,
   "metadata": {},
   "outputs": [
    {
     "name": "stdout",
     "output_type": "stream",
     "text": [
      "Trying regularization with a quasi singular matrix\n"
     ]
    },
    {
     "data": {
      "text/plain": [
       "(array([[1.0000e+00, 3.6961e+04, 3.6961e+04],\n",
       "        [1.0000e+00, 4.3621e+04, 4.3621e+04],\n",
       "        [1.0000e+00, 1.5694e+04, 1.5694e+04],\n",
       "        [1.0000e+00, 3.6231e+04, 3.6231e+04],\n",
       "        [1.0000e+00, 2.9945e+04, 2.9945e+04],\n",
       "        [1.0000e+00, 4.0588e+04, 4.0588e+04],\n",
       "        [1.0000e+00, 7.5255e+04, 7.5255e+04],\n",
       "        [1.0000e+00, 3.7709e+04, 3.7709e+04],\n",
       "        [1.0000e+00, 3.0899e+04, 3.0899e+04],\n",
       "        [1.0000e+00, 2.5486e+04, 2.5486e+04],\n",
       "        [1.0000e+00, 3.7497e+04, 3.7497e+04],\n",
       "        [1.0000e+00, 4.0398e+04, 4.0398e+04],\n",
       "        [1.0000e+00, 7.4105e+04, 7.4105e+04],\n",
       "        [1.0000e+00, 7.6725e+04, 7.6725e+04],\n",
       "        [1.0000e+00, 1.8317e+04, 1.8317e+04]]),\n",
       " array([2503., 2992., 1042., 2487., 2014., 2805., 5062., 2643., 2126.,\n",
       "        1784., 2641., 2766., 5047., 5312., 1215.]))"
      ]
     },
     "execution_count": 16,
     "metadata": {},
     "output_type": "execute_result"
    }
   ],
   "source": [
    "print('Trying regularization with a quasi singular matrix')\n",
    "np.set_printoptions(precision=10)\n",
    "X = np.array(stat_fr_sing)[:, :-1]\n",
    "y = np.array(stat_fr_sing)[:, -1]\n",
    "X, y"
   ]
  },
  {
   "cell_type": "code",
   "execution_count": 17,
   "metadata": {},
   "outputs": [
    {
     "data": {
      "text/plain": [
       "(array([[1.0000000000e+00, 3.6961000000e+04, 3.6960999999e+04],\n",
       "        [1.0000000000e+00, 4.3621000000e+04, 4.3621000000e+04],\n",
       "        [1.0000000000e+00, 1.5694000000e+04, 1.5694000000e+04],\n",
       "        [1.0000000000e+00, 3.6231000000e+04, 3.6231000000e+04],\n",
       "        [1.0000000000e+00, 2.9945000000e+04, 2.9945000000e+04],\n",
       "        [1.0000000000e+00, 4.0588000000e+04, 4.0588000000e+04],\n",
       "        [1.0000000000e+00, 7.5255000000e+04, 7.5255000000e+04],\n",
       "        [1.0000000000e+00, 3.7709000000e+04, 3.7709000000e+04],\n",
       "        [1.0000000000e+00, 3.0899000000e+04, 3.0899000000e+04],\n",
       "        [1.0000000000e+00, 2.5486000000e+04, 2.5486000000e+04],\n",
       "        [1.0000000000e+00, 3.7497000000e+04, 3.7497000000e+04],\n",
       "        [1.0000000000e+00, 4.0398000000e+04, 4.0398000000e+04],\n",
       "        [1.0000000000e+00, 7.4105000000e+04, 7.4105000000e+04],\n",
       "        [1.0000000000e+00, 7.6725000000e+04, 7.6725000000e+04],\n",
       "        [1.0000000000e+00, 1.8317000000e+04, 1.8317000000e+04]]),\n",
       " array([2503., 2992., 1042., 2487., 2014., 2805., 5062., 2643., 2126.,\n",
       "        1784., 2641., 2766., 5047., 5312., 1215.]))"
      ]
     },
     "execution_count": 17,
     "metadata": {},
     "output_type": "execute_result"
    }
   ],
   "source": [
    "X[0][2] -= 0.000001\n",
    "X, y"
   ]
  },
  {
   "cell_type": "markdown",
   "metadata": {},
   "source": [
    "Even if the matrix is not mathematically singular, we have an unstable result with very high weights and an astronomic loss."
   ]
  },
  {
   "cell_type": "code",
   "execution_count": 18,
   "metadata": {},
   "outputs": [
    {
     "data": {
      "text/plain": [
       "(array([ 1.3226473677e+09,  4.2694510686e+08, -4.2691951745e+08]),\n",
       " array([2.2684579035e+09, 2.4388829338e+09, 1.7242475368e+09,\n",
       "        2.2497772088e+09, 2.0889221901e+09, 2.3612702594e+09,\n",
       "        3.2483782663e+09, 2.2875983538e+09, 2.1133344853e+09,\n",
       "        1.9748190199e+09, 2.2821733993e+09, 2.3564082719e+09,\n",
       "        3.2189504471e+09, 3.2859946960e+09, 1.7913685540e+09]),\n",
       " array([5.1458899041e+18, 5.9481353706e+18, 2.9730259748e+18,\n",
       "        5.0614862986e+18, 4.3635875021e+18, 5.5755839911e+18,\n",
       "        1.0551928474e+19, 5.2330941359e+18, 4.4661736610e+18,\n",
       "        3.8999031151e+18, 5.2083033699e+18, 5.5526469080e+18,\n",
       "        1.0361609489e+19, 1.0797726232e+19, 3.2089969431e+18]),\n",
       " 8.834809136928634e+19)"
      ]
     },
     "execution_count": 18,
     "metadata": {},
     "output_type": "execute_result"
    }
   ],
   "source": [
    "# No regularization\n",
    "w, y_hat, se, sse = regression_array(X, y)\n",
    "w, y_hat, se, sse"
   ]
  },
  {
   "cell_type": "markdown",
   "metadata": {},
   "source": [
    "### With Regularization"
   ]
  },
  {
   "cell_type": "markdown",
   "metadata": {},
   "source": [
    "A small regularization adds stability and results in a loss that is the same as with a nonsingular matrix"
   ]
  },
  {
   "cell_type": "code",
   "execution_count": 19,
   "metadata": {},
   "outputs": [
    {
     "name": "stdout",
     "output_type": "stream",
     "text": [
      "Regularized\n"
     ]
    },
    {
     "data": {
      "text/plain": [
       "(array([8.5636391053, 0.0326285402, 0.0356675581]),\n",
       " array([2532.8557258994, 2987.707740174 , 1080.4026047909, 2482.9995742242,\n",
       "        2053.6903007248, 2780.5656742301, 5148.1865117108, 2583.9412074141,\n",
       "        2118.8447784401, 1749.157998699 , 2569.4624345885, 2767.5894155656,\n",
       "        5069.6459987417, 5248.5817761149, 1259.5432704589]),\n",
       " array([8.9136436898e+02, 1.8423494414e+01, 1.4747600547e+03,\n",
       "        1.6003406388e+01, 1.5753199716e+03, 5.9703627583e+02,\n",
       "        7.4281148009e+03, 3.4879409817e+03, 5.1197195572e+01,\n",
       "        1.2139650547e+03, 5.1176232650e+03, 2.5262418401e+00,\n",
       "        5.1284125901e+02, 4.0218711207e+03, 1.9841029432e+03]),\n",
       " 28393.090434533944)"
      ]
     },
     "execution_count": 19,
     "metadata": {},
     "output_type": "execute_result"
    }
   ],
   "source": [
    "# With regularization\n",
    "w, y_hat, se, sse = regression_array(X, y, reg=0.01)\n",
    "w, y_hat, se, sse"
   ]
  }
 ],
 "metadata": {
  "anaconda-cloud": {},
  "kernelspec": {
   "display_name": "Python 3",
   "language": "python",
   "name": "python3"
  },
  "language_info": {
   "codemirror_mode": {
    "name": "ipython",
    "version": 3
   },
   "file_extension": ".py",
   "mimetype": "text/x-python",
   "name": "python",
   "nbconvert_exporter": "python",
   "pygments_lexer": "ipython3",
   "version": "3.8.5"
  }
 },
 "nbformat": 4,
 "nbformat_minor": 4
}
