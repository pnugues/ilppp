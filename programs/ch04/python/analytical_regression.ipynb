{
 "cells": [
  {
   "cell_type": "markdown",
   "metadata": {},
   "source": [
    "# Analytical Regression\n",
    "Computing a regression using preudo-inverse matrices\n",
    "\n",
    "Author: Pierre Nugues"
   ]
  },
  {
   "cell_type": "markdown",
   "metadata": {},
   "source": [
    "## The modules"
   ]
  },
  {
   "cell_type": "code",
   "execution_count": null,
   "metadata": {},
   "outputs": [],
   "source": [
    "%matplotlib inline\n",
    "import matplotlib.pyplot as plt\n",
    "import numpy as np"
   ]
  },
  {
   "cell_type": "markdown",
   "metadata": {},
   "source": [
    "## The Functions"
   ]
  },
  {
   "cell_type": "markdown",
   "metadata": {},
   "source": [
    "### Pseudo-inverse with a numpy `matrix`"
   ]
  },
  {
   "cell_type": "code",
   "execution_count": null,
   "metadata": {},
   "outputs": [],
   "source": [
    "def regression_matrix(X, y, reg=0.0):\n",
    "    \"\"\"\n",
    "    Computes the regression using numpy matrices\n",
    "    :param observations, regularization\n",
    "    :return: weights, ŷ, se, sse\n",
    "    \"\"\"\n",
    "    if reg != 0.0:\n",
    "        print('Regularized')\n",
    "    I = np.identity(X.shape[1])\n",
    "    w = (X.T * X + reg * I).I * X.T * y\n",
    "    y_hat = X * w\n",
    "    se = np.square(y_hat - y)\n",
    "    sse = (y_hat - y).T * (y_hat - y)\n",
    "    return w, y_hat, se, sse"
   ]
  },
  {
   "cell_type": "markdown",
   "metadata": {},
   "source": [
    "### Pseudo-inverse with a numpy `array`"
   ]
  },
  {
   "cell_type": "code",
   "execution_count": null,
   "metadata": {},
   "outputs": [],
   "source": [
    "def regression_array(X, y, reg=0.0):\n",
    "    \"\"\"\n",
    "    Computes the regression using numpy arrays\n",
    "    :param observations:\n",
    "    :return: weights, ŷ, sse\n",
    "    \"\"\"\n",
    "    if reg != 0.0:\n",
    "        print('Regularized')\n",
    "    I = np.identity(X.shape[1])\n",
    "    w = (np.linalg.inv(X.T @ X + reg * I) @ X.T) @ y\n",
    "    # Or directly with pinv()\n",
    "    # w = np.linalg.pinv(X) @ y\n",
    "    y_hat = X @ w\n",
    "    se = (y_hat - y) * (y_hat - y)\n",
    "    sse = (y_hat - y).T @ (y_hat - y)\n",
    "    return w, y_hat, se, sse"
   ]
  },
  {
   "cell_type": "markdown",
   "metadata": {},
   "source": [
    "## The Dataset"
   ]
  },
  {
   "cell_type": "markdown",
   "metadata": {},
   "source": [
    "The number of characters and number of _a_ in the French and English chapters"
   ]
  },
  {
   "cell_type": "code",
   "execution_count": null,
   "metadata": {},
   "outputs": [],
   "source": [
    "stat_fr = np.array([[36961, 2503],\n",
    "                      [43621, 2992],\n",
    "                      [15694, 1042],\n",
    "                      [36231, 2487],\n",
    "                      [29945, 2014],\n",
    "                      [40588, 2805],\n",
    "                      [75255, 5062],\n",
    "                      [37709, 2643],\n",
    "                      [30899, 2126],\n",
    "                      [25486, 1784],\n",
    "                      [37497, 2641],\n",
    "                      [40398, 2766],\n",
    "                      [74105, 5047],\n",
    "                      [76725, 5312],\n",
    "                      [18317, 1215]])\n",
    "\n",
    "stat_en = np.array([[35680, 2217],\n",
    "                      [42514, 2761],\n",
    "                      [15162, 990],\n",
    "                      [35298, 2274],\n",
    "                      [29800, 1865],\n",
    "                      [40255, 2606],\n",
    "                      [74532, 4805],\n",
    "                      [37464, 2396],\n",
    "                      [31030, 1993],\n",
    "                      [24843, 1627],\n",
    "                      [36172, 2375],\n",
    "                      [39552, 2560],\n",
    "                      [72545, 4597],\n",
    "                      [75352, 4871],\n",
    "                      [18031, 1119]])"
   ]
  },
  {
   "cell_type": "code",
   "execution_count": null,
   "metadata": {},
   "outputs": [],
   "source": [
    "stat_fr.shape"
   ]
  },
  {
   "cell_type": "code",
   "execution_count": null,
   "metadata": {},
   "outputs": [],
   "source": [
    "np.ones((stat_fr.shape[0],1))"
   ]
  },
  {
   "cell_type": "code",
   "execution_count": null,
   "metadata": {},
   "outputs": [],
   "source": [
    "stat_fr = np.hstack((np.ones((stat_fr.shape[0],1)), stat_fr))\n",
    "stat_fr"
   ]
  },
  {
   "cell_type": "code",
   "execution_count": null,
   "metadata": {},
   "outputs": [],
   "source": [
    "stat_en = np.hstack((np.ones((stat_en.shape[0],1)), stat_en))\n",
    "stat_en"
   ]
  },
  {
   "cell_type": "markdown",
   "metadata": {},
   "source": [
    "## Computing the Regression Using `array`"
   ]
  },
  {
   "cell_type": "code",
   "execution_count": null,
   "metadata": {},
   "outputs": [],
   "source": [
    "pattern = [('red', 's'), ('green', '^')]\n",
    "lang = [None] * 2"
   ]
  },
  {
   "cell_type": "code",
   "execution_count": null,
   "metadata": {},
   "outputs": [],
   "source": [
    "for i, stats in enumerate([stat_en, stat_fr]):\n",
    "    x_l = stats[:, 1]\n",
    "    y_l = stats[:, -1]\n",
    "    lang[i] = plt.scatter(x_l, y_l, color=pattern[i][0], marker=pattern[i][1])\n",
    "    X = stats[:, :-1]\n",
    "    y =stats[:, -1:]\n",
    "    w, y_hat, se, sse = regression_array(X, y)\n",
    "    print('Language:', i)\n",
    "    print('X:', X)\n",
    "    print('y:', y)\n",
    "    print('ŷ:', y_hat)\n",
    "    print('Squared errors:', se)\n",
    "    print(\"Weights\", w.T)\n",
    "    print(\"SSE\", sse)\n",
    "    plt.plot([min(x_l), max(x_l)],\n",
    "             [([1, min(x_l)] @ w), ([1, max(x_l)] @ w)],\n",
    "             color=pattern[i][0])\n",
    "plt.title(\"Salammbô\")\n",
    "plt.xlabel(\"Letter count\")\n",
    "plt.ylabel(\"A count\")\n",
    "plt.legend((lang[0], lang[1]), ('English', 'French'), loc='lower right', scatterpoints=1)\n",
    "plt.show()"
   ]
  },
  {
   "cell_type": "markdown",
   "metadata": {},
   "source": [
    "## Computing the Regression Using `matrix`"
   ]
  },
  {
   "cell_type": "code",
   "execution_count": null,
   "metadata": {},
   "outputs": [],
   "source": [
    "for i, stats in enumerate([stat_en, stat_fr]):\n",
    "    x_l = stats[:, 1]\n",
    "    y_l = stats[:, -1]\n",
    "    lang[i] = plt.scatter(x_l, y_l, color=pattern[i][0], marker=pattern[i][1])\n",
    "    X = np.matrix(stats[:, :-1])\n",
    "    y = np.matrix(stats[:, -1:])\n",
    "    w, y_hat, se, sse = regression_matrix(X, y)\n",
    "    print('Language:', i)\n",
    "    print('X:', X)\n",
    "    print('y:', y)\n",
    "    print('ŷ:', y_hat)\n",
    "    print('Squared errors:', se)\n",
    "    print(\"Weights\", w.T)\n",
    "    print(\"SSE\", sse)\n",
    "\n",
    "    w = np.array(w)\n",
    "    plt.plot([min(x_l), max(x_l)],\n",
    "             [([1, min(x_l)] @ w), ([1, max(x_l)] @ w)],\n",
    "             color=pattern[i][0])\n",
    "plt.title(\"Salammbô\")\n",
    "plt.xlabel(\"Letter count\")\n",
    "plt.ylabel(\"A count\")\n",
    "plt.legend((lang[0], lang[1]), ('English', 'French'), loc='lower right', scatterpoints=1)\n",
    "plt.show()"
   ]
  },
  {
   "cell_type": "markdown",
   "metadata": {},
   "source": [
    "## Singular Matrix"
   ]
  },
  {
   "cell_type": "markdown",
   "metadata": {},
   "source": [
    "We now introduce a singular matrix, something all too frequent in regression experiments. We just duplicate one column."
   ]
  },
  {
   "cell_type": "code",
   "execution_count": null,
   "metadata": {},
   "outputs": [],
   "source": [
    "stat_fr"
   ]
  },
  {
   "cell_type": "code",
   "execution_count": null,
   "metadata": {},
   "outputs": [],
   "source": [
    "stat_fr_sing = np.hstack((stat_fr[:, :-1], stat_fr[:, -2:-1], stat_fr[:, -1:]))\n",
    "stat_fr_sing"
   ]
  },
  {
   "cell_type": "code",
   "execution_count": null,
   "metadata": {},
   "outputs": [],
   "source": [
    "print('Trying regularization with a singular matrix')\n",
    "# Creation of a singular matrix by duplicating a column\n",
    "X = np.array(stat_fr_sing)[:, :-1]\n",
    "y = np.array(stat_fr_sing)[:, -1]\n",
    "print('X:', X)\n",
    "print('y:', y)\n",
    "try:\n",
    "    regression_array(X, y)\n",
    "except:\n",
    "    print(np.linalg.linalg.LinAlgError)\n",
    "    print(\"Singular matrix: Could not be inverted.\")"
   ]
  },
  {
   "cell_type": "markdown",
   "metadata": {},
   "source": [
    "### Singular Matrix with Regularization"
   ]
  },
  {
   "cell_type": "markdown",
   "metadata": {},
   "source": [
    "Returns $\\mathbf{w}$, $\\mathbf{\\hat{y}}$, squared errors, and the sum of squared errors"
   ]
  },
  {
   "cell_type": "code",
   "execution_count": null,
   "metadata": {},
   "outputs": [],
   "source": [
    "w, y_hat, se, sse = regression_array(X, y, reg=0.01)\n",
    "w, y_hat, se, sse"
   ]
  },
  {
   "cell_type": "markdown",
   "metadata": {},
   "source": [
    "### Pseudo-inverse with a Quasisingular Matrix"
   ]
  },
  {
   "cell_type": "markdown",
   "metadata": {},
   "source": [
    "We now try regularization with a quasi singular matrix"
   ]
  },
  {
   "cell_type": "code",
   "execution_count": null,
   "metadata": {},
   "outputs": [],
   "source": [
    "print('Trying regularization with a quasi singular matrix')\n",
    "np.set_printoptions(precision=10)\n",
    "X = np.array(stat_fr_sing)[:, :-1]\n",
    "y = np.array(stat_fr_sing)[:, -1]\n",
    "X, y"
   ]
  },
  {
   "cell_type": "code",
   "execution_count": null,
   "metadata": {},
   "outputs": [],
   "source": [
    "X[0][2] -= 0.000001\n",
    "X, y"
   ]
  },
  {
   "cell_type": "markdown",
   "metadata": {},
   "source": [
    "Even if the matrix is not mathematically singular, we have an unstable result with very high weights and an astronomic loss."
   ]
  },
  {
   "cell_type": "code",
   "execution_count": null,
   "metadata": {},
   "outputs": [],
   "source": [
    "# No regularization\n",
    "w, y_hat, se, sse = regression_array(X, y)\n",
    "w, y_hat, se, sse"
   ]
  },
  {
   "cell_type": "markdown",
   "metadata": {},
   "source": [
    "### With Regularization"
   ]
  },
  {
   "cell_type": "markdown",
   "metadata": {},
   "source": [
    "A small regularization adds stability and results in a loss that is the same as with a nonsingular matrix"
   ]
  },
  {
   "cell_type": "code",
   "execution_count": null,
   "metadata": {},
   "outputs": [],
   "source": [
    "# With regularization\n",
    "w, y_hat, se, sse = regression_array(X, y, reg=0.01)\n",
    "w, y_hat, se, sse"
   ]
  },
  {
   "cell_type": "code",
   "execution_count": null,
   "metadata": {},
   "outputs": [],
   "source": []
  }
 ],
 "metadata": {
  "anaconda-cloud": {},
  "kernelspec": {
   "display_name": "Python 3",
   "language": "python",
   "name": "python3"
  },
  "language_info": {
   "codemirror_mode": {
    "name": "ipython",
    "version": 3
   },
   "file_extension": ".py",
   "mimetype": "text/x-python",
   "name": "python",
   "nbconvert_exporter": "python",
   "pygments_lexer": "ipython3",
   "version": "3.8.5"
  }
 },
 "nbformat": 4,
 "nbformat_minor": 4
}
