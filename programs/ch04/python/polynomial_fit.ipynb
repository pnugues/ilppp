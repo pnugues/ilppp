{
 "cells": [
  {
   "cell_type": "markdown",
   "metadata": {},
   "source": [
    "# Polynomial fit\n",
    "Author: Pierre Nugues"
   ]
  },
  {
   "cell_type": "markdown",
   "metadata": {},
   "source": [
    "## The modules"
   ]
  },
  {
   "cell_type": "code",
   "execution_count": null,
   "metadata": {},
   "outputs": [],
   "source": [
    "%matplotlib inline\n",
    "import matplotlib.pyplot as plt\n",
    "import numpy as np"
   ]
  },
  {
   "cell_type": "markdown",
   "metadata": {},
   "source": [
    "## The dataset"
   ]
  },
  {
   "cell_type": "markdown",
   "metadata": {},
   "source": [
    "The data set: _Salammbô_ in French with three columns: the counts of characters, counts of _a_ and _e_"
   ]
  },
  {
   "cell_type": "code",
   "execution_count": null,
   "metadata": {},
   "outputs": [],
   "source": [
    "dataset = np.array([[36961, 2503, 4312],\n",
    "                    [43621, 2992, 4993],\n",
    "                    [15694, 1042, 1785],\n",
    "                    [36231, 2487, 4158],\n",
    "                    [29945, 2014, 3394],\n",
    "                    [40588, 2805, 4535],\n",
    "                    [75255, 5062, 8512],\n",
    "                    [37709, 2643, 4229],\n",
    "                    [30899, 2126, 3599],\n",
    "                    [25486, 1784, 3002],\n",
    "                    [37497, 2641, 4306],\n",
    "                    [40398, 2766, 4618],\n",
    "                    [74105, 5047, 8678],\n",
    "                    [76725, 5312, 8870],\n",
    "                    [18317, 1215, 2195]])"
   ]
  },
  {
   "cell_type": "markdown",
   "metadata": {},
   "source": [
    "We extract the points: $\\mathbf{x}$ forms the predictors (features), here a vector of one feature, and $y$ the response. For a complete dataset, we have the notations: $\\mathbf{X}$ and $\\mathbf{y}$."
   ]
  },
  {
   "cell_type": "code",
   "execution_count": null,
   "metadata": {
    "collapsed": false,
    "jupyter": {
     "outputs_hidden": false
    }
   },
   "outputs": [],
   "source": [
    "x = dataset[:, 0]\n",
    "y = dataset[:, 1]\n",
    "x, y"
   ]
  },
  {
   "cell_type": "markdown",
   "metadata": {},
   "source": [
    "## Fitting"
   ]
  },
  {
   "cell_type": "markdown",
   "metadata": {},
   "source": [
    "Fitting the data set with polynomials"
   ]
  },
  {
   "cell_type": "code",
   "execution_count": null,
   "metadata": {
    "collapsed": false,
    "jupyter": {
     "outputs_hidden": false
    }
   },
   "outputs": [],
   "source": [
    "# The polynomial degrees we will test and their color\n",
    "degrees_col = [(1, 'r-'), (8, 'b-'), (9, 'g-')]\n",
    "\n",
    "f, axes = plt.subplots(len(degrees_col), sharex=True, sharey=True)\n",
    "x_vals = np.linspace(min(x), max(x), 1000)\n",
    "\n",
    "for idx, (degree, color) in enumerate(degrees_col):\n",
    "    axes[idx].scatter(x, y)\n",
    "    # We find the fitting coefficients\n",
    "    z = np.polyfit(x, y, degree)\n",
    "    # We use them to create a polynomial\n",
    "    p = np.poly1d(z)\n",
    "    legend = axes[idx].plot(x_vals, p(x_vals), color)\n",
    "plt.show()"
   ]
  },
  {
   "cell_type": "code",
   "execution_count": null,
   "metadata": {},
   "outputs": [],
   "source": []
  }
 ],
 "metadata": {
  "anaconda-cloud": {},
  "kernelspec": {
   "display_name": "Python 3",
   "language": "python",
   "name": "python3"
  },
  "language_info": {
   "codemirror_mode": {
    "name": "ipython",
    "version": 3
   },
   "file_extension": ".py",
   "mimetype": "text/x-python",
   "name": "python",
   "nbconvert_exporter": "python",
   "pygments_lexer": "ipython3",
   "version": "3.8.5"
  }
 },
 "nbformat": 4,
 "nbformat_minor": 4
}
