{
 "cells": [
  {
   "cell_type": "markdown",
   "id": "passive-federation",
   "metadata": {},
   "source": [
    "# Visualizing the log-likelihood\n",
    "Author: Pierre Nugues\n",
    "\n",
    "Data set from the original paper on logistic regression:\n",
    "Joseph Berkson, Application of the Logistic Function to Bio-Assay. _Journal of the American Statistical Association_ (1944).\n"
   ]
  },
  {
   "cell_type": "markdown",
   "id": "actual-referral",
   "metadata": {},
   "source": [
    "## Imports"
   ]
  },
  {
   "cell_type": "code",
   "execution_count": 1,
   "id": "mighty-longitude",
   "metadata": {},
   "outputs": [],
   "source": [
    "from math import log10, sqrt, exp, log\n",
    "import matplotlib.pyplot as plt\n",
    "import numpy as np\n",
    "from matplotlib import cm\n",
    "from mpl_toolkits.mplot3d import Axes3D"
   ]
  },
  {
   "cell_type": "markdown",
   "id": "pacific-event",
   "metadata": {},
   "source": [
    "## Dataset"
   ]
  },
  {
   "cell_type": "code",
   "execution_count": 2,
   "id": "aware-catering",
   "metadata": {},
   "outputs": [],
   "source": [
    "doses = [40, 60, 80, 100, 120, 140, 160, 180, 200, 250, 300]\n",
    "exposed = [462, 500, 467, 515, 561, 469, 550, 542, 479, 497, 453]\n",
    "mortality = [109, 199, 298, 370, 459, 400, 495, 499, 450, 476, 442]"
   ]
  },
  {
   "cell_type": "markdown",
   "id": "otherwise-basketball",
   "metadata": {},
   "source": [
    "Berkson used the log of the dose as input"
   ]
  },
  {
   "cell_type": "code",
   "execution_count": 3,
   "id": "pressed-discrimination",
   "metadata": {},
   "outputs": [],
   "source": [
    "log_doses = [log10(doses[i]) for i in range(0, len(doses))]"
   ]
  },
  {
   "cell_type": "code",
   "execution_count": 4,
   "id": "static-tobago",
   "metadata": {},
   "outputs": [],
   "source": [
    "dataset = []\n",
    "for dose, deads, guinea_pigs in zip(log_doses, mortality, exposed):\n",
    "    survivers = guinea_pigs - deads\n",
    "    dataset += [[1, dose, 1]] * deads\n",
    "    dataset += [[1, dose, 0]] * survivers\n",
    "dataset = np.array(dataset)"
   ]
  },
  {
   "cell_type": "markdown",
   "id": "champion-firmware",
   "metadata": {},
   "source": [
    "We extract $\\mathbf{X}$ and $\\mathbf{y}$"
   ]
  },
  {
   "cell_type": "code",
   "execution_count": 5,
   "id": "sustainable-rebate",
   "metadata": {},
   "outputs": [],
   "source": [
    "X = dataset[:, :2]\n",
    "y = dataset[:, 2]"
   ]
  },
  {
   "cell_type": "markdown",
   "id": "directed-flavor",
   "metadata": {},
   "source": [
    "## Observed and predicted mortality rates"
   ]
  },
  {
   "cell_type": "markdown",
   "id": "hundred-genetics",
   "metadata": {},
   "source": [
    "Observed"
   ]
  },
  {
   "cell_type": "code",
   "execution_count": 6,
   "id": "solar-survey",
   "metadata": {},
   "outputs": [],
   "source": [
    "mortality_rate = [mortality[i] / exposed[i] for i in range(0, len(doses))]"
   ]
  },
  {
   "cell_type": "markdown",
   "id": "voluntary-quarterly",
   "metadata": {},
   "source": [
    "Predicted with Berkson's weights"
   ]
  },
  {
   "cell_type": "code",
   "execution_count": 7,
   "id": "fantastic-flooring",
   "metadata": {},
   "outputs": [],
   "source": [
    "def logistic(x):\n",
    "    try:\n",
    "        return 1 / (1 + exp(-x))\n",
    "    except:\n",
    "        return 0"
   ]
  },
  {
   "cell_type": "code",
   "execution_count": 8,
   "id": "static-fortune",
   "metadata": {},
   "outputs": [
    {
     "name": "stdout",
     "output_type": "stream",
     "text": [
      "0.22052124873047899\n",
      "0.4338894563263248\n",
      "0.6085263344566239\n",
      "0.7290104880567649\n",
      "0.8081065642702773\n",
      "0.8601643372767527\n",
      "0.8951889169082097\n",
      "0.9194120710886585\n",
      "0.9366337718686847\n",
      "0.9623790518998072\n",
      "0.9756362419780996\n"
     ]
    }
   ],
   "source": [
    "berkson_weights = np.array([-10.329884, 5.659746])\n",
    "for dose in log_doses:\n",
    "    print(logistic(np.dot(np.array([1, dose]), berkson_weights)))"
   ]
  },
  {
   "cell_type": "markdown",
   "id": "certified-chosen",
   "metadata": {},
   "source": [
    "## The log-lilelihood"
   ]
  },
  {
   "cell_type": "markdown",
   "id": "driven-alias",
   "metadata": {},
   "source": [
    "We compute the log-likelihood of a weight vector"
   ]
  },
  {
   "cell_type": "code",
   "execution_count": 9,
   "id": "derived-specific",
   "metadata": {},
   "outputs": [],
   "source": [
    "def compute_log_likelihood(X, y, w):\n",
    "    \"\"\"\n",
    "    Computes the likelihood of a partition given the weights\n",
    "    :param X: The observations\n",
    "    :param y: The class\n",
    "    :param w0:\n",
    "    :param w1:\n",
    "    :param w2:\n",
    "    :return:\n",
    "    \"\"\"\n",
    "    p_hat = list(map(logistic, np.dot(X, w)))\n",
    "    likelihood = 0\n",
    "    for i in range(len(p_hat)):\n",
    "        try:\n",
    "            if y[i] == 1:\n",
    "                likelihood += log(p_hat[i])\n",
    "            else:  # If in class 0, the prob. to be in this class is 1 - P\n",
    "                likelihood += log(1 - p_hat[i])\n",
    "        except:\n",
    "            likelihood += -100\n",
    "    return likelihood / X.shape[0]"
   ]
  },
  {
   "cell_type": "code",
   "execution_count": 10,
   "id": "union-kuwait",
   "metadata": {},
   "outputs": [
    {
     "data": {
      "text/plain": [
       "-0.40810663021936744"
      ]
     },
     "execution_count": 10,
     "metadata": {},
     "output_type": "execute_result"
    }
   ],
   "source": [
    "compute_log_likelihood(X, y, berkson_weights)"
   ]
  },
  {
   "cell_type": "markdown",
   "id": "enabling-authorization",
   "metadata": {},
   "source": [
    "Any other weight vector should have a lower likelihood"
   ]
  },
  {
   "cell_type": "code",
   "execution_count": 11,
   "id": "dangerous-perth",
   "metadata": {},
   "outputs": [
    {
     "data": {
      "text/plain": [
       "-1.6972853646230504"
      ]
     },
     "execution_count": 11,
     "metadata": {},
     "output_type": "execute_result"
    }
   ],
   "source": [
    "alt_weights = np.array([-100, 50.])\n",
    "compute_log_likelihood(X, y, alt_weights)"
   ]
  },
  {
   "cell_type": "markdown",
   "id": "cardiovascular-princeton",
   "metadata": {},
   "source": [
    "## Likelihood surface"
   ]
  },
  {
   "cell_type": "markdown",
   "id": "worst-viking",
   "metadata": {},
   "source": [
    "We plot the likelihood surface for weights around the optimal ones"
   ]
  },
  {
   "cell_type": "code",
   "execution_count": 12,
   "id": "statutory-median",
   "metadata": {},
   "outputs": [],
   "source": [
    "def plot_likelihood_surf(w0_range, w1_range):\n",
    "    z_axis = np.array([[0.0] * len(w1_range) for i in range(len(w0_range))])\n",
    "    x_axis, y_axis = np.meshgrid(w0_range, w1_range)\n",
    "    z_axis = z_axis.reshape(x_axis.shape)\n",
    "\n",
    "    for i in range(len(w0_range)):\n",
    "        for j in range(len(w1_range)):\n",
    "            z_axis[j, i] = compute_log_likelihood(X, y, [w0_range[i], w1_range[j]])\n",
    "    return x_axis, y_axis, z_axis"
   ]
  },
  {
   "cell_type": "code",
   "execution_count": 13,
   "id": "living-broadcasting",
   "metadata": {},
   "outputs": [],
   "source": [
    "w0_range = np.linspace(-15, -8, 20)\n",
    "w1_range = np.linspace(0, 20, 20)"
   ]
  },
  {
   "cell_type": "code",
   "execution_count": 14,
   "id": "based-consciousness",
   "metadata": {},
   "outputs": [],
   "source": [
    "x_axis, y_axis, z_axis = plot_likelihood_surf(w0_range, w1_range)"
   ]
  },
  {
   "cell_type": "code",
   "execution_count": 15,
   "id": "superior-system",
   "metadata": {},
   "outputs": [
    {
     "data": {
      "image/png": "[encoded data removed]",
      "text/plain": [
       "<Figure size 432x288 with 2 Axes>"
      ]
     },
     "metadata": {
      "needs_background": "light"
     },
     "output_type": "display_data"
    }
   ],
   "source": [
    "fig = plt.figure()\n",
    "ax = Axes3D(fig)\n",
    "# ax = fig.gca(projection='3d')\n",
    "surf = ax.plot_surface(y_axis, x_axis, z_axis, rstride=1, cstride=1,\n",
    "                       cmap=cm.coolwarm,\n",
    "                       linewidth=0, antialiased=False)\n",
    "fig.colorbar(surf, shrink=0.5, aspect=5)\n",
    "plt.show()"
   ]
  }
 ],
 "metadata": {
  "kernelspec": {
   "display_name": "Python 3",
   "language": "python",
   "name": "python3"
  },
  "language_info": {
   "codemirror_mode": {
    "name": "ipython",
    "version": 3
   },
   "file_extension": ".py",
   "mimetype": "text/x-python",
   "name": "python",
   "nbconvert_exporter": "python",
   "pygments_lexer": "ipython3",
   "version": "3.8.5"
  }
 },
 "nbformat": 4,
 "nbformat_minor": 5
}
